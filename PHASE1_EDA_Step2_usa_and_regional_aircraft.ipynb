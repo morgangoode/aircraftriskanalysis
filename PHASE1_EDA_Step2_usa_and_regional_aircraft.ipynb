{
  "nbformat": 4,
  "nbformat_minor": 0,
  "metadata": {
    "colab": {
      "provenance": []
    },
    "kernelspec": {
      "name": "python3",
      "display_name": "Python 3"
    },
    "language_info": {
      "name": "python"
    }
  },
  "cells": [
    {
      "cell_type": "markdown",
      "source": [
        "#Making a USA dataframe as well as dataframes for each individual state. \n",
        "The first idea I had was to break it down into regions in order to make the data more digestable and to identify trends. Our group thought that one of our recommendations could involve suggesting the best locations for private airfields. \n",
        "\n",
        "But one of the limitations of the data is that we can't contextualize the number of accidents/incidents with flight volume. All the data we have is on accidents/incidents. This means that we don't have enough information to be able to recommend the best states for private flying.  However, this exercise still proved useful in getting to know the data. \n",
        "\n"
      ],
      "metadata": {
        "id": "dUPmZYptTGJV"
      }
    },
    {
      "cell_type": "code",
      "execution_count": null,
      "metadata": {
        "colab": {
          "base_uri": "https://localhost:8080/",
          "height": 73
        },
        "id": "K-65NsVCzf80",
        "outputId": "fc8732cc-2b13-4f88-996d-bd6f83e2aa92"
      },
      "outputs": [
        {
          "output_type": "display_data",
          "data": {
            "text/plain": [
              "<IPython.core.display.HTML object>"
            ],
            "text/html": [
              "\n",
              "     <input type=\"file\" id=\"files-b0a017e0-320e-4d34-91aa-10229a341a74\" name=\"files[]\" multiple disabled\n",
              "        style=\"border:none\" />\n",
              "     <output id=\"result-b0a017e0-320e-4d34-91aa-10229a341a74\">\n",
              "      Upload widget is only available when the cell has been executed in the\n",
              "      current browser session. Please rerun this cell to enable.\n",
              "      </output>\n",
              "      <script>// Copyright 2017 Google LLC\n",
              "//\n",
              "// Licensed under the Apache License, Version 2.0 (the \"License\");\n",
              "// you may not use this file except in compliance with the License.\n",
              "// You may obtain a copy of the License at\n",
              "//\n",
              "//      http://www.apache.org/licenses/LICENSE-2.0\n",
              "//\n",
              "// Unless required by applicable law or agreed to in writing, software\n",
              "// distributed under the License is distributed on an \"AS IS\" BASIS,\n",
              "// WITHOUT WARRANTIES OR CONDITIONS OF ANY KIND, either express or implied.\n",
              "// See the License for the specific language governing permissions and\n",
              "// limitations under the License.\n",
              "\n",
              "/**\n",
              " * @fileoverview Helpers for google.colab Python module.\n",
              " */\n",
              "(function(scope) {\n",
              "function span(text, styleAttributes = {}) {\n",
              "  const element = document.createElement('span');\n",
              "  element.textContent = text;\n",
              "  for (const key of Object.keys(styleAttributes)) {\n",
              "    element.style[key] = styleAttributes[key];\n",
              "  }\n",
              "  return element;\n",
              "}\n",
              "\n",
              "// Max number of bytes which will be uploaded at a time.\n",
              "const MAX_PAYLOAD_SIZE = 100 * 1024;\n",
              "\n",
              "function _uploadFiles(inputId, outputId) {\n",
              "  const steps = uploadFilesStep(inputId, outputId);\n",
              "  const outputElement = document.getElementById(outputId);\n",
              "  // Cache steps on the outputElement to make it available for the next call\n",
              "  // to uploadFilesContinue from Python.\n",
              "  outputElement.steps = steps;\n",
              "\n",
              "  return _uploadFilesContinue(outputId);\n",
              "}\n",
              "\n",
              "// This is roughly an async generator (not supported in the browser yet),\n",
              "// where there are multiple asynchronous steps and the Python side is going\n",
              "// to poll for completion of each step.\n",
              "// This uses a Promise to block the python side on completion of each step,\n",
              "// then passes the result of the previous step as the input to the next step.\n",
              "function _uploadFilesContinue(outputId) {\n",
              "  const outputElement = document.getElementById(outputId);\n",
              "  const steps = outputElement.steps;\n",
              "\n",
              "  const next = steps.next(outputElement.lastPromiseValue);\n",
              "  return Promise.resolve(next.value.promise).then((value) => {\n",
              "    // Cache the last promise value to make it available to the next\n",
              "    // step of the generator.\n",
              "    outputElement.lastPromiseValue = value;\n",
              "    return next.value.response;\n",
              "  });\n",
              "}\n",
              "\n",
              "/**\n",
              " * Generator function which is called between each async step of the upload\n",
              " * process.\n",
              " * @param {string} inputId Element ID of the input file picker element.\n",
              " * @param {string} outputId Element ID of the output display.\n",
              " * @return {!Iterable<!Object>} Iterable of next steps.\n",
              " */\n",
              "function* uploadFilesStep(inputId, outputId) {\n",
              "  const inputElement = document.getElementById(inputId);\n",
              "  inputElement.disabled = false;\n",
              "\n",
              "  const outputElement = document.getElementById(outputId);\n",
              "  outputElement.innerHTML = '';\n",
              "\n",
              "  const pickedPromise = new Promise((resolve) => {\n",
              "    inputElement.addEventListener('change', (e) => {\n",
              "      resolve(e.target.files);\n",
              "    });\n",
              "  });\n",
              "\n",
              "  const cancel = document.createElement('button');\n",
              "  inputElement.parentElement.appendChild(cancel);\n",
              "  cancel.textContent = 'Cancel upload';\n",
              "  const cancelPromise = new Promise((resolve) => {\n",
              "    cancel.onclick = () => {\n",
              "      resolve(null);\n",
              "    };\n",
              "  });\n",
              "\n",
              "  // Wait for the user to pick the files.\n",
              "  const files = yield {\n",
              "    promise: Promise.race([pickedPromise, cancelPromise]),\n",
              "    response: {\n",
              "      action: 'starting',\n",
              "    }\n",
              "  };\n",
              "\n",
              "  cancel.remove();\n",
              "\n",
              "  // Disable the input element since further picks are not allowed.\n",
              "  inputElement.disabled = true;\n",
              "\n",
              "  if (!files) {\n",
              "    return {\n",
              "      response: {\n",
              "        action: 'complete',\n",
              "      }\n",
              "    };\n",
              "  }\n",
              "\n",
              "  for (const file of files) {\n",
              "    const li = document.createElement('li');\n",
              "    li.append(span(file.name, {fontWeight: 'bold'}));\n",
              "    li.append(span(\n",
              "        `(${file.type || 'n/a'}) - ${file.size} bytes, ` +\n",
              "        `last modified: ${\n",
              "            file.lastModifiedDate ? file.lastModifiedDate.toLocaleDateString() :\n",
              "                                    'n/a'} - `));\n",
              "    const percent = span('0% done');\n",
              "    li.appendChild(percent);\n",
              "\n",
              "    outputElement.appendChild(li);\n",
              "\n",
              "    const fileDataPromise = new Promise((resolve) => {\n",
              "      const reader = new FileReader();\n",
              "      reader.onload = (e) => {\n",
              "        resolve(e.target.result);\n",
              "      };\n",
              "      reader.readAsArrayBuffer(file);\n",
              "    });\n",
              "    // Wait for the data to be ready.\n",
              "    let fileData = yield {\n",
              "      promise: fileDataPromise,\n",
              "      response: {\n",
              "        action: 'continue',\n",
              "      }\n",
              "    };\n",
              "\n",
              "    // Use a chunked sending to avoid message size limits. See b/62115660.\n",
              "    let position = 0;\n",
              "    do {\n",
              "      const length = Math.min(fileData.byteLength - position, MAX_PAYLOAD_SIZE);\n",
              "      const chunk = new Uint8Array(fileData, position, length);\n",
              "      position += length;\n",
              "\n",
              "      const base64 = btoa(String.fromCharCode.apply(null, chunk));\n",
              "      yield {\n",
              "        response: {\n",
              "          action: 'append',\n",
              "          file: file.name,\n",
              "          data: base64,\n",
              "        },\n",
              "      };\n",
              "\n",
              "      let percentDone = fileData.byteLength === 0 ?\n",
              "          100 :\n",
              "          Math.round((position / fileData.byteLength) * 100);\n",
              "      percent.textContent = `${percentDone}% done`;\n",
              "\n",
              "    } while (position < fileData.byteLength);\n",
              "  }\n",
              "\n",
              "  // All done.\n",
              "  yield {\n",
              "    response: {\n",
              "      action: 'complete',\n",
              "    }\n",
              "  };\n",
              "}\n",
              "\n",
              "scope.google = scope.google || {};\n",
              "scope.google.colab = scope.google.colab || {};\n",
              "scope.google.colab._files = {\n",
              "  _uploadFiles,\n",
              "  _uploadFilesContinue,\n",
              "};\n",
              "})(self);\n",
              "</script> "
            ]
          },
          "metadata": {}
        },
        {
          "output_type": "stream",
          "name": "stdout",
          "text": [
            "Saving Aviation_Data.csv to Aviation_Data.csv\n"
          ]
        }
      ],
      "source": [
        "# uploading file for flatiron lesson\n",
        "# source: https://towardsdatascience.com/3-ways-to-load-csv-files-into-colab-7c14fcbdcb92\n",
        "from google.colab import files\n",
        "uploaded = files.upload()"
      ]
    },
    {
      "cell_type": "code",
      "source": [
        "import pandas as pd"
      ],
      "metadata": {
        "id": "jOlNHR1Gz7jN"
      },
      "execution_count": null,
      "outputs": []
    },
    {
      "cell_type": "code",
      "source": [
        "# read in the csv as a dataframe using pandas\n",
        "df = pd.read_csv('Aviation_Data.csv')"
      ],
      "metadata": {
        "colab": {
          "base_uri": "https://localhost:8080/"
        },
        "id": "LvlpZ6520SNj",
        "outputId": "9059abbc-8967-4625-85fb-0bedd18cfbd5"
      },
      "execution_count": null,
      "outputs": [
        {
          "output_type": "stream",
          "name": "stderr",
          "text": [
            "<ipython-input-3-10ca297d1239>:1: DtypeWarning: Columns (6,7,28) have mixed types. Specify dtype option on import or set low_memory=False.\n",
            "  df = pd.read_csv('Aviation_Data.csv')\n"
          ]
        }
      ]
    },
    {
      "cell_type": "code",
      "source": [
        "#creating state column, splitting at the comma\n",
        "df['State'] = df['Location'].apply(lambda x: x.split(',')[1].strip() if isinstance(x, str) and ',' in x else None)"
      ],
      "metadata": {
        "id": "96OKPG-q0a9A"
      },
      "execution_count": null,
      "outputs": []
    },
    {
      "cell_type": "code",
      "source": [
        "# sanity check for state column\n",
        "df.columns"
      ],
      "metadata": {
        "colab": {
          "base_uri": "https://localhost:8080/"
        },
        "id": "jr8yxWOl4xoz",
        "outputId": "d5f3d5aa-9a50-4f12-c801-de10236d8f71"
      },
      "execution_count": null,
      "outputs": [
        {
          "output_type": "execute_result",
          "data": {
            "text/plain": [
              "Index(['Event.Id', 'Investigation.Type', 'Accident.Number', 'Event.Date',\n",
              "       'Location', 'Country', 'Latitude', 'Longitude', 'Airport.Code',\n",
              "       'Airport.Name', 'Injury.Severity', 'Aircraft.damage',\n",
              "       'Aircraft.Category', 'Registration.Number', 'Make', 'Model',\n",
              "       'Amateur.Built', 'Number.of.Engines', 'Engine.Type', 'FAR.Description',\n",
              "       'Schedule', 'Purpose.of.flight', 'Air.carrier', 'Total.Fatal.Injuries',\n",
              "       'Total.Serious.Injuries', 'Total.Minor.Injuries', 'Total.Uninjured',\n",
              "       'Weather.Condition', 'Broad.phase.of.flight', 'Report.Status',\n",
              "       'Publication.Date', 'State'],\n",
              "      dtype='object')"
            ]
          },
          "metadata": {},
          "execution_count": 8
        }
      ]
    },
    {
      "cell_type": "code",
      "source": [
        "#creating a unique list to spot check for international locations\n",
        "# We see a lot of international data will need to be filtered!\n",
        "\n",
        "state_list = df['State'].tolist() \n",
        "unique_state_list = set(state_list)\n",
        "unique_state_list"
      ],
      "metadata": {
        "id": "iH7byUBm4LQ-"
      },
      "execution_count": null,
      "outputs": []
    },
    {
      "cell_type": "code",
      "source": [
        "# I notice some blank states and see I forgot to filter for USA only.  \n",
        "# I also note the double commas in the Location column\n",
        "df_fly_blank_state = df[df['State'] == '' ]\n",
        "df_fly_blank_state "
      ],
      "metadata": {
        "colab": {
          "base_uri": "https://localhost:8080/",
          "height": 817
        },
        "id": "l1CSBsdLt3A0",
        "outputId": "1ec7d7c9-a18b-4816-a5c6-995529f9cfba"
      },
      "execution_count": null,
      "outputs": [
        {
          "output_type": "execute_result",
          "data": {
            "text/plain": [
              "             Event.Id Investigation.Type Accident.Number  Event.Date  \\\n",
              "55133  20070209X00163           Accident      WAS03RA016  2003-07-19   \n",
              "62079  20081219X65329           Accident      ENG07WA017  2007-02-20   \n",
              "64563  20080723X01111           Accident      DCA08FA062  2008-05-19   \n",
              "64651  20080808X01181           Accident      MIA08LA149  2008-06-01   \n",
              "65271  20080829X01354           Incident      OPS08IA014  2008-08-28   \n",
              "...               ...                ...             ...         ...   \n",
              "90308  20221208106433           Accident      DCA23WA091  2022-12-05   \n",
              "90309  20221219106471           Accident      GAA23WA043  2022-12-05   \n",
              "90310  20221222106485           Incident      DCA23WA100  2022-12-05   \n",
              "90322  20221213106449           Accident      GAA22WA311  2022-12-11   \n",
              "90342  20221228106502           Accident      GAA23WA046  2022-12-22   \n",
              "\n",
              "                  Location        Country Latitude Longitude Airport.Code  \\\n",
              "55133  Mount Kenya,, Kenya          Kenya      NaN       NaN          NaN   \n",
              "62079   Sao Paulo,, Brazil         Brazil      NaN       NaN          NaN   \n",
              "64563       Pacific Ocean,  United States  015500N  0152830E          NaN   \n",
              "64651     Charlotte Amali,  United States  182014N  0645824W         TIST   \n",
              "65271      Atlantic Ocean,  United States      NaN       NaN          NaN   \n",
              "...                    ...            ...      ...       ...          ...   \n",
              "90308           Dortmund,         Georgia      NaN       NaN          NaN   \n",
              "90309       PONTA GROSSA,          Brazil      NaN       NaN          NaN   \n",
              "90310            Bangkok,        Thailand      NaN       NaN          NaN   \n",
              "90322            Kildare,         Ireland      NaN       NaN         EIKH   \n",
              "90342          Brasnorte,          Brazil      NaN       NaN          NaN   \n",
              "\n",
              "        Airport.Name  ...                                Air.carrier  \\\n",
              "55133            NaN  ...                                        NaN   \n",
              "62079            NaN  ...                                        NaN   \n",
              "64563            NaN  ...                     Omni Air International   \n",
              "64651  Cyril E. King  ...                   Bevins Air Service, Inc.   \n",
              "65271            NaN  ...                         TRANSAERO AIRLINES   \n",
              "...              ...  ...                                        ...   \n",
              "90308            NaN  ...                                    Ryanair   \n",
              "90309            NaN  ...                  AEROCLUBE DE PONTA GROSSA   \n",
              "90310            NaN  ...                  Thai Lion Mentari co.,ltd   \n",
              "90322            NaN  ...  SOUTHERN AIRCRAFT CONSULTANCY INC TRUSTEE   \n",
              "90342            NaN  ...                                        NaN   \n",
              "\n",
              "      Total.Fatal.Injuries Total.Serious.Injuries Total.Minor.Injuries  \\\n",
              "55133                 14.0                    NaN                  NaN   \n",
              "62079                  NaN                    NaN                  NaN   \n",
              "64563                  0.0                    4.0                  1.0   \n",
              "64651                  0.0                    0.0                  0.0   \n",
              "65271                  0.0                    0.0                  0.0   \n",
              "...                    ...                    ...                  ...   \n",
              "90308                  0.0                    0.0                  0.0   \n",
              "90309                  0.0                    1.0                  0.0   \n",
              "90310                  0.0                    0.0                  0.0   \n",
              "90322                  0.0                    0.0                  0.0   \n",
              "90342                  1.0                    0.0                  0.0   \n",
              "\n",
              "      Total.Uninjured Weather.Condition Broad.phase.of.flight  \\\n",
              "55133             NaN               IMC                   NaN   \n",
              "62079             7.0               NaN                   NaN   \n",
              "64563           157.0               VMC                   NaN   \n",
              "64651             7.0               VMC                   NaN   \n",
              "65271           159.0               NaN                   NaN   \n",
              "...               ...               ...                   ...   \n",
              "90308             0.0               NaN                   NaN   \n",
              "90309             0.0               NaN                   NaN   \n",
              "90310           102.0               NaN                   NaN   \n",
              "90322             0.0               NaN                   NaN   \n",
              "90342             0.0               NaN                   NaN   \n",
              "\n",
              "                                           Report.Status Publication.Date  \\\n",
              "55133                                            Foreign       09-02-2007   \n",
              "62079                                            Foreign       19-05-2009   \n",
              "64563  An inadvertent in-flight encounter with unfore...       25-09-2020   \n",
              "64651  The failure of maintenance personnel to identi...       25-09-2020   \n",
              "65271  The San Juan CERAP controllers failure to ensu...       25-09-2020   \n",
              "...                                                  ...              ...   \n",
              "90308                                                NaN              NaN   \n",
              "90309                                                NaN       20-12-2022   \n",
              "90310                                                NaN       22-12-2022   \n",
              "90322                                                NaN              NaN   \n",
              "90342                                                NaN       28-12-2022   \n",
              "\n",
              "      State  \n",
              "55133        \n",
              "62079        \n",
              "64563        \n",
              "64651        \n",
              "65271        \n",
              "...     ...  \n",
              "90308        \n",
              "90309        \n",
              "90310        \n",
              "90322        \n",
              "90342        \n",
              "\n",
              "[327 rows x 32 columns]"
            ],
            "text/html": [
              "\n",
              "  <div id=\"df-0296a32e-7842-4759-9906-ad170056e99b\">\n",
              "    <div class=\"colab-df-container\">\n",
              "      <div>\n",
              "<style scoped>\n",
              "    .dataframe tbody tr th:only-of-type {\n",
              "        vertical-align: middle;\n",
              "    }\n",
              "\n",
              "    .dataframe tbody tr th {\n",
              "        vertical-align: top;\n",
              "    }\n",
              "\n",
              "    .dataframe thead th {\n",
              "        text-align: right;\n",
              "    }\n",
              "</style>\n",
              "<table border=\"1\" class=\"dataframe\">\n",
              "  <thead>\n",
              "    <tr style=\"text-align: right;\">\n",
              "      <th></th>\n",
              "      <th>Event.Id</th>\n",
              "      <th>Investigation.Type</th>\n",
              "      <th>Accident.Number</th>\n",
              "      <th>Event.Date</th>\n",
              "      <th>Location</th>\n",
              "      <th>Country</th>\n",
              "      <th>Latitude</th>\n",
              "      <th>Longitude</th>\n",
              "      <th>Airport.Code</th>\n",
              "      <th>Airport.Name</th>\n",
              "      <th>...</th>\n",
              "      <th>Air.carrier</th>\n",
              "      <th>Total.Fatal.Injuries</th>\n",
              "      <th>Total.Serious.Injuries</th>\n",
              "      <th>Total.Minor.Injuries</th>\n",
              "      <th>Total.Uninjured</th>\n",
              "      <th>Weather.Condition</th>\n",
              "      <th>Broad.phase.of.flight</th>\n",
              "      <th>Report.Status</th>\n",
              "      <th>Publication.Date</th>\n",
              "      <th>State</th>\n",
              "    </tr>\n",
              "  </thead>\n",
              "  <tbody>\n",
              "    <tr>\n",
              "      <th>55133</th>\n",
              "      <td>20070209X00163</td>\n",
              "      <td>Accident</td>\n",
              "      <td>WAS03RA016</td>\n",
              "      <td>2003-07-19</td>\n",
              "      <td>Mount Kenya,, Kenya</td>\n",
              "      <td>Kenya</td>\n",
              "      <td>NaN</td>\n",
              "      <td>NaN</td>\n",
              "      <td>NaN</td>\n",
              "      <td>NaN</td>\n",
              "      <td>...</td>\n",
              "      <td>NaN</td>\n",
              "      <td>14.0</td>\n",
              "      <td>NaN</td>\n",
              "      <td>NaN</td>\n",
              "      <td>NaN</td>\n",
              "      <td>IMC</td>\n",
              "      <td>NaN</td>\n",
              "      <td>Foreign</td>\n",
              "      <td>09-02-2007</td>\n",
              "      <td></td>\n",
              "    </tr>\n",
              "    <tr>\n",
              "      <th>62079</th>\n",
              "      <td>20081219X65329</td>\n",
              "      <td>Accident</td>\n",
              "      <td>ENG07WA017</td>\n",
              "      <td>2007-02-20</td>\n",
              "      <td>Sao Paulo,, Brazil</td>\n",
              "      <td>Brazil</td>\n",
              "      <td>NaN</td>\n",
              "      <td>NaN</td>\n",
              "      <td>NaN</td>\n",
              "      <td>NaN</td>\n",
              "      <td>...</td>\n",
              "      <td>NaN</td>\n",
              "      <td>NaN</td>\n",
              "      <td>NaN</td>\n",
              "      <td>NaN</td>\n",
              "      <td>7.0</td>\n",
              "      <td>NaN</td>\n",
              "      <td>NaN</td>\n",
              "      <td>Foreign</td>\n",
              "      <td>19-05-2009</td>\n",
              "      <td></td>\n",
              "    </tr>\n",
              "    <tr>\n",
              "      <th>64563</th>\n",
              "      <td>20080723X01111</td>\n",
              "      <td>Accident</td>\n",
              "      <td>DCA08FA062</td>\n",
              "      <td>2008-05-19</td>\n",
              "      <td>Pacific Ocean,</td>\n",
              "      <td>United States</td>\n",
              "      <td>015500N</td>\n",
              "      <td>0152830E</td>\n",
              "      <td>NaN</td>\n",
              "      <td>NaN</td>\n",
              "      <td>...</td>\n",
              "      <td>Omni Air International</td>\n",
              "      <td>0.0</td>\n",
              "      <td>4.0</td>\n",
              "      <td>1.0</td>\n",
              "      <td>157.0</td>\n",
              "      <td>VMC</td>\n",
              "      <td>NaN</td>\n",
              "      <td>An inadvertent in-flight encounter with unfore...</td>\n",
              "      <td>25-09-2020</td>\n",
              "      <td></td>\n",
              "    </tr>\n",
              "    <tr>\n",
              "      <th>64651</th>\n",
              "      <td>20080808X01181</td>\n",
              "      <td>Accident</td>\n",
              "      <td>MIA08LA149</td>\n",
              "      <td>2008-06-01</td>\n",
              "      <td>Charlotte Amali,</td>\n",
              "      <td>United States</td>\n",
              "      <td>182014N</td>\n",
              "      <td>0645824W</td>\n",
              "      <td>TIST</td>\n",
              "      <td>Cyril E. King</td>\n",
              "      <td>...</td>\n",
              "      <td>Bevins Air Service, Inc.</td>\n",
              "      <td>0.0</td>\n",
              "      <td>0.0</td>\n",
              "      <td>0.0</td>\n",
              "      <td>7.0</td>\n",
              "      <td>VMC</td>\n",
              "      <td>NaN</td>\n",
              "      <td>The failure of maintenance personnel to identi...</td>\n",
              "      <td>25-09-2020</td>\n",
              "      <td></td>\n",
              "    </tr>\n",
              "    <tr>\n",
              "      <th>65271</th>\n",
              "      <td>20080829X01354</td>\n",
              "      <td>Incident</td>\n",
              "      <td>OPS08IA014</td>\n",
              "      <td>2008-08-28</td>\n",
              "      <td>Atlantic Ocean,</td>\n",
              "      <td>United States</td>\n",
              "      <td>NaN</td>\n",
              "      <td>NaN</td>\n",
              "      <td>NaN</td>\n",
              "      <td>NaN</td>\n",
              "      <td>...</td>\n",
              "      <td>TRANSAERO AIRLINES</td>\n",
              "      <td>0.0</td>\n",
              "      <td>0.0</td>\n",
              "      <td>0.0</td>\n",
              "      <td>159.0</td>\n",
              "      <td>NaN</td>\n",
              "      <td>NaN</td>\n",
              "      <td>The San Juan CERAP controllers failure to ensu...</td>\n",
              "      <td>25-09-2020</td>\n",
              "      <td></td>\n",
              "    </tr>\n",
              "    <tr>\n",
              "      <th>...</th>\n",
              "      <td>...</td>\n",
              "      <td>...</td>\n",
              "      <td>...</td>\n",
              "      <td>...</td>\n",
              "      <td>...</td>\n",
              "      <td>...</td>\n",
              "      <td>...</td>\n",
              "      <td>...</td>\n",
              "      <td>...</td>\n",
              "      <td>...</td>\n",
              "      <td>...</td>\n",
              "      <td>...</td>\n",
              "      <td>...</td>\n",
              "      <td>...</td>\n",
              "      <td>...</td>\n",
              "      <td>...</td>\n",
              "      <td>...</td>\n",
              "      <td>...</td>\n",
              "      <td>...</td>\n",
              "      <td>...</td>\n",
              "      <td>...</td>\n",
              "    </tr>\n",
              "    <tr>\n",
              "      <th>90308</th>\n",
              "      <td>20221208106433</td>\n",
              "      <td>Accident</td>\n",
              "      <td>DCA23WA091</td>\n",
              "      <td>2022-12-05</td>\n",
              "      <td>Dortmund,</td>\n",
              "      <td>Georgia</td>\n",
              "      <td>NaN</td>\n",
              "      <td>NaN</td>\n",
              "      <td>NaN</td>\n",
              "      <td>NaN</td>\n",
              "      <td>...</td>\n",
              "      <td>Ryanair</td>\n",
              "      <td>0.0</td>\n",
              "      <td>0.0</td>\n",
              "      <td>0.0</td>\n",
              "      <td>0.0</td>\n",
              "      <td>NaN</td>\n",
              "      <td>NaN</td>\n",
              "      <td>NaN</td>\n",
              "      <td>NaN</td>\n",
              "      <td></td>\n",
              "    </tr>\n",
              "    <tr>\n",
              "      <th>90309</th>\n",
              "      <td>20221219106471</td>\n",
              "      <td>Accident</td>\n",
              "      <td>GAA23WA043</td>\n",
              "      <td>2022-12-05</td>\n",
              "      <td>PONTA GROSSA,</td>\n",
              "      <td>Brazil</td>\n",
              "      <td>NaN</td>\n",
              "      <td>NaN</td>\n",
              "      <td>NaN</td>\n",
              "      <td>NaN</td>\n",
              "      <td>...</td>\n",
              "      <td>AEROCLUBE DE PONTA GROSSA</td>\n",
              "      <td>0.0</td>\n",
              "      <td>1.0</td>\n",
              "      <td>0.0</td>\n",
              "      <td>0.0</td>\n",
              "      <td>NaN</td>\n",
              "      <td>NaN</td>\n",
              "      <td>NaN</td>\n",
              "      <td>20-12-2022</td>\n",
              "      <td></td>\n",
              "    </tr>\n",
              "    <tr>\n",
              "      <th>90310</th>\n",
              "      <td>20221222106485</td>\n",
              "      <td>Incident</td>\n",
              "      <td>DCA23WA100</td>\n",
              "      <td>2022-12-05</td>\n",
              "      <td>Bangkok,</td>\n",
              "      <td>Thailand</td>\n",
              "      <td>NaN</td>\n",
              "      <td>NaN</td>\n",
              "      <td>NaN</td>\n",
              "      <td>NaN</td>\n",
              "      <td>...</td>\n",
              "      <td>Thai Lion Mentari co.,ltd</td>\n",
              "      <td>0.0</td>\n",
              "      <td>0.0</td>\n",
              "      <td>0.0</td>\n",
              "      <td>102.0</td>\n",
              "      <td>NaN</td>\n",
              "      <td>NaN</td>\n",
              "      <td>NaN</td>\n",
              "      <td>22-12-2022</td>\n",
              "      <td></td>\n",
              "    </tr>\n",
              "    <tr>\n",
              "      <th>90322</th>\n",
              "      <td>20221213106449</td>\n",
              "      <td>Accident</td>\n",
              "      <td>GAA22WA311</td>\n",
              "      <td>2022-12-11</td>\n",
              "      <td>Kildare,</td>\n",
              "      <td>Ireland</td>\n",
              "      <td>NaN</td>\n",
              "      <td>NaN</td>\n",
              "      <td>EIKH</td>\n",
              "      <td>NaN</td>\n",
              "      <td>...</td>\n",
              "      <td>SOUTHERN AIRCRAFT CONSULTANCY INC TRUSTEE</td>\n",
              "      <td>0.0</td>\n",
              "      <td>0.0</td>\n",
              "      <td>0.0</td>\n",
              "      <td>0.0</td>\n",
              "      <td>NaN</td>\n",
              "      <td>NaN</td>\n",
              "      <td>NaN</td>\n",
              "      <td>NaN</td>\n",
              "      <td></td>\n",
              "    </tr>\n",
              "    <tr>\n",
              "      <th>90342</th>\n",
              "      <td>20221228106502</td>\n",
              "      <td>Accident</td>\n",
              "      <td>GAA23WA046</td>\n",
              "      <td>2022-12-22</td>\n",
              "      <td>Brasnorte,</td>\n",
              "      <td>Brazil</td>\n",
              "      <td>NaN</td>\n",
              "      <td>NaN</td>\n",
              "      <td>NaN</td>\n",
              "      <td>NaN</td>\n",
              "      <td>...</td>\n",
              "      <td>NaN</td>\n",
              "      <td>1.0</td>\n",
              "      <td>0.0</td>\n",
              "      <td>0.0</td>\n",
              "      <td>0.0</td>\n",
              "      <td>NaN</td>\n",
              "      <td>NaN</td>\n",
              "      <td>NaN</td>\n",
              "      <td>28-12-2022</td>\n",
              "      <td></td>\n",
              "    </tr>\n",
              "  </tbody>\n",
              "</table>\n",
              "<p>327 rows × 32 columns</p>\n",
              "</div>\n",
              "      <button class=\"colab-df-convert\" onclick=\"convertToInteractive('df-0296a32e-7842-4759-9906-ad170056e99b')\"\n",
              "              title=\"Convert this dataframe to an interactive table.\"\n",
              "              style=\"display:none;\">\n",
              "        \n",
              "  <svg xmlns=\"http://www.w3.org/2000/svg\" height=\"24px\"viewBox=\"0 0 24 24\"\n",
              "       width=\"24px\">\n",
              "    <path d=\"M0 0h24v24H0V0z\" fill=\"none\"/>\n",
              "    <path d=\"M18.56 5.44l.94 2.06.94-2.06 2.06-.94-2.06-.94-.94-2.06-.94 2.06-2.06.94zm-11 1L8.5 8.5l.94-2.06 2.06-.94-2.06-.94L8.5 2.5l-.94 2.06-2.06.94zm10 10l.94 2.06.94-2.06 2.06-.94-2.06-.94-.94-2.06-.94 2.06-2.06.94z\"/><path d=\"M17.41 7.96l-1.37-1.37c-.4-.4-.92-.59-1.43-.59-.52 0-1.04.2-1.43.59L10.3 9.45l-7.72 7.72c-.78.78-.78 2.05 0 2.83L4 21.41c.39.39.9.59 1.41.59.51 0 1.02-.2 1.41-.59l7.78-7.78 2.81-2.81c.8-.78.8-2.07 0-2.86zM5.41 20L4 18.59l7.72-7.72 1.47 1.35L5.41 20z\"/>\n",
              "  </svg>\n",
              "      </button>\n",
              "      \n",
              "  <style>\n",
              "    .colab-df-container {\n",
              "      display:flex;\n",
              "      flex-wrap:wrap;\n",
              "      gap: 12px;\n",
              "    }\n",
              "\n",
              "    .colab-df-convert {\n",
              "      background-color: #E8F0FE;\n",
              "      border: none;\n",
              "      border-radius: 50%;\n",
              "      cursor: pointer;\n",
              "      display: none;\n",
              "      fill: #1967D2;\n",
              "      height: 32px;\n",
              "      padding: 0 0 0 0;\n",
              "      width: 32px;\n",
              "    }\n",
              "\n",
              "    .colab-df-convert:hover {\n",
              "      background-color: #E2EBFA;\n",
              "      box-shadow: 0px 1px 2px rgba(60, 64, 67, 0.3), 0px 1px 3px 1px rgba(60, 64, 67, 0.15);\n",
              "      fill: #174EA6;\n",
              "    }\n",
              "\n",
              "    [theme=dark] .colab-df-convert {\n",
              "      background-color: #3B4455;\n",
              "      fill: #D2E3FC;\n",
              "    }\n",
              "\n",
              "    [theme=dark] .colab-df-convert:hover {\n",
              "      background-color: #434B5C;\n",
              "      box-shadow: 0px 1px 3px 1px rgba(0, 0, 0, 0.15);\n",
              "      filter: drop-shadow(0px 1px 2px rgba(0, 0, 0, 0.3));\n",
              "      fill: #FFFFFF;\n",
              "    }\n",
              "  </style>\n",
              "\n",
              "      <script>\n",
              "        const buttonEl =\n",
              "          document.querySelector('#df-0296a32e-7842-4759-9906-ad170056e99b button.colab-df-convert');\n",
              "        buttonEl.style.display =\n",
              "          google.colab.kernel.accessAllowed ? 'block' : 'none';\n",
              "\n",
              "        async function convertToInteractive(key) {\n",
              "          const element = document.querySelector('#df-0296a32e-7842-4759-9906-ad170056e99b');\n",
              "          const dataTable =\n",
              "            await google.colab.kernel.invokeFunction('convertToInteractive',\n",
              "                                                     [key], {});\n",
              "          if (!dataTable) return;\n",
              "\n",
              "          const docLinkHtml = 'Like what you see? Visit the ' +\n",
              "            '<a target=\"_blank\" href=https://colab.research.google.com/notebooks/data_table.ipynb>data table notebook</a>'\n",
              "            + ' to learn more about interactive tables.';\n",
              "          element.innerHTML = '';\n",
              "          dataTable['output_type'] = 'display_data';\n",
              "          await google.colab.output.renderOutput(dataTable, element);\n",
              "          const docLink = document.createElement('div');\n",
              "          docLink.innerHTML = docLinkHtml;\n",
              "          element.appendChild(docLink);\n",
              "        }\n",
              "      </script>\n",
              "    </div>\n",
              "  </div>\n",
              "  "
            ]
          },
          "metadata": {},
          "execution_count": 125
        }
      ]
    },
    {
      "cell_type": "code",
      "source": [
        "# filtering for blank states shows that we have US territories, Gulf of Mexico, and oceans present \n",
        "# as well as double commas\n",
        "df_fly_blank_state_us = df_usa[df_usa['State'] == '' ]\n",
        "df_fly_blank_state_us "
      ],
      "metadata": {
        "colab": {
          "base_uri": "https://localhost:8080/",
          "height": 886
        },
        "id": "vYK8CluQuIkR",
        "outputId": "73bbc877-0eca-4b6b-ac14-84d815b865b2"
      },
      "execution_count": null,
      "outputs": [
        {
          "output_type": "execute_result",
          "data": {
            "text/plain": [
              "             Event.Id Investigation.Type Accident.Number  Event.Date  \\\n",
              "64563  20080723X01111           Accident      DCA08FA062  2008-05-19   \n",
              "64651  20080808X01181           Accident      MIA08LA149  2008-06-01   \n",
              "65271  20080829X01354           Incident      OPS08IA014  2008-08-28   \n",
              "65863  20090112X90757           Accident      CEN09CA127  2009-01-12   \n",
              "66018  20090306X84920           Incident      DCA09WA036  2009-02-27   \n",
              "...               ...                ...             ...         ...   \n",
              "84909  20190916X82539           Accident      CEN19TA321  2019-09-15   \n",
              "85054  20191021X53431           Accident      CEN20LA021  2019-10-17   \n",
              "85835  20200601X20239           Accident      ERA20CA201  2020-06-01   \n",
              "87987  20210917103894           Accident      ERA21LA367  2021-08-12   \n",
              "88464  20211123104302           Accident      WPR22LA047  2021-11-22   \n",
              "\n",
              "               Location        Country Latitude Longitude Airport.Code  \\\n",
              "64563    Pacific Ocean,  United States  015500N  0152830E          NaN   \n",
              "64651  Charlotte Amali,  United States  182014N  0645824W         TIST   \n",
              "65271   Atlantic Ocean,  United States      NaN       NaN          NaN   \n",
              "65863   Vermillion 229,  United States  028400N  0922730W         V229   \n",
              "66018                 ,  United States  006200S  0106450E          NaN   \n",
              "...                 ...            ...      ...       ...          ...   \n",
              "84909   Gulf of Mexico,  United States  028521N  0089188W          NaN   \n",
              "85054          Unknown,  United States  252257N  0090733W          NaN   \n",
              "85835   GULF OF MEXICO,  United States  026054N  0082645W          NaN   \n",
              "87987    Brasstown,, NC  United States  003531N  0835652W         NONE   \n",
              "88464     Puyallup,, WA  United States  047614N  1221714W          PLU   \n",
              "\n",
              "                   Airport.Name  ...                    Air.carrier  \\\n",
              "64563                       NaN  ...         Omni Air International   \n",
              "64651             Cyril E. King  ...       Bevins Air Service, Inc.   \n",
              "65271                       NaN  ...             TRANSAERO AIRLINES   \n",
              "65863             Vermilion 229  ...            Era Helicopters LLC   \n",
              "66018                       NaN  ...                    Batavia Air   \n",
              "...                         ...  ...                            ...   \n",
              "84909                       NaN  ...                            NaN   \n",
              "85054                       NaN  ...                            NaN   \n",
              "85835                       NaN  ...                            NaN   \n",
              "87987          Private Airstrip  ...                            NaN   \n",
              "88464  PIERCE COUNTY - THUN FLD  ...  CLOVER PARK TECHNICAL COLLEGE   \n",
              "\n",
              "      Total.Fatal.Injuries Total.Serious.Injuries Total.Minor.Injuries  \\\n",
              "64563                  0.0                    4.0                  1.0   \n",
              "64651                  0.0                    0.0                  0.0   \n",
              "65271                  0.0                    0.0                  0.0   \n",
              "65863                  0.0                    0.0                  0.0   \n",
              "66018                  0.0                    0.0                  0.0   \n",
              "...                    ...                    ...                  ...   \n",
              "84909                  0.0                    0.0                  0.0   \n",
              "85054                  1.0                    0.0                  0.0   \n",
              "85835                  0.0                    0.0                  0.0   \n",
              "87987                  0.0                    1.0                  0.0   \n",
              "88464                  0.0                    0.0                  0.0   \n",
              "\n",
              "      Total.Uninjured Weather.Condition Broad.phase.of.flight  \\\n",
              "64563           157.0               VMC                   NaN   \n",
              "64651             7.0               VMC                   NaN   \n",
              "65271           159.0               NaN                   NaN   \n",
              "65863             1.0               VMC                   NaN   \n",
              "66018           131.0               NaN                   NaN   \n",
              "...               ...               ...                   ...   \n",
              "84909             1.0               VMC                   NaN   \n",
              "85054             0.0               VMC                   NaN   \n",
              "85835             2.0               VMC                   NaN   \n",
              "87987             0.0               VMC                   NaN   \n",
              "88464             2.0               VMC                   NaN   \n",
              "\n",
              "                                           Report.Status Publication.Date  \\\n",
              "64563  An inadvertent in-flight encounter with unfore...       25-09-2020   \n",
              "64651  The failure of maintenance personnel to identi...       25-09-2020   \n",
              "65271  The San Juan CERAP controllers failure to ensu...       25-09-2020   \n",
              "65863  The pilot's failure to maintain clearance from...       25-09-2020   \n",
              "66018                                                  .       03-11-2020   \n",
              "...                                                  ...              ...   \n",
              "84909  A loss of engine power for undetermined reason...       28-01-2021   \n",
              "85054                                                NaN       13-12-2021   \n",
              "85835  A total loss of engine power due to a fuel lea...       29-01-2021   \n",
              "87987                                                NaN              NaN   \n",
              "88464                                                NaN       03-12-2021   \n",
              "\n",
              "      State  \n",
              "64563        \n",
              "64651        \n",
              "65271        \n",
              "65863        \n",
              "66018        \n",
              "...     ...  \n",
              "84909        \n",
              "85054        \n",
              "85835        \n",
              "87987        \n",
              "88464        \n",
              "\n",
              "[64 rows x 32 columns]"
            ],
            "text/html": [
              "\n",
              "  <div id=\"df-ee2085cb-0872-4991-8367-8ce48e2d80ff\">\n",
              "    <div class=\"colab-df-container\">\n",
              "      <div>\n",
              "<style scoped>\n",
              "    .dataframe tbody tr th:only-of-type {\n",
              "        vertical-align: middle;\n",
              "    }\n",
              "\n",
              "    .dataframe tbody tr th {\n",
              "        vertical-align: top;\n",
              "    }\n",
              "\n",
              "    .dataframe thead th {\n",
              "        text-align: right;\n",
              "    }\n",
              "</style>\n",
              "<table border=\"1\" class=\"dataframe\">\n",
              "  <thead>\n",
              "    <tr style=\"text-align: right;\">\n",
              "      <th></th>\n",
              "      <th>Event.Id</th>\n",
              "      <th>Investigation.Type</th>\n",
              "      <th>Accident.Number</th>\n",
              "      <th>Event.Date</th>\n",
              "      <th>Location</th>\n",
              "      <th>Country</th>\n",
              "      <th>Latitude</th>\n",
              "      <th>Longitude</th>\n",
              "      <th>Airport.Code</th>\n",
              "      <th>Airport.Name</th>\n",
              "      <th>...</th>\n",
              "      <th>Air.carrier</th>\n",
              "      <th>Total.Fatal.Injuries</th>\n",
              "      <th>Total.Serious.Injuries</th>\n",
              "      <th>Total.Minor.Injuries</th>\n",
              "      <th>Total.Uninjured</th>\n",
              "      <th>Weather.Condition</th>\n",
              "      <th>Broad.phase.of.flight</th>\n",
              "      <th>Report.Status</th>\n",
              "      <th>Publication.Date</th>\n",
              "      <th>State</th>\n",
              "    </tr>\n",
              "  </thead>\n",
              "  <tbody>\n",
              "    <tr>\n",
              "      <th>64563</th>\n",
              "      <td>20080723X01111</td>\n",
              "      <td>Accident</td>\n",
              "      <td>DCA08FA062</td>\n",
              "      <td>2008-05-19</td>\n",
              "      <td>Pacific Ocean,</td>\n",
              "      <td>United States</td>\n",
              "      <td>015500N</td>\n",
              "      <td>0152830E</td>\n",
              "      <td>NaN</td>\n",
              "      <td>NaN</td>\n",
              "      <td>...</td>\n",
              "      <td>Omni Air International</td>\n",
              "      <td>0.0</td>\n",
              "      <td>4.0</td>\n",
              "      <td>1.0</td>\n",
              "      <td>157.0</td>\n",
              "      <td>VMC</td>\n",
              "      <td>NaN</td>\n",
              "      <td>An inadvertent in-flight encounter with unfore...</td>\n",
              "      <td>25-09-2020</td>\n",
              "      <td></td>\n",
              "    </tr>\n",
              "    <tr>\n",
              "      <th>64651</th>\n",
              "      <td>20080808X01181</td>\n",
              "      <td>Accident</td>\n",
              "      <td>MIA08LA149</td>\n",
              "      <td>2008-06-01</td>\n",
              "      <td>Charlotte Amali,</td>\n",
              "      <td>United States</td>\n",
              "      <td>182014N</td>\n",
              "      <td>0645824W</td>\n",
              "      <td>TIST</td>\n",
              "      <td>Cyril E. King</td>\n",
              "      <td>...</td>\n",
              "      <td>Bevins Air Service, Inc.</td>\n",
              "      <td>0.0</td>\n",
              "      <td>0.0</td>\n",
              "      <td>0.0</td>\n",
              "      <td>7.0</td>\n",
              "      <td>VMC</td>\n",
              "      <td>NaN</td>\n",
              "      <td>The failure of maintenance personnel to identi...</td>\n",
              "      <td>25-09-2020</td>\n",
              "      <td></td>\n",
              "    </tr>\n",
              "    <tr>\n",
              "      <th>65271</th>\n",
              "      <td>20080829X01354</td>\n",
              "      <td>Incident</td>\n",
              "      <td>OPS08IA014</td>\n",
              "      <td>2008-08-28</td>\n",
              "      <td>Atlantic Ocean,</td>\n",
              "      <td>United States</td>\n",
              "      <td>NaN</td>\n",
              "      <td>NaN</td>\n",
              "      <td>NaN</td>\n",
              "      <td>NaN</td>\n",
              "      <td>...</td>\n",
              "      <td>TRANSAERO AIRLINES</td>\n",
              "      <td>0.0</td>\n",
              "      <td>0.0</td>\n",
              "      <td>0.0</td>\n",
              "      <td>159.0</td>\n",
              "      <td>NaN</td>\n",
              "      <td>NaN</td>\n",
              "      <td>The San Juan CERAP controllers failure to ensu...</td>\n",
              "      <td>25-09-2020</td>\n",
              "      <td></td>\n",
              "    </tr>\n",
              "    <tr>\n",
              "      <th>65863</th>\n",
              "      <td>20090112X90757</td>\n",
              "      <td>Accident</td>\n",
              "      <td>CEN09CA127</td>\n",
              "      <td>2009-01-12</td>\n",
              "      <td>Vermillion 229,</td>\n",
              "      <td>United States</td>\n",
              "      <td>028400N</td>\n",
              "      <td>0922730W</td>\n",
              "      <td>V229</td>\n",
              "      <td>Vermilion 229</td>\n",
              "      <td>...</td>\n",
              "      <td>Era Helicopters LLC</td>\n",
              "      <td>0.0</td>\n",
              "      <td>0.0</td>\n",
              "      <td>0.0</td>\n",
              "      <td>1.0</td>\n",
              "      <td>VMC</td>\n",
              "      <td>NaN</td>\n",
              "      <td>The pilot's failure to maintain clearance from...</td>\n",
              "      <td>25-09-2020</td>\n",
              "      <td></td>\n",
              "    </tr>\n",
              "    <tr>\n",
              "      <th>66018</th>\n",
              "      <td>20090306X84920</td>\n",
              "      <td>Incident</td>\n",
              "      <td>DCA09WA036</td>\n",
              "      <td>2009-02-27</td>\n",
              "      <td>,</td>\n",
              "      <td>United States</td>\n",
              "      <td>006200S</td>\n",
              "      <td>0106450E</td>\n",
              "      <td>NaN</td>\n",
              "      <td>NaN</td>\n",
              "      <td>...</td>\n",
              "      <td>Batavia Air</td>\n",
              "      <td>0.0</td>\n",
              "      <td>0.0</td>\n",
              "      <td>0.0</td>\n",
              "      <td>131.0</td>\n",
              "      <td>NaN</td>\n",
              "      <td>NaN</td>\n",
              "      <td>.</td>\n",
              "      <td>03-11-2020</td>\n",
              "      <td></td>\n",
              "    </tr>\n",
              "    <tr>\n",
              "      <th>...</th>\n",
              "      <td>...</td>\n",
              "      <td>...</td>\n",
              "      <td>...</td>\n",
              "      <td>...</td>\n",
              "      <td>...</td>\n",
              "      <td>...</td>\n",
              "      <td>...</td>\n",
              "      <td>...</td>\n",
              "      <td>...</td>\n",
              "      <td>...</td>\n",
              "      <td>...</td>\n",
              "      <td>...</td>\n",
              "      <td>...</td>\n",
              "      <td>...</td>\n",
              "      <td>...</td>\n",
              "      <td>...</td>\n",
              "      <td>...</td>\n",
              "      <td>...</td>\n",
              "      <td>...</td>\n",
              "      <td>...</td>\n",
              "      <td>...</td>\n",
              "    </tr>\n",
              "    <tr>\n",
              "      <th>84909</th>\n",
              "      <td>20190916X82539</td>\n",
              "      <td>Accident</td>\n",
              "      <td>CEN19TA321</td>\n",
              "      <td>2019-09-15</td>\n",
              "      <td>Gulf of Mexico,</td>\n",
              "      <td>United States</td>\n",
              "      <td>028521N</td>\n",
              "      <td>0089188W</td>\n",
              "      <td>NaN</td>\n",
              "      <td>NaN</td>\n",
              "      <td>...</td>\n",
              "      <td>NaN</td>\n",
              "      <td>0.0</td>\n",
              "      <td>0.0</td>\n",
              "      <td>0.0</td>\n",
              "      <td>1.0</td>\n",
              "      <td>VMC</td>\n",
              "      <td>NaN</td>\n",
              "      <td>A loss of engine power for undetermined reason...</td>\n",
              "      <td>28-01-2021</td>\n",
              "      <td></td>\n",
              "    </tr>\n",
              "    <tr>\n",
              "      <th>85054</th>\n",
              "      <td>20191021X53431</td>\n",
              "      <td>Accident</td>\n",
              "      <td>CEN20LA021</td>\n",
              "      <td>2019-10-17</td>\n",
              "      <td>Unknown,</td>\n",
              "      <td>United States</td>\n",
              "      <td>252257N</td>\n",
              "      <td>0090733W</td>\n",
              "      <td>NaN</td>\n",
              "      <td>NaN</td>\n",
              "      <td>...</td>\n",
              "      <td>NaN</td>\n",
              "      <td>1.0</td>\n",
              "      <td>0.0</td>\n",
              "      <td>0.0</td>\n",
              "      <td>0.0</td>\n",
              "      <td>VMC</td>\n",
              "      <td>NaN</td>\n",
              "      <td>NaN</td>\n",
              "      <td>13-12-2021</td>\n",
              "      <td></td>\n",
              "    </tr>\n",
              "    <tr>\n",
              "      <th>85835</th>\n",
              "      <td>20200601X20239</td>\n",
              "      <td>Accident</td>\n",
              "      <td>ERA20CA201</td>\n",
              "      <td>2020-06-01</td>\n",
              "      <td>GULF OF MEXICO,</td>\n",
              "      <td>United States</td>\n",
              "      <td>026054N</td>\n",
              "      <td>0082645W</td>\n",
              "      <td>NaN</td>\n",
              "      <td>NaN</td>\n",
              "      <td>...</td>\n",
              "      <td>NaN</td>\n",
              "      <td>0.0</td>\n",
              "      <td>0.0</td>\n",
              "      <td>0.0</td>\n",
              "      <td>2.0</td>\n",
              "      <td>VMC</td>\n",
              "      <td>NaN</td>\n",
              "      <td>A total loss of engine power due to a fuel lea...</td>\n",
              "      <td>29-01-2021</td>\n",
              "      <td></td>\n",
              "    </tr>\n",
              "    <tr>\n",
              "      <th>87987</th>\n",
              "      <td>20210917103894</td>\n",
              "      <td>Accident</td>\n",
              "      <td>ERA21LA367</td>\n",
              "      <td>2021-08-12</td>\n",
              "      <td>Brasstown,, NC</td>\n",
              "      <td>United States</td>\n",
              "      <td>003531N</td>\n",
              "      <td>0835652W</td>\n",
              "      <td>NONE</td>\n",
              "      <td>Private Airstrip</td>\n",
              "      <td>...</td>\n",
              "      <td>NaN</td>\n",
              "      <td>0.0</td>\n",
              "      <td>1.0</td>\n",
              "      <td>0.0</td>\n",
              "      <td>0.0</td>\n",
              "      <td>VMC</td>\n",
              "      <td>NaN</td>\n",
              "      <td>NaN</td>\n",
              "      <td>NaN</td>\n",
              "      <td></td>\n",
              "    </tr>\n",
              "    <tr>\n",
              "      <th>88464</th>\n",
              "      <td>20211123104302</td>\n",
              "      <td>Accident</td>\n",
              "      <td>WPR22LA047</td>\n",
              "      <td>2021-11-22</td>\n",
              "      <td>Puyallup,, WA</td>\n",
              "      <td>United States</td>\n",
              "      <td>047614N</td>\n",
              "      <td>1221714W</td>\n",
              "      <td>PLU</td>\n",
              "      <td>PIERCE COUNTY - THUN FLD</td>\n",
              "      <td>...</td>\n",
              "      <td>CLOVER PARK TECHNICAL COLLEGE</td>\n",
              "      <td>0.0</td>\n",
              "      <td>0.0</td>\n",
              "      <td>0.0</td>\n",
              "      <td>2.0</td>\n",
              "      <td>VMC</td>\n",
              "      <td>NaN</td>\n",
              "      <td>NaN</td>\n",
              "      <td>03-12-2021</td>\n",
              "      <td></td>\n",
              "    </tr>\n",
              "  </tbody>\n",
              "</table>\n",
              "<p>64 rows × 32 columns</p>\n",
              "</div>\n",
              "      <button class=\"colab-df-convert\" onclick=\"convertToInteractive('df-ee2085cb-0872-4991-8367-8ce48e2d80ff')\"\n",
              "              title=\"Convert this dataframe to an interactive table.\"\n",
              "              style=\"display:none;\">\n",
              "        \n",
              "  <svg xmlns=\"http://www.w3.org/2000/svg\" height=\"24px\"viewBox=\"0 0 24 24\"\n",
              "       width=\"24px\">\n",
              "    <path d=\"M0 0h24v24H0V0z\" fill=\"none\"/>\n",
              "    <path d=\"M18.56 5.44l.94 2.06.94-2.06 2.06-.94-2.06-.94-.94-2.06-.94 2.06-2.06.94zm-11 1L8.5 8.5l.94-2.06 2.06-.94-2.06-.94L8.5 2.5l-.94 2.06-2.06.94zm10 10l.94 2.06.94-2.06 2.06-.94-2.06-.94-.94-2.06-.94 2.06-2.06.94z\"/><path d=\"M17.41 7.96l-1.37-1.37c-.4-.4-.92-.59-1.43-.59-.52 0-1.04.2-1.43.59L10.3 9.45l-7.72 7.72c-.78.78-.78 2.05 0 2.83L4 21.41c.39.39.9.59 1.41.59.51 0 1.02-.2 1.41-.59l7.78-7.78 2.81-2.81c.8-.78.8-2.07 0-2.86zM5.41 20L4 18.59l7.72-7.72 1.47 1.35L5.41 20z\"/>\n",
              "  </svg>\n",
              "      </button>\n",
              "      \n",
              "  <style>\n",
              "    .colab-df-container {\n",
              "      display:flex;\n",
              "      flex-wrap:wrap;\n",
              "      gap: 12px;\n",
              "    }\n",
              "\n",
              "    .colab-df-convert {\n",
              "      background-color: #E8F0FE;\n",
              "      border: none;\n",
              "      border-radius: 50%;\n",
              "      cursor: pointer;\n",
              "      display: none;\n",
              "      fill: #1967D2;\n",
              "      height: 32px;\n",
              "      padding: 0 0 0 0;\n",
              "      width: 32px;\n",
              "    }\n",
              "\n",
              "    .colab-df-convert:hover {\n",
              "      background-color: #E2EBFA;\n",
              "      box-shadow: 0px 1px 2px rgba(60, 64, 67, 0.3), 0px 1px 3px 1px rgba(60, 64, 67, 0.15);\n",
              "      fill: #174EA6;\n",
              "    }\n",
              "\n",
              "    [theme=dark] .colab-df-convert {\n",
              "      background-color: #3B4455;\n",
              "      fill: #D2E3FC;\n",
              "    }\n",
              "\n",
              "    [theme=dark] .colab-df-convert:hover {\n",
              "      background-color: #434B5C;\n",
              "      box-shadow: 0px 1px 3px 1px rgba(0, 0, 0, 0.15);\n",
              "      filter: drop-shadow(0px 1px 2px rgba(0, 0, 0, 0.3));\n",
              "      fill: #FFFFFF;\n",
              "    }\n",
              "  </style>\n",
              "\n",
              "      <script>\n",
              "        const buttonEl =\n",
              "          document.querySelector('#df-ee2085cb-0872-4991-8367-8ce48e2d80ff button.colab-df-convert');\n",
              "        buttonEl.style.display =\n",
              "          google.colab.kernel.accessAllowed ? 'block' : 'none';\n",
              "\n",
              "        async function convertToInteractive(key) {\n",
              "          const element = document.querySelector('#df-ee2085cb-0872-4991-8367-8ce48e2d80ff');\n",
              "          const dataTable =\n",
              "            await google.colab.kernel.invokeFunction('convertToInteractive',\n",
              "                                                     [key], {});\n",
              "          if (!dataTable) return;\n",
              "\n",
              "          const docLinkHtml = 'Like what you see? Visit the ' +\n",
              "            '<a target=\"_blank\" href=https://colab.research.google.com/notebooks/data_table.ipynb>data table notebook</a>'\n",
              "            + ' to learn more about interactive tables.';\n",
              "          element.innerHTML = '';\n",
              "          dataTable['output_type'] = 'display_data';\n",
              "          await google.colab.output.renderOutput(dataTable, element);\n",
              "          const docLink = document.createElement('div');\n",
              "          docLink.innerHTML = docLinkHtml;\n",
              "          element.appendChild(docLink);\n",
              "        }\n",
              "      </script>\n",
              "    </div>\n",
              "  </div>\n",
              "  "
            ]
          },
          "metadata": {},
          "execution_count": 127
        }
      ]
    },
    {
      "cell_type": "code",
      "source": [
        "# making a united states dataframe\n",
        "df_usa = df[df['Country'] == 'United States']\n",
        "df_usa"
      ],
      "metadata": {
        "colab": {
          "base_uri": "https://localhost:8080/",
          "height": 661
        },
        "id": "M1X56noO42iY",
        "outputId": "e8d7b2f0-75e5-4455-bbf8-aa4167368b31"
      },
      "execution_count": null,
      "outputs": [
        {
          "output_type": "execute_result",
          "data": {
            "text/plain": [
              "             Event.Id Investigation.Type Accident.Number  Event.Date  \\\n",
              "0      20001218X45444           Accident      SEA87LA080  1948-10-24   \n",
              "1      20001218X45447           Accident      LAX94LA336  1962-07-19   \n",
              "2      20061025X01555           Accident      NYC07LA005  1974-08-30   \n",
              "3      20001218X45448           Accident      LAX96LA321  1977-06-19   \n",
              "4      20041105X01764           Accident      CHI79FA064  1979-08-02   \n",
              "...               ...                ...             ...         ...   \n",
              "90343  20221227106491           Accident      ERA23LA093  2022-12-26   \n",
              "90344  20221227106494           Accident      ERA23LA095  2022-12-26   \n",
              "90345  20221227106497           Accident      WPR23LA075  2022-12-26   \n",
              "90346  20221227106498           Accident      WPR23LA076  2022-12-26   \n",
              "90347  20221230106513           Accident      ERA23LA097  2022-12-29   \n",
              "\n",
              "              Location        Country   Latitude  Longitude Airport.Code  \\\n",
              "0      MOOSE CREEK, ID  United States        NaN        NaN          NaN   \n",
              "1       BRIDGEPORT, CA  United States        NaN        NaN          NaN   \n",
              "2        Saltville, VA  United States  36.922223 -81.878056          NaN   \n",
              "3           EUREKA, CA  United States        NaN        NaN          NaN   \n",
              "4           Canton, OH  United States        NaN        NaN          NaN   \n",
              "...                ...            ...        ...        ...          ...   \n",
              "90343    Annapolis, MD  United States        NaN        NaN          NaN   \n",
              "90344      Hampton, NH  United States        NaN        NaN          NaN   \n",
              "90345       Payson, AZ  United States    341525N   1112021W          PAN   \n",
              "90346       Morgan, UT  United States        NaN        NaN          NaN   \n",
              "90347       Athens, GA  United States        NaN        NaN          NaN   \n",
              "\n",
              "      Airport.Name  ...         Air.carrier Total.Fatal.Injuries  \\\n",
              "0              NaN  ...                 NaN                  2.0   \n",
              "1              NaN  ...                 NaN                  4.0   \n",
              "2              NaN  ...                 NaN                  3.0   \n",
              "3              NaN  ...                 NaN                  2.0   \n",
              "4              NaN  ...                 NaN                  1.0   \n",
              "...            ...  ...                 ...                  ...   \n",
              "90343          NaN  ...                 NaN                  0.0   \n",
              "90344          NaN  ...                 NaN                  0.0   \n",
              "90345       PAYSON  ...                 NaN                  0.0   \n",
              "90346          NaN  ...  MC CESSNA 210N LLC                  0.0   \n",
              "90347          NaN  ...                 NaN                  0.0   \n",
              "\n",
              "      Total.Serious.Injuries Total.Minor.Injuries Total.Uninjured  \\\n",
              "0                        0.0                  0.0             0.0   \n",
              "1                        0.0                  0.0             0.0   \n",
              "2                        NaN                  NaN             NaN   \n",
              "3                        0.0                  0.0             0.0   \n",
              "4                        2.0                  NaN             0.0   \n",
              "...                      ...                  ...             ...   \n",
              "90343                    1.0                  0.0             0.0   \n",
              "90344                    0.0                  0.0             0.0   \n",
              "90345                    0.0                  0.0             1.0   \n",
              "90346                    0.0                  0.0             0.0   \n",
              "90347                    1.0                  0.0             1.0   \n",
              "\n",
              "      Weather.Condition Broad.phase.of.flight   Report.Status  \\\n",
              "0                   UNK                Cruise  Probable Cause   \n",
              "1                   UNK               Unknown  Probable Cause   \n",
              "2                   IMC                Cruise  Probable Cause   \n",
              "3                   IMC                Cruise  Probable Cause   \n",
              "4                   VMC              Approach  Probable Cause   \n",
              "...                 ...                   ...             ...   \n",
              "90343               NaN                   NaN             NaN   \n",
              "90344               NaN                   NaN             NaN   \n",
              "90345               VMC                   NaN             NaN   \n",
              "90346               NaN                   NaN             NaN   \n",
              "90347               NaN                   NaN             NaN   \n",
              "\n",
              "      Publication.Date State  \n",
              "0                  NaN    ID  \n",
              "1           19-09-1996    CA  \n",
              "2           26-02-2007    VA  \n",
              "3           12-09-2000    CA  \n",
              "4           16-04-1980    OH  \n",
              "...                ...   ...  \n",
              "90343       29-12-2022    MD  \n",
              "90344              NaN    NH  \n",
              "90345       27-12-2022    AZ  \n",
              "90346              NaN    UT  \n",
              "90347       30-12-2022    GA  \n",
              "\n",
              "[82248 rows x 32 columns]"
            ],
            "text/html": [
              "\n",
              "  <div id=\"df-9c2fd2a3-5c7a-4ef9-8f5e-2995b87e2dc6\">\n",
              "    <div class=\"colab-df-container\">\n",
              "      <div>\n",
              "<style scoped>\n",
              "    .dataframe tbody tr th:only-of-type {\n",
              "        vertical-align: middle;\n",
              "    }\n",
              "\n",
              "    .dataframe tbody tr th {\n",
              "        vertical-align: top;\n",
              "    }\n",
              "\n",
              "    .dataframe thead th {\n",
              "        text-align: right;\n",
              "    }\n",
              "</style>\n",
              "<table border=\"1\" class=\"dataframe\">\n",
              "  <thead>\n",
              "    <tr style=\"text-align: right;\">\n",
              "      <th></th>\n",
              "      <th>Event.Id</th>\n",
              "      <th>Investigation.Type</th>\n",
              "      <th>Accident.Number</th>\n",
              "      <th>Event.Date</th>\n",
              "      <th>Location</th>\n",
              "      <th>Country</th>\n",
              "      <th>Latitude</th>\n",
              "      <th>Longitude</th>\n",
              "      <th>Airport.Code</th>\n",
              "      <th>Airport.Name</th>\n",
              "      <th>...</th>\n",
              "      <th>Air.carrier</th>\n",
              "      <th>Total.Fatal.Injuries</th>\n",
              "      <th>Total.Serious.Injuries</th>\n",
              "      <th>Total.Minor.Injuries</th>\n",
              "      <th>Total.Uninjured</th>\n",
              "      <th>Weather.Condition</th>\n",
              "      <th>Broad.phase.of.flight</th>\n",
              "      <th>Report.Status</th>\n",
              "      <th>Publication.Date</th>\n",
              "      <th>State</th>\n",
              "    </tr>\n",
              "  </thead>\n",
              "  <tbody>\n",
              "    <tr>\n",
              "      <th>0</th>\n",
              "      <td>20001218X45444</td>\n",
              "      <td>Accident</td>\n",
              "      <td>SEA87LA080</td>\n",
              "      <td>1948-10-24</td>\n",
              "      <td>MOOSE CREEK, ID</td>\n",
              "      <td>United States</td>\n",
              "      <td>NaN</td>\n",
              "      <td>NaN</td>\n",
              "      <td>NaN</td>\n",
              "      <td>NaN</td>\n",
              "      <td>...</td>\n",
              "      <td>NaN</td>\n",
              "      <td>2.0</td>\n",
              "      <td>0.0</td>\n",
              "      <td>0.0</td>\n",
              "      <td>0.0</td>\n",
              "      <td>UNK</td>\n",
              "      <td>Cruise</td>\n",
              "      <td>Probable Cause</td>\n",
              "      <td>NaN</td>\n",
              "      <td>ID</td>\n",
              "    </tr>\n",
              "    <tr>\n",
              "      <th>1</th>\n",
              "      <td>20001218X45447</td>\n",
              "      <td>Accident</td>\n",
              "      <td>LAX94LA336</td>\n",
              "      <td>1962-07-19</td>\n",
              "      <td>BRIDGEPORT, CA</td>\n",
              "      <td>United States</td>\n",
              "      <td>NaN</td>\n",
              "      <td>NaN</td>\n",
              "      <td>NaN</td>\n",
              "      <td>NaN</td>\n",
              "      <td>...</td>\n",
              "      <td>NaN</td>\n",
              "      <td>4.0</td>\n",
              "      <td>0.0</td>\n",
              "      <td>0.0</td>\n",
              "      <td>0.0</td>\n",
              "      <td>UNK</td>\n",
              "      <td>Unknown</td>\n",
              "      <td>Probable Cause</td>\n",
              "      <td>19-09-1996</td>\n",
              "      <td>CA</td>\n",
              "    </tr>\n",
              "    <tr>\n",
              "      <th>2</th>\n",
              "      <td>20061025X01555</td>\n",
              "      <td>Accident</td>\n",
              "      <td>NYC07LA005</td>\n",
              "      <td>1974-08-30</td>\n",
              "      <td>Saltville, VA</td>\n",
              "      <td>United States</td>\n",
              "      <td>36.922223</td>\n",
              "      <td>-81.878056</td>\n",
              "      <td>NaN</td>\n",
              "      <td>NaN</td>\n",
              "      <td>...</td>\n",
              "      <td>NaN</td>\n",
              "      <td>3.0</td>\n",
              "      <td>NaN</td>\n",
              "      <td>NaN</td>\n",
              "      <td>NaN</td>\n",
              "      <td>IMC</td>\n",
              "      <td>Cruise</td>\n",
              "      <td>Probable Cause</td>\n",
              "      <td>26-02-2007</td>\n",
              "      <td>VA</td>\n",
              "    </tr>\n",
              "    <tr>\n",
              "      <th>3</th>\n",
              "      <td>20001218X45448</td>\n",
              "      <td>Accident</td>\n",
              "      <td>LAX96LA321</td>\n",
              "      <td>1977-06-19</td>\n",
              "      <td>EUREKA, CA</td>\n",
              "      <td>United States</td>\n",
              "      <td>NaN</td>\n",
              "      <td>NaN</td>\n",
              "      <td>NaN</td>\n",
              "      <td>NaN</td>\n",
              "      <td>...</td>\n",
              "      <td>NaN</td>\n",
              "      <td>2.0</td>\n",
              "      <td>0.0</td>\n",
              "      <td>0.0</td>\n",
              "      <td>0.0</td>\n",
              "      <td>IMC</td>\n",
              "      <td>Cruise</td>\n",
              "      <td>Probable Cause</td>\n",
              "      <td>12-09-2000</td>\n",
              "      <td>CA</td>\n",
              "    </tr>\n",
              "    <tr>\n",
              "      <th>4</th>\n",
              "      <td>20041105X01764</td>\n",
              "      <td>Accident</td>\n",
              "      <td>CHI79FA064</td>\n",
              "      <td>1979-08-02</td>\n",
              "      <td>Canton, OH</td>\n",
              "      <td>United States</td>\n",
              "      <td>NaN</td>\n",
              "      <td>NaN</td>\n",
              "      <td>NaN</td>\n",
              "      <td>NaN</td>\n",
              "      <td>...</td>\n",
              "      <td>NaN</td>\n",
              "      <td>1.0</td>\n",
              "      <td>2.0</td>\n",
              "      <td>NaN</td>\n",
              "      <td>0.0</td>\n",
              "      <td>VMC</td>\n",
              "      <td>Approach</td>\n",
              "      <td>Probable Cause</td>\n",
              "      <td>16-04-1980</td>\n",
              "      <td>OH</td>\n",
              "    </tr>\n",
              "    <tr>\n",
              "      <th>...</th>\n",
              "      <td>...</td>\n",
              "      <td>...</td>\n",
              "      <td>...</td>\n",
              "      <td>...</td>\n",
              "      <td>...</td>\n",
              "      <td>...</td>\n",
              "      <td>...</td>\n",
              "      <td>...</td>\n",
              "      <td>...</td>\n",
              "      <td>...</td>\n",
              "      <td>...</td>\n",
              "      <td>...</td>\n",
              "      <td>...</td>\n",
              "      <td>...</td>\n",
              "      <td>...</td>\n",
              "      <td>...</td>\n",
              "      <td>...</td>\n",
              "      <td>...</td>\n",
              "      <td>...</td>\n",
              "      <td>...</td>\n",
              "      <td>...</td>\n",
              "    </tr>\n",
              "    <tr>\n",
              "      <th>90343</th>\n",
              "      <td>20221227106491</td>\n",
              "      <td>Accident</td>\n",
              "      <td>ERA23LA093</td>\n",
              "      <td>2022-12-26</td>\n",
              "      <td>Annapolis, MD</td>\n",
              "      <td>United States</td>\n",
              "      <td>NaN</td>\n",
              "      <td>NaN</td>\n",
              "      <td>NaN</td>\n",
              "      <td>NaN</td>\n",
              "      <td>...</td>\n",
              "      <td>NaN</td>\n",
              "      <td>0.0</td>\n",
              "      <td>1.0</td>\n",
              "      <td>0.0</td>\n",
              "      <td>0.0</td>\n",
              "      <td>NaN</td>\n",
              "      <td>NaN</td>\n",
              "      <td>NaN</td>\n",
              "      <td>29-12-2022</td>\n",
              "      <td>MD</td>\n",
              "    </tr>\n",
              "    <tr>\n",
              "      <th>90344</th>\n",
              "      <td>20221227106494</td>\n",
              "      <td>Accident</td>\n",
              "      <td>ERA23LA095</td>\n",
              "      <td>2022-12-26</td>\n",
              "      <td>Hampton, NH</td>\n",
              "      <td>United States</td>\n",
              "      <td>NaN</td>\n",
              "      <td>NaN</td>\n",
              "      <td>NaN</td>\n",
              "      <td>NaN</td>\n",
              "      <td>...</td>\n",
              "      <td>NaN</td>\n",
              "      <td>0.0</td>\n",
              "      <td>0.0</td>\n",
              "      <td>0.0</td>\n",
              "      <td>0.0</td>\n",
              "      <td>NaN</td>\n",
              "      <td>NaN</td>\n",
              "      <td>NaN</td>\n",
              "      <td>NaN</td>\n",
              "      <td>NH</td>\n",
              "    </tr>\n",
              "    <tr>\n",
              "      <th>90345</th>\n",
              "      <td>20221227106497</td>\n",
              "      <td>Accident</td>\n",
              "      <td>WPR23LA075</td>\n",
              "      <td>2022-12-26</td>\n",
              "      <td>Payson, AZ</td>\n",
              "      <td>United States</td>\n",
              "      <td>341525N</td>\n",
              "      <td>1112021W</td>\n",
              "      <td>PAN</td>\n",
              "      <td>PAYSON</td>\n",
              "      <td>...</td>\n",
              "      <td>NaN</td>\n",
              "      <td>0.0</td>\n",
              "      <td>0.0</td>\n",
              "      <td>0.0</td>\n",
              "      <td>1.0</td>\n",
              "      <td>VMC</td>\n",
              "      <td>NaN</td>\n",
              "      <td>NaN</td>\n",
              "      <td>27-12-2022</td>\n",
              "      <td>AZ</td>\n",
              "    </tr>\n",
              "    <tr>\n",
              "      <th>90346</th>\n",
              "      <td>20221227106498</td>\n",
              "      <td>Accident</td>\n",
              "      <td>WPR23LA076</td>\n",
              "      <td>2022-12-26</td>\n",
              "      <td>Morgan, UT</td>\n",
              "      <td>United States</td>\n",
              "      <td>NaN</td>\n",
              "      <td>NaN</td>\n",
              "      <td>NaN</td>\n",
              "      <td>NaN</td>\n",
              "      <td>...</td>\n",
              "      <td>MC CESSNA 210N LLC</td>\n",
              "      <td>0.0</td>\n",
              "      <td>0.0</td>\n",
              "      <td>0.0</td>\n",
              "      <td>0.0</td>\n",
              "      <td>NaN</td>\n",
              "      <td>NaN</td>\n",
              "      <td>NaN</td>\n",
              "      <td>NaN</td>\n",
              "      <td>UT</td>\n",
              "    </tr>\n",
              "    <tr>\n",
              "      <th>90347</th>\n",
              "      <td>20221230106513</td>\n",
              "      <td>Accident</td>\n",
              "      <td>ERA23LA097</td>\n",
              "      <td>2022-12-29</td>\n",
              "      <td>Athens, GA</td>\n",
              "      <td>United States</td>\n",
              "      <td>NaN</td>\n",
              "      <td>NaN</td>\n",
              "      <td>NaN</td>\n",
              "      <td>NaN</td>\n",
              "      <td>...</td>\n",
              "      <td>NaN</td>\n",
              "      <td>0.0</td>\n",
              "      <td>1.0</td>\n",
              "      <td>0.0</td>\n",
              "      <td>1.0</td>\n",
              "      <td>NaN</td>\n",
              "      <td>NaN</td>\n",
              "      <td>NaN</td>\n",
              "      <td>30-12-2022</td>\n",
              "      <td>GA</td>\n",
              "    </tr>\n",
              "  </tbody>\n",
              "</table>\n",
              "<p>82248 rows × 32 columns</p>\n",
              "</div>\n",
              "      <button class=\"colab-df-convert\" onclick=\"convertToInteractive('df-9c2fd2a3-5c7a-4ef9-8f5e-2995b87e2dc6')\"\n",
              "              title=\"Convert this dataframe to an interactive table.\"\n",
              "              style=\"display:none;\">\n",
              "        \n",
              "  <svg xmlns=\"http://www.w3.org/2000/svg\" height=\"24px\"viewBox=\"0 0 24 24\"\n",
              "       width=\"24px\">\n",
              "    <path d=\"M0 0h24v24H0V0z\" fill=\"none\"/>\n",
              "    <path d=\"M18.56 5.44l.94 2.06.94-2.06 2.06-.94-2.06-.94-.94-2.06-.94 2.06-2.06.94zm-11 1L8.5 8.5l.94-2.06 2.06-.94-2.06-.94L8.5 2.5l-.94 2.06-2.06.94zm10 10l.94 2.06.94-2.06 2.06-.94-2.06-.94-.94-2.06-.94 2.06-2.06.94z\"/><path d=\"M17.41 7.96l-1.37-1.37c-.4-.4-.92-.59-1.43-.59-.52 0-1.04.2-1.43.59L10.3 9.45l-7.72 7.72c-.78.78-.78 2.05 0 2.83L4 21.41c.39.39.9.59 1.41.59.51 0 1.02-.2 1.41-.59l7.78-7.78 2.81-2.81c.8-.78.8-2.07 0-2.86zM5.41 20L4 18.59l7.72-7.72 1.47 1.35L5.41 20z\"/>\n",
              "  </svg>\n",
              "      </button>\n",
              "      \n",
              "  <style>\n",
              "    .colab-df-container {\n",
              "      display:flex;\n",
              "      flex-wrap:wrap;\n",
              "      gap: 12px;\n",
              "    }\n",
              "\n",
              "    .colab-df-convert {\n",
              "      background-color: #E8F0FE;\n",
              "      border: none;\n",
              "      border-radius: 50%;\n",
              "      cursor: pointer;\n",
              "      display: none;\n",
              "      fill: #1967D2;\n",
              "      height: 32px;\n",
              "      padding: 0 0 0 0;\n",
              "      width: 32px;\n",
              "    }\n",
              "\n",
              "    .colab-df-convert:hover {\n",
              "      background-color: #E2EBFA;\n",
              "      box-shadow: 0px 1px 2px rgba(60, 64, 67, 0.3), 0px 1px 3px 1px rgba(60, 64, 67, 0.15);\n",
              "      fill: #174EA6;\n",
              "    }\n",
              "\n",
              "    [theme=dark] .colab-df-convert {\n",
              "      background-color: #3B4455;\n",
              "      fill: #D2E3FC;\n",
              "    }\n",
              "\n",
              "    [theme=dark] .colab-df-convert:hover {\n",
              "      background-color: #434B5C;\n",
              "      box-shadow: 0px 1px 3px 1px rgba(0, 0, 0, 0.15);\n",
              "      filter: drop-shadow(0px 1px 2px rgba(0, 0, 0, 0.3));\n",
              "      fill: #FFFFFF;\n",
              "    }\n",
              "  </style>\n",
              "\n",
              "      <script>\n",
              "        const buttonEl =\n",
              "          document.querySelector('#df-9c2fd2a3-5c7a-4ef9-8f5e-2995b87e2dc6 button.colab-df-convert');\n",
              "        buttonEl.style.display =\n",
              "          google.colab.kernel.accessAllowed ? 'block' : 'none';\n",
              "\n",
              "        async function convertToInteractive(key) {\n",
              "          const element = document.querySelector('#df-9c2fd2a3-5c7a-4ef9-8f5e-2995b87e2dc6');\n",
              "          const dataTable =\n",
              "            await google.colab.kernel.invokeFunction('convertToInteractive',\n",
              "                                                     [key], {});\n",
              "          if (!dataTable) return;\n",
              "\n",
              "          const docLinkHtml = 'Like what you see? Visit the ' +\n",
              "            '<a target=\"_blank\" href=https://colab.research.google.com/notebooks/data_table.ipynb>data table notebook</a>'\n",
              "            + ' to learn more about interactive tables.';\n",
              "          element.innerHTML = '';\n",
              "          dataTable['output_type'] = 'display_data';\n",
              "          await google.colab.output.renderOutput(dataTable, element);\n",
              "          const docLink = document.createElement('div');\n",
              "          docLink.innerHTML = docLinkHtml;\n",
              "          element.appendChild(docLink);\n",
              "        }\n",
              "      </script>\n",
              "    </div>\n",
              "  </div>\n",
              "  "
            ]
          },
          "metadata": {},
          "execution_count": 9
        }
      ]
    },
    {
      "cell_type": "code",
      "source": [
        "# previewing the data\n",
        "df_usa.info"
      ],
      "metadata": {
        "colab": {
          "base_uri": "https://localhost:8080/"
        },
        "id": "K3d3Hsx76DK6",
        "outputId": "7554e4fa-4877-48f1-e3b1-257a55c8d035"
      },
      "execution_count": null,
      "outputs": [
        {
          "output_type": "execute_result",
          "data": {
            "text/plain": [
              "<bound method DataFrame.info of              Event.Id Investigation.Type Accident.Number  Event.Date  \\\n",
              "0      20001218X45444           Accident      SEA87LA080  1948-10-24   \n",
              "1      20001218X45447           Accident      LAX94LA336  1962-07-19   \n",
              "2      20061025X01555           Accident      NYC07LA005  1974-08-30   \n",
              "3      20001218X45448           Accident      LAX96LA321  1977-06-19   \n",
              "4      20041105X01764           Accident      CHI79FA064  1979-08-02   \n",
              "...               ...                ...             ...         ...   \n",
              "90343  20221227106491           Accident      ERA23LA093  2022-12-26   \n",
              "90344  20221227106494           Accident      ERA23LA095  2022-12-26   \n",
              "90345  20221227106497           Accident      WPR23LA075  2022-12-26   \n",
              "90346  20221227106498           Accident      WPR23LA076  2022-12-26   \n",
              "90347  20221230106513           Accident      ERA23LA097  2022-12-29   \n",
              "\n",
              "              Location        Country   Latitude  Longitude Airport.Code  \\\n",
              "0      MOOSE CREEK, ID  United States        NaN        NaN          NaN   \n",
              "1       BRIDGEPORT, CA  United States        NaN        NaN          NaN   \n",
              "2        Saltville, VA  United States  36.922223 -81.878056          NaN   \n",
              "3           EUREKA, CA  United States        NaN        NaN          NaN   \n",
              "4           Canton, OH  United States        NaN        NaN          NaN   \n",
              "...                ...            ...        ...        ...          ...   \n",
              "90343    Annapolis, MD  United States        NaN        NaN          NaN   \n",
              "90344      Hampton, NH  United States        NaN        NaN          NaN   \n",
              "90345       Payson, AZ  United States    341525N   1112021W          PAN   \n",
              "90346       Morgan, UT  United States        NaN        NaN          NaN   \n",
              "90347       Athens, GA  United States        NaN        NaN          NaN   \n",
              "\n",
              "      Airport.Name  ...         Air.carrier Total.Fatal.Injuries  \\\n",
              "0              NaN  ...                 NaN                  2.0   \n",
              "1              NaN  ...                 NaN                  4.0   \n",
              "2              NaN  ...                 NaN                  3.0   \n",
              "3              NaN  ...                 NaN                  2.0   \n",
              "4              NaN  ...                 NaN                  1.0   \n",
              "...            ...  ...                 ...                  ...   \n",
              "90343          NaN  ...                 NaN                  0.0   \n",
              "90344          NaN  ...                 NaN                  0.0   \n",
              "90345       PAYSON  ...                 NaN                  0.0   \n",
              "90346          NaN  ...  MC CESSNA 210N LLC                  0.0   \n",
              "90347          NaN  ...                 NaN                  0.0   \n",
              "\n",
              "      Total.Serious.Injuries Total.Minor.Injuries Total.Uninjured  \\\n",
              "0                        0.0                  0.0             0.0   \n",
              "1                        0.0                  0.0             0.0   \n",
              "2                        NaN                  NaN             NaN   \n",
              "3                        0.0                  0.0             0.0   \n",
              "4                        2.0                  NaN             0.0   \n",
              "...                      ...                  ...             ...   \n",
              "90343                    1.0                  0.0             0.0   \n",
              "90344                    0.0                  0.0             0.0   \n",
              "90345                    0.0                  0.0             1.0   \n",
              "90346                    0.0                  0.0             0.0   \n",
              "90347                    1.0                  0.0             1.0   \n",
              "\n",
              "      Weather.Condition Broad.phase.of.flight   Report.Status  \\\n",
              "0                   UNK                Cruise  Probable Cause   \n",
              "1                   UNK               Unknown  Probable Cause   \n",
              "2                   IMC                Cruise  Probable Cause   \n",
              "3                   IMC                Cruise  Probable Cause   \n",
              "4                   VMC              Approach  Probable Cause   \n",
              "...                 ...                   ...             ...   \n",
              "90343               NaN                   NaN             NaN   \n",
              "90344               NaN                   NaN             NaN   \n",
              "90345               VMC                   NaN             NaN   \n",
              "90346               NaN                   NaN             NaN   \n",
              "90347               NaN                   NaN             NaN   \n",
              "\n",
              "      Publication.Date State  \n",
              "0                  NaN    ID  \n",
              "1           19-09-1996    CA  \n",
              "2           26-02-2007    VA  \n",
              "3           12-09-2000    CA  \n",
              "4           16-04-1980    OH  \n",
              "...                ...   ...  \n",
              "90343       29-12-2022    MD  \n",
              "90344              NaN    NH  \n",
              "90345       27-12-2022    AZ  \n",
              "90346              NaN    UT  \n",
              "90347       30-12-2022    GA  \n",
              "\n",
              "[82248 rows x 32 columns]>"
            ]
          },
          "metadata": {},
          "execution_count": 15
        }
      ]
    },
    {
      "cell_type": "code",
      "source": [
        "#sanity check list of states to ensure proper filtering\n",
        "# I see some missing states still so we need to investigate further\n",
        "# also there are several Hawaii locations that need to be cleaned up\n",
        "usa_state_list = df_usa['State'].tolist() \n",
        "unique_usa_state_list = set(state_list)\n",
        "unique_usa_state_list"
      ],
      "metadata": {
        "colab": {
          "base_uri": "https://localhost:8080/"
        },
        "id": "QZ3NbCzN7ij4",
        "outputId": "b9504208-c5c3-411e-d5ec-7c33f6ea94c0"
      },
      "execution_count": null,
      "outputs": [
        {
          "output_type": "execute_result",
          "data": {
            "text/plain": [
              "{'',\n",
              " 'AK',\n",
              " 'AL',\n",
              " 'AO',\n",
              " 'AR',\n",
              " 'AZ',\n",
              " 'CA',\n",
              " 'CB',\n",
              " 'CO',\n",
              " 'CT',\n",
              " 'DC',\n",
              " 'DE',\n",
              " 'FL',\n",
              " 'GA',\n",
              " 'GM',\n",
              " 'GU',\n",
              " 'HI',\n",
              " 'HONOLULU',\n",
              " 'IA',\n",
              " 'ID',\n",
              " 'IL',\n",
              " 'IN',\n",
              " 'KAUAI',\n",
              " 'KS',\n",
              " 'KY',\n",
              " 'Kauai',\n",
              " 'LA',\n",
              " 'MA',\n",
              " \"MANU'A\",\n",
              " 'MAUI',\n",
              " 'MD',\n",
              " 'ME',\n",
              " 'MG',\n",
              " 'MI',\n",
              " 'MN',\n",
              " 'MO',\n",
              " 'MOLOKAI',\n",
              " 'MS',\n",
              " 'MT',\n",
              " 'Maui',\n",
              " 'NC',\n",
              " 'ND',\n",
              " 'NE',\n",
              " 'NH',\n",
              " 'NJ',\n",
              " 'NM',\n",
              " 'NV',\n",
              " 'NY',\n",
              " 'NYC',\n",
              " None,\n",
              " 'OAHU',\n",
              " 'OF',\n",
              " 'OH',\n",
              " 'OK',\n",
              " 'OR',\n",
              " 'Oahu',\n",
              " 'PA',\n",
              " 'PO',\n",
              " 'PR',\n",
              " 'RI',\n",
              " 'SC',\n",
              " 'SD',\n",
              " 'San Juan Is.',\n",
              " 'TN',\n",
              " 'TX',\n",
              " 'UN',\n",
              " 'UT',\n",
              " 'VA',\n",
              " 'VI',\n",
              " 'VT',\n",
              " 'WA',\n",
              " 'WI',\n",
              " 'WV',\n",
              " 'WY'}"
            ]
          },
          "metadata": {},
          "execution_count": 23
        }
      ]
    },
    {
      "cell_type": "code",
      "source": [
        "# investigating state abbreviations I don't recognize\n",
        "df_fly_mg = df[df['State'] == 'MG']\n",
        "df_fly_mg"
      ],
      "metadata": {
        "colab": {
          "base_uri": "https://localhost:8080/",
          "height": 208
        },
        "id": "K9__WA51A1dA",
        "outputId": "802e3486-6fcc-49a9-baf7-0e1d9b9a692e"
      },
      "execution_count": null,
      "outputs": [
        {
          "output_type": "execute_result",
          "data": {
            "text/plain": [
              "             Event.Id Investigation.Type Accident.Number  Event.Date  \\\n",
              "86847  20210204102602           Accident      GAA21WA013  2020-12-22   \n",
              "\n",
              "                 Location        Country Latitude Longitude Airport.Code  \\\n",
              "86847  Uberlandia, MG, OF  United States      NaN       NaN         SBUL   \n",
              "\n",
              "                         Airport.Name  ... Air.carrier Total.Fatal.Injuries  \\\n",
              "86847  TEN CEL AV Cesar Bombonato Aer  ...         NaN                  0.0   \n",
              "\n",
              "      Total.Serious.Injuries Total.Minor.Injuries Total.Uninjured  \\\n",
              "86847                    0.0                  0.0             5.0   \n",
              "\n",
              "      Weather.Condition Broad.phase.of.flight  Report.Status Publication.Date  \\\n",
              "86847               NaN                   NaN            NaN              NaN   \n",
              "\n",
              "      State  \n",
              "86847    MG  \n",
              "\n",
              "[1 rows x 32 columns]"
            ],
            "text/html": [
              "\n",
              "  <div id=\"df-6dabbf73-312b-4bf5-a352-8e94c4ccf3ee\">\n",
              "    <div class=\"colab-df-container\">\n",
              "      <div>\n",
              "<style scoped>\n",
              "    .dataframe tbody tr th:only-of-type {\n",
              "        vertical-align: middle;\n",
              "    }\n",
              "\n",
              "    .dataframe tbody tr th {\n",
              "        vertical-align: top;\n",
              "    }\n",
              "\n",
              "    .dataframe thead th {\n",
              "        text-align: right;\n",
              "    }\n",
              "</style>\n",
              "<table border=\"1\" class=\"dataframe\">\n",
              "  <thead>\n",
              "    <tr style=\"text-align: right;\">\n",
              "      <th></th>\n",
              "      <th>Event.Id</th>\n",
              "      <th>Investigation.Type</th>\n",
              "      <th>Accident.Number</th>\n",
              "      <th>Event.Date</th>\n",
              "      <th>Location</th>\n",
              "      <th>Country</th>\n",
              "      <th>Latitude</th>\n",
              "      <th>Longitude</th>\n",
              "      <th>Airport.Code</th>\n",
              "      <th>Airport.Name</th>\n",
              "      <th>...</th>\n",
              "      <th>Air.carrier</th>\n",
              "      <th>Total.Fatal.Injuries</th>\n",
              "      <th>Total.Serious.Injuries</th>\n",
              "      <th>Total.Minor.Injuries</th>\n",
              "      <th>Total.Uninjured</th>\n",
              "      <th>Weather.Condition</th>\n",
              "      <th>Broad.phase.of.flight</th>\n",
              "      <th>Report.Status</th>\n",
              "      <th>Publication.Date</th>\n",
              "      <th>State</th>\n",
              "    </tr>\n",
              "  </thead>\n",
              "  <tbody>\n",
              "    <tr>\n",
              "      <th>86847</th>\n",
              "      <td>20210204102602</td>\n",
              "      <td>Accident</td>\n",
              "      <td>GAA21WA013</td>\n",
              "      <td>2020-12-22</td>\n",
              "      <td>Uberlandia, MG, OF</td>\n",
              "      <td>United States</td>\n",
              "      <td>NaN</td>\n",
              "      <td>NaN</td>\n",
              "      <td>SBUL</td>\n",
              "      <td>TEN CEL AV Cesar Bombonato Aer</td>\n",
              "      <td>...</td>\n",
              "      <td>NaN</td>\n",
              "      <td>0.0</td>\n",
              "      <td>0.0</td>\n",
              "      <td>0.0</td>\n",
              "      <td>5.0</td>\n",
              "      <td>NaN</td>\n",
              "      <td>NaN</td>\n",
              "      <td>NaN</td>\n",
              "      <td>NaN</td>\n",
              "      <td>MG</td>\n",
              "    </tr>\n",
              "  </tbody>\n",
              "</table>\n",
              "<p>1 rows × 32 columns</p>\n",
              "</div>\n",
              "      <button class=\"colab-df-convert\" onclick=\"convertToInteractive('df-6dabbf73-312b-4bf5-a352-8e94c4ccf3ee')\"\n",
              "              title=\"Convert this dataframe to an interactive table.\"\n",
              "              style=\"display:none;\">\n",
              "        \n",
              "  <svg xmlns=\"http://www.w3.org/2000/svg\" height=\"24px\"viewBox=\"0 0 24 24\"\n",
              "       width=\"24px\">\n",
              "    <path d=\"M0 0h24v24H0V0z\" fill=\"none\"/>\n",
              "    <path d=\"M18.56 5.44l.94 2.06.94-2.06 2.06-.94-2.06-.94-.94-2.06-.94 2.06-2.06.94zm-11 1L8.5 8.5l.94-2.06 2.06-.94-2.06-.94L8.5 2.5l-.94 2.06-2.06.94zm10 10l.94 2.06.94-2.06 2.06-.94-2.06-.94-.94-2.06-.94 2.06-2.06.94z\"/><path d=\"M17.41 7.96l-1.37-1.37c-.4-.4-.92-.59-1.43-.59-.52 0-1.04.2-1.43.59L10.3 9.45l-7.72 7.72c-.78.78-.78 2.05 0 2.83L4 21.41c.39.39.9.59 1.41.59.51 0 1.02-.2 1.41-.59l7.78-7.78 2.81-2.81c.8-.78.8-2.07 0-2.86zM5.41 20L4 18.59l7.72-7.72 1.47 1.35L5.41 20z\"/>\n",
              "  </svg>\n",
              "      </button>\n",
              "      \n",
              "  <style>\n",
              "    .colab-df-container {\n",
              "      display:flex;\n",
              "      flex-wrap:wrap;\n",
              "      gap: 12px;\n",
              "    }\n",
              "\n",
              "    .colab-df-convert {\n",
              "      background-color: #E8F0FE;\n",
              "      border: none;\n",
              "      border-radius: 50%;\n",
              "      cursor: pointer;\n",
              "      display: none;\n",
              "      fill: #1967D2;\n",
              "      height: 32px;\n",
              "      padding: 0 0 0 0;\n",
              "      width: 32px;\n",
              "    }\n",
              "\n",
              "    .colab-df-convert:hover {\n",
              "      background-color: #E2EBFA;\n",
              "      box-shadow: 0px 1px 2px rgba(60, 64, 67, 0.3), 0px 1px 3px 1px rgba(60, 64, 67, 0.15);\n",
              "      fill: #174EA6;\n",
              "    }\n",
              "\n",
              "    [theme=dark] .colab-df-convert {\n",
              "      background-color: #3B4455;\n",
              "      fill: #D2E3FC;\n",
              "    }\n",
              "\n",
              "    [theme=dark] .colab-df-convert:hover {\n",
              "      background-color: #434B5C;\n",
              "      box-shadow: 0px 1px 3px 1px rgba(0, 0, 0, 0.15);\n",
              "      filter: drop-shadow(0px 1px 2px rgba(0, 0, 0, 0.3));\n",
              "      fill: #FFFFFF;\n",
              "    }\n",
              "  </style>\n",
              "\n",
              "      <script>\n",
              "        const buttonEl =\n",
              "          document.querySelector('#df-6dabbf73-312b-4bf5-a352-8e94c4ccf3ee button.colab-df-convert');\n",
              "        buttonEl.style.display =\n",
              "          google.colab.kernel.accessAllowed ? 'block' : 'none';\n",
              "\n",
              "        async function convertToInteractive(key) {\n",
              "          const element = document.querySelector('#df-6dabbf73-312b-4bf5-a352-8e94c4ccf3ee');\n",
              "          const dataTable =\n",
              "            await google.colab.kernel.invokeFunction('convertToInteractive',\n",
              "                                                     [key], {});\n",
              "          if (!dataTable) return;\n",
              "\n",
              "          const docLinkHtml = 'Like what you see? Visit the ' +\n",
              "            '<a target=\"_blank\" href=https://colab.research.google.com/notebooks/data_table.ipynb>data table notebook</a>'\n",
              "            + ' to learn more about interactive tables.';\n",
              "          element.innerHTML = '';\n",
              "          dataTable['output_type'] = 'display_data';\n",
              "          await google.colab.output.renderOutput(dataTable, element);\n",
              "          const docLink = document.createElement('div');\n",
              "          docLink.innerHTML = docLinkHtml;\n",
              "          element.appendChild(docLink);\n",
              "        }\n",
              "      </script>\n",
              "    </div>\n",
              "  </div>\n",
              "  "
            ]
          },
          "metadata": {},
          "execution_count": 35
        }
      ]
    },
    {
      "cell_type": "code",
      "source": [
        "# export csv to google drive\n",
        "# with only 63 records, it will be quicker to examine in a google sheet\n",
        "path = '/content/drive/My Drive/blank_us_state_records.csv'\n",
        "with open(path, 'w', encoding = 'utf-8-sig') as f:\n",
        "  df_fly_blank_state_us.to_csv(f)"
      ],
      "metadata": {
        "id": "0s4VVxmiusRC"
      },
      "execution_count": null,
      "outputs": []
    },
    {
      "cell_type": "code",
      "source": [
        "# sanity check with unique country list to ensure proper filtering\n",
        "usa_country_list = df_usa['Country'].tolist() \n",
        "unique_usa_country = set(usa_country_list_wtf_2)\n",
        "unique_usa_country"
      ],
      "metadata": {
        "colab": {
          "base_uri": "https://localhost:8080/"
        },
        "id": "NCOrl4_k7Ohi",
        "outputId": "3b4abd73-43ce-4a43-aefe-7f7f108b736d"
      },
      "execution_count": null,
      "outputs": [
        {
          "output_type": "execute_result",
          "data": {
            "text/plain": [
              "{'United States'}"
            ]
          },
          "metadata": {},
          "execution_count": 22
        }
      ]
    },
    {
      "cell_type": "code",
      "source": [
        "# making an airplanes only dataframe as we will likely recommend planes\n",
        "df_usa_airplanes_only = df_usa[df_usa['Aircraft.Category'] == 'Airplane']\n"
      ],
      "metadata": {
        "id": "vqluG5w14Xv7"
      },
      "execution_count": null,
      "outputs": []
    },
    {
      "cell_type": "code",
      "source": [
        "# getting the length of the usa dataframe to be able to compare it with the airplanes only usa dataframe\n",
        "len(df_usa)"
      ],
      "metadata": {
        "colab": {
          "base_uri": "https://localhost:8080/"
        },
        "id": "hhcb5wJt4t6e",
        "outputId": "23d41cca-b120-4746-a7f8-61cc6bac3d6d"
      },
      "execution_count": null,
      "outputs": [
        {
          "output_type": "execute_result",
          "data": {
            "text/plain": [
              "82248"
            ]
          },
          "metadata": {},
          "execution_count": 149
        }
      ]
    },
    {
      "cell_type": "code",
      "source": [
        "len(df_usa_airplanes_only)"
      ],
      "metadata": {
        "colab": {
          "base_uri": "https://localhost:8080/"
        },
        "id": "IvlP0tRj4xjL",
        "outputId": "bcdc3469-acf6-4409-f4c2-ff696aa6a027"
      },
      "execution_count": null,
      "outputs": [
        {
          "output_type": "execute_result",
          "data": {
            "text/plain": [
              "24229"
            ]
          },
          "metadata": {},
          "execution_count": 150
        }
      ]
    },
    {
      "cell_type": "code",
      "source": [
        "# previewing the data\n",
        "df_usa_airplanes_only.head(3)"
      ],
      "metadata": {
        "id": "8xmQt3vK4rXV"
      },
      "execution_count": null,
      "outputs": []
    },
    {
      "cell_type": "code",
      "source": [
        "# exporting csv to google drive\n",
        "path = '/content/drive/My Drive/df_usa_airplanes_only.csv'\n",
        "with open(path, 'w', encoding = 'utf-8-sig') as f:\n",
        "  df_usa_airplanes_only.to_csv(f)"
      ],
      "metadata": {
        "id": "_ooyIuEgbtCV"
      },
      "execution_count": null,
      "outputs": []
    },
    {
      "cell_type": "code",
      "source": [
        "# exporting csv to google drive\n",
        "path = '/content/drive/My Drive/df_usa.csv'\n",
        "with open(path, 'w', encoding = 'utf-8-sig') as f:\n",
        "  df_usa.to_csv(f)"
      ],
      "metadata": {
        "id": "GbiKiQD-bzmK"
      },
      "execution_count": null,
      "outputs": []
    },
    {
      "cell_type": "markdown",
      "source": [
        "# Making a new USA dataframe via concatenation\n",
        "Note: I parsed prematurely by cleaning the state data instead of cleaning the USA dataframe and filtering after. So I made a new USA dataframe from the individual states whose records I trust.\n",
        "\n",
        "The creation of the individual state dataframes that did not otherwise get used is at the bottom of this notebook."
      ],
      "metadata": {
        "id": "OcTqaqpcUd0n"
      }
    },
    {
      "cell_type": "code",
      "source": [
        "df_usa_from_state_concat = pd.concat([df_fly_ak, df_fly_al, df_fly_ar, df_fly_az, df_fly_ca, df_fly_ao, df_fly_co, df_fly_ct, df_fly_dc, df_fly_de, df_fly_ga,\n",
        "         df_fly_gm, df_fly_gu, df_fly_ia, df_fly_id, df_fly_il, df_fly_in, df_fly_hi, df_fly_ks, df_fly_ky, df_fly_ma, df_fly_md, df_fly_me, df_fly_mi,\n",
        "         df_fly_mn, df_fly_mo, df_fly_ms, df_fly_mt, df_fly_nc, df_fly_nd, df_fly_ne, df_fly_nj, df_fly_nm, df_fly_nv, df_fly_ny, df_fly_oh, df_fly_ok,\n",
        "         df_fly_or, df_fly_pa, df_fly_pa, df_fly_pr, df_fly_ri, df_fly_wa, df_fly_sc, df_fly_sd, df_fly_tn, df_fly_tx, df_fly_ut, df_fly_va, df_fly_vi,\n",
        "         df_fly_vt, df_fly_wi, df_fly_wv, df_fly_wy], ignore_index = True)\n",
        "\n",
        "df_usa_from_state_concat.reset_index()\n",
        "  \n"
      ],
      "metadata": {
        "colab": {
          "base_uri": "https://localhost:8080/",
          "height": 678
        },
        "id": "Msg_UNfGdV90",
        "outputId": "04661937-f470-4a37-f27e-e5063f3bb281"
      },
      "execution_count": null,
      "outputs": [
        {
          "output_type": "execute_result",
          "data": {
            "text/plain": [
              "       index        Event.Id Investigation.Type Accident.Number  Event.Date  \\\n",
              "0          0  20020917X01656           Accident      ANC82FAG14  1982-01-02   \n",
              "1          1  20020917X01651           Accident      ANC82FA012  1982-01-05   \n",
              "2          2  20020917X01623           Accident      ANC82DA013  1982-01-10   \n",
              "3          3  20020917X01625           Accident      ANC82DA015  1982-01-15   \n",
              "4          4  20020917X01624           Accident      ANC82DA014  1982-01-17   \n",
              "...      ...             ...                ...             ...         ...   \n",
              "76573  76573  20220715105483           Accident      WPR22FA253  2022-07-14   \n",
              "76574  76574  20220906105867           Accident      WPR22LA334  2022-09-05   \n",
              "76575  76575  20220919105969           Accident      WPR22LA352  2022-09-15   \n",
              "76576  76576  20221018106155           Accident      WPR23LA016  2022-10-14   \n",
              "76577  76577  20221024106187           Accident      WPR23LA024  2022-10-18   \n",
              "\n",
              "               Location        Country Latitude Longitude Airport.Code  ...  \\\n",
              "0           SKWENTA, AK  United States      NaN       NaN          NaN  ...   \n",
              "1            BETHEL, AK  United States      NaN       NaN          BET  ...   \n",
              "2         QUINHAGAK, AK  United States      NaN       NaN          NaN  ...   \n",
              "3      NEAR NUIQSUT, AK  United States      NaN       NaN          NaN  ...   \n",
              "4         ANCHORAGE, AK  United States      NaN       NaN          MRI  ...   \n",
              "...                 ...            ...      ...       ...          ...  ...   \n",
              "76573       Buffalo, WY  United States  044267N  0106573W          NaN  ...   \n",
              "76574  Medicine Bow, WY  United States  415354N  1062620W          NaN  ...   \n",
              "76575        Lander, WY  United States  042339N  0108823W          NaN  ...   \n",
              "76576       Laramie, WY  United States  411310N  1052621W          LAR  ...   \n",
              "76577      Evanston, WY  United States  411629N  0011125W          EVW  ...   \n",
              "\n",
              "                     Air.carrier Total.Fatal.Injuries Total.Serious.Injuries  \\\n",
              "0                            NaN                  3.0                    0.0   \n",
              "1      Executive Charter Service                  0.0                    2.0   \n",
              "2           Tri-city Air Service                  0.0                    0.0   \n",
              "3            Sea Airmotive, Inc.                  0.0                    0.0   \n",
              "4                            NaN                  0.0                    0.0   \n",
              "...                          ...                  ...                    ...   \n",
              "76573                        NaN                  2.0                    0.0   \n",
              "76574                        NaN                  0.0                    0.0   \n",
              "76575                        NaN                  0.0                    0.0   \n",
              "76576                        NaN                  0.0                    0.0   \n",
              "76577          WILLIAM R. BENSYL                  0.0                    0.0   \n",
              "\n",
              "      Total.Minor.Injuries Total.Uninjured Weather.Condition  \\\n",
              "0                      0.0             0.0               VMC   \n",
              "1                      0.0             0.0               VMC   \n",
              "2                      3.0             0.0               VMC   \n",
              "3                      0.0             4.0               VMC   \n",
              "4                      1.0             1.0               VMC   \n",
              "...                    ...             ...               ...   \n",
              "76573                  0.0             0.0               VMC   \n",
              "76574                  2.0             0.0               VMC   \n",
              "76575                  0.0             1.0               VMC   \n",
              "76576                  0.0             1.0               VMC   \n",
              "76577                  0.0             1.0               VMC   \n",
              "\n",
              "      Broad.phase.of.flight   Report.Status  Publication.Date State  \n",
              "0                   Unknown  Probable Cause        02-01-1983    AK  \n",
              "1                   Takeoff  Probable Cause        05-01-1983    AK  \n",
              "2                    Cruise  Probable Cause        10-01-1983    AK  \n",
              "3                   Landing  Probable Cause        15-01-1983    AK  \n",
              "4                   Takeoff  Probable Cause        17-01-1983    AK  \n",
              "...                     ...             ...               ...   ...  \n",
              "76573                   NaN             NaN        02-08-2022    WY  \n",
              "76574                   NaN             NaN        26-09-2022    WY  \n",
              "76575                   NaN             NaN        23-09-2022    WY  \n",
              "76576                   NaN             NaN        04-11-2022    WY  \n",
              "76577                   NaN             NaN        08-12-2022    WY  \n",
              "\n",
              "[76578 rows x 33 columns]"
            ],
            "text/html": [
              "\n",
              "  <div id=\"df-fb12b60d-a01e-447e-aa49-39b51539d132\">\n",
              "    <div class=\"colab-df-container\">\n",
              "      <div>\n",
              "<style scoped>\n",
              "    .dataframe tbody tr th:only-of-type {\n",
              "        vertical-align: middle;\n",
              "    }\n",
              "\n",
              "    .dataframe tbody tr th {\n",
              "        vertical-align: top;\n",
              "    }\n",
              "\n",
              "    .dataframe thead th {\n",
              "        text-align: right;\n",
              "    }\n",
              "</style>\n",
              "<table border=\"1\" class=\"dataframe\">\n",
              "  <thead>\n",
              "    <tr style=\"text-align: right;\">\n",
              "      <th></th>\n",
              "      <th>index</th>\n",
              "      <th>Event.Id</th>\n",
              "      <th>Investigation.Type</th>\n",
              "      <th>Accident.Number</th>\n",
              "      <th>Event.Date</th>\n",
              "      <th>Location</th>\n",
              "      <th>Country</th>\n",
              "      <th>Latitude</th>\n",
              "      <th>Longitude</th>\n",
              "      <th>Airport.Code</th>\n",
              "      <th>...</th>\n",
              "      <th>Air.carrier</th>\n",
              "      <th>Total.Fatal.Injuries</th>\n",
              "      <th>Total.Serious.Injuries</th>\n",
              "      <th>Total.Minor.Injuries</th>\n",
              "      <th>Total.Uninjured</th>\n",
              "      <th>Weather.Condition</th>\n",
              "      <th>Broad.phase.of.flight</th>\n",
              "      <th>Report.Status</th>\n",
              "      <th>Publication.Date</th>\n",
              "      <th>State</th>\n",
              "    </tr>\n",
              "  </thead>\n",
              "  <tbody>\n",
              "    <tr>\n",
              "      <th>0</th>\n",
              "      <td>0</td>\n",
              "      <td>20020917X01656</td>\n",
              "      <td>Accident</td>\n",
              "      <td>ANC82FAG14</td>\n",
              "      <td>1982-01-02</td>\n",
              "      <td>SKWENTA, AK</td>\n",
              "      <td>United States</td>\n",
              "      <td>NaN</td>\n",
              "      <td>NaN</td>\n",
              "      <td>NaN</td>\n",
              "      <td>...</td>\n",
              "      <td>NaN</td>\n",
              "      <td>3.0</td>\n",
              "      <td>0.0</td>\n",
              "      <td>0.0</td>\n",
              "      <td>0.0</td>\n",
              "      <td>VMC</td>\n",
              "      <td>Unknown</td>\n",
              "      <td>Probable Cause</td>\n",
              "      <td>02-01-1983</td>\n",
              "      <td>AK</td>\n",
              "    </tr>\n",
              "    <tr>\n",
              "      <th>1</th>\n",
              "      <td>1</td>\n",
              "      <td>20020917X01651</td>\n",
              "      <td>Accident</td>\n",
              "      <td>ANC82FA012</td>\n",
              "      <td>1982-01-05</td>\n",
              "      <td>BETHEL, AK</td>\n",
              "      <td>United States</td>\n",
              "      <td>NaN</td>\n",
              "      <td>NaN</td>\n",
              "      <td>BET</td>\n",
              "      <td>...</td>\n",
              "      <td>Executive Charter Service</td>\n",
              "      <td>0.0</td>\n",
              "      <td>2.0</td>\n",
              "      <td>0.0</td>\n",
              "      <td>0.0</td>\n",
              "      <td>VMC</td>\n",
              "      <td>Takeoff</td>\n",
              "      <td>Probable Cause</td>\n",
              "      <td>05-01-1983</td>\n",
              "      <td>AK</td>\n",
              "    </tr>\n",
              "    <tr>\n",
              "      <th>2</th>\n",
              "      <td>2</td>\n",
              "      <td>20020917X01623</td>\n",
              "      <td>Accident</td>\n",
              "      <td>ANC82DA013</td>\n",
              "      <td>1982-01-10</td>\n",
              "      <td>QUINHAGAK, AK</td>\n",
              "      <td>United States</td>\n",
              "      <td>NaN</td>\n",
              "      <td>NaN</td>\n",
              "      <td>NaN</td>\n",
              "      <td>...</td>\n",
              "      <td>Tri-city Air Service</td>\n",
              "      <td>0.0</td>\n",
              "      <td>0.0</td>\n",
              "      <td>3.0</td>\n",
              "      <td>0.0</td>\n",
              "      <td>VMC</td>\n",
              "      <td>Cruise</td>\n",
              "      <td>Probable Cause</td>\n",
              "      <td>10-01-1983</td>\n",
              "      <td>AK</td>\n",
              "    </tr>\n",
              "    <tr>\n",
              "      <th>3</th>\n",
              "      <td>3</td>\n",
              "      <td>20020917X01625</td>\n",
              "      <td>Accident</td>\n",
              "      <td>ANC82DA015</td>\n",
              "      <td>1982-01-15</td>\n",
              "      <td>NEAR NUIQSUT, AK</td>\n",
              "      <td>United States</td>\n",
              "      <td>NaN</td>\n",
              "      <td>NaN</td>\n",
              "      <td>NaN</td>\n",
              "      <td>...</td>\n",
              "      <td>Sea Airmotive, Inc.</td>\n",
              "      <td>0.0</td>\n",
              "      <td>0.0</td>\n",
              "      <td>0.0</td>\n",
              "      <td>4.0</td>\n",
              "      <td>VMC</td>\n",
              "      <td>Landing</td>\n",
              "      <td>Probable Cause</td>\n",
              "      <td>15-01-1983</td>\n",
              "      <td>AK</td>\n",
              "    </tr>\n",
              "    <tr>\n",
              "      <th>4</th>\n",
              "      <td>4</td>\n",
              "      <td>20020917X01624</td>\n",
              "      <td>Accident</td>\n",
              "      <td>ANC82DA014</td>\n",
              "      <td>1982-01-17</td>\n",
              "      <td>ANCHORAGE, AK</td>\n",
              "      <td>United States</td>\n",
              "      <td>NaN</td>\n",
              "      <td>NaN</td>\n",
              "      <td>MRI</td>\n",
              "      <td>...</td>\n",
              "      <td>NaN</td>\n",
              "      <td>0.0</td>\n",
              "      <td>0.0</td>\n",
              "      <td>1.0</td>\n",
              "      <td>1.0</td>\n",
              "      <td>VMC</td>\n",
              "      <td>Takeoff</td>\n",
              "      <td>Probable Cause</td>\n",
              "      <td>17-01-1983</td>\n",
              "      <td>AK</td>\n",
              "    </tr>\n",
              "    <tr>\n",
              "      <th>...</th>\n",
              "      <td>...</td>\n",
              "      <td>...</td>\n",
              "      <td>...</td>\n",
              "      <td>...</td>\n",
              "      <td>...</td>\n",
              "      <td>...</td>\n",
              "      <td>...</td>\n",
              "      <td>...</td>\n",
              "      <td>...</td>\n",
              "      <td>...</td>\n",
              "      <td>...</td>\n",
              "      <td>...</td>\n",
              "      <td>...</td>\n",
              "      <td>...</td>\n",
              "      <td>...</td>\n",
              "      <td>...</td>\n",
              "      <td>...</td>\n",
              "      <td>...</td>\n",
              "      <td>...</td>\n",
              "      <td>...</td>\n",
              "      <td>...</td>\n",
              "    </tr>\n",
              "    <tr>\n",
              "      <th>76573</th>\n",
              "      <td>76573</td>\n",
              "      <td>20220715105483</td>\n",
              "      <td>Accident</td>\n",
              "      <td>WPR22FA253</td>\n",
              "      <td>2022-07-14</td>\n",
              "      <td>Buffalo, WY</td>\n",
              "      <td>United States</td>\n",
              "      <td>044267N</td>\n",
              "      <td>0106573W</td>\n",
              "      <td>NaN</td>\n",
              "      <td>...</td>\n",
              "      <td>NaN</td>\n",
              "      <td>2.0</td>\n",
              "      <td>0.0</td>\n",
              "      <td>0.0</td>\n",
              "      <td>0.0</td>\n",
              "      <td>VMC</td>\n",
              "      <td>NaN</td>\n",
              "      <td>NaN</td>\n",
              "      <td>02-08-2022</td>\n",
              "      <td>WY</td>\n",
              "    </tr>\n",
              "    <tr>\n",
              "      <th>76574</th>\n",
              "      <td>76574</td>\n",
              "      <td>20220906105867</td>\n",
              "      <td>Accident</td>\n",
              "      <td>WPR22LA334</td>\n",
              "      <td>2022-09-05</td>\n",
              "      <td>Medicine Bow, WY</td>\n",
              "      <td>United States</td>\n",
              "      <td>415354N</td>\n",
              "      <td>1062620W</td>\n",
              "      <td>NaN</td>\n",
              "      <td>...</td>\n",
              "      <td>NaN</td>\n",
              "      <td>0.0</td>\n",
              "      <td>0.0</td>\n",
              "      <td>2.0</td>\n",
              "      <td>0.0</td>\n",
              "      <td>VMC</td>\n",
              "      <td>NaN</td>\n",
              "      <td>NaN</td>\n",
              "      <td>26-09-2022</td>\n",
              "      <td>WY</td>\n",
              "    </tr>\n",
              "    <tr>\n",
              "      <th>76575</th>\n",
              "      <td>76575</td>\n",
              "      <td>20220919105969</td>\n",
              "      <td>Accident</td>\n",
              "      <td>WPR22LA352</td>\n",
              "      <td>2022-09-15</td>\n",
              "      <td>Lander, WY</td>\n",
              "      <td>United States</td>\n",
              "      <td>042339N</td>\n",
              "      <td>0108823W</td>\n",
              "      <td>NaN</td>\n",
              "      <td>...</td>\n",
              "      <td>NaN</td>\n",
              "      <td>0.0</td>\n",
              "      <td>0.0</td>\n",
              "      <td>0.0</td>\n",
              "      <td>1.0</td>\n",
              "      <td>VMC</td>\n",
              "      <td>NaN</td>\n",
              "      <td>NaN</td>\n",
              "      <td>23-09-2022</td>\n",
              "      <td>WY</td>\n",
              "    </tr>\n",
              "    <tr>\n",
              "      <th>76576</th>\n",
              "      <td>76576</td>\n",
              "      <td>20221018106155</td>\n",
              "      <td>Accident</td>\n",
              "      <td>WPR23LA016</td>\n",
              "      <td>2022-10-14</td>\n",
              "      <td>Laramie, WY</td>\n",
              "      <td>United States</td>\n",
              "      <td>411310N</td>\n",
              "      <td>1052621W</td>\n",
              "      <td>LAR</td>\n",
              "      <td>...</td>\n",
              "      <td>NaN</td>\n",
              "      <td>0.0</td>\n",
              "      <td>0.0</td>\n",
              "      <td>0.0</td>\n",
              "      <td>1.0</td>\n",
              "      <td>VMC</td>\n",
              "      <td>NaN</td>\n",
              "      <td>NaN</td>\n",
              "      <td>04-11-2022</td>\n",
              "      <td>WY</td>\n",
              "    </tr>\n",
              "    <tr>\n",
              "      <th>76577</th>\n",
              "      <td>76577</td>\n",
              "      <td>20221024106187</td>\n",
              "      <td>Accident</td>\n",
              "      <td>WPR23LA024</td>\n",
              "      <td>2022-10-18</td>\n",
              "      <td>Evanston, WY</td>\n",
              "      <td>United States</td>\n",
              "      <td>411629N</td>\n",
              "      <td>0011125W</td>\n",
              "      <td>EVW</td>\n",
              "      <td>...</td>\n",
              "      <td>WILLIAM R. BENSYL</td>\n",
              "      <td>0.0</td>\n",
              "      <td>0.0</td>\n",
              "      <td>0.0</td>\n",
              "      <td>1.0</td>\n",
              "      <td>VMC</td>\n",
              "      <td>NaN</td>\n",
              "      <td>NaN</td>\n",
              "      <td>08-12-2022</td>\n",
              "      <td>WY</td>\n",
              "    </tr>\n",
              "  </tbody>\n",
              "</table>\n",
              "<p>76578 rows × 33 columns</p>\n",
              "</div>\n",
              "      <button class=\"colab-df-convert\" onclick=\"convertToInteractive('df-fb12b60d-a01e-447e-aa49-39b51539d132')\"\n",
              "              title=\"Convert this dataframe to an interactive table.\"\n",
              "              style=\"display:none;\">\n",
              "        \n",
              "  <svg xmlns=\"http://www.w3.org/2000/svg\" height=\"24px\"viewBox=\"0 0 24 24\"\n",
              "       width=\"24px\">\n",
              "    <path d=\"M0 0h24v24H0V0z\" fill=\"none\"/>\n",
              "    <path d=\"M18.56 5.44l.94 2.06.94-2.06 2.06-.94-2.06-.94-.94-2.06-.94 2.06-2.06.94zm-11 1L8.5 8.5l.94-2.06 2.06-.94-2.06-.94L8.5 2.5l-.94 2.06-2.06.94zm10 10l.94 2.06.94-2.06 2.06-.94-2.06-.94-.94-2.06-.94 2.06-2.06.94z\"/><path d=\"M17.41 7.96l-1.37-1.37c-.4-.4-.92-.59-1.43-.59-.52 0-1.04.2-1.43.59L10.3 9.45l-7.72 7.72c-.78.78-.78 2.05 0 2.83L4 21.41c.39.39.9.59 1.41.59.51 0 1.02-.2 1.41-.59l7.78-7.78 2.81-2.81c.8-.78.8-2.07 0-2.86zM5.41 20L4 18.59l7.72-7.72 1.47 1.35L5.41 20z\"/>\n",
              "  </svg>\n",
              "      </button>\n",
              "      \n",
              "  <style>\n",
              "    .colab-df-container {\n",
              "      display:flex;\n",
              "      flex-wrap:wrap;\n",
              "      gap: 12px;\n",
              "    }\n",
              "\n",
              "    .colab-df-convert {\n",
              "      background-color: #E8F0FE;\n",
              "      border: none;\n",
              "      border-radius: 50%;\n",
              "      cursor: pointer;\n",
              "      display: none;\n",
              "      fill: #1967D2;\n",
              "      height: 32px;\n",
              "      padding: 0 0 0 0;\n",
              "      width: 32px;\n",
              "    }\n",
              "\n",
              "    .colab-df-convert:hover {\n",
              "      background-color: #E2EBFA;\n",
              "      box-shadow: 0px 1px 2px rgba(60, 64, 67, 0.3), 0px 1px 3px 1px rgba(60, 64, 67, 0.15);\n",
              "      fill: #174EA6;\n",
              "    }\n",
              "\n",
              "    [theme=dark] .colab-df-convert {\n",
              "      background-color: #3B4455;\n",
              "      fill: #D2E3FC;\n",
              "    }\n",
              "\n",
              "    [theme=dark] .colab-df-convert:hover {\n",
              "      background-color: #434B5C;\n",
              "      box-shadow: 0px 1px 3px 1px rgba(0, 0, 0, 0.15);\n",
              "      filter: drop-shadow(0px 1px 2px rgba(0, 0, 0, 0.3));\n",
              "      fill: #FFFFFF;\n",
              "    }\n",
              "  </style>\n",
              "\n",
              "      <script>\n",
              "        const buttonEl =\n",
              "          document.querySelector('#df-fb12b60d-a01e-447e-aa49-39b51539d132 button.colab-df-convert');\n",
              "        buttonEl.style.display =\n",
              "          google.colab.kernel.accessAllowed ? 'block' : 'none';\n",
              "\n",
              "        async function convertToInteractive(key) {\n",
              "          const element = document.querySelector('#df-fb12b60d-a01e-447e-aa49-39b51539d132');\n",
              "          const dataTable =\n",
              "            await google.colab.kernel.invokeFunction('convertToInteractive',\n",
              "                                                     [key], {});\n",
              "          if (!dataTable) return;\n",
              "\n",
              "          const docLinkHtml = 'Like what you see? Visit the ' +\n",
              "            '<a target=\"_blank\" href=https://colab.research.google.com/notebooks/data_table.ipynb>data table notebook</a>'\n",
              "            + ' to learn more about interactive tables.';\n",
              "          element.innerHTML = '';\n",
              "          dataTable['output_type'] = 'display_data';\n",
              "          await google.colab.output.renderOutput(dataTable, element);\n",
              "          const docLink = document.createElement('div');\n",
              "          docLink.innerHTML = docLinkHtml;\n",
              "          element.appendChild(docLink);\n",
              "        }\n",
              "      </script>\n",
              "    </div>\n",
              "  </div>\n",
              "  "
            ]
          },
          "metadata": {},
          "execution_count": 469
        }
      ]
    },
    {
      "cell_type": "code",
      "source": [
        "# creating airplane only USA dataframe\n",
        "df_usa_from_state_concat_planes = df_usa_from_state_concat[df_usa_from_state_concat['Aircraft.Category'] == 'Airplane']"
      ],
      "metadata": {
        "id": "FiAv_IVNfp-I"
      },
      "execution_count": null,
      "outputs": []
    },
    {
      "cell_type": "code",
      "source": [
        "# comparing lengths before and after limiting aircraft cataegory to airplanes\n",
        "len(df_usa_from_state_concat)"
      ],
      "metadata": {
        "colab": {
          "base_uri": "https://localhost:8080/"
        },
        "id": "9HwnsusMgA0q",
        "outputId": "0894dabc-270e-45b5-d886-bc42a8b8b178"
      },
      "execution_count": null,
      "outputs": [
        {
          "output_type": "execute_result",
          "data": {
            "text/plain": [
              "76578"
            ]
          },
          "metadata": {},
          "execution_count": 471
        }
      ]
    },
    {
      "cell_type": "code",
      "source": [
        "len(df_usa_from_state_concat_planes)"
      ],
      "metadata": {
        "colab": {
          "base_uri": "https://localhost:8080/"
        },
        "id": "w7G2kmqsgE4r",
        "outputId": "d2be7aec-e383-4180-c0ca-a4011db78613"
      },
      "execution_count": null,
      "outputs": [
        {
          "output_type": "execute_result",
          "data": {
            "text/plain": [
              "22535"
            ]
          },
          "metadata": {},
          "execution_count": 472
        }
      ]
    },
    {
      "cell_type": "code",
      "source": [
        "# exporting csv to google drive\n",
        "path = '/content/drive/My Drive/df_usa_from_state_concat.csv'\n",
        "with open(path, 'w', encoding = 'utf-8-sig') as f:\n",
        "  df_usa_from_state_concat.to_csv(f)"
      ],
      "metadata": {
        "id": "5T2KGB8wgKzt"
      },
      "execution_count": null,
      "outputs": []
    },
    {
      "cell_type": "code",
      "source": [
        "# exporting csv to google drive\n",
        "path = '/content/drive/My Drive/df_usa_from_state_concat_planes.csv'\n",
        "with open(path, 'w', encoding = 'utf-8-sig') as f:\n",
        "  df_usa_from_state_concat_planes.to_csv(f)"
      ],
      "metadata": {
        "id": "WW1j7fk8gRMH"
      },
      "execution_count": null,
      "outputs": []
    },
    {
      "cell_type": "code",
      "source": [
        "# creating a copy as we don't want to make changes to our main df without testing first and/or creating a backup\n",
        "df_usa_from_state_concat_copy = df_usa_from_state_concat.copy()"
      ],
      "metadata": {
        "id": "KoBIaur5g3wk"
      },
      "execution_count": null,
      "outputs": []
    },
    {
      "cell_type": "code",
      "source": [
        "df_usa_from_state_concat.columns"
      ],
      "metadata": {
        "colab": {
          "base_uri": "https://localhost:8080/"
        },
        "id": "9e6pXMiahJOg",
        "outputId": "04c82540-2285-4b7d-b15e-6619cfee52f9"
      },
      "execution_count": null,
      "outputs": [
        {
          "output_type": "execute_result",
          "data": {
            "text/plain": [
              "Index(['Event.Id', 'Investigation.Type', 'Accident.Number', 'Event.Date',\n",
              "       'Location', 'Country', 'Latitude', 'Longitude', 'Airport.Code',\n",
              "       'Airport.Name', 'Injury.Severity', 'Aircraft.damage',\n",
              "       'Aircraft.Category', 'Registration.Number', 'Make', 'Model',\n",
              "       'Amateur.Built', 'Number.of.Engines', 'Engine.Type', 'FAR.Description',\n",
              "       'Schedule', 'Purpose.of.flight', 'Air.carrier', 'Total.Fatal.Injuries',\n",
              "       'Total.Serious.Injuries', 'Total.Minor.Injuries', 'Total.Uninjured',\n",
              "       'Weather.Condition', 'Broad.phase.of.flight', 'Report.Status',\n",
              "       'Publication.Date', 'State'],\n",
              "      dtype='object')"
            ]
          },
          "metadata": {},
          "execution_count": 476
        }
      ]
    },
    {
      "cell_type": "code",
      "source": [
        "# creating a city column\n",
        "df_usa_from_state_concat['City'] = df_usa_from_state_concat['Location'].apply(lambda x: x.split(',')[0].strip() if isinstance(x, str) and ',' in x else None)\n"
      ],
      "metadata": {
        "id": "P3GiN6wRhlVt"
      },
      "execution_count": null,
      "outputs": []
    },
    {
      "cell_type": "code",
      "source": [
        "# sanity check for city column\n",
        "df_usa_from_state_concat.columns"
      ],
      "metadata": {
        "colab": {
          "base_uri": "https://localhost:8080/"
        },
        "id": "efe8bchuhx6z",
        "outputId": "563eadc0-689f-4b65-8e69-4fcfa260aa97"
      },
      "execution_count": null,
      "outputs": [
        {
          "output_type": "execute_result",
          "data": {
            "text/plain": [
              "Index(['Event.Id', 'Investigation.Type', 'Accident.Number', 'Event.Date',\n",
              "       'Location', 'Country', 'Latitude', 'Longitude', 'Airport.Code',\n",
              "       'Airport.Name', 'Injury.Severity', 'Aircraft.damage',\n",
              "       'Aircraft.Category', 'Registration.Number', 'Make', 'Model',\n",
              "       'Amateur.Built', 'Number.of.Engines', 'Engine.Type', 'FAR.Description',\n",
              "       'Schedule', 'Purpose.of.flight', 'Air.carrier', 'Total.Fatal.Injuries',\n",
              "       'Total.Serious.Injuries', 'Total.Minor.Injuries', 'Total.Uninjured',\n",
              "       'Weather.Condition', 'Broad.phase.of.flight', 'Report.Status',\n",
              "       'Publication.Date', 'State', 'City'],\n",
              "      dtype='object')"
            ]
          },
          "metadata": {},
          "execution_count": 478
        }
      ]
    },
    {
      "cell_type": "code",
      "source": [
        "# previewing the dataframe\n",
        "df_usa_from_state_concat.head(3)"
      ],
      "metadata": {
        "colab": {
          "base_uri": "https://localhost:8080/",
          "height": 288
        },
        "id": "zy0mzP9Dh099",
        "outputId": "3727e8df-482c-40a8-8f41-f06aa053dd24"
      },
      "execution_count": null,
      "outputs": [
        {
          "output_type": "execute_result",
          "data": {
            "text/plain": [
              "         Event.Id Investigation.Type Accident.Number  Event.Date  \\\n",
              "0  20020917X01656           Accident      ANC82FAG14  1982-01-02   \n",
              "1  20020917X01651           Accident      ANC82FA012  1982-01-05   \n",
              "2  20020917X01623           Accident      ANC82DA013  1982-01-10   \n",
              "\n",
              "        Location        Country Latitude Longitude Airport.Code Airport.Name  \\\n",
              "0    SKWENTA, AK  United States      NaN       NaN          NaN          NaN   \n",
              "1     BETHEL, AK  United States      NaN       NaN          BET       BETHEL   \n",
              "2  QUINHAGAK, AK  United States      NaN       NaN          NaN          NaN   \n",
              "\n",
              "   ... Total.Fatal.Injuries Total.Serious.Injuries Total.Minor.Injuries  \\\n",
              "0  ...                  3.0                    0.0                  0.0   \n",
              "1  ...                  0.0                    2.0                  0.0   \n",
              "2  ...                  0.0                    0.0                  3.0   \n",
              "\n",
              "  Total.Uninjured Weather.Condition Broad.phase.of.flight   Report.Status  \\\n",
              "0             0.0               VMC               Unknown  Probable Cause   \n",
              "1             0.0               VMC               Takeoff  Probable Cause   \n",
              "2             0.0               VMC                Cruise  Probable Cause   \n",
              "\n",
              "   Publication.Date State       City  \n",
              "0        02-01-1983    AK    SKWENTA  \n",
              "1        05-01-1983    AK     BETHEL  \n",
              "2        10-01-1983    AK  QUINHAGAK  \n",
              "\n",
              "[3 rows x 33 columns]"
            ],
            "text/html": [
              "\n",
              "  <div id=\"df-5a40eaf7-cec6-4e1e-9768-a19ccb6da628\">\n",
              "    <div class=\"colab-df-container\">\n",
              "      <div>\n",
              "<style scoped>\n",
              "    .dataframe tbody tr th:only-of-type {\n",
              "        vertical-align: middle;\n",
              "    }\n",
              "\n",
              "    .dataframe tbody tr th {\n",
              "        vertical-align: top;\n",
              "    }\n",
              "\n",
              "    .dataframe thead th {\n",
              "        text-align: right;\n",
              "    }\n",
              "</style>\n",
              "<table border=\"1\" class=\"dataframe\">\n",
              "  <thead>\n",
              "    <tr style=\"text-align: right;\">\n",
              "      <th></th>\n",
              "      <th>Event.Id</th>\n",
              "      <th>Investigation.Type</th>\n",
              "      <th>Accident.Number</th>\n",
              "      <th>Event.Date</th>\n",
              "      <th>Location</th>\n",
              "      <th>Country</th>\n",
              "      <th>Latitude</th>\n",
              "      <th>Longitude</th>\n",
              "      <th>Airport.Code</th>\n",
              "      <th>Airport.Name</th>\n",
              "      <th>...</th>\n",
              "      <th>Total.Fatal.Injuries</th>\n",
              "      <th>Total.Serious.Injuries</th>\n",
              "      <th>Total.Minor.Injuries</th>\n",
              "      <th>Total.Uninjured</th>\n",
              "      <th>Weather.Condition</th>\n",
              "      <th>Broad.phase.of.flight</th>\n",
              "      <th>Report.Status</th>\n",
              "      <th>Publication.Date</th>\n",
              "      <th>State</th>\n",
              "      <th>City</th>\n",
              "    </tr>\n",
              "  </thead>\n",
              "  <tbody>\n",
              "    <tr>\n",
              "      <th>0</th>\n",
              "      <td>20020917X01656</td>\n",
              "      <td>Accident</td>\n",
              "      <td>ANC82FAG14</td>\n",
              "      <td>1982-01-02</td>\n",
              "      <td>SKWENTA, AK</td>\n",
              "      <td>United States</td>\n",
              "      <td>NaN</td>\n",
              "      <td>NaN</td>\n",
              "      <td>NaN</td>\n",
              "      <td>NaN</td>\n",
              "      <td>...</td>\n",
              "      <td>3.0</td>\n",
              "      <td>0.0</td>\n",
              "      <td>0.0</td>\n",
              "      <td>0.0</td>\n",
              "      <td>VMC</td>\n",
              "      <td>Unknown</td>\n",
              "      <td>Probable Cause</td>\n",
              "      <td>02-01-1983</td>\n",
              "      <td>AK</td>\n",
              "      <td>SKWENTA</td>\n",
              "    </tr>\n",
              "    <tr>\n",
              "      <th>1</th>\n",
              "      <td>20020917X01651</td>\n",
              "      <td>Accident</td>\n",
              "      <td>ANC82FA012</td>\n",
              "      <td>1982-01-05</td>\n",
              "      <td>BETHEL, AK</td>\n",
              "      <td>United States</td>\n",
              "      <td>NaN</td>\n",
              "      <td>NaN</td>\n",
              "      <td>BET</td>\n",
              "      <td>BETHEL</td>\n",
              "      <td>...</td>\n",
              "      <td>0.0</td>\n",
              "      <td>2.0</td>\n",
              "      <td>0.0</td>\n",
              "      <td>0.0</td>\n",
              "      <td>VMC</td>\n",
              "      <td>Takeoff</td>\n",
              "      <td>Probable Cause</td>\n",
              "      <td>05-01-1983</td>\n",
              "      <td>AK</td>\n",
              "      <td>BETHEL</td>\n",
              "    </tr>\n",
              "    <tr>\n",
              "      <th>2</th>\n",
              "      <td>20020917X01623</td>\n",
              "      <td>Accident</td>\n",
              "      <td>ANC82DA013</td>\n",
              "      <td>1982-01-10</td>\n",
              "      <td>QUINHAGAK, AK</td>\n",
              "      <td>United States</td>\n",
              "      <td>NaN</td>\n",
              "      <td>NaN</td>\n",
              "      <td>NaN</td>\n",
              "      <td>NaN</td>\n",
              "      <td>...</td>\n",
              "      <td>0.0</td>\n",
              "      <td>0.0</td>\n",
              "      <td>3.0</td>\n",
              "      <td>0.0</td>\n",
              "      <td>VMC</td>\n",
              "      <td>Cruise</td>\n",
              "      <td>Probable Cause</td>\n",
              "      <td>10-01-1983</td>\n",
              "      <td>AK</td>\n",
              "      <td>QUINHAGAK</td>\n",
              "    </tr>\n",
              "  </tbody>\n",
              "</table>\n",
              "<p>3 rows × 33 columns</p>\n",
              "</div>\n",
              "      <button class=\"colab-df-convert\" onclick=\"convertToInteractive('df-5a40eaf7-cec6-4e1e-9768-a19ccb6da628')\"\n",
              "              title=\"Convert this dataframe to an interactive table.\"\n",
              "              style=\"display:none;\">\n",
              "        \n",
              "  <svg xmlns=\"http://www.w3.org/2000/svg\" height=\"24px\"viewBox=\"0 0 24 24\"\n",
              "       width=\"24px\">\n",
              "    <path d=\"M0 0h24v24H0V0z\" fill=\"none\"/>\n",
              "    <path d=\"M18.56 5.44l.94 2.06.94-2.06 2.06-.94-2.06-.94-.94-2.06-.94 2.06-2.06.94zm-11 1L8.5 8.5l.94-2.06 2.06-.94-2.06-.94L8.5 2.5l-.94 2.06-2.06.94zm10 10l.94 2.06.94-2.06 2.06-.94-2.06-.94-.94-2.06-.94 2.06-2.06.94z\"/><path d=\"M17.41 7.96l-1.37-1.37c-.4-.4-.92-.59-1.43-.59-.52 0-1.04.2-1.43.59L10.3 9.45l-7.72 7.72c-.78.78-.78 2.05 0 2.83L4 21.41c.39.39.9.59 1.41.59.51 0 1.02-.2 1.41-.59l7.78-7.78 2.81-2.81c.8-.78.8-2.07 0-2.86zM5.41 20L4 18.59l7.72-7.72 1.47 1.35L5.41 20z\"/>\n",
              "  </svg>\n",
              "      </button>\n",
              "      \n",
              "  <style>\n",
              "    .colab-df-container {\n",
              "      display:flex;\n",
              "      flex-wrap:wrap;\n",
              "      gap: 12px;\n",
              "    }\n",
              "\n",
              "    .colab-df-convert {\n",
              "      background-color: #E8F0FE;\n",
              "      border: none;\n",
              "      border-radius: 50%;\n",
              "      cursor: pointer;\n",
              "      display: none;\n",
              "      fill: #1967D2;\n",
              "      height: 32px;\n",
              "      padding: 0 0 0 0;\n",
              "      width: 32px;\n",
              "    }\n",
              "\n",
              "    .colab-df-convert:hover {\n",
              "      background-color: #E2EBFA;\n",
              "      box-shadow: 0px 1px 2px rgba(60, 64, 67, 0.3), 0px 1px 3px 1px rgba(60, 64, 67, 0.15);\n",
              "      fill: #174EA6;\n",
              "    }\n",
              "\n",
              "    [theme=dark] .colab-df-convert {\n",
              "      background-color: #3B4455;\n",
              "      fill: #D2E3FC;\n",
              "    }\n",
              "\n",
              "    [theme=dark] .colab-df-convert:hover {\n",
              "      background-color: #434B5C;\n",
              "      box-shadow: 0px 1px 3px 1px rgba(0, 0, 0, 0.15);\n",
              "      filter: drop-shadow(0px 1px 2px rgba(0, 0, 0, 0.3));\n",
              "      fill: #FFFFFF;\n",
              "    }\n",
              "  </style>\n",
              "\n",
              "      <script>\n",
              "        const buttonEl =\n",
              "          document.querySelector('#df-5a40eaf7-cec6-4e1e-9768-a19ccb6da628 button.colab-df-convert');\n",
              "        buttonEl.style.display =\n",
              "          google.colab.kernel.accessAllowed ? 'block' : 'none';\n",
              "\n",
              "        async function convertToInteractive(key) {\n",
              "          const element = document.querySelector('#df-5a40eaf7-cec6-4e1e-9768-a19ccb6da628');\n",
              "          const dataTable =\n",
              "            await google.colab.kernel.invokeFunction('convertToInteractive',\n",
              "                                                     [key], {});\n",
              "          if (!dataTable) return;\n",
              "\n",
              "          const docLinkHtml = 'Like what you see? Visit the ' +\n",
              "            '<a target=\"_blank\" href=https://colab.research.google.com/notebooks/data_table.ipynb>data table notebook</a>'\n",
              "            + ' to learn more about interactive tables.';\n",
              "          element.innerHTML = '';\n",
              "          dataTable['output_type'] = 'display_data';\n",
              "          await google.colab.output.renderOutput(dataTable, element);\n",
              "          const docLink = document.createElement('div');\n",
              "          docLink.innerHTML = docLinkHtml;\n",
              "          element.appendChild(docLink);\n",
              "        }\n",
              "      </script>\n",
              "    </div>\n",
              "  </div>\n",
              "  "
            ]
          },
          "metadata": {},
          "execution_count": 479
        }
      ]
    },
    {
      "cell_type": "markdown",
      "source": [
        "##Investigating aircraft type\n",
        "\n",
        "We need to understand the types of aircraft in order to make our recommendations. I noticed some inconsistencies with the number of unique aircraft types(14) in this dataset and the number of aircraft types(9) listed as options on the National Transportation Safety Bureau's Accident/Incident form. (Form linked [here](https://www.ntsb.gov/Documents/6120_1web_nopwx_NotReaderComp.pdf).) (Note: further investigation uncovered an updated data dictioncary provided by a NTSB with additional types. We uploaded to the data folder on GitHub.)"
      ],
      "metadata": {
        "id": "Hbzz18GWkMjI"
      }
    },
    {
      "cell_type": "code",
      "source": [
        "df_usa_from_state_concat['Aircraft.Category'].values"
      ],
      "metadata": {
        "colab": {
          "base_uri": "https://localhost:8080/"
        },
        "id": "geX5RuKbiAFS",
        "outputId": "3f7a9896-30c4-4913-d152-b1a6a707f0e5"
      },
      "execution_count": null,
      "outputs": [
        {
          "output_type": "execute_result",
          "data": {
            "text/plain": [
              "array(['Airplane', 'Airplane', 'Airplane', ..., 'Airplane', 'Airplane',\n",
              "       'Airplane'], dtype=object)"
            ]
          },
          "metadata": {},
          "execution_count": 480
        }
      ]
    },
    {
      "cell_type": "code",
      "source": [
        "# get unique values from the aircraft category column\n",
        "df_usa_from_state_concat['Aircraft.Category'].unique()"
      ],
      "metadata": {
        "colab": {
          "base_uri": "https://localhost:8080/"
        },
        "id": "xx5ESyf8i6G9",
        "outputId": "a0e982bc-24f3-4141-c69a-e341a98882f1"
      },
      "execution_count": null,
      "outputs": [
        {
          "output_type": "execute_result",
          "data": {
            "text/plain": [
              "array(['Airplane', nan, 'Helicopter', 'Glider', 'Weight-Shift',\n",
              "       'Powered Parachute', 'Balloon', 'Gyrocraft', 'Powered-Lift',\n",
              "       'Ultralight', 'Unknown', 'WSFT', 'Blimp', 'Rocket', 'ULTR'],\n",
              "      dtype=object)"
            ]
          },
          "metadata": {},
          "execution_count": 481
        }
      ]
    },
    {
      "cell_type": "code",
      "source": [
        "# count unique values while excluding NaN values (differs from .unique() which does count NaN values) in aircraft category column\n",
        "\n",
        "df_usa_from_state_concat['Aircraft.Category'].nunique()"
      ],
      "metadata": {
        "colab": {
          "base_uri": "https://localhost:8080/"
        },
        "id": "oCM74bbxitKE",
        "outputId": "000f3c15-02a6-4ddd-df1a-784ca3b1fe39"
      },
      "execution_count": null,
      "outputs": [
        {
          "output_type": "execute_result",
          "data": {
            "text/plain": [
              "14"
            ]
          },
          "metadata": {},
          "execution_count": 483
        }
      ]
    },
    {
      "cell_type": "code",
      "source": [
        "# Dropping Unknown from aircraft category\n",
        "df_usa_from_state_concat = df_usa_from_state_concat[df_usa_from_state_concat['Aircraft.Category'].str.contains(\"Unknown\") == False]\n",
        "  \n"
      ],
      "metadata": {
        "id": "9n10ugdmkdJW"
      },
      "execution_count": null,
      "outputs": []
    },
    {
      "cell_type": "code",
      "source": [
        "# get unique (including NaN, if there are any) values from aircraft category column\n",
        "df_usa_from_state_concat['Aircraft.Category'].unique()\n"
      ],
      "metadata": {
        "colab": {
          "base_uri": "https://localhost:8080/"
        },
        "id": "fA5CRWnaktPm",
        "outputId": "7794dd60-c0d4-4c09-a5d1-50370d1a63de"
      },
      "execution_count": null,
      "outputs": [
        {
          "output_type": "execute_result",
          "data": {
            "text/plain": [
              "array(['Airplane', 'Helicopter', 'Glider', 'Weight-Shift',\n",
              "       'Powered Parachute', 'Balloon', 'Gyrocraft', 'Powered-Lift',\n",
              "       'Ultralight', 'WSFT', 'Blimp', 'Rocket', 'ULTR'], dtype=object)"
            ]
          },
          "metadata": {},
          "execution_count": 487
        }
      ]
    },
    {
      "cell_type": "code",
      "source": [
        "#making another backup csv now that unknown values have been removed from aircraft category and city has been added\n",
        "path = '/content/drive/My Drive/df_usa_from_state_concat.csv'\n",
        "with open(path, 'w', encoding = 'utf-8-sig') as f:\n",
        "  df_usa_from_state_concat.to_csv(f)"
      ],
      "metadata": {
        "id": "JbXdSkT-utgO"
      },
      "execution_count": null,
      "outputs": []
    },
    {
      "cell_type": "markdown",
      "source": [
        "##Creating dataframes of missing state location values\n",
        "I should have standardized the text format by title casing with the method `.str.title()` before doing this. I created extra work by doing it this way."
      ],
      "metadata": {
        "id": "0X192vI8l3cH"
      }
    },
    {
      "cell_type": "code",
      "source": [
        "# making a copy in case something goes wrong\n",
        "df_fly_blank_state_us_copy = df_fly_blank_state_us.copy()"
      ],
      "metadata": {
        "id": "2YMM4c7ExrNx"
      },
      "execution_count": null,
      "outputs": []
    },
    {
      "cell_type": "code",
      "source": [
        "df_fly_missing_brasstown = df_usa[df_usa['Location'] == 'Brasstown,, NC']"
      ],
      "metadata": {
        "id": "I08QoBIz2FyM"
      },
      "execution_count": null,
      "outputs": []
    },
    {
      "cell_type": "code",
      "source": [
        "df_fly_missing_puyallup = df_usa[df_usa['Location'] == 'Puyallup,, WA'] "
      ],
      "metadata": {
        "id": "fnw7RMws2R3g"
      },
      "execution_count": null,
      "outputs": []
    },
    {
      "cell_type": "code",
      "source": [
        "df_fly_missing_saipan = df_usa[df_usa['Location'] == 'Saipan,']\n",
        "df_fly_missing_saipan"
      ],
      "metadata": {
        "colab": {
          "base_uri": "https://localhost:8080/",
          "height": 358
        },
        "id": "5P-naJMG2ZUV",
        "outputId": "5a6d2dee-2b2a-4a5f-afa2-46628b7d0ae2"
      },
      "execution_count": null,
      "outputs": [
        {
          "output_type": "execute_result",
          "data": {
            "text/plain": [
              "             Event.Id Investigation.Type Accident.Number  Event.Date Location  \\\n",
              "81143  20171005X94851           Accident      GAA17CA570  2017-08-30  Saipan,   \n",
              "83953  20190516X24200           Accident      GAA19CA268  2019-04-19  Saipan,   \n",
              "84468  20190711X52011           Accident      GAA19CA404  2019-07-10  Saipan,   \n",
              "\n",
              "             Country Latitude Longitude Airport.Code  \\\n",
              "81143  United States  001574N  1454334E          GSN   \n",
              "83953  United States  001575N  1454327E          GSN   \n",
              "84468  United States  015726N  1454353E         PGSN   \n",
              "\n",
              "                       Airport.Name  ...                Air.carrier  \\\n",
              "81143   FRANCISCO C ADA/SAIPAN INTL  ...    Star Marianas Air, Inc.   \n",
              "83953  SAIPAN INTERNATIONAL AIRPORT  ...      Star Marianas Air Inc   \n",
              "84468  Saipan International Airport  ...  Marianas Air Transfer Inc   \n",
              "\n",
              "      Total.Fatal.Injuries Total.Serious.Injuries Total.Minor.Injuries  \\\n",
              "81143                  0.0                    0.0                  0.0   \n",
              "83953                  0.0                    0.0                  0.0   \n",
              "84468                  0.0                    0.0                  0.0   \n",
              "\n",
              "      Total.Uninjured Weather.Condition Broad.phase.of.flight  \\\n",
              "81143             7.0               VMC                   NaN   \n",
              "83953             4.0               VMC                   NaN   \n",
              "84468             3.0               VMC                   NaN   \n",
              "\n",
              "                                           Report.Status Publication.Date  \\\n",
              "81143  Impact with multiple birds while retracting th...       25-09-2020   \n",
              "83953  The airplanes collision with a bird during th...       26-09-2020   \n",
              "84468  The pilot's failure to maintain directional co...       26-09-2020   \n",
              "\n",
              "      State  \n",
              "81143        \n",
              "83953        \n",
              "84468        \n",
              "\n",
              "[3 rows x 32 columns]"
            ],
            "text/html": [
              "\n",
              "  <div id=\"df-139de940-e0ea-4aac-9887-92bc2b20a5f1\">\n",
              "    <div class=\"colab-df-container\">\n",
              "      <div>\n",
              "<style scoped>\n",
              "    .dataframe tbody tr th:only-of-type {\n",
              "        vertical-align: middle;\n",
              "    }\n",
              "\n",
              "    .dataframe tbody tr th {\n",
              "        vertical-align: top;\n",
              "    }\n",
              "\n",
              "    .dataframe thead th {\n",
              "        text-align: right;\n",
              "    }\n",
              "</style>\n",
              "<table border=\"1\" class=\"dataframe\">\n",
              "  <thead>\n",
              "    <tr style=\"text-align: right;\">\n",
              "      <th></th>\n",
              "      <th>Event.Id</th>\n",
              "      <th>Investigation.Type</th>\n",
              "      <th>Accident.Number</th>\n",
              "      <th>Event.Date</th>\n",
              "      <th>Location</th>\n",
              "      <th>Country</th>\n",
              "      <th>Latitude</th>\n",
              "      <th>Longitude</th>\n",
              "      <th>Airport.Code</th>\n",
              "      <th>Airport.Name</th>\n",
              "      <th>...</th>\n",
              "      <th>Air.carrier</th>\n",
              "      <th>Total.Fatal.Injuries</th>\n",
              "      <th>Total.Serious.Injuries</th>\n",
              "      <th>Total.Minor.Injuries</th>\n",
              "      <th>Total.Uninjured</th>\n",
              "      <th>Weather.Condition</th>\n",
              "      <th>Broad.phase.of.flight</th>\n",
              "      <th>Report.Status</th>\n",
              "      <th>Publication.Date</th>\n",
              "      <th>State</th>\n",
              "    </tr>\n",
              "  </thead>\n",
              "  <tbody>\n",
              "    <tr>\n",
              "      <th>81143</th>\n",
              "      <td>20171005X94851</td>\n",
              "      <td>Accident</td>\n",
              "      <td>GAA17CA570</td>\n",
              "      <td>2017-08-30</td>\n",
              "      <td>Saipan,</td>\n",
              "      <td>United States</td>\n",
              "      <td>001574N</td>\n",
              "      <td>1454334E</td>\n",
              "      <td>GSN</td>\n",
              "      <td>FRANCISCO C ADA/SAIPAN INTL</td>\n",
              "      <td>...</td>\n",
              "      <td>Star Marianas Air, Inc.</td>\n",
              "      <td>0.0</td>\n",
              "      <td>0.0</td>\n",
              "      <td>0.0</td>\n",
              "      <td>7.0</td>\n",
              "      <td>VMC</td>\n",
              "      <td>NaN</td>\n",
              "      <td>Impact with multiple birds while retracting th...</td>\n",
              "      <td>25-09-2020</td>\n",
              "      <td></td>\n",
              "    </tr>\n",
              "    <tr>\n",
              "      <th>83953</th>\n",
              "      <td>20190516X24200</td>\n",
              "      <td>Accident</td>\n",
              "      <td>GAA19CA268</td>\n",
              "      <td>2019-04-19</td>\n",
              "      <td>Saipan,</td>\n",
              "      <td>United States</td>\n",
              "      <td>001575N</td>\n",
              "      <td>1454327E</td>\n",
              "      <td>GSN</td>\n",
              "      <td>SAIPAN INTERNATIONAL AIRPORT</td>\n",
              "      <td>...</td>\n",
              "      <td>Star Marianas Air Inc</td>\n",
              "      <td>0.0</td>\n",
              "      <td>0.0</td>\n",
              "      <td>0.0</td>\n",
              "      <td>4.0</td>\n",
              "      <td>VMC</td>\n",
              "      <td>NaN</td>\n",
              "      <td>The airplanes collision with a bird during th...</td>\n",
              "      <td>26-09-2020</td>\n",
              "      <td></td>\n",
              "    </tr>\n",
              "    <tr>\n",
              "      <th>84468</th>\n",
              "      <td>20190711X52011</td>\n",
              "      <td>Accident</td>\n",
              "      <td>GAA19CA404</td>\n",
              "      <td>2019-07-10</td>\n",
              "      <td>Saipan,</td>\n",
              "      <td>United States</td>\n",
              "      <td>015726N</td>\n",
              "      <td>1454353E</td>\n",
              "      <td>PGSN</td>\n",
              "      <td>Saipan International Airport</td>\n",
              "      <td>...</td>\n",
              "      <td>Marianas Air Transfer Inc</td>\n",
              "      <td>0.0</td>\n",
              "      <td>0.0</td>\n",
              "      <td>0.0</td>\n",
              "      <td>3.0</td>\n",
              "      <td>VMC</td>\n",
              "      <td>NaN</td>\n",
              "      <td>The pilot's failure to maintain directional co...</td>\n",
              "      <td>26-09-2020</td>\n",
              "      <td></td>\n",
              "    </tr>\n",
              "  </tbody>\n",
              "</table>\n",
              "<p>3 rows × 32 columns</p>\n",
              "</div>\n",
              "      <button class=\"colab-df-convert\" onclick=\"convertToInteractive('df-139de940-e0ea-4aac-9887-92bc2b20a5f1')\"\n",
              "              title=\"Convert this dataframe to an interactive table.\"\n",
              "              style=\"display:none;\">\n",
              "        \n",
              "  <svg xmlns=\"http://www.w3.org/2000/svg\" height=\"24px\"viewBox=\"0 0 24 24\"\n",
              "       width=\"24px\">\n",
              "    <path d=\"M0 0h24v24H0V0z\" fill=\"none\"/>\n",
              "    <path d=\"M18.56 5.44l.94 2.06.94-2.06 2.06-.94-2.06-.94-.94-2.06-.94 2.06-2.06.94zm-11 1L8.5 8.5l.94-2.06 2.06-.94-2.06-.94L8.5 2.5l-.94 2.06-2.06.94zm10 10l.94 2.06.94-2.06 2.06-.94-2.06-.94-.94-2.06-.94 2.06-2.06.94z\"/><path d=\"M17.41 7.96l-1.37-1.37c-.4-.4-.92-.59-1.43-.59-.52 0-1.04.2-1.43.59L10.3 9.45l-7.72 7.72c-.78.78-.78 2.05 0 2.83L4 21.41c.39.39.9.59 1.41.59.51 0 1.02-.2 1.41-.59l7.78-7.78 2.81-2.81c.8-.78.8-2.07 0-2.86zM5.41 20L4 18.59l7.72-7.72 1.47 1.35L5.41 20z\"/>\n",
              "  </svg>\n",
              "      </button>\n",
              "      \n",
              "  <style>\n",
              "    .colab-df-container {\n",
              "      display:flex;\n",
              "      flex-wrap:wrap;\n",
              "      gap: 12px;\n",
              "    }\n",
              "\n",
              "    .colab-df-convert {\n",
              "      background-color: #E8F0FE;\n",
              "      border: none;\n",
              "      border-radius: 50%;\n",
              "      cursor: pointer;\n",
              "      display: none;\n",
              "      fill: #1967D2;\n",
              "      height: 32px;\n",
              "      padding: 0 0 0 0;\n",
              "      width: 32px;\n",
              "    }\n",
              "\n",
              "    .colab-df-convert:hover {\n",
              "      background-color: #E2EBFA;\n",
              "      box-shadow: 0px 1px 2px rgba(60, 64, 67, 0.3), 0px 1px 3px 1px rgba(60, 64, 67, 0.15);\n",
              "      fill: #174EA6;\n",
              "    }\n",
              "\n",
              "    [theme=dark] .colab-df-convert {\n",
              "      background-color: #3B4455;\n",
              "      fill: #D2E3FC;\n",
              "    }\n",
              "\n",
              "    [theme=dark] .colab-df-convert:hover {\n",
              "      background-color: #434B5C;\n",
              "      box-shadow: 0px 1px 3px 1px rgba(0, 0, 0, 0.15);\n",
              "      filter: drop-shadow(0px 1px 2px rgba(0, 0, 0, 0.3));\n",
              "      fill: #FFFFFF;\n",
              "    }\n",
              "  </style>\n",
              "\n",
              "      <script>\n",
              "        const buttonEl =\n",
              "          document.querySelector('#df-139de940-e0ea-4aac-9887-92bc2b20a5f1 button.colab-df-convert');\n",
              "        buttonEl.style.display =\n",
              "          google.colab.kernel.accessAllowed ? 'block' : 'none';\n",
              "\n",
              "        async function convertToInteractive(key) {\n",
              "          const element = document.querySelector('#df-139de940-e0ea-4aac-9887-92bc2b20a5f1');\n",
              "          const dataTable =\n",
              "            await google.colab.kernel.invokeFunction('convertToInteractive',\n",
              "                                                     [key], {});\n",
              "          if (!dataTable) return;\n",
              "\n",
              "          const docLinkHtml = 'Like what you see? Visit the ' +\n",
              "            '<a target=\"_blank\" href=https://colab.research.google.com/notebooks/data_table.ipynb>data table notebook</a>'\n",
              "            + ' to learn more about interactive tables.';\n",
              "          element.innerHTML = '';\n",
              "          dataTable['output_type'] = 'display_data';\n",
              "          await google.colab.output.renderOutput(dataTable, element);\n",
              "          const docLink = document.createElement('div');\n",
              "          docLink.innerHTML = docLinkHtml;\n",
              "          element.appendChild(docLink);\n",
              "        }\n",
              "      </script>\n",
              "    </div>\n",
              "  </div>\n",
              "  "
            ]
          },
          "metadata": {},
          "execution_count": 504
        }
      ]
    },
    {
      "cell_type": "code",
      "source": [
        "df_fly_missing_tamuning = df_usa[df_usa['Location'] == 'Tamuning,']"
      ],
      "metadata": {
        "id": "uuz0f7gT2ZpR"
      },
      "execution_count": null,
      "outputs": []
    },
    {
      "cell_type": "code",
      "source": [
        "df_fly_missing_timbalier_tx  = df_usa[df_usa['Location'] == 'South Timbalier 127,']"
      ],
      "metadata": {
        "id": "dOZJw9us2Z18"
      },
      "execution_count": null,
      "outputs": []
    },
    {
      "cell_type": "code",
      "source": [
        "df_fly_missing_obyan = df_usa[df_usa['Location'] == 'Obyan,']"
      ],
      "metadata": {
        "id": "-bdbppoU2aHX"
      },
      "execution_count": null,
      "outputs": []
    },
    {
      "cell_type": "code",
      "source": [
        "df_fly_missing_viscoa_la = df_usa[df_usa['Location'] == ' Viosca Knoll 989,']"
      ],
      "metadata": {
        "id": "teHawKdb2hYE"
      },
      "execution_count": null,
      "outputs": []
    },
    {
      "cell_type": "code",
      "source": [
        "#creating a dataframe of the pacific ocean records with state blank in order to concat w/ the OG po df\n",
        "df_missing_pacific= df_fly_blank_state_us[(df_fly_blank_state_us[\"Location\"]== 'Pacific Ocean,')]"
      ],
      "metadata": {
        "id": "v7Ad_7FZxYb3"
      },
      "execution_count": null,
      "outputs": []
    },
    {
      "cell_type": "code",
      "source": [
        "len(df_missing_pacific)"
      ],
      "metadata": {
        "colab": {
          "base_uri": "https://localhost:8080/"
        },
        "id": "eornVmB7ylmm",
        "outputId": "aa16cb51-d107-46ee-cee4-7b2275cc8ef9"
      },
      "execution_count": null,
      "outputs": [
        {
          "output_type": "execute_result",
          "data": {
            "text/plain": [
              "4"
            ]
          },
          "metadata": {},
          "execution_count": 134
        }
      ]
    },
    {
      "cell_type": "code",
      "source": [
        "#creating a dataframe of missing Gulf of Mexico, records with state blank in order to concat w/ the OG \n",
        "df_missing_gm = df_fly_blank_state_us[(df_fly_blank_state_us[\"Location\"]== 'Gulf of Mexico,')]"
      ],
      "metadata": {
        "id": "6lyM0LibzPPs"
      },
      "execution_count": null,
      "outputs": []
    },
    {
      "cell_type": "code",
      "source": [
        "len(df_missing_gm)"
      ],
      "metadata": {
        "colab": {
          "base_uri": "https://localhost:8080/"
        },
        "id": "lrc78X2Azp1F",
        "outputId": "aa9cebec-0c7b-4877-ad91-33372a85f25c"
      },
      "execution_count": null,
      "outputs": [
        {
          "output_type": "execute_result",
          "data": {
            "text/plain": [
              "9"
            ]
          },
          "metadata": {},
          "execution_count": 137
        }
      ]
    },
    {
      "cell_type": "code",
      "source": [
        "df_missing_gm_2 = df_fly_blank_state_us[(df_fly_blank_state_us[\"Location\"]== 'GULF OF MEXICO,')]"
      ],
      "metadata": {
        "id": "sMbzJgWm003S"
      },
      "execution_count": null,
      "outputs": []
    },
    {
      "cell_type": "code",
      "source": [
        "len(df_missing_gm_2)"
      ],
      "metadata": {
        "colab": {
          "base_uri": "https://localhost:8080/"
        },
        "id": "G84OHxQX1DJD",
        "outputId": "ba82659d-0664-42a9-a63a-7dac195eece5"
      },
      "execution_count": null,
      "outputs": [
        {
          "output_type": "execute_result",
          "data": {
            "text/plain": [
              "1"
            ]
          },
          "metadata": {},
          "execution_count": 143
        }
      ]
    },
    {
      "cell_type": "code",
      "source": [
        "df_missing_virgin_islands = df_fly_blank_state_us[(df_fly_blank_state_us[\"Location\"]== 'St. Croix,') |\n",
        "                                                 (df_fly_blank_state_us[\"Location\"]== 'Charlotte Amali,') |\n",
        "                                                 (df_fly_blank_state_us[\"Location\"]== 'Christiansted,')|\n",
        "                                                  (df_fly_blank_state_us[\"Location\"]== 'St. Thomas,') |\n",
        "                                                  (df_fly_blank_state_us[\"Location\"]== 'Charlotte Amalie,')\n",
        "\n",
        "]"
      ],
      "metadata": {
        "id": "x8-a4DfA1hB0"
      },
      "execution_count": null,
      "outputs": []
    },
    {
      "cell_type": "markdown",
      "source": [
        "# Adding the missing locations to the USA dataframe made via concatenation. "
      ],
      "metadata": {
        "id": "r-RpOSlaMAYj"
      }
    },
    {
      "cell_type": "code",
      "source": [
        "df_usa_from_state_concat = pd.concat([df_usa_from_state_concat, df_fly_missing_brasstown, df_fly_missing_puyallup, \n",
        "                                      df_fly_missing_saipan, df_fly_missing_saipan, df_fly_missing_tamuning, df_fly_missing_timbalier_tx,\n",
        "                                      df_fly_missing_obyan, df_fly_missing_viscoa_la], ignore_index=True)\n",
        "df_usa_from_state_concat.reset_index()"
      ],
      "metadata": {
        "colab": {
          "base_uri": "https://localhost:8080/",
          "height": 800
        },
        "id": "GkkjrFfB29K-",
        "outputId": "846863aa-b558-410b-811c-e5cbe138123b"
      },
      "execution_count": null,
      "outputs": [
        {
          "output_type": "execute_result",
          "data": {
            "text/plain": [
              "       index        Event.Id Investigation.Type Accident.Number  Event.Date  \\\n",
              "0          0  20020917X01656           Accident      ANC82FAG14  1982-01-02   \n",
              "1          1  20020917X01651           Accident      ANC82FA012  1982-01-05   \n",
              "2          2  20020917X01623           Accident      ANC82DA013  1982-01-10   \n",
              "3          3  20020917X01625           Accident      ANC82DA015  1982-01-15   \n",
              "4          4  20020917X01624           Accident      ANC82DA014  1982-01-17   \n",
              "...      ...             ...                ...             ...         ...   \n",
              "26177  26177  20170706X95155           Accident      GAA17CA394  2017-07-02   \n",
              "26178  26178  20170925X53959           Accident      WPR17LA216  2017-09-25   \n",
              "26179  26179  20150702X05414           Accident      CEN15LA288  2015-06-28   \n",
              "26180  26180  20121119X10642           Accident      WPR13LA045  2012-11-18   \n",
              "26181  26181  20141223X60511           Accident      WPR15CA069  2014-11-24   \n",
              "\n",
              "                   Location        Country Latitude Longitude Airport.Code  \\\n",
              "0               SKWENTA, AK  United States      NaN       NaN          NaN   \n",
              "1                BETHEL, AK  United States      NaN       NaN          BET   \n",
              "2             QUINHAGAK, AK  United States      NaN       NaN          NaN   \n",
              "3          NEAR NUIQSUT, AK  United States      NaN       NaN          NaN   \n",
              "4             ANCHORAGE, AK  United States      NaN       NaN          MRI   \n",
              "...                     ...            ...      ...       ...          ...   \n",
              "26177             Tamuning,  United States  013292N  1444750E          GUM   \n",
              "26178             Tamuning,  United States  132840N  1444639E          GUM   \n",
              "26179  South Timbalier 127,  United States  284122N  0901956W          NaN   \n",
              "26180                Obyan,  United States  015713N  1454348E         PGSN   \n",
              "26181                Obyan,  United States  015713N  1454348E          GSN   \n",
              "\n",
              "       ... Total.Fatal.Injuries Total.Serious.Injuries Total.Minor.Injuries  \\\n",
              "0      ...                  3.0                    0.0                  0.0   \n",
              "1      ...                  0.0                    2.0                  0.0   \n",
              "2      ...                  0.0                    0.0                  3.0   \n",
              "3      ...                  0.0                    0.0                  0.0   \n",
              "4      ...                  0.0                    0.0                  1.0   \n",
              "...    ...                  ...                    ...                  ...   \n",
              "26177  ...                  0.0                    0.0                  0.0   \n",
              "26178  ...                  0.0                    0.0                  0.0   \n",
              "26179  ...                  0.0                    0.0                  1.0   \n",
              "26180  ...                  1.0                    1.0                  5.0   \n",
              "26181  ...                  0.0                    0.0                  0.0   \n",
              "\n",
              "      Total.Uninjured Weather.Condition Broad.phase.of.flight  \\\n",
              "0                 0.0               VMC               Unknown   \n",
              "1                 0.0               VMC               Takeoff   \n",
              "2                 0.0               VMC                Cruise   \n",
              "3                 4.0               VMC               Landing   \n",
              "4                 1.0               VMC               Takeoff   \n",
              "...               ...               ...                   ...   \n",
              "26177             2.0               VMC                   NaN   \n",
              "26178             3.0               VMC                   NaN   \n",
              "26179             0.0               VMC                   NaN   \n",
              "26180             0.0               VMC                   NaN   \n",
              "26181             1.0               VMC                   NaN   \n",
              "\n",
              "                                           Report.Status Publication.Date  \\\n",
              "0                                         Probable Cause       02-01-1983   \n",
              "1                                         Probable Cause       05-01-1983   \n",
              "2                                         Probable Cause       10-01-1983   \n",
              "3                                         Probable Cause       15-01-1983   \n",
              "4                                         Probable Cause       17-01-1983   \n",
              "...                                                  ...              ...   \n",
              "26177  The pilot's improper landing flare, which resu...       25-09-2020   \n",
              "26178  The pilot's inadequate preflight inspection, w...       25-09-2020   \n",
              "26179  The pilot's lack of awareness of the severity ...       25-09-2020   \n",
              "26180  A partial loss of engine power shortly after t...       25-09-2020   \n",
              "26181  The student pilot's loss of airplane control d...       25-09-2020   \n",
              "\n",
              "       State          City  \n",
              "0         AK       SKWENTA  \n",
              "1         AK        BETHEL  \n",
              "2         AK     QUINHAGAK  \n",
              "3         AK  NEAR NUIQSUT  \n",
              "4         AK     ANCHORAGE  \n",
              "...      ...           ...  \n",
              "26177                  NaN  \n",
              "26178                  NaN  \n",
              "26179                  NaN  \n",
              "26180                  NaN  \n",
              "26181                  NaN  \n",
              "\n",
              "[26182 rows x 34 columns]"
            ],
            "text/html": [
              "\n",
              "  <div id=\"df-84353d87-63e2-4333-829a-78d0052dd004\">\n",
              "    <div class=\"colab-df-container\">\n",
              "      <div>\n",
              "<style scoped>\n",
              "    .dataframe tbody tr th:only-of-type {\n",
              "        vertical-align: middle;\n",
              "    }\n",
              "\n",
              "    .dataframe tbody tr th {\n",
              "        vertical-align: top;\n",
              "    }\n",
              "\n",
              "    .dataframe thead th {\n",
              "        text-align: right;\n",
              "    }\n",
              "</style>\n",
              "<table border=\"1\" class=\"dataframe\">\n",
              "  <thead>\n",
              "    <tr style=\"text-align: right;\">\n",
              "      <th></th>\n",
              "      <th>index</th>\n",
              "      <th>Event.Id</th>\n",
              "      <th>Investigation.Type</th>\n",
              "      <th>Accident.Number</th>\n",
              "      <th>Event.Date</th>\n",
              "      <th>Location</th>\n",
              "      <th>Country</th>\n",
              "      <th>Latitude</th>\n",
              "      <th>Longitude</th>\n",
              "      <th>Airport.Code</th>\n",
              "      <th>...</th>\n",
              "      <th>Total.Fatal.Injuries</th>\n",
              "      <th>Total.Serious.Injuries</th>\n",
              "      <th>Total.Minor.Injuries</th>\n",
              "      <th>Total.Uninjured</th>\n",
              "      <th>Weather.Condition</th>\n",
              "      <th>Broad.phase.of.flight</th>\n",
              "      <th>Report.Status</th>\n",
              "      <th>Publication.Date</th>\n",
              "      <th>State</th>\n",
              "      <th>City</th>\n",
              "    </tr>\n",
              "  </thead>\n",
              "  <tbody>\n",
              "    <tr>\n",
              "      <th>0</th>\n",
              "      <td>0</td>\n",
              "      <td>20020917X01656</td>\n",
              "      <td>Accident</td>\n",
              "      <td>ANC82FAG14</td>\n",
              "      <td>1982-01-02</td>\n",
              "      <td>SKWENTA, AK</td>\n",
              "      <td>United States</td>\n",
              "      <td>NaN</td>\n",
              "      <td>NaN</td>\n",
              "      <td>NaN</td>\n",
              "      <td>...</td>\n",
              "      <td>3.0</td>\n",
              "      <td>0.0</td>\n",
              "      <td>0.0</td>\n",
              "      <td>0.0</td>\n",
              "      <td>VMC</td>\n",
              "      <td>Unknown</td>\n",
              "      <td>Probable Cause</td>\n",
              "      <td>02-01-1983</td>\n",
              "      <td>AK</td>\n",
              "      <td>SKWENTA</td>\n",
              "    </tr>\n",
              "    <tr>\n",
              "      <th>1</th>\n",
              "      <td>1</td>\n",
              "      <td>20020917X01651</td>\n",
              "      <td>Accident</td>\n",
              "      <td>ANC82FA012</td>\n",
              "      <td>1982-01-05</td>\n",
              "      <td>BETHEL, AK</td>\n",
              "      <td>United States</td>\n",
              "      <td>NaN</td>\n",
              "      <td>NaN</td>\n",
              "      <td>BET</td>\n",
              "      <td>...</td>\n",
              "      <td>0.0</td>\n",
              "      <td>2.0</td>\n",
              "      <td>0.0</td>\n",
              "      <td>0.0</td>\n",
              "      <td>VMC</td>\n",
              "      <td>Takeoff</td>\n",
              "      <td>Probable Cause</td>\n",
              "      <td>05-01-1983</td>\n",
              "      <td>AK</td>\n",
              "      <td>BETHEL</td>\n",
              "    </tr>\n",
              "    <tr>\n",
              "      <th>2</th>\n",
              "      <td>2</td>\n",
              "      <td>20020917X01623</td>\n",
              "      <td>Accident</td>\n",
              "      <td>ANC82DA013</td>\n",
              "      <td>1982-01-10</td>\n",
              "      <td>QUINHAGAK, AK</td>\n",
              "      <td>United States</td>\n",
              "      <td>NaN</td>\n",
              "      <td>NaN</td>\n",
              "      <td>NaN</td>\n",
              "      <td>...</td>\n",
              "      <td>0.0</td>\n",
              "      <td>0.0</td>\n",
              "      <td>3.0</td>\n",
              "      <td>0.0</td>\n",
              "      <td>VMC</td>\n",
              "      <td>Cruise</td>\n",
              "      <td>Probable Cause</td>\n",
              "      <td>10-01-1983</td>\n",
              "      <td>AK</td>\n",
              "      <td>QUINHAGAK</td>\n",
              "    </tr>\n",
              "    <tr>\n",
              "      <th>3</th>\n",
              "      <td>3</td>\n",
              "      <td>20020917X01625</td>\n",
              "      <td>Accident</td>\n",
              "      <td>ANC82DA015</td>\n",
              "      <td>1982-01-15</td>\n",
              "      <td>NEAR NUIQSUT, AK</td>\n",
              "      <td>United States</td>\n",
              "      <td>NaN</td>\n",
              "      <td>NaN</td>\n",
              "      <td>NaN</td>\n",
              "      <td>...</td>\n",
              "      <td>0.0</td>\n",
              "      <td>0.0</td>\n",
              "      <td>0.0</td>\n",
              "      <td>4.0</td>\n",
              "      <td>VMC</td>\n",
              "      <td>Landing</td>\n",
              "      <td>Probable Cause</td>\n",
              "      <td>15-01-1983</td>\n",
              "      <td>AK</td>\n",
              "      <td>NEAR NUIQSUT</td>\n",
              "    </tr>\n",
              "    <tr>\n",
              "      <th>4</th>\n",
              "      <td>4</td>\n",
              "      <td>20020917X01624</td>\n",
              "      <td>Accident</td>\n",
              "      <td>ANC82DA014</td>\n",
              "      <td>1982-01-17</td>\n",
              "      <td>ANCHORAGE, AK</td>\n",
              "      <td>United States</td>\n",
              "      <td>NaN</td>\n",
              "      <td>NaN</td>\n",
              "      <td>MRI</td>\n",
              "      <td>...</td>\n",
              "      <td>0.0</td>\n",
              "      <td>0.0</td>\n",
              "      <td>1.0</td>\n",
              "      <td>1.0</td>\n",
              "      <td>VMC</td>\n",
              "      <td>Takeoff</td>\n",
              "      <td>Probable Cause</td>\n",
              "      <td>17-01-1983</td>\n",
              "      <td>AK</td>\n",
              "      <td>ANCHORAGE</td>\n",
              "    </tr>\n",
              "    <tr>\n",
              "      <th>...</th>\n",
              "      <td>...</td>\n",
              "      <td>...</td>\n",
              "      <td>...</td>\n",
              "      <td>...</td>\n",
              "      <td>...</td>\n",
              "      <td>...</td>\n",
              "      <td>...</td>\n",
              "      <td>...</td>\n",
              "      <td>...</td>\n",
              "      <td>...</td>\n",
              "      <td>...</td>\n",
              "      <td>...</td>\n",
              "      <td>...</td>\n",
              "      <td>...</td>\n",
              "      <td>...</td>\n",
              "      <td>...</td>\n",
              "      <td>...</td>\n",
              "      <td>...</td>\n",
              "      <td>...</td>\n",
              "      <td>...</td>\n",
              "      <td>...</td>\n",
              "    </tr>\n",
              "    <tr>\n",
              "      <th>26177</th>\n",
              "      <td>26177</td>\n",
              "      <td>20170706X95155</td>\n",
              "      <td>Accident</td>\n",
              "      <td>GAA17CA394</td>\n",
              "      <td>2017-07-02</td>\n",
              "      <td>Tamuning,</td>\n",
              "      <td>United States</td>\n",
              "      <td>013292N</td>\n",
              "      <td>1444750E</td>\n",
              "      <td>GUM</td>\n",
              "      <td>...</td>\n",
              "      <td>0.0</td>\n",
              "      <td>0.0</td>\n",
              "      <td>0.0</td>\n",
              "      <td>2.0</td>\n",
              "      <td>VMC</td>\n",
              "      <td>NaN</td>\n",
              "      <td>The pilot's improper landing flare, which resu...</td>\n",
              "      <td>25-09-2020</td>\n",
              "      <td></td>\n",
              "      <td>NaN</td>\n",
              "    </tr>\n",
              "    <tr>\n",
              "      <th>26178</th>\n",
              "      <td>26178</td>\n",
              "      <td>20170925X53959</td>\n",
              "      <td>Accident</td>\n",
              "      <td>WPR17LA216</td>\n",
              "      <td>2017-09-25</td>\n",
              "      <td>Tamuning,</td>\n",
              "      <td>United States</td>\n",
              "      <td>132840N</td>\n",
              "      <td>1444639E</td>\n",
              "      <td>GUM</td>\n",
              "      <td>...</td>\n",
              "      <td>0.0</td>\n",
              "      <td>0.0</td>\n",
              "      <td>0.0</td>\n",
              "      <td>3.0</td>\n",
              "      <td>VMC</td>\n",
              "      <td>NaN</td>\n",
              "      <td>The pilot's inadequate preflight inspection, w...</td>\n",
              "      <td>25-09-2020</td>\n",
              "      <td></td>\n",
              "      <td>NaN</td>\n",
              "    </tr>\n",
              "    <tr>\n",
              "      <th>26179</th>\n",
              "      <td>26179</td>\n",
              "      <td>20150702X05414</td>\n",
              "      <td>Accident</td>\n",
              "      <td>CEN15LA288</td>\n",
              "      <td>2015-06-28</td>\n",
              "      <td>South Timbalier 127,</td>\n",
              "      <td>United States</td>\n",
              "      <td>284122N</td>\n",
              "      <td>0901956W</td>\n",
              "      <td>NaN</td>\n",
              "      <td>...</td>\n",
              "      <td>0.0</td>\n",
              "      <td>0.0</td>\n",
              "      <td>1.0</td>\n",
              "      <td>0.0</td>\n",
              "      <td>VMC</td>\n",
              "      <td>NaN</td>\n",
              "      <td>The pilot's lack of awareness of the severity ...</td>\n",
              "      <td>25-09-2020</td>\n",
              "      <td></td>\n",
              "      <td>NaN</td>\n",
              "    </tr>\n",
              "    <tr>\n",
              "      <th>26180</th>\n",
              "      <td>26180</td>\n",
              "      <td>20121119X10642</td>\n",
              "      <td>Accident</td>\n",
              "      <td>WPR13LA045</td>\n",
              "      <td>2012-11-18</td>\n",
              "      <td>Obyan,</td>\n",
              "      <td>United States</td>\n",
              "      <td>015713N</td>\n",
              "      <td>1454348E</td>\n",
              "      <td>PGSN</td>\n",
              "      <td>...</td>\n",
              "      <td>1.0</td>\n",
              "      <td>1.0</td>\n",
              "      <td>5.0</td>\n",
              "      <td>0.0</td>\n",
              "      <td>VMC</td>\n",
              "      <td>NaN</td>\n",
              "      <td>A partial loss of engine power shortly after t...</td>\n",
              "      <td>25-09-2020</td>\n",
              "      <td></td>\n",
              "      <td>NaN</td>\n",
              "    </tr>\n",
              "    <tr>\n",
              "      <th>26181</th>\n",
              "      <td>26181</td>\n",
              "      <td>20141223X60511</td>\n",
              "      <td>Accident</td>\n",
              "      <td>WPR15CA069</td>\n",
              "      <td>2014-11-24</td>\n",
              "      <td>Obyan,</td>\n",
              "      <td>United States</td>\n",
              "      <td>015713N</td>\n",
              "      <td>1454348E</td>\n",
              "      <td>GSN</td>\n",
              "      <td>...</td>\n",
              "      <td>0.0</td>\n",
              "      <td>0.0</td>\n",
              "      <td>0.0</td>\n",
              "      <td>1.0</td>\n",
              "      <td>VMC</td>\n",
              "      <td>NaN</td>\n",
              "      <td>The student pilot's loss of airplane control d...</td>\n",
              "      <td>25-09-2020</td>\n",
              "      <td></td>\n",
              "      <td>NaN</td>\n",
              "    </tr>\n",
              "  </tbody>\n",
              "</table>\n",
              "<p>26182 rows × 34 columns</p>\n",
              "</div>\n",
              "      <button class=\"colab-df-convert\" onclick=\"convertToInteractive('df-84353d87-63e2-4333-829a-78d0052dd004')\"\n",
              "              title=\"Convert this dataframe to an interactive table.\"\n",
              "              style=\"display:none;\">\n",
              "        \n",
              "  <svg xmlns=\"http://www.w3.org/2000/svg\" height=\"24px\"viewBox=\"0 0 24 24\"\n",
              "       width=\"24px\">\n",
              "    <path d=\"M0 0h24v24H0V0z\" fill=\"none\"/>\n",
              "    <path d=\"M18.56 5.44l.94 2.06.94-2.06 2.06-.94-2.06-.94-.94-2.06-.94 2.06-2.06.94zm-11 1L8.5 8.5l.94-2.06 2.06-.94-2.06-.94L8.5 2.5l-.94 2.06-2.06.94zm10 10l.94 2.06.94-2.06 2.06-.94-2.06-.94-.94-2.06-.94 2.06-2.06.94z\"/><path d=\"M17.41 7.96l-1.37-1.37c-.4-.4-.92-.59-1.43-.59-.52 0-1.04.2-1.43.59L10.3 9.45l-7.72 7.72c-.78.78-.78 2.05 0 2.83L4 21.41c.39.39.9.59 1.41.59.51 0 1.02-.2 1.41-.59l7.78-7.78 2.81-2.81c.8-.78.8-2.07 0-2.86zM5.41 20L4 18.59l7.72-7.72 1.47 1.35L5.41 20z\"/>\n",
              "  </svg>\n",
              "      </button>\n",
              "      \n",
              "  <style>\n",
              "    .colab-df-container {\n",
              "      display:flex;\n",
              "      flex-wrap:wrap;\n",
              "      gap: 12px;\n",
              "    }\n",
              "\n",
              "    .colab-df-convert {\n",
              "      background-color: #E8F0FE;\n",
              "      border: none;\n",
              "      border-radius: 50%;\n",
              "      cursor: pointer;\n",
              "      display: none;\n",
              "      fill: #1967D2;\n",
              "      height: 32px;\n",
              "      padding: 0 0 0 0;\n",
              "      width: 32px;\n",
              "    }\n",
              "\n",
              "    .colab-df-convert:hover {\n",
              "      background-color: #E2EBFA;\n",
              "      box-shadow: 0px 1px 2px rgba(60, 64, 67, 0.3), 0px 1px 3px 1px rgba(60, 64, 67, 0.15);\n",
              "      fill: #174EA6;\n",
              "    }\n",
              "\n",
              "    [theme=dark] .colab-df-convert {\n",
              "      background-color: #3B4455;\n",
              "      fill: #D2E3FC;\n",
              "    }\n",
              "\n",
              "    [theme=dark] .colab-df-convert:hover {\n",
              "      background-color: #434B5C;\n",
              "      box-shadow: 0px 1px 3px 1px rgba(0, 0, 0, 0.15);\n",
              "      filter: drop-shadow(0px 1px 2px rgba(0, 0, 0, 0.3));\n",
              "      fill: #FFFFFF;\n",
              "    }\n",
              "  </style>\n",
              "\n",
              "      <script>\n",
              "        const buttonEl =\n",
              "          document.querySelector('#df-84353d87-63e2-4333-829a-78d0052dd004 button.colab-df-convert');\n",
              "        buttonEl.style.display =\n",
              "          google.colab.kernel.accessAllowed ? 'block' : 'none';\n",
              "\n",
              "        async function convertToInteractive(key) {\n",
              "          const element = document.querySelector('#df-84353d87-63e2-4333-829a-78d0052dd004');\n",
              "          const dataTable =\n",
              "            await google.colab.kernel.invokeFunction('convertToInteractive',\n",
              "                                                     [key], {});\n",
              "          if (!dataTable) return;\n",
              "\n",
              "          const docLinkHtml = 'Like what you see? Visit the ' +\n",
              "            '<a target=\"_blank\" href=https://colab.research.google.com/notebooks/data_table.ipynb>data table notebook</a>'\n",
              "            + ' to learn more about interactive tables.';\n",
              "          element.innerHTML = '';\n",
              "          dataTable['output_type'] = 'display_data';\n",
              "          await google.colab.output.renderOutput(dataTable, element);\n",
              "          const docLink = document.createElement('div');\n",
              "          docLink.innerHTML = docLinkHtml;\n",
              "          element.appendChild(docLink);\n",
              "        }\n",
              "      </script>\n",
              "    </div>\n",
              "  </div>\n",
              "  "
            ]
          },
          "metadata": {},
          "execution_count": 506
        }
      ]
    },
    {
      "cell_type": "code",
      "source": [
        "#exporting csv again post concat of missing US records\n",
        "path = '/content/drive/My Drive/df_usa_from_state_concat.csv'\n",
        "with open(path, 'w', encoding = 'utf-8-sig') as f:\n",
        "  df_usa_from_state_concat.to_csv(f)"
      ],
      "metadata": {
        "id": "p1PQDM114D7T"
      },
      "execution_count": null,
      "outputs": []
    },
    {
      "cell_type": "markdown",
      "source": [
        "##Individual State Dataframes\n",
        "I decided to make individual state dataframes (all aircraft and airplanes only), which turned out to be (mostly) unnecessary. "
      ],
      "metadata": {
        "id": "V9qhuxQvviSo"
      }
    },
    {
      "cell_type": "markdown",
      "source": [
        "**State 1: Alaska**"
      ],
      "metadata": {
        "id": "zhFtlS6WwDqK"
      }
    },
    {
      "cell_type": "code",
      "source": [
        "# Alaska, all aircraft \n",
        "df_fly_ak = df[df['State'] == 'AK']"
      ],
      "metadata": {
        "id": "G3s3MjO835jQ"
      },
      "execution_count": null,
      "outputs": []
    },
    {
      "cell_type": "code",
      "source": [
        "# Alaska, only airplanes \n",
        "df_fly_ak_planes = df_fly_ak[df_fly_ak['Aircraft.Category'] == 'Airplane' ] "
      ],
      "metadata": {
        "id": "voiIL2hU5U_s"
      },
      "execution_count": null,
      "outputs": []
    },
    {
      "cell_type": "code",
      "source": [
        "# checking length to compare all aircraft vs planes\n",
        "len(df_fly_ak)"
      ],
      "metadata": {
        "colab": {
          "base_uri": "https://localhost:8080/"
        },
        "id": "rm-PZMLE5i56",
        "outputId": "48e2995e-9f3e-4afd-d29a-64fc7318c36e"
      },
      "execution_count": null,
      "outputs": [
        {
          "output_type": "execute_result",
          "data": {
            "text/plain": [
              "5672"
            ]
          },
          "metadata": {},
          "execution_count": 151
        }
      ]
    },
    {
      "cell_type": "code",
      "source": [
        "len(df_fly_ak_planes)"
      ],
      "metadata": {
        "colab": {
          "base_uri": "https://localhost:8080/"
        },
        "id": "VjCvVIa45qYD",
        "outputId": "f837ee87-ac19-48d7-9220-337bd4afb9f7"
      },
      "execution_count": null,
      "outputs": [
        {
          "output_type": "execute_result",
          "data": {
            "text/plain": [
              "1643"
            ]
          },
          "metadata": {},
          "execution_count": 153
        }
      ]
    },
    {
      "cell_type": "code",
      "source": [
        "#exporting and saving df_fly_ak file to my google drive\n",
        "path = '/content/drive/My Drive/df_fly_ak.csv'\n",
        "with open(path, 'w', encoding = 'utf-8-sig') as f:\n",
        "  df_fly_ak.to_csv(f)"
      ],
      "metadata": {
        "id": "nc_qnYklOEZY"
      },
      "execution_count": null,
      "outputs": []
    },
    {
      "cell_type": "code",
      "source": [
        "#exporting and saving df_fly_ak_planes file to my google drive\n",
        "path = '/content/drive/My Drive/df_fly_ak_planes.csv'\n",
        "with open(path, 'w', encoding = 'utf-8-sig') as f:\n",
        "  df_fly_ak_planes.to_csv(f)"
      ],
      "metadata": {
        "id": "P5iVsuGkOoxX"
      },
      "execution_count": null,
      "outputs": []
    },
    {
      "cell_type": "markdown",
      "source": [
        "**State 2: Alabama**"
      ],
      "metadata": {
        "id": "wJxatGEBwL1i"
      }
    },
    {
      "cell_type": "code",
      "source": [
        "# Alabama, all aircraft\n",
        "df_fly_al = df[df['State'] == 'AL']\n"
      ],
      "metadata": {
        "id": "7t4EuA_Q2yMx"
      },
      "execution_count": null,
      "outputs": []
    },
    {
      "cell_type": "code",
      "source": [
        "# Alabama, only planes\n",
        "df_fly_al_planes = df_fly_al[df_fly_al['Aircraft.Category'] == 'Airplane']"
      ],
      "metadata": {
        "id": "bCpFBVe-59Ix"
      },
      "execution_count": null,
      "outputs": []
    },
    {
      "cell_type": "code",
      "source": [
        "# comparing length of df before and after filtering for airplanes only\n",
        "len(df_fly_al)"
      ],
      "metadata": {
        "colab": {
          "base_uri": "https://localhost:8080/"
        },
        "id": "NFJDlTWu56s5",
        "outputId": "7b3d0b07-8cd3-488f-e883-279436ec2b67"
      },
      "execution_count": null,
      "outputs": [
        {
          "output_type": "execute_result",
          "data": {
            "text/plain": [
              "1153"
            ]
          },
          "metadata": {},
          "execution_count": 154
        }
      ]
    },
    {
      "cell_type": "code",
      "source": [
        "len(df_fly_al_planes)"
      ],
      "metadata": {
        "colab": {
          "base_uri": "https://localhost:8080/"
        },
        "id": "fBRycuVb6KVE",
        "outputId": "fe5c7959-e91e-4d9c-8202-defdb74c39ad"
      },
      "execution_count": null,
      "outputs": [
        {
          "output_type": "execute_result",
          "data": {
            "text/plain": [
              "343"
            ]
          },
          "metadata": {},
          "execution_count": 156
        }
      ]
    },
    {
      "cell_type": "code",
      "source": [
        "#exporting and saving df_fly_al_planes file to my google drive\n",
        "path = '/content/drive/My Drive/df_fly_al_planes.csv'\n",
        "with open(path, 'w', encoding = 'utf-8-sig') as f:\n",
        "  df_fly_al_planes.to_csv(f)"
      ],
      "metadata": {
        "id": "GIbUYkhhO5UZ"
      },
      "execution_count": null,
      "outputs": []
    },
    {
      "cell_type": "code",
      "source": [
        "#exporting and saving df_fly_al_planes file to my google drive\n",
        "path = '/content/drive/My Drive/df_fly_al.csv'\n",
        "with open(path, 'w', encoding = 'utf-8-sig') as f:\n",
        "  df_fly_al.to_csv(f)"
      ],
      "metadata": {
        "id": "WP_jYgfyPFw0"
      },
      "execution_count": null,
      "outputs": []
    },
    {
      "cell_type": "markdown",
      "source": [
        "**State 3: Arkansas**"
      ],
      "metadata": {
        "id": "AaPiyuijwb49"
      }
    },
    {
      "cell_type": "code",
      "source": [
        "# Arkansas, all aircraft\n",
        "df_fly_ar = df[df['State'] == 'AR']"
      ],
      "metadata": {
        "id": "CGw-CCYI4EKY"
      },
      "execution_count": null,
      "outputs": []
    },
    {
      "cell_type": "code",
      "source": [
        "# Arkansas, airplanes only\n",
        "df_fly_ar_planes = df_fly_ar[df_fly_ar['Aircraft.Category'] == 'Airplane']"
      ],
      "metadata": {
        "id": "7B42Cj_l6Vjd"
      },
      "execution_count": null,
      "outputs": []
    },
    {
      "cell_type": "code",
      "source": [
        "# comparing length of df before and after filtering for airplanes only\n",
        "len(df_fly_ar)"
      ],
      "metadata": {
        "colab": {
          "base_uri": "https://localhost:8080/"
        },
        "id": "NJy8oYxA6QAo",
        "outputId": "de1ff211-40d5-477c-daa9-80a486477c9b"
      },
      "execution_count": null,
      "outputs": [
        {
          "output_type": "execute_result",
          "data": {
            "text/plain": [
              "1519"
            ]
          },
          "metadata": {},
          "execution_count": 157
        }
      ]
    },
    {
      "cell_type": "code",
      "source": [
        "len(df_fly_ar_planes)"
      ],
      "metadata": {
        "colab": {
          "base_uri": "https://localhost:8080/"
        },
        "id": "v6RcLTfS6dcP",
        "outputId": "8f56993c-2e3a-452b-855f-818335739e68"
      },
      "execution_count": null,
      "outputs": [
        {
          "output_type": "execute_result",
          "data": {
            "text/plain": [
              "403"
            ]
          },
          "metadata": {},
          "execution_count": 159
        }
      ]
    },
    {
      "cell_type": "code",
      "source": [
        "#exporting and saving df_fly_ar_planes file to my google drive\n",
        "path = '/content/drive/My Drive/df_fly_ar_planes.csv'\n",
        "with open(path, 'w', encoding = 'utf-8-sig') as f:\n",
        " df_fly_ar_planes.to_csv(f)"
      ],
      "metadata": {
        "id": "PV0Vgk1jPfbk"
      },
      "execution_count": null,
      "outputs": []
    },
    {
      "cell_type": "code",
      "source": [
        "#exporting and saving df_fly_ar file to my google drive\n",
        "path = '/content/drive/My Drive/df_fly_ar.csv'\n",
        "with open(path, 'w', encoding = 'utf-8-sig') as f:\n",
        " df_fly_ar.to_csv(f)"
      ],
      "metadata": {
        "id": "m93bavR3PpLj"
      },
      "execution_count": null,
      "outputs": []
    },
    {
      "cell_type": "markdown",
      "source": [
        "**State 4: Arizona**"
      ],
      "metadata": {
        "id": "1CuY-cZ5w9Eu"
      }
    },
    {
      "cell_type": "code",
      "source": [
        "# Arizona, all aircraft\n",
        "df_fly_az = df[df['State'] == 'AZ']"
      ],
      "metadata": {
        "id": "vqyJd3F3ccwd"
      },
      "execution_count": null,
      "outputs": []
    },
    {
      "cell_type": "code",
      "source": [
        "# AZ has a lot of accidents/incidents so I was curious about the unique values of aircraft type\n",
        "df_fly_az['Aircraft.Category'].unique()"
      ],
      "metadata": {
        "colab": {
          "base_uri": "https://localhost:8080/"
        },
        "id": "Whfot53n6yol",
        "outputId": "e32adb9b-f991-43de-e4db-fdbbbb066038"
      },
      "execution_count": null,
      "outputs": [
        {
          "output_type": "execute_result",
          "data": {
            "text/plain": [
              "array(['Airplane', 'Balloon', 'Glider', 'Helicopter', nan, 'Gyrocraft',\n",
              "       'Weight-Shift', 'Powered Parachute', 'WSFT'], dtype=object)"
            ]
          },
          "metadata": {},
          "execution_count": 163
        }
      ]
    },
    {
      "cell_type": "code",
      "source": [
        "# Arizona, only airplanes\n",
        "df_fly_az_planes = df_fly_az[df_fly_az['Aircraft.Category'] == 'Airplane']"
      ],
      "metadata": {
        "id": "PF3WNQgL6j2u"
      },
      "execution_count": null,
      "outputs": []
    },
    {
      "cell_type": "code",
      "source": [
        "# comparing length of df before and after filtering for airplanes only\n",
        "len(df_fly_az)"
      ],
      "metadata": {
        "colab": {
          "base_uri": "https://localhost:8080/"
        },
        "id": "oJ9LdwJo6h4n",
        "outputId": "0527cd81-bb4b-46c8-886e-f44eaacddb70"
      },
      "execution_count": null,
      "outputs": [
        {
          "output_type": "execute_result",
          "data": {
            "text/plain": [
              "2834"
            ]
          },
          "metadata": {},
          "execution_count": 160
        }
      ]
    },
    {
      "cell_type": "code",
      "source": [
        "len(df_fly_az_planes)"
      ],
      "metadata": {
        "colab": {
          "base_uri": "https://localhost:8080/"
        },
        "id": "bLgsRfxz6poD",
        "outputId": "98bc4be1-d835-4941-82dd-c72efd043909"
      },
      "execution_count": null,
      "outputs": [
        {
          "output_type": "execute_result",
          "data": {
            "text/plain": [
              "907"
            ]
          },
          "metadata": {},
          "execution_count": 165
        }
      ]
    },
    {
      "cell_type": "code",
      "source": [
        "#exporting and saving df_fly_az_planes file to my google drive\n",
        "path = '/content/drive/My Drive/df_fly_az_planes.csv'\n",
        "with open(path, 'w', encoding = 'utf-8-sig') as f:\n",
        " df_fly_az_planes.to_csv(f)"
      ],
      "metadata": {
        "id": "Uq6zWQivPy3e"
      },
      "execution_count": null,
      "outputs": []
    },
    {
      "cell_type": "code",
      "source": [
        "#exporting and saving df_fly_az file to my google drive\n",
        "path = '/content/drive/My Drive/df_fly_az.csv'\n",
        "with open(path, 'w', encoding = 'utf-8-sig') as f:\n",
        " df_fly_az.to_csv(f)"
      ],
      "metadata": {
        "id": "Kq-lBLcfP2pA"
      },
      "execution_count": null,
      "outputs": []
    },
    {
      "cell_type": "markdown",
      "source": [
        "**State 5: California**"
      ],
      "metadata": {
        "id": "ecckyqKVxSet"
      }
    },
    {
      "cell_type": "code",
      "source": [
        "# California, all aircraft\n",
        "df_fly_ca = df[df['State'] == 'CA']"
      ],
      "metadata": {
        "id": "a8gNH8VZcdqt"
      },
      "execution_count": null,
      "outputs": []
    },
    {
      "cell_type": "code",
      "source": [
        "# California, only airplanes\n",
        "df_fly_ca_planes = df_fly_ca[df_fly_ca['Aircraft.Category'] == 'Airplane']"
      ],
      "metadata": {
        "id": "rKeaweb-7TlB"
      },
      "execution_count": null,
      "outputs": []
    },
    {
      "cell_type": "code",
      "source": [
        "# comparing length of df before and after filtering for airplanes only\n",
        "len(df_fly_ca)"
      ],
      "metadata": {
        "colab": {
          "base_uri": "https://localhost:8080/"
        },
        "id": "xY3ATB747Qy1",
        "outputId": "34f09194-facf-4852-8787-d93239c7923e"
      },
      "execution_count": null,
      "outputs": [
        {
          "output_type": "execute_result",
          "data": {
            "text/plain": [
              "8857"
            ]
          },
          "metadata": {},
          "execution_count": 166
        }
      ]
    },
    {
      "cell_type": "code",
      "source": [
        "len(df_fly_ca_planes )"
      ],
      "metadata": {
        "colab": {
          "base_uri": "https://localhost:8080/"
        },
        "id": "OxYWARzV7fMO",
        "outputId": "6937a23f-7581-40c0-875d-801ef69f0fd4"
      },
      "execution_count": null,
      "outputs": [
        {
          "output_type": "execute_result",
          "data": {
            "text/plain": [
              "2305"
            ]
          },
          "metadata": {},
          "execution_count": 168
        }
      ]
    },
    {
      "cell_type": "code",
      "source": [
        "#exporting and saving df_fly_ca_planes file to my google drive\n",
        "path = '/content/drive/My Drive/df_fly_ca_planes.csv'\n",
        "with open(path, 'w', encoding = 'utf-8-sig') as f:\n",
        " df_fly_ca_planes.to_csv(f)"
      ],
      "metadata": {
        "id": "ZQlQFKFUP7YD"
      },
      "execution_count": null,
      "outputs": []
    },
    {
      "cell_type": "code",
      "source": [
        "#exporting and saving df_fly_ca file to my google drive\n",
        "path = '/content/drive/My Drive/df_fly_ca.csv'\n",
        "with open(path, 'w', encoding = 'utf-8-sig') as f:\n",
        " df_fly_ca.to_csv(f)"
      ],
      "metadata": {
        "id": "W2B3dipxQATS"
      },
      "execution_count": null,
      "outputs": []
    },
    {
      "cell_type": "markdown",
      "source": [
        "**State 6: Atlantic Ocean**\n",
        "\n",
        "*Note: AO (Atlantic Ocean) is included as a 'state' in the United States dataset by NTSB. See `states.csv` for the full list*"
      ],
      "metadata": {
        "id": "KOOsBSESxgQ1"
      }
    },
    {
      "cell_type": "code",
      "source": [
        "# Atlantic Ocean, all aircraft\n",
        "df_fly_ao = df[df['State'] == 'AO']"
      ],
      "metadata": {
        "id": "ImhO0bZfdbJ3"
      },
      "execution_count": null,
      "outputs": []
    },
    {
      "cell_type": "code",
      "source": [
        "# Atlantic Ocean, only airplanes\n",
        "df_fly_ao_planes = df_fly_ao[df_fly_ao['Aircraft.Category'] == 'Airplane']"
      ],
      "metadata": {
        "id": "rZxkRYGn7sK1"
      },
      "execution_count": null,
      "outputs": []
    },
    {
      "cell_type": "code",
      "source": [
        "# comparing length of df before and after filtering for airplanes only\n",
        "len(df_fly_ao)"
      ],
      "metadata": {
        "colab": {
          "base_uri": "https://localhost:8080/"
        },
        "id": "wCGPe1SV7oR8",
        "outputId": "39cec843-7a16-45ca-bf82-d2e5565c9222"
      },
      "execution_count": null,
      "outputs": [
        {
          "output_type": "execute_result",
          "data": {
            "text/plain": [
              "23"
            ]
          },
          "metadata": {},
          "execution_count": 169
        }
      ]
    },
    {
      "cell_type": "code",
      "source": [
        "len(df_fly_ao_planes)"
      ],
      "metadata": {
        "colab": {
          "base_uri": "https://localhost:8080/"
        },
        "id": "9TCT_90375AB",
        "outputId": "5a139229-4c04-41a6-fa4c-2c49c443e31d"
      },
      "execution_count": null,
      "outputs": [
        {
          "output_type": "execute_result",
          "data": {
            "text/plain": [
              "18"
            ]
          },
          "metadata": {},
          "execution_count": 172
        }
      ]
    },
    {
      "cell_type": "code",
      "source": [
        "#exporting and saving df_fly_ao_planes file to my google drive\n",
        "path = '/content/drive/My Drive/df_fly_ao_planes.csv'\n",
        "with open(path, 'w', encoding = 'utf-8-sig') as f:\n",
        " df_fly_ao_planes.to_csv(f)"
      ],
      "metadata": {
        "id": "aPj38StxQFkW"
      },
      "execution_count": null,
      "outputs": []
    },
    {
      "cell_type": "code",
      "source": [
        "#exporting and saving df_fly_ao file to my google drive\n",
        "path = '/content/drive/My Drive/df_fly_ao.csv'\n",
        "with open(path, 'w', encoding = 'utf-8-sig') as f:\n",
        " df_fly_ao.to_csv(f)"
      ],
      "metadata": {
        "id": "7VI4nW-vQJlp"
      },
      "execution_count": null,
      "outputs": []
    },
    {
      "cell_type": "markdown",
      "source": [
        "**State 7: Colorado**"
      ],
      "metadata": {
        "id": "5oxC8fSWx8nQ"
      }
    },
    {
      "cell_type": "code",
      "source": [
        "# Colorado, all aircraft\n",
        "df_fly_co = df[df['State'] == 'CO']"
      ],
      "metadata": {
        "id": "_83xXN4AceDB"
      },
      "execution_count": null,
      "outputs": []
    },
    {
      "cell_type": "code",
      "source": [
        "# Colorado, only airplanes\n",
        "df_fly_co_planes = df_fly_co[df_fly_co['Aircraft.Category'] == 'Airplane' ]  "
      ],
      "metadata": {
        "id": "pF8WRNW48Tm5"
      },
      "execution_count": null,
      "outputs": []
    },
    {
      "cell_type": "code",
      "source": [
        "# comparing length of df before and after filtering for airplanes only\n",
        "len(df_fly_co)"
      ],
      "metadata": {
        "colab": {
          "base_uri": "https://localhost:8080/"
        },
        "id": "eXWGJfLW8RWv",
        "outputId": "6d1c515f-78a8-460e-e584-2507bc30202b"
      },
      "execution_count": null,
      "outputs": [
        {
          "output_type": "execute_result",
          "data": {
            "text/plain": [
              "2726"
            ]
          },
          "metadata": {},
          "execution_count": 173
        }
      ]
    },
    {
      "cell_type": "code",
      "source": [
        "len(df_fly_co_planes)"
      ],
      "metadata": {
        "colab": {
          "base_uri": "https://localhost:8080/"
        },
        "id": "aJ05ccco8eOk",
        "outputId": "4148ee40-82dd-4953-b35f-98a358eb218f"
      },
      "execution_count": null,
      "outputs": [
        {
          "output_type": "execute_result",
          "data": {
            "text/plain": [
              "752"
            ]
          },
          "metadata": {},
          "execution_count": 175
        }
      ]
    },
    {
      "cell_type": "code",
      "source": [
        "#exporting and saving df_fly_co_planes file to my google drive\n",
        "path = '/content/drive/My Drive/df_fly_co_planes.csv'\n",
        "with open(path, 'w', encoding = 'utf-8-sig') as f:\n",
        " df_fly_co_planes.to_csv(f)"
      ],
      "metadata": {
        "id": "ikmr_c-lQOAc"
      },
      "execution_count": null,
      "outputs": []
    },
    {
      "cell_type": "code",
      "source": [
        "#exporting and saving df_fly_co file to my google drive\n",
        "path = '/content/drive/My Drive/df_fly_co.csv'\n",
        "with open(path, 'w', encoding = 'utf-8-sig') as f:\n",
        " df_fly_co.to_csv(f)"
      ],
      "metadata": {
        "id": "mSZnACvqQRl-"
      },
      "execution_count": null,
      "outputs": []
    },
    {
      "cell_type": "markdown",
      "source": [
        "**State 8: Connecticut**"
      ],
      "metadata": {
        "id": "YJ5rAWdOyFRc"
      }
    },
    {
      "cell_type": "code",
      "source": [
        "# Connecticut, all aircraft\n",
        "df_fly_ct = df[df['State'] == 'CT']"
      ],
      "metadata": {
        "id": "SOTfNLYS1IL7"
      },
      "execution_count": null,
      "outputs": []
    },
    {
      "cell_type": "code",
      "source": [
        "# Connecticut, only airplanes\n",
        "df_fly_ct_planes = df_fly_ct[df_fly_ct['Aircraft.Category'] == 'Airplane']"
      ],
      "metadata": {
        "id": "9EhEoiQ98mgj"
      },
      "execution_count": null,
      "outputs": []
    },
    {
      "cell_type": "code",
      "source": [
        "# comparing length of df before and after filtering for airplanes only\n",
        "len(df_fly_ct)"
      ],
      "metadata": {
        "colab": {
          "base_uri": "https://localhost:8080/"
        },
        "id": "bfEzjZbn8kRG",
        "outputId": "2a52cf04-1762-4bc6-abe0-6350f0cfbe71"
      },
      "execution_count": null,
      "outputs": [
        {
          "output_type": "execute_result",
          "data": {
            "text/plain": [
              "502"
            ]
          },
          "metadata": {},
          "execution_count": 176
        }
      ]
    },
    {
      "cell_type": "code",
      "source": [
        "len(df_fly_ct_planes)"
      ],
      "metadata": {
        "colab": {
          "base_uri": "https://localhost:8080/"
        },
        "id": "pr4uTtpi8rLu",
        "outputId": "11d716a0-24e0-4850-c3c5-66b1dd489459"
      },
      "execution_count": null,
      "outputs": [
        {
          "output_type": "execute_result",
          "data": {
            "text/plain": [
              "140"
            ]
          },
          "metadata": {},
          "execution_count": 178
        }
      ]
    },
    {
      "cell_type": "code",
      "source": [
        "#exporting and saving df_fly_ct_planes file to my google drive\n",
        "path = '/content/drive/My Drive/df_fly_ct_planes.csv'\n",
        "with open(path, 'w', encoding = 'utf-8-sig') as f:\n",
        " df_fly_ct_planes.to_csv(f)"
      ],
      "metadata": {
        "id": "YUs1r5lFQWVE"
      },
      "execution_count": null,
      "outputs": []
    },
    {
      "cell_type": "code",
      "source": [
        "#exporting and saving df_fly_ct file to my google drive\n",
        "path = '/content/drive/My Drive/df_fly_ct.csv'\n",
        "with open(path, 'w', encoding = 'utf-8-sig') as f:\n",
        " df_fly_ct.to_csv(f)"
      ],
      "metadata": {
        "id": "WM27_IFNQZr3"
      },
      "execution_count": null,
      "outputs": []
    },
    {
      "cell_type": "markdown",
      "source": [
        "**State 9: Washington D.C.**\n",
        "\n",
        "*Note: Washington D.C. is not a state and therefore does not get any votes in the Electoral College, but it is included as a 'state' in the United States dataset by NTSB. See `states.csv` for the full list*"
      ],
      "metadata": {
        "id": "mCiwhlp8yRGo"
      }
    },
    {
      "cell_type": "code",
      "source": [
        "# Washington DC, all aircraft\n",
        "df_fly_dc = df[df['State'] == 'DC']"
      ],
      "metadata": {
        "id": "KaSgHwpVcecE"
      },
      "execution_count": null,
      "outputs": []
    },
    {
      "cell_type": "code",
      "source": [
        "# Washington DC, only airplanes\n",
        "df_fly_dc_planes = df_fly_dc[df_fly_dc['Aircraft.Category'] == 'Airplane']"
      ],
      "metadata": {
        "id": "bDhZl7wV81Hd"
      },
      "execution_count": null,
      "outputs": []
    },
    {
      "cell_type": "code",
      "source": [
        "# comparing length of df before and after filtering for airplanes only\n",
        "len(df_fly_dc)"
      ],
      "metadata": {
        "colab": {
          "base_uri": "https://localhost:8080/"
        },
        "id": "lxgvS3sl8zJB",
        "outputId": "1f4b71ba-bcc3-46d6-bd72-60c526b6d5e5"
      },
      "execution_count": null,
      "outputs": [
        {
          "output_type": "execute_result",
          "data": {
            "text/plain": [
              "42"
            ]
          },
          "metadata": {},
          "execution_count": 179
        }
      ]
    },
    {
      "cell_type": "code",
      "source": [
        "len(df_fly_dc_planes)"
      ],
      "metadata": {
        "colab": {
          "base_uri": "https://localhost:8080/"
        },
        "id": "C7QmK1dn9BkE",
        "outputId": "b952f854-e679-42ec-867a-6ff60e93ffc7"
      },
      "execution_count": null,
      "outputs": [
        {
          "output_type": "execute_result",
          "data": {
            "text/plain": [
              "6"
            ]
          },
          "metadata": {},
          "execution_count": 182
        }
      ]
    },
    {
      "cell_type": "code",
      "source": [
        "#exporting and saving df_fly_dc_planes file to my google drive\n",
        "path = '/content/drive/My Drive/df_fly_dc_planes.csv'\n",
        "with open(path, 'w', encoding = 'utf-8-sig') as f:\n",
        " df_fly_dc_planes.to_csv(f)"
      ],
      "metadata": {
        "id": "fBAJppbVQeaz"
      },
      "execution_count": null,
      "outputs": []
    },
    {
      "cell_type": "code",
      "source": [
        "#exporting and saving df_fly_dc file to my google drive\n",
        "path = '/content/drive/My Drive/df_fly_dc.csv'\n",
        "with open(path, 'w', encoding = 'utf-8-sig') as f:\n",
        " df_fly_dc.to_csv(f)"
      ],
      "metadata": {
        "id": "5c8H8_k4QiKc"
      },
      "execution_count": null,
      "outputs": []
    },
    {
      "cell_type": "markdown",
      "source": [
        "**State 10: Delaware**"
      ],
      "metadata": {
        "id": "tblXz8r0y12P"
      }
    },
    {
      "cell_type": "code",
      "source": [
        "# Delaware, all aircraft\n",
        "df_fly_de = df[df['State'] == 'DE']"
      ],
      "metadata": {
        "id": "dHUBzyWEce_V"
      },
      "execution_count": null,
      "outputs": []
    },
    {
      "cell_type": "code",
      "source": [
        "# Delaware, only airplanes\n",
        "df_fly_de_planes = df_fly_de[df_fly_de['Aircraft.Category'] == 'Airplane']"
      ],
      "metadata": {
        "id": "Z4diwVrw9ICT"
      },
      "execution_count": null,
      "outputs": []
    },
    {
      "cell_type": "code",
      "source": [
        "# comparing length of df before and after filtering for airplanes only\n",
        "len(df_fly_de)"
      ],
      "metadata": {
        "colab": {
          "base_uri": "https://localhost:8080/"
        },
        "id": "zbiHnkgn9GR6",
        "outputId": "28ad99b0-6f3e-4839-f6ea-d8875063d982"
      },
      "execution_count": null,
      "outputs": [
        {
          "output_type": "execute_result",
          "data": {
            "text/plain": [
              "114"
            ]
          },
          "metadata": {},
          "execution_count": 183
        }
      ]
    },
    {
      "cell_type": "code",
      "source": [
        "len(df_fly_de_planes)"
      ],
      "metadata": {
        "colab": {
          "base_uri": "https://localhost:8080/"
        },
        "id": "4tpTVzMl9N8P",
        "outputId": "63b51880-8b96-4a27-f420-5c4eb9fd483f"
      },
      "execution_count": null,
      "outputs": [
        {
          "output_type": "execute_result",
          "data": {
            "text/plain": [
              "29"
            ]
          },
          "metadata": {},
          "execution_count": 186
        }
      ]
    },
    {
      "cell_type": "code",
      "source": [
        "#exporting and saving df_fly_de_planes file to my google drive\n",
        "path = '/content/drive/My Drive/df_fly_de_planes.csv'\n",
        "with open(path, 'w', encoding = 'utf-8-sig') as f:\n",
        " df_fly_de_planes.to_csv(f)"
      ],
      "metadata": {
        "id": "aD6acbYHQmQf"
      },
      "execution_count": null,
      "outputs": []
    },
    {
      "cell_type": "code",
      "source": [
        "#exporting and saving df_fly_de file to my google drive\n",
        "path = '/content/drive/My Drive/df_fly_de.csv'\n",
        "with open(path, 'w', encoding = 'utf-8-sig') as f:\n",
        " df_fly_de.to_csv(f)"
      ],
      "metadata": {
        "id": "6oJClOktQpjG"
      },
      "execution_count": null,
      "outputs": []
    },
    {
      "cell_type": "markdown",
      "source": [
        "**State 11: Florida**"
      ],
      "metadata": {
        "id": "ubgw2WrozDXq"
      }
    },
    {
      "cell_type": "code",
      "source": [
        "# Florida, all aircraft\n",
        "df_fly_fl = df[df['State'] == 'FL']"
      ],
      "metadata": {
        "id": "BWdLBbcZcfgy"
      },
      "execution_count": null,
      "outputs": []
    },
    {
      "cell_type": "code",
      "source": [
        "# Florida, airplanes only\n",
        "df_fly_fl_planes = df_fly_fl[df_fly_fl['Aircraft.Category'] == 'Airplane']"
      ],
      "metadata": {
        "id": "hxxKcsj89aoS"
      },
      "execution_count": null,
      "outputs": []
    },
    {
      "cell_type": "code",
      "source": [
        "# comparing length of df before and after filtering for airplanes only\n",
        "len(df_fly_fl)"
      ],
      "metadata": {
        "colab": {
          "base_uri": "https://localhost:8080/"
        },
        "id": "v702wUJN9ZTt",
        "outputId": "9fbe9262-ae71-4ea6-9f53-f16b53eb2824"
      },
      "execution_count": null,
      "outputs": [
        {
          "output_type": "execute_result",
          "data": {
            "text/plain": [
              "5825"
            ]
          },
          "metadata": {},
          "execution_count": 187
        }
      ]
    },
    {
      "cell_type": "code",
      "source": [
        "len(df_fly_fl_planes)"
      ],
      "metadata": {
        "colab": {
          "base_uri": "https://localhost:8080/"
        },
        "id": "X-keZ9vr9g2V",
        "outputId": "c9131931-8fa7-46b9-d270-ea22b190418b"
      },
      "execution_count": null,
      "outputs": [
        {
          "output_type": "execute_result",
          "data": {
            "text/plain": [
              "1746"
            ]
          },
          "metadata": {},
          "execution_count": 189
        }
      ]
    },
    {
      "cell_type": "code",
      "source": [
        "#exporting and saving df_fly_fl_planes file to my google drive\n",
        "path = '/content/drive/My Drive/df_fly_fl_planes.csv'\n",
        "with open(path, 'w', encoding = 'utf-8-sig') as f:\n",
        " df_fly_fl_planes.to_csv(f)"
      ],
      "metadata": {
        "id": "fWcCyX4SQtse"
      },
      "execution_count": null,
      "outputs": []
    },
    {
      "cell_type": "code",
      "source": [
        "#exporting and saving df_fly_fl file to my google drive\n",
        "path = '/content/drive/My Drive/df_fly_fl.csv'\n",
        "with open(path, 'w', encoding = 'utf-8-sig') as f:\n",
        " df_fly_fl.to_csv(f)"
      ],
      "metadata": {
        "id": "0wUAQY2LQxpN"
      },
      "execution_count": null,
      "outputs": []
    },
    {
      "cell_type": "markdown",
      "source": [
        "**State 12: Georgia**"
      ],
      "metadata": {
        "id": "kVLB25cBzRb4"
      }
    },
    {
      "cell_type": "code",
      "source": [
        "# Georgia, all aircraft\n",
        "df_fly_ga = df[df['State'] == 'GA']"
      ],
      "metadata": {
        "id": "G_s_cZFzcgMJ"
      },
      "execution_count": null,
      "outputs": []
    },
    {
      "cell_type": "code",
      "source": [
        "# Georgia, only airplanes\n",
        "df_fly_ga_planes = df_fly_ga[df_fly_ga['Aircraft.Category'] == 'Airplane']"
      ],
      "metadata": {
        "id": "hyJ34snT9mQZ"
      },
      "execution_count": null,
      "outputs": []
    },
    {
      "cell_type": "code",
      "source": [
        "# comparing length of df before and after filtering for airplanes only\n",
        "len(df_fly_ga)"
      ],
      "metadata": {
        "colab": {
          "base_uri": "https://localhost:8080/"
        },
        "id": "MF61g0Bq9kkh",
        "outputId": "2320b080-7585-454a-fd9c-4f323c707145"
      },
      "execution_count": null,
      "outputs": [
        {
          "output_type": "execute_result",
          "data": {
            "text/plain": [
              "2023"
            ]
          },
          "metadata": {},
          "execution_count": 190
        }
      ]
    },
    {
      "cell_type": "code",
      "source": [
        "len(df_fly_ga_planes)"
      ],
      "metadata": {
        "colab": {
          "base_uri": "https://localhost:8080/"
        },
        "id": "jCWrKNF39tiZ",
        "outputId": "f026dd8e-aa17-4764-d723-9133d883551a"
      },
      "execution_count": null,
      "outputs": [
        {
          "output_type": "execute_result",
          "data": {
            "text/plain": [
              "704"
            ]
          },
          "metadata": {},
          "execution_count": 192
        }
      ]
    },
    {
      "cell_type": "code",
      "source": [
        "#exporting and saving df_fly_ga_planes file to my google drive\n",
        "path = '/content/drive/My Drive/df_fly_ga_planes.csv'\n",
        "with open(path, 'w', encoding = 'utf-8-sig') as f:\n",
        " df_fly_ga_planes.to_csv(f)"
      ],
      "metadata": {
        "id": "l2yuGb0MQ3Yn"
      },
      "execution_count": null,
      "outputs": []
    },
    {
      "cell_type": "code",
      "source": [
        "#exporting and saving df_fly_ga file to my google drive\n",
        "path = '/content/drive/My Drive/df_fly_ga.csv'\n",
        "with open(path, 'w', encoding = 'utf-8-sig') as f:\n",
        " df_fly_ga.to_csv(f)"
      ],
      "metadata": {
        "id": "A92Y5Lg1Q76J"
      },
      "execution_count": null,
      "outputs": []
    },
    {
      "cell_type": "markdown",
      "source": [
        "**State 13: Gulf of Mexico**\n",
        "\n",
        "*Note: Gulf of Mexico (GM) is included as a 'state' in the United States dataset by NTSB. See `states.csv` for the full list*"
      ],
      "metadata": {
        "id": "JwMW7mejzizP"
      }
    },
    {
      "cell_type": "code",
      "source": [
        "# Gulf of Mexico, all aircraft \n",
        "df_fly_gm = df[df['State'] == 'GM']"
      ],
      "metadata": {
        "id": "By5njiz6d9x5"
      },
      "execution_count": null,
      "outputs": []
    },
    {
      "cell_type": "code",
      "source": [
        "len(df_fly_gm)"
      ],
      "metadata": {
        "colab": {
          "base_uri": "https://localhost:8080/"
        },
        "id": "KGzp9JlD0DKS",
        "outputId": "0e70a0a9-8c44-4b5f-fae4-47372e198687"
      },
      "execution_count": null,
      "outputs": [
        {
          "output_type": "execute_result",
          "data": {
            "text/plain": [
              "44"
            ]
          },
          "metadata": {},
          "execution_count": 138
        }
      ]
    },
    {
      "cell_type": "code",
      "source": [
        "# In exammining the missing states earlier, GM was present. \n",
        "# so dataframes for the missing values were created \n",
        "# and then concatenated to update the Gulf of Mexico df\n",
        "\n",
        "df_fly_gm  = pd.concat([df_fly_gm, df_missing_gm, df_missing_gm_2], ignore_index = True)\n",
        "df_fly_gm.reset_index()\n",
        "  \n",
        "display(df_fly_gm )"
      ],
      "metadata": {
        "colab": {
          "base_uri": "https://localhost:8080/",
          "height": 869
        },
        "id": "JwhGA7Cyztoh",
        "outputId": "d13ff9b0-ed7c-4bfd-8ce6-8e47f9ae600d"
      },
      "execution_count": null,
      "outputs": [
        {
          "output_type": "display_data",
          "data": {
            "text/plain": [
              "          Event.Id Investigation.Type Accident.Number  Event.Date  \\\n",
              "0   20001208X06876           Accident      FTW97LA010  1996-10-07   \n",
              "1   20001208X08832           Accident      FTW97FA352  1997-09-18   \n",
              "2   20001212X22153           Accident      FTW01FA017  2000-10-28   \n",
              "3   20010220X00468           Incident      FTW01IA061  2001-01-08   \n",
              "4   20010327X00654           Accident      FTW01LA081  2001-03-20   \n",
              "..             ...                ...             ...         ...   \n",
              "58  20120529X90616           Accident      CEN12FA321  2012-05-28   \n",
              "59  20120921X52540           Accident      CEN12LA652  2012-09-20   \n",
              "60  20150225X31336           Accident      CEN15LA156  2015-02-20   \n",
              "61  20190916X82539           Accident      CEN19TA321  2019-09-15   \n",
              "62  20200601X20239           Accident      ERA20CA201  2020-06-01   \n",
              "\n",
              "               Location        Country   Latitude   Longitude Airport.Code  \\\n",
              "0    GULF OF MEXICO, GM  United States        NaN         NaN          NaN   \n",
              "1   GRAND ISLE S108, GM  United States        NaN         NaN          NaN   \n",
              "2    E. Cameron 200, GM  United States  28.738055      -92.63         V200   \n",
              "3            WC 368, GM  United States    28.9025  -93.282778          NaN   \n",
              "4            EC 270, GM  United States        NaN         NaN          NaN   \n",
              "..                  ...            ...        ...         ...          ...   \n",
              "58      Gulf of Mexico,  United States        NaN         NaN          NaN   \n",
              "59      Gulf of Mexico,  United States        NaN         NaN          NaN   \n",
              "60      Gulf of Mexico,  United States    028300N    0091180W          HUM   \n",
              "61      Gulf of Mexico,  United States    028521N    0089188W          NaN   \n",
              "62      GULF OF MEXICO,  United States    026054N    0082645W          NaN   \n",
              "\n",
              "        Airport.Name  ...                             Air.carrier  \\\n",
              "0                NaN  ...                                     NaN   \n",
              "1                NaN  ...  Petroleum Helicopters, Inc. (dba: Phi)   \n",
              "2      Vermilion 200  ...                                     NaN   \n",
              "3                NaN  ...    Rotorcraft Co. Llc (dba: Rotorcraft)   \n",
              "4                NaN  ...                                     NaN   \n",
              "..               ...  ...                                     ...   \n",
              "58              None  ...                                     NaN   \n",
              "59               NaN  ...          GOVERNMENT AUCTIONS ONLINE LLC   \n",
              "60  HOUMA-TERREBONNE  ...                     ERA HELICOPTERS LLC   \n",
              "61               NaN  ...                                     NaN   \n",
              "62               NaN  ...                                     NaN   \n",
              "\n",
              "   Total.Fatal.Injuries Total.Serious.Injuries Total.Minor.Injuries  \\\n",
              "0                   0.0                    0.0                  2.0   \n",
              "1                   0.0                    0.0                  4.0   \n",
              "2                   1.0                    0.0                  0.0   \n",
              "3                   NaN                    NaN                  NaN   \n",
              "4                   1.0                    NaN                  NaN   \n",
              "..                  ...                    ...                  ...   \n",
              "58                  1.0                    0.0                  0.0   \n",
              "59                  0.0                    2.0                  0.0   \n",
              "60                  0.0                    0.0                  0.0   \n",
              "61                  0.0                    0.0                  0.0   \n",
              "62                  0.0                    0.0                  0.0   \n",
              "\n",
              "   Total.Uninjured Weather.Condition Broad.phase.of.flight  \\\n",
              "0              0.0               VMC                Cruise   \n",
              "1              1.0               IMC                Cruise   \n",
              "2              0.0               VMC                Cruise   \n",
              "3              3.0               VMC              Approach   \n",
              "4              8.0               VMC              Standing   \n",
              "..             ...               ...                   ...   \n",
              "58             0.0               VMC                   NaN   \n",
              "59             0.0               VMC                   NaN   \n",
              "60             2.0               VMC                   NaN   \n",
              "61             1.0               VMC                   NaN   \n",
              "62             2.0               VMC                   NaN   \n",
              "\n",
              "                                        Report.Status Publication.Date State  \n",
              "0                                      Probable Cause       02-05-1997    GM  \n",
              "1                                      Probable Cause       04-06-2002    GM  \n",
              "2                                      Probable Cause       15-07-2002    GM  \n",
              "3                                      Probable Cause       30-07-2001    GM  \n",
              "4                                      Probable Cause       30-07-2001    GM  \n",
              "..                                                ...              ...   ...  \n",
              "58  The pilots failure to maintain clearance from...       25-09-2020        \n",
              "59  An in-flight fire, which resulted in the airpl...       25-09-2020        \n",
              "60  The fracture of the tail rotor pitch change li...       25-09-2020        \n",
              "61  A loss of engine power for undetermined reason...       28-01-2021        \n",
              "62  A total loss of engine power due to a fuel lea...       29-01-2021        \n",
              "\n",
              "[63 rows x 32 columns]"
            ],
            "text/html": [
              "\n",
              "  <div id=\"df-de1c7d52-fbf6-4f3b-b8a1-e67b3de2f702\">\n",
              "    <div class=\"colab-df-container\">\n",
              "      <div>\n",
              "<style scoped>\n",
              "    .dataframe tbody tr th:only-of-type {\n",
              "        vertical-align: middle;\n",
              "    }\n",
              "\n",
              "    .dataframe tbody tr th {\n",
              "        vertical-align: top;\n",
              "    }\n",
              "\n",
              "    .dataframe thead th {\n",
              "        text-align: right;\n",
              "    }\n",
              "</style>\n",
              "<table border=\"1\" class=\"dataframe\">\n",
              "  <thead>\n",
              "    <tr style=\"text-align: right;\">\n",
              "      <th></th>\n",
              "      <th>Event.Id</th>\n",
              "      <th>Investigation.Type</th>\n",
              "      <th>Accident.Number</th>\n",
              "      <th>Event.Date</th>\n",
              "      <th>Location</th>\n",
              "      <th>Country</th>\n",
              "      <th>Latitude</th>\n",
              "      <th>Longitude</th>\n",
              "      <th>Airport.Code</th>\n",
              "      <th>Airport.Name</th>\n",
              "      <th>...</th>\n",
              "      <th>Air.carrier</th>\n",
              "      <th>Total.Fatal.Injuries</th>\n",
              "      <th>Total.Serious.Injuries</th>\n",
              "      <th>Total.Minor.Injuries</th>\n",
              "      <th>Total.Uninjured</th>\n",
              "      <th>Weather.Condition</th>\n",
              "      <th>Broad.phase.of.flight</th>\n",
              "      <th>Report.Status</th>\n",
              "      <th>Publication.Date</th>\n",
              "      <th>State</th>\n",
              "    </tr>\n",
              "  </thead>\n",
              "  <tbody>\n",
              "    <tr>\n",
              "      <th>0</th>\n",
              "      <td>20001208X06876</td>\n",
              "      <td>Accident</td>\n",
              "      <td>FTW97LA010</td>\n",
              "      <td>1996-10-07</td>\n",
              "      <td>GULF OF MEXICO, GM</td>\n",
              "      <td>United States</td>\n",
              "      <td>NaN</td>\n",
              "      <td>NaN</td>\n",
              "      <td>NaN</td>\n",
              "      <td>NaN</td>\n",
              "      <td>...</td>\n",
              "      <td>NaN</td>\n",
              "      <td>0.0</td>\n",
              "      <td>0.0</td>\n",
              "      <td>2.0</td>\n",
              "      <td>0.0</td>\n",
              "      <td>VMC</td>\n",
              "      <td>Cruise</td>\n",
              "      <td>Probable Cause</td>\n",
              "      <td>02-05-1997</td>\n",
              "      <td>GM</td>\n",
              "    </tr>\n",
              "    <tr>\n",
              "      <th>1</th>\n",
              "      <td>20001208X08832</td>\n",
              "      <td>Accident</td>\n",
              "      <td>FTW97FA352</td>\n",
              "      <td>1997-09-18</td>\n",
              "      <td>GRAND ISLE S108, GM</td>\n",
              "      <td>United States</td>\n",
              "      <td>NaN</td>\n",
              "      <td>NaN</td>\n",
              "      <td>NaN</td>\n",
              "      <td>NaN</td>\n",
              "      <td>...</td>\n",
              "      <td>Petroleum Helicopters, Inc. (dba: Phi)</td>\n",
              "      <td>0.0</td>\n",
              "      <td>0.0</td>\n",
              "      <td>4.0</td>\n",
              "      <td>1.0</td>\n",
              "      <td>IMC</td>\n",
              "      <td>Cruise</td>\n",
              "      <td>Probable Cause</td>\n",
              "      <td>04-06-2002</td>\n",
              "      <td>GM</td>\n",
              "    </tr>\n",
              "    <tr>\n",
              "      <th>2</th>\n",
              "      <td>20001212X22153</td>\n",
              "      <td>Accident</td>\n",
              "      <td>FTW01FA017</td>\n",
              "      <td>2000-10-28</td>\n",
              "      <td>E. Cameron 200, GM</td>\n",
              "      <td>United States</td>\n",
              "      <td>28.738055</td>\n",
              "      <td>-92.63</td>\n",
              "      <td>V200</td>\n",
              "      <td>Vermilion 200</td>\n",
              "      <td>...</td>\n",
              "      <td>NaN</td>\n",
              "      <td>1.0</td>\n",
              "      <td>0.0</td>\n",
              "      <td>0.0</td>\n",
              "      <td>0.0</td>\n",
              "      <td>VMC</td>\n",
              "      <td>Cruise</td>\n",
              "      <td>Probable Cause</td>\n",
              "      <td>15-07-2002</td>\n",
              "      <td>GM</td>\n",
              "    </tr>\n",
              "    <tr>\n",
              "      <th>3</th>\n",
              "      <td>20010220X00468</td>\n",
              "      <td>Incident</td>\n",
              "      <td>FTW01IA061</td>\n",
              "      <td>2001-01-08</td>\n",
              "      <td>WC 368, GM</td>\n",
              "      <td>United States</td>\n",
              "      <td>28.9025</td>\n",
              "      <td>-93.282778</td>\n",
              "      <td>NaN</td>\n",
              "      <td>NaN</td>\n",
              "      <td>...</td>\n",
              "      <td>Rotorcraft Co. Llc (dba: Rotorcraft)</td>\n",
              "      <td>NaN</td>\n",
              "      <td>NaN</td>\n",
              "      <td>NaN</td>\n",
              "      <td>3.0</td>\n",
              "      <td>VMC</td>\n",
              "      <td>Approach</td>\n",
              "      <td>Probable Cause</td>\n",
              "      <td>30-07-2001</td>\n",
              "      <td>GM</td>\n",
              "    </tr>\n",
              "    <tr>\n",
              "      <th>4</th>\n",
              "      <td>20010327X00654</td>\n",
              "      <td>Accident</td>\n",
              "      <td>FTW01LA081</td>\n",
              "      <td>2001-03-20</td>\n",
              "      <td>EC 270, GM</td>\n",
              "      <td>United States</td>\n",
              "      <td>NaN</td>\n",
              "      <td>NaN</td>\n",
              "      <td>NaN</td>\n",
              "      <td>NaN</td>\n",
              "      <td>...</td>\n",
              "      <td>NaN</td>\n",
              "      <td>1.0</td>\n",
              "      <td>NaN</td>\n",
              "      <td>NaN</td>\n",
              "      <td>8.0</td>\n",
              "      <td>VMC</td>\n",
              "      <td>Standing</td>\n",
              "      <td>Probable Cause</td>\n",
              "      <td>30-07-2001</td>\n",
              "      <td>GM</td>\n",
              "    </tr>\n",
              "    <tr>\n",
              "      <th>...</th>\n",
              "      <td>...</td>\n",
              "      <td>...</td>\n",
              "      <td>...</td>\n",
              "      <td>...</td>\n",
              "      <td>...</td>\n",
              "      <td>...</td>\n",
              "      <td>...</td>\n",
              "      <td>...</td>\n",
              "      <td>...</td>\n",
              "      <td>...</td>\n",
              "      <td>...</td>\n",
              "      <td>...</td>\n",
              "      <td>...</td>\n",
              "      <td>...</td>\n",
              "      <td>...</td>\n",
              "      <td>...</td>\n",
              "      <td>...</td>\n",
              "      <td>...</td>\n",
              "      <td>...</td>\n",
              "      <td>...</td>\n",
              "      <td>...</td>\n",
              "    </tr>\n",
              "    <tr>\n",
              "      <th>58</th>\n",
              "      <td>20120529X90616</td>\n",
              "      <td>Accident</td>\n",
              "      <td>CEN12FA321</td>\n",
              "      <td>2012-05-28</td>\n",
              "      <td>Gulf of Mexico,</td>\n",
              "      <td>United States</td>\n",
              "      <td>NaN</td>\n",
              "      <td>NaN</td>\n",
              "      <td>NaN</td>\n",
              "      <td>None</td>\n",
              "      <td>...</td>\n",
              "      <td>NaN</td>\n",
              "      <td>1.0</td>\n",
              "      <td>0.0</td>\n",
              "      <td>0.0</td>\n",
              "      <td>0.0</td>\n",
              "      <td>VMC</td>\n",
              "      <td>NaN</td>\n",
              "      <td>The pilots failure to maintain clearance from...</td>\n",
              "      <td>25-09-2020</td>\n",
              "      <td></td>\n",
              "    </tr>\n",
              "    <tr>\n",
              "      <th>59</th>\n",
              "      <td>20120921X52540</td>\n",
              "      <td>Accident</td>\n",
              "      <td>CEN12LA652</td>\n",
              "      <td>2012-09-20</td>\n",
              "      <td>Gulf of Mexico,</td>\n",
              "      <td>United States</td>\n",
              "      <td>NaN</td>\n",
              "      <td>NaN</td>\n",
              "      <td>NaN</td>\n",
              "      <td>NaN</td>\n",
              "      <td>...</td>\n",
              "      <td>GOVERNMENT AUCTIONS ONLINE LLC</td>\n",
              "      <td>0.0</td>\n",
              "      <td>2.0</td>\n",
              "      <td>0.0</td>\n",
              "      <td>0.0</td>\n",
              "      <td>VMC</td>\n",
              "      <td>NaN</td>\n",
              "      <td>An in-flight fire, which resulted in the airpl...</td>\n",
              "      <td>25-09-2020</td>\n",
              "      <td></td>\n",
              "    </tr>\n",
              "    <tr>\n",
              "      <th>60</th>\n",
              "      <td>20150225X31336</td>\n",
              "      <td>Accident</td>\n",
              "      <td>CEN15LA156</td>\n",
              "      <td>2015-02-20</td>\n",
              "      <td>Gulf of Mexico,</td>\n",
              "      <td>United States</td>\n",
              "      <td>028300N</td>\n",
              "      <td>0091180W</td>\n",
              "      <td>HUM</td>\n",
              "      <td>HOUMA-TERREBONNE</td>\n",
              "      <td>...</td>\n",
              "      <td>ERA HELICOPTERS LLC</td>\n",
              "      <td>0.0</td>\n",
              "      <td>0.0</td>\n",
              "      <td>0.0</td>\n",
              "      <td>2.0</td>\n",
              "      <td>VMC</td>\n",
              "      <td>NaN</td>\n",
              "      <td>The fracture of the tail rotor pitch change li...</td>\n",
              "      <td>25-09-2020</td>\n",
              "      <td></td>\n",
              "    </tr>\n",
              "    <tr>\n",
              "      <th>61</th>\n",
              "      <td>20190916X82539</td>\n",
              "      <td>Accident</td>\n",
              "      <td>CEN19TA321</td>\n",
              "      <td>2019-09-15</td>\n",
              "      <td>Gulf of Mexico,</td>\n",
              "      <td>United States</td>\n",
              "      <td>028521N</td>\n",
              "      <td>0089188W</td>\n",
              "      <td>NaN</td>\n",
              "      <td>NaN</td>\n",
              "      <td>...</td>\n",
              "      <td>NaN</td>\n",
              "      <td>0.0</td>\n",
              "      <td>0.0</td>\n",
              "      <td>0.0</td>\n",
              "      <td>1.0</td>\n",
              "      <td>VMC</td>\n",
              "      <td>NaN</td>\n",
              "      <td>A loss of engine power for undetermined reason...</td>\n",
              "      <td>28-01-2021</td>\n",
              "      <td></td>\n",
              "    </tr>\n",
              "    <tr>\n",
              "      <th>62</th>\n",
              "      <td>20200601X20239</td>\n",
              "      <td>Accident</td>\n",
              "      <td>ERA20CA201</td>\n",
              "      <td>2020-06-01</td>\n",
              "      <td>GULF OF MEXICO,</td>\n",
              "      <td>United States</td>\n",
              "      <td>026054N</td>\n",
              "      <td>0082645W</td>\n",
              "      <td>NaN</td>\n",
              "      <td>NaN</td>\n",
              "      <td>...</td>\n",
              "      <td>NaN</td>\n",
              "      <td>0.0</td>\n",
              "      <td>0.0</td>\n",
              "      <td>0.0</td>\n",
              "      <td>2.0</td>\n",
              "      <td>VMC</td>\n",
              "      <td>NaN</td>\n",
              "      <td>A total loss of engine power due to a fuel lea...</td>\n",
              "      <td>29-01-2021</td>\n",
              "      <td></td>\n",
              "    </tr>\n",
              "  </tbody>\n",
              "</table>\n",
              "<p>63 rows × 32 columns</p>\n",
              "</div>\n",
              "      <button class=\"colab-df-convert\" onclick=\"convertToInteractive('df-de1c7d52-fbf6-4f3b-b8a1-e67b3de2f702')\"\n",
              "              title=\"Convert this dataframe to an interactive table.\"\n",
              "              style=\"display:none;\">\n",
              "        \n",
              "  <svg xmlns=\"http://www.w3.org/2000/svg\" height=\"24px\"viewBox=\"0 0 24 24\"\n",
              "       width=\"24px\">\n",
              "    <path d=\"M0 0h24v24H0V0z\" fill=\"none\"/>\n",
              "    <path d=\"M18.56 5.44l.94 2.06.94-2.06 2.06-.94-2.06-.94-.94-2.06-.94 2.06-2.06.94zm-11 1L8.5 8.5l.94-2.06 2.06-.94-2.06-.94L8.5 2.5l-.94 2.06-2.06.94zm10 10l.94 2.06.94-2.06 2.06-.94-2.06-.94-.94-2.06-.94 2.06-2.06.94z\"/><path d=\"M17.41 7.96l-1.37-1.37c-.4-.4-.92-.59-1.43-.59-.52 0-1.04.2-1.43.59L10.3 9.45l-7.72 7.72c-.78.78-.78 2.05 0 2.83L4 21.41c.39.39.9.59 1.41.59.51 0 1.02-.2 1.41-.59l7.78-7.78 2.81-2.81c.8-.78.8-2.07 0-2.86zM5.41 20L4 18.59l7.72-7.72 1.47 1.35L5.41 20z\"/>\n",
              "  </svg>\n",
              "      </button>\n",
              "      \n",
              "  <style>\n",
              "    .colab-df-container {\n",
              "      display:flex;\n",
              "      flex-wrap:wrap;\n",
              "      gap: 12px;\n",
              "    }\n",
              "\n",
              "    .colab-df-convert {\n",
              "      background-color: #E8F0FE;\n",
              "      border: none;\n",
              "      border-radius: 50%;\n",
              "      cursor: pointer;\n",
              "      display: none;\n",
              "      fill: #1967D2;\n",
              "      height: 32px;\n",
              "      padding: 0 0 0 0;\n",
              "      width: 32px;\n",
              "    }\n",
              "\n",
              "    .colab-df-convert:hover {\n",
              "      background-color: #E2EBFA;\n",
              "      box-shadow: 0px 1px 2px rgba(60, 64, 67, 0.3), 0px 1px 3px 1px rgba(60, 64, 67, 0.15);\n",
              "      fill: #174EA6;\n",
              "    }\n",
              "\n",
              "    [theme=dark] .colab-df-convert {\n",
              "      background-color: #3B4455;\n",
              "      fill: #D2E3FC;\n",
              "    }\n",
              "\n",
              "    [theme=dark] .colab-df-convert:hover {\n",
              "      background-color: #434B5C;\n",
              "      box-shadow: 0px 1px 3px 1px rgba(0, 0, 0, 0.15);\n",
              "      filter: drop-shadow(0px 1px 2px rgba(0, 0, 0, 0.3));\n",
              "      fill: #FFFFFF;\n",
              "    }\n",
              "  </style>\n",
              "\n",
              "      <script>\n",
              "        const buttonEl =\n",
              "          document.querySelector('#df-de1c7d52-fbf6-4f3b-b8a1-e67b3de2f702 button.colab-df-convert');\n",
              "        buttonEl.style.display =\n",
              "          google.colab.kernel.accessAllowed ? 'block' : 'none';\n",
              "\n",
              "        async function convertToInteractive(key) {\n",
              "          const element = document.querySelector('#df-de1c7d52-fbf6-4f3b-b8a1-e67b3de2f702');\n",
              "          const dataTable =\n",
              "            await google.colab.kernel.invokeFunction('convertToInteractive',\n",
              "                                                     [key], {});\n",
              "          if (!dataTable) return;\n",
              "\n",
              "          const docLinkHtml = 'Like what you see? Visit the ' +\n",
              "            '<a target=\"_blank\" href=https://colab.research.google.com/notebooks/data_table.ipynb>data table notebook</a>'\n",
              "            + ' to learn more about interactive tables.';\n",
              "          element.innerHTML = '';\n",
              "          dataTable['output_type'] = 'display_data';\n",
              "          await google.colab.output.renderOutput(dataTable, element);\n",
              "          const docLink = document.createElement('div');\n",
              "          docLink.innerHTML = docLinkHtml;\n",
              "          element.appendChild(docLink);\n",
              "        }\n",
              "      </script>\n",
              "    </div>\n",
              "  </div>\n",
              "  "
            ]
          },
          "metadata": {}
        }
      ]
    },
    {
      "cell_type": "code",
      "source": [
        "# notice we added 19 records to our Gulf of Mexico dataframe with the concatenation\n",
        "len(df_fly_gm)"
      ],
      "metadata": {
        "colab": {
          "base_uri": "https://localhost:8080/"
        },
        "id": "FKP0tK6D90U_",
        "outputId": "444ca2fc-983a-441e-b65e-80b2ce6072d5"
      },
      "execution_count": null,
      "outputs": [
        {
          "output_type": "execute_result",
          "data": {
            "text/plain": [
              "63"
            ]
          },
          "metadata": {},
          "execution_count": 193
        }
      ]
    },
    {
      "cell_type": "code",
      "source": [
        "# Gulf of Mexico, only airplanes \n",
        "df_fly_gm_planes = df_fly_gm[df_fly_gm['Aircraft.Category'] == 'Airplane']"
      ],
      "metadata": {
        "id": "CT2Xn6Vx92eW"
      },
      "execution_count": null,
      "outputs": []
    },
    {
      "cell_type": "code",
      "source": [
        "len(df_fly_gm_planes)"
      ],
      "metadata": {
        "colab": {
          "base_uri": "https://localhost:8080/"
        },
        "id": "FAETeOJx-AIj",
        "outputId": "b20e5487-091e-4666-a0d7-dd042db11c3a"
      },
      "execution_count": null,
      "outputs": [
        {
          "output_type": "execute_result",
          "data": {
            "text/plain": [
              "12"
            ]
          },
          "metadata": {},
          "execution_count": 195
        }
      ]
    },
    {
      "cell_type": "code",
      "source": [
        "#exporting and saving df_fly_gm_planes file to my google drive\n",
        "path = '/content/drive/My Drive/df_fly_gm_planes.csv'\n",
        "with open(path, 'w', encoding = 'utf-8-sig') as f:\n",
        " df_fly_gm_planes.to_csv(f)"
      ],
      "metadata": {
        "id": "_395U0y9RCDL"
      },
      "execution_count": null,
      "outputs": []
    },
    {
      "cell_type": "code",
      "source": [
        "#exporting and saving df_fly_gm file to my google drive\n",
        "path = '/content/drive/My Drive/df_fly_gm.csv'\n",
        "with open(path, 'w', encoding = 'utf-8-sig') as f:\n",
        " df_fly_gm.to_csv(f)"
      ],
      "metadata": {
        "id": "vuuOhk5aRFxA"
      },
      "execution_count": null,
      "outputs": []
    },
    {
      "cell_type": "markdown",
      "source": [
        "**State 14: Guam**\n",
        "\n",
        "*Note: Guam, a US territory, is included as a 'state' in the United States dataset by NTSB. See `states.csv` for the full list*.*"
      ],
      "metadata": {
        "id": "hjYzj8N30WvV"
      }
    },
    {
      "cell_type": "code",
      "source": [
        "# Guam, all aircraft\n",
        "df_fly_gu = df[df['State'] == 'GU']"
      ],
      "metadata": {
        "id": "9n-a4o_ud97q"
      },
      "execution_count": null,
      "outputs": []
    },
    {
      "cell_type": "code",
      "source": [
        "# length check\n",
        "len(df_fly_gu)"
      ],
      "metadata": {
        "colab": {
          "base_uri": "https://localhost:8080/"
        },
        "id": "8nt54GxL-t-J",
        "outputId": "b6d4fff5-38e8-46d7-a56b-3ad2e0b7e8ad"
      },
      "execution_count": null,
      "outputs": [
        {
          "output_type": "execute_result",
          "data": {
            "text/plain": [
              "8"
            ]
          },
          "metadata": {},
          "execution_count": 196
        }
      ]
    },
    {
      "cell_type": "code",
      "source": [
        "# creating the missing Guam df \n",
        "missing_guam = df_fly_blank_state_us[(df_fly_blank_state_us[\"Location\"]== 'Tamuning,') |\n",
        "                                  (df_fly_blank_state_us[\"Location\"]== 'Inarajan,') \n",
        "]"
      ],
      "metadata": {
        "id": "Yd8W8_Js-MrF"
      },
      "execution_count": null,
      "outputs": []
    },
    {
      "cell_type": "code",
      "source": [
        "# length check\n",
        "len(missing_guam)"
      ],
      "metadata": {
        "colab": {
          "base_uri": "https://localhost:8080/"
        },
        "id": "PSJyEWdj-4OU",
        "outputId": "114f509d-752a-4624-cb8c-3d1971b034ea"
      },
      "execution_count": null,
      "outputs": [
        {
          "output_type": "execute_result",
          "data": {
            "text/plain": [
              "6"
            ]
          },
          "metadata": {},
          "execution_count": 199
        }
      ]
    },
    {
      "cell_type": "code",
      "source": [
        "# concatentating our Guam records like so\n",
        "df_fly_gu = pd.concat([df_fly_gu, missing_guam], ignore_index=True)\n",
        "df_fly_gu.reset_index()\n",
        "df_fly_gu"
      ],
      "metadata": {
        "colab": {
          "base_uri": "https://localhost:8080/",
          "height": 981
        },
        "id": "Qssb9c26-6c3",
        "outputId": "35435b9b-8c82-4324-89a3-0b7c8a1e3ee8"
      },
      "execution_count": null,
      "outputs": [
        {
          "output_type": "display_data",
          "data": {
            "text/plain": [
              "          Event.Id Investigation.Type Accident.Number  Event.Date  \\\n",
              "0   20001213X30734           Accident      LAX87LA199  1987-04-29   \n",
              "1   20001213X29425           Accident      LAX89LA324  1989-09-18   \n",
              "2   20001212X18337           Accident      LAX92LA030  1991-10-31   \n",
              "3   20001208X08606           Accident      DCA97MA058  1997-08-06   \n",
              "4   20020530X00782           Accident      LAX02LA176  2002-05-26   \n",
              "5   20030131X00137           Incident      OPS03IA001  2002-12-17   \n",
              "6   20050921X01501           Accident      DCA05MA095  2005-08-19   \n",
              "7   20061025X01556           Accident      LAX06LA232  2006-07-15   \n",
              "8   20100430X40841           Accident      WPR10LA220  2010-04-30   \n",
              "9   20140327X10328           Accident      WPR14LA147  2014-03-26   \n",
              "10  20150504X14247           Accident      GAA15CA058  2015-04-17   \n",
              "11  20150731X44501           Incident      WPR15WA225  2015-07-05   \n",
              "12  20170706X95155           Accident      GAA17CA394  2017-07-02   \n",
              "13  20170925X53959           Accident      WPR17LA216  2017-09-25   \n",
              "\n",
              "           Location        Country   Latitude    Longitude Airport.Code  \\\n",
              "0     TAMUNINGS, GU  United States        NaN          NaN          NaN   \n",
              "1         AGANA, GU  United States        NaN          NaN          NaN   \n",
              "2        KOSRAE, GU  United States        NaN          NaN         NONE   \n",
              "3   NIMITZ HILL, GU  United States        NaN          NaN         KGUM   \n",
              "4         AGANA, GU  United States  13.483333  -144.795833         PGUM   \n",
              "5         Agana, GU  United States        NaN          NaN         PGUM   \n",
              "6         AGANA, GU  United States        NaN          NaN          GUM   \n",
              "7       HAGATNA, GU  United States  13.483333        144.8          GUM   \n",
              "8         Tamuning,  United States    013290N     0144480E          GUM   \n",
              "9         Inarajan,  United States    131734N     0144444E          NaN   \n",
              "10        Tamuning,  United States    013292N     1444757E          GUM   \n",
              "11        Tamuning,  United States    013292N     1444749E          NaN   \n",
              "12        Tamuning,  United States    013292N     1444750E          GUM   \n",
              "13        Tamuning,  United States    132840N     1444639E          GUM   \n",
              "\n",
              "                  Airport.Name  ...                  Air.carrier  \\\n",
              "0                          NaN  ...                          NaN   \n",
              "1                          NaN  ...                          NaN   \n",
              "2              SHIP DON JUAN Z  ...                          NaN   \n",
              "3    AGANA INTERNATIONAL AIRPO  ...                          NaN   \n",
              "4   Guam International Airport  ...                          NaN   \n",
              "5           Guam International  ...                          NaN   \n",
              "6      Guam-Antonio B. Won Pat  ...                          NaN   \n",
              "7           Guam International  ...                          NaN   \n",
              "8   Guam International Airport  ...                          NaN   \n",
              "9                          NaN  ...    TREND VECTOR AVIATION INT   \n",
              "10                   GUAM INTL  ...    TREND VECTOR AVIATION INT   \n",
              "11                         NaN  ...              Korean Airlines   \n",
              "12                   GUAM INTL  ...  Micronecian Aviation System   \n",
              "13  GUAM INTERNATIONAL AIRPORT  ...                          NaN   \n",
              "\n",
              "   Total.Fatal.Injuries Total.Serious.Injuries Total.Minor.Injuries  \\\n",
              "0                   2.0                    0.0                  0.0   \n",
              "1                   2.0                    0.0                  0.0   \n",
              "2                   1.0                    0.0                  1.0   \n",
              "3                 228.0                   26.0                  NaN   \n",
              "4                   NaN                    NaN                  1.0   \n",
              "5                   NaN                    NaN                  NaN   \n",
              "6                   0.0                    0.0                  2.0   \n",
              "7                   NaN                    NaN                  3.0   \n",
              "8                   0.0                    0.0                  1.0   \n",
              "9                   0.0                    0.0                  0.0   \n",
              "10                  0.0                    0.0                  0.0   \n",
              "11                  0.0                    0.0                  0.0   \n",
              "12                  0.0                    0.0                  0.0   \n",
              "13                  0.0                    0.0                  0.0   \n",
              "\n",
              "   Total.Uninjured Weather.Condition Broad.phase.of.flight  \\\n",
              "0              0.0               VMC           Maneuvering   \n",
              "1              0.0               VMC           Maneuvering   \n",
              "2              0.0               VMC               Takeoff   \n",
              "3              NaN               IMC              Approach   \n",
              "4              3.0               VMC               Takeoff   \n",
              "5            115.0               IMC              Approach   \n",
              "6            338.0               VMC               Landing   \n",
              "7              NaN               VMC               Takeoff   \n",
              "8              1.0               VMC                   NaN   \n",
              "9              3.0               VMC                   NaN   \n",
              "10             1.0               VMC                   NaN   \n",
              "11            82.0               NaN                   NaN   \n",
              "12             2.0               VMC                   NaN   \n",
              "13             3.0               VMC                   NaN   \n",
              "\n",
              "                                        Report.Status Publication.Date State  \n",
              "0                                      Probable Cause       26-05-1989    GU  \n",
              "1                                      Probable Cause       29-07-1992    GU  \n",
              "2                                      Probable Cause       13-07-1993    GU  \n",
              "3                                      Probable Cause       23-10-2009    GU  \n",
              "4                                      Probable Cause       29-09-2004    GU  \n",
              "5                                      Probable Cause       05-02-2004    GU  \n",
              "6                                      Probable Cause       30-12-2008    GU  \n",
              "7                                      Probable Cause       28-05-2008    GU  \n",
              "8   The failure of the pilot to maintain clearance...       25-09-2020        \n",
              "9   A total loss of engine power during cruise fli...       25-09-2020        \n",
              "10  The student pilot's failure to maintain pitch ...       25-09-2020        \n",
              "11                                                NaN       25-09-2020        \n",
              "12  The pilot's improper landing flare, which resu...       25-09-2020        \n",
              "13  The pilot's inadequate preflight inspection, w...       25-09-2020        \n",
              "\n",
              "[14 rows x 32 columns]"
            ],
            "text/html": [
              "\n",
              "  <div id=\"df-7df2a894-afc5-49ac-af83-3b380790813a\">\n",
              "    <div class=\"colab-df-container\">\n",
              "      <div>\n",
              "<style scoped>\n",
              "    .dataframe tbody tr th:only-of-type {\n",
              "        vertical-align: middle;\n",
              "    }\n",
              "\n",
              "    .dataframe tbody tr th {\n",
              "        vertical-align: top;\n",
              "    }\n",
              "\n",
              "    .dataframe thead th {\n",
              "        text-align: right;\n",
              "    }\n",
              "</style>\n",
              "<table border=\"1\" class=\"dataframe\">\n",
              "  <thead>\n",
              "    <tr style=\"text-align: right;\">\n",
              "      <th></th>\n",
              "      <th>Event.Id</th>\n",
              "      <th>Investigation.Type</th>\n",
              "      <th>Accident.Number</th>\n",
              "      <th>Event.Date</th>\n",
              "      <th>Location</th>\n",
              "      <th>Country</th>\n",
              "      <th>Latitude</th>\n",
              "      <th>Longitude</th>\n",
              "      <th>Airport.Code</th>\n",
              "      <th>Airport.Name</th>\n",
              "      <th>...</th>\n",
              "      <th>Air.carrier</th>\n",
              "      <th>Total.Fatal.Injuries</th>\n",
              "      <th>Total.Serious.Injuries</th>\n",
              "      <th>Total.Minor.Injuries</th>\n",
              "      <th>Total.Uninjured</th>\n",
              "      <th>Weather.Condition</th>\n",
              "      <th>Broad.phase.of.flight</th>\n",
              "      <th>Report.Status</th>\n",
              "      <th>Publication.Date</th>\n",
              "      <th>State</th>\n",
              "    </tr>\n",
              "  </thead>\n",
              "  <tbody>\n",
              "    <tr>\n",
              "      <th>0</th>\n",
              "      <td>20001213X30734</td>\n",
              "      <td>Accident</td>\n",
              "      <td>LAX87LA199</td>\n",
              "      <td>1987-04-29</td>\n",
              "      <td>TAMUNINGS, GU</td>\n",
              "      <td>United States</td>\n",
              "      <td>NaN</td>\n",
              "      <td>NaN</td>\n",
              "      <td>NaN</td>\n",
              "      <td>NaN</td>\n",
              "      <td>...</td>\n",
              "      <td>NaN</td>\n",
              "      <td>2.0</td>\n",
              "      <td>0.0</td>\n",
              "      <td>0.0</td>\n",
              "      <td>0.0</td>\n",
              "      <td>VMC</td>\n",
              "      <td>Maneuvering</td>\n",
              "      <td>Probable Cause</td>\n",
              "      <td>26-05-1989</td>\n",
              "      <td>GU</td>\n",
              "    </tr>\n",
              "    <tr>\n",
              "      <th>1</th>\n",
              "      <td>20001213X29425</td>\n",
              "      <td>Accident</td>\n",
              "      <td>LAX89LA324</td>\n",
              "      <td>1989-09-18</td>\n",
              "      <td>AGANA, GU</td>\n",
              "      <td>United States</td>\n",
              "      <td>NaN</td>\n",
              "      <td>NaN</td>\n",
              "      <td>NaN</td>\n",
              "      <td>NaN</td>\n",
              "      <td>...</td>\n",
              "      <td>NaN</td>\n",
              "      <td>2.0</td>\n",
              "      <td>0.0</td>\n",
              "      <td>0.0</td>\n",
              "      <td>0.0</td>\n",
              "      <td>VMC</td>\n",
              "      <td>Maneuvering</td>\n",
              "      <td>Probable Cause</td>\n",
              "      <td>29-07-1992</td>\n",
              "      <td>GU</td>\n",
              "    </tr>\n",
              "    <tr>\n",
              "      <th>2</th>\n",
              "      <td>20001212X18337</td>\n",
              "      <td>Accident</td>\n",
              "      <td>LAX92LA030</td>\n",
              "      <td>1991-10-31</td>\n",
              "      <td>KOSRAE, GU</td>\n",
              "      <td>United States</td>\n",
              "      <td>NaN</td>\n",
              "      <td>NaN</td>\n",
              "      <td>NONE</td>\n",
              "      <td>SHIP DON JUAN Z</td>\n",
              "      <td>...</td>\n",
              "      <td>NaN</td>\n",
              "      <td>1.0</td>\n",
              "      <td>0.0</td>\n",
              "      <td>1.0</td>\n",
              "      <td>0.0</td>\n",
              "      <td>VMC</td>\n",
              "      <td>Takeoff</td>\n",
              "      <td>Probable Cause</td>\n",
              "      <td>13-07-1993</td>\n",
              "      <td>GU</td>\n",
              "    </tr>\n",
              "    <tr>\n",
              "      <th>3</th>\n",
              "      <td>20001208X08606</td>\n",
              "      <td>Accident</td>\n",
              "      <td>DCA97MA058</td>\n",
              "      <td>1997-08-06</td>\n",
              "      <td>NIMITZ HILL, GU</td>\n",
              "      <td>United States</td>\n",
              "      <td>NaN</td>\n",
              "      <td>NaN</td>\n",
              "      <td>KGUM</td>\n",
              "      <td>AGANA INTERNATIONAL AIRPO</td>\n",
              "      <td>...</td>\n",
              "      <td>NaN</td>\n",
              "      <td>228.0</td>\n",
              "      <td>26.0</td>\n",
              "      <td>NaN</td>\n",
              "      <td>NaN</td>\n",
              "      <td>IMC</td>\n",
              "      <td>Approach</td>\n",
              "      <td>Probable Cause</td>\n",
              "      <td>23-10-2009</td>\n",
              "      <td>GU</td>\n",
              "    </tr>\n",
              "    <tr>\n",
              "      <th>4</th>\n",
              "      <td>20020530X00782</td>\n",
              "      <td>Accident</td>\n",
              "      <td>LAX02LA176</td>\n",
              "      <td>2002-05-26</td>\n",
              "      <td>AGANA, GU</td>\n",
              "      <td>United States</td>\n",
              "      <td>13.483333</td>\n",
              "      <td>-144.795833</td>\n",
              "      <td>PGUM</td>\n",
              "      <td>Guam International Airport</td>\n",
              "      <td>...</td>\n",
              "      <td>NaN</td>\n",
              "      <td>NaN</td>\n",
              "      <td>NaN</td>\n",
              "      <td>1.0</td>\n",
              "      <td>3.0</td>\n",
              "      <td>VMC</td>\n",
              "      <td>Takeoff</td>\n",
              "      <td>Probable Cause</td>\n",
              "      <td>29-09-2004</td>\n",
              "      <td>GU</td>\n",
              "    </tr>\n",
              "    <tr>\n",
              "      <th>5</th>\n",
              "      <td>20030131X00137</td>\n",
              "      <td>Incident</td>\n",
              "      <td>OPS03IA001</td>\n",
              "      <td>2002-12-17</td>\n",
              "      <td>Agana, GU</td>\n",
              "      <td>United States</td>\n",
              "      <td>NaN</td>\n",
              "      <td>NaN</td>\n",
              "      <td>PGUM</td>\n",
              "      <td>Guam International</td>\n",
              "      <td>...</td>\n",
              "      <td>NaN</td>\n",
              "      <td>NaN</td>\n",
              "      <td>NaN</td>\n",
              "      <td>NaN</td>\n",
              "      <td>115.0</td>\n",
              "      <td>IMC</td>\n",
              "      <td>Approach</td>\n",
              "      <td>Probable Cause</td>\n",
              "      <td>05-02-2004</td>\n",
              "      <td>GU</td>\n",
              "    </tr>\n",
              "    <tr>\n",
              "      <th>6</th>\n",
              "      <td>20050921X01501</td>\n",
              "      <td>Accident</td>\n",
              "      <td>DCA05MA095</td>\n",
              "      <td>2005-08-19</td>\n",
              "      <td>AGANA, GU</td>\n",
              "      <td>United States</td>\n",
              "      <td>NaN</td>\n",
              "      <td>NaN</td>\n",
              "      <td>GUM</td>\n",
              "      <td>Guam-Antonio B. Won Pat</td>\n",
              "      <td>...</td>\n",
              "      <td>NaN</td>\n",
              "      <td>0.0</td>\n",
              "      <td>0.0</td>\n",
              "      <td>2.0</td>\n",
              "      <td>338.0</td>\n",
              "      <td>VMC</td>\n",
              "      <td>Landing</td>\n",
              "      <td>Probable Cause</td>\n",
              "      <td>30-12-2008</td>\n",
              "      <td>GU</td>\n",
              "    </tr>\n",
              "    <tr>\n",
              "      <th>7</th>\n",
              "      <td>20061025X01556</td>\n",
              "      <td>Accident</td>\n",
              "      <td>LAX06LA232</td>\n",
              "      <td>2006-07-15</td>\n",
              "      <td>HAGATNA, GU</td>\n",
              "      <td>United States</td>\n",
              "      <td>13.483333</td>\n",
              "      <td>144.8</td>\n",
              "      <td>GUM</td>\n",
              "      <td>Guam International</td>\n",
              "      <td>...</td>\n",
              "      <td>NaN</td>\n",
              "      <td>NaN</td>\n",
              "      <td>NaN</td>\n",
              "      <td>3.0</td>\n",
              "      <td>NaN</td>\n",
              "      <td>VMC</td>\n",
              "      <td>Takeoff</td>\n",
              "      <td>Probable Cause</td>\n",
              "      <td>28-05-2008</td>\n",
              "      <td>GU</td>\n",
              "    </tr>\n",
              "    <tr>\n",
              "      <th>8</th>\n",
              "      <td>20100430X40841</td>\n",
              "      <td>Accident</td>\n",
              "      <td>WPR10LA220</td>\n",
              "      <td>2010-04-30</td>\n",
              "      <td>Tamuning,</td>\n",
              "      <td>United States</td>\n",
              "      <td>013290N</td>\n",
              "      <td>0144480E</td>\n",
              "      <td>GUM</td>\n",
              "      <td>Guam International Airport</td>\n",
              "      <td>...</td>\n",
              "      <td>NaN</td>\n",
              "      <td>0.0</td>\n",
              "      <td>0.0</td>\n",
              "      <td>1.0</td>\n",
              "      <td>1.0</td>\n",
              "      <td>VMC</td>\n",
              "      <td>NaN</td>\n",
              "      <td>The failure of the pilot to maintain clearance...</td>\n",
              "      <td>25-09-2020</td>\n",
              "      <td></td>\n",
              "    </tr>\n",
              "    <tr>\n",
              "      <th>9</th>\n",
              "      <td>20140327X10328</td>\n",
              "      <td>Accident</td>\n",
              "      <td>WPR14LA147</td>\n",
              "      <td>2014-03-26</td>\n",
              "      <td>Inarajan,</td>\n",
              "      <td>United States</td>\n",
              "      <td>131734N</td>\n",
              "      <td>0144444E</td>\n",
              "      <td>NaN</td>\n",
              "      <td>NaN</td>\n",
              "      <td>...</td>\n",
              "      <td>TREND VECTOR AVIATION INT</td>\n",
              "      <td>0.0</td>\n",
              "      <td>0.0</td>\n",
              "      <td>0.0</td>\n",
              "      <td>3.0</td>\n",
              "      <td>VMC</td>\n",
              "      <td>NaN</td>\n",
              "      <td>A total loss of engine power during cruise fli...</td>\n",
              "      <td>25-09-2020</td>\n",
              "      <td></td>\n",
              "    </tr>\n",
              "    <tr>\n",
              "      <th>10</th>\n",
              "      <td>20150504X14247</td>\n",
              "      <td>Accident</td>\n",
              "      <td>GAA15CA058</td>\n",
              "      <td>2015-04-17</td>\n",
              "      <td>Tamuning,</td>\n",
              "      <td>United States</td>\n",
              "      <td>013292N</td>\n",
              "      <td>1444757E</td>\n",
              "      <td>GUM</td>\n",
              "      <td>GUAM INTL</td>\n",
              "      <td>...</td>\n",
              "      <td>TREND VECTOR AVIATION INT</td>\n",
              "      <td>0.0</td>\n",
              "      <td>0.0</td>\n",
              "      <td>0.0</td>\n",
              "      <td>1.0</td>\n",
              "      <td>VMC</td>\n",
              "      <td>NaN</td>\n",
              "      <td>The student pilot's failure to maintain pitch ...</td>\n",
              "      <td>25-09-2020</td>\n",
              "      <td></td>\n",
              "    </tr>\n",
              "    <tr>\n",
              "      <th>11</th>\n",
              "      <td>20150731X44501</td>\n",
              "      <td>Incident</td>\n",
              "      <td>WPR15WA225</td>\n",
              "      <td>2015-07-05</td>\n",
              "      <td>Tamuning,</td>\n",
              "      <td>United States</td>\n",
              "      <td>013292N</td>\n",
              "      <td>1444749E</td>\n",
              "      <td>NaN</td>\n",
              "      <td>NaN</td>\n",
              "      <td>...</td>\n",
              "      <td>Korean Airlines</td>\n",
              "      <td>0.0</td>\n",
              "      <td>0.0</td>\n",
              "      <td>0.0</td>\n",
              "      <td>82.0</td>\n",
              "      <td>NaN</td>\n",
              "      <td>NaN</td>\n",
              "      <td>NaN</td>\n",
              "      <td>25-09-2020</td>\n",
              "      <td></td>\n",
              "    </tr>\n",
              "    <tr>\n",
              "      <th>12</th>\n",
              "      <td>20170706X95155</td>\n",
              "      <td>Accident</td>\n",
              "      <td>GAA17CA394</td>\n",
              "      <td>2017-07-02</td>\n",
              "      <td>Tamuning,</td>\n",
              "      <td>United States</td>\n",
              "      <td>013292N</td>\n",
              "      <td>1444750E</td>\n",
              "      <td>GUM</td>\n",
              "      <td>GUAM INTL</td>\n",
              "      <td>...</td>\n",
              "      <td>Micronecian Aviation System</td>\n",
              "      <td>0.0</td>\n",
              "      <td>0.0</td>\n",
              "      <td>0.0</td>\n",
              "      <td>2.0</td>\n",
              "      <td>VMC</td>\n",
              "      <td>NaN</td>\n",
              "      <td>The pilot's improper landing flare, which resu...</td>\n",
              "      <td>25-09-2020</td>\n",
              "      <td></td>\n",
              "    </tr>\n",
              "    <tr>\n",
              "      <th>13</th>\n",
              "      <td>20170925X53959</td>\n",
              "      <td>Accident</td>\n",
              "      <td>WPR17LA216</td>\n",
              "      <td>2017-09-25</td>\n",
              "      <td>Tamuning,</td>\n",
              "      <td>United States</td>\n",
              "      <td>132840N</td>\n",
              "      <td>1444639E</td>\n",
              "      <td>GUM</td>\n",
              "      <td>GUAM INTERNATIONAL AIRPORT</td>\n",
              "      <td>...</td>\n",
              "      <td>NaN</td>\n",
              "      <td>0.0</td>\n",
              "      <td>0.0</td>\n",
              "      <td>0.0</td>\n",
              "      <td>3.0</td>\n",
              "      <td>VMC</td>\n",
              "      <td>NaN</td>\n",
              "      <td>The pilot's inadequate preflight inspection, w...</td>\n",
              "      <td>25-09-2020</td>\n",
              "      <td></td>\n",
              "    </tr>\n",
              "  </tbody>\n",
              "</table>\n",
              "<p>14 rows × 32 columns</p>\n",
              "</div>\n",
              "      <button class=\"colab-df-convert\" onclick=\"convertToInteractive('df-7df2a894-afc5-49ac-af83-3b380790813a')\"\n",
              "              title=\"Convert this dataframe to an interactive table.\"\n",
              "              style=\"display:none;\">\n",
              "        \n",
              "  <svg xmlns=\"http://www.w3.org/2000/svg\" height=\"24px\"viewBox=\"0 0 24 24\"\n",
              "       width=\"24px\">\n",
              "    <path d=\"M0 0h24v24H0V0z\" fill=\"none\"/>\n",
              "    <path d=\"M18.56 5.44l.94 2.06.94-2.06 2.06-.94-2.06-.94-.94-2.06-.94 2.06-2.06.94zm-11 1L8.5 8.5l.94-2.06 2.06-.94-2.06-.94L8.5 2.5l-.94 2.06-2.06.94zm10 10l.94 2.06.94-2.06 2.06-.94-2.06-.94-.94-2.06-.94 2.06-2.06.94z\"/><path d=\"M17.41 7.96l-1.37-1.37c-.4-.4-.92-.59-1.43-.59-.52 0-1.04.2-1.43.59L10.3 9.45l-7.72 7.72c-.78.78-.78 2.05 0 2.83L4 21.41c.39.39.9.59 1.41.59.51 0 1.02-.2 1.41-.59l7.78-7.78 2.81-2.81c.8-.78.8-2.07 0-2.86zM5.41 20L4 18.59l7.72-7.72 1.47 1.35L5.41 20z\"/>\n",
              "  </svg>\n",
              "      </button>\n",
              "      \n",
              "  <style>\n",
              "    .colab-df-container {\n",
              "      display:flex;\n",
              "      flex-wrap:wrap;\n",
              "      gap: 12px;\n",
              "    }\n",
              "\n",
              "    .colab-df-convert {\n",
              "      background-color: #E8F0FE;\n",
              "      border: none;\n",
              "      border-radius: 50%;\n",
              "      cursor: pointer;\n",
              "      display: none;\n",
              "      fill: #1967D2;\n",
              "      height: 32px;\n",
              "      padding: 0 0 0 0;\n",
              "      width: 32px;\n",
              "    }\n",
              "\n",
              "    .colab-df-convert:hover {\n",
              "      background-color: #E2EBFA;\n",
              "      box-shadow: 0px 1px 2px rgba(60, 64, 67, 0.3), 0px 1px 3px 1px rgba(60, 64, 67, 0.15);\n",
              "      fill: #174EA6;\n",
              "    }\n",
              "\n",
              "    [theme=dark] .colab-df-convert {\n",
              "      background-color: #3B4455;\n",
              "      fill: #D2E3FC;\n",
              "    }\n",
              "\n",
              "    [theme=dark] .colab-df-convert:hover {\n",
              "      background-color: #434B5C;\n",
              "      box-shadow: 0px 1px 3px 1px rgba(0, 0, 0, 0.15);\n",
              "      filter: drop-shadow(0px 1px 2px rgba(0, 0, 0, 0.3));\n",
              "      fill: #FFFFFF;\n",
              "    }\n",
              "  </style>\n",
              "\n",
              "      <script>\n",
              "        const buttonEl =\n",
              "          document.querySelector('#df-7df2a894-afc5-49ac-af83-3b380790813a button.colab-df-convert');\n",
              "        buttonEl.style.display =\n",
              "          google.colab.kernel.accessAllowed ? 'block' : 'none';\n",
              "\n",
              "        async function convertToInteractive(key) {\n",
              "          const element = document.querySelector('#df-7df2a894-afc5-49ac-af83-3b380790813a');\n",
              "          const dataTable =\n",
              "            await google.colab.kernel.invokeFunction('convertToInteractive',\n",
              "                                                     [key], {});\n",
              "          if (!dataTable) return;\n",
              "\n",
              "          const docLinkHtml = 'Like what you see? Visit the ' +\n",
              "            '<a target=\"_blank\" href=https://colab.research.google.com/notebooks/data_table.ipynb>data table notebook</a>'\n",
              "            + ' to learn more about interactive tables.';\n",
              "          element.innerHTML = '';\n",
              "          dataTable['output_type'] = 'display_data';\n",
              "          await google.colab.output.renderOutput(dataTable, element);\n",
              "          const docLink = document.createElement('div');\n",
              "          docLink.innerHTML = docLinkHtml;\n",
              "          element.appendChild(docLink);\n",
              "        }\n",
              "      </script>\n",
              "    </div>\n",
              "  </div>\n",
              "  "
            ]
          },
          "metadata": {}
        }
      ]
    },
    {
      "cell_type": "code",
      "source": [
        "# length check, records have been added successfully\n",
        "len(df_fly_gu)"
      ],
      "metadata": {
        "colab": {
          "base_uri": "https://localhost:8080/"
        },
        "id": "ng060Q2f_fZS",
        "outputId": "6633cf75-655f-45ab-9541-dff80c4ca394"
      },
      "execution_count": null,
      "outputs": [
        {
          "output_type": "execute_result",
          "data": {
            "text/plain": [
              "14"
            ]
          },
          "metadata": {},
          "execution_count": 202
        }
      ]
    },
    {
      "cell_type": "code",
      "source": [
        "# Guam, only airplanes\n",
        "df_fly_gu_planes = df_fly_gu[df_fly_gu['Aircraft.Category'] == 'Airplane']"
      ],
      "metadata": {
        "id": "g4YaT_4Y_haJ"
      },
      "execution_count": null,
      "outputs": []
    },
    {
      "cell_type": "code",
      "source": [
        "# compare to the all aircraft df\n",
        "len(df_fly_gu_planes)"
      ],
      "metadata": {
        "colab": {
          "base_uri": "https://localhost:8080/"
        },
        "id": "j17zSyJm_oO9",
        "outputId": "1ada1f63-f297-41a1-d69a-70c5d59e89e2"
      },
      "execution_count": null,
      "outputs": [
        {
          "output_type": "execute_result",
          "data": {
            "text/plain": [
              "8"
            ]
          },
          "metadata": {},
          "execution_count": 204
        }
      ]
    },
    {
      "cell_type": "code",
      "source": [
        "#exporting and saving df_fly_gu_planes file to my google drive\n",
        "path = '/content/drive/My Drive/df_fly_gu_planes.csv'\n",
        "with open(path, 'w', encoding = 'utf-8-sig') as f:\n",
        " df_fly_gu_planes.to_csv(f)"
      ],
      "metadata": {
        "id": "_cYNk29XRL0D"
      },
      "execution_count": null,
      "outputs": []
    },
    {
      "cell_type": "code",
      "source": [
        "#exporting and saving df_fly_gu file to my google drive\n",
        "path = '/content/drive/My Drive/df_fly_gu.csv'\n",
        "with open(path, 'w', encoding = 'utf-8-sig') as f:\n",
        " df_fly_gu.to_csv(f)\n"
      ],
      "metadata": {
        "id": "Qb1eV9rsRPTY"
      },
      "execution_count": null,
      "outputs": []
    },
    {
      "cell_type": "markdown",
      "source": [
        "**State 15: Iowa**"
      ],
      "metadata": {
        "id": "oqCwMrQ91AdG"
      }
    },
    {
      "cell_type": "code",
      "source": [
        "# Iowa, all aircraft\n",
        "df_fly_ia = df[df['State'] == 'IA']"
      ],
      "metadata": {
        "id": "-MnyvoyUfHsV"
      },
      "execution_count": null,
      "outputs": []
    },
    {
      "cell_type": "code",
      "source": [
        "# Iowa, only airplanes\n",
        "df_fly_ia_planes = df_fly_ia[df_fly_ia['Aircraft.Category'] == 'Airplane']"
      ],
      "metadata": {
        "id": "ETnSUIs2_zng"
      },
      "execution_count": null,
      "outputs": []
    },
    {
      "cell_type": "code",
      "source": [
        "# comparing length of df before and after filtering for airplanes only\n",
        "len(df_fly_ia)"
      ],
      "metadata": {
        "colab": {
          "base_uri": "https://localhost:8080/"
        },
        "id": "GYiyeJf6_xsN",
        "outputId": "d4e27be6-edbf-41e8-d844-1697037dd603"
      },
      "execution_count": null,
      "outputs": [
        {
          "output_type": "execute_result",
          "data": {
            "text/plain": [
              "819"
            ]
          },
          "metadata": {},
          "execution_count": 205
        }
      ]
    },
    {
      "cell_type": "code",
      "source": [
        "len(df_fly_ia_planes)"
      ],
      "metadata": {
        "colab": {
          "base_uri": "https://localhost:8080/"
        },
        "id": "uGvA2wgx_8OF",
        "outputId": "34ab0a63-102f-453a-99a4-5929db282eee"
      },
      "execution_count": null,
      "outputs": [
        {
          "output_type": "execute_result",
          "data": {
            "text/plain": [
              "255"
            ]
          },
          "metadata": {},
          "execution_count": 207
        }
      ]
    },
    {
      "cell_type": "code",
      "source": [
        "#exporting and saving df_fly_ia_planes file to my google drive\n",
        "path = '/content/drive/My Drive/df_fly_ia_planes.csv'\n",
        "with open(path, 'w', encoding = 'utf-8-sig') as f:\n",
        " df_fly_ia_planes.to_csv(f)"
      ],
      "metadata": {
        "id": "6N9QZhLhRVjI"
      },
      "execution_count": null,
      "outputs": []
    },
    {
      "cell_type": "code",
      "source": [
        "#exporting and saving df_fly_ia file to my google drive\n",
        "path = '/content/drive/My Drive/df_fly_ia.csv'\n",
        "with open(path, 'w', encoding = 'utf-8-sig') as f:\n",
        " df_fly_ia.to_csv(f)"
      ],
      "metadata": {
        "id": "WRxnqY02RZ7F"
      },
      "execution_count": null,
      "outputs": []
    },
    {
      "cell_type": "markdown",
      "source": [
        "**State 16: Idaho**"
      ],
      "metadata": {
        "id": "q6J5o0Il1VwD"
      }
    },
    {
      "cell_type": "code",
      "source": [
        "# Idaho, all aircraft\n",
        "df_fly_id = df[df['State'] == 'ID']"
      ],
      "metadata": {
        "id": "2lBQz99Xd_kL"
      },
      "execution_count": null,
      "outputs": []
    },
    {
      "cell_type": "code",
      "source": [
        "# Idaho, only airplanes\n",
        "df_fly_id_planes = df_fly_id[df_fly_id['Aircraft.Category'] == 'Airplane'] "
      ],
      "metadata": {
        "id": "Iv1A3Zk2ACRb"
      },
      "execution_count": null,
      "outputs": []
    },
    {
      "cell_type": "code",
      "source": [
        "# comparing length of df before and after filtering for airplanes only\n",
        "len(df_fly_id)"
      ],
      "metadata": {
        "colab": {
          "base_uri": "https://localhost:8080/"
        },
        "id": "levlx0nVAAFr",
        "outputId": "b8a1fa2a-b85c-4873-ff6e-4277df00150f"
      },
      "execution_count": null,
      "outputs": [
        {
          "output_type": "execute_result",
          "data": {
            "text/plain": [
              "1436"
            ]
          },
          "metadata": {},
          "execution_count": 208
        }
      ]
    },
    {
      "cell_type": "code",
      "source": [
        "len(df_fly_id_planes)"
      ],
      "metadata": {
        "colab": {
          "base_uri": "https://localhost:8080/"
        },
        "id": "ytjGafPqAKTW",
        "outputId": "27fb7285-3fc3-47bc-bf5d-3da09a6fb021"
      },
      "execution_count": null,
      "outputs": [
        {
          "output_type": "execute_result",
          "data": {
            "text/plain": [
              "545"
            ]
          },
          "metadata": {},
          "execution_count": 210
        }
      ]
    },
    {
      "cell_type": "code",
      "source": [
        "#exporting and saving df_fly_id_planes file to my google drive\n",
        "path = '/content/drive/My Drive/df_fly_id_planes.csv'\n",
        "with open(path, 'w', encoding = 'utf-8-sig') as f:\n",
        " df_fly_id_planes.to_csv(f)"
      ],
      "metadata": {
        "id": "8_1tU7EPReHt"
      },
      "execution_count": null,
      "outputs": []
    },
    {
      "cell_type": "code",
      "source": [
        "#exporting and saving df_fly_id file to my google drive\n",
        "path = '/content/drive/My Drive/df_fly_id.csv'\n",
        "with open(path, 'w', encoding = 'utf-8-sig') as f:\n",
        " df_fly_id.to_csv(f)"
      ],
      "metadata": {
        "id": "05FYrH8QRhXS"
      },
      "execution_count": null,
      "outputs": []
    },
    {
      "cell_type": "markdown",
      "source": [
        "**State 17: Illinois**"
      ],
      "metadata": {
        "id": "36CMRGRz1qrI"
      }
    },
    {
      "cell_type": "code",
      "source": [
        "# Illinois, all aircraft\n",
        "df_fly_il = df[df['State'] == 'IL']"
      ],
      "metadata": {
        "id": "KzIKAtr1d_sd"
      },
      "execution_count": null,
      "outputs": []
    },
    {
      "cell_type": "code",
      "source": [
        "# Illinois, only airplanes\n",
        "df_fly_il_planes = df_fly_il[df_fly_il['Aircraft.Category'] == 'Airplane'] "
      ],
      "metadata": {
        "id": "C0AwfFcXAkrY"
      },
      "execution_count": null,
      "outputs": []
    },
    {
      "cell_type": "code",
      "source": [
        "# comparing length of df before and after filtering for airplanes only\n",
        "len(df_fly_il)"
      ],
      "metadata": {
        "colab": {
          "base_uri": "https://localhost:8080/"
        },
        "id": "qyxU0uHFAijh",
        "outputId": "98b2aa25-bd80-4ac5-b251-90ea54a6d903"
      },
      "execution_count": null,
      "outputs": [
        {
          "output_type": "execute_result",
          "data": {
            "text/plain": [
              "2060"
            ]
          },
          "metadata": {},
          "execution_count": 211
        }
      ]
    },
    {
      "cell_type": "code",
      "source": [
        "len(df_fly_il_planes)"
      ],
      "metadata": {
        "colab": {
          "base_uri": "https://localhost:8080/"
        },
        "id": "4LZk_j43AuBs",
        "outputId": "2b179a8e-8103-425c-f9b5-3eb18b66e14a"
      },
      "execution_count": null,
      "outputs": [
        {
          "output_type": "execute_result",
          "data": {
            "text/plain": [
              "566"
            ]
          },
          "metadata": {},
          "execution_count": 215
        }
      ]
    },
    {
      "cell_type": "code",
      "source": [
        "#exporting and saving df_fly_il_planes file to my google drive\n",
        "path = '/content/drive/My Drive/df_fly_il_planes.csv'\n",
        "with open(path, 'w', encoding = 'utf-8-sig') as f:\n",
        " df_fly_il_planes.to_csv(f)"
      ],
      "metadata": {
        "id": "Og1voE_YRlxF"
      },
      "execution_count": null,
      "outputs": []
    },
    {
      "cell_type": "code",
      "source": [
        "#exporting and saving df_fly_il file to my google drive\n",
        "path = '/content/drive/My Drive/df_fly_il.csv'\n",
        "with open(path, 'w', encoding = 'utf-8-sig') as f:\n",
        " df_fly_il.to_csv(f)"
      ],
      "metadata": {
        "id": "fid9SUQ6Ro_T"
      },
      "execution_count": null,
      "outputs": []
    },
    {
      "cell_type": "markdown",
      "source": [
        "**State 18: Indiana**"
      ],
      "metadata": {
        "id": "rgvd5Ttf10bt"
      }
    },
    {
      "cell_type": "code",
      "source": [
        "# Indiana, all aircraft\n",
        "df_fly_in = df[df['State'] == 'IN']"
      ],
      "metadata": {
        "id": "6APgtLdLd_0B"
      },
      "execution_count": null,
      "outputs": []
    },
    {
      "cell_type": "code",
      "source": [
        "# Indiana, only airplanes\n",
        "df_fly_in_planes = df_fly_in[df_fly_in['Aircraft.Category'] == 'Airplane']"
      ],
      "metadata": {
        "id": "3DI7sqROA4m8"
      },
      "execution_count": null,
      "outputs": []
    },
    {
      "cell_type": "code",
      "source": [
        "# comparing length of df before and after filtering for airplanes only\n",
        "len(df_fly_in)"
      ],
      "metadata": {
        "colab": {
          "base_uri": "https://localhost:8080/"
        },
        "id": "qohLQylvA1xn",
        "outputId": "cf772536-7cf7-4d10-d299-b8bd21a8179b"
      },
      "execution_count": null,
      "outputs": [
        {
          "output_type": "execute_result",
          "data": {
            "text/plain": [
              "1320"
            ]
          },
          "metadata": {},
          "execution_count": 216
        }
      ]
    },
    {
      "cell_type": "code",
      "source": [
        "len(df_fly_in_planes)"
      ],
      "metadata": {
        "colab": {
          "base_uri": "https://localhost:8080/"
        },
        "id": "dRkkl3B9A_EW",
        "outputId": "97ee26c5-02d7-4fcb-ccc8-fd5f311f3320"
      },
      "execution_count": null,
      "outputs": [
        {
          "output_type": "execute_result",
          "data": {
            "text/plain": [
              "374"
            ]
          },
          "metadata": {},
          "execution_count": 218
        }
      ]
    },
    {
      "cell_type": "code",
      "source": [
        "#exporting and saving df_fly_in_planes file to my google drive\n",
        "path = '/content/drive/My Drive/df_fly_in_planes.csv'\n",
        "with open(path, 'w', encoding = 'utf-8-sig') as f:\n",
        " df_fly_in_planes.to_csv(f)"
      ],
      "metadata": {
        "id": "MzBSfWj7RtgL"
      },
      "execution_count": null,
      "outputs": []
    },
    {
      "cell_type": "code",
      "source": [
        "#exporting and saving df_fly_in file to my google drive\n",
        "path = '/content/drive/My Drive/df_fly_in.csv'\n",
        "with open(path, 'w', encoding = 'utf-8-sig') as f:\n",
        " df_fly_in.to_csv(f)"
      ],
      "metadata": {
        "id": "lWEy47NLRzLd"
      },
      "execution_count": null,
      "outputs": []
    },
    {
      "cell_type": "markdown",
      "source": [
        "**State 19: Hawaii**"
      ],
      "metadata": {
        "id": "d5Du0PWO2PY0"
      }
    },
    {
      "cell_type": "code",
      "source": [
        "# Hawaii, all aircraft\n",
        "df_fly_hi = df[df['State'] == 'HI']"
      ],
      "metadata": {
        "id": "48JWEdMId-Dy"
      },
      "execution_count": null,
      "outputs": []
    },
    {
      "cell_type": "code",
      "source": [
        "# recall we have some island records that we found in 'missing states'\n",
        "# that need to be merged with HI\n",
        "# pre merge sanity check \n",
        "df_fly_hi"
      ],
      "metadata": {
        "colab": {
          "base_uri": "https://localhost:8080/",
          "height": 661
        },
        "id": "rULFk2s-ofyf",
        "outputId": "666c14b3-caf3-4c19-edb2-69de537d844b"
      },
      "execution_count": null,
      "outputs": [
        {
          "output_type": "execute_result",
          "data": {
            "text/plain": [
              "             Event.Id Investigation.Type Accident.Number  Event.Date  \\\n",
              "66     20020917X02283           Accident      LAX82FJA03  1982-01-09   \n",
              "101    20020917X02159           Accident      LAX82DA042  1982-01-17   \n",
              "256    20020917X02284           Accident      LAX82FJA04  1982-02-07   \n",
              "999    20020917X01976           Accident      DEN82FA074  1982-04-28   \n",
              "1286   20020917X03540           Accident      LAX82DA190  1982-05-21   \n",
              "...               ...                ...             ...         ...   \n",
              "90215  20221105106253           Accident      ANC23FA003  2022-11-05   \n",
              "90234  20221122106351           Accident      WPR23LA043  2022-11-11   \n",
              "90313  20221209106435           Accident      WPR23LA061  2022-12-07   \n",
              "90334  20221219106474           Accident      ANC23LA009  2022-12-15   \n",
              "90338  20221219106472           Accident      DCA23LA096  2022-12-18   \n",
              "\n",
              "            Location        Country Latitude Longitude Airport.Code  \\\n",
              "66      MOKULEIA, HI  United States      NaN       NaN          NaN   \n",
              "101     HONOLULU, HI  United States      NaN       NaN          NaN   \n",
              "256    KALAUPAPA, HI  United States      NaN       NaN          NaN   \n",
              "999      HAKALAU, HI  United States      NaN       NaN          NaN   \n",
              "1286        HILO, HI  United States      NaN       NaN          NaN   \n",
              "...              ...            ...      ...       ...          ...   \n",
              "90215   Mokuleia, HI  United States  213447N  1581416W          HDH   \n",
              "90234    Kapolei, HI  United States  211837N  0158434W          NaN   \n",
              "90313     Waimea, HI  United States  020019N  1554745W          NaN   \n",
              "90334      Lihue, HI  United States      NaN       NaN          NaN   \n",
              "90338    Kahului, HI  United States      NaN       NaN          NaN   \n",
              "\n",
              "              Airport.Name  ...                   Air.carrier  \\\n",
              "66              DILLINGHAM  ...                           NaN   \n",
              "101          HONOLULU INTL  ...   Island Airlines Hawaii Inc.   \n",
              "256              KALAUPAPA  ...                           NaN   \n",
              "999                    NaN  ...  Island Airlines Hawaii, Ltd.   \n",
              "1286                   NaN  ...                           NaN   \n",
              "...                    ...  ...                           ...   \n",
              "90215  DILLINGHAM AIRFIELD  ...     Paradise Air Hang Gliding   \n",
              "90234                  NaN  ...                           NaN   \n",
              "90313                  NaN  ...                           NaN   \n",
              "90334                  NaN  ...                           NaN   \n",
              "90338                  NaN  ...         HAWAIIAN AIRLINES INC   \n",
              "\n",
              "      Total.Fatal.Injuries Total.Serious.Injuries Total.Minor.Injuries  \\\n",
              "66                     0.0                    0.0                  0.0   \n",
              "101                    0.0                    0.0                  2.0   \n",
              "256                    0.0                    4.0                  0.0   \n",
              "999                    2.0                    0.0                  0.0   \n",
              "1286                   0.0                    0.0                  2.0   \n",
              "...                    ...                    ...                  ...   \n",
              "90215                  2.0                    0.0                  0.0   \n",
              "90234                  0.0                    0.0                  0.0   \n",
              "90313                  0.0                    1.0                  0.0   \n",
              "90334                  0.0                    1.0                  1.0   \n",
              "90338                  0.0                    0.0                  0.0   \n",
              "\n",
              "      Total.Uninjured Weather.Condition Broad.phase.of.flight   Report.Status  \\\n",
              "66                2.0               VMC               Landing  Probable Cause   \n",
              "101               1.0               VMC               Takeoff  Probable Cause   \n",
              "256               0.0               VMC               Landing  Probable Cause   \n",
              "999               0.0               VMC                 Climb  Probable Cause   \n",
              "1286              2.0               VMC                Cruise  Probable Cause   \n",
              "...               ...               ...                   ...             ...   \n",
              "90215             0.0               VMC                   NaN             NaN   \n",
              "90234             2.0               VMC                   NaN             NaN   \n",
              "90313             6.0               NaN                   NaN             NaN   \n",
              "90334             0.0               NaN                   NaN             NaN   \n",
              "90338             0.0               NaN                   NaN             NaN   \n",
              "\n",
              "      Publication.Date State  \n",
              "66          09-01-1983    HI  \n",
              "101         17-01-1983    HI  \n",
              "256         07-02-1983    HI  \n",
              "999         28-04-1983    HI  \n",
              "1286        21-05-1983    HI  \n",
              "...                ...   ...  \n",
              "90215       30-11-2022    HI  \n",
              "90234       23-11-2022    HI  \n",
              "90313       09-12-2022    HI  \n",
              "90334       22-12-2022    HI  \n",
              "90338              NaN    HI  \n",
              "\n",
              "[476 rows x 32 columns]"
            ],
            "text/html": [
              "\n",
              "  <div id=\"df-b71cf27a-d03a-4bf9-8a09-41b456229f70\">\n",
              "    <div class=\"colab-df-container\">\n",
              "      <div>\n",
              "<style scoped>\n",
              "    .dataframe tbody tr th:only-of-type {\n",
              "        vertical-align: middle;\n",
              "    }\n",
              "\n",
              "    .dataframe tbody tr th {\n",
              "        vertical-align: top;\n",
              "    }\n",
              "\n",
              "    .dataframe thead th {\n",
              "        text-align: right;\n",
              "    }\n",
              "</style>\n",
              "<table border=\"1\" class=\"dataframe\">\n",
              "  <thead>\n",
              "    <tr style=\"text-align: right;\">\n",
              "      <th></th>\n",
              "      <th>Event.Id</th>\n",
              "      <th>Investigation.Type</th>\n",
              "      <th>Accident.Number</th>\n",
              "      <th>Event.Date</th>\n",
              "      <th>Location</th>\n",
              "      <th>Country</th>\n",
              "      <th>Latitude</th>\n",
              "      <th>Longitude</th>\n",
              "      <th>Airport.Code</th>\n",
              "      <th>Airport.Name</th>\n",
              "      <th>...</th>\n",
              "      <th>Air.carrier</th>\n",
              "      <th>Total.Fatal.Injuries</th>\n",
              "      <th>Total.Serious.Injuries</th>\n",
              "      <th>Total.Minor.Injuries</th>\n",
              "      <th>Total.Uninjured</th>\n",
              "      <th>Weather.Condition</th>\n",
              "      <th>Broad.phase.of.flight</th>\n",
              "      <th>Report.Status</th>\n",
              "      <th>Publication.Date</th>\n",
              "      <th>State</th>\n",
              "    </tr>\n",
              "  </thead>\n",
              "  <tbody>\n",
              "    <tr>\n",
              "      <th>66</th>\n",
              "      <td>20020917X02283</td>\n",
              "      <td>Accident</td>\n",
              "      <td>LAX82FJA03</td>\n",
              "      <td>1982-01-09</td>\n",
              "      <td>MOKULEIA, HI</td>\n",
              "      <td>United States</td>\n",
              "      <td>NaN</td>\n",
              "      <td>NaN</td>\n",
              "      <td>NaN</td>\n",
              "      <td>DILLINGHAM</td>\n",
              "      <td>...</td>\n",
              "      <td>NaN</td>\n",
              "      <td>0.0</td>\n",
              "      <td>0.0</td>\n",
              "      <td>0.0</td>\n",
              "      <td>2.0</td>\n",
              "      <td>VMC</td>\n",
              "      <td>Landing</td>\n",
              "      <td>Probable Cause</td>\n",
              "      <td>09-01-1983</td>\n",
              "      <td>HI</td>\n",
              "    </tr>\n",
              "    <tr>\n",
              "      <th>101</th>\n",
              "      <td>20020917X02159</td>\n",
              "      <td>Accident</td>\n",
              "      <td>LAX82DA042</td>\n",
              "      <td>1982-01-17</td>\n",
              "      <td>HONOLULU, HI</td>\n",
              "      <td>United States</td>\n",
              "      <td>NaN</td>\n",
              "      <td>NaN</td>\n",
              "      <td>NaN</td>\n",
              "      <td>HONOLULU INTL</td>\n",
              "      <td>...</td>\n",
              "      <td>Island Airlines Hawaii Inc.</td>\n",
              "      <td>0.0</td>\n",
              "      <td>0.0</td>\n",
              "      <td>2.0</td>\n",
              "      <td>1.0</td>\n",
              "      <td>VMC</td>\n",
              "      <td>Takeoff</td>\n",
              "      <td>Probable Cause</td>\n",
              "      <td>17-01-1983</td>\n",
              "      <td>HI</td>\n",
              "    </tr>\n",
              "    <tr>\n",
              "      <th>256</th>\n",
              "      <td>20020917X02284</td>\n",
              "      <td>Accident</td>\n",
              "      <td>LAX82FJA04</td>\n",
              "      <td>1982-02-07</td>\n",
              "      <td>KALAUPAPA, HI</td>\n",
              "      <td>United States</td>\n",
              "      <td>NaN</td>\n",
              "      <td>NaN</td>\n",
              "      <td>NaN</td>\n",
              "      <td>KALAUPAPA</td>\n",
              "      <td>...</td>\n",
              "      <td>NaN</td>\n",
              "      <td>0.0</td>\n",
              "      <td>4.0</td>\n",
              "      <td>0.0</td>\n",
              "      <td>0.0</td>\n",
              "      <td>VMC</td>\n",
              "      <td>Landing</td>\n",
              "      <td>Probable Cause</td>\n",
              "      <td>07-02-1983</td>\n",
              "      <td>HI</td>\n",
              "    </tr>\n",
              "    <tr>\n",
              "      <th>999</th>\n",
              "      <td>20020917X01976</td>\n",
              "      <td>Accident</td>\n",
              "      <td>DEN82FA074</td>\n",
              "      <td>1982-04-28</td>\n",
              "      <td>HAKALAU, HI</td>\n",
              "      <td>United States</td>\n",
              "      <td>NaN</td>\n",
              "      <td>NaN</td>\n",
              "      <td>NaN</td>\n",
              "      <td>NaN</td>\n",
              "      <td>...</td>\n",
              "      <td>Island Airlines Hawaii, Ltd.</td>\n",
              "      <td>2.0</td>\n",
              "      <td>0.0</td>\n",
              "      <td>0.0</td>\n",
              "      <td>0.0</td>\n",
              "      <td>VMC</td>\n",
              "      <td>Climb</td>\n",
              "      <td>Probable Cause</td>\n",
              "      <td>28-04-1983</td>\n",
              "      <td>HI</td>\n",
              "    </tr>\n",
              "    <tr>\n",
              "      <th>1286</th>\n",
              "      <td>20020917X03540</td>\n",
              "      <td>Accident</td>\n",
              "      <td>LAX82DA190</td>\n",
              "      <td>1982-05-21</td>\n",
              "      <td>HILO, HI</td>\n",
              "      <td>United States</td>\n",
              "      <td>NaN</td>\n",
              "      <td>NaN</td>\n",
              "      <td>NaN</td>\n",
              "      <td>NaN</td>\n",
              "      <td>...</td>\n",
              "      <td>NaN</td>\n",
              "      <td>0.0</td>\n",
              "      <td>0.0</td>\n",
              "      <td>2.0</td>\n",
              "      <td>2.0</td>\n",
              "      <td>VMC</td>\n",
              "      <td>Cruise</td>\n",
              "      <td>Probable Cause</td>\n",
              "      <td>21-05-1983</td>\n",
              "      <td>HI</td>\n",
              "    </tr>\n",
              "    <tr>\n",
              "      <th>...</th>\n",
              "      <td>...</td>\n",
              "      <td>...</td>\n",
              "      <td>...</td>\n",
              "      <td>...</td>\n",
              "      <td>...</td>\n",
              "      <td>...</td>\n",
              "      <td>...</td>\n",
              "      <td>...</td>\n",
              "      <td>...</td>\n",
              "      <td>...</td>\n",
              "      <td>...</td>\n",
              "      <td>...</td>\n",
              "      <td>...</td>\n",
              "      <td>...</td>\n",
              "      <td>...</td>\n",
              "      <td>...</td>\n",
              "      <td>...</td>\n",
              "      <td>...</td>\n",
              "      <td>...</td>\n",
              "      <td>...</td>\n",
              "      <td>...</td>\n",
              "    </tr>\n",
              "    <tr>\n",
              "      <th>90215</th>\n",
              "      <td>20221105106253</td>\n",
              "      <td>Accident</td>\n",
              "      <td>ANC23FA003</td>\n",
              "      <td>2022-11-05</td>\n",
              "      <td>Mokuleia, HI</td>\n",
              "      <td>United States</td>\n",
              "      <td>213447N</td>\n",
              "      <td>1581416W</td>\n",
              "      <td>HDH</td>\n",
              "      <td>DILLINGHAM AIRFIELD</td>\n",
              "      <td>...</td>\n",
              "      <td>Paradise Air Hang Gliding</td>\n",
              "      <td>2.0</td>\n",
              "      <td>0.0</td>\n",
              "      <td>0.0</td>\n",
              "      <td>0.0</td>\n",
              "      <td>VMC</td>\n",
              "      <td>NaN</td>\n",
              "      <td>NaN</td>\n",
              "      <td>30-11-2022</td>\n",
              "      <td>HI</td>\n",
              "    </tr>\n",
              "    <tr>\n",
              "      <th>90234</th>\n",
              "      <td>20221122106351</td>\n",
              "      <td>Accident</td>\n",
              "      <td>WPR23LA043</td>\n",
              "      <td>2022-11-11</td>\n",
              "      <td>Kapolei, HI</td>\n",
              "      <td>United States</td>\n",
              "      <td>211837N</td>\n",
              "      <td>0158434W</td>\n",
              "      <td>NaN</td>\n",
              "      <td>NaN</td>\n",
              "      <td>...</td>\n",
              "      <td>NaN</td>\n",
              "      <td>0.0</td>\n",
              "      <td>0.0</td>\n",
              "      <td>0.0</td>\n",
              "      <td>2.0</td>\n",
              "      <td>VMC</td>\n",
              "      <td>NaN</td>\n",
              "      <td>NaN</td>\n",
              "      <td>23-11-2022</td>\n",
              "      <td>HI</td>\n",
              "    </tr>\n",
              "    <tr>\n",
              "      <th>90313</th>\n",
              "      <td>20221209106435</td>\n",
              "      <td>Accident</td>\n",
              "      <td>WPR23LA061</td>\n",
              "      <td>2022-12-07</td>\n",
              "      <td>Waimea, HI</td>\n",
              "      <td>United States</td>\n",
              "      <td>020019N</td>\n",
              "      <td>1554745W</td>\n",
              "      <td>NaN</td>\n",
              "      <td>NaN</td>\n",
              "      <td>...</td>\n",
              "      <td>NaN</td>\n",
              "      <td>0.0</td>\n",
              "      <td>1.0</td>\n",
              "      <td>0.0</td>\n",
              "      <td>6.0</td>\n",
              "      <td>NaN</td>\n",
              "      <td>NaN</td>\n",
              "      <td>NaN</td>\n",
              "      <td>09-12-2022</td>\n",
              "      <td>HI</td>\n",
              "    </tr>\n",
              "    <tr>\n",
              "      <th>90334</th>\n",
              "      <td>20221219106474</td>\n",
              "      <td>Accident</td>\n",
              "      <td>ANC23LA009</td>\n",
              "      <td>2022-12-15</td>\n",
              "      <td>Lihue, HI</td>\n",
              "      <td>United States</td>\n",
              "      <td>NaN</td>\n",
              "      <td>NaN</td>\n",
              "      <td>NaN</td>\n",
              "      <td>NaN</td>\n",
              "      <td>...</td>\n",
              "      <td>NaN</td>\n",
              "      <td>0.0</td>\n",
              "      <td>1.0</td>\n",
              "      <td>1.0</td>\n",
              "      <td>0.0</td>\n",
              "      <td>NaN</td>\n",
              "      <td>NaN</td>\n",
              "      <td>NaN</td>\n",
              "      <td>22-12-2022</td>\n",
              "      <td>HI</td>\n",
              "    </tr>\n",
              "    <tr>\n",
              "      <th>90338</th>\n",
              "      <td>20221219106472</td>\n",
              "      <td>Accident</td>\n",
              "      <td>DCA23LA096</td>\n",
              "      <td>2022-12-18</td>\n",
              "      <td>Kahului, HI</td>\n",
              "      <td>United States</td>\n",
              "      <td>NaN</td>\n",
              "      <td>NaN</td>\n",
              "      <td>NaN</td>\n",
              "      <td>NaN</td>\n",
              "      <td>...</td>\n",
              "      <td>HAWAIIAN AIRLINES INC</td>\n",
              "      <td>0.0</td>\n",
              "      <td>0.0</td>\n",
              "      <td>0.0</td>\n",
              "      <td>0.0</td>\n",
              "      <td>NaN</td>\n",
              "      <td>NaN</td>\n",
              "      <td>NaN</td>\n",
              "      <td>NaN</td>\n",
              "      <td>HI</td>\n",
              "    </tr>\n",
              "  </tbody>\n",
              "</table>\n",
              "<p>476 rows × 32 columns</p>\n",
              "</div>\n",
              "      <button class=\"colab-df-convert\" onclick=\"convertToInteractive('df-b71cf27a-d03a-4bf9-8a09-41b456229f70')\"\n",
              "              title=\"Convert this dataframe to an interactive table.\"\n",
              "              style=\"display:none;\">\n",
              "        \n",
              "  <svg xmlns=\"http://www.w3.org/2000/svg\" height=\"24px\"viewBox=\"0 0 24 24\"\n",
              "       width=\"24px\">\n",
              "    <path d=\"M0 0h24v24H0V0z\" fill=\"none\"/>\n",
              "    <path d=\"M18.56 5.44l.94 2.06.94-2.06 2.06-.94-2.06-.94-.94-2.06-.94 2.06-2.06.94zm-11 1L8.5 8.5l.94-2.06 2.06-.94-2.06-.94L8.5 2.5l-.94 2.06-2.06.94zm10 10l.94 2.06.94-2.06 2.06-.94-2.06-.94-.94-2.06-.94 2.06-2.06.94z\"/><path d=\"M17.41 7.96l-1.37-1.37c-.4-.4-.92-.59-1.43-.59-.52 0-1.04.2-1.43.59L10.3 9.45l-7.72 7.72c-.78.78-.78 2.05 0 2.83L4 21.41c.39.39.9.59 1.41.59.51 0 1.02-.2 1.41-.59l7.78-7.78 2.81-2.81c.8-.78.8-2.07 0-2.86zM5.41 20L4 18.59l7.72-7.72 1.47 1.35L5.41 20z\"/>\n",
              "  </svg>\n",
              "      </button>\n",
              "      \n",
              "  <style>\n",
              "    .colab-df-container {\n",
              "      display:flex;\n",
              "      flex-wrap:wrap;\n",
              "      gap: 12px;\n",
              "    }\n",
              "\n",
              "    .colab-df-convert {\n",
              "      background-color: #E8F0FE;\n",
              "      border: none;\n",
              "      border-radius: 50%;\n",
              "      cursor: pointer;\n",
              "      display: none;\n",
              "      fill: #1967D2;\n",
              "      height: 32px;\n",
              "      padding: 0 0 0 0;\n",
              "      width: 32px;\n",
              "    }\n",
              "\n",
              "    .colab-df-convert:hover {\n",
              "      background-color: #E2EBFA;\n",
              "      box-shadow: 0px 1px 2px rgba(60, 64, 67, 0.3), 0px 1px 3px 1px rgba(60, 64, 67, 0.15);\n",
              "      fill: #174EA6;\n",
              "    }\n",
              "\n",
              "    [theme=dark] .colab-df-convert {\n",
              "      background-color: #3B4455;\n",
              "      fill: #D2E3FC;\n",
              "    }\n",
              "\n",
              "    [theme=dark] .colab-df-convert:hover {\n",
              "      background-color: #434B5C;\n",
              "      box-shadow: 0px 1px 3px 1px rgba(0, 0, 0, 0.15);\n",
              "      filter: drop-shadow(0px 1px 2px rgba(0, 0, 0, 0.3));\n",
              "      fill: #FFFFFF;\n",
              "    }\n",
              "  </style>\n",
              "\n",
              "      <script>\n",
              "        const buttonEl =\n",
              "          document.querySelector('#df-b71cf27a-d03a-4bf9-8a09-41b456229f70 button.colab-df-convert');\n",
              "        buttonEl.style.display =\n",
              "          google.colab.kernel.accessAllowed ? 'block' : 'none';\n",
              "\n",
              "        async function convertToInteractive(key) {\n",
              "          const element = document.querySelector('#df-b71cf27a-d03a-4bf9-8a09-41b456229f70');\n",
              "          const dataTable =\n",
              "            await google.colab.kernel.invokeFunction('convertToInteractive',\n",
              "                                                     [key], {});\n",
              "          if (!dataTable) return;\n",
              "\n",
              "          const docLinkHtml = 'Like what you see? Visit the ' +\n",
              "            '<a target=\"_blank\" href=https://colab.research.google.com/notebooks/data_table.ipynb>data table notebook</a>'\n",
              "            + ' to learn more about interactive tables.';\n",
              "          element.innerHTML = '';\n",
              "          dataTable['output_type'] = 'display_data';\n",
              "          await google.colab.output.renderOutput(dataTable, element);\n",
              "          const docLink = document.createElement('div');\n",
              "          docLink.innerHTML = docLinkHtml;\n",
              "          element.appendChild(docLink);\n",
              "        }\n",
              "      </script>\n",
              "    </div>\n",
              "  </div>\n",
              "  "
            ]
          },
          "metadata": {},
          "execution_count": 113
        }
      ]
    },
    {
      "cell_type": "markdown",
      "source": [
        "Creating dataframes of missing Hawaii records in order to concatenate. In retrospect, I could have saved myself some time by standardizing the string format to title case instead of making indiviual records for capitalization differences."
      ],
      "metadata": {
        "id": "EvEthDCU3fry"
      }
    },
    {
      "cell_type": "code",
      "source": [
        "# to merge: this 1 row with HI\n",
        " df_fly_honolulu = df[df['State'] == 'HONOLULU']"
      ],
      "metadata": {
        "id": "GUDCU_2gd_aB"
      },
      "execution_count": null,
      "outputs": []
    },
    {
      "cell_type": "code",
      "source": [
        "# to merge: these 5 rows with HI\n",
        "df_fly_kauai = df[df['State'] == 'KAUAI']"
      ],
      "metadata": {
        "id": "zDLOVzqbffAZ"
      },
      "execution_count": null,
      "outputs": []
    },
    {
      "cell_type": "code",
      "source": [
        "# to merge: this 1 row with HI\n",
        "df_fly_kauai_2 = df[df['State'] == 'Kauai']\n"
      ],
      "metadata": {
        "id": "5wn95VInf9a-"
      },
      "execution_count": null,
      "outputs": []
    },
    {
      "cell_type": "code",
      "source": [
        "# to merge: 1 row with HI\n",
        "df_fly_manua = df[df['State'] == \"MANU'A\"]\n"
      ],
      "metadata": {
        "id": "QJhOTI_3gF5n"
      },
      "execution_count": null,
      "outputs": []
    },
    {
      "cell_type": "code",
      "source": [
        "# to merge: 2 rows with HI\n",
        "df_fly_maui = df[df['State'] == 'Maui']\n"
      ],
      "metadata": {
        "id": "9siuBYPIgF_s"
      },
      "execution_count": null,
      "outputs": []
    },
    {
      "cell_type": "code",
      "source": [
        "#to merge: 6 rows with HI\n",
        "df_fly_maui_2 = df[df['State'] == 'MAUI']\n"
      ],
      "metadata": {
        "id": "pMvR-RSDgGHD"
      },
      "execution_count": null,
      "outputs": []
    },
    {
      "cell_type": "code",
      "source": [
        "# to merge: 1 row with HI\n",
        " df_fly_molokai = df[df['State'] == 'MOLOKAI']\n"
      ],
      "metadata": {
        "id": "T_7xou2DhEIL"
      },
      "execution_count": null,
      "outputs": []
    },
    {
      "cell_type": "code",
      "source": [
        "# to merge with HI\n",
        "df_fly_ohahu_2 = df[df['State'] == 'Oahu']\n"
      ],
      "metadata": {
        "id": "UPRj18O5ix4V"
      },
      "execution_count": null,
      "outputs": []
    },
    {
      "cell_type": "code",
      "source": [
        "# to merge: with HI\n",
        "df_fly_ohahu = df[df['State'] == 'OAHU']\n"
      ],
      "metadata": {
        "id": "ZYRlH5Xcixz2"
      },
      "execution_count": null,
      "outputs": []
    },
    {
      "cell_type": "code",
      "source": [
        "#merging all the Hawaii accidents into one dataframe using pd.concat\n",
        "df_fly_hi = pd.concat([df_fly_ohahu, df_fly_ohahu_2, df_fly_hi, df_fly_molokai, df_fly_maui, df_fly_maui_2, df_fly_manua,df_fly_kauai_2, df_fly_kauai, df_fly_honolulu], ignore_index = True)\n",
        "df_fly_hi.reset_index()\n",
        "  \n",
        "display(df_fly_hi)"
      ],
      "metadata": {
        "colab": {
          "base_uri": "https://localhost:8080/",
          "height": 661
        },
        "id": "kJcasszsoVG-",
        "outputId": "9523a086-7bc7-4de2-8878-3897a9fe112d"
      },
      "execution_count": null,
      "outputs": [
        {
          "output_type": "display_data",
          "data": {
            "text/plain": [
              "           Event.Id Investigation.Type Accident.Number  Event.Date  \\\n",
              "0    20001214X42715           Accident      LAX83FJA06  1983-04-03   \n",
              "1    20001214X39644           Accident      LAX84LA305  1984-05-20   \n",
              "2    20001214X38266           Accident      LAX86LA043  1985-11-19   \n",
              "3    20001213X28594           Accident      LAX89LA188  1989-06-28   \n",
              "4    20001213X29966           Accident      LAX90DJA02  1989-12-10   \n",
              "..              ...                ...             ...         ...   \n",
              "511  20001211X13879           Accident      LAX94LA076  1993-12-22   \n",
              "512  20001208X07748           Accident      LAX97LA150  1997-04-16   \n",
              "513  20001212X21253           Accident      LAX00FA229  2000-06-14   \n",
              "514  20010407X00719           Accident      LAX01FA127  2001-03-22   \n",
              "515  20020917X04798           Accident      LAX83FA055  1982-12-09   \n",
              "\n",
              "                   Location        Country   Latitude    Longitude  \\\n",
              "0       WAIMANALO, OAHU, HI  United States        NaN          NaN   \n",
              "1          WAIPAHU,OAHU, HI  United States        NaN          NaN   \n",
              "2           KUNIA, OAHU, HI  United States        NaN          NaN   \n",
              "3         HALEIWA, OAHU, HI  United States        NaN          NaN   \n",
              "4         HALEIWA, OAHU, HI  United States        NaN          NaN   \n",
              "..                      ...            ...        ...          ...   \n",
              "511       WAIMEA, KAUAI, HI  United States        NaN          NaN   \n",
              "512        LIHUE, KAUAI, HI  United States        NaN          NaN   \n",
              "513        LIHUE, KAUAI, HI  United States  21.976111  -159.338889   \n",
              "514     HANAPEPE, KAUAI, HI  United States  21.896666  -159.603056   \n",
              "515  500 NM E, HONOLULU, HI  United States        NaN          NaN   \n",
              "\n",
              "    Airport.Code         Airport.Name  ... Air.carrier Total.Fatal.Injuries  \\\n",
              "0            NaN                  NaN  ...         NaN                  1.0   \n",
              "1            NaN                  NaN  ...         NaN                  0.0   \n",
              "2            NaN                  NaN  ...         NaN                  0.0   \n",
              "3           NONE                  NaN  ...         NaN                  0.0   \n",
              "4            HDH  DILLIMGHAM AIRFIELD  ...         NaN                  0.0   \n",
              "..           ...                  ...  ...         ...                  ...   \n",
              "511          NaN                  NaN  ...         NaN                  0.0   \n",
              "512          LIH                LIHUE  ...         NaN                  1.0   \n",
              "513          LIH                Lihue  ...         NaN                  NaN   \n",
              "514          PAK           Port Allen  ...         NaN                  NaN   \n",
              "515          NaN                  NaN  ...         NaN                  2.0   \n",
              "\n",
              "    Total.Serious.Injuries Total.Minor.Injuries Total.Uninjured  \\\n",
              "0                      1.0                  2.0             0.0   \n",
              "1                      1.0                  1.0             0.0   \n",
              "2                      0.0                  0.0             2.0   \n",
              "3                      0.0                  0.0             1.0   \n",
              "4                      0.0                  1.0             0.0   \n",
              "..                     ...                  ...             ...   \n",
              "511                    0.0                  0.0             1.0   \n",
              "512                    0.0                  0.0             0.0   \n",
              "513                    NaN                  2.0           137.0   \n",
              "514                    NaN                  NaN             2.0   \n",
              "515                    NaN                  NaN             NaN   \n",
              "\n",
              "    Weather.Condition Broad.phase.of.flight   Report.Status Publication.Date  \\\n",
              "0                 VMC           Maneuvering  Probable Cause              NaN   \n",
              "1                 VMC             Go-around  Probable Cause              NaN   \n",
              "2                 VMC                Cruise  Probable Cause              NaN   \n",
              "3                 VMC                Cruise  Probable Cause       02-08-1990   \n",
              "4                 VMC              Approach  Probable Cause       30-06-1992   \n",
              "..                ...                   ...             ...              ...   \n",
              "511               VMC           Maneuvering  Probable Cause       13-09-1994   \n",
              "512               VMC           Maneuvering  Probable Cause       21-05-1998   \n",
              "513               VMC               Landing  Probable Cause       30-05-2003   \n",
              "514               VMC               Landing  Probable Cause       30-03-2004   \n",
              "515               VMC                Cruise  Probable Cause       02-02-2016   \n",
              "\n",
              "        State  \n",
              "0        OAHU  \n",
              "1        OAHU  \n",
              "2        OAHU  \n",
              "3        OAHU  \n",
              "4        OAHU  \n",
              "..        ...  \n",
              "511     KAUAI  \n",
              "512     KAUAI  \n",
              "513     KAUAI  \n",
              "514     KAUAI  \n",
              "515  HONOLULU  \n",
              "\n",
              "[516 rows x 32 columns]"
            ],
            "text/html": [
              "\n",
              "  <div id=\"df-261baf58-c781-4261-844e-6949df28b42a\">\n",
              "    <div class=\"colab-df-container\">\n",
              "      <div>\n",
              "<style scoped>\n",
              "    .dataframe tbody tr th:only-of-type {\n",
              "        vertical-align: middle;\n",
              "    }\n",
              "\n",
              "    .dataframe tbody tr th {\n",
              "        vertical-align: top;\n",
              "    }\n",
              "\n",
              "    .dataframe thead th {\n",
              "        text-align: right;\n",
              "    }\n",
              "</style>\n",
              "<table border=\"1\" class=\"dataframe\">\n",
              "  <thead>\n",
              "    <tr style=\"text-align: right;\">\n",
              "      <th></th>\n",
              "      <th>Event.Id</th>\n",
              "      <th>Investigation.Type</th>\n",
              "      <th>Accident.Number</th>\n",
              "      <th>Event.Date</th>\n",
              "      <th>Location</th>\n",
              "      <th>Country</th>\n",
              "      <th>Latitude</th>\n",
              "      <th>Longitude</th>\n",
              "      <th>Airport.Code</th>\n",
              "      <th>Airport.Name</th>\n",
              "      <th>...</th>\n",
              "      <th>Air.carrier</th>\n",
              "      <th>Total.Fatal.Injuries</th>\n",
              "      <th>Total.Serious.Injuries</th>\n",
              "      <th>Total.Minor.Injuries</th>\n",
              "      <th>Total.Uninjured</th>\n",
              "      <th>Weather.Condition</th>\n",
              "      <th>Broad.phase.of.flight</th>\n",
              "      <th>Report.Status</th>\n",
              "      <th>Publication.Date</th>\n",
              "      <th>State</th>\n",
              "    </tr>\n",
              "  </thead>\n",
              "  <tbody>\n",
              "    <tr>\n",
              "      <th>0</th>\n",
              "      <td>20001214X42715</td>\n",
              "      <td>Accident</td>\n",
              "      <td>LAX83FJA06</td>\n",
              "      <td>1983-04-03</td>\n",
              "      <td>WAIMANALO, OAHU, HI</td>\n",
              "      <td>United States</td>\n",
              "      <td>NaN</td>\n",
              "      <td>NaN</td>\n",
              "      <td>NaN</td>\n",
              "      <td>NaN</td>\n",
              "      <td>...</td>\n",
              "      <td>NaN</td>\n",
              "      <td>1.0</td>\n",
              "      <td>1.0</td>\n",
              "      <td>2.0</td>\n",
              "      <td>0.0</td>\n",
              "      <td>VMC</td>\n",
              "      <td>Maneuvering</td>\n",
              "      <td>Probable Cause</td>\n",
              "      <td>NaN</td>\n",
              "      <td>OAHU</td>\n",
              "    </tr>\n",
              "    <tr>\n",
              "      <th>1</th>\n",
              "      <td>20001214X39644</td>\n",
              "      <td>Accident</td>\n",
              "      <td>LAX84LA305</td>\n",
              "      <td>1984-05-20</td>\n",
              "      <td>WAIPAHU,OAHU, HI</td>\n",
              "      <td>United States</td>\n",
              "      <td>NaN</td>\n",
              "      <td>NaN</td>\n",
              "      <td>NaN</td>\n",
              "      <td>NaN</td>\n",
              "      <td>...</td>\n",
              "      <td>NaN</td>\n",
              "      <td>0.0</td>\n",
              "      <td>1.0</td>\n",
              "      <td>1.0</td>\n",
              "      <td>0.0</td>\n",
              "      <td>VMC</td>\n",
              "      <td>Go-around</td>\n",
              "      <td>Probable Cause</td>\n",
              "      <td>NaN</td>\n",
              "      <td>OAHU</td>\n",
              "    </tr>\n",
              "    <tr>\n",
              "      <th>2</th>\n",
              "      <td>20001214X38266</td>\n",
              "      <td>Accident</td>\n",
              "      <td>LAX86LA043</td>\n",
              "      <td>1985-11-19</td>\n",
              "      <td>KUNIA, OAHU, HI</td>\n",
              "      <td>United States</td>\n",
              "      <td>NaN</td>\n",
              "      <td>NaN</td>\n",
              "      <td>NaN</td>\n",
              "      <td>NaN</td>\n",
              "      <td>...</td>\n",
              "      <td>NaN</td>\n",
              "      <td>0.0</td>\n",
              "      <td>0.0</td>\n",
              "      <td>0.0</td>\n",
              "      <td>2.0</td>\n",
              "      <td>VMC</td>\n",
              "      <td>Cruise</td>\n",
              "      <td>Probable Cause</td>\n",
              "      <td>NaN</td>\n",
              "      <td>OAHU</td>\n",
              "    </tr>\n",
              "    <tr>\n",
              "      <th>3</th>\n",
              "      <td>20001213X28594</td>\n",
              "      <td>Accident</td>\n",
              "      <td>LAX89LA188</td>\n",
              "      <td>1989-06-28</td>\n",
              "      <td>HALEIWA, OAHU, HI</td>\n",
              "      <td>United States</td>\n",
              "      <td>NaN</td>\n",
              "      <td>NaN</td>\n",
              "      <td>NONE</td>\n",
              "      <td>NaN</td>\n",
              "      <td>...</td>\n",
              "      <td>NaN</td>\n",
              "      <td>0.0</td>\n",
              "      <td>0.0</td>\n",
              "      <td>0.0</td>\n",
              "      <td>1.0</td>\n",
              "      <td>VMC</td>\n",
              "      <td>Cruise</td>\n",
              "      <td>Probable Cause</td>\n",
              "      <td>02-08-1990</td>\n",
              "      <td>OAHU</td>\n",
              "    </tr>\n",
              "    <tr>\n",
              "      <th>4</th>\n",
              "      <td>20001213X29966</td>\n",
              "      <td>Accident</td>\n",
              "      <td>LAX90DJA02</td>\n",
              "      <td>1989-12-10</td>\n",
              "      <td>HALEIWA, OAHU, HI</td>\n",
              "      <td>United States</td>\n",
              "      <td>NaN</td>\n",
              "      <td>NaN</td>\n",
              "      <td>HDH</td>\n",
              "      <td>DILLIMGHAM AIRFIELD</td>\n",
              "      <td>...</td>\n",
              "      <td>NaN</td>\n",
              "      <td>0.0</td>\n",
              "      <td>0.0</td>\n",
              "      <td>1.0</td>\n",
              "      <td>0.0</td>\n",
              "      <td>VMC</td>\n",
              "      <td>Approach</td>\n",
              "      <td>Probable Cause</td>\n",
              "      <td>30-06-1992</td>\n",
              "      <td>OAHU</td>\n",
              "    </tr>\n",
              "    <tr>\n",
              "      <th>...</th>\n",
              "      <td>...</td>\n",
              "      <td>...</td>\n",
              "      <td>...</td>\n",
              "      <td>...</td>\n",
              "      <td>...</td>\n",
              "      <td>...</td>\n",
              "      <td>...</td>\n",
              "      <td>...</td>\n",
              "      <td>...</td>\n",
              "      <td>...</td>\n",
              "      <td>...</td>\n",
              "      <td>...</td>\n",
              "      <td>...</td>\n",
              "      <td>...</td>\n",
              "      <td>...</td>\n",
              "      <td>...</td>\n",
              "      <td>...</td>\n",
              "      <td>...</td>\n",
              "      <td>...</td>\n",
              "      <td>...</td>\n",
              "      <td>...</td>\n",
              "    </tr>\n",
              "    <tr>\n",
              "      <th>511</th>\n",
              "      <td>20001211X13879</td>\n",
              "      <td>Accident</td>\n",
              "      <td>LAX94LA076</td>\n",
              "      <td>1993-12-22</td>\n",
              "      <td>WAIMEA, KAUAI, HI</td>\n",
              "      <td>United States</td>\n",
              "      <td>NaN</td>\n",
              "      <td>NaN</td>\n",
              "      <td>NaN</td>\n",
              "      <td>NaN</td>\n",
              "      <td>...</td>\n",
              "      <td>NaN</td>\n",
              "      <td>0.0</td>\n",
              "      <td>0.0</td>\n",
              "      <td>0.0</td>\n",
              "      <td>1.0</td>\n",
              "      <td>VMC</td>\n",
              "      <td>Maneuvering</td>\n",
              "      <td>Probable Cause</td>\n",
              "      <td>13-09-1994</td>\n",
              "      <td>KAUAI</td>\n",
              "    </tr>\n",
              "    <tr>\n",
              "      <th>512</th>\n",
              "      <td>20001208X07748</td>\n",
              "      <td>Accident</td>\n",
              "      <td>LAX97LA150</td>\n",
              "      <td>1997-04-16</td>\n",
              "      <td>LIHUE, KAUAI, HI</td>\n",
              "      <td>United States</td>\n",
              "      <td>NaN</td>\n",
              "      <td>NaN</td>\n",
              "      <td>LIH</td>\n",
              "      <td>LIHUE</td>\n",
              "      <td>...</td>\n",
              "      <td>NaN</td>\n",
              "      <td>1.0</td>\n",
              "      <td>0.0</td>\n",
              "      <td>0.0</td>\n",
              "      <td>0.0</td>\n",
              "      <td>VMC</td>\n",
              "      <td>Maneuvering</td>\n",
              "      <td>Probable Cause</td>\n",
              "      <td>21-05-1998</td>\n",
              "      <td>KAUAI</td>\n",
              "    </tr>\n",
              "    <tr>\n",
              "      <th>513</th>\n",
              "      <td>20001212X21253</td>\n",
              "      <td>Accident</td>\n",
              "      <td>LAX00FA229</td>\n",
              "      <td>2000-06-14</td>\n",
              "      <td>LIHUE, KAUAI, HI</td>\n",
              "      <td>United States</td>\n",
              "      <td>21.976111</td>\n",
              "      <td>-159.338889</td>\n",
              "      <td>LIH</td>\n",
              "      <td>Lihue</td>\n",
              "      <td>...</td>\n",
              "      <td>NaN</td>\n",
              "      <td>NaN</td>\n",
              "      <td>NaN</td>\n",
              "      <td>2.0</td>\n",
              "      <td>137.0</td>\n",
              "      <td>VMC</td>\n",
              "      <td>Landing</td>\n",
              "      <td>Probable Cause</td>\n",
              "      <td>30-05-2003</td>\n",
              "      <td>KAUAI</td>\n",
              "    </tr>\n",
              "    <tr>\n",
              "      <th>514</th>\n",
              "      <td>20010407X00719</td>\n",
              "      <td>Accident</td>\n",
              "      <td>LAX01FA127</td>\n",
              "      <td>2001-03-22</td>\n",
              "      <td>HANAPEPE, KAUAI, HI</td>\n",
              "      <td>United States</td>\n",
              "      <td>21.896666</td>\n",
              "      <td>-159.603056</td>\n",
              "      <td>PAK</td>\n",
              "      <td>Port Allen</td>\n",
              "      <td>...</td>\n",
              "      <td>NaN</td>\n",
              "      <td>NaN</td>\n",
              "      <td>NaN</td>\n",
              "      <td>NaN</td>\n",
              "      <td>2.0</td>\n",
              "      <td>VMC</td>\n",
              "      <td>Landing</td>\n",
              "      <td>Probable Cause</td>\n",
              "      <td>30-03-2004</td>\n",
              "      <td>KAUAI</td>\n",
              "    </tr>\n",
              "    <tr>\n",
              "      <th>515</th>\n",
              "      <td>20020917X04798</td>\n",
              "      <td>Accident</td>\n",
              "      <td>LAX83FA055</td>\n",
              "      <td>1982-12-09</td>\n",
              "      <td>500 NM E, HONOLULU, HI</td>\n",
              "      <td>United States</td>\n",
              "      <td>NaN</td>\n",
              "      <td>NaN</td>\n",
              "      <td>NaN</td>\n",
              "      <td>NaN</td>\n",
              "      <td>...</td>\n",
              "      <td>NaN</td>\n",
              "      <td>2.0</td>\n",
              "      <td>NaN</td>\n",
              "      <td>NaN</td>\n",
              "      <td>NaN</td>\n",
              "      <td>VMC</td>\n",
              "      <td>Cruise</td>\n",
              "      <td>Probable Cause</td>\n",
              "      <td>02-02-2016</td>\n",
              "      <td>HONOLULU</td>\n",
              "    </tr>\n",
              "  </tbody>\n",
              "</table>\n",
              "<p>516 rows × 32 columns</p>\n",
              "</div>\n",
              "      <button class=\"colab-df-convert\" onclick=\"convertToInteractive('df-261baf58-c781-4261-844e-6949df28b42a')\"\n",
              "              title=\"Convert this dataframe to an interactive table.\"\n",
              "              style=\"display:none;\">\n",
              "        \n",
              "  <svg xmlns=\"http://www.w3.org/2000/svg\" height=\"24px\"viewBox=\"0 0 24 24\"\n",
              "       width=\"24px\">\n",
              "    <path d=\"M0 0h24v24H0V0z\" fill=\"none\"/>\n",
              "    <path d=\"M18.56 5.44l.94 2.06.94-2.06 2.06-.94-2.06-.94-.94-2.06-.94 2.06-2.06.94zm-11 1L8.5 8.5l.94-2.06 2.06-.94-2.06-.94L8.5 2.5l-.94 2.06-2.06.94zm10 10l.94 2.06.94-2.06 2.06-.94-2.06-.94-.94-2.06-.94 2.06-2.06.94z\"/><path d=\"M17.41 7.96l-1.37-1.37c-.4-.4-.92-.59-1.43-.59-.52 0-1.04.2-1.43.59L10.3 9.45l-7.72 7.72c-.78.78-.78 2.05 0 2.83L4 21.41c.39.39.9.59 1.41.59.51 0 1.02-.2 1.41-.59l7.78-7.78 2.81-2.81c.8-.78.8-2.07 0-2.86zM5.41 20L4 18.59l7.72-7.72 1.47 1.35L5.41 20z\"/>\n",
              "  </svg>\n",
              "      </button>\n",
              "      \n",
              "  <style>\n",
              "    .colab-df-container {\n",
              "      display:flex;\n",
              "      flex-wrap:wrap;\n",
              "      gap: 12px;\n",
              "    }\n",
              "\n",
              "    .colab-df-convert {\n",
              "      background-color: #E8F0FE;\n",
              "      border: none;\n",
              "      border-radius: 50%;\n",
              "      cursor: pointer;\n",
              "      display: none;\n",
              "      fill: #1967D2;\n",
              "      height: 32px;\n",
              "      padding: 0 0 0 0;\n",
              "      width: 32px;\n",
              "    }\n",
              "\n",
              "    .colab-df-convert:hover {\n",
              "      background-color: #E2EBFA;\n",
              "      box-shadow: 0px 1px 2px rgba(60, 64, 67, 0.3), 0px 1px 3px 1px rgba(60, 64, 67, 0.15);\n",
              "      fill: #174EA6;\n",
              "    }\n",
              "\n",
              "    [theme=dark] .colab-df-convert {\n",
              "      background-color: #3B4455;\n",
              "      fill: #D2E3FC;\n",
              "    }\n",
              "\n",
              "    [theme=dark] .colab-df-convert:hover {\n",
              "      background-color: #434B5C;\n",
              "      box-shadow: 0px 1px 3px 1px rgba(0, 0, 0, 0.15);\n",
              "      filter: drop-shadow(0px 1px 2px rgba(0, 0, 0, 0.3));\n",
              "      fill: #FFFFFF;\n",
              "    }\n",
              "  </style>\n",
              "\n",
              "      <script>\n",
              "        const buttonEl =\n",
              "          document.querySelector('#df-261baf58-c781-4261-844e-6949df28b42a button.colab-df-convert');\n",
              "        buttonEl.style.display =\n",
              "          google.colab.kernel.accessAllowed ? 'block' : 'none';\n",
              "\n",
              "        async function convertToInteractive(key) {\n",
              "          const element = document.querySelector('#df-261baf58-c781-4261-844e-6949df28b42a');\n",
              "          const dataTable =\n",
              "            await google.colab.kernel.invokeFunction('convertToInteractive',\n",
              "                                                     [key], {});\n",
              "          if (!dataTable) return;\n",
              "\n",
              "          const docLinkHtml = 'Like what you see? Visit the ' +\n",
              "            '<a target=\"_blank\" href=https://colab.research.google.com/notebooks/data_table.ipynb>data table notebook</a>'\n",
              "            + ' to learn more about interactive tables.';\n",
              "          element.innerHTML = '';\n",
              "          dataTable['output_type'] = 'display_data';\n",
              "          await google.colab.output.renderOutput(dataTable, element);\n",
              "          const docLink = document.createElement('div');\n",
              "          docLink.innerHTML = docLinkHtml;\n",
              "          element.appendChild(docLink);\n",
              "        }\n",
              "      </script>\n",
              "    </div>\n",
              "  </div>\n",
              "  "
            ]
          },
          "metadata": {}
        }
      ]
    },
    {
      "cell_type": "code",
      "source": [
        "# Hawaii, only airplanes\n",
        "df_fly_hi_planes = df_fly_hi[df_fly_hi['Aircraft.Category'] == 'Airplane']"
      ],
      "metadata": {
        "id": "r0Q7vrc9BHmZ"
      },
      "execution_count": null,
      "outputs": []
    },
    {
      "cell_type": "code",
      "source": [
        "# comparing length of df before and after filtering for airplanes only\n",
        "# you can also see the shape above in the concatenation cell\n",
        "len(df_fly_hi)"
      ],
      "metadata": {
        "colab": {
          "base_uri": "https://localhost:8080/"
        },
        "id": "5MlmpulQBDZU",
        "outputId": "ca2773f4-7d7b-41da-e847-5b7ed6252658"
      },
      "execution_count": null,
      "outputs": [
        {
          "output_type": "execute_result",
          "data": {
            "text/plain": [
              "516"
            ]
          },
          "metadata": {},
          "execution_count": 219
        }
      ]
    },
    {
      "cell_type": "code",
      "source": [
        "len(df_fly_hi_planes)"
      ],
      "metadata": {
        "colab": {
          "base_uri": "https://localhost:8080/"
        },
        "id": "xNCHSpP8BOHi",
        "outputId": "73fb24ba-e106-4ff6-99b9-c8e9ba0bda9b"
      },
      "execution_count": null,
      "outputs": [
        {
          "output_type": "execute_result",
          "data": {
            "text/plain": [
              "98"
            ]
          },
          "metadata": {},
          "execution_count": 221
        }
      ]
    },
    {
      "cell_type": "code",
      "source": [
        "#exporting and saving df_fly_hi_planes file to my google drive\n",
        "path = '/content/drive/My Drive/df_fly_hi_planes.csv'\n",
        "with open(path, 'w', encoding = 'utf-8-sig') as f:\n",
        " df_fly_hi_planes.to_csv(f)"
      ],
      "metadata": {
        "id": "zTjIlg8OR95z"
      },
      "execution_count": null,
      "outputs": []
    },
    {
      "cell_type": "code",
      "source": [
        "#exporting and saving file to my google drive\n",
        "path = '/content/drive/My Drive/df_fly_hi.csv'\n",
        "with open(path, 'w', encoding = 'utf-8-sig') as f:\n",
        "  df_fly_hi.to_csv(f)"
      ],
      "metadata": {
        "id": "HopOeVyZr17a"
      },
      "execution_count": null,
      "outputs": []
    },
    {
      "cell_type": "markdown",
      "source": [
        "**State 20: Kansas**"
      ],
      "metadata": {
        "id": "2GWZx4Um5pxZ"
      }
    },
    {
      "cell_type": "code",
      "source": [
        "# Kansas, all aircraft\n",
        "df_fly_ks = df[df['State'] == 'KS']"
      ],
      "metadata": {
        "id": "plevFwNOffp0"
      },
      "execution_count": null,
      "outputs": []
    },
    {
      "cell_type": "code",
      "source": [
        "# Kansas, only airplanes\n",
        "df_fly_ks_planes = df_fly_ks[df_fly_ks['Aircraft.Category'] == 'Airplane']"
      ],
      "metadata": {
        "id": "6gNELEJ6BWrY"
      },
      "execution_count": null,
      "outputs": []
    },
    {
      "cell_type": "code",
      "source": [
        "# comparing length of df before and after filtering for airplanes only\n",
        "len(df_fly_ks)"
      ],
      "metadata": {
        "colab": {
          "base_uri": "https://localhost:8080/"
        },
        "id": "RpSef1DSBUnG",
        "outputId": "f5d315d2-c2de-4bef-f9f4-e8b96ba5d56c"
      },
      "execution_count": null,
      "outputs": [
        {
          "output_type": "execute_result",
          "data": {
            "text/plain": [
              "1104"
            ]
          },
          "metadata": {},
          "execution_count": 222
        }
      ]
    },
    {
      "cell_type": "code",
      "source": [
        "len(df_fly_ks_planes )"
      ],
      "metadata": {
        "colab": {
          "base_uri": "https://localhost:8080/"
        },
        "id": "Q4Cjyci6Bh9z",
        "outputId": "e778a3a5-a79e-4c6c-f87e-3e84346534ff"
      },
      "execution_count": null,
      "outputs": [
        {
          "output_type": "execute_result",
          "data": {
            "text/plain": [
              "359"
            ]
          },
          "metadata": {},
          "execution_count": 224
        }
      ]
    },
    {
      "cell_type": "code",
      "source": [
        "#exporting and saving df_fly_ks_planes file to my google drive\n",
        "path = '/content/drive/My Drive/df_fly_ks_planes.csv'\n",
        "with open(path, 'w', encoding = 'utf-8-sig') as f:\n",
        " df_fly_ks_planes.to_csv(f)"
      ],
      "metadata": {
        "id": "F0N5z3UvSJMK"
      },
      "execution_count": null,
      "outputs": []
    },
    {
      "cell_type": "code",
      "source": [
        "#exporting and saving df_fly_ks file to my google drive\n",
        "path = '/content/drive/My Drive/df_fly_ks.csv'\n",
        "with open(path, 'w', encoding = 'utf-8-sig') as f:\n",
        " df_fly_ks.to_csv(f)"
      ],
      "metadata": {
        "id": "Y2th_yJkSMt6"
      },
      "execution_count": null,
      "outputs": []
    },
    {
      "cell_type": "markdown",
      "source": [
        "**State 21: Kentucky**"
      ],
      "metadata": {
        "id": "PZPYHoRl5zmU"
      }
    },
    {
      "cell_type": "code",
      "source": [
        "# Kentucky, all aircraft\n",
        "df_fly_ky = df[df['State'] == 'KY']"
      ],
      "metadata": {
        "id": "CtrDIA_mfgNx"
      },
      "execution_count": null,
      "outputs": []
    },
    {
      "cell_type": "code",
      "source": [
        "# Kentucky, only planes\n",
        "df_fly_ky_planes = df_fly_ky[df_fly_ky['Aircraft.Category'] == 'Airplane']"
      ],
      "metadata": {
        "id": "ww0MzHsKB2Af"
      },
      "execution_count": null,
      "outputs": []
    },
    {
      "cell_type": "code",
      "source": [
        "# comparing length of df before and after filtering for airplanes only\n",
        "len(df_fly_ky)"
      ],
      "metadata": {
        "colab": {
          "base_uri": "https://localhost:8080/"
        },
        "id": "ra_IKmieBziZ",
        "outputId": "cb15a56c-0576-49a8-cfaa-373c2a1e1320"
      },
      "execution_count": null,
      "outputs": [
        {
          "output_type": "execute_result",
          "data": {
            "text/plain": [
              "650"
            ]
          },
          "metadata": {},
          "execution_count": 225
        }
      ]
    },
    {
      "cell_type": "code",
      "source": [
        "len(df_fly_ky_planes)"
      ],
      "metadata": {
        "colab": {
          "base_uri": "https://localhost:8080/"
        },
        "id": "hX4L1ViKB7mO",
        "outputId": "a79e6b02-4e3e-474a-d3b4-b21f753a93cf"
      },
      "execution_count": null,
      "outputs": [
        {
          "output_type": "execute_result",
          "data": {
            "text/plain": [
              "202"
            ]
          },
          "metadata": {},
          "execution_count": 227
        }
      ]
    },
    {
      "cell_type": "code",
      "source": [
        "#exporting and saving df_fly_ky_planes file to my google drive\n",
        "path = '/content/drive/My Drive/df_fly_ky_planes.csv'\n",
        "with open(path, 'w', encoding = 'utf-8-sig') as f:\n",
        " df_fly_ky_planes.to_csv(f)"
      ],
      "metadata": {
        "id": "InJVr0b5SQ7O"
      },
      "execution_count": null,
      "outputs": []
    },
    {
      "cell_type": "code",
      "source": [
        "#exporting and saving df_fly_ky file to my google drive\n",
        "path = '/content/drive/My Drive/df_fly_ky.csv'\n",
        "with open(path, 'w', encoding = 'utf-8-sig') as f:\n",
        " df_fly_ky.to_csv(f)"
      ],
      "metadata": {
        "id": "ftO8NgUQSUYp"
      },
      "execution_count": null,
      "outputs": []
    },
    {
      "cell_type": "markdown",
      "source": [
        "**State 22: Louisiana**"
      ],
      "metadata": {
        "id": "rzVOCvwt6AhG"
      }
    },
    {
      "cell_type": "code",
      "source": [
        "# Louisiana, all aircraft\n",
        "df_fly_la = df[df['State'] == 'LA']"
      ],
      "metadata": {
        "id": "EIBwFMm3gFrM"
      },
      "execution_count": null,
      "outputs": []
    },
    {
      "cell_type": "code",
      "source": [
        "# Louisiana, only airplanes\n",
        "df_fly_la_planes = df_fly_la[df_fly_la['Aircraft.Category'] == 'Airplane']"
      ],
      "metadata": {
        "id": "Pb6kQam4CDuE"
      },
      "execution_count": null,
      "outputs": []
    },
    {
      "cell_type": "code",
      "source": [
        "# comparing length of df before and after filtering for airplanes only\n",
        "len(df_fly_la)"
      ],
      "metadata": {
        "colab": {
          "base_uri": "https://localhost:8080/"
        },
        "id": "ajt25C1UB-fH",
        "outputId": "4b5c1242-717d-493c-e0a9-ba10de72668f"
      },
      "execution_count": null,
      "outputs": [
        {
          "output_type": "execute_result",
          "data": {
            "text/plain": [
              "1217"
            ]
          },
          "metadata": {},
          "execution_count": 230
        }
      ]
    },
    {
      "cell_type": "code",
      "source": [
        "len(df_fly_la_planes)"
      ],
      "metadata": {
        "colab": {
          "base_uri": "https://localhost:8080/"
        },
        "id": "VJCfbRlrCKkx",
        "outputId": "4766d1f1-7124-4b56-f6fc-0974681a7e62"
      },
      "execution_count": null,
      "outputs": [
        {
          "output_type": "execute_result",
          "data": {
            "text/plain": [
              "325"
            ]
          },
          "metadata": {},
          "execution_count": 232
        }
      ]
    },
    {
      "cell_type": "code",
      "source": [
        "#exporting and saving df_fly_la_planes file to my google drive\n",
        "path = '/content/drive/My Drive/df_fly_la_planes.csv'\n",
        "with open(path, 'w', encoding = 'utf-8-sig') as f:\n",
        " df_fly_la_planes.to_csv(f)"
      ],
      "metadata": {
        "id": "0Z5b6T_8SYO5"
      },
      "execution_count": null,
      "outputs": []
    },
    {
      "cell_type": "code",
      "source": [
        "#exporting and saving df_fly_la file to my google drive\n",
        "path = '/content/drive/My Drive/df_fly_la.csv'\n",
        "with open(path, 'w', encoding = 'utf-8-sig') as f:\n",
        " df_fly_la.to_csv(f)"
      ],
      "metadata": {
        "id": "A7d2vVqeScWD"
      },
      "execution_count": null,
      "outputs": []
    },
    {
      "cell_type": "markdown",
      "source": [
        "**State 23: Massachusetts**"
      ],
      "metadata": {
        "id": "Z58AEFH36KsT"
      }
    },
    {
      "cell_type": "code",
      "source": [
        "# Massachusetts, all aircraft\n",
        "df_fly_ma = df[df['State'] == 'MA']"
      ],
      "metadata": {
        "id": "UKYfcvZAgFyj"
      },
      "execution_count": null,
      "outputs": []
    },
    {
      "cell_type": "code",
      "source": [
        "# Massachusetts, only airplanes\n",
        "df_fly_ma_planes = df_fly_ma[df_fly_ma['Aircraft.Category'] == 'Airplane']"
      ],
      "metadata": {
        "id": "kHN-p2PiCRhJ"
      },
      "execution_count": null,
      "outputs": []
    },
    {
      "cell_type": "code",
      "source": [
        "# comparing length of df before and after filtering for airplanes only\n",
        "len(df_fly_ma)"
      ],
      "metadata": {
        "colab": {
          "base_uri": "https://localhost:8080/"
        },
        "id": "xIbCKGZZCOQY",
        "outputId": "23b36b52-b165-413a-f51d-f0507703d3cc"
      },
      "execution_count": null,
      "outputs": [
        {
          "output_type": "execute_result",
          "data": {
            "text/plain": [
              "969"
            ]
          },
          "metadata": {},
          "execution_count": 233
        }
      ]
    },
    {
      "cell_type": "code",
      "source": [
        "len(df_fly_ma_planes)"
      ],
      "metadata": {
        "colab": {
          "base_uri": "https://localhost:8080/"
        },
        "id": "RWmQQqkACYNI",
        "outputId": "c45c8cc6-db99-418e-fd0b-557b54cb5211"
      },
      "execution_count": null,
      "outputs": [
        {
          "output_type": "execute_result",
          "data": {
            "text/plain": [
              "232"
            ]
          },
          "metadata": {},
          "execution_count": 236
        }
      ]
    },
    {
      "cell_type": "code",
      "source": [
        "#exporting and saving df_fly_ma_planes file to my google drive\n",
        "path = '/content/drive/My Drive/df_fly_ma_planes.csv'\n",
        "with open(path, 'w', encoding = 'utf-8-sig') as f:\n",
        " df_fly_ma_planes.to_csv(f)"
      ],
      "metadata": {
        "id": "5BvawqnoSgf5"
      },
      "execution_count": null,
      "outputs": []
    },
    {
      "cell_type": "code",
      "source": [
        "#exporting and saving df_fly_ma file to my google drive\n",
        "path = '/content/drive/My Drive/df_fly.csv'\n",
        "with open(path, 'w', encoding = 'utf-8-sig') as f:\n",
        " df_fly_ma.to_csv(f)"
      ],
      "metadata": {
        "id": "a3VpICgnSkFy"
      },
      "execution_count": null,
      "outputs": []
    },
    {
      "cell_type": "markdown",
      "source": [
        "**State 24: Maryland**"
      ],
      "metadata": {
        "id": "46PdYRbM6W5U"
      }
    },
    {
      "cell_type": "code",
      "source": [
        "# Maryland, all aircraft\n",
        "df_fly_md = df[df['State'] == 'MD']"
      ],
      "metadata": {
        "id": "_gSbVn8QgH1a"
      },
      "execution_count": null,
      "outputs": []
    },
    {
      "cell_type": "code",
      "source": [
        "# Maryland, only airplanes\n",
        "df_fly_md_planes = df_fly_md[df_fly_md['Aircraft.Category'] == 'Airplane']"
      ],
      "metadata": {
        "id": "vlCtUL97DUnV"
      },
      "execution_count": null,
      "outputs": []
    },
    {
      "cell_type": "code",
      "source": [
        "# comparing length of df before and after filtering for airplanes only\n",
        "len(df_fly_md)"
      ],
      "metadata": {
        "colab": {
          "base_uri": "https://localhost:8080/"
        },
        "id": "IdflsZ2XDPoV",
        "outputId": "9c79ecc3-12a9-4404-8751-680ce127add6"
      },
      "execution_count": null,
      "outputs": [
        {
          "output_type": "execute_result",
          "data": {
            "text/plain": [
              "815"
            ]
          },
          "metadata": {},
          "execution_count": 237
        }
      ]
    },
    {
      "cell_type": "code",
      "source": [
        "len(df_fly_md_planes)"
      ],
      "metadata": {
        "colab": {
          "base_uri": "https://localhost:8080/"
        },
        "id": "A6WlZ8WmDa5m",
        "outputId": "a4c244ad-3f82-446c-db8b-ebb500902820"
      },
      "execution_count": null,
      "outputs": [
        {
          "output_type": "execute_result",
          "data": {
            "text/plain": [
              "257"
            ]
          },
          "metadata": {},
          "execution_count": 239
        }
      ]
    },
    {
      "cell_type": "code",
      "source": [
        "#exporting and saving df_fly_md_planes file to my google drive\n",
        "path = '/content/drive/My Drive/df_fly_md_planes.csv'\n",
        "with open(path, 'w', encoding = 'utf-8-sig') as f:\n",
        " df_fly_md_planes.to_csv(f)"
      ],
      "metadata": {
        "id": "6LktgKQ2SoT9"
      },
      "execution_count": null,
      "outputs": []
    },
    {
      "cell_type": "code",
      "source": [
        "#exporting and saving df_fly_md file to my google drive\n",
        "path = '/content/drive/My Drive/df_fly_md.csv'\n",
        "with open(path, 'w', encoding = 'utf-8-sig') as f:\n",
        " df_fly_md.to_csv(f)"
      ],
      "metadata": {
        "id": "ftIWEhuzSrp5"
      },
      "execution_count": null,
      "outputs": []
    },
    {
      "cell_type": "markdown",
      "source": [
        "**State 25: Maine**"
      ],
      "metadata": {
        "id": "oskM4Raz6ioV"
      }
    },
    {
      "cell_type": "code",
      "source": [
        "# Maine, all aircraft\n",
        "df_fly_me = df[df['State'] == 'ME']"
      ],
      "metadata": {
        "id": "6Hy_JkMxgIC3"
      },
      "execution_count": null,
      "outputs": []
    },
    {
      "cell_type": "code",
      "source": [
        "# Maine, only airplanes\n",
        "df_fly_me_planes = df_fly_me[df_fly_me['Aircraft.Category'] == 'Airplane']"
      ],
      "metadata": {
        "id": "iW_JCihIDgr-"
      },
      "execution_count": null,
      "outputs": []
    },
    {
      "cell_type": "code",
      "source": [
        "# comparing length of df before and after filtering for airplanes only\n",
        "len(df_fly_me)"
      ],
      "metadata": {
        "colab": {
          "base_uri": "https://localhost:8080/"
        },
        "id": "y8wlaDPrDd6E",
        "outputId": "dfb4f9c2-e9db-44bd-dc7f-1e92b5a39574"
      },
      "execution_count": null,
      "outputs": [
        {
          "output_type": "execute_result",
          "data": {
            "text/plain": [
              "505"
            ]
          },
          "metadata": {},
          "execution_count": 240
        }
      ]
    },
    {
      "cell_type": "code",
      "source": [
        "len(df_fly_me_planes)"
      ],
      "metadata": {
        "colab": {
          "base_uri": "https://localhost:8080/"
        },
        "id": "DLqvm3JlDo4d",
        "outputId": "1c90a982-19ff-41db-f141-1f845d8ea1fa"
      },
      "execution_count": null,
      "outputs": [
        {
          "output_type": "execute_result",
          "data": {
            "text/plain": [
              "164"
            ]
          },
          "metadata": {},
          "execution_count": 242
        }
      ]
    },
    {
      "cell_type": "code",
      "source": [
        "#exporting and saving df_fly_me_planes file to my google drive\n",
        "path = '/content/drive/My Drive/df_fly_me_planes.csv'\n",
        "with open(path, 'w', encoding = 'utf-8-sig') as f:\n",
        " df_fly_me_planes.to_csv(f)"
      ],
      "metadata": {
        "id": "y95E9syySveq"
      },
      "execution_count": null,
      "outputs": []
    },
    {
      "cell_type": "code",
      "source": [
        "#exporting and saving df_fly_me file to my google drive\n",
        "path = '/content/drive/My Drive/df_fly_me.csv'\n",
        "with open(path, 'w', encoding = 'utf-8-sig') as f:\n",
        " df_fly_me.to_csv(f)"
      ],
      "metadata": {
        "id": "9_3E_pK6SzCp"
      },
      "execution_count": null,
      "outputs": []
    },
    {
      "cell_type": "markdown",
      "source": [
        "**State 26: Michigan**"
      ],
      "metadata": {
        "id": "PyzrBIYY6roa"
      }
    },
    {
      "cell_type": "code",
      "source": [
        "# Michigan, all aircraft\n",
        "df_fly_mi = df[df['State'] == 'MI']"
      ],
      "metadata": {
        "id": "S7WSwERbhD04"
      },
      "execution_count": null,
      "outputs": []
    },
    {
      "cell_type": "code",
      "source": [
        "# Michigan, only airplanes\n",
        "df_fly_mi_planes = df_fly_mi[df_fly_mi['Aircraft.Category'] == 'Airplane']"
      ],
      "metadata": {
        "id": "v53IwjEsDttp"
      },
      "execution_count": null,
      "outputs": []
    },
    {
      "cell_type": "code",
      "source": [
        "# comparing length of df before and after filtering for airplanes only\n",
        "len(df_fly_mi)"
      ],
      "metadata": {
        "colab": {
          "base_uri": "https://localhost:8080/"
        },
        "id": "eddWP_UWDsMJ",
        "outputId": "0ec03616-5064-42b3-fcfe-6238f1ace343"
      },
      "execution_count": null,
      "outputs": [
        {
          "output_type": "execute_result",
          "data": {
            "text/plain": [
              "2030"
            ]
          },
          "metadata": {},
          "execution_count": 243
        }
      ]
    },
    {
      "cell_type": "code",
      "source": [
        "len(df_fly_mi_planes)"
      ],
      "metadata": {
        "colab": {
          "base_uri": "https://localhost:8080/"
        },
        "id": "6UvcYXxEDzpE",
        "outputId": "1e8005a5-cce4-40e9-fdf9-e39104ec19c3"
      },
      "execution_count": null,
      "outputs": [
        {
          "output_type": "execute_result",
          "data": {
            "text/plain": [
              "547"
            ]
          },
          "metadata": {},
          "execution_count": 245
        }
      ]
    },
    {
      "cell_type": "code",
      "source": [
        "#exporting and saving df_fly_mi_planes file to my google drive\n",
        "path = '/content/drive/My Drive/df_fly_mi_planes.csv'\n",
        "with open(path, 'w', encoding = 'utf-8-sig') as f:\n",
        " df_fly_mi_planes.to_csv(f)"
      ],
      "metadata": {
        "id": "00z8q4QGS352"
      },
      "execution_count": null,
      "outputs": []
    },
    {
      "cell_type": "code",
      "source": [
        "#exporting and saving df_fly_mi file to my google drive\n",
        "path = '/content/drive/My Drive/df_fly_mi.csv'\n",
        "with open(path, 'w', encoding = 'utf-8-sig') as f:\n",
        " df_fly_mi.to_csv(f)"
      ],
      "metadata": {
        "id": "V-wynLtfS7q7"
      },
      "execution_count": null,
      "outputs": []
    },
    {
      "cell_type": "markdown",
      "source": [
        "**State 27: Minnesota**"
      ],
      "metadata": {
        "id": "eXIkohK0629M"
      }
    },
    {
      "cell_type": "code",
      "source": [
        "# Minnesota, all aircraft\n",
        "df_fly_mn = df[df['State'] == 'MN']"
      ],
      "metadata": {
        "id": "2aRqnK68hD66"
      },
      "execution_count": null,
      "outputs": []
    },
    {
      "cell_type": "code",
      "source": [
        "# Minnesota, only airplanes\n",
        "df_fly_mn_planes = df_fly_mn[df_fly_mn['Aircraft.Category'] == 'Airplane']"
      ],
      "metadata": {
        "id": "bXiXf-2cD5K8"
      },
      "execution_count": null,
      "outputs": []
    },
    {
      "cell_type": "code",
      "source": [
        "# comparing length of df before and after filtering for airplanes only\n",
        "len(df_fly_mn)"
      ],
      "metadata": {
        "colab": {
          "base_uri": "https://localhost:8080/"
        },
        "id": "qyLnweZBD3Ja",
        "outputId": "92d87751-ddbc-498d-c43d-b5ccfa4fe3ab"
      },
      "execution_count": null,
      "outputs": [
        {
          "output_type": "execute_result",
          "data": {
            "text/plain": [
              "1456"
            ]
          },
          "metadata": {},
          "execution_count": 246
        }
      ]
    },
    {
      "cell_type": "code",
      "source": [
        "len(df_fly_mn_planes)"
      ],
      "metadata": {
        "colab": {
          "base_uri": "https://localhost:8080/"
        },
        "id": "hP1iuu_2D_lv",
        "outputId": "ca3cf161-71b3-4ff4-c47d-7552c07b380f"
      },
      "execution_count": null,
      "outputs": [
        {
          "output_type": "execute_result",
          "data": {
            "text/plain": [
              "421"
            ]
          },
          "metadata": {},
          "execution_count": 248
        }
      ]
    },
    {
      "cell_type": "code",
      "source": [
        "#exporting and saving df_fly_mn_planes file to my google drive\n",
        "path = '/content/drive/My Drive/df_fly_mn_planes.csv'\n",
        "with open(path, 'w', encoding = 'utf-8-sig') as f:\n",
        " df_fly_mn_planes.to_csv(f)"
      ],
      "metadata": {
        "id": "UfmeBMpDTAl6"
      },
      "execution_count": null,
      "outputs": []
    },
    {
      "cell_type": "code",
      "source": [
        "#exporting and saving df_fly_mn file to my google drive\n",
        "path = '/content/drive/My Drive/df_fly_mn.csv'\n",
        "with open(path, 'w', encoding = 'utf-8-sig') as f:\n",
        " df_fly_mn.to_csv(f)"
      ],
      "metadata": {
        "id": "bQN5foj7TD3_"
      },
      "execution_count": null,
      "outputs": []
    },
    {
      "cell_type": "markdown",
      "source": [
        "**State 28: Missouri**"
      ],
      "metadata": {
        "id": "kN33Ys1b7AUT"
      }
    },
    {
      "cell_type": "code",
      "source": [
        "# Missouri, all aircraft\n",
        "df_fly_mo = df[df['State'] == 'MO']"
      ],
      "metadata": {
        "id": "99RJvtPLhEBn"
      },
      "execution_count": null,
      "outputs": []
    },
    {
      "cell_type": "code",
      "source": [
        "# Missouri, only airplanes\n",
        "df_fly_mo_planes =df_fly_mo[df_fly_mo['Aircraft.Category'] == 'Airplane']"
      ],
      "metadata": {
        "id": "43DxoES5EFHJ"
      },
      "execution_count": null,
      "outputs": []
    },
    {
      "cell_type": "code",
      "source": [
        "# comparing length of df before and after filtering for airplanes only\n",
        "len(df_fly_mo)"
      ],
      "metadata": {
        "colab": {
          "base_uri": "https://localhost:8080/"
        },
        "id": "pTCkAcexEDdW",
        "outputId": "53622708-4198-424e-a6c3-57c9c21c7563"
      },
      "execution_count": null,
      "outputs": [
        {
          "output_type": "execute_result",
          "data": {
            "text/plain": [
              "1565"
            ]
          },
          "metadata": {},
          "execution_count": 249
        }
      ]
    },
    {
      "cell_type": "code",
      "source": [
        "len(df_fly_mo_planes)"
      ],
      "metadata": {
        "colab": {
          "base_uri": "https://localhost:8080/"
        },
        "id": "aMNNGz__EJNI",
        "outputId": "866890cb-6752-4bf4-e95d-3ae971e261a2"
      },
      "execution_count": null,
      "outputs": [
        {
          "output_type": "execute_result",
          "data": {
            "text/plain": [
              "461"
            ]
          },
          "metadata": {},
          "execution_count": 251
        }
      ]
    },
    {
      "cell_type": "code",
      "source": [
        "#exporting and saving df_fly_mo_planes file to my google drive\n",
        "path = '/content/drive/My Drive/df_fly_mo_planes.csv'\n",
        "with open(path, 'w', encoding = 'utf-8-sig') as f:\n",
        " df_fly_mo_planes.to_csv(f)"
      ],
      "metadata": {
        "id": "0_AfX_6-TI0o"
      },
      "execution_count": null,
      "outputs": []
    },
    {
      "cell_type": "code",
      "source": [
        "#exporting and saving df_fly_mo file to my google drive\n",
        "path = '/content/drive/My Drive/df_fly_mo.csv'\n",
        "with open(path, 'w', encoding = 'utf-8-sig') as f:\n",
        " df_fly_mo.to_csv(f)"
      ],
      "metadata": {
        "id": "qgIHbhdhTMsR"
      },
      "execution_count": null,
      "outputs": []
    },
    {
      "cell_type": "markdown",
      "source": [
        "**State 29: Mississippi**"
      ],
      "metadata": {
        "id": "XziylSSM7JVh"
      }
    },
    {
      "cell_type": "code",
      "source": [
        "# Mississippi, all aircraft\n",
        "df_fly_ms = df[df['State'] == 'MS']"
      ],
      "metadata": {
        "id": "hH1VcGIwhEPj"
      },
      "execution_count": null,
      "outputs": []
    },
    {
      "cell_type": "code",
      "source": [
        "# Mississippi, only airplanes\n",
        "df_fly_ms_planes = df_fly_ms[df_fly_ms['Aircraft.Category'] == 'Airplane']"
      ],
      "metadata": {
        "id": "oiLDEfl8EQUd"
      },
      "execution_count": null,
      "outputs": []
    },
    {
      "cell_type": "code",
      "source": [
        "# comparing length of df before and after filtering for airplanes only\n",
        "len(df_fly_ms)"
      ],
      "metadata": {
        "colab": {
          "base_uri": "https://localhost:8080/"
        },
        "id": "eL8F1sfnEN8R",
        "outputId": "4978310e-179b-43df-fc68-58da1aeb853c"
      },
      "execution_count": null,
      "outputs": [
        {
          "output_type": "execute_result",
          "data": {
            "text/plain": [
              "813"
            ]
          },
          "metadata": {},
          "execution_count": 252
        }
      ]
    },
    {
      "cell_type": "code",
      "source": [
        "len(df_fly_ms_planes)"
      ],
      "metadata": {
        "colab": {
          "base_uri": "https://localhost:8080/"
        },
        "id": "xUaLtZZjEYx0",
        "outputId": "4ac74f12-a751-414d-d77b-4cf049fce538"
      },
      "execution_count": null,
      "outputs": [
        {
          "output_type": "execute_result",
          "data": {
            "text/plain": [
              "231"
            ]
          },
          "metadata": {},
          "execution_count": 254
        }
      ]
    },
    {
      "cell_type": "code",
      "source": [
        "#exporting and saving df_fly_ms_planes file to my google drive\n",
        "path = '/content/drive/My Drive/df_fly_ms_planes.csv'\n",
        "with open(path, 'w', encoding = 'utf-8-sig') as f:\n",
        " df_fly_ms_planes.to_csv(f)"
      ],
      "metadata": {
        "id": "3ffBoDX9TR1a"
      },
      "execution_count": null,
      "outputs": []
    },
    {
      "cell_type": "code",
      "source": [
        "#exporting and saving df_fly_ms file to my google drive\n",
        "path = '/content/drive/My Drive/df_fly_ms.csv'\n",
        "with open(path, 'w', encoding = 'utf-8-sig') as f:\n",
        " df_fly_ms.to_csv(f)"
      ],
      "metadata": {
        "id": "fjx20RSvTVUV"
      },
      "execution_count": null,
      "outputs": []
    },
    {
      "cell_type": "markdown",
      "source": [
        "**State 30: Montana**"
      ],
      "metadata": {
        "id": "AIwBw3uF7V5o"
      }
    },
    {
      "cell_type": "code",
      "source": [
        "# Montana, all aircraft\n",
        "df_fly_mt = df[df['State'] == 'MT']"
      ],
      "metadata": {
        "id": "es02Ap0YiNt6"
      },
      "execution_count": null,
      "outputs": []
    },
    {
      "cell_type": "code",
      "source": [
        "# Montana, only airplanes\n",
        "df_fly_mt_planes = df_fly_mt[df_fly_mt['Aircraft.Category'] == 'Airplane'] "
      ],
      "metadata": {
        "id": "5egygsZREfJD"
      },
      "execution_count": null,
      "outputs": []
    },
    {
      "cell_type": "code",
      "source": [
        "# comparing length of df before and after filtering for airplanes only\n",
        "len(df_fly_mt)"
      ],
      "metadata": {
        "colab": {
          "base_uri": "https://localhost:8080/"
        },
        "id": "FzqlMu8FEdn4",
        "outputId": "47589d35-9a18-43a8-e753-84ce7254e5a6"
      },
      "execution_count": null,
      "outputs": [
        {
          "output_type": "execute_result",
          "data": {
            "text/plain": [
              "1051"
            ]
          },
          "metadata": {},
          "execution_count": 255
        }
      ]
    },
    {
      "cell_type": "code",
      "source": [
        "len(df_fly_mt_planes)"
      ],
      "metadata": {
        "colab": {
          "base_uri": "https://localhost:8080/"
        },
        "id": "JKJovC99ElSL",
        "outputId": "689636fa-1c92-4518-f7be-ec6ba73f52cc"
      },
      "execution_count": null,
      "outputs": [
        {
          "output_type": "execute_result",
          "data": {
            "text/plain": [
              "332"
            ]
          },
          "metadata": {},
          "execution_count": 257
        }
      ]
    },
    {
      "cell_type": "code",
      "source": [
        "#exporting and saving df_fly_mt_planes file to my google drive\n",
        "path = '/content/drive/My Drive/df_fly_mt_planes.csv'\n",
        "with open(path, 'w', encoding = 'utf-8-sig') as f:\n",
        " df_fly_mt_planes.to_csv(f)"
      ],
      "metadata": {
        "id": "VYGYrYytTbgH"
      },
      "execution_count": null,
      "outputs": []
    },
    {
      "cell_type": "code",
      "source": [
        "#exporting and saving df_fly_mt file to my google drive\n",
        "path = '/content/drive/My Drive/df_fly_mt.csv'\n",
        "with open(path, 'w', encoding = 'utf-8-sig') as f:\n",
        " df_fly_mt.to_csv(f)"
      ],
      "metadata": {
        "id": "yb7SgXfOTgDh"
      },
      "execution_count": null,
      "outputs": []
    },
    {
      "cell_type": "markdown",
      "source": [
        "**State 31: North Carolina**"
      ],
      "metadata": {
        "id": "WDn_QXV-7mMj"
      }
    },
    {
      "cell_type": "code",
      "source": [
        "# North Carolina, all aircraft\n",
        "df_fly_nc = df[df['State'] == 'NC']"
      ],
      "metadata": {
        "id": "c--f0p6ViN8x"
      },
      "execution_count": null,
      "outputs": []
    },
    {
      "cell_type": "code",
      "source": [
        "df_fly_nc_planes = df_fly_nc[df_fly_nc['Aircraft.Category'] == 'Airplane']"
      ],
      "metadata": {
        "id": "egDQMjgoFs0h"
      },
      "execution_count": null,
      "outputs": []
    },
    {
      "cell_type": "code",
      "source": [
        "# comparing length of df before and after filtering for airplanes only\n",
        "len(df_fly_nc)"
      ],
      "metadata": {
        "colab": {
          "base_uri": "https://localhost:8080/"
        },
        "id": "5-4w4MGFFrL2",
        "outputId": "ad05d16e-92e7-4a4f-8b63-82173f25ae03"
      },
      "execution_count": null,
      "outputs": [
        {
          "output_type": "execute_result",
          "data": {
            "text/plain": [
              "1660"
            ]
          },
          "metadata": {},
          "execution_count": 258
        }
      ]
    },
    {
      "cell_type": "code",
      "source": [
        "len(df_fly_nc_planes)"
      ],
      "metadata": {
        "colab": {
          "base_uri": "https://localhost:8080/"
        },
        "id": "WCE1HY4tFzB2",
        "outputId": "e530c4f1-6fbe-4ba1-e034-e50532453ec3"
      },
      "execution_count": null,
      "outputs": [
        {
          "output_type": "execute_result",
          "data": {
            "text/plain": [
              "573"
            ]
          },
          "metadata": {},
          "execution_count": 260
        }
      ]
    },
    {
      "cell_type": "code",
      "source": [
        "#exporting and saving df_fly_nc_planes file to my google drive\n",
        "path = '/content/drive/My Drive/df_fly_nc_planes.csv'\n",
        "with open(path, 'w', encoding = 'utf-8-sig') as f:\n",
        " df_fly_nc_planes.to_csv(f)"
      ],
      "metadata": {
        "id": "UbWmkbjUTj9c"
      },
      "execution_count": null,
      "outputs": []
    },
    {
      "cell_type": "code",
      "source": [
        "#exporting and saving df_fly_nc file to my google drive\n",
        "path = '/content/drive/My Drive/df_fly_nc.csv'\n",
        "with open(path, 'w', encoding = 'utf-8-sig') as f:\n",
        " df_fly_nc.to_csv(f)"
      ],
      "metadata": {
        "id": "gynWZWI5ToHE"
      },
      "execution_count": null,
      "outputs": []
    },
    {
      "cell_type": "markdown",
      "source": [
        "**State 32: North Dakota**"
      ],
      "metadata": {
        "id": "dO70-fYRMr0S"
      }
    },
    {
      "cell_type": "code",
      "source": [
        "# North Dakota, all aircraft\n",
        "df_fly_nd = df[df['State'] == 'ND']"
      ],
      "metadata": {
        "id": "wKmd5f_wiOFG"
      },
      "execution_count": null,
      "outputs": []
    },
    {
      "cell_type": "code",
      "source": [
        "# North Dakota, only airplanes\n",
        "df_fly_nd_planes =df_fly_nd[df_fly_nd['Aircraft.Category'] == 'Airplane']"
      ],
      "metadata": {
        "id": "gn2rvCsBIItR"
      },
      "execution_count": null,
      "outputs": []
    },
    {
      "cell_type": "code",
      "source": [
        "# comparing length of df before and after filtering for airplanes only\n",
        "len(df_fly_nd)"
      ],
      "metadata": {
        "colab": {
          "base_uri": "https://localhost:8080/"
        },
        "id": "Uwtx0ZxfIGxQ",
        "outputId": "151bfe5b-c50c-41ef-b32e-a803235d523a"
      },
      "execution_count": null,
      "outputs": [
        {
          "output_type": "execute_result",
          "data": {
            "text/plain": [
              "561"
            ]
          },
          "metadata": {},
          "execution_count": 261
        }
      ]
    },
    {
      "cell_type": "code",
      "source": [
        "len(df_fly_nd_planes)"
      ],
      "metadata": {
        "colab": {
          "base_uri": "https://localhost:8080/"
        },
        "id": "Us-dwrg1IMud",
        "outputId": "7c6e738b-cb90-44af-cbda-790783764549"
      },
      "execution_count": null,
      "outputs": [
        {
          "output_type": "execute_result",
          "data": {
            "text/plain": [
              "157"
            ]
          },
          "metadata": {},
          "execution_count": 263
        }
      ]
    },
    {
      "cell_type": "code",
      "source": [
        "#exporting and saving df_fly_nd_planes file to my google drive\n",
        "path = '/content/drive/My Drive/df_fly_nd_planes.csv'\n",
        "with open(path, 'w', encoding = 'utf-8-sig') as f:\n",
        " df_fly_nd_planes.to_csv(f)"
      ],
      "metadata": {
        "id": "YDKbXQsGTsFS"
      },
      "execution_count": null,
      "outputs": []
    },
    {
      "cell_type": "code",
      "source": [
        "#exporting and saving df_fly_nd file to my google drive\n",
        "path = '/content/drive/My Drive/df_fly_nd.csv'\n",
        "with open(path, 'w', encoding = 'utf-8-sig') as f:\n",
        " df_fly_nd.to_csv(f)"
      ],
      "metadata": {
        "id": "bZhcTdoITvQp"
      },
      "execution_count": null,
      "outputs": []
    },
    {
      "cell_type": "markdown",
      "source": [
        "**State 33: Nebraska**"
      ],
      "metadata": {
        "id": "OOrBH878M924"
      }
    },
    {
      "cell_type": "code",
      "source": [
        "# Nebraska, all aircraft\n",
        "df_fly_ne = df[df['State'] == 'NE']"
      ],
      "metadata": {
        "id": "OkWuRge8iOML"
      },
      "execution_count": null,
      "outputs": []
    },
    {
      "cell_type": "code",
      "source": [
        "# Nebraska only airplanes\n",
        "df_fly_ne_planes = df_fly_ne[df_fly_ne['Aircraft.Category'] == 'Airplane']"
      ],
      "metadata": {
        "id": "GDNX9dWZISd1"
      },
      "execution_count": null,
      "outputs": []
    },
    {
      "cell_type": "code",
      "source": [
        "# comparing length of df before and after filtering for airplanes only\n",
        "len(df_fly_ne)"
      ],
      "metadata": {
        "colab": {
          "base_uri": "https://localhost:8080/"
        },
        "id": "kzXk8wVoIPrw",
        "outputId": "19d8eb30-0aa5-4986-b8e2-25d91c4c1cbc"
      },
      "execution_count": null,
      "outputs": [
        {
          "output_type": "execute_result",
          "data": {
            "text/plain": [
              "725"
            ]
          },
          "metadata": {},
          "execution_count": 264
        }
      ]
    },
    {
      "cell_type": "code",
      "source": [
        "len(df_fly_ne_planes)"
      ],
      "metadata": {
        "colab": {
          "base_uri": "https://localhost:8080/"
        },
        "id": "dtnERlirIX-e",
        "outputId": "67d88bfc-cd44-426f-a8d9-f28957744209"
      },
      "execution_count": null,
      "outputs": [
        {
          "output_type": "execute_result",
          "data": {
            "text/plain": [
              "219"
            ]
          },
          "metadata": {},
          "execution_count": 266
        }
      ]
    },
    {
      "cell_type": "code",
      "source": [
        "#exporting and saving df_fly_ne_planes file to my google drive\n",
        "path = '/content/drive/My Drive/df_fly_ne_planes.csv'\n",
        "with open(path, 'w', encoding = 'utf-8-sig') as f:\n",
        " df_fly_ne_planes.to_csv(f)"
      ],
      "metadata": {
        "id": "4pgFNPbeTy7R"
      },
      "execution_count": null,
      "outputs": []
    },
    {
      "cell_type": "code",
      "source": [
        "#exporting and saving df_fly_ne file to my google drive\n",
        "path = '/content/drive/My Drive/df_fly_ne.csv'\n",
        "with open(path, 'w', encoding = 'utf-8-sig') as f:\n",
        " df_fly_ne.to_csv(f)"
      ],
      "metadata": {
        "id": "FWQZhKO1T23u"
      },
      "execution_count": null,
      "outputs": []
    },
    {
      "cell_type": "markdown",
      "source": [
        "State 34: New Hampshire"
      ],
      "metadata": {
        "id": "A-lFvLnONJts"
      }
    },
    {
      "cell_type": "code",
      "source": [
        "# New Hampshire, all aircraft\n",
        "df_fly_nh = df[df['State'] == 'NH']"
      ],
      "metadata": {
        "id": "8fEPmoi9iOU0"
      },
      "execution_count": null,
      "outputs": []
    },
    {
      "cell_type": "code",
      "source": [
        "# New Hampshire, only airplanes\n",
        "df_fly_nh_planes = df_fly_nh[df_fly_nh['Aircraft.Category'] == 'Airplane']"
      ],
      "metadata": {
        "id": "yDwfhe-1Idso"
      },
      "execution_count": null,
      "outputs": []
    },
    {
      "cell_type": "code",
      "source": [
        "# comparing length of df before and after filtering for airplanes only\n",
        "len(df_fly_nh)"
      ],
      "metadata": {
        "colab": {
          "base_uri": "https://localhost:8080/"
        },
        "id": "x3ztIQ60IcCH",
        "outputId": "7385c53a-a3ee-4bcb-f0a4-8cc1e7f50075"
      },
      "execution_count": null,
      "outputs": [
        {
          "output_type": "execute_result",
          "data": {
            "text/plain": [
              "368"
            ]
          },
          "metadata": {},
          "execution_count": 267
        }
      ]
    },
    {
      "cell_type": "code",
      "source": [
        "len(df_fly_nh_planes)"
      ],
      "metadata": {
        "colab": {
          "base_uri": "https://localhost:8080/"
        },
        "id": "u6NV9DexIkWL",
        "outputId": "03110e75-dda4-4d7a-94b3-b64c038dd2eb"
      },
      "execution_count": null,
      "outputs": [
        {
          "output_type": "execute_result",
          "data": {
            "text/plain": [
              "96"
            ]
          },
          "metadata": {},
          "execution_count": 269
        }
      ]
    },
    {
      "cell_type": "code",
      "source": [
        "#exporting and saving df_fly_nh_planes file to my google drive\n",
        "path = '/content/drive/My Drive/df_fly_nh_planes.csv'\n",
        "with open(path, 'w', encoding = 'utf-8-sig') as f:\n",
        " df_fly_nh_planes.to_csv(f)"
      ],
      "metadata": {
        "id": "XByOcuGtT7Og"
      },
      "execution_count": null,
      "outputs": []
    },
    {
      "cell_type": "code",
      "source": [
        "#exporting and saving df_fly_nh file to my google drive\n",
        "path = '/content/drive/My Drive/df_fly_nh.csv'\n",
        "with open(path, 'w', encoding = 'utf-8-sig') as f:\n",
        " df_fly_nh.to_csv(f)"
      ],
      "metadata": {
        "id": "fwea0eyRT-Zq"
      },
      "execution_count": null,
      "outputs": []
    },
    {
      "cell_type": "markdown",
      "source": [
        "**State 35: New Jersey**"
      ],
      "metadata": {
        "id": "dzuVdABTNVle"
      }
    },
    {
      "cell_type": "code",
      "source": [
        "# New Jersey, all aircraft\n",
        "df_fly_nj = df[df['State'] == 'NJ']"
      ],
      "metadata": {
        "id": "JvDeLVbyiOxc"
      },
      "execution_count": null,
      "outputs": []
    },
    {
      "cell_type": "code",
      "source": [
        "# New Jersey, only airplanes\n",
        "df_fly_nj_planes = df_fly_nj[df_fly_nj['Aircraft.Category'] == 'Airplane']"
      ],
      "metadata": {
        "id": "5w7iEuT8Iqzx"
      },
      "execution_count": null,
      "outputs": []
    },
    {
      "cell_type": "code",
      "source": [
        "# comparing length of df before and after filtering for airplanes only\n",
        "len(df_fly_nj)"
      ],
      "metadata": {
        "colab": {
          "base_uri": "https://localhost:8080/"
        },
        "id": "TgOH-jGTIoXV",
        "outputId": "4c075d15-deae-4ee2-bf2a-bd8628c1b0ab"
      },
      "execution_count": null,
      "outputs": [
        {
          "output_type": "execute_result",
          "data": {
            "text/plain": [
              "1170"
            ]
          },
          "metadata": {},
          "execution_count": 270
        }
      ]
    },
    {
      "cell_type": "code",
      "source": [
        "len(df_fly_nj_planes)"
      ],
      "metadata": {
        "colab": {
          "base_uri": "https://localhost:8080/"
        },
        "id": "53meVWAfIyOs",
        "outputId": "f1609d55-d85d-4e40-c4c2-fa2f3c1a4fb0"
      },
      "execution_count": null,
      "outputs": [
        {
          "output_type": "execute_result",
          "data": {
            "text/plain": [
              "317"
            ]
          },
          "metadata": {},
          "execution_count": 272
        }
      ]
    },
    {
      "cell_type": "code",
      "source": [
        "#exporting and saving df_fly_nj_planes file to my google drive\n",
        "path = '/content/drive/My Drive/df_fly_nj_planes.csv'\n",
        "with open(path, 'w', encoding = 'utf-8-sig') as f:\n",
        " df_fly_nj_planes.to_csv(f)"
      ],
      "metadata": {
        "id": "2NKqrw2ZUCXL"
      },
      "execution_count": null,
      "outputs": []
    },
    {
      "cell_type": "code",
      "source": [
        "#exporting and saving df_fly_nj file to my google drive\n",
        "path = '/content/drive/My Drive/df_fly_nj.csv'\n",
        "with open(path, 'w', encoding = 'utf-8-sig') as f:\n",
        " df_fly_nj.to_csv(f)"
      ],
      "metadata": {
        "id": "O_NhbTEXUGxB"
      },
      "execution_count": null,
      "outputs": []
    },
    {
      "cell_type": "markdown",
      "source": [
        "**State 36: New Mexico**"
      ],
      "metadata": {
        "id": "YgRuwO6yNoEa"
      }
    },
    {
      "cell_type": "code",
      "source": [
        "# New Mexico, all aircraft\n",
        "df_fly_nm = df[df['State'] == 'NM']"
      ],
      "metadata": {
        "id": "HKlf3OVriO4b"
      },
      "execution_count": null,
      "outputs": []
    },
    {
      "cell_type": "code",
      "source": [
        "# New Mexico, only airplanes\n",
        "df_fly_nm_planes = df_fly_nm[df_fly_nm['Aircraft.Category'] == 'Airplane']"
      ],
      "metadata": {
        "id": "xqa2XmcFI3Ud"
      },
      "execution_count": null,
      "outputs": []
    },
    {
      "cell_type": "code",
      "source": [
        "# comparing length of df before and after filtering for airplanes only\n",
        "len(df_fly_nm)"
      ],
      "metadata": {
        "colab": {
          "base_uri": "https://localhost:8080/"
        },
        "id": "cWNqlFpKI2GG",
        "outputId": "9ea642b4-723b-47ae-f9cf-3c23ffa42229"
      },
      "execution_count": null,
      "outputs": [
        {
          "output_type": "execute_result",
          "data": {
            "text/plain": [
              "1358"
            ]
          },
          "metadata": {},
          "execution_count": 273
        }
      ]
    },
    {
      "cell_type": "code",
      "source": [
        "len(df_fly_nm_planes)"
      ],
      "metadata": {
        "colab": {
          "base_uri": "https://localhost:8080/"
        },
        "id": "HUckK18vI8NF",
        "outputId": "165ab6aa-6c16-4ede-db83-9b26a87cdcda"
      },
      "execution_count": null,
      "outputs": [
        {
          "output_type": "execute_result",
          "data": {
            "text/plain": [
              "358"
            ]
          },
          "metadata": {},
          "execution_count": 276
        }
      ]
    },
    {
      "cell_type": "code",
      "source": [
        "#exporting and saving df_fly_nm_planes file to my google drive\n",
        "path = '/content/drive/My Drive/df_fly_nm_planes.csv'\n",
        "with open(path, 'w', encoding = 'utf-8-sig') as f:\n",
        " df_fly_nm_planes.to_csv(f)"
      ],
      "metadata": {
        "id": "PEnrYkPeUMnh"
      },
      "execution_count": null,
      "outputs": []
    },
    {
      "cell_type": "code",
      "source": [
        "#exporting and saving df_fly_nm file to my google drive\n",
        "path = '/content/drive/My Drive/df_fly_nm.csv'\n",
        "with open(path, 'w', encoding = 'utf-8-sig') as f:\n",
        " df_fly_nm.to_csv(f)"
      ],
      "metadata": {
        "id": "aF0RRTCpUTNN"
      },
      "execution_count": null,
      "outputs": []
    },
    {
      "cell_type": "markdown",
      "source": [
        "**State 37: Nevada**"
      ],
      "metadata": {
        "id": "KvcTkzi9N1Yc"
      }
    },
    {
      "cell_type": "code",
      "source": [
        "# Nevada, all aircraft\n",
        "df_fly_nv = df[df['State'] == 'NV']"
      ],
      "metadata": {
        "id": "hdlYFO3KiO9K"
      },
      "execution_count": null,
      "outputs": []
    },
    {
      "cell_type": "code",
      "source": [
        "# Nevada, only airplanes\n",
        "df_fly_nv_planes =df_fly_nv[df_fly_nv['Aircraft.Category'] == 'Airplane']"
      ],
      "metadata": {
        "id": "dFdnlQB6JIeH"
      },
      "execution_count": null,
      "outputs": []
    },
    {
      "cell_type": "code",
      "source": [
        "# comparing length of df before and after filtering for airplanes only\n",
        "len(df_fly_nv)"
      ],
      "metadata": {
        "colab": {
          "base_uri": "https://localhost:8080/"
        },
        "id": "50rhq4_EJEfb",
        "outputId": "47b5f8c5-5e78-4554-c2ee-6c690ba6ad79"
      },
      "execution_count": null,
      "outputs": [
        {
          "output_type": "execute_result",
          "data": {
            "text/plain": [
              "1236"
            ]
          },
          "metadata": {},
          "execution_count": 277
        }
      ]
    },
    {
      "cell_type": "code",
      "source": [
        "len(df_fly_nv_planes)"
      ],
      "metadata": {
        "colab": {
          "base_uri": "https://localhost:8080/"
        },
        "id": "ejR6GxKwJNMD",
        "outputId": "51315035-30a3-47ad-b242-25b440c525a6"
      },
      "execution_count": null,
      "outputs": [
        {
          "output_type": "execute_result",
          "data": {
            "text/plain": [
              "379"
            ]
          },
          "metadata": {},
          "execution_count": 279
        }
      ]
    },
    {
      "cell_type": "code",
      "source": [
        "#exporting and saving df_fly_nv_planes file to my google drive\n",
        "path = '/content/drive/My Drive/df_fly_nv_planes.csv'\n",
        "with open(path, 'w', encoding = 'utf-8-sig') as f:\n",
        " df_fly_nv_planes.to_csv(f)"
      ],
      "metadata": {
        "id": "6SjaWDHxUYLb"
      },
      "execution_count": null,
      "outputs": []
    },
    {
      "cell_type": "code",
      "source": [
        "#exporting and saving df_fly_nv file to my google drive\n",
        "path = '/content/drive/My Drive/df_fly_nv.csv'\n",
        "with open(path, 'w', encoding = 'utf-8-sig') as f:\n",
        " df_fly_nv.to_csv(f)"
      ],
      "metadata": {
        "id": "s4aTcd_eUclY"
      },
      "execution_count": null,
      "outputs": []
    },
    {
      "cell_type": "markdown",
      "source": [
        "**State 38: New York**"
      ],
      "metadata": {
        "id": "jlRG1sMlOOh5"
      }
    },
    {
      "cell_type": "code",
      "source": [
        "# comparing length of df before and after filtering for airplanes only\n",
        "len(df_fly_ny)"
      ],
      "metadata": {
        "colab": {
          "base_uri": "https://localhost:8080/"
        },
        "id": "zVC1RHznJUDA",
        "outputId": "9470e1fb-b98c-4ec3-ef6e-311b8978b029"
      },
      "execution_count": null,
      "outputs": [
        {
          "output_type": "execute_result",
          "data": {
            "text/plain": [
              "1915"
            ]
          },
          "metadata": {},
          "execution_count": 280
        }
      ]
    },
    {
      "cell_type": "code",
      "source": [
        "#38 New York\n",
        "df_fly_ny = df[df['State'] == 'NY']"
      ],
      "metadata": {
        "id": "YXAoYzkbixtK"
      },
      "execution_count": null,
      "outputs": []
    },
    {
      "cell_type": "code",
      "source": [
        "# Recall an NYC value in the unique state list.\n",
        "# make a NYC dataframe to concatenate with the NY dataframe.\n",
        "df_fly_nyc = df[df['State'] == 'NYC']\n"
      ],
      "metadata": {
        "colab": {
          "base_uri": "https://localhost:8080/",
          "height": 191
        },
        "id": "oZIf1LXVjNX_",
        "outputId": "f78eabe1-2f1d-4267-a487-060bef1d097a"
      },
      "execution_count": null,
      "outputs": [
        {
          "output_type": "execute_result",
          "data": {
            "text/plain": [
              "             Event.Id Investigation.Type Accident.Number  Event.Date  \\\n",
              "61547  20061018X01530           Accident      DCA07MA003  2006-10-11   \n",
              "\n",
              "                 Location        Country Latitude Longitude Airport.Code  \\\n",
              "61547  Manhattan, NYC, NY  United States      NaN       NaN          NaN   \n",
              "\n",
              "      Airport.Name  ... Air.carrier Total.Fatal.Injuries  \\\n",
              "61547          NaN  ...         NaN                  2.0   \n",
              "\n",
              "      Total.Serious.Injuries Total.Minor.Injuries Total.Uninjured  \\\n",
              "61547                    1.0                  2.0             NaN   \n",
              "\n",
              "      Weather.Condition Broad.phase.of.flight   Report.Status  \\\n",
              "61547               VMC           Maneuvering  Probable Cause   \n",
              "\n",
              "      Publication.Date State  \n",
              "61547       27-06-2007   NYC  \n",
              "\n",
              "[1 rows x 32 columns]"
            ],
            "text/html": [
              "\n",
              "  <div id=\"df-2e4cb877-ea33-4ce1-8c04-a532f33465d4\">\n",
              "    <div class=\"colab-df-container\">\n",
              "      <div>\n",
              "<style scoped>\n",
              "    .dataframe tbody tr th:only-of-type {\n",
              "        vertical-align: middle;\n",
              "    }\n",
              "\n",
              "    .dataframe tbody tr th {\n",
              "        vertical-align: top;\n",
              "    }\n",
              "\n",
              "    .dataframe thead th {\n",
              "        text-align: right;\n",
              "    }\n",
              "</style>\n",
              "<table border=\"1\" class=\"dataframe\">\n",
              "  <thead>\n",
              "    <tr style=\"text-align: right;\">\n",
              "      <th></th>\n",
              "      <th>Event.Id</th>\n",
              "      <th>Investigation.Type</th>\n",
              "      <th>Accident.Number</th>\n",
              "      <th>Event.Date</th>\n",
              "      <th>Location</th>\n",
              "      <th>Country</th>\n",
              "      <th>Latitude</th>\n",
              "      <th>Longitude</th>\n",
              "      <th>Airport.Code</th>\n",
              "      <th>Airport.Name</th>\n",
              "      <th>...</th>\n",
              "      <th>Air.carrier</th>\n",
              "      <th>Total.Fatal.Injuries</th>\n",
              "      <th>Total.Serious.Injuries</th>\n",
              "      <th>Total.Minor.Injuries</th>\n",
              "      <th>Total.Uninjured</th>\n",
              "      <th>Weather.Condition</th>\n",
              "      <th>Broad.phase.of.flight</th>\n",
              "      <th>Report.Status</th>\n",
              "      <th>Publication.Date</th>\n",
              "      <th>State</th>\n",
              "    </tr>\n",
              "  </thead>\n",
              "  <tbody>\n",
              "    <tr>\n",
              "      <th>61547</th>\n",
              "      <td>20061018X01530</td>\n",
              "      <td>Accident</td>\n",
              "      <td>DCA07MA003</td>\n",
              "      <td>2006-10-11</td>\n",
              "      <td>Manhattan, NYC, NY</td>\n",
              "      <td>United States</td>\n",
              "      <td>NaN</td>\n",
              "      <td>NaN</td>\n",
              "      <td>NaN</td>\n",
              "      <td>NaN</td>\n",
              "      <td>...</td>\n",
              "      <td>NaN</td>\n",
              "      <td>2.0</td>\n",
              "      <td>1.0</td>\n",
              "      <td>2.0</td>\n",
              "      <td>NaN</td>\n",
              "      <td>VMC</td>\n",
              "      <td>Maneuvering</td>\n",
              "      <td>Probable Cause</td>\n",
              "      <td>27-06-2007</td>\n",
              "      <td>NYC</td>\n",
              "    </tr>\n",
              "  </tbody>\n",
              "</table>\n",
              "<p>1 rows × 32 columns</p>\n",
              "</div>\n",
              "      <button class=\"colab-df-convert\" onclick=\"convertToInteractive('df-2e4cb877-ea33-4ce1-8c04-a532f33465d4')\"\n",
              "              title=\"Convert this dataframe to an interactive table.\"\n",
              "              style=\"display:none;\">\n",
              "        \n",
              "  <svg xmlns=\"http://www.w3.org/2000/svg\" height=\"24px\"viewBox=\"0 0 24 24\"\n",
              "       width=\"24px\">\n",
              "    <path d=\"M0 0h24v24H0V0z\" fill=\"none\"/>\n",
              "    <path d=\"M18.56 5.44l.94 2.06.94-2.06 2.06-.94-2.06-.94-.94-2.06-.94 2.06-2.06.94zm-11 1L8.5 8.5l.94-2.06 2.06-.94-2.06-.94L8.5 2.5l-.94 2.06-2.06.94zm10 10l.94 2.06.94-2.06 2.06-.94-2.06-.94-.94-2.06-.94 2.06-2.06.94z\"/><path d=\"M17.41 7.96l-1.37-1.37c-.4-.4-.92-.59-1.43-.59-.52 0-1.04.2-1.43.59L10.3 9.45l-7.72 7.72c-.78.78-.78 2.05 0 2.83L4 21.41c.39.39.9.59 1.41.59.51 0 1.02-.2 1.41-.59l7.78-7.78 2.81-2.81c.8-.78.8-2.07 0-2.86zM5.41 20L4 18.59l7.72-7.72 1.47 1.35L5.41 20z\"/>\n",
              "  </svg>\n",
              "      </button>\n",
              "      \n",
              "  <style>\n",
              "    .colab-df-container {\n",
              "      display:flex;\n",
              "      flex-wrap:wrap;\n",
              "      gap: 12px;\n",
              "    }\n",
              "\n",
              "    .colab-df-convert {\n",
              "      background-color: #E8F0FE;\n",
              "      border: none;\n",
              "      border-radius: 50%;\n",
              "      cursor: pointer;\n",
              "      display: none;\n",
              "      fill: #1967D2;\n",
              "      height: 32px;\n",
              "      padding: 0 0 0 0;\n",
              "      width: 32px;\n",
              "    }\n",
              "\n",
              "    .colab-df-convert:hover {\n",
              "      background-color: #E2EBFA;\n",
              "      box-shadow: 0px 1px 2px rgba(60, 64, 67, 0.3), 0px 1px 3px 1px rgba(60, 64, 67, 0.15);\n",
              "      fill: #174EA6;\n",
              "    }\n",
              "\n",
              "    [theme=dark] .colab-df-convert {\n",
              "      background-color: #3B4455;\n",
              "      fill: #D2E3FC;\n",
              "    }\n",
              "\n",
              "    [theme=dark] .colab-df-convert:hover {\n",
              "      background-color: #434B5C;\n",
              "      box-shadow: 0px 1px 3px 1px rgba(0, 0, 0, 0.15);\n",
              "      filter: drop-shadow(0px 1px 2px rgba(0, 0, 0, 0.3));\n",
              "      fill: #FFFFFF;\n",
              "    }\n",
              "  </style>\n",
              "\n",
              "      <script>\n",
              "        const buttonEl =\n",
              "          document.querySelector('#df-2e4cb877-ea33-4ce1-8c04-a532f33465d4 button.colab-df-convert');\n",
              "        buttonEl.style.display =\n",
              "          google.colab.kernel.accessAllowed ? 'block' : 'none';\n",
              "\n",
              "        async function convertToInteractive(key) {\n",
              "          const element = document.querySelector('#df-2e4cb877-ea33-4ce1-8c04-a532f33465d4');\n",
              "          const dataTable =\n",
              "            await google.colab.kernel.invokeFunction('convertToInteractive',\n",
              "                                                     [key], {});\n",
              "          if (!dataTable) return;\n",
              "\n",
              "          const docLinkHtml = 'Like what you see? Visit the ' +\n",
              "            '<a target=\"_blank\" href=https://colab.research.google.com/notebooks/data_table.ipynb>data table notebook</a>'\n",
              "            + ' to learn more about interactive tables.';\n",
              "          element.innerHTML = '';\n",
              "          dataTable['output_type'] = 'display_data';\n",
              "          await google.colab.output.renderOutput(dataTable, element);\n",
              "          const docLink = document.createElement('div');\n",
              "          docLink.innerHTML = docLinkHtml;\n",
              "          element.appendChild(docLink);\n",
              "        }\n",
              "      </script>\n",
              "    </div>\n",
              "  </div>\n",
              "  "
            ]
          },
          "metadata": {},
          "execution_count": 86
        }
      ]
    },
    {
      "cell_type": "code",
      "source": [
        "# concatenate NY + NYC!\n",
        "df_fly_ny  = pd.concat([df_fly_ny, df_fly_nyc ], ignore_index = True)\n",
        "df_fly_ny .reset_index()\n",
        "  \n",
        "display(df_fly_ny)"
      ],
      "metadata": {
        "colab": {
          "base_uri": "https://localhost:8080/",
          "height": 661
        },
        "id": "Q_ZbOE1Ttm4b",
        "outputId": "e26feb0f-4bda-4c02-ab25-cbf7503a3c18"
      },
      "execution_count": null,
      "outputs": [
        {
          "output_type": "display_data",
          "data": {
            "text/plain": [
              "            Event.Id Investigation.Type Accident.Number  Event.Date  \\\n",
              "0     20020917X02483           Accident      NYC82DA018  1982-01-03   \n",
              "1     20020917X01906           Accident      DCA82AA009  1982-01-05   \n",
              "2     20020917X02484           Accident      NYC82DA019  1982-01-08   \n",
              "3     20020917X02538           Accident      NYC82FA021  1982-01-15   \n",
              "4     20020917X02547           Accident      NYC82FFA03  1982-01-31   \n",
              "...              ...                ...             ...         ...   \n",
              "1910  20221006106079           Accident      ERA23FA007  2022-10-06   \n",
              "1911  20221010106088           Accident      ERA23LA012  2022-10-09   \n",
              "1912  20221108106258           Accident      ERA23LA050  2022-11-05   \n",
              "1913  20221212106440           Accident      ERA23LA084  2022-12-11   \n",
              "1914  20061018X01530           Accident      DCA07MA003  2006-10-11   \n",
              "\n",
              "                Location        Country Latitude Longitude Airport.Code  \\\n",
              "0       WHITE PLAINS, NY  United States      NaN       NaN          HPN   \n",
              "1             ITHACA, NY  United States      NaN       NaN          NaN   \n",
              "2          CUTCHOGUE, NY  United States      NaN       NaN          NaN   \n",
              "3            JAMAICA, NY  United States      NaN       NaN          JFK   \n",
              "4        LAKE PLACID, NY  United States      NaN       NaN          LKP   \n",
              "...                  ...            ...      ...       ...          ...   \n",
              "1910    East Hampton, NY  United States  041014N  0721125W          NaN   \n",
              "1911      Northville, NY  United States  431125N  0741014W          NaN   \n",
              "1912     Farmingdale, NY  United States  404417N  0732334W          FRG   \n",
              "1913      Fox Island, NY  United States      NaN       NaN          NaN   \n",
              "1914  Manhattan, NYC, NY  United States      NaN       NaN          NaN   \n",
              "\n",
              "               Airport.Name  ...         Air.carrier Total.Fatal.Injuries  \\\n",
              "0        WESTCHESTER COUNTY  ...                 NaN                  0.0   \n",
              "1           TOMPKINS COUNTY  ...     Empire Airlines                  2.0   \n",
              "2                       NaN  ...                 NaN                  0.0   \n",
              "3     JOHN F. KENNEDY INT'L  ...     Pocono Airlines                  0.0   \n",
              "4               LAKE PLACID  ...                 NaN                  0.0   \n",
              "...                     ...  ...                 ...                  ...   \n",
              "1910                    NaN  ...                 NaN                  1.0   \n",
              "1911                    NaN  ...  CLEMENTE MOTOR INC                  0.0   \n",
              "1912       Republic Airport  ...                 NaN                  0.0   \n",
              "1913                    NaN  ...      N7047X-R22 LLC                  0.0   \n",
              "1914                    NaN  ...                 NaN                  2.0   \n",
              "\n",
              "     Total.Serious.Injuries Total.Minor.Injuries Total.Uninjured  \\\n",
              "0                       0.0                  0.0             2.0   \n",
              "1                       0.0                  0.0             0.0   \n",
              "2                       0.0                  0.0             1.0   \n",
              "3                       1.0                  2.0            12.0   \n",
              "4                       0.0                  1.0             1.0   \n",
              "...                     ...                  ...             ...   \n",
              "1910                    0.0                  0.0             0.0   \n",
              "1911                    1.0                  0.0             2.0   \n",
              "1912                    2.0                  0.0             0.0   \n",
              "1913                    0.0                  0.0             0.0   \n",
              "1914                    1.0                  2.0             NaN   \n",
              "\n",
              "     Weather.Condition Broad.phase.of.flight   Report.Status Publication.Date  \\\n",
              "0                  VMC               Landing  Probable Cause       03-01-1983   \n",
              "1                  VMC              Approach  Probable Cause       05-01-1983   \n",
              "2                  VMC                Cruise  Probable Cause       08-01-1983   \n",
              "3                  VMC               Takeoff  Probable Cause       15-01-1983   \n",
              "4                  VMC               Takeoff  Probable Cause       31-01-1983   \n",
              "...                ...                   ...             ...              ...   \n",
              "1910               VMC                   NaN             NaN       18-10-2022   \n",
              "1911               NaN                   NaN             NaN       26-10-2022   \n",
              "1912               VMC                   NaN             NaN       21-11-2022   \n",
              "1913               NaN                   NaN             NaN              NaN   \n",
              "1914               VMC           Maneuvering  Probable Cause       27-06-2007   \n",
              "\n",
              "     State  \n",
              "0       NY  \n",
              "1       NY  \n",
              "2       NY  \n",
              "3       NY  \n",
              "4       NY  \n",
              "...    ...  \n",
              "1910    NY  \n",
              "1911    NY  \n",
              "1912    NY  \n",
              "1913    NY  \n",
              "1914   NYC  \n",
              "\n",
              "[1915 rows x 32 columns]"
            ],
            "text/html": [
              "\n",
              "  <div id=\"df-84e45b22-0686-4eb9-ab0f-fcf1161b78d8\">\n",
              "    <div class=\"colab-df-container\">\n",
              "      <div>\n",
              "<style scoped>\n",
              "    .dataframe tbody tr th:only-of-type {\n",
              "        vertical-align: middle;\n",
              "    }\n",
              "\n",
              "    .dataframe tbody tr th {\n",
              "        vertical-align: top;\n",
              "    }\n",
              "\n",
              "    .dataframe thead th {\n",
              "        text-align: right;\n",
              "    }\n",
              "</style>\n",
              "<table border=\"1\" class=\"dataframe\">\n",
              "  <thead>\n",
              "    <tr style=\"text-align: right;\">\n",
              "      <th></th>\n",
              "      <th>Event.Id</th>\n",
              "      <th>Investigation.Type</th>\n",
              "      <th>Accident.Number</th>\n",
              "      <th>Event.Date</th>\n",
              "      <th>Location</th>\n",
              "      <th>Country</th>\n",
              "      <th>Latitude</th>\n",
              "      <th>Longitude</th>\n",
              "      <th>Airport.Code</th>\n",
              "      <th>Airport.Name</th>\n",
              "      <th>...</th>\n",
              "      <th>Air.carrier</th>\n",
              "      <th>Total.Fatal.Injuries</th>\n",
              "      <th>Total.Serious.Injuries</th>\n",
              "      <th>Total.Minor.Injuries</th>\n",
              "      <th>Total.Uninjured</th>\n",
              "      <th>Weather.Condition</th>\n",
              "      <th>Broad.phase.of.flight</th>\n",
              "      <th>Report.Status</th>\n",
              "      <th>Publication.Date</th>\n",
              "      <th>State</th>\n",
              "    </tr>\n",
              "  </thead>\n",
              "  <tbody>\n",
              "    <tr>\n",
              "      <th>0</th>\n",
              "      <td>20020917X02483</td>\n",
              "      <td>Accident</td>\n",
              "      <td>NYC82DA018</td>\n",
              "      <td>1982-01-03</td>\n",
              "      <td>WHITE PLAINS, NY</td>\n",
              "      <td>United States</td>\n",
              "      <td>NaN</td>\n",
              "      <td>NaN</td>\n",
              "      <td>HPN</td>\n",
              "      <td>WESTCHESTER COUNTY</td>\n",
              "      <td>...</td>\n",
              "      <td>NaN</td>\n",
              "      <td>0.0</td>\n",
              "      <td>0.0</td>\n",
              "      <td>0.0</td>\n",
              "      <td>2.0</td>\n",
              "      <td>VMC</td>\n",
              "      <td>Landing</td>\n",
              "      <td>Probable Cause</td>\n",
              "      <td>03-01-1983</td>\n",
              "      <td>NY</td>\n",
              "    </tr>\n",
              "    <tr>\n",
              "      <th>1</th>\n",
              "      <td>20020917X01906</td>\n",
              "      <td>Accident</td>\n",
              "      <td>DCA82AA009</td>\n",
              "      <td>1982-01-05</td>\n",
              "      <td>ITHACA, NY</td>\n",
              "      <td>United States</td>\n",
              "      <td>NaN</td>\n",
              "      <td>NaN</td>\n",
              "      <td>NaN</td>\n",
              "      <td>TOMPKINS COUNTY</td>\n",
              "      <td>...</td>\n",
              "      <td>Empire Airlines</td>\n",
              "      <td>2.0</td>\n",
              "      <td>0.0</td>\n",
              "      <td>0.0</td>\n",
              "      <td>0.0</td>\n",
              "      <td>VMC</td>\n",
              "      <td>Approach</td>\n",
              "      <td>Probable Cause</td>\n",
              "      <td>05-01-1983</td>\n",
              "      <td>NY</td>\n",
              "    </tr>\n",
              "    <tr>\n",
              "      <th>2</th>\n",
              "      <td>20020917X02484</td>\n",
              "      <td>Accident</td>\n",
              "      <td>NYC82DA019</td>\n",
              "      <td>1982-01-08</td>\n",
              "      <td>CUTCHOGUE, NY</td>\n",
              "      <td>United States</td>\n",
              "      <td>NaN</td>\n",
              "      <td>NaN</td>\n",
              "      <td>NaN</td>\n",
              "      <td>NaN</td>\n",
              "      <td>...</td>\n",
              "      <td>NaN</td>\n",
              "      <td>0.0</td>\n",
              "      <td>0.0</td>\n",
              "      <td>0.0</td>\n",
              "      <td>1.0</td>\n",
              "      <td>VMC</td>\n",
              "      <td>Cruise</td>\n",
              "      <td>Probable Cause</td>\n",
              "      <td>08-01-1983</td>\n",
              "      <td>NY</td>\n",
              "    </tr>\n",
              "    <tr>\n",
              "      <th>3</th>\n",
              "      <td>20020917X02538</td>\n",
              "      <td>Accident</td>\n",
              "      <td>NYC82FA021</td>\n",
              "      <td>1982-01-15</td>\n",
              "      <td>JAMAICA, NY</td>\n",
              "      <td>United States</td>\n",
              "      <td>NaN</td>\n",
              "      <td>NaN</td>\n",
              "      <td>JFK</td>\n",
              "      <td>JOHN F. KENNEDY INT'L</td>\n",
              "      <td>...</td>\n",
              "      <td>Pocono Airlines</td>\n",
              "      <td>0.0</td>\n",
              "      <td>1.0</td>\n",
              "      <td>2.0</td>\n",
              "      <td>12.0</td>\n",
              "      <td>VMC</td>\n",
              "      <td>Takeoff</td>\n",
              "      <td>Probable Cause</td>\n",
              "      <td>15-01-1983</td>\n",
              "      <td>NY</td>\n",
              "    </tr>\n",
              "    <tr>\n",
              "      <th>4</th>\n",
              "      <td>20020917X02547</td>\n",
              "      <td>Accident</td>\n",
              "      <td>NYC82FFA03</td>\n",
              "      <td>1982-01-31</td>\n",
              "      <td>LAKE PLACID, NY</td>\n",
              "      <td>United States</td>\n",
              "      <td>NaN</td>\n",
              "      <td>NaN</td>\n",
              "      <td>LKP</td>\n",
              "      <td>LAKE PLACID</td>\n",
              "      <td>...</td>\n",
              "      <td>NaN</td>\n",
              "      <td>0.0</td>\n",
              "      <td>0.0</td>\n",
              "      <td>1.0</td>\n",
              "      <td>1.0</td>\n",
              "      <td>VMC</td>\n",
              "      <td>Takeoff</td>\n",
              "      <td>Probable Cause</td>\n",
              "      <td>31-01-1983</td>\n",
              "      <td>NY</td>\n",
              "    </tr>\n",
              "    <tr>\n",
              "      <th>...</th>\n",
              "      <td>...</td>\n",
              "      <td>...</td>\n",
              "      <td>...</td>\n",
              "      <td>...</td>\n",
              "      <td>...</td>\n",
              "      <td>...</td>\n",
              "      <td>...</td>\n",
              "      <td>...</td>\n",
              "      <td>...</td>\n",
              "      <td>...</td>\n",
              "      <td>...</td>\n",
              "      <td>...</td>\n",
              "      <td>...</td>\n",
              "      <td>...</td>\n",
              "      <td>...</td>\n",
              "      <td>...</td>\n",
              "      <td>...</td>\n",
              "      <td>...</td>\n",
              "      <td>...</td>\n",
              "      <td>...</td>\n",
              "      <td>...</td>\n",
              "    </tr>\n",
              "    <tr>\n",
              "      <th>1910</th>\n",
              "      <td>20221006106079</td>\n",
              "      <td>Accident</td>\n",
              "      <td>ERA23FA007</td>\n",
              "      <td>2022-10-06</td>\n",
              "      <td>East Hampton, NY</td>\n",
              "      <td>United States</td>\n",
              "      <td>041014N</td>\n",
              "      <td>0721125W</td>\n",
              "      <td>NaN</td>\n",
              "      <td>NaN</td>\n",
              "      <td>...</td>\n",
              "      <td>NaN</td>\n",
              "      <td>1.0</td>\n",
              "      <td>0.0</td>\n",
              "      <td>0.0</td>\n",
              "      <td>0.0</td>\n",
              "      <td>VMC</td>\n",
              "      <td>NaN</td>\n",
              "      <td>NaN</td>\n",
              "      <td>18-10-2022</td>\n",
              "      <td>NY</td>\n",
              "    </tr>\n",
              "    <tr>\n",
              "      <th>1911</th>\n",
              "      <td>20221010106088</td>\n",
              "      <td>Accident</td>\n",
              "      <td>ERA23LA012</td>\n",
              "      <td>2022-10-09</td>\n",
              "      <td>Northville, NY</td>\n",
              "      <td>United States</td>\n",
              "      <td>431125N</td>\n",
              "      <td>0741014W</td>\n",
              "      <td>NaN</td>\n",
              "      <td>NaN</td>\n",
              "      <td>...</td>\n",
              "      <td>CLEMENTE MOTOR INC</td>\n",
              "      <td>0.0</td>\n",
              "      <td>1.0</td>\n",
              "      <td>0.0</td>\n",
              "      <td>2.0</td>\n",
              "      <td>NaN</td>\n",
              "      <td>NaN</td>\n",
              "      <td>NaN</td>\n",
              "      <td>26-10-2022</td>\n",
              "      <td>NY</td>\n",
              "    </tr>\n",
              "    <tr>\n",
              "      <th>1912</th>\n",
              "      <td>20221108106258</td>\n",
              "      <td>Accident</td>\n",
              "      <td>ERA23LA050</td>\n",
              "      <td>2022-11-05</td>\n",
              "      <td>Farmingdale, NY</td>\n",
              "      <td>United States</td>\n",
              "      <td>404417N</td>\n",
              "      <td>0732334W</td>\n",
              "      <td>FRG</td>\n",
              "      <td>Republic Airport</td>\n",
              "      <td>...</td>\n",
              "      <td>NaN</td>\n",
              "      <td>0.0</td>\n",
              "      <td>2.0</td>\n",
              "      <td>0.0</td>\n",
              "      <td>0.0</td>\n",
              "      <td>VMC</td>\n",
              "      <td>NaN</td>\n",
              "      <td>NaN</td>\n",
              "      <td>21-11-2022</td>\n",
              "      <td>NY</td>\n",
              "    </tr>\n",
              "    <tr>\n",
              "      <th>1913</th>\n",
              "      <td>20221212106440</td>\n",
              "      <td>Accident</td>\n",
              "      <td>ERA23LA084</td>\n",
              "      <td>2022-12-11</td>\n",
              "      <td>Fox Island, NY</td>\n",
              "      <td>United States</td>\n",
              "      <td>NaN</td>\n",
              "      <td>NaN</td>\n",
              "      <td>NaN</td>\n",
              "      <td>NaN</td>\n",
              "      <td>...</td>\n",
              "      <td>N7047X-R22 LLC</td>\n",
              "      <td>0.0</td>\n",
              "      <td>0.0</td>\n",
              "      <td>0.0</td>\n",
              "      <td>0.0</td>\n",
              "      <td>NaN</td>\n",
              "      <td>NaN</td>\n",
              "      <td>NaN</td>\n",
              "      <td>NaN</td>\n",
              "      <td>NY</td>\n",
              "    </tr>\n",
              "    <tr>\n",
              "      <th>1914</th>\n",
              "      <td>20061018X01530</td>\n",
              "      <td>Accident</td>\n",
              "      <td>DCA07MA003</td>\n",
              "      <td>2006-10-11</td>\n",
              "      <td>Manhattan, NYC, NY</td>\n",
              "      <td>United States</td>\n",
              "      <td>NaN</td>\n",
              "      <td>NaN</td>\n",
              "      <td>NaN</td>\n",
              "      <td>NaN</td>\n",
              "      <td>...</td>\n",
              "      <td>NaN</td>\n",
              "      <td>2.0</td>\n",
              "      <td>1.0</td>\n",
              "      <td>2.0</td>\n",
              "      <td>NaN</td>\n",
              "      <td>VMC</td>\n",
              "      <td>Maneuvering</td>\n",
              "      <td>Probable Cause</td>\n",
              "      <td>27-06-2007</td>\n",
              "      <td>NYC</td>\n",
              "    </tr>\n",
              "  </tbody>\n",
              "</table>\n",
              "<p>1915 rows × 32 columns</p>\n",
              "</div>\n",
              "      <button class=\"colab-df-convert\" onclick=\"convertToInteractive('df-84e45b22-0686-4eb9-ab0f-fcf1161b78d8')\"\n",
              "              title=\"Convert this dataframe to an interactive table.\"\n",
              "              style=\"display:none;\">\n",
              "        \n",
              "  <svg xmlns=\"http://www.w3.org/2000/svg\" height=\"24px\"viewBox=\"0 0 24 24\"\n",
              "       width=\"24px\">\n",
              "    <path d=\"M0 0h24v24H0V0z\" fill=\"none\"/>\n",
              "    <path d=\"M18.56 5.44l.94 2.06.94-2.06 2.06-.94-2.06-.94-.94-2.06-.94 2.06-2.06.94zm-11 1L8.5 8.5l.94-2.06 2.06-.94-2.06-.94L8.5 2.5l-.94 2.06-2.06.94zm10 10l.94 2.06.94-2.06 2.06-.94-2.06-.94-.94-2.06-.94 2.06-2.06.94z\"/><path d=\"M17.41 7.96l-1.37-1.37c-.4-.4-.92-.59-1.43-.59-.52 0-1.04.2-1.43.59L10.3 9.45l-7.72 7.72c-.78.78-.78 2.05 0 2.83L4 21.41c.39.39.9.59 1.41.59.51 0 1.02-.2 1.41-.59l7.78-7.78 2.81-2.81c.8-.78.8-2.07 0-2.86zM5.41 20L4 18.59l7.72-7.72 1.47 1.35L5.41 20z\"/>\n",
              "  </svg>\n",
              "      </button>\n",
              "      \n",
              "  <style>\n",
              "    .colab-df-container {\n",
              "      display:flex;\n",
              "      flex-wrap:wrap;\n",
              "      gap: 12px;\n",
              "    }\n",
              "\n",
              "    .colab-df-convert {\n",
              "      background-color: #E8F0FE;\n",
              "      border: none;\n",
              "      border-radius: 50%;\n",
              "      cursor: pointer;\n",
              "      display: none;\n",
              "      fill: #1967D2;\n",
              "      height: 32px;\n",
              "      padding: 0 0 0 0;\n",
              "      width: 32px;\n",
              "    }\n",
              "\n",
              "    .colab-df-convert:hover {\n",
              "      background-color: #E2EBFA;\n",
              "      box-shadow: 0px 1px 2px rgba(60, 64, 67, 0.3), 0px 1px 3px 1px rgba(60, 64, 67, 0.15);\n",
              "      fill: #174EA6;\n",
              "    }\n",
              "\n",
              "    [theme=dark] .colab-df-convert {\n",
              "      background-color: #3B4455;\n",
              "      fill: #D2E3FC;\n",
              "    }\n",
              "\n",
              "    [theme=dark] .colab-df-convert:hover {\n",
              "      background-color: #434B5C;\n",
              "      box-shadow: 0px 1px 3px 1px rgba(0, 0, 0, 0.15);\n",
              "      filter: drop-shadow(0px 1px 2px rgba(0, 0, 0, 0.3));\n",
              "      fill: #FFFFFF;\n",
              "    }\n",
              "  </style>\n",
              "\n",
              "      <script>\n",
              "        const buttonEl =\n",
              "          document.querySelector('#df-84e45b22-0686-4eb9-ab0f-fcf1161b78d8 button.colab-df-convert');\n",
              "        buttonEl.style.display =\n",
              "          google.colab.kernel.accessAllowed ? 'block' : 'none';\n",
              "\n",
              "        async function convertToInteractive(key) {\n",
              "          const element = document.querySelector('#df-84e45b22-0686-4eb9-ab0f-fcf1161b78d8');\n",
              "          const dataTable =\n",
              "            await google.colab.kernel.invokeFunction('convertToInteractive',\n",
              "                                                     [key], {});\n",
              "          if (!dataTable) return;\n",
              "\n",
              "          const docLinkHtml = 'Like what you see? Visit the ' +\n",
              "            '<a target=\"_blank\" href=https://colab.research.google.com/notebooks/data_table.ipynb>data table notebook</a>'\n",
              "            + ' to learn more about interactive tables.';\n",
              "          element.innerHTML = '';\n",
              "          dataTable['output_type'] = 'display_data';\n",
              "          await google.colab.output.renderOutput(dataTable, element);\n",
              "          const docLink = document.createElement('div');\n",
              "          docLink.innerHTML = docLinkHtml;\n",
              "          element.appendChild(docLink);\n",
              "        }\n",
              "      </script>\n",
              "    </div>\n",
              "  </div>\n",
              "  "
            ]
          },
          "metadata": {}
        }
      ]
    },
    {
      "cell_type": "code",
      "source": [
        "# New York, only airplanes\n",
        "df_fly_ny_planes = df_fly_ny[df_fly_ny['Aircraft.Category'] == 'Airplane']"
      ],
      "metadata": {
        "id": "wxi93nw3JV8l"
      },
      "execution_count": null,
      "outputs": []
    },
    {
      "cell_type": "code",
      "source": [
        "# comparing length of this df to the length of all aircraft one above (1915 rows)\n",
        "len(df_fly_ny_planes)"
      ],
      "metadata": {
        "colab": {
          "base_uri": "https://localhost:8080/"
        },
        "id": "SQVAazK0Jeus",
        "outputId": "e114fc29-d287-4868-e3ca-36a868b8f448"
      },
      "execution_count": null,
      "outputs": [
        {
          "output_type": "execute_result",
          "data": {
            "text/plain": [
              "544"
            ]
          },
          "metadata": {},
          "execution_count": 282
        }
      ]
    },
    {
      "cell_type": "code",
      "source": [
        "#exporting and saving df_fly_ny_planes file to my google drive\n",
        "path = '/content/drive/My Drive/df_fly_ny_planes.csv'\n",
        "with open(path, 'w', encoding = 'utf-8-sig') as f:\n",
        " df_fly_ny_planes.to_csv(f)"
      ],
      "metadata": {
        "id": "xM_NGAHPUjAk"
      },
      "execution_count": null,
      "outputs": []
    },
    {
      "cell_type": "code",
      "source": [
        "#exporting and saving df_fly_ny file to my google drive\n",
        "path = '/content/drive/My Drive/df_fly_ny.csv'\n",
        "with open(path, 'w', encoding = 'utf-8-sig') as f:\n",
        " df_fly_ny.to_csv(f)"
      ],
      "metadata": {
        "id": "FXUv90cQUlxu"
      },
      "execution_count": null,
      "outputs": []
    },
    {
      "cell_type": "markdown",
      "source": [
        "Investigating the state 'OF' from our unique state list."
      ],
      "metadata": {
        "id": "gFNx5ybaPYKq"
      }
    },
    {
      "cell_type": "code",
      "source": [
        "# Make a dataframe of state 'OF'\n",
        "# It appears there are some records which belong in our USA dataframe\n",
        "# Including: Arctic Ocean (AO) and American Samoa\n",
        "df_fly_of = df[df['State'] == 'OF']\n",
        "df_fly_of"
      ],
      "metadata": {
        "colab": {
          "base_uri": "https://localhost:8080/",
          "height": 765
        },
        "id": "Q6egpkKnix8c",
        "outputId": "c96a6e22-dbcc-452a-959a-7c5d2dcfdb3b"
      },
      "execution_count": null,
      "outputs": [
        {
          "output_type": "execute_result",
          "data": {
            "text/plain": [
              "             Event.Id Investigation.Type Accident.Number  Event.Date  \\\n",
              "66576  20090826X84257           Incident      ENG09IA011  2009-06-14   \n",
              "81958  20180322X70555           Accident      ANC18LA027  2018-03-21   \n",
              "83791  20190311X92758           Accident      CEN19WA096  2019-03-10   \n",
              "84114  20190520X91748           Accident      CEN19RA145  2019-05-18   \n",
              "84192  20210407102886           Accident      GAA21WA067  2019-05-31   \n",
              "...               ...                ...             ...         ...   \n",
              "90099  20221011106102           Accident      GAA23WA005  2022-10-06   \n",
              "90100  20221012106112           Incident      DCA23WA013  2022-10-06   \n",
              "90208  20221104106247           Accident      GAA23WA024  2022-11-03   \n",
              "90296  20221209106436           Accident      ERA23LA081  2022-12-01   \n",
              "90331  20221214106459           Accident      GAA23WA042  2022-12-14   \n",
              "\n",
              "                         Location         Country Latitude Longitude  \\\n",
              "66576              Diyarbakir, OF          Turkey  375333N  0401159E   \n",
              "81958            Arctic Ocean, OF   United States  072183N  1484741W   \n",
              "83791               Escuintla, OF   United States  142248N  0904912W   \n",
              "84114                  Roatan, OF        Honduras  161920N  0863016W   \n",
              "84192             Keti Bandar, OF        Pakistan  024837N  0067272E   \n",
              "...                           ...             ...      ...       ...   \n",
              "90099                Maitland, OF  American Samoa  324125S  0151332E   \n",
              "90100                   Hatay, OF          Turkey      NaN       NaN   \n",
              "90208                  Jersey, OF  United Kingdom      NaN       NaN   \n",
              "90296          Guantanamo Bay, OF            Cuba  195422N  0751159W   \n",
              "90331  Happy Valley-Goose Bay, OF          Canada      NaN       NaN   \n",
              "\n",
              "      Airport.Code                    Airport.Name  ...  \\\n",
              "66576         LTCC              Diyarbakir Airport  ...   \n",
              "81958          NaN                             NaN  ...   \n",
              "83791          NaN                             NaN  ...   \n",
              "84114          NaN                             NaN  ...   \n",
              "84192          NaN                             NaN  ...   \n",
              "...            ...                             ...  ...   \n",
              "90099          NaN                             NaN  ...   \n",
              "90100          NaN                             NaN  ...   \n",
              "90208         EGJJ                             NaN  ...   \n",
              "90296         MUGM  GUANTANAMO BAY NAVAL AIR STATI  ...   \n",
              "90331          NaN                             NaN  ...   \n",
              "\n",
              "                         Air.carrier Total.Fatal.Injuries  \\\n",
              "66576             Tailwinds Airlines                  0.0   \n",
              "81958  BALD MOUNTAIN AIR SERVICE INC                  0.0   \n",
              "83791                            NaN                  2.0   \n",
              "84114                            NaN                  5.0   \n",
              "84192                            NaN                  0.0   \n",
              "...                              ...                  ...   \n",
              "90099                            NaN                  1.0   \n",
              "90100          Turkish Airlines A.O.                  0.0   \n",
              "90208                            NaN                  2.0   \n",
              "90296                     REVA, Inc.                  0.0   \n",
              "90331                            NaN                  0.0   \n",
              "\n",
              "      Total.Serious.Injuries Total.Minor.Injuries Total.Uninjured  \\\n",
              "66576                    2.0                  0.0             0.0   \n",
              "81958                    0.0                  0.0             5.0   \n",
              "83791                    0.0                  0.0             0.0   \n",
              "84114                    0.0                  0.0             0.0   \n",
              "84192                    0.0                  0.0             0.0   \n",
              "...                      ...                  ...             ...   \n",
              "90099                    0.0                  0.0             0.0   \n",
              "90100                    0.0                  0.0             0.0   \n",
              "90208                    0.0                  0.0             0.0   \n",
              "90296                    0.0                  0.0             4.0   \n",
              "90331                    0.0                  2.0             0.0   \n",
              "\n",
              "      Weather.Condition Broad.phase.of.flight  \\\n",
              "66576               VMC                   NaN   \n",
              "81958               VMC                   NaN   \n",
              "83791               NaN                   NaN   \n",
              "84114               NaN                   NaN   \n",
              "84192               NaN                   NaN   \n",
              "...                 ...                   ...   \n",
              "90099               NaN                   NaN   \n",
              "90100               NaN                   NaN   \n",
              "90208               NaN                   NaN   \n",
              "90296               VMC                   NaN   \n",
              "90331               NaN                   NaN   \n",
              "\n",
              "                                           Report.Status Publication.Date  \\\n",
              "66576  An uncommanded elevator surface deflection as ...       30-04-2021   \n",
              "81958  The flight crew's improper decision to deliber...       02-12-2020   \n",
              "83791                                                NaN              NaN   \n",
              "84114                                                NaN       13-12-2021   \n",
              "84192                                                NaN              NaN   \n",
              "...                                                  ...              ...   \n",
              "90099                                                NaN       08-11-2022   \n",
              "90100                                                NaN              NaN   \n",
              "90208                                                NaN       10-11-2022   \n",
              "90296                                                NaN       20-12-2022   \n",
              "90331                                                NaN       20-12-2022   \n",
              "\n",
              "      State  \n",
              "66576    OF  \n",
              "81958    OF  \n",
              "83791    OF  \n",
              "84114    OF  \n",
              "84192    OF  \n",
              "...     ...  \n",
              "90099    OF  \n",
              "90100    OF  \n",
              "90208    OF  \n",
              "90296    OF  \n",
              "90331    OF  \n",
              "\n",
              "[235 rows x 32 columns]"
            ],
            "text/html": [
              "\n",
              "  <div id=\"df-3cacfa31-023f-44f4-8219-163ec7194b0e\">\n",
              "    <div class=\"colab-df-container\">\n",
              "      <div>\n",
              "<style scoped>\n",
              "    .dataframe tbody tr th:only-of-type {\n",
              "        vertical-align: middle;\n",
              "    }\n",
              "\n",
              "    .dataframe tbody tr th {\n",
              "        vertical-align: top;\n",
              "    }\n",
              "\n",
              "    .dataframe thead th {\n",
              "        text-align: right;\n",
              "    }\n",
              "</style>\n",
              "<table border=\"1\" class=\"dataframe\">\n",
              "  <thead>\n",
              "    <tr style=\"text-align: right;\">\n",
              "      <th></th>\n",
              "      <th>Event.Id</th>\n",
              "      <th>Investigation.Type</th>\n",
              "      <th>Accident.Number</th>\n",
              "      <th>Event.Date</th>\n",
              "      <th>Location</th>\n",
              "      <th>Country</th>\n",
              "      <th>Latitude</th>\n",
              "      <th>Longitude</th>\n",
              "      <th>Airport.Code</th>\n",
              "      <th>Airport.Name</th>\n",
              "      <th>...</th>\n",
              "      <th>Air.carrier</th>\n",
              "      <th>Total.Fatal.Injuries</th>\n",
              "      <th>Total.Serious.Injuries</th>\n",
              "      <th>Total.Minor.Injuries</th>\n",
              "      <th>Total.Uninjured</th>\n",
              "      <th>Weather.Condition</th>\n",
              "      <th>Broad.phase.of.flight</th>\n",
              "      <th>Report.Status</th>\n",
              "      <th>Publication.Date</th>\n",
              "      <th>State</th>\n",
              "    </tr>\n",
              "  </thead>\n",
              "  <tbody>\n",
              "    <tr>\n",
              "      <th>66576</th>\n",
              "      <td>20090826X84257</td>\n",
              "      <td>Incident</td>\n",
              "      <td>ENG09IA011</td>\n",
              "      <td>2009-06-14</td>\n",
              "      <td>Diyarbakir, OF</td>\n",
              "      <td>Turkey</td>\n",
              "      <td>375333N</td>\n",
              "      <td>0401159E</td>\n",
              "      <td>LTCC</td>\n",
              "      <td>Diyarbakir Airport</td>\n",
              "      <td>...</td>\n",
              "      <td>Tailwinds Airlines</td>\n",
              "      <td>0.0</td>\n",
              "      <td>2.0</td>\n",
              "      <td>0.0</td>\n",
              "      <td>0.0</td>\n",
              "      <td>VMC</td>\n",
              "      <td>NaN</td>\n",
              "      <td>An uncommanded elevator surface deflection as ...</td>\n",
              "      <td>30-04-2021</td>\n",
              "      <td>OF</td>\n",
              "    </tr>\n",
              "    <tr>\n",
              "      <th>81958</th>\n",
              "      <td>20180322X70555</td>\n",
              "      <td>Accident</td>\n",
              "      <td>ANC18LA027</td>\n",
              "      <td>2018-03-21</td>\n",
              "      <td>Arctic Ocean, OF</td>\n",
              "      <td>United States</td>\n",
              "      <td>072183N</td>\n",
              "      <td>1484741W</td>\n",
              "      <td>NaN</td>\n",
              "      <td>NaN</td>\n",
              "      <td>...</td>\n",
              "      <td>BALD MOUNTAIN AIR SERVICE INC</td>\n",
              "      <td>0.0</td>\n",
              "      <td>0.0</td>\n",
              "      <td>0.0</td>\n",
              "      <td>5.0</td>\n",
              "      <td>VMC</td>\n",
              "      <td>NaN</td>\n",
              "      <td>The flight crew's improper decision to deliber...</td>\n",
              "      <td>02-12-2020</td>\n",
              "      <td>OF</td>\n",
              "    </tr>\n",
              "    <tr>\n",
              "      <th>83791</th>\n",
              "      <td>20190311X92758</td>\n",
              "      <td>Accident</td>\n",
              "      <td>CEN19WA096</td>\n",
              "      <td>2019-03-10</td>\n",
              "      <td>Escuintla, OF</td>\n",
              "      <td>United States</td>\n",
              "      <td>142248N</td>\n",
              "      <td>0904912W</td>\n",
              "      <td>NaN</td>\n",
              "      <td>NaN</td>\n",
              "      <td>...</td>\n",
              "      <td>NaN</td>\n",
              "      <td>2.0</td>\n",
              "      <td>0.0</td>\n",
              "      <td>0.0</td>\n",
              "      <td>0.0</td>\n",
              "      <td>NaN</td>\n",
              "      <td>NaN</td>\n",
              "      <td>NaN</td>\n",
              "      <td>NaN</td>\n",
              "      <td>OF</td>\n",
              "    </tr>\n",
              "    <tr>\n",
              "      <th>84114</th>\n",
              "      <td>20190520X91748</td>\n",
              "      <td>Accident</td>\n",
              "      <td>CEN19RA145</td>\n",
              "      <td>2019-05-18</td>\n",
              "      <td>Roatan, OF</td>\n",
              "      <td>Honduras</td>\n",
              "      <td>161920N</td>\n",
              "      <td>0863016W</td>\n",
              "      <td>NaN</td>\n",
              "      <td>NaN</td>\n",
              "      <td>...</td>\n",
              "      <td>NaN</td>\n",
              "      <td>5.0</td>\n",
              "      <td>0.0</td>\n",
              "      <td>0.0</td>\n",
              "      <td>0.0</td>\n",
              "      <td>NaN</td>\n",
              "      <td>NaN</td>\n",
              "      <td>NaN</td>\n",
              "      <td>13-12-2021</td>\n",
              "      <td>OF</td>\n",
              "    </tr>\n",
              "    <tr>\n",
              "      <th>84192</th>\n",
              "      <td>20210407102886</td>\n",
              "      <td>Accident</td>\n",
              "      <td>GAA21WA067</td>\n",
              "      <td>2019-05-31</td>\n",
              "      <td>Keti Bandar, OF</td>\n",
              "      <td>Pakistan</td>\n",
              "      <td>024837N</td>\n",
              "      <td>0067272E</td>\n",
              "      <td>NaN</td>\n",
              "      <td>NaN</td>\n",
              "      <td>...</td>\n",
              "      <td>NaN</td>\n",
              "      <td>0.0</td>\n",
              "      <td>0.0</td>\n",
              "      <td>0.0</td>\n",
              "      <td>0.0</td>\n",
              "      <td>NaN</td>\n",
              "      <td>NaN</td>\n",
              "      <td>NaN</td>\n",
              "      <td>NaN</td>\n",
              "      <td>OF</td>\n",
              "    </tr>\n",
              "    <tr>\n",
              "      <th>...</th>\n",
              "      <td>...</td>\n",
              "      <td>...</td>\n",
              "      <td>...</td>\n",
              "      <td>...</td>\n",
              "      <td>...</td>\n",
              "      <td>...</td>\n",
              "      <td>...</td>\n",
              "      <td>...</td>\n",
              "      <td>...</td>\n",
              "      <td>...</td>\n",
              "      <td>...</td>\n",
              "      <td>...</td>\n",
              "      <td>...</td>\n",
              "      <td>...</td>\n",
              "      <td>...</td>\n",
              "      <td>...</td>\n",
              "      <td>...</td>\n",
              "      <td>...</td>\n",
              "      <td>...</td>\n",
              "      <td>...</td>\n",
              "      <td>...</td>\n",
              "    </tr>\n",
              "    <tr>\n",
              "      <th>90099</th>\n",
              "      <td>20221011106102</td>\n",
              "      <td>Accident</td>\n",
              "      <td>GAA23WA005</td>\n",
              "      <td>2022-10-06</td>\n",
              "      <td>Maitland, OF</td>\n",
              "      <td>American Samoa</td>\n",
              "      <td>324125S</td>\n",
              "      <td>0151332E</td>\n",
              "      <td>NaN</td>\n",
              "      <td>NaN</td>\n",
              "      <td>...</td>\n",
              "      <td>NaN</td>\n",
              "      <td>1.0</td>\n",
              "      <td>0.0</td>\n",
              "      <td>0.0</td>\n",
              "      <td>0.0</td>\n",
              "      <td>NaN</td>\n",
              "      <td>NaN</td>\n",
              "      <td>NaN</td>\n",
              "      <td>08-11-2022</td>\n",
              "      <td>OF</td>\n",
              "    </tr>\n",
              "    <tr>\n",
              "      <th>90100</th>\n",
              "      <td>20221012106112</td>\n",
              "      <td>Incident</td>\n",
              "      <td>DCA23WA013</td>\n",
              "      <td>2022-10-06</td>\n",
              "      <td>Hatay, OF</td>\n",
              "      <td>Turkey</td>\n",
              "      <td>NaN</td>\n",
              "      <td>NaN</td>\n",
              "      <td>NaN</td>\n",
              "      <td>NaN</td>\n",
              "      <td>...</td>\n",
              "      <td>Turkish Airlines A.O.</td>\n",
              "      <td>0.0</td>\n",
              "      <td>0.0</td>\n",
              "      <td>0.0</td>\n",
              "      <td>0.0</td>\n",
              "      <td>NaN</td>\n",
              "      <td>NaN</td>\n",
              "      <td>NaN</td>\n",
              "      <td>NaN</td>\n",
              "      <td>OF</td>\n",
              "    </tr>\n",
              "    <tr>\n",
              "      <th>90208</th>\n",
              "      <td>20221104106247</td>\n",
              "      <td>Accident</td>\n",
              "      <td>GAA23WA024</td>\n",
              "      <td>2022-11-03</td>\n",
              "      <td>Jersey, OF</td>\n",
              "      <td>United Kingdom</td>\n",
              "      <td>NaN</td>\n",
              "      <td>NaN</td>\n",
              "      <td>EGJJ</td>\n",
              "      <td>NaN</td>\n",
              "      <td>...</td>\n",
              "      <td>NaN</td>\n",
              "      <td>2.0</td>\n",
              "      <td>0.0</td>\n",
              "      <td>0.0</td>\n",
              "      <td>0.0</td>\n",
              "      <td>NaN</td>\n",
              "      <td>NaN</td>\n",
              "      <td>NaN</td>\n",
              "      <td>10-11-2022</td>\n",
              "      <td>OF</td>\n",
              "    </tr>\n",
              "    <tr>\n",
              "      <th>90296</th>\n",
              "      <td>20221209106436</td>\n",
              "      <td>Accident</td>\n",
              "      <td>ERA23LA081</td>\n",
              "      <td>2022-12-01</td>\n",
              "      <td>Guantanamo Bay, OF</td>\n",
              "      <td>Cuba</td>\n",
              "      <td>195422N</td>\n",
              "      <td>0751159W</td>\n",
              "      <td>MUGM</td>\n",
              "      <td>GUANTANAMO BAY NAVAL AIR STATI</td>\n",
              "      <td>...</td>\n",
              "      <td>REVA, Inc.</td>\n",
              "      <td>0.0</td>\n",
              "      <td>0.0</td>\n",
              "      <td>0.0</td>\n",
              "      <td>4.0</td>\n",
              "      <td>VMC</td>\n",
              "      <td>NaN</td>\n",
              "      <td>NaN</td>\n",
              "      <td>20-12-2022</td>\n",
              "      <td>OF</td>\n",
              "    </tr>\n",
              "    <tr>\n",
              "      <th>90331</th>\n",
              "      <td>20221214106459</td>\n",
              "      <td>Accident</td>\n",
              "      <td>GAA23WA042</td>\n",
              "      <td>2022-12-14</td>\n",
              "      <td>Happy Valley-Goose Bay, OF</td>\n",
              "      <td>Canada</td>\n",
              "      <td>NaN</td>\n",
              "      <td>NaN</td>\n",
              "      <td>NaN</td>\n",
              "      <td>NaN</td>\n",
              "      <td>...</td>\n",
              "      <td>NaN</td>\n",
              "      <td>0.0</td>\n",
              "      <td>0.0</td>\n",
              "      <td>2.0</td>\n",
              "      <td>0.0</td>\n",
              "      <td>NaN</td>\n",
              "      <td>NaN</td>\n",
              "      <td>NaN</td>\n",
              "      <td>20-12-2022</td>\n",
              "      <td>OF</td>\n",
              "    </tr>\n",
              "  </tbody>\n",
              "</table>\n",
              "<p>235 rows × 32 columns</p>\n",
              "</div>\n",
              "      <button class=\"colab-df-convert\" onclick=\"convertToInteractive('df-3cacfa31-023f-44f4-8219-163ec7194b0e')\"\n",
              "              title=\"Convert this dataframe to an interactive table.\"\n",
              "              style=\"display:none;\">\n",
              "        \n",
              "  <svg xmlns=\"http://www.w3.org/2000/svg\" height=\"24px\"viewBox=\"0 0 24 24\"\n",
              "       width=\"24px\">\n",
              "    <path d=\"M0 0h24v24H0V0z\" fill=\"none\"/>\n",
              "    <path d=\"M18.56 5.44l.94 2.06.94-2.06 2.06-.94-2.06-.94-.94-2.06-.94 2.06-2.06.94zm-11 1L8.5 8.5l.94-2.06 2.06-.94-2.06-.94L8.5 2.5l-.94 2.06-2.06.94zm10 10l.94 2.06.94-2.06 2.06-.94-2.06-.94-.94-2.06-.94 2.06-2.06.94z\"/><path d=\"M17.41 7.96l-1.37-1.37c-.4-.4-.92-.59-1.43-.59-.52 0-1.04.2-1.43.59L10.3 9.45l-7.72 7.72c-.78.78-.78 2.05 0 2.83L4 21.41c.39.39.9.59 1.41.59.51 0 1.02-.2 1.41-.59l7.78-7.78 2.81-2.81c.8-.78.8-2.07 0-2.86zM5.41 20L4 18.59l7.72-7.72 1.47 1.35L5.41 20z\"/>\n",
              "  </svg>\n",
              "      </button>\n",
              "      \n",
              "  <style>\n",
              "    .colab-df-container {\n",
              "      display:flex;\n",
              "      flex-wrap:wrap;\n",
              "      gap: 12px;\n",
              "    }\n",
              "\n",
              "    .colab-df-convert {\n",
              "      background-color: #E8F0FE;\n",
              "      border: none;\n",
              "      border-radius: 50%;\n",
              "      cursor: pointer;\n",
              "      display: none;\n",
              "      fill: #1967D2;\n",
              "      height: 32px;\n",
              "      padding: 0 0 0 0;\n",
              "      width: 32px;\n",
              "    }\n",
              "\n",
              "    .colab-df-convert:hover {\n",
              "      background-color: #E2EBFA;\n",
              "      box-shadow: 0px 1px 2px rgba(60, 64, 67, 0.3), 0px 1px 3px 1px rgba(60, 64, 67, 0.15);\n",
              "      fill: #174EA6;\n",
              "    }\n",
              "\n",
              "    [theme=dark] .colab-df-convert {\n",
              "      background-color: #3B4455;\n",
              "      fill: #D2E3FC;\n",
              "    }\n",
              "\n",
              "    [theme=dark] .colab-df-convert:hover {\n",
              "      background-color: #434B5C;\n",
              "      box-shadow: 0px 1px 3px 1px rgba(0, 0, 0, 0.15);\n",
              "      filter: drop-shadow(0px 1px 2px rgba(0, 0, 0, 0.3));\n",
              "      fill: #FFFFFF;\n",
              "    }\n",
              "  </style>\n",
              "\n",
              "      <script>\n",
              "        const buttonEl =\n",
              "          document.querySelector('#df-3cacfa31-023f-44f4-8219-163ec7194b0e button.colab-df-convert');\n",
              "        buttonEl.style.display =\n",
              "          google.colab.kernel.accessAllowed ? 'block' : 'none';\n",
              "\n",
              "        async function convertToInteractive(key) {\n",
              "          const element = document.querySelector('#df-3cacfa31-023f-44f4-8219-163ec7194b0e');\n",
              "          const dataTable =\n",
              "            await google.colab.kernel.invokeFunction('convertToInteractive',\n",
              "                                                     [key], {});\n",
              "          if (!dataTable) return;\n",
              "\n",
              "          const docLinkHtml = 'Like what you see? Visit the ' +\n",
              "            '<a target=\"_blank\" href=https://colab.research.google.com/notebooks/data_table.ipynb>data table notebook</a>'\n",
              "            + ' to learn more about interactive tables.';\n",
              "          element.innerHTML = '';\n",
              "          dataTable['output_type'] = 'display_data';\n",
              "          await google.colab.output.renderOutput(dataTable, element);\n",
              "          const docLink = document.createElement('div');\n",
              "          docLink.innerHTML = docLinkHtml;\n",
              "          element.appendChild(docLink);\n",
              "        }\n",
              "      </script>\n",
              "    </div>\n",
              "  </div>\n",
              "  "
            ]
          },
          "metadata": {},
          "execution_count": 89
        }
      ]
    },
    {
      "cell_type": "code",
      "source": [
        "# OF, only airplanes\n",
        "df_fly_of_planes = df_fly_of[df_fly_of['Aircraft.Category'] == 'Airplane']"
      ],
      "metadata": {
        "id": "uydinMlsJlx_"
      },
      "execution_count": null,
      "outputs": []
    },
    {
      "cell_type": "code",
      "source": [
        "# comparing length of df before and after filtering for airplanes only\n",
        "len(df_fly_of)"
      ],
      "metadata": {
        "colab": {
          "base_uri": "https://localhost:8080/"
        },
        "id": "8Uc3258qJkRW",
        "outputId": "c91aadbc-9dfd-486e-97db-c491e12c1fe0"
      },
      "execution_count": null,
      "outputs": [
        {
          "output_type": "execute_result",
          "data": {
            "text/plain": [
              "235"
            ]
          },
          "metadata": {},
          "execution_count": 283
        }
      ]
    },
    {
      "cell_type": "code",
      "source": [
        "len(df_fly_of_planes)"
      ],
      "metadata": {
        "colab": {
          "base_uri": "https://localhost:8080/"
        },
        "id": "Zy_w2TnrJxhM",
        "outputId": "15fa42bc-9f82-47c8-b84d-f5775ce8e62f"
      },
      "execution_count": null,
      "outputs": [
        {
          "output_type": "execute_result",
          "data": {
            "text/plain": [
              "165"
            ]
          },
          "metadata": {},
          "execution_count": 285
        }
      ]
    },
    {
      "cell_type": "code",
      "source": [
        "#exporting and saving df_fly_of_planes file to my google drive\n",
        "path = '/content/drive/My Drive/df_fly_of_planes.csv'\n",
        "with open(path, 'w', encoding = 'utf-8-sig') as f:\n",
        " df_fly_of_planes.to_csv(f)"
      ],
      "metadata": {
        "id": "DfmYakk2Ut71"
      },
      "execution_count": null,
      "outputs": []
    },
    {
      "cell_type": "code",
      "source": [
        "#exporting and saving df_fly_of file to my google drive\n",
        "path = '/content/drive/My Drive/df_fly_of.csv'\n",
        "with open(path, 'w', encoding = 'utf-8-sig') as f:\n",
        " df_fly_of.to_csv(f)"
      ],
      "metadata": {
        "id": "CNYMiBRMUx76"
      },
      "execution_count": null,
      "outputs": []
    },
    {
      "cell_type": "markdown",
      "source": [
        "**State 39: Ohio**"
      ],
      "metadata": {
        "id": "UZk2KuE3QLhI"
      }
    },
    {
      "cell_type": "code",
      "source": [
        "# Ohio, all aircraft\n",
        "df_fly_oh = df[df['State'] == 'OH']"
      ],
      "metadata": {
        "id": "GhqnKp14iyAW"
      },
      "execution_count": null,
      "outputs": []
    },
    {
      "cell_type": "code",
      "source": [
        "# Ohio, only airplanes\n",
        "df_fly_oh_planes = df_fly_oh[df_fly_oh['Aircraft.Category'] == 'Airplane']"
      ],
      "metadata": {
        "id": "f3hn2TZ4J29X"
      },
      "execution_count": null,
      "outputs": []
    },
    {
      "cell_type": "code",
      "source": [
        "# comparing length of df before and after filtering for airplanes only\n",
        "len(df_fly_oh)"
      ],
      "metadata": {
        "colab": {
          "base_uri": "https://localhost:8080/"
        },
        "id": "jGabg2ZMJ0ot",
        "outputId": "99ebe574-65eb-4bb2-be58-e0e87698a6d3"
      },
      "execution_count": null,
      "outputs": [
        {
          "output_type": "execute_result",
          "data": {
            "text/plain": [
              "1823"
            ]
          },
          "metadata": {},
          "execution_count": 286
        }
      ]
    },
    {
      "cell_type": "code",
      "source": [
        "len(df_fly_oh_planes)"
      ],
      "metadata": {
        "colab": {
          "base_uri": "https://localhost:8080/"
        },
        "id": "toWEeIXzJ79M",
        "outputId": "3ebdedbe-821f-4de7-c9eb-3baf7e3a01df"
      },
      "execution_count": null,
      "outputs": [
        {
          "output_type": "execute_result",
          "data": {
            "text/plain": [
              "541"
            ]
          },
          "metadata": {},
          "execution_count": 288
        }
      ]
    },
    {
      "cell_type": "code",
      "source": [
        "#exporting and saving df_fly_oh_planes file to my google drive\n",
        "path = '/content/drive/My Drive/df_fly_oh_planes.csv'\n",
        "with open(path, 'w', encoding = 'utf-8-sig') as f:\n",
        " df_fly_oh_planes.to_csv(f)"
      ],
      "metadata": {
        "id": "WIfqPwwNU2rh"
      },
      "execution_count": null,
      "outputs": []
    },
    {
      "cell_type": "code",
      "source": [
        "#exporting and saving df_fly_oh file to my google drive\n",
        "path = '/content/drive/My Drive/df_fly_oh.csv'\n",
        "with open(path, 'w', encoding = 'utf-8-sig') as f:\n",
        " df_fly_oh.to_csv(f)"
      ],
      "metadata": {
        "id": "DJ9H9XskU52H"
      },
      "execution_count": null,
      "outputs": []
    },
    {
      "cell_type": "markdown",
      "source": [
        "**State 40: Oklahoma**"
      ],
      "metadata": {
        "id": "mHReTLaiRDvR"
      }
    },
    {
      "cell_type": "code",
      "source": [
        "# Oklahoma, all aircraft\n",
        "df_fly_ok = df[df['State'] == 'OK']"
      ],
      "metadata": {
        "id": "HImcsHEbiyED"
      },
      "execution_count": null,
      "outputs": []
    },
    {
      "cell_type": "code",
      "source": [
        "# Oklahoma, only airplanes\n",
        "df_fly_ok_planes = df_fly_ok[df_fly_ok['Aircraft.Category'] == 'Airplane']"
      ],
      "metadata": {
        "id": "WNN-HXkRKCod"
      },
      "execution_count": null,
      "outputs": []
    },
    {
      "cell_type": "code",
      "source": [
        "# comparing length of df before and after filtering for airplanes only\n",
        "len(df_fly_ok)"
      ],
      "metadata": {
        "colab": {
          "base_uri": "https://localhost:8080/"
        },
        "id": "G6UCdrNsJ_oq",
        "outputId": "3c997d2c-16b9-4a2a-d2a8-546f0749e772"
      },
      "execution_count": null,
      "outputs": [
        {
          "output_type": "execute_result",
          "data": {
            "text/plain": [
              "1240"
            ]
          },
          "metadata": {},
          "execution_count": 289
        }
      ]
    },
    {
      "cell_type": "code",
      "source": [
        "len(df_fly_ok_planes)"
      ],
      "metadata": {
        "colab": {
          "base_uri": "https://localhost:8080/"
        },
        "id": "vqH-yBT1KLw8",
        "outputId": "4d4022b8-950c-42d2-cec6-4a1695f9c88e"
      },
      "execution_count": null,
      "outputs": [
        {
          "output_type": "execute_result",
          "data": {
            "text/plain": [
              "353"
            ]
          },
          "metadata": {},
          "execution_count": 291
        }
      ]
    },
    {
      "cell_type": "code",
      "source": [
        "#exporting and saving df_fly_ok_planes file to my google drive\n",
        "path = '/content/drive/My Drive/df_fly_ok_planes.csv'\n",
        "with open(path, 'w', encoding = 'utf-8-sig') as f:\n",
        " df_fly_ok_planes.to_csv(f)"
      ],
      "metadata": {
        "id": "_t0aBh1pU_BF"
      },
      "execution_count": null,
      "outputs": []
    },
    {
      "cell_type": "code",
      "source": [
        "#exporting and saving df_fly_ok file to my google drive\n",
        "path = '/content/drive/My Drive/df_fly_ok.csv'\n",
        "with open(path, 'w', encoding = 'utf-8-sig') as f:\n",
        " df_fly_ok.to_csv(f)"
      ],
      "metadata": {
        "id": "AtwzauSHVDbL"
      },
      "execution_count": null,
      "outputs": []
    },
    {
      "cell_type": "markdown",
      "source": [
        "**State 41: Oregon**"
      ],
      "metadata": {
        "id": "vspVrsS4RO2H"
      }
    },
    {
      "cell_type": "code",
      "source": [
        "# Oregon, all aircraft\n",
        "df_fly_or = df[df['State'] == 'OR']"
      ],
      "metadata": {
        "id": "LidQRvobiyJG"
      },
      "execution_count": null,
      "outputs": []
    },
    {
      "cell_type": "code",
      "source": [
        "# Oregon, only airplanes\n",
        "df_fly_or_planes = df_fly_or[df_fly_or['Aircraft.Category'] == 'Airplane']"
      ],
      "metadata": {
        "id": "hBxHZ-PiKQOQ"
      },
      "execution_count": null,
      "outputs": []
    },
    {
      "cell_type": "code",
      "source": [
        "# comparing length of df before and after filtering for airplanes only\n",
        "len(df_fly_or)"
      ],
      "metadata": {
        "colab": {
          "base_uri": "https://localhost:8080/"
        },
        "id": "-iffH5yZKOiV",
        "outputId": "47aed1a2-9ab0-485c-f561-17fccaf95b9c"
      },
      "execution_count": null,
      "outputs": [
        {
          "output_type": "execute_result",
          "data": {
            "text/plain": [
              "1772"
            ]
          },
          "metadata": {},
          "execution_count": 292
        }
      ]
    },
    {
      "cell_type": "code",
      "source": [
        "len(df_fly_or_planes)"
      ],
      "metadata": {
        "colab": {
          "base_uri": "https://localhost:8080/"
        },
        "id": "lYAe9odVKWf1",
        "outputId": "b22ed7a5-3440-4593-ccb2-eb4c1dfc7b01"
      },
      "execution_count": null,
      "outputs": [
        {
          "output_type": "execute_result",
          "data": {
            "text/plain": [
              "520"
            ]
          },
          "metadata": {},
          "execution_count": 294
        }
      ]
    },
    {
      "cell_type": "code",
      "source": [
        "#exporting and saving df_fly_or_planes file to my google drive\n",
        "path = '/content/drive/My Drive/df_fly_or_planes.csv'\n",
        "with open(path, 'w', encoding = 'utf-8-sig') as f:\n",
        " df_fly_or_planes.to_csv(f)"
      ],
      "metadata": {
        "id": "02Zg2S_RVHQ_"
      },
      "execution_count": null,
      "outputs": []
    },
    {
      "cell_type": "code",
      "source": [
        "#exporting and saving df_fly_or file to my google drive\n",
        "path = '/content/drive/My Drive/df_fly_or.csv'\n",
        "with open(path, 'w', encoding = 'utf-8-sig') as f:\n",
        " df_fly_or.to_csv(f)"
      ],
      "metadata": {
        "id": "CwRrUPwWVKVL"
      },
      "execution_count": null,
      "outputs": []
    },
    {
      "cell_type": "markdown",
      "source": [
        "**State 42: Pennsylvania**"
      ],
      "metadata": {
        "id": "wWkzNNsJRYhz"
      }
    },
    {
      "cell_type": "code",
      "source": [
        "# Pennsylvania, all aircraft\n",
        "df_fly_pa = df[df['State'] == 'PA']"
      ],
      "metadata": {
        "id": "6g0Z6pLGjd1I"
      },
      "execution_count": null,
      "outputs": []
    },
    {
      "cell_type": "code",
      "source": [
        "# Pennsylvania, only airplanes\n",
        "df_fly_pa_planes = df_fly_pa[df_fly_pa['Aircraft.Category'] == 'Airplane']"
      ],
      "metadata": {
        "id": "xPmXjbdIKam0"
      },
      "execution_count": null,
      "outputs": []
    },
    {
      "cell_type": "code",
      "source": [
        "# comparing length of df before and after filtering for airplanes only\n",
        "len(df_fly_pa)"
      ],
      "metadata": {
        "colab": {
          "base_uri": "https://localhost:8080/"
        },
        "id": "hB_PXqEQKZSB",
        "outputId": "e5ffc58b-7f3b-4973-e978-3ea8c2137ea2"
      },
      "execution_count": null,
      "outputs": [
        {
          "output_type": "execute_result",
          "data": {
            "text/plain": [
              "1790"
            ]
          },
          "metadata": {},
          "execution_count": 295
        }
      ]
    },
    {
      "cell_type": "code",
      "source": [
        "len(df_fly_pa_planes)"
      ],
      "metadata": {
        "colab": {
          "base_uri": "https://localhost:8080/"
        },
        "id": "hbVv3C9BKg4y",
        "outputId": "e8936601-dd3d-4034-d868-8ad693623e9f"
      },
      "execution_count": null,
      "outputs": [
        {
          "output_type": "execute_result",
          "data": {
            "text/plain": [
              "504"
            ]
          },
          "metadata": {},
          "execution_count": 297
        }
      ]
    },
    {
      "cell_type": "code",
      "source": [
        "#exporting and saving df_fly_pa_planes file to my google drive\n",
        "path = '/content/drive/My Drive/df_fly_pa_planes.csv'\n",
        "with open(path, 'w', encoding = 'utf-8-sig') as f:\n",
        " df_fly_pa_planes.to_csv(f)"
      ],
      "metadata": {
        "id": "QfpBjWAIVQUJ"
      },
      "execution_count": null,
      "outputs": []
    },
    {
      "cell_type": "code",
      "source": [
        "#exporting and saving df_fly_pa file to my google drive\n",
        "path = '/content/drive/My Drive/df_fly_pa.csv'\n",
        "with open(path, 'w', encoding = 'utf-8-sig') as f:\n",
        " df_fly_pa.to_csv(f)"
      ],
      "metadata": {
        "id": "3jH-eKUHVT1R"
      },
      "execution_count": null,
      "outputs": []
    },
    {
      "cell_type": "markdown",
      "source": [
        "**State 43: Pacific Ocean**\n",
        "\n",
        "*Note: the Pacific Ocean is included as a 'state' in the United States dataset by NTSB. See `states.csv` for the full list*"
      ],
      "metadata": {
        "id": "8ed_GpShRmOG"
      }
    },
    {
      "cell_type": "code",
      "source": [
        "# Pacific Ocean, all aircraft\n",
        "df_fly_po = df[df['State'] == 'PO']"
      ],
      "metadata": {
        "id": "7rVP7ydNjd7y"
      },
      "execution_count": null,
      "outputs": []
    },
    {
      "cell_type": "code",
      "source": [
        "# pd.concat to merge the missing pacific ocean records with the po df\n",
        "df_fly_po = pd.concat([df_fly_po, df_missing_pacific], ignore_index = True)\n",
        "display(df_fly_po)"
      ],
      "metadata": {
        "colab": {
          "base_uri": "https://localhost:8080/",
          "height": 1000
        },
        "id": "J047-285x_Bu",
        "outputId": "2e320709-a50c-45b4-f643-1dd1c9ec70b7"
      },
      "execution_count": null,
      "outputs": [
        {
          "output_type": "display_data",
          "data": {
            "text/plain": [
              "          Event.Id Investigation.Type Accident.Number  Event.Date  \\\n",
              "0   20001213X27446           Accident      LAX89LA068  1988-12-23   \n",
              "1   20020506X00632           Accident      LAX02LA146  2002-05-01   \n",
              "2   20060727X01038           Accident      LAX06WA202  2006-06-09   \n",
              "3   20090515X70740           Accident      WPR09LA244  2009-04-05   \n",
              "4   20091210X72650           Accident      WPR10CA077  2009-11-30   \n",
              "5   20100921X14612           Accident      WPR10LA464  2010-09-11   \n",
              "6   20110718X32318           Accident      WPR11WA332  2011-07-11   \n",
              "7   20130305X21219           Accident      WPR13LA137  2013-03-02   \n",
              "8   20140320X53321           Accident      DCA14CA083  2014-03-17   \n",
              "9   20150126X84741           Accident      WPR15LA089  2015-01-26   \n",
              "10  20150219X14806           Accident      DCA15LA067  2015-02-15   \n",
              "11  20150814X91539           Accident      WPR15LA242  2015-08-14   \n",
              "12  20160817X93540           Incident      ENG16WA032  2016-08-07   \n",
              "13  20170308X31846           Accident      WPR17LA075  2017-02-22   \n",
              "14  20170823X05408           Accident      WPR17LA186  2017-08-22   \n",
              "15  20190305X42937           Accident      DCA19CA090  2019-02-03   \n",
              "16  20210820103730           Incident      DCA21WA207  2021-08-14   \n",
              "17  20080723X01111           Accident      DCA08FA062  2008-05-19   \n",
              "18  20100719X80209           Accident      DCA10FA076  2010-07-15   \n",
              "19  20100831X62338           Incident      ENG10WA048  2010-07-30   \n",
              "20  20110418X12310           Accident      WPR11LA203  2011-04-11   \n",
              "\n",
              "                Location           Country   Latitude    Longitude  \\\n",
              "0     Midway Islands, PO     United States      38.54      -173.24   \n",
              "1      Pacific Ocean, PO     United States      -24.3   174.333333   \n",
              "2      Pacific Ocean, PO     United States  23.083333  -147.433333   \n",
              "3      Pacific Ocean, PO     United States        NaN          NaN   \n",
              "4          Pago Pago, PO        Antarctica    141954S     1704241W   \n",
              "5             Majuro, PO     United States    373810N     0130412W   \n",
              "6              Burma, PO     United States    037386N     0130415W   \n",
              "7    Latangai Island, PO  Papua New Guinea    373810N     0130410W   \n",
              "8            Seattle, PO     United States    037383N     0130410W   \n",
              "9               Maui, PO     United States    205214N     1562659W   \n",
              "10          HONOLULU, PO     United States    223632N     1535035W   \n",
              "11     Pacific Ocean, PO     United States    037389N     0130410W   \n",
              "12  Over the Pacific, PO                UN        NaN          NaN   \n",
              "13           Unknown, PO     United States    037385N     0130415W   \n",
              "14     Pacific Ocean, PO     United States    313919N     1181923W   \n",
              "15     Pacific Ocean, PO     United States    037385N     0130413W   \n",
              "16              Guam, PO     United States        NaN          NaN   \n",
              "17        Pacific Ocean,     United States    015500N     0152830E   \n",
              "18        Pacific Ocean,     United States        NaN          NaN   \n",
              "19        Pacific Ocean,     United States    037370N     0122220E   \n",
              "20        Pacific Ocean,     United States    355336N     1435218E   \n",
              "\n",
              "   Airport.Code                    Airport.Name  ...  \\\n",
              "0          NONE                             NaN  ...   \n",
              "1           NaN                             NaN  ...   \n",
              "2           NaN                             NaN  ...   \n",
              "3           NaN                             NaN  ...   \n",
              "4           PPG  Tafuna/Pago Pago International  ...   \n",
              "5           NaN                             NaN  ...   \n",
              "6           NaN                             NaN  ...   \n",
              "7           NaN                             NaN  ...   \n",
              "8           NaN                             NaN  ...   \n",
              "9           NaN                             NaN  ...   \n",
              "10          NaN                             NaN  ...   \n",
              "11          NaN                             NaN  ...   \n",
              "12          GUM                       GUAM INTL  ...   \n",
              "13          NaN                             NaN  ...   \n",
              "14          NaN                             NaN  ...   \n",
              "15          NaN                             NaN  ...   \n",
              "16          NaN                             NaN  ...   \n",
              "17          NaN                             NaN  ...   \n",
              "18          NaN                             NaN  ...   \n",
              "19          NaN                             NaN  ...   \n",
              "20          NRT    Narita International Airport  ...   \n",
              "\n",
              "                      Air.carrier Total.Fatal.Injuries Total.Serious.Injuries  \\\n",
              "0                 United Airlines                  NaN                    1.0   \n",
              "1                             NaN                  NaN                    1.0   \n",
              "2                             NaN                  NaN                    NaN   \n",
              "3                       HUSA Inc.                  0.0                    0.0   \n",
              "4      Inter Island Airways, Inc.                  0.0                    0.0   \n",
              "5             JIMS AIR REPAIR INC                  1.0                    1.0   \n",
              "6                  Heli Union Ltd                  3.0                    0.0   \n",
              "7   JERRYS HELICOPTER SERVICE INC                  1.0                    0.0   \n",
              "8                 Delta Air Lines                  0.0                    0.0   \n",
              "9              The Flight Academy                  0.0                    0.0   \n",
              "10           UNITED AIR LINES INC                  0.0                    4.0   \n",
              "11                            NaN                  1.0                    0.0   \n",
              "12                        Jetstar                  0.0                    0.0   \n",
              "13                JIMS AIR REPAIR                  0.0                    0.0   \n",
              "14    Airborne Tactical Advantage                  0.0                    1.0   \n",
              "15                United Airlines                  0.0                    0.0   \n",
              "16                        EVA Air                  0.0                    0.0   \n",
              "17         Omni Air International                  0.0                    4.0   \n",
              "18             DELTA AIRLINES INC                  0.0                    0.0   \n",
              "19         Qantas Airways Limited                  0.0                    0.0   \n",
              "20          AMERICAN AIRLINES INC                  0.0                    2.0   \n",
              "\n",
              "   Total.Minor.Injuries Total.Uninjured Weather.Condition  \\\n",
              "0                   1.0           220.0               UNK   \n",
              "1                   6.0           283.0               VMC   \n",
              "2                   NaN             2.0               VMC   \n",
              "3                   0.0             2.0               VMC   \n",
              "4                   0.0             1.0               VMC   \n",
              "5                   0.0             0.0               VMC   \n",
              "6                   2.0             4.0               NaN   \n",
              "7                   1.0             0.0               VMC   \n",
              "8                   1.0           264.0               VMC   \n",
              "9                   0.0             1.0               VMC   \n",
              "10                  1.0           245.0               IMC   \n",
              "11                  0.0             0.0               VMC   \n",
              "12                  0.0           320.0               NaN   \n",
              "13                  2.0             0.0               VMC   \n",
              "14                  0.0             0.0               VMC   \n",
              "15                  1.0           220.0               VMC   \n",
              "16                  0.0             0.0               NaN   \n",
              "17                  1.0           157.0               VMC   \n",
              "18                  1.0           201.0               VMC   \n",
              "19                  0.0             0.0               NaN   \n",
              "20                  2.0           227.0               VMC   \n",
              "\n",
              "   Broad.phase.of.flight                                      Report.Status  \\\n",
              "0                 Cruise                                     Probable Cause   \n",
              "1                  Climb                                     Probable Cause   \n",
              "2                    NaN                                            Foreign   \n",
              "3                    NaN  The pilots failure to maintain clearance from...   \n",
              "4                    NaN  The pilot's action to maneuver the airplane to...   \n",
              "5                    NaN  A loss of helicopter control for undetermined ...   \n",
              "6                    NaN       To be determined by the government of Burma.   \n",
              "7                    NaN  The failure of both the pilot and the fish mas...   \n",
              "8                    NaN  the flight attendant inadvertently tripping ov...   \n",
              "9                    NaN  The pilot's inability to transfer fuel from th...   \n",
              "10                   NaN  an encounter with convective turbulence associ...   \n",
              "11                   NaN  The pilot's incapacitation for reasons that co...   \n",
              "12                   NaN                                                NaN   \n",
              "13                   NaN  The pilot's failure to detect the presence of ...   \n",
              "14                   NaN  The pilots loss of airplane control after fly...   \n",
              "15                   NaN                                                NaN   \n",
              "16                   NaN                                                NaN   \n",
              "17                   NaN  An inadvertent in-flight encounter with unfore...   \n",
              "18                   NaN  an inadvertent encounter with clear air turbul...   \n",
              "19                   NaN                                                NaN   \n",
              "20                   NaN  An inadvertent encounter with convective-induc...   \n",
              "\n",
              "   Publication.Date State  \n",
              "0        02-02-2016    PO  \n",
              "1        25-04-2006    PO  \n",
              "2        27-07-2006    PO  \n",
              "3        25-09-2020    PO  \n",
              "4        25-09-2020    PO  \n",
              "5        25-09-2020    PO  \n",
              "6        03-11-2020    PO  \n",
              "7        25-09-2020    PO  \n",
              "8        25-09-2020    PO  \n",
              "9        25-09-2020    PO  \n",
              "10       25-09-2020    PO  \n",
              "11       25-09-2020    PO  \n",
              "12       25-09-2020    PO  \n",
              "13       25-09-2020    PO  \n",
              "14              NaN    PO  \n",
              "15       13-12-2021    PO  \n",
              "16              NaN    PO  \n",
              "17       25-09-2020        \n",
              "18       25-09-2020        \n",
              "19       03-11-2020        \n",
              "20       25-09-2020        \n",
              "\n",
              "[21 rows x 32 columns]"
            ],
            "text/html": [
              "\n",
              "  <div id=\"df-b6bd5d19-bad9-497b-88c7-7ac61d2ffd36\">\n",
              "    <div class=\"colab-df-container\">\n",
              "      <div>\n",
              "<style scoped>\n",
              "    .dataframe tbody tr th:only-of-type {\n",
              "        vertical-align: middle;\n",
              "    }\n",
              "\n",
              "    .dataframe tbody tr th {\n",
              "        vertical-align: top;\n",
              "    }\n",
              "\n",
              "    .dataframe thead th {\n",
              "        text-align: right;\n",
              "    }\n",
              "</style>\n",
              "<table border=\"1\" class=\"dataframe\">\n",
              "  <thead>\n",
              "    <tr style=\"text-align: right;\">\n",
              "      <th></th>\n",
              "      <th>Event.Id</th>\n",
              "      <th>Investigation.Type</th>\n",
              "      <th>Accident.Number</th>\n",
              "      <th>Event.Date</th>\n",
              "      <th>Location</th>\n",
              "      <th>Country</th>\n",
              "      <th>Latitude</th>\n",
              "      <th>Longitude</th>\n",
              "      <th>Airport.Code</th>\n",
              "      <th>Airport.Name</th>\n",
              "      <th>...</th>\n",
              "      <th>Air.carrier</th>\n",
              "      <th>Total.Fatal.Injuries</th>\n",
              "      <th>Total.Serious.Injuries</th>\n",
              "      <th>Total.Minor.Injuries</th>\n",
              "      <th>Total.Uninjured</th>\n",
              "      <th>Weather.Condition</th>\n",
              "      <th>Broad.phase.of.flight</th>\n",
              "      <th>Report.Status</th>\n",
              "      <th>Publication.Date</th>\n",
              "      <th>State</th>\n",
              "    </tr>\n",
              "  </thead>\n",
              "  <tbody>\n",
              "    <tr>\n",
              "      <th>0</th>\n",
              "      <td>20001213X27446</td>\n",
              "      <td>Accident</td>\n",
              "      <td>LAX89LA068</td>\n",
              "      <td>1988-12-23</td>\n",
              "      <td>Midway Islands, PO</td>\n",
              "      <td>United States</td>\n",
              "      <td>38.54</td>\n",
              "      <td>-173.24</td>\n",
              "      <td>NONE</td>\n",
              "      <td>NaN</td>\n",
              "      <td>...</td>\n",
              "      <td>United Airlines</td>\n",
              "      <td>NaN</td>\n",
              "      <td>1.0</td>\n",
              "      <td>1.0</td>\n",
              "      <td>220.0</td>\n",
              "      <td>UNK</td>\n",
              "      <td>Cruise</td>\n",
              "      <td>Probable Cause</td>\n",
              "      <td>02-02-2016</td>\n",
              "      <td>PO</td>\n",
              "    </tr>\n",
              "    <tr>\n",
              "      <th>1</th>\n",
              "      <td>20020506X00632</td>\n",
              "      <td>Accident</td>\n",
              "      <td>LAX02LA146</td>\n",
              "      <td>2002-05-01</td>\n",
              "      <td>Pacific Ocean, PO</td>\n",
              "      <td>United States</td>\n",
              "      <td>-24.3</td>\n",
              "      <td>174.333333</td>\n",
              "      <td>NaN</td>\n",
              "      <td>NaN</td>\n",
              "      <td>...</td>\n",
              "      <td>NaN</td>\n",
              "      <td>NaN</td>\n",
              "      <td>1.0</td>\n",
              "      <td>6.0</td>\n",
              "      <td>283.0</td>\n",
              "      <td>VMC</td>\n",
              "      <td>Climb</td>\n",
              "      <td>Probable Cause</td>\n",
              "      <td>25-04-2006</td>\n",
              "      <td>PO</td>\n",
              "    </tr>\n",
              "    <tr>\n",
              "      <th>2</th>\n",
              "      <td>20060727X01038</td>\n",
              "      <td>Accident</td>\n",
              "      <td>LAX06WA202</td>\n",
              "      <td>2006-06-09</td>\n",
              "      <td>Pacific Ocean, PO</td>\n",
              "      <td>United States</td>\n",
              "      <td>23.083333</td>\n",
              "      <td>-147.433333</td>\n",
              "      <td>NaN</td>\n",
              "      <td>NaN</td>\n",
              "      <td>...</td>\n",
              "      <td>NaN</td>\n",
              "      <td>NaN</td>\n",
              "      <td>NaN</td>\n",
              "      <td>NaN</td>\n",
              "      <td>2.0</td>\n",
              "      <td>VMC</td>\n",
              "      <td>NaN</td>\n",
              "      <td>Foreign</td>\n",
              "      <td>27-07-2006</td>\n",
              "      <td>PO</td>\n",
              "    </tr>\n",
              "    <tr>\n",
              "      <th>3</th>\n",
              "      <td>20090515X70740</td>\n",
              "      <td>Accident</td>\n",
              "      <td>WPR09LA244</td>\n",
              "      <td>2009-04-05</td>\n",
              "      <td>Pacific Ocean, PO</td>\n",
              "      <td>United States</td>\n",
              "      <td>NaN</td>\n",
              "      <td>NaN</td>\n",
              "      <td>NaN</td>\n",
              "      <td>NaN</td>\n",
              "      <td>...</td>\n",
              "      <td>HUSA Inc.</td>\n",
              "      <td>0.0</td>\n",
              "      <td>0.0</td>\n",
              "      <td>0.0</td>\n",
              "      <td>2.0</td>\n",
              "      <td>VMC</td>\n",
              "      <td>NaN</td>\n",
              "      <td>The pilots failure to maintain clearance from...</td>\n",
              "      <td>25-09-2020</td>\n",
              "      <td>PO</td>\n",
              "    </tr>\n",
              "    <tr>\n",
              "      <th>4</th>\n",
              "      <td>20091210X72650</td>\n",
              "      <td>Accident</td>\n",
              "      <td>WPR10CA077</td>\n",
              "      <td>2009-11-30</td>\n",
              "      <td>Pago Pago, PO</td>\n",
              "      <td>Antarctica</td>\n",
              "      <td>141954S</td>\n",
              "      <td>1704241W</td>\n",
              "      <td>PPG</td>\n",
              "      <td>Tafuna/Pago Pago International</td>\n",
              "      <td>...</td>\n",
              "      <td>Inter Island Airways, Inc.</td>\n",
              "      <td>0.0</td>\n",
              "      <td>0.0</td>\n",
              "      <td>0.0</td>\n",
              "      <td>1.0</td>\n",
              "      <td>VMC</td>\n",
              "      <td>NaN</td>\n",
              "      <td>The pilot's action to maneuver the airplane to...</td>\n",
              "      <td>25-09-2020</td>\n",
              "      <td>PO</td>\n",
              "    </tr>\n",
              "    <tr>\n",
              "      <th>5</th>\n",
              "      <td>20100921X14612</td>\n",
              "      <td>Accident</td>\n",
              "      <td>WPR10LA464</td>\n",
              "      <td>2010-09-11</td>\n",
              "      <td>Majuro, PO</td>\n",
              "      <td>United States</td>\n",
              "      <td>373810N</td>\n",
              "      <td>0130412W</td>\n",
              "      <td>NaN</td>\n",
              "      <td>NaN</td>\n",
              "      <td>...</td>\n",
              "      <td>JIMS AIR REPAIR INC</td>\n",
              "      <td>1.0</td>\n",
              "      <td>1.0</td>\n",
              "      <td>0.0</td>\n",
              "      <td>0.0</td>\n",
              "      <td>VMC</td>\n",
              "      <td>NaN</td>\n",
              "      <td>A loss of helicopter control for undetermined ...</td>\n",
              "      <td>25-09-2020</td>\n",
              "      <td>PO</td>\n",
              "    </tr>\n",
              "    <tr>\n",
              "      <th>6</th>\n",
              "      <td>20110718X32318</td>\n",
              "      <td>Accident</td>\n",
              "      <td>WPR11WA332</td>\n",
              "      <td>2011-07-11</td>\n",
              "      <td>Burma, PO</td>\n",
              "      <td>United States</td>\n",
              "      <td>037386N</td>\n",
              "      <td>0130415W</td>\n",
              "      <td>NaN</td>\n",
              "      <td>NaN</td>\n",
              "      <td>...</td>\n",
              "      <td>Heli Union Ltd</td>\n",
              "      <td>3.0</td>\n",
              "      <td>0.0</td>\n",
              "      <td>2.0</td>\n",
              "      <td>4.0</td>\n",
              "      <td>NaN</td>\n",
              "      <td>NaN</td>\n",
              "      <td>To be determined by the government of Burma.</td>\n",
              "      <td>03-11-2020</td>\n",
              "      <td>PO</td>\n",
              "    </tr>\n",
              "    <tr>\n",
              "      <th>7</th>\n",
              "      <td>20130305X21219</td>\n",
              "      <td>Accident</td>\n",
              "      <td>WPR13LA137</td>\n",
              "      <td>2013-03-02</td>\n",
              "      <td>Latangai Island, PO</td>\n",
              "      <td>Papua New Guinea</td>\n",
              "      <td>373810N</td>\n",
              "      <td>0130410W</td>\n",
              "      <td>NaN</td>\n",
              "      <td>NaN</td>\n",
              "      <td>...</td>\n",
              "      <td>JERRYS HELICOPTER SERVICE INC</td>\n",
              "      <td>1.0</td>\n",
              "      <td>0.0</td>\n",
              "      <td>1.0</td>\n",
              "      <td>0.0</td>\n",
              "      <td>VMC</td>\n",
              "      <td>NaN</td>\n",
              "      <td>The failure of both the pilot and the fish mas...</td>\n",
              "      <td>25-09-2020</td>\n",
              "      <td>PO</td>\n",
              "    </tr>\n",
              "    <tr>\n",
              "      <th>8</th>\n",
              "      <td>20140320X53321</td>\n",
              "      <td>Accident</td>\n",
              "      <td>DCA14CA083</td>\n",
              "      <td>2014-03-17</td>\n",
              "      <td>Seattle, PO</td>\n",
              "      <td>United States</td>\n",
              "      <td>037383N</td>\n",
              "      <td>0130410W</td>\n",
              "      <td>NaN</td>\n",
              "      <td>NaN</td>\n",
              "      <td>...</td>\n",
              "      <td>Delta Air Lines</td>\n",
              "      <td>0.0</td>\n",
              "      <td>0.0</td>\n",
              "      <td>1.0</td>\n",
              "      <td>264.0</td>\n",
              "      <td>VMC</td>\n",
              "      <td>NaN</td>\n",
              "      <td>the flight attendant inadvertently tripping ov...</td>\n",
              "      <td>25-09-2020</td>\n",
              "      <td>PO</td>\n",
              "    </tr>\n",
              "    <tr>\n",
              "      <th>9</th>\n",
              "      <td>20150126X84741</td>\n",
              "      <td>Accident</td>\n",
              "      <td>WPR15LA089</td>\n",
              "      <td>2015-01-26</td>\n",
              "      <td>Maui, PO</td>\n",
              "      <td>United States</td>\n",
              "      <td>205214N</td>\n",
              "      <td>1562659W</td>\n",
              "      <td>NaN</td>\n",
              "      <td>NaN</td>\n",
              "      <td>...</td>\n",
              "      <td>The Flight Academy</td>\n",
              "      <td>0.0</td>\n",
              "      <td>0.0</td>\n",
              "      <td>0.0</td>\n",
              "      <td>1.0</td>\n",
              "      <td>VMC</td>\n",
              "      <td>NaN</td>\n",
              "      <td>The pilot's inability to transfer fuel from th...</td>\n",
              "      <td>25-09-2020</td>\n",
              "      <td>PO</td>\n",
              "    </tr>\n",
              "    <tr>\n",
              "      <th>10</th>\n",
              "      <td>20150219X14806</td>\n",
              "      <td>Accident</td>\n",
              "      <td>DCA15LA067</td>\n",
              "      <td>2015-02-15</td>\n",
              "      <td>HONOLULU, PO</td>\n",
              "      <td>United States</td>\n",
              "      <td>223632N</td>\n",
              "      <td>1535035W</td>\n",
              "      <td>NaN</td>\n",
              "      <td>NaN</td>\n",
              "      <td>...</td>\n",
              "      <td>UNITED AIR LINES INC</td>\n",
              "      <td>0.0</td>\n",
              "      <td>4.0</td>\n",
              "      <td>1.0</td>\n",
              "      <td>245.0</td>\n",
              "      <td>IMC</td>\n",
              "      <td>NaN</td>\n",
              "      <td>an encounter with convective turbulence associ...</td>\n",
              "      <td>25-09-2020</td>\n",
              "      <td>PO</td>\n",
              "    </tr>\n",
              "    <tr>\n",
              "      <th>11</th>\n",
              "      <td>20150814X91539</td>\n",
              "      <td>Accident</td>\n",
              "      <td>WPR15LA242</td>\n",
              "      <td>2015-08-14</td>\n",
              "      <td>Pacific Ocean, PO</td>\n",
              "      <td>United States</td>\n",
              "      <td>037389N</td>\n",
              "      <td>0130410W</td>\n",
              "      <td>NaN</td>\n",
              "      <td>NaN</td>\n",
              "      <td>...</td>\n",
              "      <td>NaN</td>\n",
              "      <td>1.0</td>\n",
              "      <td>0.0</td>\n",
              "      <td>0.0</td>\n",
              "      <td>0.0</td>\n",
              "      <td>VMC</td>\n",
              "      <td>NaN</td>\n",
              "      <td>The pilot's incapacitation for reasons that co...</td>\n",
              "      <td>25-09-2020</td>\n",
              "      <td>PO</td>\n",
              "    </tr>\n",
              "    <tr>\n",
              "      <th>12</th>\n",
              "      <td>20160817X93540</td>\n",
              "      <td>Incident</td>\n",
              "      <td>ENG16WA032</td>\n",
              "      <td>2016-08-07</td>\n",
              "      <td>Over the Pacific, PO</td>\n",
              "      <td>UN</td>\n",
              "      <td>NaN</td>\n",
              "      <td>NaN</td>\n",
              "      <td>GUM</td>\n",
              "      <td>GUAM INTL</td>\n",
              "      <td>...</td>\n",
              "      <td>Jetstar</td>\n",
              "      <td>0.0</td>\n",
              "      <td>0.0</td>\n",
              "      <td>0.0</td>\n",
              "      <td>320.0</td>\n",
              "      <td>NaN</td>\n",
              "      <td>NaN</td>\n",
              "      <td>NaN</td>\n",
              "      <td>25-09-2020</td>\n",
              "      <td>PO</td>\n",
              "    </tr>\n",
              "    <tr>\n",
              "      <th>13</th>\n",
              "      <td>20170308X31846</td>\n",
              "      <td>Accident</td>\n",
              "      <td>WPR17LA075</td>\n",
              "      <td>2017-02-22</td>\n",
              "      <td>Unknown, PO</td>\n",
              "      <td>United States</td>\n",
              "      <td>037385N</td>\n",
              "      <td>0130415W</td>\n",
              "      <td>NaN</td>\n",
              "      <td>NaN</td>\n",
              "      <td>...</td>\n",
              "      <td>JIMS AIR REPAIR</td>\n",
              "      <td>0.0</td>\n",
              "      <td>0.0</td>\n",
              "      <td>2.0</td>\n",
              "      <td>0.0</td>\n",
              "      <td>VMC</td>\n",
              "      <td>NaN</td>\n",
              "      <td>The pilot's failure to detect the presence of ...</td>\n",
              "      <td>25-09-2020</td>\n",
              "      <td>PO</td>\n",
              "    </tr>\n",
              "    <tr>\n",
              "      <th>14</th>\n",
              "      <td>20170823X05408</td>\n",
              "      <td>Accident</td>\n",
              "      <td>WPR17LA186</td>\n",
              "      <td>2017-08-22</td>\n",
              "      <td>Pacific Ocean, PO</td>\n",
              "      <td>United States</td>\n",
              "      <td>313919N</td>\n",
              "      <td>1181923W</td>\n",
              "      <td>NaN</td>\n",
              "      <td>NaN</td>\n",
              "      <td>...</td>\n",
              "      <td>Airborne Tactical Advantage</td>\n",
              "      <td>0.0</td>\n",
              "      <td>1.0</td>\n",
              "      <td>0.0</td>\n",
              "      <td>0.0</td>\n",
              "      <td>VMC</td>\n",
              "      <td>NaN</td>\n",
              "      <td>The pilots loss of airplane control after fly...</td>\n",
              "      <td>NaN</td>\n",
              "      <td>PO</td>\n",
              "    </tr>\n",
              "    <tr>\n",
              "      <th>15</th>\n",
              "      <td>20190305X42937</td>\n",
              "      <td>Accident</td>\n",
              "      <td>DCA19CA090</td>\n",
              "      <td>2019-02-03</td>\n",
              "      <td>Pacific Ocean, PO</td>\n",
              "      <td>United States</td>\n",
              "      <td>037385N</td>\n",
              "      <td>0130413W</td>\n",
              "      <td>NaN</td>\n",
              "      <td>NaN</td>\n",
              "      <td>...</td>\n",
              "      <td>United Airlines</td>\n",
              "      <td>0.0</td>\n",
              "      <td>0.0</td>\n",
              "      <td>1.0</td>\n",
              "      <td>220.0</td>\n",
              "      <td>VMC</td>\n",
              "      <td>NaN</td>\n",
              "      <td>NaN</td>\n",
              "      <td>13-12-2021</td>\n",
              "      <td>PO</td>\n",
              "    </tr>\n",
              "    <tr>\n",
              "      <th>16</th>\n",
              "      <td>20210820103730</td>\n",
              "      <td>Incident</td>\n",
              "      <td>DCA21WA207</td>\n",
              "      <td>2021-08-14</td>\n",
              "      <td>Guam, PO</td>\n",
              "      <td>United States</td>\n",
              "      <td>NaN</td>\n",
              "      <td>NaN</td>\n",
              "      <td>NaN</td>\n",
              "      <td>NaN</td>\n",
              "      <td>...</td>\n",
              "      <td>EVA Air</td>\n",
              "      <td>0.0</td>\n",
              "      <td>0.0</td>\n",
              "      <td>0.0</td>\n",
              "      <td>0.0</td>\n",
              "      <td>NaN</td>\n",
              "      <td>NaN</td>\n",
              "      <td>NaN</td>\n",
              "      <td>NaN</td>\n",
              "      <td>PO</td>\n",
              "    </tr>\n",
              "    <tr>\n",
              "      <th>17</th>\n",
              "      <td>20080723X01111</td>\n",
              "      <td>Accident</td>\n",
              "      <td>DCA08FA062</td>\n",
              "      <td>2008-05-19</td>\n",
              "      <td>Pacific Ocean,</td>\n",
              "      <td>United States</td>\n",
              "      <td>015500N</td>\n",
              "      <td>0152830E</td>\n",
              "      <td>NaN</td>\n",
              "      <td>NaN</td>\n",
              "      <td>...</td>\n",
              "      <td>Omni Air International</td>\n",
              "      <td>0.0</td>\n",
              "      <td>4.0</td>\n",
              "      <td>1.0</td>\n",
              "      <td>157.0</td>\n",
              "      <td>VMC</td>\n",
              "      <td>NaN</td>\n",
              "      <td>An inadvertent in-flight encounter with unfore...</td>\n",
              "      <td>25-09-2020</td>\n",
              "      <td></td>\n",
              "    </tr>\n",
              "    <tr>\n",
              "      <th>18</th>\n",
              "      <td>20100719X80209</td>\n",
              "      <td>Accident</td>\n",
              "      <td>DCA10FA076</td>\n",
              "      <td>2010-07-15</td>\n",
              "      <td>Pacific Ocean,</td>\n",
              "      <td>United States</td>\n",
              "      <td>NaN</td>\n",
              "      <td>NaN</td>\n",
              "      <td>NaN</td>\n",
              "      <td>NaN</td>\n",
              "      <td>...</td>\n",
              "      <td>DELTA AIRLINES INC</td>\n",
              "      <td>0.0</td>\n",
              "      <td>0.0</td>\n",
              "      <td>1.0</td>\n",
              "      <td>201.0</td>\n",
              "      <td>VMC</td>\n",
              "      <td>NaN</td>\n",
              "      <td>an inadvertent encounter with clear air turbul...</td>\n",
              "      <td>25-09-2020</td>\n",
              "      <td></td>\n",
              "    </tr>\n",
              "    <tr>\n",
              "      <th>19</th>\n",
              "      <td>20100831X62338</td>\n",
              "      <td>Incident</td>\n",
              "      <td>ENG10WA048</td>\n",
              "      <td>2010-07-30</td>\n",
              "      <td>Pacific Ocean,</td>\n",
              "      <td>United States</td>\n",
              "      <td>037370N</td>\n",
              "      <td>0122220E</td>\n",
              "      <td>NaN</td>\n",
              "      <td>NaN</td>\n",
              "      <td>...</td>\n",
              "      <td>Qantas Airways Limited</td>\n",
              "      <td>0.0</td>\n",
              "      <td>0.0</td>\n",
              "      <td>0.0</td>\n",
              "      <td>0.0</td>\n",
              "      <td>NaN</td>\n",
              "      <td>NaN</td>\n",
              "      <td>NaN</td>\n",
              "      <td>03-11-2020</td>\n",
              "      <td></td>\n",
              "    </tr>\n",
              "    <tr>\n",
              "      <th>20</th>\n",
              "      <td>20110418X12310</td>\n",
              "      <td>Accident</td>\n",
              "      <td>WPR11LA203</td>\n",
              "      <td>2011-04-11</td>\n",
              "      <td>Pacific Ocean,</td>\n",
              "      <td>United States</td>\n",
              "      <td>355336N</td>\n",
              "      <td>1435218E</td>\n",
              "      <td>NRT</td>\n",
              "      <td>Narita International Airport</td>\n",
              "      <td>...</td>\n",
              "      <td>AMERICAN AIRLINES INC</td>\n",
              "      <td>0.0</td>\n",
              "      <td>2.0</td>\n",
              "      <td>2.0</td>\n",
              "      <td>227.0</td>\n",
              "      <td>VMC</td>\n",
              "      <td>NaN</td>\n",
              "      <td>An inadvertent encounter with convective-induc...</td>\n",
              "      <td>25-09-2020</td>\n",
              "      <td></td>\n",
              "    </tr>\n",
              "  </tbody>\n",
              "</table>\n",
              "<p>21 rows × 32 columns</p>\n",
              "</div>\n",
              "      <button class=\"colab-df-convert\" onclick=\"convertToInteractive('df-b6bd5d19-bad9-497b-88c7-7ac61d2ffd36')\"\n",
              "              title=\"Convert this dataframe to an interactive table.\"\n",
              "              style=\"display:none;\">\n",
              "        \n",
              "  <svg xmlns=\"http://www.w3.org/2000/svg\" height=\"24px\"viewBox=\"0 0 24 24\"\n",
              "       width=\"24px\">\n",
              "    <path d=\"M0 0h24v24H0V0z\" fill=\"none\"/>\n",
              "    <path d=\"M18.56 5.44l.94 2.06.94-2.06 2.06-.94-2.06-.94-.94-2.06-.94 2.06-2.06.94zm-11 1L8.5 8.5l.94-2.06 2.06-.94-2.06-.94L8.5 2.5l-.94 2.06-2.06.94zm10 10l.94 2.06.94-2.06 2.06-.94-2.06-.94-.94-2.06-.94 2.06-2.06.94z\"/><path d=\"M17.41 7.96l-1.37-1.37c-.4-.4-.92-.59-1.43-.59-.52 0-1.04.2-1.43.59L10.3 9.45l-7.72 7.72c-.78.78-.78 2.05 0 2.83L4 21.41c.39.39.9.59 1.41.59.51 0 1.02-.2 1.41-.59l7.78-7.78 2.81-2.81c.8-.78.8-2.07 0-2.86zM5.41 20L4 18.59l7.72-7.72 1.47 1.35L5.41 20z\"/>\n",
              "  </svg>\n",
              "      </button>\n",
              "      \n",
              "  <style>\n",
              "    .colab-df-container {\n",
              "      display:flex;\n",
              "      flex-wrap:wrap;\n",
              "      gap: 12px;\n",
              "    }\n",
              "\n",
              "    .colab-df-convert {\n",
              "      background-color: #E8F0FE;\n",
              "      border: none;\n",
              "      border-radius: 50%;\n",
              "      cursor: pointer;\n",
              "      display: none;\n",
              "      fill: #1967D2;\n",
              "      height: 32px;\n",
              "      padding: 0 0 0 0;\n",
              "      width: 32px;\n",
              "    }\n",
              "\n",
              "    .colab-df-convert:hover {\n",
              "      background-color: #E2EBFA;\n",
              "      box-shadow: 0px 1px 2px rgba(60, 64, 67, 0.3), 0px 1px 3px 1px rgba(60, 64, 67, 0.15);\n",
              "      fill: #174EA6;\n",
              "    }\n",
              "\n",
              "    [theme=dark] .colab-df-convert {\n",
              "      background-color: #3B4455;\n",
              "      fill: #D2E3FC;\n",
              "    }\n",
              "\n",
              "    [theme=dark] .colab-df-convert:hover {\n",
              "      background-color: #434B5C;\n",
              "      box-shadow: 0px 1px 3px 1px rgba(0, 0, 0, 0.15);\n",
              "      filter: drop-shadow(0px 1px 2px rgba(0, 0, 0, 0.3));\n",
              "      fill: #FFFFFF;\n",
              "    }\n",
              "  </style>\n",
              "\n",
              "      <script>\n",
              "        const buttonEl =\n",
              "          document.querySelector('#df-b6bd5d19-bad9-497b-88c7-7ac61d2ffd36 button.colab-df-convert');\n",
              "        buttonEl.style.display =\n",
              "          google.colab.kernel.accessAllowed ? 'block' : 'none';\n",
              "\n",
              "        async function convertToInteractive(key) {\n",
              "          const element = document.querySelector('#df-b6bd5d19-bad9-497b-88c7-7ac61d2ffd36');\n",
              "          const dataTable =\n",
              "            await google.colab.kernel.invokeFunction('convertToInteractive',\n",
              "                                                     [key], {});\n",
              "          if (!dataTable) return;\n",
              "\n",
              "          const docLinkHtml = 'Like what you see? Visit the ' +\n",
              "            '<a target=\"_blank\" href=https://colab.research.google.com/notebooks/data_table.ipynb>data table notebook</a>'\n",
              "            + ' to learn more about interactive tables.';\n",
              "          element.innerHTML = '';\n",
              "          dataTable['output_type'] = 'display_data';\n",
              "          await google.colab.output.renderOutput(dataTable, element);\n",
              "          const docLink = document.createElement('div');\n",
              "          docLink.innerHTML = docLinkHtml;\n",
              "          element.appendChild(docLink);\n",
              "        }\n",
              "      </script>\n",
              "    </div>\n",
              "  </div>\n",
              "  "
            ]
          },
          "metadata": {}
        }
      ]
    },
    {
      "cell_type": "code",
      "source": [
        "# Pacific Ocean, only airplanes.\n",
        "df_fly_po_planes = df_fly_po[df_fly_po['Aircraft.Category'] == 'Airplane']"
      ],
      "metadata": {
        "id": "pKGrGteMKngH"
      },
      "execution_count": null,
      "outputs": []
    },
    {
      "cell_type": "code",
      "source": [
        "# comparing length of df before and after filtering for airplanes only\n",
        "len(df_fly_po)"
      ],
      "metadata": {
        "colab": {
          "base_uri": "https://localhost:8080/"
        },
        "id": "yllGjrcpyTKS",
        "outputId": "78cea663-8cd6-4a25-9380-399e56761a4c"
      },
      "execution_count": null,
      "outputs": [
        {
          "output_type": "execute_result",
          "data": {
            "text/plain": [
              "17"
            ]
          },
          "metadata": {},
          "execution_count": 133
        }
      ]
    },
    {
      "cell_type": "code",
      "source": [
        "len(df_fly_po_planes)"
      ],
      "metadata": {
        "colab": {
          "base_uri": "https://localhost:8080/"
        },
        "id": "tKi5yhuMKuRI",
        "outputId": "7f3ede8b-a089-4d92-b29e-e9cc823c24e3"
      },
      "execution_count": null,
      "outputs": [
        {
          "output_type": "execute_result",
          "data": {
            "text/plain": [
              "14"
            ]
          },
          "metadata": {},
          "execution_count": 299
        }
      ]
    },
    {
      "cell_type": "code",
      "source": [
        "#exporting and saving df_fly_po_planes file to my google drive\n",
        "path = '/content/drive/My Drive/df_fly_po_planes.csv'\n",
        "with open(path, 'w', encoding = 'utf-8-sig') as f:\n",
        " df_fly_po_planes.to_csv(f)"
      ],
      "metadata": {
        "id": "biSwTmm2VZ4u"
      },
      "execution_count": null,
      "outputs": []
    },
    {
      "cell_type": "code",
      "source": [
        "#exporting and saving df_fly_po file to my google drive\n",
        "path = '/content/drive/My Drive/df_fly_po.csv'\n",
        "with open(path, 'w', encoding = 'utf-8-sig') as f:\n",
        " df_fly_po.to_csv(f)"
      ],
      "metadata": {
        "id": "5MUWwDYFVeLu"
      },
      "execution_count": null,
      "outputs": []
    },
    {
      "cell_type": "markdown",
      "source": [
        "**State 44: Puerto Rico**\n",
        "*Note: Puerto Rico, a US territory, is included as a 'state' in the United States dataset by NTSB. See `states.csv` for the full list*"
      ],
      "metadata": {
        "id": "vqUODDr2TQD6"
      }
    },
    {
      "cell_type": "code",
      "source": [
        "# Puerto Rico, all aircraft\n",
        "df_fly_pr = df[df['State'] == 'PR']"
      ],
      "metadata": {
        "id": "SNUimZw9jeAu"
      },
      "execution_count": null,
      "outputs": []
    },
    {
      "cell_type": "code",
      "source": [
        "# Puerto Rico, only airplanes\n",
        "df_fly_pr_planes = df_fly_pr[df_fly_pr['Aircraft.Category'] == 'Airplane']"
      ],
      "metadata": {
        "id": "m5WsZRVbK1wX"
      },
      "execution_count": null,
      "outputs": []
    },
    {
      "cell_type": "code",
      "source": [
        "# comparing length of df before and after filtering for airplanes only\n",
        "len(df_fly_pr)"
      ],
      "metadata": {
        "colab": {
          "base_uri": "https://localhost:8080/"
        },
        "id": "apMg6iRCK0aI",
        "outputId": "405046d0-24c2-4b95-9d77-5f3be4bf4cfa"
      },
      "execution_count": null,
      "outputs": [
        {
          "output_type": "execute_result",
          "data": {
            "text/plain": [
              "115"
            ]
          },
          "metadata": {},
          "execution_count": 300
        }
      ]
    },
    {
      "cell_type": "code",
      "source": [
        "len(df_fly_pr_planes)"
      ],
      "metadata": {
        "colab": {
          "base_uri": "https://localhost:8080/"
        },
        "id": "Qx1hC24VK5kE",
        "outputId": "c329c124-4733-4835-b903-cfc0652736bd"
      },
      "execution_count": null,
      "outputs": [
        {
          "output_type": "execute_result",
          "data": {
            "text/plain": [
              "54"
            ]
          },
          "metadata": {},
          "execution_count": 303
        }
      ]
    },
    {
      "cell_type": "code",
      "source": [
        "#exporting and saving df_fly_pr_planes file to my google drive\n",
        "path = '/content/drive/My Drive/df_fly_pr_planes.csv'\n",
        "with open(path, 'w', encoding = 'utf-8-sig') as f:\n",
        " df_fly_pr_planes.to_csv(f)"
      ],
      "metadata": {
        "id": "QujaOd0zVjRb"
      },
      "execution_count": null,
      "outputs": []
    },
    {
      "cell_type": "code",
      "source": [
        "#exporting and saving df_fly_pr file to my google drive\n",
        "path = '/content/drive/My Drive/df_fly_pr.csv'\n",
        "with open(path, 'w', encoding = 'utf-8-sig') as f:\n",
        " df_fly_pr.to_csv(f)"
      ],
      "metadata": {
        "id": "3_Cx0thFVml-"
      },
      "execution_count": null,
      "outputs": []
    },
    {
      "cell_type": "markdown",
      "source": [
        "**State 45: Rhode Island**"
      ],
      "metadata": {
        "id": "2Xdt1tRFUCa7"
      }
    },
    {
      "cell_type": "code",
      "source": [
        "# Rhode Island, all aircraft\n",
        "df_fly_ri = df[df['State'] == 'RI']"
      ],
      "metadata": {
        "id": "Pjh4FpxRkfTq"
      },
      "execution_count": null,
      "outputs": []
    },
    {
      "cell_type": "code",
      "source": [
        "# Rhode Island, only airplanes\n",
        "df_fly_ri_planes = df_fly_ri[df_fly_ri['Aircraft.Category'] == 'Airplane']"
      ],
      "metadata": {
        "id": "-XobhqRxLA_G"
      },
      "execution_count": null,
      "outputs": []
    },
    {
      "cell_type": "code",
      "source": [
        "# comparing length of df before and after filtering for airplanes only\n",
        "len(df_fly_ri)"
      ],
      "metadata": {
        "colab": {
          "base_uri": "https://localhost:8080/"
        },
        "id": "b_UjQ089K-1s",
        "outputId": "4e12f80d-a007-4f45-8d59-bdd537fe23b4"
      },
      "execution_count": null,
      "outputs": [
        {
          "output_type": "execute_result",
          "data": {
            "text/plain": [
              "158"
            ]
          },
          "metadata": {},
          "execution_count": 304
        }
      ]
    },
    {
      "cell_type": "code",
      "source": [
        "len(df_fly_ri_planes)"
      ],
      "metadata": {
        "colab": {
          "base_uri": "https://localhost:8080/"
        },
        "id": "H4-gJgeLLGEh",
        "outputId": "c619154b-c532-46ae-ca9d-5740c862a9ec"
      },
      "execution_count": null,
      "outputs": [
        {
          "output_type": "execute_result",
          "data": {
            "text/plain": [
              "42"
            ]
          },
          "metadata": {},
          "execution_count": 306
        }
      ]
    },
    {
      "cell_type": "code",
      "source": [
        "#exporting and saving df_fly_ri_planes file to my google drive\n",
        "path = '/content/drive/My Drive/df_fly_ri_planes.csv'\n",
        "with open(path, 'w', encoding = 'utf-8-sig') as f:\n",
        " df_fly_ri_planes.to_csv(f)"
      ],
      "metadata": {
        "id": "6ZjPHLatVqyo"
      },
      "execution_count": null,
      "outputs": []
    },
    {
      "cell_type": "code",
      "source": [
        "#exporting and saving df_fly_ri file to my google drive\n",
        "path = '/content/drive/My Drive/df_fly_ri.csv'\n",
        "with open(path, 'w', encoding = 'utf-8-sig') as f:\n",
        " df_fly_ri.to_csv(f)"
      ],
      "metadata": {
        "id": "vu8PMgFhVu55"
      },
      "execution_count": null,
      "outputs": []
    },
    {
      "cell_type": "markdown",
      "source": [
        "**State 46: South Carolina**"
      ],
      "metadata": {
        "id": "8difOabWUt_F"
      }
    },
    {
      "cell_type": "code",
      "source": [
        "# South Carolina all aircraft\n",
        "df_fly_sc = df[df['State'] == 'SC']"
      ],
      "metadata": {
        "id": "YdFEDYvlkfeV"
      },
      "execution_count": null,
      "outputs": []
    },
    {
      "cell_type": "code",
      "source": [
        "# South Carolina, only airplanes\n",
        "df_fly_sc_planes = df_fly_sc[df_fly_sc['Aircraft.Category'] == 'Airplane']"
      ],
      "metadata": {
        "id": "bXsT48OOLbJ1"
      },
      "execution_count": null,
      "outputs": []
    },
    {
      "cell_type": "code",
      "source": [
        "# comparing length of df before and after filtering for airplanes only\n",
        "len(df_fly_sc)"
      ],
      "metadata": {
        "colab": {
          "base_uri": "https://localhost:8080/"
        },
        "id": "9Icq3xCOLZkC",
        "outputId": "8811e3da-d1bb-4c9b-e19b-79a128d63800"
      },
      "execution_count": null,
      "outputs": [
        {
          "output_type": "execute_result",
          "data": {
            "text/plain": [
              "974"
            ]
          },
          "metadata": {},
          "execution_count": 311
        }
      ]
    },
    {
      "cell_type": "code",
      "source": [
        "len(df_fly_sc_planes)"
      ],
      "metadata": {
        "colab": {
          "base_uri": "https://localhost:8080/"
        },
        "id": "-WZ-XP59LfI0",
        "outputId": "62078b94-baeb-4c81-8842-f8c37d3c9805"
      },
      "execution_count": null,
      "outputs": [
        {
          "output_type": "execute_result",
          "data": {
            "text/plain": [
              "317"
            ]
          },
          "metadata": {},
          "execution_count": 313
        }
      ]
    },
    {
      "cell_type": "code",
      "source": [
        "#exporting and saving df_fly_sc_planes file to my google drive\n",
        "path = '/content/drive/My Drive/df_fly_sc_planes.csv'\n",
        "with open(path, 'w', encoding = 'utf-8-sig') as f:\n",
        " df_fly_sc_planes.to_csv(f)"
      ],
      "metadata": {
        "id": "aYW1yNRAV9l1"
      },
      "execution_count": null,
      "outputs": []
    },
    {
      "cell_type": "code",
      "source": [
        "#exporting and saving df_fly_sc file to my google drive\n",
        "path = '/content/drive/My Drive/df_fly_sc.csv'\n",
        "with open(path, 'w', encoding = 'utf-8-sig') as f:\n",
        " df_fly_sc.to_csv(f)"
      ],
      "metadata": {
        "id": "1S5JpLN8WA_u"
      },
      "execution_count": null,
      "outputs": []
    },
    {
      "cell_type": "markdown",
      "source": [
        "**State 47: South Dakota**"
      ],
      "metadata": {
        "id": "8ykDNNIZU5Sp"
      }
    },
    {
      "cell_type": "code",
      "source": [
        "# South Dakota, all aircraft\n",
        "df_fly_sd = df[df['State'] == 'SD']"
      ],
      "metadata": {
        "id": "Wvx5B4L-kfiM"
      },
      "execution_count": null,
      "outputs": []
    },
    {
      "cell_type": "code",
      "source": [
        "# South Dakota, only airplanes\n",
        "df_fly_sd_planes =df_fly_sd[df_fly_sd['Aircraft.Category'] == 'Airplane']"
      ],
      "metadata": {
        "id": "kl_DLVN8Lnea"
      },
      "execution_count": null,
      "outputs": []
    },
    {
      "cell_type": "code",
      "source": [
        "# comparing length of df before and after filtering for airplanes only\n",
        "len(df_fly_sd)"
      ],
      "metadata": {
        "colab": {
          "base_uri": "https://localhost:8080/"
        },
        "id": "WFPrdXdOLj69",
        "outputId": "66e94651-692b-4426-935f-fb40c78dc0b8"
      },
      "execution_count": null,
      "outputs": [
        {
          "output_type": "execute_result",
          "data": {
            "text/plain": [
              "446"
            ]
          },
          "metadata": {},
          "execution_count": 314
        }
      ]
    },
    {
      "cell_type": "code",
      "source": [
        "len(df_fly_sd_planes)"
      ],
      "metadata": {
        "colab": {
          "base_uri": "https://localhost:8080/"
        },
        "id": "SC17QQZ7Lrbp",
        "outputId": "ac1a1283-ec8a-4c57-bddc-f31d6f813c88"
      },
      "execution_count": null,
      "outputs": [
        {
          "output_type": "execute_result",
          "data": {
            "text/plain": [
              "144"
            ]
          },
          "metadata": {},
          "execution_count": 316
        }
      ]
    },
    {
      "cell_type": "code",
      "source": [
        "#exporting and saving df_fly_sd_planes file to my google drive\n",
        "path = '/content/drive/My Drive/df_fly_sd_planes.csv'\n",
        "with open(path, 'w', encoding = 'utf-8-sig') as f:\n",
        " df_fly_sd_planes.to_csv(f)"
      ],
      "metadata": {
        "id": "iG9M3CELWFSG"
      },
      "execution_count": null,
      "outputs": []
    },
    {
      "cell_type": "code",
      "source": [
        "#exporting and saving df_fly_sd file to my google drive\n",
        "path = '/content/drive/My Drive/df_fly_sd.csv'\n",
        "with open(path, 'w', encoding = 'utf-8-sig') as f:\n",
        " df_fly_sd.to_csv(f)"
      ],
      "metadata": {
        "id": "rKtON5UsWJOV"
      },
      "execution_count": null,
      "outputs": []
    },
    {
      "cell_type": "markdown",
      "source": [
        "**State 48: Tennessee**"
      ],
      "metadata": {
        "id": "_QSTXbEvVGfx"
      }
    },
    {
      "cell_type": "code",
      "source": [
        "# Tennessee, all aircraft\n",
        "df_fly_tn = df[df['State'] == 'TN']\n"
      ],
      "metadata": {
        "id": "bsk3uVQ_kflb"
      },
      "execution_count": null,
      "outputs": []
    },
    {
      "cell_type": "code",
      "source": [
        "# Tennessee, only airplanes\n",
        "df_fly_tn_planes = df_fly_tn[df_fly_tn['Aircraft.Category'] == 'Airplane']"
      ],
      "metadata": {
        "id": "5mI3bVcuLwAA"
      },
      "execution_count": null,
      "outputs": []
    },
    {
      "cell_type": "code",
      "source": [
        "# comparing length of df before and after filtering for airplanes only\n",
        "len(df_fly_tn)"
      ],
      "metadata": {
        "colab": {
          "base_uri": "https://localhost:8080/"
        },
        "id": "1k_Qo-KhLuoU",
        "outputId": "2ae97e90-b019-4388-874e-446267119975"
      },
      "execution_count": null,
      "outputs": [
        {
          "output_type": "execute_result",
          "data": {
            "text/plain": [
              "1108"
            ]
          },
          "metadata": {},
          "execution_count": 317
        }
      ]
    },
    {
      "cell_type": "code",
      "source": [
        "len(df_fly_tn_planes)"
      ],
      "metadata": {
        "colab": {
          "base_uri": "https://localhost:8080/"
        },
        "id": "taUAG_4NL1G9",
        "outputId": "ab12bde1-4e79-4225-bcb4-713dabf97c3f"
      },
      "execution_count": null,
      "outputs": [
        {
          "output_type": "execute_result",
          "data": {
            "text/plain": [
              "352"
            ]
          },
          "metadata": {},
          "execution_count": 319
        }
      ]
    },
    {
      "cell_type": "code",
      "source": [
        "#exporting and saving df_fly_tn_planes file to my google drive\n",
        "path = '/content/drive/My Drive/df_fly_tn_planes.csv'\n",
        "with open(path, 'w', encoding = 'utf-8-sig') as f:\n",
        " df_fly_tn_planes.to_csv(f)"
      ],
      "metadata": {
        "id": "jgbi1F8pWNP2"
      },
      "execution_count": null,
      "outputs": []
    },
    {
      "cell_type": "code",
      "source": [
        "#exporting and saving df_fly_tn file to my google drive\n",
        "path = '/content/drive/My Drive/df_fly_tn.csv'\n",
        "with open(path, 'w', encoding = 'utf-8-sig') as f:\n",
        " df_fly_tn.to_csv(f)"
      ],
      "metadata": {
        "id": "HhlObOtzWZNJ"
      },
      "execution_count": null,
      "outputs": []
    },
    {
      "cell_type": "markdown",
      "source": [
        "**State 49: Texas**"
      ],
      "metadata": {
        "id": "2BPYtl42VS-q"
      }
    },
    {
      "cell_type": "code",
      "source": [
        "# Texas, all aircraft\n",
        "df_fly_tx = df[df['State'] == 'TX']"
      ],
      "metadata": {
        "id": "9i1Ubdiylryt"
      },
      "execution_count": null,
      "outputs": []
    },
    {
      "cell_type": "code",
      "source": [
        "# Texas, only airplanes\n",
        "df_fly_tx_planes = df_fly_tx[df_fly_tx['Aircraft.Category'] == 'Airplane']"
      ],
      "metadata": {
        "id": "7akgWI2yL9It"
      },
      "execution_count": null,
      "outputs": []
    },
    {
      "cell_type": "code",
      "source": [
        "# comparing length of df before and after filtering for airplanes only\n",
        "len(df_fly_tx)"
      ],
      "metadata": {
        "colab": {
          "base_uri": "https://localhost:8080/"
        },
        "id": "qzn6-sqKL5tA",
        "outputId": "87d7f225-8d75-45da-d478-8e3dde571840"
      },
      "execution_count": null,
      "outputs": [
        {
          "output_type": "execute_result",
          "data": {
            "text/plain": [
              "5913"
            ]
          },
          "metadata": {},
          "execution_count": 320
        }
      ]
    },
    {
      "cell_type": "code",
      "source": [
        "len(df_fly_tx_planes)"
      ],
      "metadata": {
        "colab": {
          "base_uri": "https://localhost:8080/"
        },
        "id": "cCFindLDMEMT",
        "outputId": "4b1545a3-06f6-461c-c753-429b3ec40709"
      },
      "execution_count": null,
      "outputs": [
        {
          "output_type": "execute_result",
          "data": {
            "text/plain": [
              "1939"
            ]
          },
          "metadata": {},
          "execution_count": 322
        }
      ]
    },
    {
      "cell_type": "code",
      "source": [
        "#exporting and saving df_fly_tx_planes file to my google drive\n",
        "path = '/content/drive/My Drive/df_fly_tx_planes.csv'\n",
        "with open(path, 'w', encoding = 'utf-8-sig') as f:\n",
        " df_fly_tx_planes.to_csv(f)"
      ],
      "metadata": {
        "id": "A5sSlUavWRb7"
      },
      "execution_count": null,
      "outputs": []
    },
    {
      "cell_type": "code",
      "source": [
        "#exporting and saving df_fly_tx file to my google drive\n",
        "path = '/content/drive/My Drive/df_fly_tx.csv'\n",
        "with open(path, 'w', encoding = 'utf-8-sig') as f:\n",
        " df_fly_tx.to_csv(f)"
      ],
      "metadata": {
        "id": "5owbUk4eWgjd"
      },
      "execution_count": null,
      "outputs": []
    },
    {
      "cell_type": "code",
      "source": [
        "# Recall, the state 'UN', there are records from the Gulf Of Mexico, UN maybe Oceanic, UN??\n",
        "df_fly_un = df[df['State'] == 'UN']\n",
        "df_fly_un"
      ],
      "metadata": {
        "id": "TxjGso3ilr5w"
      },
      "execution_count": null,
      "outputs": []
    },
    {
      "cell_type": "code",
      "source": [
        "len(df_fly_un)"
      ],
      "metadata": {
        "colab": {
          "base_uri": "https://localhost:8080/"
        },
        "id": "TMVwyoDoMMFA",
        "outputId": "a0dbf3e3-c042-4c21-bc9e-6b92031ff217"
      },
      "execution_count": null,
      "outputs": [
        {
          "output_type": "execute_result",
          "data": {
            "text/plain": [
              "11"
            ]
          },
          "metadata": {},
          "execution_count": 323
        }
      ]
    },
    {
      "cell_type": "markdown",
      "source": [
        "**State 50: Utah**"
      ],
      "metadata": {
        "id": "rlkMF6KQWK70"
      }
    },
    {
      "cell_type": "code",
      "source": [
        "# Utah, all aircraft\n",
        "df_fly_ut = df[df['State'] == 'UT']"
      ],
      "metadata": {
        "id": "nU22_9i-lsDv"
      },
      "execution_count": null,
      "outputs": []
    },
    {
      "cell_type": "code",
      "source": [
        "# Utah, only airplanes\n",
        "df_fly_ut_planes = df_fly_ut[df_fly_ut['Aircraft.Category'] == 'Airplane']"
      ],
      "metadata": {
        "id": "ZekBlq59MWXR"
      },
      "execution_count": null,
      "outputs": []
    },
    {
      "cell_type": "code",
      "source": [
        "# comparing length of df before and after filtering for airplanes only\n",
        "len(df_fly_ut)"
      ],
      "metadata": {
        "colab": {
          "base_uri": "https://localhost:8080/"
        },
        "id": "p_bBBQGFMUpo",
        "outputId": "b5ece196-a0d2-4fd2-f49c-733519fba237"
      },
      "execution_count": null,
      "outputs": [
        {
          "output_type": "execute_result",
          "data": {
            "text/plain": [
              "1336"
            ]
          },
          "metadata": {},
          "execution_count": 325
        }
      ]
    },
    {
      "cell_type": "code",
      "source": [
        "len(df_fly_ut_planes)"
      ],
      "metadata": {
        "colab": {
          "base_uri": "https://localhost:8080/"
        },
        "id": "HCyo3OTFMai5",
        "outputId": "cbd85805-4673-411a-bafa-db5a2b03d006"
      },
      "execution_count": null,
      "outputs": [
        {
          "output_type": "execute_result",
          "data": {
            "text/plain": [
              "402"
            ]
          },
          "metadata": {},
          "execution_count": 327
        }
      ]
    },
    {
      "cell_type": "code",
      "source": [
        "#exporting and saving df_fly_ut_planes file to my google drive\n",
        "path = '/content/drive/My Drive/df_fly_ut_planes.csv'\n",
        "with open(path, 'w', encoding = 'utf-8-sig') as f:\n",
        " df_fly_ut_planes.to_csv(f)"
      ],
      "metadata": {
        "id": "D8Vn499BWmOO"
      },
      "execution_count": null,
      "outputs": []
    },
    {
      "cell_type": "code",
      "source": [
        "#exporting and saving df_fly_ut file to my google drive\n",
        "path = '/content/drive/My Drive/df_fly_ut.csv'\n",
        "with open(path, 'w', encoding = 'utf-8-sig') as f:\n",
        " df_fly_ut.to_csv(f)"
      ],
      "metadata": {
        "id": "yMfOMGTkWpvv"
      },
      "execution_count": null,
      "outputs": []
    },
    {
      "cell_type": "markdown",
      "source": [
        "**State 51: Virginia**"
      ],
      "metadata": {
        "id": "5-8jZktXWWNl"
      }
    },
    {
      "cell_type": "code",
      "source": [
        "# Virginia, all aircraft\n",
        "df_fly_va = df[df['State'] == 'VA']"
      ],
      "metadata": {
        "id": "ez4bwgKklsHo"
      },
      "execution_count": null,
      "outputs": []
    },
    {
      "cell_type": "code",
      "source": [
        "# Virginia, only airplanes\n",
        "df_fly_va_planes = df_fly_va[df_fly_va['Aircraft.Category'] == 'Airplane']"
      ],
      "metadata": {
        "id": "LT_vqhaPMixt"
      },
      "execution_count": null,
      "outputs": []
    },
    {
      "cell_type": "code",
      "source": [
        "# comparing length of df before and after filtering for airplanes only\n",
        "len(df_fly_va)"
      ],
      "metadata": {
        "colab": {
          "base_uri": "https://localhost:8080/"
        },
        "id": "QL4dUpYjMetE",
        "outputId": "063b16bb-3e63-4cd9-e48a-ee116e3c3c88"
      },
      "execution_count": null,
      "outputs": [
        {
          "output_type": "execute_result",
          "data": {
            "text/plain": [
              "1275"
            ]
          },
          "metadata": {},
          "execution_count": 328
        }
      ]
    },
    {
      "cell_type": "code",
      "source": [
        "len(df_fly_va_planes)"
      ],
      "metadata": {
        "colab": {
          "base_uri": "https://localhost:8080/"
        },
        "id": "KZIcgof5MnYC",
        "outputId": "7e512cbe-3a92-4d5f-8b3e-cd3ef321a945"
      },
      "execution_count": null,
      "outputs": [
        {
          "output_type": "execute_result",
          "data": {
            "text/plain": [
              "415"
            ]
          },
          "metadata": {},
          "execution_count": 330
        }
      ]
    },
    {
      "cell_type": "code",
      "source": [
        "#exporting and saving df_fly_va_planes file to my google drive\n",
        "path = '/content/drive/My Drive/df_fly_va_planes.csv'\n",
        "with open(path, 'w', encoding = 'utf-8-sig') as f:\n",
        " df_fly_va_planes.to_csv(f)"
      ],
      "metadata": {
        "id": "ZhJ6qBtSWuPw"
      },
      "execution_count": null,
      "outputs": []
    },
    {
      "cell_type": "code",
      "source": [
        "#exporting and saving df_fly_va file to my google drive\n",
        "path = '/content/drive/My Drive/df_fly_va.csv'\n",
        "with open(path, 'w', encoding = 'utf-8-sig') as f:\n",
        " df_fly_va.to_csv(f)"
      ],
      "metadata": {
        "id": "rIc37_rUWxwI"
      },
      "execution_count": null,
      "outputs": []
    },
    {
      "cell_type": "markdown",
      "source": [
        "**State 52: U.S. Virgin Islands**"
      ],
      "metadata": {
        "id": "4gepYJaCWj6_"
      }
    },
    {
      "cell_type": "code",
      "source": [
        "# US Virgin Islands, all aircraft\n",
        "df_fly_vi = df[df['State'] == 'VI']\n"
      ],
      "metadata": {
        "id": "3-e5n6L7lsSx"
      },
      "execution_count": null,
      "outputs": []
    },
    {
      "cell_type": "code",
      "source": [
        "# US Virgin Islands, only airplanes\n",
        "df_fly_vi_planes = df_fly_vi[df_fly_vi['Aircraft.Category'] == 'Airplane']"
      ],
      "metadata": {
        "id": "CvncH2WNMuWN"
      },
      "execution_count": null,
      "outputs": []
    },
    {
      "cell_type": "code",
      "source": [
        "#concat missing virgin islands!\n",
        "df_fly_vi = pd.concat([df_fly_vi, df_missing_virgin_islands], ignore_index = True)\n",
        "df_fly_vi.reset_index()\n",
        "  \n",
        "display(df_fly_vi)"
      ],
      "metadata": {
        "colab": {
          "base_uri": "https://localhost:8080/",
          "height": 1000
        },
        "id": "BYsnbX2A31Qf",
        "outputId": "f772579c-8b4f-43d9-cbcf-7f93d3fa0e59"
      },
      "execution_count": null,
      "outputs": [
        {
          "output_type": "display_data",
          "data": {
            "text/plain": [
              "          Event.Id Investigation.Type Accident.Number  Event.Date  \\\n",
              "0   20031224X02091           Incident      ATL04IA054  2003-12-15   \n",
              "1   20040728X01082           Accident      ATL04LA153  2004-07-12   \n",
              "2   20040930X01542           Accident      MIA04LA131  2004-09-04   \n",
              "3   20060504X00505           Accident      MIA06TA093  2006-04-18   \n",
              "4   20060724X00998           Accident      MIA06LA125  2006-07-19   \n",
              "5   20071025X01653           Accident      NYC08LA008  2007-10-07   \n",
              "6   20080808X01181           Accident      MIA08LA149  2008-06-01   \n",
              "7   20091029X54134           Accident      ERA10FA037  2009-10-29   \n",
              "8   20100114X11754           Incident      ENG10IA010  2010-01-12   \n",
              "9   20101230X05139           Accident      ERA11LA100  2010-12-13   \n",
              "10  20110118X45001           Accident      ERA11LA117  2011-01-17   \n",
              "11  20121015X92424           Accident      ERA13LA019  2012-10-13   \n",
              "12  20160808X90911           Accident      ERA16LA282  2016-08-07   \n",
              "13  20171207X11110           Accident      ERA18FA046  2017-12-08   \n",
              "14  20190912X74625           Accident      ERA19LA279  2019-09-12   \n",
              "\n",
              "             Location        Country   Latitude   Longitude Airport.Code  \\\n",
              "0      St. Thomas, VI  United States  18.337222  -64.973334         KSTT   \n",
              "1     BEEF ISLAND, VI  United States      18.08      -65.08          NaN   \n",
              "2      ST. THOMAS, VI  United States  18.333333  -64.983333          NaN   \n",
              "3      St. Thomas, VI  United States  18.301944  -64.987222         TIST   \n",
              "4      ST. THOMAS, VI  United States  18.333333  -64.966667         TIST   \n",
              "5        St.Croix, VI  United States  17.742777  -64.902222         TISX   \n",
              "6    Charlotte Amali,  United States    182014N    0645824W         TIST   \n",
              "7      Christiansted,  United States    017438N    0644729W         TISX   \n",
              "8          St. Croix,  United States        NaN         NaN          STX   \n",
              "9         St. Thomas,  United States    018208N    0645344W          STT   \n",
              "10  Charlotte Amalie,  United States    182014N    0645824W          STT   \n",
              "11  Charlotte Amalie,  United States    181427N    0065319W         TIST   \n",
              "12         St. Croix,  United States    018208N    0645350W          STX   \n",
              "13         St. Croix,  United States    182011N    0645350W          STX   \n",
              "14  Charlotte Amalie,  United States    182015N    0064582W         TIST   \n",
              "\n",
              "                      Airport.Name  ...                       Air.carrier  \\\n",
              "0     Cyril E King, St. Thomas, VI  ...                               NaN   \n",
              "1                              NaN  ...                               NaN   \n",
              "2                              NaN  ...                               NaN   \n",
              "3                    Cyril E. King  ...                               NaN   \n",
              "4             Cyril E King Airport  ...                               NaN   \n",
              "5   Rohlsen Airport, St Croix USVI  ...                               NaN   \n",
              "6                    Cyril E. King  ...          Bevins Air Service, Inc.   \n",
              "7                 Henry E. Rohlsen  ...                  David S. Bentley   \n",
              "8          Henry E Rohlsen Airport  ...                 American Airlines   \n",
              "9             Cyril E King Airport  ...         Isla Grande Flying School   \n",
              "10           Cyril E. King Airport  ...              TIGER CONTRACT CARGO   \n",
              "11                Charlotte Amalie  ...    Rainbow International Airlines   \n",
              "12                 HENRY E ROHLSEN  ...  BOHLKE INTERNATIONAL AIRWAYS INC   \n",
              "13                 HENRY E ROHLSEN  ...                               NaN   \n",
              "14                    Cyril E King  ...           Executive Airshares Llc   \n",
              "\n",
              "   Total.Fatal.Injuries Total.Serious.Injuries Total.Minor.Injuries  \\\n",
              "0                   NaN                    NaN                  NaN   \n",
              "1                   1.0                    1.0                  NaN   \n",
              "2                   NaN                    NaN                  NaN   \n",
              "3                   NaN                    NaN                  7.0   \n",
              "4                   NaN                    NaN                  1.0   \n",
              "5                   1.0                    NaN                  NaN   \n",
              "6                   0.0                    0.0                  0.0   \n",
              "7                   3.0                    0.0                  0.0   \n",
              "8                   0.0                    0.0                  0.0   \n",
              "9                   0.0                    0.0                  0.0   \n",
              "10                  0.0                    0.0                  0.0   \n",
              "11                  3.0                    0.0                  1.0   \n",
              "12                  0.0                    0.0                  2.0   \n",
              "13                  5.0                    0.0                  0.0   \n",
              "14                  0.0                    0.0                  0.0   \n",
              "\n",
              "   Total.Uninjured Weather.Condition Broad.phase.of.flight  \\\n",
              "0              3.0               VMC               Landing   \n",
              "1              NaN               VMC                Cruise   \n",
              "2              2.0               VMC               Takeoff   \n",
              "3              NaN               VMC               Descent   \n",
              "4              3.0               VMC               Takeoff   \n",
              "5              NaN               IMC               Descent   \n",
              "6              7.0               VMC                   NaN   \n",
              "7              0.0               VMC                   NaN   \n",
              "8             48.0               NaN                   NaN   \n",
              "9              1.0               VMC                   NaN   \n",
              "10             2.0               VMC                   NaN   \n",
              "11             0.0               VMC                   NaN   \n",
              "12             0.0               VMC                   NaN   \n",
              "13             0.0               VMC                   NaN   \n",
              "14             1.0               VMC                   NaN   \n",
              "\n",
              "                                        Report.Status Publication.Date State  \n",
              "0                                      Probable Cause       29-09-2004    VI  \n",
              "1                                      Probable Cause       13-09-2005    VI  \n",
              "2                                      Probable Cause       28-04-2005    VI  \n",
              "3                                      Probable Cause       31-03-2008    VI  \n",
              "4                                      Probable Cause       30-04-2008    VI  \n",
              "5                                      Probable Cause       12-05-2009    VI  \n",
              "6   The failure of maintenance personnel to identi...       25-09-2020        \n",
              "7   The pilot's failure to maintain airspeed, whic...       25-09-2020        \n",
              "8   The sealing failure between the fuel nozzle ad...       25-09-2020        \n",
              "9   The pilot's failure to maintain an adequate vi...       25-09-2020        \n",
              "10  The captains decision to continue the flight ...       25-09-2020        \n",
              "11  The pilot's attempted visual flight rules (VFR...       25-09-2020        \n",
              "12  The flight instructor's improper recovery from...       25-09-2020        \n",
              "13  The non-multiengine rated pilot's failure to m...       25-09-2020        \n",
              "14  The collapse of the left main landing gear for...              NaN        \n",
              "\n",
              "[15 rows x 32 columns]"
            ],
            "text/html": [
              "\n",
              "  <div id=\"df-669b3dd0-977b-42d9-b205-4e1d3030a07d\">\n",
              "    <div class=\"colab-df-container\">\n",
              "      <div>\n",
              "<style scoped>\n",
              "    .dataframe tbody tr th:only-of-type {\n",
              "        vertical-align: middle;\n",
              "    }\n",
              "\n",
              "    .dataframe tbody tr th {\n",
              "        vertical-align: top;\n",
              "    }\n",
              "\n",
              "    .dataframe thead th {\n",
              "        text-align: right;\n",
              "    }\n",
              "</style>\n",
              "<table border=\"1\" class=\"dataframe\">\n",
              "  <thead>\n",
              "    <tr style=\"text-align: right;\">\n",
              "      <th></th>\n",
              "      <th>Event.Id</th>\n",
              "      <th>Investigation.Type</th>\n",
              "      <th>Accident.Number</th>\n",
              "      <th>Event.Date</th>\n",
              "      <th>Location</th>\n",
              "      <th>Country</th>\n",
              "      <th>Latitude</th>\n",
              "      <th>Longitude</th>\n",
              "      <th>Airport.Code</th>\n",
              "      <th>Airport.Name</th>\n",
              "      <th>...</th>\n",
              "      <th>Air.carrier</th>\n",
              "      <th>Total.Fatal.Injuries</th>\n",
              "      <th>Total.Serious.Injuries</th>\n",
              "      <th>Total.Minor.Injuries</th>\n",
              "      <th>Total.Uninjured</th>\n",
              "      <th>Weather.Condition</th>\n",
              "      <th>Broad.phase.of.flight</th>\n",
              "      <th>Report.Status</th>\n",
              "      <th>Publication.Date</th>\n",
              "      <th>State</th>\n",
              "    </tr>\n",
              "  </thead>\n",
              "  <tbody>\n",
              "    <tr>\n",
              "      <th>0</th>\n",
              "      <td>20031224X02091</td>\n",
              "      <td>Incident</td>\n",
              "      <td>ATL04IA054</td>\n",
              "      <td>2003-12-15</td>\n",
              "      <td>St. Thomas, VI</td>\n",
              "      <td>United States</td>\n",
              "      <td>18.337222</td>\n",
              "      <td>-64.973334</td>\n",
              "      <td>KSTT</td>\n",
              "      <td>Cyril E King, St. Thomas, VI</td>\n",
              "      <td>...</td>\n",
              "      <td>NaN</td>\n",
              "      <td>NaN</td>\n",
              "      <td>NaN</td>\n",
              "      <td>NaN</td>\n",
              "      <td>3.0</td>\n",
              "      <td>VMC</td>\n",
              "      <td>Landing</td>\n",
              "      <td>Probable Cause</td>\n",
              "      <td>29-09-2004</td>\n",
              "      <td>VI</td>\n",
              "    </tr>\n",
              "    <tr>\n",
              "      <th>1</th>\n",
              "      <td>20040728X01082</td>\n",
              "      <td>Accident</td>\n",
              "      <td>ATL04LA153</td>\n",
              "      <td>2004-07-12</td>\n",
              "      <td>BEEF ISLAND, VI</td>\n",
              "      <td>United States</td>\n",
              "      <td>18.08</td>\n",
              "      <td>-65.08</td>\n",
              "      <td>NaN</td>\n",
              "      <td>NaN</td>\n",
              "      <td>...</td>\n",
              "      <td>NaN</td>\n",
              "      <td>1.0</td>\n",
              "      <td>1.0</td>\n",
              "      <td>NaN</td>\n",
              "      <td>NaN</td>\n",
              "      <td>VMC</td>\n",
              "      <td>Cruise</td>\n",
              "      <td>Probable Cause</td>\n",
              "      <td>13-09-2005</td>\n",
              "      <td>VI</td>\n",
              "    </tr>\n",
              "    <tr>\n",
              "      <th>2</th>\n",
              "      <td>20040930X01542</td>\n",
              "      <td>Accident</td>\n",
              "      <td>MIA04LA131</td>\n",
              "      <td>2004-09-04</td>\n",
              "      <td>ST. THOMAS, VI</td>\n",
              "      <td>United States</td>\n",
              "      <td>18.333333</td>\n",
              "      <td>-64.983333</td>\n",
              "      <td>NaN</td>\n",
              "      <td>NaN</td>\n",
              "      <td>...</td>\n",
              "      <td>NaN</td>\n",
              "      <td>NaN</td>\n",
              "      <td>NaN</td>\n",
              "      <td>NaN</td>\n",
              "      <td>2.0</td>\n",
              "      <td>VMC</td>\n",
              "      <td>Takeoff</td>\n",
              "      <td>Probable Cause</td>\n",
              "      <td>28-04-2005</td>\n",
              "      <td>VI</td>\n",
              "    </tr>\n",
              "    <tr>\n",
              "      <th>3</th>\n",
              "      <td>20060504X00505</td>\n",
              "      <td>Accident</td>\n",
              "      <td>MIA06TA093</td>\n",
              "      <td>2006-04-18</td>\n",
              "      <td>St. Thomas, VI</td>\n",
              "      <td>United States</td>\n",
              "      <td>18.301944</td>\n",
              "      <td>-64.987222</td>\n",
              "      <td>TIST</td>\n",
              "      <td>Cyril E. King</td>\n",
              "      <td>...</td>\n",
              "      <td>NaN</td>\n",
              "      <td>NaN</td>\n",
              "      <td>NaN</td>\n",
              "      <td>7.0</td>\n",
              "      <td>NaN</td>\n",
              "      <td>VMC</td>\n",
              "      <td>Descent</td>\n",
              "      <td>Probable Cause</td>\n",
              "      <td>31-03-2008</td>\n",
              "      <td>VI</td>\n",
              "    </tr>\n",
              "    <tr>\n",
              "      <th>4</th>\n",
              "      <td>20060724X00998</td>\n",
              "      <td>Accident</td>\n",
              "      <td>MIA06LA125</td>\n",
              "      <td>2006-07-19</td>\n",
              "      <td>ST. THOMAS, VI</td>\n",
              "      <td>United States</td>\n",
              "      <td>18.333333</td>\n",
              "      <td>-64.966667</td>\n",
              "      <td>TIST</td>\n",
              "      <td>Cyril E King Airport</td>\n",
              "      <td>...</td>\n",
              "      <td>NaN</td>\n",
              "      <td>NaN</td>\n",
              "      <td>NaN</td>\n",
              "      <td>1.0</td>\n",
              "      <td>3.0</td>\n",
              "      <td>VMC</td>\n",
              "      <td>Takeoff</td>\n",
              "      <td>Probable Cause</td>\n",
              "      <td>30-04-2008</td>\n",
              "      <td>VI</td>\n",
              "    </tr>\n",
              "    <tr>\n",
              "      <th>5</th>\n",
              "      <td>20071025X01653</td>\n",
              "      <td>Accident</td>\n",
              "      <td>NYC08LA008</td>\n",
              "      <td>2007-10-07</td>\n",
              "      <td>St.Croix, VI</td>\n",
              "      <td>United States</td>\n",
              "      <td>17.742777</td>\n",
              "      <td>-64.902222</td>\n",
              "      <td>TISX</td>\n",
              "      <td>Rohlsen Airport, St Croix USVI</td>\n",
              "      <td>...</td>\n",
              "      <td>NaN</td>\n",
              "      <td>1.0</td>\n",
              "      <td>NaN</td>\n",
              "      <td>NaN</td>\n",
              "      <td>NaN</td>\n",
              "      <td>IMC</td>\n",
              "      <td>Descent</td>\n",
              "      <td>Probable Cause</td>\n",
              "      <td>12-05-2009</td>\n",
              "      <td>VI</td>\n",
              "    </tr>\n",
              "    <tr>\n",
              "      <th>6</th>\n",
              "      <td>20080808X01181</td>\n",
              "      <td>Accident</td>\n",
              "      <td>MIA08LA149</td>\n",
              "      <td>2008-06-01</td>\n",
              "      <td>Charlotte Amali,</td>\n",
              "      <td>United States</td>\n",
              "      <td>182014N</td>\n",
              "      <td>0645824W</td>\n",
              "      <td>TIST</td>\n",
              "      <td>Cyril E. King</td>\n",
              "      <td>...</td>\n",
              "      <td>Bevins Air Service, Inc.</td>\n",
              "      <td>0.0</td>\n",
              "      <td>0.0</td>\n",
              "      <td>0.0</td>\n",
              "      <td>7.0</td>\n",
              "      <td>VMC</td>\n",
              "      <td>NaN</td>\n",
              "      <td>The failure of maintenance personnel to identi...</td>\n",
              "      <td>25-09-2020</td>\n",
              "      <td></td>\n",
              "    </tr>\n",
              "    <tr>\n",
              "      <th>7</th>\n",
              "      <td>20091029X54134</td>\n",
              "      <td>Accident</td>\n",
              "      <td>ERA10FA037</td>\n",
              "      <td>2009-10-29</td>\n",
              "      <td>Christiansted,</td>\n",
              "      <td>United States</td>\n",
              "      <td>017438N</td>\n",
              "      <td>0644729W</td>\n",
              "      <td>TISX</td>\n",
              "      <td>Henry E. Rohlsen</td>\n",
              "      <td>...</td>\n",
              "      <td>David S. Bentley</td>\n",
              "      <td>3.0</td>\n",
              "      <td>0.0</td>\n",
              "      <td>0.0</td>\n",
              "      <td>0.0</td>\n",
              "      <td>VMC</td>\n",
              "      <td>NaN</td>\n",
              "      <td>The pilot's failure to maintain airspeed, whic...</td>\n",
              "      <td>25-09-2020</td>\n",
              "      <td></td>\n",
              "    </tr>\n",
              "    <tr>\n",
              "      <th>8</th>\n",
              "      <td>20100114X11754</td>\n",
              "      <td>Incident</td>\n",
              "      <td>ENG10IA010</td>\n",
              "      <td>2010-01-12</td>\n",
              "      <td>St. Croix,</td>\n",
              "      <td>United States</td>\n",
              "      <td>NaN</td>\n",
              "      <td>NaN</td>\n",
              "      <td>STX</td>\n",
              "      <td>Henry E Rohlsen Airport</td>\n",
              "      <td>...</td>\n",
              "      <td>American Airlines</td>\n",
              "      <td>0.0</td>\n",
              "      <td>0.0</td>\n",
              "      <td>0.0</td>\n",
              "      <td>48.0</td>\n",
              "      <td>NaN</td>\n",
              "      <td>NaN</td>\n",
              "      <td>The sealing failure between the fuel nozzle ad...</td>\n",
              "      <td>25-09-2020</td>\n",
              "      <td></td>\n",
              "    </tr>\n",
              "    <tr>\n",
              "      <th>9</th>\n",
              "      <td>20101230X05139</td>\n",
              "      <td>Accident</td>\n",
              "      <td>ERA11LA100</td>\n",
              "      <td>2010-12-13</td>\n",
              "      <td>St. Thomas,</td>\n",
              "      <td>United States</td>\n",
              "      <td>018208N</td>\n",
              "      <td>0645344W</td>\n",
              "      <td>STT</td>\n",
              "      <td>Cyril E King Airport</td>\n",
              "      <td>...</td>\n",
              "      <td>Isla Grande Flying School</td>\n",
              "      <td>0.0</td>\n",
              "      <td>0.0</td>\n",
              "      <td>0.0</td>\n",
              "      <td>1.0</td>\n",
              "      <td>VMC</td>\n",
              "      <td>NaN</td>\n",
              "      <td>The pilot's failure to maintain an adequate vi...</td>\n",
              "      <td>25-09-2020</td>\n",
              "      <td></td>\n",
              "    </tr>\n",
              "    <tr>\n",
              "      <th>10</th>\n",
              "      <td>20110118X45001</td>\n",
              "      <td>Accident</td>\n",
              "      <td>ERA11LA117</td>\n",
              "      <td>2011-01-17</td>\n",
              "      <td>Charlotte Amalie,</td>\n",
              "      <td>United States</td>\n",
              "      <td>182014N</td>\n",
              "      <td>0645824W</td>\n",
              "      <td>STT</td>\n",
              "      <td>Cyril E. King Airport</td>\n",
              "      <td>...</td>\n",
              "      <td>TIGER CONTRACT CARGO</td>\n",
              "      <td>0.0</td>\n",
              "      <td>0.0</td>\n",
              "      <td>0.0</td>\n",
              "      <td>2.0</td>\n",
              "      <td>VMC</td>\n",
              "      <td>NaN</td>\n",
              "      <td>The captains decision to continue the flight ...</td>\n",
              "      <td>25-09-2020</td>\n",
              "      <td></td>\n",
              "    </tr>\n",
              "    <tr>\n",
              "      <th>11</th>\n",
              "      <td>20121015X92424</td>\n",
              "      <td>Accident</td>\n",
              "      <td>ERA13LA019</td>\n",
              "      <td>2012-10-13</td>\n",
              "      <td>Charlotte Amalie,</td>\n",
              "      <td>United States</td>\n",
              "      <td>181427N</td>\n",
              "      <td>0065319W</td>\n",
              "      <td>TIST</td>\n",
              "      <td>Charlotte Amalie</td>\n",
              "      <td>...</td>\n",
              "      <td>Rainbow International Airlines</td>\n",
              "      <td>3.0</td>\n",
              "      <td>0.0</td>\n",
              "      <td>1.0</td>\n",
              "      <td>0.0</td>\n",
              "      <td>VMC</td>\n",
              "      <td>NaN</td>\n",
              "      <td>The pilot's attempted visual flight rules (VFR...</td>\n",
              "      <td>25-09-2020</td>\n",
              "      <td></td>\n",
              "    </tr>\n",
              "    <tr>\n",
              "      <th>12</th>\n",
              "      <td>20160808X90911</td>\n",
              "      <td>Accident</td>\n",
              "      <td>ERA16LA282</td>\n",
              "      <td>2016-08-07</td>\n",
              "      <td>St. Croix,</td>\n",
              "      <td>United States</td>\n",
              "      <td>018208N</td>\n",
              "      <td>0645350W</td>\n",
              "      <td>STX</td>\n",
              "      <td>HENRY E ROHLSEN</td>\n",
              "      <td>...</td>\n",
              "      <td>BOHLKE INTERNATIONAL AIRWAYS INC</td>\n",
              "      <td>0.0</td>\n",
              "      <td>0.0</td>\n",
              "      <td>2.0</td>\n",
              "      <td>0.0</td>\n",
              "      <td>VMC</td>\n",
              "      <td>NaN</td>\n",
              "      <td>The flight instructor's improper recovery from...</td>\n",
              "      <td>25-09-2020</td>\n",
              "      <td></td>\n",
              "    </tr>\n",
              "    <tr>\n",
              "      <th>13</th>\n",
              "      <td>20171207X11110</td>\n",
              "      <td>Accident</td>\n",
              "      <td>ERA18FA046</td>\n",
              "      <td>2017-12-08</td>\n",
              "      <td>St. Croix,</td>\n",
              "      <td>United States</td>\n",
              "      <td>182011N</td>\n",
              "      <td>0645350W</td>\n",
              "      <td>STX</td>\n",
              "      <td>HENRY E ROHLSEN</td>\n",
              "      <td>...</td>\n",
              "      <td>NaN</td>\n",
              "      <td>5.0</td>\n",
              "      <td>0.0</td>\n",
              "      <td>0.0</td>\n",
              "      <td>0.0</td>\n",
              "      <td>VMC</td>\n",
              "      <td>NaN</td>\n",
              "      <td>The non-multiengine rated pilot's failure to m...</td>\n",
              "      <td>25-09-2020</td>\n",
              "      <td></td>\n",
              "    </tr>\n",
              "    <tr>\n",
              "      <th>14</th>\n",
              "      <td>20190912X74625</td>\n",
              "      <td>Accident</td>\n",
              "      <td>ERA19LA279</td>\n",
              "      <td>2019-09-12</td>\n",
              "      <td>Charlotte Amalie,</td>\n",
              "      <td>United States</td>\n",
              "      <td>182015N</td>\n",
              "      <td>0064582W</td>\n",
              "      <td>TIST</td>\n",
              "      <td>Cyril E King</td>\n",
              "      <td>...</td>\n",
              "      <td>Executive Airshares Llc</td>\n",
              "      <td>0.0</td>\n",
              "      <td>0.0</td>\n",
              "      <td>0.0</td>\n",
              "      <td>1.0</td>\n",
              "      <td>VMC</td>\n",
              "      <td>NaN</td>\n",
              "      <td>The collapse of the left main landing gear for...</td>\n",
              "      <td>NaN</td>\n",
              "      <td></td>\n",
              "    </tr>\n",
              "  </tbody>\n",
              "</table>\n",
              "<p>15 rows × 32 columns</p>\n",
              "</div>\n",
              "      <button class=\"colab-df-convert\" onclick=\"convertToInteractive('df-669b3dd0-977b-42d9-b205-4e1d3030a07d')\"\n",
              "              title=\"Convert this dataframe to an interactive table.\"\n",
              "              style=\"display:none;\">\n",
              "        \n",
              "  <svg xmlns=\"http://www.w3.org/2000/svg\" height=\"24px\"viewBox=\"0 0 24 24\"\n",
              "       width=\"24px\">\n",
              "    <path d=\"M0 0h24v24H0V0z\" fill=\"none\"/>\n",
              "    <path d=\"M18.56 5.44l.94 2.06.94-2.06 2.06-.94-2.06-.94-.94-2.06-.94 2.06-2.06.94zm-11 1L8.5 8.5l.94-2.06 2.06-.94-2.06-.94L8.5 2.5l-.94 2.06-2.06.94zm10 10l.94 2.06.94-2.06 2.06-.94-2.06-.94-.94-2.06-.94 2.06-2.06.94z\"/><path d=\"M17.41 7.96l-1.37-1.37c-.4-.4-.92-.59-1.43-.59-.52 0-1.04.2-1.43.59L10.3 9.45l-7.72 7.72c-.78.78-.78 2.05 0 2.83L4 21.41c.39.39.9.59 1.41.59.51 0 1.02-.2 1.41-.59l7.78-7.78 2.81-2.81c.8-.78.8-2.07 0-2.86zM5.41 20L4 18.59l7.72-7.72 1.47 1.35L5.41 20z\"/>\n",
              "  </svg>\n",
              "      </button>\n",
              "      \n",
              "  <style>\n",
              "    .colab-df-container {\n",
              "      display:flex;\n",
              "      flex-wrap:wrap;\n",
              "      gap: 12px;\n",
              "    }\n",
              "\n",
              "    .colab-df-convert {\n",
              "      background-color: #E8F0FE;\n",
              "      border: none;\n",
              "      border-radius: 50%;\n",
              "      cursor: pointer;\n",
              "      display: none;\n",
              "      fill: #1967D2;\n",
              "      height: 32px;\n",
              "      padding: 0 0 0 0;\n",
              "      width: 32px;\n",
              "    }\n",
              "\n",
              "    .colab-df-convert:hover {\n",
              "      background-color: #E2EBFA;\n",
              "      box-shadow: 0px 1px 2px rgba(60, 64, 67, 0.3), 0px 1px 3px 1px rgba(60, 64, 67, 0.15);\n",
              "      fill: #174EA6;\n",
              "    }\n",
              "\n",
              "    [theme=dark] .colab-df-convert {\n",
              "      background-color: #3B4455;\n",
              "      fill: #D2E3FC;\n",
              "    }\n",
              "\n",
              "    [theme=dark] .colab-df-convert:hover {\n",
              "      background-color: #434B5C;\n",
              "      box-shadow: 0px 1px 3px 1px rgba(0, 0, 0, 0.15);\n",
              "      filter: drop-shadow(0px 1px 2px rgba(0, 0, 0, 0.3));\n",
              "      fill: #FFFFFF;\n",
              "    }\n",
              "  </style>\n",
              "\n",
              "      <script>\n",
              "        const buttonEl =\n",
              "          document.querySelector('#df-669b3dd0-977b-42d9-b205-4e1d3030a07d button.colab-df-convert');\n",
              "        buttonEl.style.display =\n",
              "          google.colab.kernel.accessAllowed ? 'block' : 'none';\n",
              "\n",
              "        async function convertToInteractive(key) {\n",
              "          const element = document.querySelector('#df-669b3dd0-977b-42d9-b205-4e1d3030a07d');\n",
              "          const dataTable =\n",
              "            await google.colab.kernel.invokeFunction('convertToInteractive',\n",
              "                                                     [key], {});\n",
              "          if (!dataTable) return;\n",
              "\n",
              "          const docLinkHtml = 'Like what you see? Visit the ' +\n",
              "            '<a target=\"_blank\" href=https://colab.research.google.com/notebooks/data_table.ipynb>data table notebook</a>'\n",
              "            + ' to learn more about interactive tables.';\n",
              "          element.innerHTML = '';\n",
              "          dataTable['output_type'] = 'display_data';\n",
              "          await google.colab.output.renderOutput(dataTable, element);\n",
              "          const docLink = document.createElement('div');\n",
              "          docLink.innerHTML = docLinkHtml;\n",
              "          element.appendChild(docLink);\n",
              "        }\n",
              "      </script>\n",
              "    </div>\n",
              "  </div>\n",
              "  "
            ]
          },
          "metadata": {}
        }
      ]
    },
    {
      "cell_type": "code",
      "source": [
        "# comparing length of df before and after filtering for airplanes only\n",
        "len(df_fly_vi)"
      ],
      "metadata": {
        "colab": {
          "base_uri": "https://localhost:8080/"
        },
        "id": "NZaGNDIoMs0g",
        "outputId": "08c4a98c-37a2-41c8-80a4-d880cf21b1c4"
      },
      "execution_count": null,
      "outputs": [
        {
          "output_type": "execute_result",
          "data": {
            "text/plain": [
              "15"
            ]
          },
          "metadata": {},
          "execution_count": 331
        }
      ]
    },
    {
      "cell_type": "code",
      "source": [
        "len(df_fly_vi_planes)"
      ],
      "metadata": {
        "colab": {
          "base_uri": "https://localhost:8080/"
        },
        "id": "XSD00Aa3MzDJ",
        "outputId": "1cb55630-a1e3-437b-fdb0-b59881eaec09"
      },
      "execution_count": null,
      "outputs": [
        {
          "output_type": "execute_result",
          "data": {
            "text/plain": [
              "10"
            ]
          },
          "metadata": {},
          "execution_count": 333
        }
      ]
    },
    {
      "cell_type": "code",
      "source": [
        "#exporting and saving df_fly_vi_planes file to my google drive\n",
        "path = '/content/drive/My Drive/df_fly_vi_planes.csv'\n",
        "with open(path, 'w', encoding = 'utf-8-sig') as f:\n",
        " df_fly_vi_planes.to_csv(f)"
      ],
      "metadata": {
        "id": "GHuJtPh8W4AH"
      },
      "execution_count": null,
      "outputs": []
    },
    {
      "cell_type": "code",
      "source": [
        "#exporting and saving df_fly_vi file to my google drive\n",
        "path = '/content/drive/My Drive/df_fly_vi.csv'\n",
        "with open(path, 'w', encoding = 'utf-8-sig') as f:\n",
        " df_fly_vi.to_csv(f)"
      ],
      "metadata": {
        "id": "Z6HQXW4uW7UG"
      },
      "execution_count": null,
      "outputs": []
    },
    {
      "cell_type": "markdown",
      "source": [
        "**State 53: Vermont**"
      ],
      "metadata": {
        "id": "E_F98M6MXI14"
      }
    },
    {
      "cell_type": "code",
      "source": [
        "# Vermont, all aircraft\n",
        "df_fly_vt = df[df['State'] == 'VT']"
      ],
      "metadata": {
        "id": "c5Xex_rzlsZt"
      },
      "execution_count": null,
      "outputs": []
    },
    {
      "cell_type": "code",
      "source": [
        "# Vermont, only airplanes\n",
        "df_fly_vt_planes = df_fly_vt[df_fly_vt['Aircraft.Category'] == 'Airplane']"
      ],
      "metadata": {
        "id": "wIAa98baM3PW"
      },
      "execution_count": null,
      "outputs": []
    },
    {
      "cell_type": "code",
      "source": [
        "# comparing length of df before and after filtering for airplanes only\n",
        "len(df_fly_vt)"
      ],
      "metadata": {
        "colab": {
          "base_uri": "https://localhost:8080/"
        },
        "id": "5zyud8NhM19R",
        "outputId": "72ed7578-12d6-434a-9145-8d73d43e754c"
      },
      "execution_count": null,
      "outputs": [
        {
          "output_type": "execute_result",
          "data": {
            "text/plain": [
              "241"
            ]
          },
          "metadata": {},
          "execution_count": 334
        }
      ]
    },
    {
      "cell_type": "code",
      "source": [
        "len(df_fly_vt_planes)"
      ],
      "metadata": {
        "colab": {
          "base_uri": "https://localhost:8080/"
        },
        "id": "AOTbDNkPXARI",
        "outputId": "3c790a05-54aa-4479-f37d-9274cc7c5e22"
      },
      "execution_count": null,
      "outputs": [
        {
          "output_type": "execute_result",
          "data": {
            "text/plain": [
              "60"
            ]
          },
          "metadata": {},
          "execution_count": 456
        }
      ]
    },
    {
      "cell_type": "code",
      "source": [
        "#exporting and saving df_fly_vt_planes file to my google drive\n",
        "path = '/content/drive/My Drive/df_fly_vt_planes.csv'\n",
        "with open(path, 'w', encoding = 'utf-8-sig') as f:\n",
        " df_fly_vt_planes.to_csv(f)"
      ],
      "metadata": {
        "id": "A1krSJenXAdh"
      },
      "execution_count": null,
      "outputs": []
    },
    {
      "cell_type": "code",
      "source": [
        "#exporting and saving df_fly_vt file to my google drive\n",
        "path = '/content/drive/My Drive/df_fly_vt.csv'\n",
        "with open(path, 'w', encoding = 'utf-8-sig') as f:\n",
        " df_fly_vt.to_csv(f)"
      ],
      "metadata": {
        "id": "HR9R8fioXFUJ"
      },
      "execution_count": null,
      "outputs": []
    },
    {
      "cell_type": "markdown",
      "source": [
        "State 54: Washington State"
      ],
      "metadata": {
        "id": "W06_It-tXS9_"
      }
    },
    {
      "cell_type": "code",
      "source": [
        "# Washington State, all aircraft\n",
        "\n",
        "df_fly_wa = df[df['State'] == 'WA']"
      ],
      "metadata": {
        "id": "7t9MDF-olsgb"
      },
      "execution_count": null,
      "outputs": []
    },
    {
      "cell_type": "code",
      "source": [
        "# Concatenate with missing records\n",
        "\n",
        "df_fly_wa = pd.concat([df_fly_wa, df_fly_sji], ignore_index = True)\n",
        "df_fly_wa.reset_index()\n",
        "  \n",
        "df_fly_wa"
      ],
      "metadata": {
        "colab": {
          "base_uri": "https://localhost:8080/",
          "height": 695
        },
        "id": "-GqZYtVvnr4l",
        "outputId": "437595fe-93a2-4625-e660-8976de00ae78"
      },
      "execution_count": null,
      "outputs": [
        {
          "output_type": "display_data",
          "data": {
            "text/plain": [
              "            Event.Id Investigation.Type Accident.Number  Event.Date  \\\n",
              "0     20020909X01562           Accident      SEA82DA022  1982-01-01   \n",
              "1     20020917X02574           Accident      SEA82DA016  1982-01-08   \n",
              "2     20020917X02575           Accident      SEA82DA017  1982-01-13   \n",
              "3     20020917X02576           Accident      SEA82DA018  1982-01-15   \n",
              "4     20020917X02624           Accident      SEA82FYM08  1982-01-18   \n",
              "...              ...                ...             ...         ...   \n",
              "2608  20221018106160           Accident      WPR23LA019  2022-10-15   \n",
              "2609  20221031106233           Accident      WPR23LA026  2022-10-26   \n",
              "2610  20221122106349           Accident      WPR23LA042  2022-11-15   \n",
              "2611  20221118106317           Accident      WPR23FA034  2022-11-18   \n",
              "2612  20090115X12631           Accident      WPR09CA084  2009-01-14   \n",
              "\n",
              "                            Location        Country Latitude Longitude  \\\n",
              "0                        PULLMAN, WA  United States      NaN       NaN   \n",
              "1                        PULLMAN, WA  United States      NaN       NaN   \n",
              "2                        SPOKANE, WA  United States      NaN       NaN   \n",
              "3                        SPOKANE, WA  United States      NaN       NaN   \n",
              "4                       ORCHARDS, WA  United States      NaN       NaN   \n",
              "...                              ...            ...      ...       ...   \n",
              "2608                 Lake Isabel, WA  United States  475213N  1213532W   \n",
              "2609                    Puyallup, WA  United States  471236N  0122210W   \n",
              "2610                    Kahlotus, WA  United States  464320N  1183516W   \n",
              "2611                   Snohomish, WA  United States  475421N  0122256W   \n",
              "2612  Crane Island, San Juan Is., WA  United States  483547N  1225944W   \n",
              "\n",
              "     Airport.Code                   Airport.Name  ...           Air.carrier  \\\n",
              "0             NaN             BLACKBURN AG STRIP  ...                   NaN   \n",
              "1             PUW        PULLMAN-MOSCOW REGIONAL  ...                   NaN   \n",
              "2             NaN                   GEIGER FIELD  ...      Richard Engstrom   \n",
              "3             SFF                          FELTS  ...                   NaN   \n",
              "4             NaN                   CLARK COUNTY  ...                   NaN   \n",
              "...           ...                            ...  ...                   ...   \n",
              "2608          NaN                            NaN  ...                   NaN   \n",
              "2609          NaN                            NaN  ...                   NaN   \n",
              "2610          NaN                            NaN  ...       DASHIELL ROSS R   \n",
              "2611          NaN                            NaN  ...  Raisbeck Engineering   \n",
              "2612         None  Crane Island, San Juan Island  ...    RUGBY AVIATION LLC   \n",
              "\n",
              "     Total.Fatal.Injuries Total.Serious.Injuries Total.Minor.Injuries  \\\n",
              "0                     0.0                    0.0                  0.0   \n",
              "1                     0.0                    0.0                  0.0   \n",
              "2                     0.0                    0.0                  0.0   \n",
              "3                     0.0                    0.0                  0.0   \n",
              "4                     0.0                    2.0                  2.0   \n",
              "...                   ...                    ...                  ...   \n",
              "2608                  0.0                    0.0                  0.0   \n",
              "2609                  0.0                    0.0                  0.0   \n",
              "2610                  0.0                    0.0                  1.0   \n",
              "2611                  4.0                    0.0                  0.0   \n",
              "2612                  0.0                    0.0                  0.0   \n",
              "\n",
              "     Total.Uninjured Weather.Condition Broad.phase.of.flight  \\\n",
              "0                2.0               VMC               Takeoff   \n",
              "1                1.0               VMC               Landing   \n",
              "2                2.0               IMC              Approach   \n",
              "3                1.0               VMC               Takeoff   \n",
              "4                0.0               VMC               Descent   \n",
              "...              ...               ...                   ...   \n",
              "2608             1.0               Unk                   NaN   \n",
              "2609             1.0               VMC                   NaN   \n",
              "2610             0.0               NaN                   NaN   \n",
              "2611             0.0               VMC                   NaN   \n",
              "2612             1.0               VMC                   NaN   \n",
              "\n",
              "                                          Report.Status Publication.Date  \\\n",
              "0                                        Probable Cause       01-01-1982   \n",
              "1                                        Probable Cause       08-01-1983   \n",
              "2                                        Probable Cause       13-01-1983   \n",
              "3                                        Probable Cause       15-01-1983   \n",
              "4                                        Probable Cause       18-01-1983   \n",
              "...                                                 ...              ...   \n",
              "2608                                                NaN       18-10-2022   \n",
              "2609                                                NaN       02-11-2022   \n",
              "2610                                                NaN       02-12-2022   \n",
              "2611                                                NaN       16-12-2022   \n",
              "2612  The pilot's failure to maintain directional co...       25-09-2020   \n",
              "\n",
              "             State  \n",
              "0               WA  \n",
              "1               WA  \n",
              "2               WA  \n",
              "3               WA  \n",
              "4               WA  \n",
              "...            ...  \n",
              "2608            WA  \n",
              "2609            WA  \n",
              "2610            WA  \n",
              "2611            WA  \n",
              "2612  San Juan Is.  \n",
              "\n",
              "[2613 rows x 32 columns]"
            ],
            "text/html": [
              "\n",
              "  <div id=\"df-91a6372f-18df-48d9-b8ba-debb8a0b965f\">\n",
              "    <div class=\"colab-df-container\">\n",
              "      <div>\n",
              "<style scoped>\n",
              "    .dataframe tbody tr th:only-of-type {\n",
              "        vertical-align: middle;\n",
              "    }\n",
              "\n",
              "    .dataframe tbody tr th {\n",
              "        vertical-align: top;\n",
              "    }\n",
              "\n",
              "    .dataframe thead th {\n",
              "        text-align: right;\n",
              "    }\n",
              "</style>\n",
              "<table border=\"1\" class=\"dataframe\">\n",
              "  <thead>\n",
              "    <tr style=\"text-align: right;\">\n",
              "      <th></th>\n",
              "      <th>Event.Id</th>\n",
              "      <th>Investigation.Type</th>\n",
              "      <th>Accident.Number</th>\n",
              "      <th>Event.Date</th>\n",
              "      <th>Location</th>\n",
              "      <th>Country</th>\n",
              "      <th>Latitude</th>\n",
              "      <th>Longitude</th>\n",
              "      <th>Airport.Code</th>\n",
              "      <th>Airport.Name</th>\n",
              "      <th>...</th>\n",
              "      <th>Air.carrier</th>\n",
              "      <th>Total.Fatal.Injuries</th>\n",
              "      <th>Total.Serious.Injuries</th>\n",
              "      <th>Total.Minor.Injuries</th>\n",
              "      <th>Total.Uninjured</th>\n",
              "      <th>Weather.Condition</th>\n",
              "      <th>Broad.phase.of.flight</th>\n",
              "      <th>Report.Status</th>\n",
              "      <th>Publication.Date</th>\n",
              "      <th>State</th>\n",
              "    </tr>\n",
              "  </thead>\n",
              "  <tbody>\n",
              "    <tr>\n",
              "      <th>0</th>\n",
              "      <td>20020909X01562</td>\n",
              "      <td>Accident</td>\n",
              "      <td>SEA82DA022</td>\n",
              "      <td>1982-01-01</td>\n",
              "      <td>PULLMAN, WA</td>\n",
              "      <td>United States</td>\n",
              "      <td>NaN</td>\n",
              "      <td>NaN</td>\n",
              "      <td>NaN</td>\n",
              "      <td>BLACKBURN AG STRIP</td>\n",
              "      <td>...</td>\n",
              "      <td>NaN</td>\n",
              "      <td>0.0</td>\n",
              "      <td>0.0</td>\n",
              "      <td>0.0</td>\n",
              "      <td>2.0</td>\n",
              "      <td>VMC</td>\n",
              "      <td>Takeoff</td>\n",
              "      <td>Probable Cause</td>\n",
              "      <td>01-01-1982</td>\n",
              "      <td>WA</td>\n",
              "    </tr>\n",
              "    <tr>\n",
              "      <th>1</th>\n",
              "      <td>20020917X02574</td>\n",
              "      <td>Accident</td>\n",
              "      <td>SEA82DA016</td>\n",
              "      <td>1982-01-08</td>\n",
              "      <td>PULLMAN, WA</td>\n",
              "      <td>United States</td>\n",
              "      <td>NaN</td>\n",
              "      <td>NaN</td>\n",
              "      <td>PUW</td>\n",
              "      <td>PULLMAN-MOSCOW REGIONAL</td>\n",
              "      <td>...</td>\n",
              "      <td>NaN</td>\n",
              "      <td>0.0</td>\n",
              "      <td>0.0</td>\n",
              "      <td>0.0</td>\n",
              "      <td>1.0</td>\n",
              "      <td>VMC</td>\n",
              "      <td>Landing</td>\n",
              "      <td>Probable Cause</td>\n",
              "      <td>08-01-1983</td>\n",
              "      <td>WA</td>\n",
              "    </tr>\n",
              "    <tr>\n",
              "      <th>2</th>\n",
              "      <td>20020917X02575</td>\n",
              "      <td>Accident</td>\n",
              "      <td>SEA82DA017</td>\n",
              "      <td>1982-01-13</td>\n",
              "      <td>SPOKANE, WA</td>\n",
              "      <td>United States</td>\n",
              "      <td>NaN</td>\n",
              "      <td>NaN</td>\n",
              "      <td>NaN</td>\n",
              "      <td>GEIGER FIELD</td>\n",
              "      <td>...</td>\n",
              "      <td>Richard Engstrom</td>\n",
              "      <td>0.0</td>\n",
              "      <td>0.0</td>\n",
              "      <td>0.0</td>\n",
              "      <td>2.0</td>\n",
              "      <td>IMC</td>\n",
              "      <td>Approach</td>\n",
              "      <td>Probable Cause</td>\n",
              "      <td>13-01-1983</td>\n",
              "      <td>WA</td>\n",
              "    </tr>\n",
              "    <tr>\n",
              "      <th>3</th>\n",
              "      <td>20020917X02576</td>\n",
              "      <td>Accident</td>\n",
              "      <td>SEA82DA018</td>\n",
              "      <td>1982-01-15</td>\n",
              "      <td>SPOKANE, WA</td>\n",
              "      <td>United States</td>\n",
              "      <td>NaN</td>\n",
              "      <td>NaN</td>\n",
              "      <td>SFF</td>\n",
              "      <td>FELTS</td>\n",
              "      <td>...</td>\n",
              "      <td>NaN</td>\n",
              "      <td>0.0</td>\n",
              "      <td>0.0</td>\n",
              "      <td>0.0</td>\n",
              "      <td>1.0</td>\n",
              "      <td>VMC</td>\n",
              "      <td>Takeoff</td>\n",
              "      <td>Probable Cause</td>\n",
              "      <td>15-01-1983</td>\n",
              "      <td>WA</td>\n",
              "    </tr>\n",
              "    <tr>\n",
              "      <th>4</th>\n",
              "      <td>20020917X02624</td>\n",
              "      <td>Accident</td>\n",
              "      <td>SEA82FYM08</td>\n",
              "      <td>1982-01-18</td>\n",
              "      <td>ORCHARDS, WA</td>\n",
              "      <td>United States</td>\n",
              "      <td>NaN</td>\n",
              "      <td>NaN</td>\n",
              "      <td>NaN</td>\n",
              "      <td>CLARK COUNTY</td>\n",
              "      <td>...</td>\n",
              "      <td>NaN</td>\n",
              "      <td>0.0</td>\n",
              "      <td>2.0</td>\n",
              "      <td>2.0</td>\n",
              "      <td>0.0</td>\n",
              "      <td>VMC</td>\n",
              "      <td>Descent</td>\n",
              "      <td>Probable Cause</td>\n",
              "      <td>18-01-1983</td>\n",
              "      <td>WA</td>\n",
              "    </tr>\n",
              "    <tr>\n",
              "      <th>...</th>\n",
              "      <td>...</td>\n",
              "      <td>...</td>\n",
              "      <td>...</td>\n",
              "      <td>...</td>\n",
              "      <td>...</td>\n",
              "      <td>...</td>\n",
              "      <td>...</td>\n",
              "      <td>...</td>\n",
              "      <td>...</td>\n",
              "      <td>...</td>\n",
              "      <td>...</td>\n",
              "      <td>...</td>\n",
              "      <td>...</td>\n",
              "      <td>...</td>\n",
              "      <td>...</td>\n",
              "      <td>...</td>\n",
              "      <td>...</td>\n",
              "      <td>...</td>\n",
              "      <td>...</td>\n",
              "      <td>...</td>\n",
              "      <td>...</td>\n",
              "    </tr>\n",
              "    <tr>\n",
              "      <th>2608</th>\n",
              "      <td>20221018106160</td>\n",
              "      <td>Accident</td>\n",
              "      <td>WPR23LA019</td>\n",
              "      <td>2022-10-15</td>\n",
              "      <td>Lake Isabel, WA</td>\n",
              "      <td>United States</td>\n",
              "      <td>475213N</td>\n",
              "      <td>1213532W</td>\n",
              "      <td>NaN</td>\n",
              "      <td>NaN</td>\n",
              "      <td>...</td>\n",
              "      <td>NaN</td>\n",
              "      <td>0.0</td>\n",
              "      <td>0.0</td>\n",
              "      <td>0.0</td>\n",
              "      <td>1.0</td>\n",
              "      <td>Unk</td>\n",
              "      <td>NaN</td>\n",
              "      <td>NaN</td>\n",
              "      <td>18-10-2022</td>\n",
              "      <td>WA</td>\n",
              "    </tr>\n",
              "    <tr>\n",
              "      <th>2609</th>\n",
              "      <td>20221031106233</td>\n",
              "      <td>Accident</td>\n",
              "      <td>WPR23LA026</td>\n",
              "      <td>2022-10-26</td>\n",
              "      <td>Puyallup, WA</td>\n",
              "      <td>United States</td>\n",
              "      <td>471236N</td>\n",
              "      <td>0122210W</td>\n",
              "      <td>NaN</td>\n",
              "      <td>NaN</td>\n",
              "      <td>...</td>\n",
              "      <td>NaN</td>\n",
              "      <td>0.0</td>\n",
              "      <td>0.0</td>\n",
              "      <td>0.0</td>\n",
              "      <td>1.0</td>\n",
              "      <td>VMC</td>\n",
              "      <td>NaN</td>\n",
              "      <td>NaN</td>\n",
              "      <td>02-11-2022</td>\n",
              "      <td>WA</td>\n",
              "    </tr>\n",
              "    <tr>\n",
              "      <th>2610</th>\n",
              "      <td>20221122106349</td>\n",
              "      <td>Accident</td>\n",
              "      <td>WPR23LA042</td>\n",
              "      <td>2022-11-15</td>\n",
              "      <td>Kahlotus, WA</td>\n",
              "      <td>United States</td>\n",
              "      <td>464320N</td>\n",
              "      <td>1183516W</td>\n",
              "      <td>NaN</td>\n",
              "      <td>NaN</td>\n",
              "      <td>...</td>\n",
              "      <td>DASHIELL ROSS R</td>\n",
              "      <td>0.0</td>\n",
              "      <td>0.0</td>\n",
              "      <td>1.0</td>\n",
              "      <td>0.0</td>\n",
              "      <td>NaN</td>\n",
              "      <td>NaN</td>\n",
              "      <td>NaN</td>\n",
              "      <td>02-12-2022</td>\n",
              "      <td>WA</td>\n",
              "    </tr>\n",
              "    <tr>\n",
              "      <th>2611</th>\n",
              "      <td>20221118106317</td>\n",
              "      <td>Accident</td>\n",
              "      <td>WPR23FA034</td>\n",
              "      <td>2022-11-18</td>\n",
              "      <td>Snohomish, WA</td>\n",
              "      <td>United States</td>\n",
              "      <td>475421N</td>\n",
              "      <td>0122256W</td>\n",
              "      <td>NaN</td>\n",
              "      <td>NaN</td>\n",
              "      <td>...</td>\n",
              "      <td>Raisbeck Engineering</td>\n",
              "      <td>4.0</td>\n",
              "      <td>0.0</td>\n",
              "      <td>0.0</td>\n",
              "      <td>0.0</td>\n",
              "      <td>VMC</td>\n",
              "      <td>NaN</td>\n",
              "      <td>NaN</td>\n",
              "      <td>16-12-2022</td>\n",
              "      <td>WA</td>\n",
              "    </tr>\n",
              "    <tr>\n",
              "      <th>2612</th>\n",
              "      <td>20090115X12631</td>\n",
              "      <td>Accident</td>\n",
              "      <td>WPR09CA084</td>\n",
              "      <td>2009-01-14</td>\n",
              "      <td>Crane Island, San Juan Is., WA</td>\n",
              "      <td>United States</td>\n",
              "      <td>483547N</td>\n",
              "      <td>1225944W</td>\n",
              "      <td>None</td>\n",
              "      <td>Crane Island, San Juan Island</td>\n",
              "      <td>...</td>\n",
              "      <td>RUGBY AVIATION LLC</td>\n",
              "      <td>0.0</td>\n",
              "      <td>0.0</td>\n",
              "      <td>0.0</td>\n",
              "      <td>1.0</td>\n",
              "      <td>VMC</td>\n",
              "      <td>NaN</td>\n",
              "      <td>The pilot's failure to maintain directional co...</td>\n",
              "      <td>25-09-2020</td>\n",
              "      <td>San Juan Is.</td>\n",
              "    </tr>\n",
              "  </tbody>\n",
              "</table>\n",
              "<p>2613 rows × 32 columns</p>\n",
              "</div>\n",
              "      <button class=\"colab-df-convert\" onclick=\"convertToInteractive('df-91a6372f-18df-48d9-b8ba-debb8a0b965f')\"\n",
              "              title=\"Convert this dataframe to an interactive table.\"\n",
              "              style=\"display:none;\">\n",
              "        \n",
              "  <svg xmlns=\"http://www.w3.org/2000/svg\" height=\"24px\"viewBox=\"0 0 24 24\"\n",
              "       width=\"24px\">\n",
              "    <path d=\"M0 0h24v24H0V0z\" fill=\"none\"/>\n",
              "    <path d=\"M18.56 5.44l.94 2.06.94-2.06 2.06-.94-2.06-.94-.94-2.06-.94 2.06-2.06.94zm-11 1L8.5 8.5l.94-2.06 2.06-.94-2.06-.94L8.5 2.5l-.94 2.06-2.06.94zm10 10l.94 2.06.94-2.06 2.06-.94-2.06-.94-.94-2.06-.94 2.06-2.06.94z\"/><path d=\"M17.41 7.96l-1.37-1.37c-.4-.4-.92-.59-1.43-.59-.52 0-1.04.2-1.43.59L10.3 9.45l-7.72 7.72c-.78.78-.78 2.05 0 2.83L4 21.41c.39.39.9.59 1.41.59.51 0 1.02-.2 1.41-.59l7.78-7.78 2.81-2.81c.8-.78.8-2.07 0-2.86zM5.41 20L4 18.59l7.72-7.72 1.47 1.35L5.41 20z\"/>\n",
              "  </svg>\n",
              "      </button>\n",
              "      \n",
              "  <style>\n",
              "    .colab-df-container {\n",
              "      display:flex;\n",
              "      flex-wrap:wrap;\n",
              "      gap: 12px;\n",
              "    }\n",
              "\n",
              "    .colab-df-convert {\n",
              "      background-color: #E8F0FE;\n",
              "      border: none;\n",
              "      border-radius: 50%;\n",
              "      cursor: pointer;\n",
              "      display: none;\n",
              "      fill: #1967D2;\n",
              "      height: 32px;\n",
              "      padding: 0 0 0 0;\n",
              "      width: 32px;\n",
              "    }\n",
              "\n",
              "    .colab-df-convert:hover {\n",
              "      background-color: #E2EBFA;\n",
              "      box-shadow: 0px 1px 2px rgba(60, 64, 67, 0.3), 0px 1px 3px 1px rgba(60, 64, 67, 0.15);\n",
              "      fill: #174EA6;\n",
              "    }\n",
              "\n",
              "    [theme=dark] .colab-df-convert {\n",
              "      background-color: #3B4455;\n",
              "      fill: #D2E3FC;\n",
              "    }\n",
              "\n",
              "    [theme=dark] .colab-df-convert:hover {\n",
              "      background-color: #434B5C;\n",
              "      box-shadow: 0px 1px 3px 1px rgba(0, 0, 0, 0.15);\n",
              "      filter: drop-shadow(0px 1px 2px rgba(0, 0, 0, 0.3));\n",
              "      fill: #FFFFFF;\n",
              "    }\n",
              "  </style>\n",
              "\n",
              "      <script>\n",
              "        const buttonEl =\n",
              "          document.querySelector('#df-91a6372f-18df-48d9-b8ba-debb8a0b965f button.colab-df-convert');\n",
              "        buttonEl.style.display =\n",
              "          google.colab.kernel.accessAllowed ? 'block' : 'none';\n",
              "\n",
              "        async function convertToInteractive(key) {\n",
              "          const element = document.querySelector('#df-91a6372f-18df-48d9-b8ba-debb8a0b965f');\n",
              "          const dataTable =\n",
              "            await google.colab.kernel.invokeFunction('convertToInteractive',\n",
              "                                                     [key], {});\n",
              "          if (!dataTable) return;\n",
              "\n",
              "          const docLinkHtml = 'Like what you see? Visit the ' +\n",
              "            '<a target=\"_blank\" href=https://colab.research.google.com/notebooks/data_table.ipynb>data table notebook</a>'\n",
              "            + ' to learn more about interactive tables.';\n",
              "          element.innerHTML = '';\n",
              "          dataTable['output_type'] = 'display_data';\n",
              "          await google.colab.output.renderOutput(dataTable, element);\n",
              "          const docLink = document.createElement('div');\n",
              "          docLink.innerHTML = docLinkHtml;\n",
              "          element.appendChild(docLink);\n",
              "        }\n",
              "      </script>\n",
              "    </div>\n",
              "  </div>\n",
              "  "
            ]
          },
          "metadata": {}
        }
      ]
    },
    {
      "cell_type": "code",
      "source": [
        "# Recall San Juan Island, an island off the coast of Washington\n",
        "# Make San Juan Island dataframe to concatenate with WA\n",
        "df_fly_sji = df[df['State'] == 'San Juan Is.']\n"
      ],
      "metadata": {
        "id": "gJNwVd3ekfaN"
      },
      "execution_count": null,
      "outputs": []
    },
    {
      "cell_type": "code",
      "source": [
        "# Washington, only airplanes\n",
        "df_fly_wa_planes = df_fly_wa[df_fly_wa['Aircraft.Category'] == 'Airplane']"
      ],
      "metadata": {
        "id": "Llh1ELDFLNRa"
      },
      "execution_count": null,
      "outputs": []
    },
    {
      "cell_type": "code",
      "source": [
        "# comparing length of df before and after filtering for airplanes only\n",
        "len(df_fly_wa)"
      ],
      "metadata": {
        "colab": {
          "base_uri": "https://localhost:8080/"
        },
        "id": "OSLCPmjuLJO_",
        "outputId": "ae053603-122d-4dd8-e0b8-e6632ba3ae2d"
      },
      "execution_count": null,
      "outputs": [
        {
          "output_type": "execute_result",
          "data": {
            "text/plain": [
              "2613"
            ]
          },
          "metadata": {},
          "execution_count": 307
        }
      ]
    },
    {
      "cell_type": "code",
      "source": [
        "len(df_fly_wa_planes)"
      ],
      "metadata": {
        "colab": {
          "base_uri": "https://localhost:8080/"
        },
        "id": "n3PGsqdhLUyS",
        "outputId": "788bed41-080c-4793-a5e8-a6c2f45f0fc8"
      },
      "execution_count": null,
      "outputs": [
        {
          "output_type": "execute_result",
          "data": {
            "text/plain": [
              "731"
            ]
          },
          "metadata": {},
          "execution_count": 310
        }
      ]
    },
    {
      "cell_type": "code",
      "source": [
        "#exporting and saving df_fly_wa_planes file to my google drive\n",
        "path = '/content/drive/My Drive/df_fly_wa_planes.csv'\n",
        "with open(path, 'w', encoding = 'utf-8-sig') as f:\n",
        " df_fly_wa_planes.to_csv(f)"
      ],
      "metadata": {
        "id": "pJ2_FrojVz2W"
      },
      "execution_count": null,
      "outputs": []
    },
    {
      "cell_type": "code",
      "source": [
        "#exporting and saving df_fly_wa file to my google drive\n",
        "path = '/content/drive/My Drive/df_fly_wa.csv'\n",
        "with open(path, 'w', encoding = 'utf-8-sig') as f:\n",
        " df_fly_wa.to_csv(f)"
      ],
      "metadata": {
        "id": "0Ox9H_gsV3GO"
      },
      "execution_count": null,
      "outputs": []
    },
    {
      "cell_type": "markdown",
      "source": [
        "**State 55: Wisconsin**"
      ],
      "metadata": {
        "id": "7DRJs-MtZoDq"
      }
    },
    {
      "cell_type": "code",
      "source": [
        "# Wisconsin, all aircraft\n",
        "df_fly_wi = df[df['State'] == 'WI']"
      ],
      "metadata": {
        "id": "mwoTrCVWm6-e"
      },
      "execution_count": null,
      "outputs": []
    },
    {
      "cell_type": "code",
      "source": [
        "# Wisconsin, only airplanes\n",
        "df_fly_wi_planes = df_fly_wi[df_fly_wi['Aircraft.Category'] == 'Airplane']"
      ],
      "metadata": {
        "id": "UaYFp0KdNBr_"
      },
      "execution_count": null,
      "outputs": []
    },
    {
      "cell_type": "code",
      "source": [
        "# comparing length of df before and after filtering for airplanes only\n",
        "len(df_fly_wi)"
      ],
      "metadata": {
        "colab": {
          "base_uri": "https://localhost:8080/"
        },
        "id": "wdyBj83RM_SK",
        "outputId": "cb8221ee-4048-409b-d6b6-09c582c53827"
      },
      "execution_count": null,
      "outputs": [
        {
          "output_type": "execute_result",
          "data": {
            "text/plain": [
              "1560"
            ]
          },
          "metadata": {},
          "execution_count": 336
        }
      ]
    },
    {
      "cell_type": "code",
      "source": [
        "len(df_fly_wi_planes)"
      ],
      "metadata": {
        "colab": {
          "base_uri": "https://localhost:8080/"
        },
        "id": "zwkIvDgRNHvR",
        "outputId": "c7965682-5abf-4008-8c9f-d8056c41005c"
      },
      "execution_count": null,
      "outputs": [
        {
          "output_type": "execute_result",
          "data": {
            "text/plain": [
              "457"
            ]
          },
          "metadata": {},
          "execution_count": 338
        }
      ]
    },
    {
      "cell_type": "code",
      "source": [
        "#exporting and saving df_fly_wi_planes file to my google drive\n",
        "path = '/content/drive/My Drive/df_fly_wi_planes.csv'\n",
        "with open(path, 'w', encoding = 'utf-8-sig') as f:\n",
        " df_fly_wi_planes.to_csv(f)"
      ],
      "metadata": {
        "id": "dPAjNFtKXMjH"
      },
      "execution_count": null,
      "outputs": []
    },
    {
      "cell_type": "code",
      "source": [
        "#exporting and saving df_fly_wi file to my google drive\n",
        "path = '/content/drive/My Drive/df_fly_wi.csv'\n",
        "with open(path, 'w', encoding = 'utf-8-sig') as f:\n",
        " df_fly_wi.to_csv(f)"
      ],
      "metadata": {
        "id": "2fpN37axXQjP"
      },
      "execution_count": null,
      "outputs": []
    },
    {
      "cell_type": "markdown",
      "source": [
        "**State 56: West Virginia**"
      ],
      "metadata": {
        "id": "K9F1OylDaDlz"
      }
    },
    {
      "cell_type": "code",
      "source": [
        "# West Virginia, all aircraft\n",
        "df_fly_wv = df[df['State'] == 'WV']"
      ],
      "metadata": {
        "id": "akhQ3UB8m7IE"
      },
      "execution_count": null,
      "outputs": []
    },
    {
      "cell_type": "code",
      "source": [
        "# Wesr Virgina, only airplanes\n",
        "df_fly_wv_planes = df_fly_wv[df_fly_wv['Aircraft.Category'] == 'Airplane']"
      ],
      "metadata": {
        "id": "b2Ug8ujcNOc5"
      },
      "execution_count": null,
      "outputs": []
    },
    {
      "cell_type": "code",
      "source": [
        "# comparing length of df before and after filtering for airplanes only\n",
        "len(df_fly_wv)"
      ],
      "metadata": {
        "colab": {
          "base_uri": "https://localhost:8080/"
        },
        "id": "yTpMTntqNLJF",
        "outputId": "c454a87c-448e-437d-b246-be7fed765ddf"
      },
      "execution_count": null,
      "outputs": [
        {
          "output_type": "execute_result",
          "data": {
            "text/plain": [
              "394"
            ]
          },
          "metadata": {},
          "execution_count": 341
        }
      ]
    },
    {
      "cell_type": "code",
      "source": [
        "len(df_fly_wv_planes)"
      ],
      "metadata": {
        "colab": {
          "base_uri": "https://localhost:8080/"
        },
        "id": "IhLGS6QNNTKk",
        "outputId": "47cc62b3-7cff-4561-d6dc-3ce9f848b182"
      },
      "execution_count": null,
      "outputs": [
        {
          "output_type": "execute_result",
          "data": {
            "text/plain": [
              "103"
            ]
          },
          "metadata": {},
          "execution_count": 343
        }
      ]
    },
    {
      "cell_type": "code",
      "source": [
        "#exporting and saving df_fly_wv_planes file to my google drive\n",
        "path = '/content/drive/My Drive/df_fly_wv_planes.csv'\n",
        "with open(path, 'w', encoding = 'utf-8-sig') as f:\n",
        " df_fly_wv_planes.to_csv(f)"
      ],
      "metadata": {
        "id": "HBr2rXWHXWR1"
      },
      "execution_count": null,
      "outputs": []
    },
    {
      "cell_type": "code",
      "source": [
        "#exporting and saving df_fly_wv file to my google drive\n",
        "path = '/content/drive/My Drive/df_fly_wv.csv'\n",
        "with open(path, 'w', encoding = 'utf-8-sig') as f:\n",
        " df_fly_wv.to_csv(f)"
      ],
      "metadata": {
        "id": "GfNPvBQgXZNF"
      },
      "execution_count": null,
      "outputs": []
    },
    {
      "cell_type": "markdown",
      "source": [
        "**State 57: Wyoming**"
      ],
      "metadata": {
        "id": "DkiGjLReaYoc"
      }
    },
    {
      "cell_type": "code",
      "source": [
        "# Wyoming, all aircraft\n",
        "df_fly_wy = df[df['State'] == 'WY']"
      ],
      "metadata": {
        "id": "0BTiICA3m7O-"
      },
      "execution_count": null,
      "outputs": []
    },
    {
      "cell_type": "code",
      "source": [
        "# Wyoming, only airplanes\n",
        "df_fly_wy_planes = df_fly_wy[df_fly_wy['Aircraft.Category'] == 'Airplane']"
      ],
      "metadata": {
        "id": "jWtSdcFNNaC5"
      },
      "execution_count": null,
      "outputs": []
    },
    {
      "cell_type": "code",
      "source": [
        "# comparing length of df before and after filtering for airplanes only\n",
        "len(df_fly_wy)"
      ],
      "metadata": {
        "colab": {
          "base_uri": "https://localhost:8080/"
        },
        "id": "tgBTRQxZNXwc",
        "outputId": "128e5a73-4bc1-44b3-ac09-41dcfe5ecd8c"
      },
      "execution_count": null,
      "outputs": [
        {
          "output_type": "execute_result",
          "data": {
            "text/plain": [
              "739"
            ]
          },
          "metadata": {},
          "execution_count": 344
        }
      ]
    },
    {
      "cell_type": "code",
      "source": [
        "len(df_fly_wy_planes)"
      ],
      "metadata": {
        "colab": {
          "base_uri": "https://localhost:8080/"
        },
        "id": "eKn7Wh6ENgIw",
        "outputId": "15f82723-4b63-40e4-d47b-8f6f9b5b52c0"
      },
      "execution_count": null,
      "outputs": [
        {
          "output_type": "execute_result",
          "data": {
            "text/plain": [
              "226"
            ]
          },
          "metadata": {},
          "execution_count": 347
        }
      ]
    },
    {
      "cell_type": "code",
      "source": [
        "#exporting and saving df_fly_wy_planes file to my google drive\n",
        "path = '/content/drive/My Drive/df_fly_wy_planes.csv'\n",
        "with open(path, 'w', encoding = 'utf-8-sig') as f:\n",
        " df_fly_wy_planes.to_csv(f)"
      ],
      "metadata": {
        "id": "3eUtMlwbXeA7"
      },
      "execution_count": null,
      "outputs": []
    },
    {
      "cell_type": "code",
      "source": [
        "#exporting and saving df_fly_wy file to my google drive\n",
        "path = '/content/drive/My Drive/df_fly_wy.csv'\n",
        "with open(path, 'w', encoding = 'utf-8-sig') as f:\n",
        " df_fly_wy.to_csv(f)"
      ],
      "metadata": {
        "id": "KkUPZlkWXiFh"
      },
      "execution_count": null,
      "outputs": []
    }
  ]
}