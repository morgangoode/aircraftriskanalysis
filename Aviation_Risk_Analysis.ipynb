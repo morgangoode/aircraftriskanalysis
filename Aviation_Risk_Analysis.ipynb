{
  "cells": [
    {
      "cell_type": "markdown",
      "metadata": {
        "id": "TxpgSwfddVwF"
      },
      "source": [
        "# Fly-Hard Aviation Risk Analysis"
      ]
    },
    {
      "cell_type": "markdown",
      "metadata": {
        "id": "G-PCER3ddVwG"
      },
      "source": [
        "## Overview"
      ]
    },
    {
      "cell_type": "markdown",
      "metadata": {
        "id": "v_4u6DOSdVwH"
      },
      "source": [
        "This project analyzes a dataset from the National Transportation Safety Board, which includes aviation data from 1962 to 2023 about civil aviation accidents and selected incidents in the United States and international waters. Our company, Fly-Hard, is interested in expanding into the aviation industry in order to diversify our portfolio. Our goal is to use this data set to provide actionable insight to the head of the aviation division, Jelly, in order to help her decide which aircraft to purchase based on our risk analysis. This is important to her as a stakeholder as we can use this analysis to mitigate accidents/incidents, costs such settlements and repairs, and increase revenue as a safer airline than our competitors. "
      ]
    },
    {
      "cell_type": "markdown",
      "metadata": {
        "id": "3_K_5ZpodVwH"
      },
      "source": [
        "## Business Problem\n",
        "        \n",
        "        "
      ]
    },
    {
      "cell_type": "markdown",
      "metadata": {
        "id": "eX8Fr5O6dVwH"
      },
      "source": [
        "Fly-Hard will use our resources to reduce the risk of aviation accidents/incidents as we expand into the industry. It is our goal to purchase and operate airplanes for both commercial and private enterprises that align with our standards of safety and compliance as an airline. Doing so will help our company kick-start our venture into aviation as a reputable, esteemed, and secure airline. In order to achieve this level of excellence, we will use the NTSB's flight data set to complete exploratory data analysis and forecast the proper crafts to purchase/operate upon."
      ]
    },
    {
      "cell_type": "markdown",
      "metadata": {
        "id": "LXC8B4yzdVwH"
      },
      "source": [
        "## Data Understanding\n"
      ]
    },
    {
      "cell_type": "markdown",
      "metadata": {
        "id": "sbyu8LoQdVwI"
      },
      "source": [
        "The NTSB flight data includes aviation accidents and incidents from 1962 to 2023 regarding civil aviation accidents. Each accident has a unique ID to identify the event, along with the date of the event, characteristics of the flight, characteristics of the air craft, and data logging the assessment of damage from the event, whether that be aircraft damage or injury damage to the members on the aircraft."
      ]
    },
    {
      "cell_type": "code",
      "execution_count": null,
      "metadata": {
        "id": "ueh4fClKdVwI"
      },
      "outputs": [],
      "source": [
        "import pandas as pd"
      ]
    },
    {
      "cell_type": "code",
      "execution_count": null,
      "metadata": {
        "id": "feZiJcWYdVwJ"
      },
      "outputs": [],
      "source": [
        "aviation_df = pd.read_csv('../data/df_post1996 (1).csv', encoding = \"ISO-8859-1\" )"
      ]
    },
    {
      "cell_type": "code",
      "execution_count": null,
      "metadata": {
        "id": "c8C2yxd_dVwJ",
        "outputId": "c6d35678-ca97-4208-8a8e-0a13d47f9fd0"
      },
      "outputs": [
        {
          "name": "stdout",
          "output_type": "stream",
          "text": [
            "<class 'pandas.core.frame.DataFrame'>\n",
            "RangeIndex: 100753 entries, 0 to 100752\n",
            "Data columns (total 34 columns):\n",
            " #   Column                    Non-Null Count   Dtype  \n",
            "---  ------                    --------------   -----  \n",
            " 0   ï»¿                       100753 non-null  int64  \n",
            " 1   ev_id                     100753 non-null  object \n",
            " 2   ntsb_no                   100753 non-null  object \n",
            " 3   ev_date                   100753 non-null  object \n",
            " 4   ev_type                   100753 non-null  object \n",
            " 5   Aircraft_Key              91383 non-null   float64\n",
            " 6   acft_category             91027 non-null   object \n",
            " 7   flight purpose            77472 non-null   object \n",
            " 8   acft_make                 91322 non-null   object \n",
            " 9   acft_model                91298 non-null   object \n",
            " 10  homebuilt                 91383 non-null   object \n",
            " 11  num_eng                   85589 non-null   float64\n",
            " 12  eng_no                    84460 non-null   float64\n",
            " 13  eng_type                  83647 non-null   object \n",
            " 14  damage                    89251 non-null   object \n",
            " 15  far_part                  90612 non-null   object \n",
            " 16  regis_no                  90437 non-null   object \n",
            " 17  ev_city                   100697 non-null  object \n",
            " 18  ev_state                  94233 non-null   object \n",
            " 19  ev_country                100634 non-null  object \n",
            " 20  latitude                  90856 non-null   object \n",
            " 21  longitude                 90863 non-null   object \n",
            " 22  ev_nr_apt_id              68555 non-null   object \n",
            " 23  apt_name                  69488 non-null   object \n",
            " 24  ev_highest_injury         99301 non-null   object \n",
            " 25  inj_tot_f                 68711 non-null   float64\n",
            " 26  inj_tot_s                 66230 non-null   float64\n",
            " 27  inj_tot_m                 68495 non-null   float64\n",
            " 28  inj_tot_n                 83814 non-null   float64\n",
            " 29  wx_cond_basic             95806 non-null   object \n",
            " 30  Occurrence_No             88609 non-null   float64\n",
            " 31  broad phase of flight     88609 non-null   object \n",
            " 32  specific phase of flight  88609 non-null   object \n",
            " 33  Occurrence                88609 non-null   object \n",
            "dtypes: float64(8), int64(1), object(25)\n",
            "memory usage: 26.1+ MB\n"
          ]
        }
      ],
      "source": [
        "aviation_df.info()"
      ]
    },
    {
      "cell_type": "code",
      "execution_count": null,
      "metadata": {
        "id": "HfoU5yHsdVwK",
        "outputId": "8acdc521-0cd7-44c0-a57e-68fdd0235c1a"
      },
      "outputs": [
        {
          "data": {
            "text/html": [
              "<div>\n",
              "<style scoped>\n",
              "    .dataframe tbody tr th:only-of-type {\n",
              "        vertical-align: middle;\n",
              "    }\n",
              "\n",
              "    .dataframe tbody tr th {\n",
              "        vertical-align: top;\n",
              "    }\n",
              "\n",
              "    .dataframe thead th {\n",
              "        text-align: right;\n",
              "    }\n",
              "</style>\n",
              "<table border=\"1\" class=\"dataframe\">\n",
              "  <thead>\n",
              "    <tr style=\"text-align: right;\">\n",
              "      <th></th>\n",
              "      <th>ï»¿</th>\n",
              "      <th>Aircraft_Key</th>\n",
              "      <th>num_eng</th>\n",
              "      <th>eng_no</th>\n",
              "      <th>inj_tot_f</th>\n",
              "      <th>inj_tot_s</th>\n",
              "      <th>inj_tot_m</th>\n",
              "      <th>inj_tot_n</th>\n",
              "      <th>Occurrence_No</th>\n",
              "    </tr>\n",
              "  </thead>\n",
              "  <tbody>\n",
              "    <tr>\n",
              "      <th>count</th>\n",
              "      <td>100753.000000</td>\n",
              "      <td>91383.000000</td>\n",
              "      <td>85589.000000</td>\n",
              "      <td>84460.000000</td>\n",
              "      <td>68711.000000</td>\n",
              "      <td>66230.000000</td>\n",
              "      <td>68495.000000</td>\n",
              "      <td>83814.000000</td>\n",
              "      <td>88609.000000</td>\n",
              "    </tr>\n",
              "    <tr>\n",
              "      <th>mean</th>\n",
              "      <td>50376.000000</td>\n",
              "      <td>1.000131</td>\n",
              "      <td>1.190492</td>\n",
              "      <td>1.091641</td>\n",
              "      <td>0.765773</td>\n",
              "      <td>0.314782</td>\n",
              "      <td>0.398905</td>\n",
              "      <td>5.518302</td>\n",
              "      <td>1.956573</td>\n",
              "    </tr>\n",
              "    <tr>\n",
              "      <th>std</th>\n",
              "      <td>29085.030173</td>\n",
              "      <td>0.011459</td>\n",
              "      <td>0.476197</td>\n",
              "      <td>0.319928</td>\n",
              "      <td>5.659571</td>\n",
              "      <td>1.062565</td>\n",
              "      <td>2.264626</td>\n",
              "      <td>27.375771</td>\n",
              "      <td>1.087303</td>\n",
              "    </tr>\n",
              "    <tr>\n",
              "      <th>min</th>\n",
              "      <td>0.000000</td>\n",
              "      <td>1.000000</td>\n",
              "      <td>0.000000</td>\n",
              "      <td>1.000000</td>\n",
              "      <td>0.000000</td>\n",
              "      <td>0.000000</td>\n",
              "      <td>0.000000</td>\n",
              "      <td>0.000000</td>\n",
              "      <td>1.000000</td>\n",
              "    </tr>\n",
              "    <tr>\n",
              "      <th>25%</th>\n",
              "      <td>25188.000000</td>\n",
              "      <td>1.000000</td>\n",
              "      <td>1.000000</td>\n",
              "      <td>1.000000</td>\n",
              "      <td>0.000000</td>\n",
              "      <td>0.000000</td>\n",
              "      <td>0.000000</td>\n",
              "      <td>0.000000</td>\n",
              "      <td>1.000000</td>\n",
              "    </tr>\n",
              "    <tr>\n",
              "      <th>50%</th>\n",
              "      <td>50376.000000</td>\n",
              "      <td>1.000000</td>\n",
              "      <td>1.000000</td>\n",
              "      <td>1.000000</td>\n",
              "      <td>0.000000</td>\n",
              "      <td>0.000000</td>\n",
              "      <td>0.000000</td>\n",
              "      <td>1.000000</td>\n",
              "      <td>2.000000</td>\n",
              "    </tr>\n",
              "    <tr>\n",
              "      <th>75%</th>\n",
              "      <td>75564.000000</td>\n",
              "      <td>1.000000</td>\n",
              "      <td>1.000000</td>\n",
              "      <td>1.000000</td>\n",
              "      <td>1.000000</td>\n",
              "      <td>0.000000</td>\n",
              "      <td>0.000000</td>\n",
              "      <td>2.000000</td>\n",
              "      <td>3.000000</td>\n",
              "    </tr>\n",
              "    <tr>\n",
              "      <th>max</th>\n",
              "      <td>100752.000000</td>\n",
              "      <td>2.000000</td>\n",
              "      <td>8.000000</td>\n",
              "      <td>9.000000</td>\n",
              "      <td>295.000000</td>\n",
              "      <td>59.000000</td>\n",
              "      <td>380.000000</td>\n",
              "      <td>699.000000</td>\n",
              "      <td>16.000000</td>\n",
              "    </tr>\n",
              "  </tbody>\n",
              "</table>\n",
              "</div>"
            ],
            "text/plain": [
              "                 ï»¿  Aircraft_Key       num_eng        eng_no     inj_tot_f  \\\n",
              "count  100753.000000  91383.000000  85589.000000  84460.000000  68711.000000   \n",
              "mean    50376.000000      1.000131      1.190492      1.091641      0.765773   \n",
              "std     29085.030173      0.011459      0.476197      0.319928      5.659571   \n",
              "min         0.000000      1.000000      0.000000      1.000000      0.000000   \n",
              "25%     25188.000000      1.000000      1.000000      1.000000      0.000000   \n",
              "50%     50376.000000      1.000000      1.000000      1.000000      0.000000   \n",
              "75%     75564.000000      1.000000      1.000000      1.000000      1.000000   \n",
              "max    100752.000000      2.000000      8.000000      9.000000    295.000000   \n",
              "\n",
              "          inj_tot_s     inj_tot_m     inj_tot_n  Occurrence_No  \n",
              "count  66230.000000  68495.000000  83814.000000   88609.000000  \n",
              "mean       0.314782      0.398905      5.518302       1.956573  \n",
              "std        1.062565      2.264626     27.375771       1.087303  \n",
              "min        0.000000      0.000000      0.000000       1.000000  \n",
              "25%        0.000000      0.000000      0.000000       1.000000  \n",
              "50%        0.000000      0.000000      1.000000       2.000000  \n",
              "75%        0.000000      0.000000      2.000000       3.000000  \n",
              "max       59.000000    380.000000    699.000000      16.000000  "
            ]
          },
          "execution_count": 4,
          "metadata": {},
          "output_type": "execute_result"
        }
      ],
      "source": [
        "aviation_df.describe()"
      ]
    },
    {
      "cell_type": "code",
      "execution_count": null,
      "metadata": {
        "id": "AwLJ8SWRdVwK",
        "outputId": "4f3127b8-ffe0-4307-b8c8-0d4845e97a9b"
      },
      "outputs": [
        {
          "data": {
            "text/html": [
              "<div>\n",
              "<style scoped>\n",
              "    .dataframe tbody tr th:only-of-type {\n",
              "        vertical-align: middle;\n",
              "    }\n",
              "\n",
              "    .dataframe tbody tr th {\n",
              "        vertical-align: top;\n",
              "    }\n",
              "\n",
              "    .dataframe thead th {\n",
              "        text-align: right;\n",
              "    }\n",
              "</style>\n",
              "<table border=\"1\" class=\"dataframe\">\n",
              "  <thead>\n",
              "    <tr style=\"text-align: right;\">\n",
              "      <th></th>\n",
              "      <th>ï»¿</th>\n",
              "      <th>ev_id</th>\n",
              "      <th>ntsb_no</th>\n",
              "      <th>ev_date</th>\n",
              "      <th>ev_type</th>\n",
              "      <th>Aircraft_Key</th>\n",
              "      <th>acft_category</th>\n",
              "      <th>flight purpose</th>\n",
              "      <th>acft_make</th>\n",
              "      <th>acft_model</th>\n",
              "      <th>...</th>\n",
              "      <th>ev_highest_injury</th>\n",
              "      <th>inj_tot_f</th>\n",
              "      <th>inj_tot_s</th>\n",
              "      <th>inj_tot_m</th>\n",
              "      <th>inj_tot_n</th>\n",
              "      <th>wx_cond_basic</th>\n",
              "      <th>Occurrence_No</th>\n",
              "      <th>broad phase of flight</th>\n",
              "      <th>specific phase of flight</th>\n",
              "      <th>Occurrence</th>\n",
              "    </tr>\n",
              "  </thead>\n",
              "  <tbody>\n",
              "    <tr>\n",
              "      <th>0</th>\n",
              "      <td>0</td>\n",
              "      <td>20001208X07301</td>\n",
              "      <td>IAD97FA038</td>\n",
              "      <td>1997-01-01</td>\n",
              "      <td>ACC</td>\n",
              "      <td>NaN</td>\n",
              "      <td>NaN</td>\n",
              "      <td>NaN</td>\n",
              "      <td>NaN</td>\n",
              "      <td>NaN</td>\n",
              "      <td>...</td>\n",
              "      <td>FATL</td>\n",
              "      <td>1.0</td>\n",
              "      <td>NaN</td>\n",
              "      <td>NaN</td>\n",
              "      <td>NaN</td>\n",
              "      <td>IMC</td>\n",
              "      <td>NaN</td>\n",
              "      <td>NaN</td>\n",
              "      <td>NaN</td>\n",
              "      <td>NaN</td>\n",
              "    </tr>\n",
              "    <tr>\n",
              "      <th>1</th>\n",
              "      <td>1</td>\n",
              "      <td>20001208X07326</td>\n",
              "      <td>MIA97LA054</td>\n",
              "      <td>1997-01-01</td>\n",
              "      <td>ACC</td>\n",
              "      <td>NaN</td>\n",
              "      <td>NaN</td>\n",
              "      <td>NaN</td>\n",
              "      <td>NaN</td>\n",
              "      <td>NaN</td>\n",
              "      <td>...</td>\n",
              "      <td>SERS</td>\n",
              "      <td>NaN</td>\n",
              "      <td>2.0</td>\n",
              "      <td>NaN</td>\n",
              "      <td>NaN</td>\n",
              "      <td>VMC</td>\n",
              "      <td>NaN</td>\n",
              "      <td>NaN</td>\n",
              "      <td>NaN</td>\n",
              "      <td>NaN</td>\n",
              "    </tr>\n",
              "    <tr>\n",
              "      <th>2</th>\n",
              "      <td>2</td>\n",
              "      <td>20001208X07265</td>\n",
              "      <td>CHI97LA049</td>\n",
              "      <td>1997-01-01</td>\n",
              "      <td>ACC</td>\n",
              "      <td>NaN</td>\n",
              "      <td>NaN</td>\n",
              "      <td>NaN</td>\n",
              "      <td>NaN</td>\n",
              "      <td>NaN</td>\n",
              "      <td>...</td>\n",
              "      <td>NONE</td>\n",
              "      <td>NaN</td>\n",
              "      <td>NaN</td>\n",
              "      <td>NaN</td>\n",
              "      <td>2.0</td>\n",
              "      <td>IMC</td>\n",
              "      <td>NaN</td>\n",
              "      <td>NaN</td>\n",
              "      <td>NaN</td>\n",
              "      <td>NaN</td>\n",
              "    </tr>\n",
              "    <tr>\n",
              "      <th>3</th>\n",
              "      <td>3</td>\n",
              "      <td>20001208X07327</td>\n",
              "      <td>MIA97LA055</td>\n",
              "      <td>1997-01-01</td>\n",
              "      <td>ACC</td>\n",
              "      <td>NaN</td>\n",
              "      <td>NaN</td>\n",
              "      <td>NaN</td>\n",
              "      <td>NaN</td>\n",
              "      <td>NaN</td>\n",
              "      <td>...</td>\n",
              "      <td>SERS</td>\n",
              "      <td>NaN</td>\n",
              "      <td>3.0</td>\n",
              "      <td>1.0</td>\n",
              "      <td>NaN</td>\n",
              "      <td>IMC</td>\n",
              "      <td>NaN</td>\n",
              "      <td>NaN</td>\n",
              "      <td>NaN</td>\n",
              "      <td>NaN</td>\n",
              "    </tr>\n",
              "    <tr>\n",
              "      <th>4</th>\n",
              "      <td>4</td>\n",
              "      <td>20001208X07329</td>\n",
              "      <td>MIA97LA058</td>\n",
              "      <td>1997-01-01</td>\n",
              "      <td>ACC</td>\n",
              "      <td>NaN</td>\n",
              "      <td>NaN</td>\n",
              "      <td>NaN</td>\n",
              "      <td>NaN</td>\n",
              "      <td>NaN</td>\n",
              "      <td>...</td>\n",
              "      <td>NONE</td>\n",
              "      <td>NaN</td>\n",
              "      <td>NaN</td>\n",
              "      <td>NaN</td>\n",
              "      <td>2.0</td>\n",
              "      <td>VMC</td>\n",
              "      <td>NaN</td>\n",
              "      <td>NaN</td>\n",
              "      <td>NaN</td>\n",
              "      <td>NaN</td>\n",
              "    </tr>\n",
              "  </tbody>\n",
              "</table>\n",
              "<p>5 rows × 34 columns</p>\n",
              "</div>"
            ],
            "text/plain": [
              "   ï»¿           ev_id     ntsb_no     ev_date ev_type  Aircraft_Key  \\\n",
              "0    0  20001208X07301  IAD97FA038  1997-01-01     ACC           NaN   \n",
              "1    1  20001208X07326  MIA97LA054  1997-01-01     ACC           NaN   \n",
              "2    2  20001208X07265  CHI97LA049  1997-01-01     ACC           NaN   \n",
              "3    3  20001208X07327  MIA97LA055  1997-01-01     ACC           NaN   \n",
              "4    4  20001208X07329  MIA97LA058  1997-01-01     ACC           NaN   \n",
              "\n",
              "  acft_category flight purpose acft_make acft_model  ... ev_highest_injury  \\\n",
              "0           NaN            NaN       NaN        NaN  ...              FATL   \n",
              "1           NaN            NaN       NaN        NaN  ...              SERS   \n",
              "2           NaN            NaN       NaN        NaN  ...              NONE   \n",
              "3           NaN            NaN       NaN        NaN  ...              SERS   \n",
              "4           NaN            NaN       NaN        NaN  ...              NONE   \n",
              "\n",
              "   inj_tot_f  inj_tot_s inj_tot_m inj_tot_n wx_cond_basic Occurrence_No  \\\n",
              "0        1.0        NaN       NaN       NaN           IMC           NaN   \n",
              "1        NaN        2.0       NaN       NaN           VMC           NaN   \n",
              "2        NaN        NaN       NaN       2.0           IMC           NaN   \n",
              "3        NaN        3.0       1.0       NaN           IMC           NaN   \n",
              "4        NaN        NaN       NaN       2.0           VMC           NaN   \n",
              "\n",
              "  broad phase of flight specific phase of flight Occurrence  \n",
              "0                   NaN                      NaN        NaN  \n",
              "1                   NaN                      NaN        NaN  \n",
              "2                   NaN                      NaN        NaN  \n",
              "3                   NaN                      NaN        NaN  \n",
              "4                   NaN                      NaN        NaN  \n",
              "\n",
              "[5 rows x 34 columns]"
            ]
          },
          "execution_count": 5,
          "metadata": {},
          "output_type": "execute_result"
        }
      ],
      "source": [
        "aviation_df.head()"
      ]
    },
    {
      "cell_type": "code",
      "execution_count": null,
      "metadata": {
        "id": "hkY72x-ndVwK",
        "outputId": "5291aecd-400c-4bfc-fabe-a16efa1e66aa"
      },
      "outputs": [
        {
          "data": {
            "text/html": [
              "<div>\n",
              "<style scoped>\n",
              "    .dataframe tbody tr th:only-of-type {\n",
              "        vertical-align: middle;\n",
              "    }\n",
              "\n",
              "    .dataframe tbody tr th {\n",
              "        vertical-align: top;\n",
              "    }\n",
              "\n",
              "    .dataframe thead th {\n",
              "        text-align: right;\n",
              "    }\n",
              "</style>\n",
              "<table border=\"1\" class=\"dataframe\">\n",
              "  <thead>\n",
              "    <tr style=\"text-align: right;\">\n",
              "      <th></th>\n",
              "      <th>ï»¿</th>\n",
              "      <th>ev_id</th>\n",
              "      <th>ntsb_no</th>\n",
              "      <th>ev_date</th>\n",
              "      <th>ev_type</th>\n",
              "      <th>Aircraft_Key</th>\n",
              "      <th>acft_category</th>\n",
              "      <th>flight purpose</th>\n",
              "      <th>acft_make</th>\n",
              "      <th>acft_model</th>\n",
              "      <th>...</th>\n",
              "      <th>ev_highest_injury</th>\n",
              "      <th>inj_tot_f</th>\n",
              "      <th>inj_tot_s</th>\n",
              "      <th>inj_tot_m</th>\n",
              "      <th>inj_tot_n</th>\n",
              "      <th>wx_cond_basic</th>\n",
              "      <th>Occurrence_No</th>\n",
              "      <th>broad phase of flight</th>\n",
              "      <th>specific phase of flight</th>\n",
              "      <th>Occurrence</th>\n",
              "    </tr>\n",
              "  </thead>\n",
              "  <tbody>\n",
              "    <tr>\n",
              "      <th>100748</th>\n",
              "      <td>100748</td>\n",
              "      <td>20230425107122</td>\n",
              "      <td>WPR23LA165</td>\n",
              "      <td>2023-04-24</td>\n",
              "      <td>ACC</td>\n",
              "      <td>1.0</td>\n",
              "      <td>AIR</td>\n",
              "      <td>Personal</td>\n",
              "      <td>ONEAL J R/ONEAL R C</td>\n",
              "      <td>EDI EXPRESS</td>\n",
              "      <td>...</td>\n",
              "      <td>NONE</td>\n",
              "      <td>0.0</td>\n",
              "      <td>0.0</td>\n",
              "      <td>0.0</td>\n",
              "      <td>1.0</td>\n",
              "      <td>VMC</td>\n",
              "      <td>NaN</td>\n",
              "      <td>NaN</td>\n",
              "      <td>NaN</td>\n",
              "      <td>NaN</td>\n",
              "    </tr>\n",
              "    <tr>\n",
              "      <th>100749</th>\n",
              "      <td>100749</td>\n",
              "      <td>20230430107167</td>\n",
              "      <td>WPR23FA172</td>\n",
              "      <td>2023-04-30</td>\n",
              "      <td>ACC</td>\n",
              "      <td>1.0</td>\n",
              "      <td>NaN</td>\n",
              "      <td>NaN</td>\n",
              "      <td>CESSNA</td>\n",
              "      <td>172S</td>\n",
              "      <td>...</td>\n",
              "      <td>FATL</td>\n",
              "      <td>1.0</td>\n",
              "      <td>0.0</td>\n",
              "      <td>0.0</td>\n",
              "      <td>0.0</td>\n",
              "      <td>NaN</td>\n",
              "      <td>NaN</td>\n",
              "      <td>NaN</td>\n",
              "      <td>NaN</td>\n",
              "      <td>NaN</td>\n",
              "    </tr>\n",
              "    <tr>\n",
              "      <th>100750</th>\n",
              "      <td>100750</td>\n",
              "      <td>20230426107154</td>\n",
              "      <td>WPR23LA168</td>\n",
              "      <td>2025-04-26</td>\n",
              "      <td>ACC</td>\n",
              "      <td>1.0</td>\n",
              "      <td>NaN</td>\n",
              "      <td>Personal</td>\n",
              "      <td>CESSNA</td>\n",
              "      <td>140</td>\n",
              "      <td>...</td>\n",
              "      <td>MINR</td>\n",
              "      <td>0.0</td>\n",
              "      <td>0.0</td>\n",
              "      <td>0.0</td>\n",
              "      <td>0.0</td>\n",
              "      <td>NaN</td>\n",
              "      <td>NaN</td>\n",
              "      <td>NaN</td>\n",
              "      <td>NaN</td>\n",
              "      <td>NaN</td>\n",
              "    </tr>\n",
              "    <tr>\n",
              "      <th>100751</th>\n",
              "      <td>100751</td>\n",
              "      <td>20001218X45444</td>\n",
              "      <td>SEA87LA080</td>\n",
              "      <td>2048-10-24</td>\n",
              "      <td>ACC</td>\n",
              "      <td>NaN</td>\n",
              "      <td>NaN</td>\n",
              "      <td>NaN</td>\n",
              "      <td>NaN</td>\n",
              "      <td>NaN</td>\n",
              "      <td>...</td>\n",
              "      <td>FATL</td>\n",
              "      <td>2.0</td>\n",
              "      <td>NaN</td>\n",
              "      <td>NaN</td>\n",
              "      <td>NaN</td>\n",
              "      <td>UNK</td>\n",
              "      <td>NaN</td>\n",
              "      <td>NaN</td>\n",
              "      <td>NaN</td>\n",
              "      <td>NaN</td>\n",
              "    </tr>\n",
              "    <tr>\n",
              "      <th>100752</th>\n",
              "      <td>100752</td>\n",
              "      <td>20001218X45447</td>\n",
              "      <td>LAX94LA336</td>\n",
              "      <td>2062-07-19</td>\n",
              "      <td>ACC</td>\n",
              "      <td>NaN</td>\n",
              "      <td>NaN</td>\n",
              "      <td>NaN</td>\n",
              "      <td>NaN</td>\n",
              "      <td>NaN</td>\n",
              "      <td>...</td>\n",
              "      <td>FATL</td>\n",
              "      <td>4.0</td>\n",
              "      <td>NaN</td>\n",
              "      <td>NaN</td>\n",
              "      <td>NaN</td>\n",
              "      <td>UNK</td>\n",
              "      <td>NaN</td>\n",
              "      <td>NaN</td>\n",
              "      <td>NaN</td>\n",
              "      <td>NaN</td>\n",
              "    </tr>\n",
              "  </tbody>\n",
              "</table>\n",
              "<p>5 rows × 34 columns</p>\n",
              "</div>"
            ],
            "text/plain": [
              "           ï»¿           ev_id     ntsb_no     ev_date ev_type  Aircraft_Key  \\\n",
              "100748  100748  20230425107122  WPR23LA165  2023-04-24     ACC           1.0   \n",
              "100749  100749  20230430107167  WPR23FA172  2023-04-30     ACC           1.0   \n",
              "100750  100750  20230426107154  WPR23LA168  2025-04-26     ACC           1.0   \n",
              "100751  100751  20001218X45444  SEA87LA080  2048-10-24     ACC           NaN   \n",
              "100752  100752  20001218X45447  LAX94LA336  2062-07-19     ACC           NaN   \n",
              "\n",
              "       acft_category flight purpose            acft_make   acft_model  ...  \\\n",
              "100748           AIR       Personal  ONEAL J R/ONEAL R C  EDI EXPRESS  ...   \n",
              "100749           NaN            NaN               CESSNA         172S  ...   \n",
              "100750           NaN       Personal               CESSNA          140  ...   \n",
              "100751           NaN            NaN                  NaN          NaN  ...   \n",
              "100752           NaN            NaN                  NaN          NaN  ...   \n",
              "\n",
              "       ev_highest_injury  inj_tot_f  inj_tot_s inj_tot_m inj_tot_n  \\\n",
              "100748              NONE        0.0        0.0       0.0       1.0   \n",
              "100749              FATL        1.0        0.0       0.0       0.0   \n",
              "100750              MINR        0.0        0.0       0.0       0.0   \n",
              "100751              FATL        2.0        NaN       NaN       NaN   \n",
              "100752              FATL        4.0        NaN       NaN       NaN   \n",
              "\n",
              "       wx_cond_basic Occurrence_No broad phase of flight  \\\n",
              "100748           VMC           NaN                   NaN   \n",
              "100749           NaN           NaN                   NaN   \n",
              "100750           NaN           NaN                   NaN   \n",
              "100751           UNK           NaN                   NaN   \n",
              "100752           UNK           NaN                   NaN   \n",
              "\n",
              "       specific phase of flight Occurrence  \n",
              "100748                      NaN        NaN  \n",
              "100749                      NaN        NaN  \n",
              "100750                      NaN        NaN  \n",
              "100751                      NaN        NaN  \n",
              "100752                      NaN        NaN  \n",
              "\n",
              "[5 rows x 34 columns]"
            ]
          },
          "execution_count": 6,
          "metadata": {},
          "output_type": "execute_result"
        }
      ],
      "source": [
        "aviation_df.tail()"
      ]
    },
    {
      "cell_type": "markdown",
      "metadata": {
        "id": "OrteZJWfdVwL"
      },
      "source": [
        "## Data Preparation"
      ]
    },
    {
      "cell_type": "markdown",
      "metadata": {
        "id": "_uvY0E37dVwL"
      },
      "source": [
        "### Data Cleaning"
      ]
    },
    {
      "cell_type": "markdown",
      "metadata": {
        "id": "JCY-ESK0dVwL"
      },
      "source": [
        "Based on our actionable insights we are looking to provide to the head of aviation, we clean the data to include only the necessary columns used in our risk analysis. Our first set of cleaning gives us the relevant columns to analyze the risk involved by flight type. Data was filtered from 1997-2023 as we were specifically interested in data after the \"Queen of the Skies\", the Boeing 747, was introduced."
      ]
    },
    {
      "cell_type": "markdown",
      "metadata": {
        "id": "R-lwY1sDdVwM"
      },
      "source": [
        "## Analysis"
      ]
    },
    {
      "cell_type": "code",
      "execution_count": null,
      "metadata": {
        "id": "gFhF4TXqdVwM"
      },
      "outputs": [],
      "source": [
        "import matplotlib\n",
        "import pandas as pd\n",
        "import matplotlib.pyplot as plt\n",
        "import numpy as np\n",
        "\n",
        "%matplotlib inline"
      ]
    },
    {
      "cell_type": "markdown",
      "metadata": {
        "id": "Apb6AXpKdVwM"
      },
      "source": [
        "### Analysis of Personal/Executive/Business Flight Risk"
      ]
    },
    {
      "cell_type": "code",
      "execution_count": null,
      "metadata": {
        "id": "nlX0QcYHdVwM"
      },
      "outputs": [],
      "source": [
        "df = pd.read_csv('../data/df_post1996 (1).csv', encoding = \"ISO-8859-1\" )"
      ]
    },
    {
      "cell_type": "code",
      "execution_count": null,
      "metadata": {
        "id": "wJHSKpHodVwM",
        "outputId": "572c71c4-972d-42a1-8bb3-5fad60793763"
      },
      "outputs": [
        {
          "data": {
            "text/plain": [
              "Personal               53369\n",
              "Instructional          10873\n",
              "Aerial Application      3815\n",
              "Positioning             2336\n",
              "Other Work Use          1468\n",
              "Flight Test             1184\n",
              "Aerial Observation      1013\n",
              "Executive/Corporate      607\n",
              "Ferry                    533\n",
              "Public Use               502\n",
              "Skydiving                410\n",
              "Air Race/Show            312\n",
              "External Load            289\n",
              "Banner Tow               250\n",
              "Business                 222\n",
              "Glider Tow               118\n",
              "Fire Fighting            116\n",
              "Unknown                   28\n",
              "Air Drop                  27\n",
              "Name: flight purpose, dtype: int64"
            ]
          },
          "execution_count": 53,
          "metadata": {},
          "output_type": "execute_result"
        }
      ],
      "source": [
        "\n",
        "df['flight purpose'].value_counts()"
      ]
    },
    {
      "cell_type": "code",
      "execution_count": null,
      "metadata": {
        "id": "Nb_GIm44dVwM",
        "outputId": "667781ba-db1b-4bc7-90f0-ac4b4c5f4712"
      },
      "outputs": [
        {
          "data": {
            "text/plain": [
              "23281"
            ]
          },
          "execution_count": 54,
          "metadata": {},
          "output_type": "execute_result"
        }
      ],
      "source": [
        "nan_count_flight_purpose = df['flight purpose'].isna().sum()\n",
        "nan_count_flight_purpose"
      ]
    },
    {
      "cell_type": "code",
      "execution_count": null,
      "metadata": {
        "id": "gowTJPd9dVwM",
        "outputId": "9b7d4178-256c-428b-d6ee-929b6d9b8c30"
      },
      "outputs": [
        {
          "data": {
            "text/plain": [
              "AIR     51441\n",
              "AIR     27593\n",
              "HELI     9019\n",
              "GLI       872\n",
              "GYRO      479\n",
              "BALL      467\n",
              "GLI       445\n",
              "WSFT      378\n",
              "PPAR      202\n",
              "ULTR       75\n",
              "BLIM       26\n",
              "UNK        17\n",
              "PLFT       12\n",
              "RCKT        1\n",
              "Name: acft_category, dtype: int64"
            ]
          },
          "execution_count": 56,
          "metadata": {},
          "output_type": "execute_result"
        }
      ],
      "source": [
        "df['acft_category'].value_counts()"
      ]
    },
    {
      "cell_type": "code",
      "execution_count": null,
      "metadata": {
        "id": "thrJegFBdVwN"
      },
      "outputs": [],
      "source": [
        "df['acft_category']= df['acft_category'].str.strip()"
      ]
    },
    {
      "cell_type": "code",
      "execution_count": null,
      "metadata": {
        "id": "062oNx3TdVwN",
        "outputId": "375df809-4209-45c8-c356-a416e1e6d0cf"
      },
      "outputs": [
        {
          "data": {
            "text/plain": [
              "9726"
            ]
          },
          "execution_count": 58,
          "metadata": {},
          "output_type": "execute_result"
        }
      ],
      "source": [
        "nan_count_aircraft_cat = df['acft_category'].isna().sum()\n",
        "nan_count_aircraft_cat"
      ]
    },
    {
      "cell_type": "code",
      "execution_count": null,
      "metadata": {
        "id": "onJcBoJWdVwN"
      },
      "outputs": [],
      "source": [
        "import matplotlib.pyplot as plt\n",
        "     "
      ]
    },
    {
      "cell_type": "code",
      "execution_count": null,
      "metadata": {
        "id": "HHO-5MHQdVwN",
        "outputId": "2fa7c4c0-2c7f-4723-f2a9-d7f1a80d4b19"
      },
      "outputs": [
        {
          "data": {
            "text/plain": [
              "20140827X25654    18\n",
              "20170524X02223    16\n",
              "20190813X05139    16\n",
              "20130404X60734    16\n",
              "20150514X24409    16\n",
              "                  ..\n",
              "20031231X02105     1\n",
              "20031001X01637     1\n",
              "20030924X01584     1\n",
              "20030826X01400     1\n",
              "20001218X45447     1\n",
              "Name: ev_id, Length: 48024, dtype: int64"
            ]
          },
          "execution_count": 61,
          "metadata": {},
          "output_type": "execute_result"
        }
      ],
      "source": [
        "df['ev_id'].value_counts()\n",
        "     "
      ]
    },
    {
      "cell_type": "code",
      "execution_count": null,
      "metadata": {
        "id": "n-ewQHSCdVwN"
      },
      "outputs": [],
      "source": [
        "df_unique_events = df.drop_duplicates(subset='ev_id')"
      ]
    },
    {
      "cell_type": "code",
      "execution_count": null,
      "metadata": {
        "id": "H0W5RO_HdVwN",
        "outputId": "c622fe32-8974-40fe-e25e-79a79fb013c0"
      },
      "outputs": [
        {
          "data": {
            "text/plain": [
              "<Axes: >"
            ]
          },
          "execution_count": 63,
          "metadata": {},
          "output_type": "execute_result"
        },
        {
          "data": {
            "image/png": "[encoded data removed]",
            "text/plain": [
              "<Figure size 640x480 with 1 Axes>"
            ]
          },
          "metadata": {},
          "output_type": "display_data"
        }
      ],
      "source": [
        "df_unique_events['ev_type'].value_counts().plot.bar()"
      ]
    },
    {
      "cell_type": "code",
      "execution_count": null,
      "metadata": {
        "id": "G9mvMb2-dVwN"
      },
      "outputs": [],
      "source": [
        "df_unique_aircraft_event = df.drop_duplicates(subset=['ev_id', 'Aircraft_Key'])"
      ]
    },
    {
      "cell_type": "code",
      "execution_count": null,
      "metadata": {
        "id": "LaUoLbJadVwN",
        "outputId": "5f3d3c4e-fdd4-479c-f856-ff9c25065125"
      },
      "outputs": [
        {
          "data": {
            "image/png": "[encoded data removed]",
            "text/plain": [
              "<Figure size 1600x500 with 2 Axes>"
            ]
          },
          "metadata": {},
          "output_type": "display_data"
        }
      ],
      "source": [
        "# set up plots\n",
        "fig, (ax1, ax2) = plt.subplots(ncols=2, figsize=(16, 5))\n",
        "\n",
        "# create variables for easier reuse\n",
        "aircraft_type_counts = df_unique_aircraft_event['acft_category'].value_counts()\n",
        "event_type_counts = df_unique_aircraft_event['ev_type'].value_counts()\n",
        "\n",
        "# plot data\n",
        "ax1.bar(aircraft_type_counts.index, aircraft_type_counts.values)\n",
        "ax2.bar(event_type_counts.index, event_type_counts.values)\n",
        "\n",
        "# customize appearance\n",
        "ax1.tick_params(axis=\"x\", labelrotation=90)\n",
        "ax2.tick_params(axis=\"x\", labelrotation=45)\n",
        "ax1.set_ylabel(\"Count of Events (Accidents + Incidents)\")\n",
        "ax2.set_ylabel(\"Count of Events\")\n",
        "ax1.set_title(\"Distribution of Event by Aircraft Type\")\n",
        "ax2.set_title(\"Accidents vs Incidents\");"
      ]
    },
    {
      "cell_type": "code",
      "execution_count": null,
      "metadata": {
        "id": "ItPxzSChdVwO",
        "outputId": "ce4e793d-53cf-4bdd-829f-577dc6d96e58"
      },
      "outputs": [
        {
          "data": {
            "image/png": "[encoded data removed]",
            "text/plain": [
              "<Figure size 4000x1000 with 1 Axes>"
            ]
          },
          "metadata": {},
          "output_type": "display_data"
        }
      ],
      "source": [
        "# set up plots\n",
        "fig, ax = plt.subplots(figsize=(40,10))\n",
        "\n",
        "\n",
        "# create variable for easier reuse\n",
        "flight_purpose_counts = df_unique_aircraft_event['flight purpose'].value_counts()\n",
        "\n",
        "\n",
        "# plot data\n",
        "ax.bar(flight_purpose_counts.index, flight_purpose_counts.values)\n",
        "\n",
        "\n",
        "# customize appearance\n",
        "\n",
        "ax.set_ylabel(\"Count of Events (Accidents + Incidents)\")\n",
        "\n",
        "ax.set_title(\"Distribution of Event by Flight Purpose\");"
      ]
    },
    {
      "cell_type": "markdown",
      "metadata": {
        "id": "dxnMqcoKdVwO"
      },
      "source": [
        "### Analysis of Make/Model Flight Risk"
      ]
    },
    {
      "cell_type": "code",
      "execution_count": null,
      "metadata": {
        "id": "VkLNSIaVdVwO",
        "outputId": "89a224e4-8f4e-4f88-b51f-44c6fe9ea586"
      },
      "outputs": [
        {
          "data": {
            "text/plain": [
              "['ï»¿',\n",
              " 'ev_id',\n",
              " 'ntsb_no',\n",
              " 'ev_date',\n",
              " 'ev_type',\n",
              " 'Aircraft_Key',\n",
              " 'acft_category',\n",
              " 'flight purpose',\n",
              " 'acft_make',\n",
              " 'acft_model',\n",
              " 'homebuilt',\n",
              " 'num_eng',\n",
              " 'eng_no',\n",
              " 'eng_type',\n",
              " 'damage',\n",
              " 'far_part',\n",
              " 'regis_no',\n",
              " 'ev_city',\n",
              " 'ev_state',\n",
              " 'ev_country',\n",
              " 'latitude',\n",
              " 'longitude',\n",
              " 'ev_nr_apt_id',\n",
              " 'apt_name',\n",
              " 'ev_highest_injury',\n",
              " 'inj_tot_f',\n",
              " 'inj_tot_s',\n",
              " 'inj_tot_m',\n",
              " 'inj_tot_n',\n",
              " 'wx_cond_basic',\n",
              " 'Occurrence_No',\n",
              " 'broad phase of flight',\n",
              " 'specific phase of flight',\n",
              " 'Occurrence']"
            ]
          },
          "execution_count": 8,
          "metadata": {},
          "output_type": "execute_result"
        }
      ],
      "source": [
        "df = pd.read_csv('../data/df_post1996 (1).csv', encoding = \"ISO-8859-1\" )\n",
        "\n",
        "df.columns.tolist()"
      ]
    },
    {
      "cell_type": "code",
      "execution_count": null,
      "metadata": {
        "id": "VEqHd0OedVwO",
        "outputId": "30eb4070-b6f4-4216-c146-589d30e28d2b"
      },
      "outputs": [
        {
          "data": {
            "text/plain": [
              "(100753, 34)"
            ]
          },
          "execution_count": 9,
          "metadata": {},
          "output_type": "execute_result"
        }
      ],
      "source": [
        "df.shape"
      ]
    },
    {
      "cell_type": "code",
      "execution_count": null,
      "metadata": {
        "id": "DYBn07CWdVwO",
        "outputId": "4d67f215-60f6-47b2-df10-6cd19a67f45a"
      },
      "outputs": [
        {
          "data": {
            "text/html": [
              "<div>\n",
              "<style scoped>\n",
              "    .dataframe tbody tr th:only-of-type {\n",
              "        vertical-align: middle;\n",
              "    }\n",
              "\n",
              "    .dataframe tbody tr th {\n",
              "        vertical-align: top;\n",
              "    }\n",
              "\n",
              "    .dataframe thead th {\n",
              "        text-align: right;\n",
              "    }\n",
              "</style>\n",
              "<table border=\"1\" class=\"dataframe\">\n",
              "  <thead>\n",
              "    <tr style=\"text-align: right;\">\n",
              "      <th></th>\n",
              "      <th>ï»¿</th>\n",
              "      <th>ev_id</th>\n",
              "      <th>ntsb_no</th>\n",
              "      <th>ev_date</th>\n",
              "      <th>ev_type</th>\n",
              "      <th>Aircraft_Key</th>\n",
              "      <th>acft_category</th>\n",
              "      <th>flight purpose</th>\n",
              "      <th>acft_make</th>\n",
              "      <th>acft_model</th>\n",
              "      <th>homebuilt</th>\n",
              "      <th>num_eng</th>\n",
              "      <th>eng_no</th>\n",
              "      <th>eng_type</th>\n",
              "      <th>damage</th>\n",
              "      <th>far_part</th>\n",
              "      <th>regis_no</th>\n",
              "      <th>ev_city</th>\n",
              "      <th>ev_state</th>\n",
              "      <th>ev_country</th>\n",
              "      <th>latitude</th>\n",
              "      <th>longitude</th>\n",
              "      <th>ev_nr_apt_id</th>\n",
              "      <th>apt_name</th>\n",
              "      <th>ev_highest_injury</th>\n",
              "      <th>inj_tot_f</th>\n",
              "      <th>inj_tot_s</th>\n",
              "      <th>inj_tot_m</th>\n",
              "      <th>inj_tot_n</th>\n",
              "      <th>wx_cond_basic</th>\n",
              "      <th>Occurrence_No</th>\n",
              "      <th>broad phase of flight</th>\n",
              "      <th>specific phase of flight</th>\n",
              "      <th>Occurrence</th>\n",
              "    </tr>\n",
              "  </thead>\n",
              "  <tbody>\n",
              "    <tr>\n",
              "      <th>0</th>\n",
              "      <td>0</td>\n",
              "      <td>20001208X07301</td>\n",
              "      <td>IAD97FA038</td>\n",
              "      <td>1997-01-01</td>\n",
              "      <td>ACC</td>\n",
              "      <td>NaN</td>\n",
              "      <td>NaN</td>\n",
              "      <td>NaN</td>\n",
              "      <td>NaN</td>\n",
              "      <td>NaN</td>\n",
              "      <td>NaN</td>\n",
              "      <td>NaN</td>\n",
              "      <td>NaN</td>\n",
              "      <td>NaN</td>\n",
              "      <td>NaN</td>\n",
              "      <td>NaN</td>\n",
              "      <td>NaN</td>\n",
              "      <td>BITTINGER</td>\n",
              "      <td>MD</td>\n",
              "      <td>USA</td>\n",
              "      <td></td>\n",
              "      <td></td>\n",
              "      <td></td>\n",
              "      <td></td>\n",
              "      <td>FATL</td>\n",
              "      <td>1.0</td>\n",
              "      <td>NaN</td>\n",
              "      <td>NaN</td>\n",
              "      <td>NaN</td>\n",
              "      <td>IMC</td>\n",
              "      <td>NaN</td>\n",
              "      <td>NaN</td>\n",
              "      <td>NaN</td>\n",
              "      <td>NaN</td>\n",
              "    </tr>\n",
              "    <tr>\n",
              "      <th>1</th>\n",
              "      <td>1</td>\n",
              "      <td>20001208X07326</td>\n",
              "      <td>MIA97LA054</td>\n",
              "      <td>1997-01-01</td>\n",
              "      <td>ACC</td>\n",
              "      <td>NaN</td>\n",
              "      <td>NaN</td>\n",
              "      <td>NaN</td>\n",
              "      <td>NaN</td>\n",
              "      <td>NaN</td>\n",
              "      <td>NaN</td>\n",
              "      <td>NaN</td>\n",
              "      <td>NaN</td>\n",
              "      <td>NaN</td>\n",
              "      <td>NaN</td>\n",
              "      <td>NaN</td>\n",
              "      <td>NaN</td>\n",
              "      <td>DAYTONA BEACH</td>\n",
              "      <td>FL</td>\n",
              "      <td>USA</td>\n",
              "      <td></td>\n",
              "      <td></td>\n",
              "      <td>DAB</td>\n",
              "      <td>DAYTONA BEACH INT'L</td>\n",
              "      <td>SERS</td>\n",
              "      <td>NaN</td>\n",
              "      <td>2.0</td>\n",
              "      <td>NaN</td>\n",
              "      <td>NaN</td>\n",
              "      <td>VMC</td>\n",
              "      <td>NaN</td>\n",
              "      <td>NaN</td>\n",
              "      <td>NaN</td>\n",
              "      <td>NaN</td>\n",
              "    </tr>\n",
              "    <tr>\n",
              "      <th>2</th>\n",
              "      <td>2</td>\n",
              "      <td>20001208X07265</td>\n",
              "      <td>CHI97LA049</td>\n",
              "      <td>1997-01-01</td>\n",
              "      <td>ACC</td>\n",
              "      <td>NaN</td>\n",
              "      <td>NaN</td>\n",
              "      <td>NaN</td>\n",
              "      <td>NaN</td>\n",
              "      <td>NaN</td>\n",
              "      <td>NaN</td>\n",
              "      <td>NaN</td>\n",
              "      <td>NaN</td>\n",
              "      <td>NaN</td>\n",
              "      <td>NaN</td>\n",
              "      <td>NaN</td>\n",
              "      <td>NaN</td>\n",
              "      <td>KANSAS CITY</td>\n",
              "      <td>MO</td>\n",
              "      <td>USA</td>\n",
              "      <td></td>\n",
              "      <td></td>\n",
              "      <td>MKC</td>\n",
              "      <td>KANSAS CITY DOWNTOWN</td>\n",
              "      <td>NONE</td>\n",
              "      <td>NaN</td>\n",
              "      <td>NaN</td>\n",
              "      <td>NaN</td>\n",
              "      <td>2.0</td>\n",
              "      <td>IMC</td>\n",
              "      <td>NaN</td>\n",
              "      <td>NaN</td>\n",
              "      <td>NaN</td>\n",
              "      <td>NaN</td>\n",
              "    </tr>\n",
              "    <tr>\n",
              "      <th>3</th>\n",
              "      <td>3</td>\n",
              "      <td>20001208X07327</td>\n",
              "      <td>MIA97LA055</td>\n",
              "      <td>1997-01-01</td>\n",
              "      <td>ACC</td>\n",
              "      <td>NaN</td>\n",
              "      <td>NaN</td>\n",
              "      <td>NaN</td>\n",
              "      <td>NaN</td>\n",
              "      <td>NaN</td>\n",
              "      <td>NaN</td>\n",
              "      <td>NaN</td>\n",
              "      <td>NaN</td>\n",
              "      <td>NaN</td>\n",
              "      <td>NaN</td>\n",
              "      <td>NaN</td>\n",
              "      <td>NaN</td>\n",
              "      <td>FLORENCE</td>\n",
              "      <td>SC</td>\n",
              "      <td>USA</td>\n",
              "      <td></td>\n",
              "      <td></td>\n",
              "      <td></td>\n",
              "      <td></td>\n",
              "      <td>SERS</td>\n",
              "      <td>NaN</td>\n",
              "      <td>3.0</td>\n",
              "      <td>1.0</td>\n",
              "      <td>NaN</td>\n",
              "      <td>IMC</td>\n",
              "      <td>NaN</td>\n",
              "      <td>NaN</td>\n",
              "      <td>NaN</td>\n",
              "      <td>NaN</td>\n",
              "    </tr>\n",
              "    <tr>\n",
              "      <th>4</th>\n",
              "      <td>4</td>\n",
              "      <td>20001208X07329</td>\n",
              "      <td>MIA97LA058</td>\n",
              "      <td>1997-01-01</td>\n",
              "      <td>ACC</td>\n",
              "      <td>NaN</td>\n",
              "      <td>NaN</td>\n",
              "      <td>NaN</td>\n",
              "      <td>NaN</td>\n",
              "      <td>NaN</td>\n",
              "      <td>NaN</td>\n",
              "      <td>NaN</td>\n",
              "      <td>NaN</td>\n",
              "      <td>NaN</td>\n",
              "      <td>NaN</td>\n",
              "      <td>NaN</td>\n",
              "      <td>NaN</td>\n",
              "      <td>KISSIMMEE</td>\n",
              "      <td>FL</td>\n",
              "      <td>USA</td>\n",
              "      <td></td>\n",
              "      <td></td>\n",
              "      <td>ISM</td>\n",
              "      <td>KISSIMMEE</td>\n",
              "      <td>NONE</td>\n",
              "      <td>NaN</td>\n",
              "      <td>NaN</td>\n",
              "      <td>NaN</td>\n",
              "      <td>2.0</td>\n",
              "      <td>VMC</td>\n",
              "      <td>NaN</td>\n",
              "      <td>NaN</td>\n",
              "      <td>NaN</td>\n",
              "      <td>NaN</td>\n",
              "    </tr>\n",
              "  </tbody>\n",
              "</table>\n",
              "</div>"
            ],
            "text/plain": [
              "   ï»¿           ev_id     ntsb_no     ev_date ev_type  Aircraft_Key acft_category flight purpose acft_make acft_model homebuilt  num_eng  eng_no eng_type damage far_part regis_no          ev_city ev_state ev_country latitude longitude ev_nr_apt_id                   apt_name ev_highest_injury  inj_tot_f  inj_tot_s  inj_tot_m  inj_tot_n wx_cond_basic  Occurrence_No broad phase of flight specific phase of flight Occurrence\n",
              "0    0  20001208X07301  IAD97FA038  1997-01-01     ACC           NaN           NaN            NaN       NaN        NaN       NaN      NaN     NaN      NaN    NaN      NaN      NaN  BITTINGER             MD        USA                                                                         FATL        1.0        NaN        NaN        NaN           IMC            NaN                   NaN                      NaN        NaN\n",
              "1    1  20001208X07326  MIA97LA054  1997-01-01     ACC           NaN           NaN            NaN       NaN        NaN       NaN      NaN     NaN      NaN    NaN      NaN      NaN  DAYTONA BEACH         FL        USA                            DAB   DAYTONA BEACH INT'L                    SERS        NaN        2.0        NaN        NaN           VMC            NaN                   NaN                      NaN        NaN\n",
              "2    2  20001208X07265  CHI97LA049  1997-01-01     ACC           NaN           NaN            NaN       NaN        NaN       NaN      NaN     NaN      NaN    NaN      NaN      NaN  KANSAS CITY           MO        USA                            MKC   KANSAS CITY DOWNTOWN                   NONE        NaN        NaN        NaN        2.0           IMC            NaN                   NaN                      NaN        NaN\n",
              "3    3  20001208X07327  MIA97LA055  1997-01-01     ACC           NaN           NaN            NaN       NaN        NaN       NaN      NaN     NaN      NaN    NaN      NaN      NaN  FLORENCE              SC        USA                                                                         SERS        NaN        3.0        1.0        NaN           IMC            NaN                   NaN                      NaN        NaN\n",
              "4    4  20001208X07329  MIA97LA058  1997-01-01     ACC           NaN           NaN            NaN       NaN        NaN       NaN      NaN     NaN      NaN    NaN      NaN      NaN  KISSIMMEE             FL        USA                            ISM   KISSIMMEE                              NONE        NaN        NaN        NaN        2.0           VMC            NaN                   NaN                      NaN        NaN"
            ]
          },
          "execution_count": 10,
          "metadata": {},
          "output_type": "execute_result"
        }
      ],
      "source": [
        "# Show all columns by disabling truncation\n",
        "pd.set_option('display.max_columns', None)\n",
        "\n",
        "# Disable column-wise line wrapping\n",
        "pd.set_option('display.expand_frame_repr', False)\n",
        "\n",
        "df.head()"
      ]
    },
    {
      "cell_type": "code",
      "execution_count": null,
      "metadata": {
        "id": "-iBTN81_dVwO",
        "outputId": "e5526a00-49c6-46d9-8ab3-a4fd0901a7b1"
      },
      "outputs": [
        {
          "data": {
            "text/html": [
              "<div>\n",
              "<style scoped>\n",
              "    .dataframe tbody tr th:only-of-type {\n",
              "        vertical-align: middle;\n",
              "    }\n",
              "\n",
              "    .dataframe tbody tr th {\n",
              "        vertical-align: top;\n",
              "    }\n",
              "\n",
              "    .dataframe thead th {\n",
              "        text-align: right;\n",
              "    }\n",
              "</style>\n",
              "<table border=\"1\" class=\"dataframe\">\n",
              "  <thead>\n",
              "    <tr style=\"text-align: right;\">\n",
              "      <th></th>\n",
              "      <th>ï»¿</th>\n",
              "      <th>ev_id</th>\n",
              "      <th>ntsb_no</th>\n",
              "      <th>ev_date</th>\n",
              "      <th>ev_type</th>\n",
              "      <th>Aircraft_Key</th>\n",
              "      <th>acft_category</th>\n",
              "      <th>flight purpose</th>\n",
              "      <th>acft_make</th>\n",
              "      <th>acft_model</th>\n",
              "      <th>homebuilt</th>\n",
              "      <th>num_eng</th>\n",
              "      <th>eng_no</th>\n",
              "      <th>eng_type</th>\n",
              "      <th>damage</th>\n",
              "      <th>far_part</th>\n",
              "      <th>regis_no</th>\n",
              "      <th>ev_city</th>\n",
              "      <th>ev_state</th>\n",
              "      <th>ev_country</th>\n",
              "      <th>latitude</th>\n",
              "      <th>longitude</th>\n",
              "      <th>ev_nr_apt_id</th>\n",
              "      <th>apt_name</th>\n",
              "      <th>ev_highest_injury</th>\n",
              "      <th>inj_tot_f</th>\n",
              "      <th>inj_tot_s</th>\n",
              "      <th>inj_tot_m</th>\n",
              "      <th>inj_tot_n</th>\n",
              "      <th>wx_cond_basic</th>\n",
              "      <th>Occurrence_No</th>\n",
              "      <th>broad phase of flight</th>\n",
              "      <th>specific phase of flight</th>\n",
              "      <th>Occurrence</th>\n",
              "    </tr>\n",
              "  </thead>\n",
              "  <tbody>\n",
              "    <tr>\n",
              "      <th>100748</th>\n",
              "      <td>100748</td>\n",
              "      <td>20230425107122</td>\n",
              "      <td>WPR23LA165</td>\n",
              "      <td>2023-04-24</td>\n",
              "      <td>ACC</td>\n",
              "      <td>1.0</td>\n",
              "      <td>AIR</td>\n",
              "      <td>Personal</td>\n",
              "      <td>ONEAL J R/ONEAL R C</td>\n",
              "      <td>EDI EXPRESS</td>\n",
              "      <td>Y</td>\n",
              "      <td>1.0</td>\n",
              "      <td>NaN</td>\n",
              "      <td>NaN</td>\n",
              "      <td>MINR</td>\n",
              "      <td>091</td>\n",
              "      <td>N92734</td>\n",
              "      <td>Tracy</td>\n",
              "      <td>CA</td>\n",
              "      <td>USA</td>\n",
              "      <td>374120N</td>\n",
              "      <td>1212630W</td>\n",
              "      <td>TCY</td>\n",
              "      <td>TRACY MUNI</td>\n",
              "      <td>NONE</td>\n",
              "      <td>0.0</td>\n",
              "      <td>0.0</td>\n",
              "      <td>0.0</td>\n",
              "      <td>1.0</td>\n",
              "      <td>VMC</td>\n",
              "      <td>NaN</td>\n",
              "      <td>NaN</td>\n",
              "      <td>NaN</td>\n",
              "      <td>NaN</td>\n",
              "    </tr>\n",
              "    <tr>\n",
              "      <th>100749</th>\n",
              "      <td>100749</td>\n",
              "      <td>20230430107167</td>\n",
              "      <td>WPR23FA172</td>\n",
              "      <td>2023-04-30</td>\n",
              "      <td>ACC</td>\n",
              "      <td>1.0</td>\n",
              "      <td>NaN</td>\n",
              "      <td>NaN</td>\n",
              "      <td>CESSNA</td>\n",
              "      <td>172S</td>\n",
              "      <td>N</td>\n",
              "      <td>NaN</td>\n",
              "      <td>NaN</td>\n",
              "      <td>NaN</td>\n",
              "      <td>NaN</td>\n",
              "      <td>NaN</td>\n",
              "      <td>N575ND</td>\n",
              "      <td>Los Angeles</td>\n",
              "      <td>CA</td>\n",
              "      <td>USA</td>\n",
              "      <td>NaN</td>\n",
              "      <td>NaN</td>\n",
              "      <td>NaN</td>\n",
              "      <td>NaN</td>\n",
              "      <td>FATL</td>\n",
              "      <td>1.0</td>\n",
              "      <td>0.0</td>\n",
              "      <td>0.0</td>\n",
              "      <td>0.0</td>\n",
              "      <td>NaN</td>\n",
              "      <td>NaN</td>\n",
              "      <td>NaN</td>\n",
              "      <td>NaN</td>\n",
              "      <td>NaN</td>\n",
              "    </tr>\n",
              "    <tr>\n",
              "      <th>100750</th>\n",
              "      <td>100750</td>\n",
              "      <td>20230426107154</td>\n",
              "      <td>WPR23LA168</td>\n",
              "      <td>2025-04-26</td>\n",
              "      <td>ACC</td>\n",
              "      <td>1.0</td>\n",
              "      <td>NaN</td>\n",
              "      <td>Personal</td>\n",
              "      <td>CESSNA</td>\n",
              "      <td>140</td>\n",
              "      <td>N</td>\n",
              "      <td>NaN</td>\n",
              "      <td>NaN</td>\n",
              "      <td>NaN</td>\n",
              "      <td>NaN</td>\n",
              "      <td>091</td>\n",
              "      <td>N140D</td>\n",
              "      <td>Nyssa</td>\n",
              "      <td>OR</td>\n",
              "      <td>USA</td>\n",
              "      <td>NaN</td>\n",
              "      <td>NaN</td>\n",
              "      <td>NaN</td>\n",
              "      <td>NaN</td>\n",
              "      <td>MINR</td>\n",
              "      <td>0.0</td>\n",
              "      <td>0.0</td>\n",
              "      <td>0.0</td>\n",
              "      <td>0.0</td>\n",
              "      <td>NaN</td>\n",
              "      <td>NaN</td>\n",
              "      <td>NaN</td>\n",
              "      <td>NaN</td>\n",
              "      <td>NaN</td>\n",
              "    </tr>\n",
              "    <tr>\n",
              "      <th>100751</th>\n",
              "      <td>100751</td>\n",
              "      <td>20001218X45444</td>\n",
              "      <td>SEA87LA080</td>\n",
              "      <td>2048-10-24</td>\n",
              "      <td>ACC</td>\n",
              "      <td>NaN</td>\n",
              "      <td>NaN</td>\n",
              "      <td>NaN</td>\n",
              "      <td>NaN</td>\n",
              "      <td>NaN</td>\n",
              "      <td>NaN</td>\n",
              "      <td>NaN</td>\n",
              "      <td>NaN</td>\n",
              "      <td>NaN</td>\n",
              "      <td>NaN</td>\n",
              "      <td>NaN</td>\n",
              "      <td>NaN</td>\n",
              "      <td>MOOSE CREEK</td>\n",
              "      <td>ID</td>\n",
              "      <td>USA</td>\n",
              "      <td></td>\n",
              "      <td></td>\n",
              "      <td></td>\n",
              "      <td></td>\n",
              "      <td>FATL</td>\n",
              "      <td>2.0</td>\n",
              "      <td>NaN</td>\n",
              "      <td>NaN</td>\n",
              "      <td>NaN</td>\n",
              "      <td>UNK</td>\n",
              "      <td>NaN</td>\n",
              "      <td>NaN</td>\n",
              "      <td>NaN</td>\n",
              "      <td>NaN</td>\n",
              "    </tr>\n",
              "    <tr>\n",
              "      <th>100752</th>\n",
              "      <td>100752</td>\n",
              "      <td>20001218X45447</td>\n",
              "      <td>LAX94LA336</td>\n",
              "      <td>2062-07-19</td>\n",
              "      <td>ACC</td>\n",
              "      <td>NaN</td>\n",
              "      <td>NaN</td>\n",
              "      <td>NaN</td>\n",
              "      <td>NaN</td>\n",
              "      <td>NaN</td>\n",
              "      <td>NaN</td>\n",
              "      <td>NaN</td>\n",
              "      <td>NaN</td>\n",
              "      <td>NaN</td>\n",
              "      <td>NaN</td>\n",
              "      <td>NaN</td>\n",
              "      <td>NaN</td>\n",
              "      <td>BRIDGEPORT</td>\n",
              "      <td>CA</td>\n",
              "      <td>USA</td>\n",
              "      <td></td>\n",
              "      <td></td>\n",
              "      <td></td>\n",
              "      <td></td>\n",
              "      <td>FATL</td>\n",
              "      <td>4.0</td>\n",
              "      <td>NaN</td>\n",
              "      <td>NaN</td>\n",
              "      <td>NaN</td>\n",
              "      <td>UNK</td>\n",
              "      <td>NaN</td>\n",
              "      <td>NaN</td>\n",
              "      <td>NaN</td>\n",
              "      <td>NaN</td>\n",
              "    </tr>\n",
              "  </tbody>\n",
              "</table>\n",
              "</div>"
            ],
            "text/plain": [
              "           ï»¿           ev_id     ntsb_no     ev_date ev_type  Aircraft_Key acft_category flight purpose            acft_make   acft_model homebuilt  num_eng  eng_no eng_type damage far_part regis_no          ev_city ev_state ev_country latitude longitude ev_nr_apt_id                   apt_name ev_highest_injury  inj_tot_f  inj_tot_s  inj_tot_m  inj_tot_n wx_cond_basic  Occurrence_No broad phase of flight specific phase of flight Occurrence\n",
              "100748  100748  20230425107122  WPR23LA165  2023-04-24     ACC           1.0           AIR       Personal  ONEAL J R/ONEAL R C  EDI EXPRESS         Y      1.0     NaN      NaN   MINR      091   N92734            Tracy       CA        USA  374120N  1212630W          TCY                 TRACY MUNI              NONE        0.0        0.0        0.0        1.0           VMC            NaN                   NaN                      NaN        NaN\n",
              "100749  100749  20230430107167  WPR23FA172  2023-04-30     ACC           1.0           NaN            NaN               CESSNA         172S         N      NaN     NaN      NaN    NaN      NaN   N575ND      Los Angeles       CA        USA      NaN       NaN          NaN                        NaN              FATL        1.0        0.0        0.0        0.0           NaN            NaN                   NaN                      NaN        NaN\n",
              "100750  100750  20230426107154  WPR23LA168  2025-04-26     ACC           1.0           NaN       Personal               CESSNA          140         N      NaN     NaN      NaN    NaN      091    N140D            Nyssa       OR        USA      NaN       NaN          NaN                        NaN              MINR        0.0        0.0        0.0        0.0           NaN            NaN                   NaN                      NaN        NaN\n",
              "100751  100751  20001218X45444  SEA87LA080  2048-10-24     ACC           NaN           NaN            NaN                  NaN          NaN       NaN      NaN     NaN      NaN    NaN      NaN      NaN  MOOSE CREEK           ID        USA                                                                         FATL        2.0        NaN        NaN        NaN           UNK            NaN                   NaN                      NaN        NaN\n",
              "100752  100752  20001218X45447  LAX94LA336  2062-07-19     ACC           NaN           NaN            NaN                  NaN          NaN       NaN      NaN     NaN      NaN    NaN      NaN      NaN  BRIDGEPORT            CA        USA                                                                         FATL        4.0        NaN        NaN        NaN           UNK            NaN                   NaN                      NaN        NaN"
            ]
          },
          "execution_count": 11,
          "metadata": {},
          "output_type": "execute_result"
        }
      ],
      "source": [
        "df.tail()"
      ]
    },
    {
      "cell_type": "code",
      "execution_count": null,
      "metadata": {
        "id": "C3DZxILmdVwO",
        "outputId": "2dd66c7b-fa8e-404a-98c8-7b8d6a05a01b"
      },
      "outputs": [
        {
          "name": "stdout",
          "output_type": "stream",
          "text": [
            "<class 'pandas.core.frame.DataFrame'>\n",
            "RangeIndex: 100753 entries, 0 to 100752\n",
            "Data columns (total 34 columns):\n",
            " #   Column                    Non-Null Count   Dtype  \n",
            "---  ------                    --------------   -----  \n",
            " 0   ï»¿                       100753 non-null  int64  \n",
            " 1   ev_id                     100753 non-null  object \n",
            " 2   ntsb_no                   100753 non-null  object \n",
            " 3   ev_date                   100753 non-null  object \n",
            " 4   ev_type                   100753 non-null  object \n",
            " 5   Aircraft_Key              91383 non-null   float64\n",
            " 6   acft_category             91027 non-null   object \n",
            " 7   flight purpose            77472 non-null   object \n",
            " 8   acft_make                 91322 non-null   object \n",
            " 9   acft_model                91298 non-null   object \n",
            " 10  homebuilt                 91383 non-null   object \n",
            " 11  num_eng                   85589 non-null   float64\n",
            " 12  eng_no                    84460 non-null   float64\n",
            " 13  eng_type                  83647 non-null   object \n",
            " 14  damage                    89251 non-null   object \n",
            " 15  far_part                  90612 non-null   object \n",
            " 16  regis_no                  90437 non-null   object \n",
            " 17  ev_city                   100697 non-null  object \n",
            " 18  ev_state                  94233 non-null   object \n",
            " 19  ev_country                100634 non-null  object \n",
            " 20  latitude                  90856 non-null   object \n",
            " 21  longitude                 90863 non-null   object \n",
            " 22  ev_nr_apt_id              68555 non-null   object \n",
            " 23  apt_name                  69488 non-null   object \n",
            " 24  ev_highest_injury         99301 non-null   object \n",
            " 25  inj_tot_f                 68711 non-null   float64\n",
            " 26  inj_tot_s                 66230 non-null   float64\n",
            " 27  inj_tot_m                 68495 non-null   float64\n",
            " 28  inj_tot_n                 83814 non-null   float64\n",
            " 29  wx_cond_basic             95806 non-null   object \n",
            " 30  Occurrence_No             88609 non-null   float64\n",
            " 31  broad phase of flight     88609 non-null   object \n",
            " 32  specific phase of flight  88609 non-null   object \n",
            " 33  Occurrence                88609 non-null   object \n",
            "dtypes: float64(8), int64(1), object(25)\n",
            "memory usage: 26.1+ MB\n"
          ]
        }
      ],
      "source": [
        "df.info()"
      ]
    },
    {
      "cell_type": "code",
      "execution_count": null,
      "metadata": {
        "id": "Lf9g4VsVdVwP",
        "outputId": "113c8a18-539c-4bf0-ec6b-b27b038190bd"
      },
      "outputs": [
        {
          "data": {
            "text/html": [
              "<div>\n",
              "<style scoped>\n",
              "    .dataframe tbody tr th:only-of-type {\n",
              "        vertical-align: middle;\n",
              "    }\n",
              "\n",
              "    .dataframe tbody tr th {\n",
              "        vertical-align: top;\n",
              "    }\n",
              "\n",
              "    .dataframe thead th {\n",
              "        text-align: right;\n",
              "    }\n",
              "</style>\n",
              "<table border=\"1\" class=\"dataframe\">\n",
              "  <thead>\n",
              "    <tr style=\"text-align: right;\">\n",
              "      <th></th>\n",
              "      <th>ï»¿</th>\n",
              "      <th>Aircraft_Key</th>\n",
              "      <th>num_eng</th>\n",
              "      <th>eng_no</th>\n",
              "      <th>inj_tot_f</th>\n",
              "      <th>inj_tot_s</th>\n",
              "      <th>inj_tot_m</th>\n",
              "      <th>inj_tot_n</th>\n",
              "      <th>Occurrence_No</th>\n",
              "    </tr>\n",
              "  </thead>\n",
              "  <tbody>\n",
              "    <tr>\n",
              "      <th>count</th>\n",
              "      <td>100753.000000</td>\n",
              "      <td>91383.000000</td>\n",
              "      <td>85589.000000</td>\n",
              "      <td>84460.000000</td>\n",
              "      <td>68711.000000</td>\n",
              "      <td>66230.000000</td>\n",
              "      <td>68495.000000</td>\n",
              "      <td>83814.000000</td>\n",
              "      <td>88609.000000</td>\n",
              "    </tr>\n",
              "    <tr>\n",
              "      <th>mean</th>\n",
              "      <td>50376.000000</td>\n",
              "      <td>1.000131</td>\n",
              "      <td>1.190492</td>\n",
              "      <td>1.091641</td>\n",
              "      <td>0.765773</td>\n",
              "      <td>0.314782</td>\n",
              "      <td>0.398905</td>\n",
              "      <td>5.518302</td>\n",
              "      <td>1.956573</td>\n",
              "    </tr>\n",
              "    <tr>\n",
              "      <th>std</th>\n",
              "      <td>29085.030173</td>\n",
              "      <td>0.011459</td>\n",
              "      <td>0.476197</td>\n",
              "      <td>0.319928</td>\n",
              "      <td>5.659571</td>\n",
              "      <td>1.062565</td>\n",
              "      <td>2.264626</td>\n",
              "      <td>27.375771</td>\n",
              "      <td>1.087303</td>\n",
              "    </tr>\n",
              "    <tr>\n",
              "      <th>min</th>\n",
              "      <td>0.000000</td>\n",
              "      <td>1.000000</td>\n",
              "      <td>0.000000</td>\n",
              "      <td>1.000000</td>\n",
              "      <td>0.000000</td>\n",
              "      <td>0.000000</td>\n",
              "      <td>0.000000</td>\n",
              "      <td>0.000000</td>\n",
              "      <td>1.000000</td>\n",
              "    </tr>\n",
              "    <tr>\n",
              "      <th>25%</th>\n",
              "      <td>25188.000000</td>\n",
              "      <td>1.000000</td>\n",
              "      <td>1.000000</td>\n",
              "      <td>1.000000</td>\n",
              "      <td>0.000000</td>\n",
              "      <td>0.000000</td>\n",
              "      <td>0.000000</td>\n",
              "      <td>0.000000</td>\n",
              "      <td>1.000000</td>\n",
              "    </tr>\n",
              "    <tr>\n",
              "      <th>50%</th>\n",
              "      <td>50376.000000</td>\n",
              "      <td>1.000000</td>\n",
              "      <td>1.000000</td>\n",
              "      <td>1.000000</td>\n",
              "      <td>0.000000</td>\n",
              "      <td>0.000000</td>\n",
              "      <td>0.000000</td>\n",
              "      <td>1.000000</td>\n",
              "      <td>2.000000</td>\n",
              "    </tr>\n",
              "    <tr>\n",
              "      <th>75%</th>\n",
              "      <td>75564.000000</td>\n",
              "      <td>1.000000</td>\n",
              "      <td>1.000000</td>\n",
              "      <td>1.000000</td>\n",
              "      <td>1.000000</td>\n",
              "      <td>0.000000</td>\n",
              "      <td>0.000000</td>\n",
              "      <td>2.000000</td>\n",
              "      <td>3.000000</td>\n",
              "    </tr>\n",
              "    <tr>\n",
              "      <th>max</th>\n",
              "      <td>100752.000000</td>\n",
              "      <td>2.000000</td>\n",
              "      <td>8.000000</td>\n",
              "      <td>9.000000</td>\n",
              "      <td>295.000000</td>\n",
              "      <td>59.000000</td>\n",
              "      <td>380.000000</td>\n",
              "      <td>699.000000</td>\n",
              "      <td>16.000000</td>\n",
              "    </tr>\n",
              "  </tbody>\n",
              "</table>\n",
              "</div>"
            ],
            "text/plain": [
              "                 ï»¿  Aircraft_Key       num_eng        eng_no     inj_tot_f     inj_tot_s     inj_tot_m     inj_tot_n  Occurrence_No\n",
              "count  100753.000000  91383.000000  85589.000000  84460.000000  68711.000000  66230.000000  68495.000000  83814.000000   88609.000000\n",
              "mean    50376.000000      1.000131      1.190492      1.091641      0.765773      0.314782      0.398905      5.518302       1.956573\n",
              "std     29085.030173      0.011459      0.476197      0.319928      5.659571      1.062565      2.264626     27.375771       1.087303\n",
              "min         0.000000      1.000000      0.000000      1.000000      0.000000      0.000000      0.000000      0.000000       1.000000\n",
              "25%     25188.000000      1.000000      1.000000      1.000000      0.000000      0.000000      0.000000      0.000000       1.000000\n",
              "50%     50376.000000      1.000000      1.000000      1.000000      0.000000      0.000000      0.000000      1.000000       2.000000\n",
              "75%     75564.000000      1.000000      1.000000      1.000000      1.000000      0.000000      0.000000      2.000000       3.000000\n",
              "max    100752.000000      2.000000      8.000000      9.000000    295.000000     59.000000    380.000000    699.000000      16.000000"
            ]
          },
          "execution_count": 13,
          "metadata": {},
          "output_type": "execute_result"
        }
      ],
      "source": [
        "df.describe()"
      ]
    },
    {
      "cell_type": "code",
      "execution_count": null,
      "metadata": {
        "id": "gp7i6ucZdVwg",
        "outputId": "4409198a-1ef6-49d9-87cb-7c46f922e844"
      },
      "outputs": [
        {
          "name": "stdout",
          "output_type": "stream",
          "text": [
            "Column: ev_type\n",
            "Unique Values:\n",
            "ACC\n",
            "INC\n",
            "\n",
            "Column: Aircraft_Key\n",
            "Unique Values:\n",
            "nan\n",
            "1.0\n",
            "2.0\n",
            "\n",
            "Column: acft_category\n",
            "Unique Values:\n",
            "nan\n",
            "AIR \n",
            "HELI\n",
            "BALL\n",
            "GLI \n",
            "GYRO\n",
            "BLIM\n",
            "ULTR\n",
            "PPAR\n",
            "PLFT\n",
            "WSFT\n",
            "AIR\n",
            "GLI\n",
            "UNK\n",
            "RCKT\n",
            "\n",
            "Column: flight purpose\n",
            "Unique Values:\n",
            "nan\n",
            "Personal\n",
            "Instructional\n",
            "Public Use\n",
            "Other Work Use\n",
            "Skydiving\n",
            "Executive/Corporate\n",
            "Positioning\n",
            "Aerial Application\n",
            "Flight Test\n",
            "Aerial Observation\n",
            "Ferry\n",
            "Air Race/Show\n",
            "Air Drop\n",
            "Glider Tow\n",
            "External Load\n",
            "Banner Tow\n",
            "Fire Fighting\n",
            "Business\n",
            "Unknown\n",
            "\n",
            "Column: homebuilt\n",
            "Unique Values:\n",
            "nan\n",
            "N  \n",
            "Y  \n",
            "N\n",
            "Y\n",
            "\n",
            "Column: num_eng\n",
            "Unique Values:\n",
            "nan\n",
            "2.0\n",
            "4.0\n",
            "1.0\n",
            "3.0\n",
            "0.0\n",
            "8.0\n",
            "6.0\n",
            "\n",
            "Column: eng_no\n",
            "Unique Values:\n",
            "nan\n",
            "1.0\n",
            "2.0\n",
            "3.0\n",
            "4.0\n",
            "5.0\n",
            "9.0\n",
            "8.0\n",
            "6.0\n",
            "7.0\n",
            "\n",
            "Column: eng_type\n",
            "Unique Values:\n",
            "nan\n",
            "TF  \n",
            "TS  \n",
            "REC \n",
            "UNK \n",
            "TJ  \n",
            "TP  \n",
            "REC\n",
            "TP\n",
            "TS\n",
            "TF\n",
            "TJ\n",
            "UNK\n",
            "NONE\n",
            "ELEC\n",
            "HR\n",
            "GTFN\n",
            "LR\n",
            "\n",
            "Column: damage\n",
            "Unique Values:\n",
            "nan\n",
            "NONE\n",
            "UNK \n",
            "DEST\n",
            "SUBS\n",
            "MINR\n",
            "UNK\n",
            "\n",
            "Column: far_part\n",
            "Unique Values:\n",
            "nan\n",
            "129 \n",
            "091 \n",
            "NUSC\n",
            "135 \n",
            "121 \n",
            "137 \n",
            "PUBU\n",
            "133 \n",
            "UNK \n",
            "NUSN\n",
            "125 \n",
            "103 \n",
            "ARMF\n",
            "091\n",
            "135\n",
            "121\n",
            "137\n",
            "129\n",
            "133\n",
            "091K\n",
            "UNK\n",
            "103\n",
            "125\n",
            "437\n",
            "107\n",
            "\n",
            "Column: ev_highest_injury\n",
            "Unique Values:\n",
            "FATL\n",
            "SERS\n",
            "NONE\n",
            "MINR\n",
            "nan\n",
            "UNKN\n",
            "\n",
            "Column: wx_cond_basic\n",
            "Unique Values:\n",
            "IMC\n",
            "VMC\n",
            "UNK\n",
            "nan\n",
            "Unk\n",
            "\n",
            "Column: Occurrence_No\n",
            "Unique Values:\n",
            "nan\n",
            "2.0\n",
            "3.0\n",
            "1.0\n",
            "4.0\n",
            "5.0\n",
            "6.0\n",
            "7.0\n",
            "8.0\n",
            "9.0\n",
            "10.0\n",
            "11.0\n",
            "13.0\n",
            "12.0\n",
            "16.0\n",
            "15.0\n",
            "14.0\n",
            "\n",
            "Column: broad phase of flight\n",
            "Unique Values:\n",
            "nan\n",
            "Approach\n",
            "Descent\n",
            "Landing\n",
            "Cruise\n",
            "Takeoff\n",
            "Climb\n",
            "Maneuvering\n",
            "Other\n",
            "Unknown broad phase\n",
            "Taxi\n",
            "Unknown\n",
            "Standing\n",
            "Hover\n",
            "Enroute\n",
            "Initial Climb\n",
            "Uncontrolled Descent\n",
            "Emergency Descent\n",
            "Prior to flight\n",
            "Post-Impact\n",
            "Pushback/Towing\n",
            "After Landing\n",
            "\n"
          ]
        }
      ],
      "source": [
        "#Just curiously testing which columns have less than or equal to 30 unique elements.\n",
        "\n",
        "max_unique_threshold = 30\n",
        "\n",
        "for column in df.columns:\n",
        "    unique_values = df[column].unique()\n",
        "    if len(unique_values) <= max_unique_threshold: \n",
        "        print(f'Column: {column}')\n",
        "        print('Unique Values:')\n",
        "        for value in unique_values:\n",
        "              print(value)\n",
        "        print()"
      ]
    },
    {
      "cell_type": "markdown",
      "metadata": {
        "id": "OdshCXUUdVwg"
      },
      "source": [
        "##### Sort the dataframe to see the earliest date to make sure it only includes data from 1997 - 2023."
      ]
    },
    {
      "cell_type": "code",
      "execution_count": null,
      "metadata": {
        "id": "z-CbCsx-dVwg",
        "outputId": "a401c1fa-8e9a-44ad-c7bc-f0d4d6577f10"
      },
      "outputs": [
        {
          "data": {
            "text/plain": [
              "0    1997-01-01\n",
              "1    1997-01-01\n",
              "2    1997-01-01\n",
              "3    1997-01-01\n",
              "4    1997-01-01\n",
              "Name: ev_date, dtype: object"
            ]
          },
          "execution_count": 15,
          "metadata": {},
          "output_type": "execute_result"
        }
      ],
      "source": [
        "event_date = 'ev_date'\n",
        "\n",
        "earliest_elements = df.sort_values(event_date)[event_date].head(5)\n",
        "\n",
        "earliest_elements"
      ]
    },
    {
      "cell_type": "code",
      "execution_count": null,
      "metadata": {
        "id": "anMG7IlEdVwh",
        "outputId": "68d4ff2e-4517-44d4-9622-b5aa137d2308"
      },
      "outputs": [
        {
          "name": "stdout",
          "output_type": "stream",
          "text": [
            "Row of interest:\n",
            "ï»¿                                                 0\n",
            "ev_id                                  20001208X07301\n",
            "ntsb_no                                    IAD97FA038\n",
            "ev_date                                    1997-01-01\n",
            "ev_type                                           ACC\n",
            "Aircraft_Key                                      NaN\n",
            "acft_category                                     NaN\n",
            "flight purpose                                    NaN\n",
            "acft_make                                         NaN\n",
            "acft_model                                        NaN\n",
            "homebuilt                                         NaN\n",
            "num_eng                                           NaN\n",
            "eng_no                                            NaN\n",
            "eng_type                                          NaN\n",
            "damage                                            NaN\n",
            "far_part                                          NaN\n",
            "regis_no                                          NaN\n",
            "ev_city                               BITTINGER      \n",
            "ev_state                                           MD\n",
            "ev_country                                        USA\n",
            "latitude                                             \n",
            "longitude                                            \n",
            "ev_nr_apt_id                                         \n",
            "apt_name                                             \n",
            "ev_highest_injury                                FATL\n",
            "inj_tot_f                                         1.0\n",
            "inj_tot_s                                         NaN\n",
            "inj_tot_m                                         NaN\n",
            "inj_tot_n                                         NaN\n",
            "wx_cond_basic                                     IMC\n",
            "Occurrence_No                                     NaN\n",
            "broad phase of flight                             NaN\n",
            "specific phase of flight                          NaN\n",
            "Occurrence                                        NaN\n",
            "Name: 0, dtype: object\n"
          ]
        }
      ],
      "source": [
        "#This code block grabs the first \n",
        "index_of_interest = 0\n",
        "\n",
        "row_of_interest = df.loc[index_of_interest]\n",
        "\n",
        "print(\"Row of interest:\")\n",
        "print(row_of_interest)"
      ]
    },
    {
      "cell_type": "markdown",
      "metadata": {
        "id": "3pIEz1iMdVwh"
      },
      "source": [
        "##### Define a function that makes it easier for me to check the unique elements of any column that I am interested in that particular moment."
      ]
    },
    {
      "cell_type": "code",
      "execution_count": null,
      "metadata": {
        "id": "rB8Ex4R0dVwh"
      },
      "outputs": [],
      "source": [
        "#CODE REFACTORING so that I wouldn't have to copy and paste the same code block over and over;\n",
        "#instead I can just call on 'print_unique_inputs'\"\n",
        "\n",
        "def print_unique_inputs(df, column_name):\n",
        "\n",
        "    unique_inputs = df[column_name].unique()\n",
        "    num_unique_inputs = len(unique_inputs)\n",
        "\n",
        "    print(\"Unique inputs for the '{}' column:\".format(column_name))\n",
        "    print(unique_inputs)\n",
        "\n",
        "    print(\"Number of unique inputs for the '{}' column: {}\".format(column_name, num_unique_inputs))\n",
        "    \n",
        "    return unique_inputs"
      ]
    },
    {
      "cell_type": "markdown",
      "metadata": {
        "id": "mjnusAANdVwh"
      },
      "source": [
        "##### Remove all leading/trailing spaces from elements in entire DataFrame."
      ]
    },
    {
      "cell_type": "code",
      "execution_count": null,
      "metadata": {
        "id": "LAL9w354dVwk"
      },
      "outputs": [],
      "source": [
        "df = df.apply(lambda x: x.str.strip() if x.dtype == 'object' else x)"
      ]
    },
    {
      "cell_type": "markdown",
      "metadata": {
        "id": "RkBXzuBpdVwk"
      },
      "source": [
        "##### Look at unique elements within the 'homebuilt' column(Amateur built aircraft Y/N)."
      ]
    },
    {
      "cell_type": "code",
      "execution_count": null,
      "metadata": {
        "id": "RnlrWQf8dVwk",
        "outputId": "5304b772-9ad1-49b6-b40f-6d7768a05908"
      },
      "outputs": [
        {
          "name": "stdout",
          "output_type": "stream",
          "text": [
            "Unique inputs for the 'homebuilt' column:\n",
            "[nan 'N' 'Y']\n",
            "Number of unique inputs for the 'homebuilt' column: 3\n"
          ]
        }
      ],
      "source": [
        "target_column = 'homebuilt'\n",
        "unique_inputs = print_unique_inputs(df, target_column)"
      ]
    },
    {
      "cell_type": "markdown",
      "metadata": {
        "id": "Ju5V7CyndVwk"
      },
      "source": [
        "##### If they are homebuilt, remove the rows. We want professional, state-of-the-art aircraft."
      ]
    },
    {
      "cell_type": "code",
      "execution_count": null,
      "metadata": {
        "id": "lKz3JLULdVwk",
        "outputId": "88049ca4-7a2d-4736-a6a1-bf82a2352af5"
      },
      "outputs": [
        {
          "data": {
            "text/html": [
              "<div>\n",
              "<style scoped>\n",
              "    .dataframe tbody tr th:only-of-type {\n",
              "        vertical-align: middle;\n",
              "    }\n",
              "\n",
              "    .dataframe tbody tr th {\n",
              "        vertical-align: top;\n",
              "    }\n",
              "\n",
              "    .dataframe thead th {\n",
              "        text-align: right;\n",
              "    }\n",
              "</style>\n",
              "<table border=\"1\" class=\"dataframe\">\n",
              "  <thead>\n",
              "    <tr style=\"text-align: right;\">\n",
              "      <th></th>\n",
              "      <th>ï»¿</th>\n",
              "      <th>ev_id</th>\n",
              "      <th>ntsb_no</th>\n",
              "      <th>ev_date</th>\n",
              "      <th>ev_type</th>\n",
              "      <th>Aircraft_Key</th>\n",
              "      <th>acft_category</th>\n",
              "      <th>flight purpose</th>\n",
              "      <th>acft_make</th>\n",
              "      <th>acft_model</th>\n",
              "      <th>homebuilt</th>\n",
              "      <th>num_eng</th>\n",
              "      <th>eng_no</th>\n",
              "      <th>eng_type</th>\n",
              "      <th>damage</th>\n",
              "      <th>far_part</th>\n",
              "      <th>regis_no</th>\n",
              "      <th>ev_city</th>\n",
              "      <th>ev_state</th>\n",
              "      <th>ev_country</th>\n",
              "      <th>latitude</th>\n",
              "      <th>longitude</th>\n",
              "      <th>ev_nr_apt_id</th>\n",
              "      <th>apt_name</th>\n",
              "      <th>ev_highest_injury</th>\n",
              "      <th>inj_tot_f</th>\n",
              "      <th>inj_tot_s</th>\n",
              "      <th>inj_tot_m</th>\n",
              "      <th>inj_tot_n</th>\n",
              "      <th>wx_cond_basic</th>\n",
              "      <th>Occurrence_No</th>\n",
              "      <th>broad phase of flight</th>\n",
              "      <th>specific phase of flight</th>\n",
              "      <th>Occurrence</th>\n",
              "    </tr>\n",
              "  </thead>\n",
              "  <tbody>\n",
              "    <tr>\n",
              "      <th>0</th>\n",
              "      <td>0</td>\n",
              "      <td>20001208X07301</td>\n",
              "      <td>IAD97FA038</td>\n",
              "      <td>1997-01-01</td>\n",
              "      <td>ACC</td>\n",
              "      <td>NaN</td>\n",
              "      <td>NaN</td>\n",
              "      <td>NaN</td>\n",
              "      <td>NaN</td>\n",
              "      <td>NaN</td>\n",
              "      <td>NaN</td>\n",
              "      <td>NaN</td>\n",
              "      <td>NaN</td>\n",
              "      <td>NaN</td>\n",
              "      <td>NaN</td>\n",
              "      <td>NaN</td>\n",
              "      <td>NaN</td>\n",
              "      <td>BITTINGER</td>\n",
              "      <td>MD</td>\n",
              "      <td>USA</td>\n",
              "      <td></td>\n",
              "      <td></td>\n",
              "      <td></td>\n",
              "      <td></td>\n",
              "      <td>FATL</td>\n",
              "      <td>1.0</td>\n",
              "      <td>NaN</td>\n",
              "      <td>NaN</td>\n",
              "      <td>NaN</td>\n",
              "      <td>IMC</td>\n",
              "      <td>NaN</td>\n",
              "      <td>NaN</td>\n",
              "      <td>NaN</td>\n",
              "      <td>NaN</td>\n",
              "    </tr>\n",
              "    <tr>\n",
              "      <th>1</th>\n",
              "      <td>1</td>\n",
              "      <td>20001208X07326</td>\n",
              "      <td>MIA97LA054</td>\n",
              "      <td>1997-01-01</td>\n",
              "      <td>ACC</td>\n",
              "      <td>NaN</td>\n",
              "      <td>NaN</td>\n",
              "      <td>NaN</td>\n",
              "      <td>NaN</td>\n",
              "      <td>NaN</td>\n",
              "      <td>NaN</td>\n",
              "      <td>NaN</td>\n",
              "      <td>NaN</td>\n",
              "      <td>NaN</td>\n",
              "      <td>NaN</td>\n",
              "      <td>NaN</td>\n",
              "      <td>NaN</td>\n",
              "      <td>DAYTONA BEACH</td>\n",
              "      <td>FL</td>\n",
              "      <td>USA</td>\n",
              "      <td></td>\n",
              "      <td></td>\n",
              "      <td>DAB</td>\n",
              "      <td>DAYTONA BEACH INT'L</td>\n",
              "      <td>SERS</td>\n",
              "      <td>NaN</td>\n",
              "      <td>2.0</td>\n",
              "      <td>NaN</td>\n",
              "      <td>NaN</td>\n",
              "      <td>VMC</td>\n",
              "      <td>NaN</td>\n",
              "      <td>NaN</td>\n",
              "      <td>NaN</td>\n",
              "      <td>NaN</td>\n",
              "    </tr>\n",
              "    <tr>\n",
              "      <th>2</th>\n",
              "      <td>2</td>\n",
              "      <td>20001208X07265</td>\n",
              "      <td>CHI97LA049</td>\n",
              "      <td>1997-01-01</td>\n",
              "      <td>ACC</td>\n",
              "      <td>NaN</td>\n",
              "      <td>NaN</td>\n",
              "      <td>NaN</td>\n",
              "      <td>NaN</td>\n",
              "      <td>NaN</td>\n",
              "      <td>NaN</td>\n",
              "      <td>NaN</td>\n",
              "      <td>NaN</td>\n",
              "      <td>NaN</td>\n",
              "      <td>NaN</td>\n",
              "      <td>NaN</td>\n",
              "      <td>NaN</td>\n",
              "      <td>KANSAS CITY</td>\n",
              "      <td>MO</td>\n",
              "      <td>USA</td>\n",
              "      <td></td>\n",
              "      <td></td>\n",
              "      <td>MKC</td>\n",
              "      <td>KANSAS CITY DOWNTOWN</td>\n",
              "      <td>NONE</td>\n",
              "      <td>NaN</td>\n",
              "      <td>NaN</td>\n",
              "      <td>NaN</td>\n",
              "      <td>2.0</td>\n",
              "      <td>IMC</td>\n",
              "      <td>NaN</td>\n",
              "      <td>NaN</td>\n",
              "      <td>NaN</td>\n",
              "      <td>NaN</td>\n",
              "    </tr>\n",
              "    <tr>\n",
              "      <th>3</th>\n",
              "      <td>3</td>\n",
              "      <td>20001208X07327</td>\n",
              "      <td>MIA97LA055</td>\n",
              "      <td>1997-01-01</td>\n",
              "      <td>ACC</td>\n",
              "      <td>NaN</td>\n",
              "      <td>NaN</td>\n",
              "      <td>NaN</td>\n",
              "      <td>NaN</td>\n",
              "      <td>NaN</td>\n",
              "      <td>NaN</td>\n",
              "      <td>NaN</td>\n",
              "      <td>NaN</td>\n",
              "      <td>NaN</td>\n",
              "      <td>NaN</td>\n",
              "      <td>NaN</td>\n",
              "      <td>NaN</td>\n",
              "      <td>FLORENCE</td>\n",
              "      <td>SC</td>\n",
              "      <td>USA</td>\n",
              "      <td></td>\n",
              "      <td></td>\n",
              "      <td></td>\n",
              "      <td></td>\n",
              "      <td>SERS</td>\n",
              "      <td>NaN</td>\n",
              "      <td>3.0</td>\n",
              "      <td>1.0</td>\n",
              "      <td>NaN</td>\n",
              "      <td>IMC</td>\n",
              "      <td>NaN</td>\n",
              "      <td>NaN</td>\n",
              "      <td>NaN</td>\n",
              "      <td>NaN</td>\n",
              "    </tr>\n",
              "    <tr>\n",
              "      <th>4</th>\n",
              "      <td>4</td>\n",
              "      <td>20001208X07329</td>\n",
              "      <td>MIA97LA058</td>\n",
              "      <td>1997-01-01</td>\n",
              "      <td>ACC</td>\n",
              "      <td>NaN</td>\n",
              "      <td>NaN</td>\n",
              "      <td>NaN</td>\n",
              "      <td>NaN</td>\n",
              "      <td>NaN</td>\n",
              "      <td>NaN</td>\n",
              "      <td>NaN</td>\n",
              "      <td>NaN</td>\n",
              "      <td>NaN</td>\n",
              "      <td>NaN</td>\n",
              "      <td>NaN</td>\n",
              "      <td>NaN</td>\n",
              "      <td>KISSIMMEE</td>\n",
              "      <td>FL</td>\n",
              "      <td>USA</td>\n",
              "      <td></td>\n",
              "      <td></td>\n",
              "      <td>ISM</td>\n",
              "      <td>KISSIMMEE</td>\n",
              "      <td>NONE</td>\n",
              "      <td>NaN</td>\n",
              "      <td>NaN</td>\n",
              "      <td>NaN</td>\n",
              "      <td>2.0</td>\n",
              "      <td>VMC</td>\n",
              "      <td>NaN</td>\n",
              "      <td>NaN</td>\n",
              "      <td>NaN</td>\n",
              "      <td>NaN</td>\n",
              "    </tr>\n",
              "  </tbody>\n",
              "</table>\n",
              "</div>"
            ],
            "text/plain": [
              "   ï»¿           ev_id     ntsb_no     ev_date ev_type  Aircraft_Key acft_category flight purpose acft_make acft_model homebuilt  num_eng  eng_no eng_type damage far_part regis_no        ev_city ev_state ev_country latitude longitude ev_nr_apt_id              apt_name ev_highest_injury  inj_tot_f  inj_tot_s  inj_tot_m  inj_tot_n wx_cond_basic  Occurrence_No broad phase of flight specific phase of flight Occurrence\n",
              "0    0  20001208X07301  IAD97FA038  1997-01-01     ACC           NaN           NaN            NaN       NaN        NaN       NaN      NaN     NaN      NaN    NaN      NaN      NaN      BITTINGER       MD        USA                                                                    FATL        1.0        NaN        NaN        NaN           IMC            NaN                   NaN                      NaN        NaN\n",
              "1    1  20001208X07326  MIA97LA054  1997-01-01     ACC           NaN           NaN            NaN       NaN        NaN       NaN      NaN     NaN      NaN    NaN      NaN      NaN  DAYTONA BEACH       FL        USA                             DAB   DAYTONA BEACH INT'L              SERS        NaN        2.0        NaN        NaN           VMC            NaN                   NaN                      NaN        NaN\n",
              "2    2  20001208X07265  CHI97LA049  1997-01-01     ACC           NaN           NaN            NaN       NaN        NaN       NaN      NaN     NaN      NaN    NaN      NaN      NaN    KANSAS CITY       MO        USA                             MKC  KANSAS CITY DOWNTOWN              NONE        NaN        NaN        NaN        2.0           IMC            NaN                   NaN                      NaN        NaN\n",
              "3    3  20001208X07327  MIA97LA055  1997-01-01     ACC           NaN           NaN            NaN       NaN        NaN       NaN      NaN     NaN      NaN    NaN      NaN      NaN       FLORENCE       SC        USA                                                                    SERS        NaN        3.0        1.0        NaN           IMC            NaN                   NaN                      NaN        NaN\n",
              "4    4  20001208X07329  MIA97LA058  1997-01-01     ACC           NaN           NaN            NaN       NaN        NaN       NaN      NaN     NaN      NaN    NaN      NaN      NaN      KISSIMMEE       FL        USA                             ISM             KISSIMMEE              NONE        NaN        NaN        NaN        2.0           VMC            NaN                   NaN                      NaN        NaN"
            ]
          },
          "execution_count": 20,
          "metadata": {},
          "output_type": "execute_result"
        }
      ],
      "source": [
        "df = df[(df['homebuilt'] != 'Y')]\n",
        "\n",
        "df.head()"
      ]
    },
    {
      "cell_type": "markdown",
      "metadata": {
        "id": "rT4GHXQwdVwk"
      },
      "source": [
        "##### Look at unique elements within 'eng_type' column (Engine Types)."
      ]
    },
    {
      "cell_type": "code",
      "execution_count": null,
      "metadata": {
        "id": "E6y2BOlJdVwk",
        "outputId": "39a6266e-08d2-49a9-e5d3-afcb1c835e46"
      },
      "outputs": [
        {
          "name": "stdout",
          "output_type": "stream",
          "text": [
            "Unique inputs for the 'eng_type' column:\n",
            "[nan 'TF' 'TS' 'REC' 'UNK' 'TJ' 'TP' 'NONE' 'ELEC' 'HR' 'GTFN' 'LR']\n",
            "Number of unique inputs for the 'eng_type' column: 12\n"
          ]
        }
      ],
      "source": [
        "target_column = 'eng_type'\n",
        "unique_inputs = print_unique_inputs(df, target_column)"
      ]
    },
    {
      "cell_type": "markdown",
      "metadata": {
        "id": "B-RacwpBdVwl"
      },
      "source": [
        "##### Look at unique elements within 'damage' column (Aircraft Damage)."
      ]
    },
    {
      "cell_type": "code",
      "execution_count": null,
      "metadata": {
        "id": "aQUeAdMWdVwl",
        "outputId": "02af4d75-1f38-4df6-be76-8d70e75a6d71"
      },
      "outputs": [
        {
          "name": "stdout",
          "output_type": "stream",
          "text": [
            "Unique inputs for the 'damage' column:\n",
            "[nan 'NONE' 'UNK' 'DEST' 'SUBS' 'MINR']\n",
            "Number of unique inputs for the 'damage' column: 6\n"
          ]
        }
      ],
      "source": [
        "target_column = 'damage'\n",
        "unique_inputs = print_unique_inputs(df, target_column)"
      ]
    },
    {
      "cell_type": "markdown",
      "metadata": {
        "id": "-3RSsIHmdVwl"
      },
      "source": [
        "##### CREATE FREQUENCY TABLE with engine types and aircraft damage."
      ]
    },
    {
      "cell_type": "code",
      "execution_count": null,
      "metadata": {
        "id": "mCp2SUvrdVwl",
        "outputId": "82dd31d7-1342-4922-946a-9f1e979f0f67"
      },
      "outputs": [
        {
          "name": "stdout",
          "output_type": "stream",
          "text": [
            "damage    DEST  MINR  NONE   SUBS  UNK\n",
            "eng_type                              \n",
            "ELEC         1     0     0     45    0\n",
            "GTFN         0     4     0      0    0\n",
            "HR           1     0     0      0    0\n",
            "LR           0     0     0      8    0\n",
            "NONE         3     8     0     32    0\n",
            "REC       7028   374    51  51445    2\n",
            "TF         372   760   252   1450    0\n",
            "TJ         203    98    42    359    0\n",
            "TP         995   234    77   3410    0\n",
            "TS         729   146    34   3305    0\n",
            "UNK          9     5     8     41    0\n"
          ]
        }
      ],
      "source": [
        "eng_type_dmg_df = df.dropna(subset = ['eng_type', 'damage'])\n",
        "\n",
        "frequency_table = pd.crosstab(eng_type_dmg_df['eng_type'], eng_type_dmg_df['damage'])\n",
        "\n",
        "print(frequency_table)"
      ]
    },
    {
      "cell_type": "code",
      "execution_count": null,
      "metadata": {
        "id": "iVPUvPeLdVwl",
        "outputId": "1abab66e-de13-4861-b0d1-c442de4ea537"
      },
      "outputs": [
        {
          "data": {
            "text/plain": [
              "<Figure size 2000x800 with 0 Axes>"
            ]
          },
          "metadata": {},
          "output_type": "display_data"
        },
        {
          "data": {
            "image/png": "[encoded data removed]",
            "text/plain": [
              "<Figure size 640x480 with 1 Axes>"
            ]
          },
          "metadata": {},
          "output_type": "display_data"
        }
      ],
      "source": [
        "#transpose frequency table (swap x and y values in plot)\n",
        "#frequency_table = frequency_table.transpose() <-- uncomment this to swap values every time you run this cell.\n",
        "\n",
        "#create a color palette\n",
        "colors = ['red', 'yellow', 'green', 'pink']\n",
        "\n",
        "#figure size\n",
        "plt.figure(figsize=(20, 8))\n",
        "\n",
        "#plot frequency table\n",
        "frequency_table.plot(kind = 'bar', stacked = True, color = colors)\n",
        "\n",
        "#labeling \n",
        "plt.xlabel('Engine Type')\n",
        "plt.ylabel('Frequency')\n",
        "plt.title('Frequency of Aircraft Damage by Engine Type')\n",
        "\n",
        "#changes names of inputs on x-axis \n",
        "ax = plt.gca()\n",
        "ax.set_xticklabels(['Electric', 'Geared Turbofan', 'Hybrid Rocket', 'Long Range', 'NONE', 'Reciprocating', 'Turbofan', 'Turbo Jet', 'Turbo Prop', 'Turbo Shaft', 'Unknown'])\n",
        "\n",
        "#changing legend labels\n",
        "labels = ['Destroyed', 'Minor', 'None', 'Substantial', 'Unknown']\n",
        "plt.legend(labels)\n",
        "\n",
        "#display plot\n",
        "plt.show()"
      ]
    },
    {
      "cell_type": "markdown",
      "metadata": {
        "id": "T17QT1fSdVwl"
      },
      "source": [
        "###### Here we see that the Reciprocating engines is the most frequently involved engine type in both substantially damaged and completely destroyed aircrafts. We also see that the Turbofan and the newer Geared Turbofan engines are the least frequently involved engine types in the same regard.\n",
        "\n",
        "###### The aircrafts that most commonly use reciprocating engines are smaller general aviation aircraft and propeller-driven airplanes.\n",
        "\n",
        "###### The aircrafts that most commonly use Turbofan engines are commercial airplanes.\n",
        "\n",
        "###### Thus, we urge our client to not invest in smaller general aviation aircrafts but in commercial airplanes instead."
      ]
    },
    {
      "cell_type": "markdown",
      "metadata": {
        "id": "wkw2xw2LdVwl"
      },
      "source": [
        "##### Look at unique elements within 'acft_make' column (Make of Aircraft)"
      ]
    },
    {
      "cell_type": "code",
      "execution_count": null,
      "metadata": {
        "id": "jgUAQrCCdVwl",
        "outputId": "b9c02fe9-e163-490f-803a-efb323757d65"
      },
      "outputs": [
        {
          "name": "stdout",
          "output_type": "stream",
          "text": [
            "Unique inputs for the 'acft_make' column:\n",
            "[nan 'Boeing' 'BOEING' ... 'EDWIN STAFFORD' 'HOLLAND TRAVIS E' 'ICP SRL']\n",
            "Number of unique inputs for the 'acft_make' column: 2004\n"
          ]
        }
      ],
      "source": [
        "target_column = 'acft_make'\n",
        "unique_inputs = print_unique_inputs(df, target_column)"
      ]
    },
    {
      "cell_type": "markdown",
      "metadata": {
        "id": "-LVMOaaldVwl"
      },
      "source": [
        "##### Look at unique elements within 'acft_model' column (Model of Aircraft)"
      ]
    },
    {
      "cell_type": "code",
      "execution_count": null,
      "metadata": {
        "id": "DqD48XcRdVwm",
        "outputId": "2b68c602-1630-438a-ba5f-f60664223166"
      },
      "outputs": [
        {
          "name": "stdout",
          "output_type": "stream",
          "text": [
            "Unique inputs for the 'acft_model' column:\n",
            "[nan 'DC-10-30' 'B-737-300' ... '3112' 'VELOCITY' 'L-139']\n",
            "Number of unique inputs for the 'acft_model' column: 5470\n"
          ]
        }
      ],
      "source": [
        "target_column = 'acft_model'\n",
        "unique_inputs = print_unique_inputs(df, target_column)"
      ]
    },
    {
      "cell_type": "markdown",
      "metadata": {
        "id": "gc6oa8RcdVwm"
      },
      "source": [
        "##### Filter DataFrame for makes of airplanes that have either 2 or 4 Turbofan engines. (Commercial airplanes usually have this many engines)"
      ]
    },
    {
      "cell_type": "code",
      "execution_count": null,
      "metadata": {
        "id": "zW3Ot2eUdVwm",
        "outputId": "309da387-3941-446b-beb0-6c78d64cbc15"
      },
      "outputs": [
        {
          "name": "stdout",
          "output_type": "stream",
          "text": [
            "Makes with either 2 or 4 Turbofan engines:\n",
            "['Boeing' 'Learjet' 'McDonnell Douglas' 'LEARJET' 'Rockwell' 'Airbus'\n",
            " 'Hawker Siddeley' 'Bombardier' 'British Aerospace' 'Cessna' 'Grumman'\n",
            " 'Embraer' 'Airbus Industrie' 'Raytheon' 'Dassault/SUD' 'Gates Learjet'\n",
            " 'Mitsubishi' 'Canadair' 'Beech' 'Dornier' 'Fairchild Dornier' 'Fokker'\n",
            " 'Dassault Aviation' 'Sino-Swearingen' 'Fairchild' 'Dassault-Breguet'\n",
            " 'Raytheon Corporate Jets' 'Gulfstream Aerospace'\n",
            " 'Israel Aircraft Industries' 'BOEING' 'Bombardier Aerospace, Inc.'\n",
            " 'Dassault/Sud' 'Eclipse Aviation' 'Airbus Industries' 'Bombardier, Inc.'\n",
            " 'MCDONNELL DOUGLAS' 'AIRBUS' 'Corporate Jets Limited'\n",
            " 'Spectrum Aeronautical LLC' 'DASSAULT' 'LEARJET INC'\n",
            " 'GULFSTREAM AEROSPACE' 'CESSNA' 'BOMBARDIER'\n",
            " 'North American Rockwell Corp.' 'BEECHCRAFT' 'BOMBARDIER INC' 'EMBRAER'\n",
            " 'Eclipse Aviation Corporation' 'DOUGLAS' 'Beechcraft'\n",
            " 'GATES LEARJET CORP.' 'Gates Learjet Corporation' 'MCDONNELL-DOUGLAS'\n",
            " 'EMBRAER-EMPRESA BRASILEIRA DE' 'RAYTHEON AIRCRAFT COMPANY'\n",
            " 'AIRBUS INDUSTRIE' 'GRUMMAN AMERICAN AVN. CORP.'\n",
            " 'MCDONNELL DOUGLAS AIRCRAFT CO' 'Hawker Beechcraft' 'GULFSTREAM'\n",
            " 'ISRAEL AIRCRAFT INDUSTRIES' 'RAYTHEON' 'Gulfstream Aerospace Corp.'\n",
            " 'ECLIPSE AVIATION CORP' 'GATES LEAR JET' 'GULFSTREAM AMERICAN CORP.'\n",
            " 'ANTONOV' 'BOMBARDIER LEARJET CORP.' 'CANADAIR LTD' 'EMBRAER S.A.'\n",
            " 'BEECH' 'BOEING COMPANY' 'HAWKER BEECHCRAFT CORPORATION' 'IAI' 'ROCKWELL'\n",
            " 'CESSNA AIRCRAFT COMPANY' 'EMBRAER S A' 'BAE SYSTEMS (OPERATIONS) LIMIT'\n",
            " 'BRITISH AEROSPACE' 'DASSAULT/SUD' 'SAAB-SCANIA AB' 'Bombardier Canadair'\n",
            " 'DASSAULT-BREGUET' 'THE BOEING COMPANY' 'RAYTHEON CORPORATE JETS INC'\n",
            " 'CANADAIR' 'British Aerospace Civil Aircr' 'HAWKER BEECHCRAFT CORP'\n",
            " 'HAWKER' 'MITSUBISHI' 'MCDONNELL DOUGLAS CORPORATION'\n",
            " 'Boeing Commercial Airplane Gro' 'TEXTRON AVIATION INC' 'DORNIER GMBH'\n",
            " 'Mcdonnell Douglas' 'Gulfstream' 'Dassault' 'Rockwell International'\n",
            " 'Textron Aviation Inc' 'BAE' 'HAWKER SIDDELEY']\n"
          ]
        }
      ],
      "source": [
        "filtered_df = df[(df['eng_no'].isin([2,4])) & (df['eng_type'].isin(['GTFN', 'TF']))]\n",
        "selected_makes = filtered_df['acft_make'].unique()\n",
        "\n",
        "print(\"Makes with either 2 or 4 Turbofan engines:\")\n",
        "print(selected_makes)"
      ]
    },
    {
      "cell_type": "markdown",
      "metadata": {
        "id": "HK2A0MzhdVwm"
      },
      "source": [
        "##### Filter even futher for commercial airplanes that have minor or no aircraft damage."
      ]
    },
    {
      "cell_type": "code",
      "execution_count": null,
      "metadata": {
        "id": "UxTsgEDrdVwm",
        "outputId": "7167b649-1184-416c-834f-13dafbff4936"
      },
      "outputs": [
        {
          "name": "stdout",
          "output_type": "stream",
          "text": [
            "Makes with either 2 or 4 Turbofan engines with minor or no damage:\n",
            "['Boeing' 'Bombardier' 'McDonnell Douglas' 'Embraer' 'Airbus Industrie'\n",
            " 'Raytheon' 'Dornier' 'Fairchild Dornier' 'Learjet' 'Fokker' 'Canadair'\n",
            " 'Hawker Siddeley' 'Dassault Aviation' 'Cessna' 'Fairchild'\n",
            " 'Dassault-Breguet' 'Raytheon Corporate Jets' 'British Aerospace' 'BOEING'\n",
            " 'Airbus Industries' 'Bombardier, Inc.' 'Gulfstream Aerospace'\n",
            " 'Corporate Jets Limited' 'Airbus' 'MCDONNELL DOUGLAS' 'DASSAULT' 'AIRBUS'\n",
            " 'LEARJET' 'BOMBARDIER' 'MCDONNELL-DOUGLAS' 'BOMBARDIER INC'\n",
            " 'RAYTHEON AIRCRAFT COMPANY' 'EMBRAER' 'DOUGLAS' 'CESSNA'\n",
            " 'MCDONNELL DOUGLAS AIRCRAFT CO' 'GULFSTREAM AEROSPACE'\n",
            " 'ISRAEL AIRCRAFT INDUSTRIES' 'GULFSTREAM' 'BOMBARDIER LEARJET CORP.'\n",
            " 'BOEING COMPANY' 'IAI' 'CESSNA AIRCRAFT COMPANY'\n",
            " 'BAE SYSTEMS (OPERATIONS) LIMIT' 'DASSAULT-BREGUET' 'AIRBUS INDUSTRIE'\n",
            " 'MITSUBISHI' 'THE BOEING COMPANY' 'RAYTHEON']\n"
          ]
        }
      ],
      "source": [
        "selected_damage_types = ['MINR', 'NONE']\n",
        "\n",
        "makes_w_min_dmg = filtered_df[filtered_df['damage'].isin(selected_damage_types)]['acft_make'].unique()\n",
        "\n",
        "print(\"Makes with either 2 or 4 Turbofan engines with minor or no damage:\")\n",
        "print(makes_w_min_dmg)"
      ]
    },
    {
      "cell_type": "markdown",
      "metadata": {
        "id": "qDBrHk0IdVwm"
      },
      "source": [
        "##### Look at unique elements within 'ev_highest_injury' column (Injury Severity)."
      ]
    },
    {
      "cell_type": "code",
      "execution_count": null,
      "metadata": {
        "id": "pQr83oRZdVwm",
        "outputId": "3dbc0752-2ec1-4595-f272-3b67d067a0bd"
      },
      "outputs": [
        {
          "name": "stdout",
          "output_type": "stream",
          "text": [
            "Unique inputs for the 'ev_highest_injury' column:\n",
            "['FATL' 'SERS' 'NONE' 'MINR' nan 'UNKN']\n",
            "Number of unique inputs for the 'ev_highest_injury' column: 6\n"
          ]
        }
      ],
      "source": [
        "target_column = 'ev_highest_injury'\n",
        "unique_inputs = print_unique_inputs(df, target_column)"
      ]
    },
    {
      "cell_type": "markdown",
      "metadata": {
        "id": "Hol7GiqpdVwm"
      },
      "source": [
        "##### Filter for top 5 commercial airplane makes with minor/no aircraft damage AND no injuries."
      ]
    },
    {
      "cell_type": "code",
      "execution_count": null,
      "metadata": {
        "id": "-1_dxoS1dVwm",
        "outputId": "bf945a7c-9659-4758-cd7a-845a804de0f1"
      },
      "outputs": [
        {
          "name": "stdout",
          "output_type": "stream",
          "text": [
            "Top 5 makes with either 2 or 4 Turbofan engines with minor or no damage with the most frequency of no injuries:\n",
            "BOEING    141\n",
            "CESSNA     99\n",
            "Boeing     71\n",
            "Cessna     40\n",
            "AIRBUS     39\n",
            "Name: acft_make, dtype: int64\n"
          ]
        }
      ],
      "source": [
        "#filter the dataframe\n",
        "filtered_df2 = df[(df['eng_no'].isin([2, 4])) & (df['eng_type'].isin(['GTFN', 'TF'])) & (df['damage'].isin(['MINR', 'NONE']))]\n",
        "\n",
        "#count the occurrences of 'NONE' in 'ev_highest_injury' for each Make\n",
        "make_counts = filtered_df[filtered_df['ev_highest_injury'] == 'NONE']['acft_make'].value_counts()\n",
        "\n",
        "#get the top 5 makes with the most frequency of 'NONE'\n",
        "top_5_makes = make_counts.head(5)\n",
        "\n",
        "print(\"Top 5 makes with either 2 or 4 Turbofan engines with minor or no damage with the most frequency of no injuries:\")\n",
        "print(top_5_makes)"
      ]
    },
    {
      "cell_type": "markdown",
      "metadata": {
        "id": "UTAqMRmYdVwm"
      },
      "source": [
        "##### Filter one last time for the top 5 commercial airplane makes AND models with minor/no aircraft damage AND no injuries."
      ]
    },
    {
      "cell_type": "code",
      "execution_count": null,
      "metadata": {
        "id": "SPwVFBYXdVwn",
        "outputId": "2e9f7dae-e0bb-4219-8ecc-4aaa3c0ab4f9"
      },
      "outputs": [
        {
          "name": "stdout",
          "output_type": "stream",
          "text": [
            "Models with the highest frequency of 'NONE' in 'ev_highest_injury':\n",
            "acft_model  acft_make        \n",
            "737         boeing               25\n",
            "757         boeing               22\n",
            "DC-8-71F    mcdonnell douglas    20\n",
            "A75N1       boeing               18\n",
            "DC-10-10    mcdonnell douglas    14\n",
            "Name: acft_make, dtype: int64\n"
          ]
        }
      ],
      "source": [
        "selected_makes = ['Boeing', 'Bombardier', 'McDonnell Douglas', 'Embraer', 'Airbus Industrie']\n",
        "\n",
        "#step 1: filter DataFrame for selected makes\n",
        "filtered_df = df[df['acft_make'].isin(selected_makes)]\n",
        "\n",
        "#step 2: remove rows with missing values\n",
        "filtered_df = filtered_df.dropna(subset=['acft_model', 'ev_highest_injury'])\n",
        "\n",
        "#step 3: convert 'acft_make' values to lowercase\n",
        "filtered_df['acft_make'] = filtered_df['acft_make'].str.lower()\n",
        "\n",
        "#step 4: count frequency of 'NONE' in 'ev_highest_injury' for each unique 'acft_model'\n",
        "frequency_table = filtered_df[filtered_df['ev_highest_injury'] == 'NONE'].groupby('acft_model')['acft_make'].value_counts()\n",
        "\n",
        "#step 5: sort the frequency table in descending order\n",
        "sorted_frequency_table = frequency_table.sort_values(ascending=False)\n",
        "\n",
        "#step 6: select the top model(s) with the highest frequency of 'NONE'\n",
        "top_models = sorted_frequency_table.head()\n",
        "\n",
        "print(\"Models with the highest frequency of 'NONE' in 'ev_highest_injury':\")\n",
        "print(top_models)"
      ]
    },
    {
      "cell_type": "markdown",
      "metadata": {
        "id": "-AXeO_HGdVwn"
      },
      "source": [
        "### Analysis of Engine Number Flight Risk"
      ]
    },
    {
      "cell_type": "markdown",
      "metadata": {
        "id": "exQXRxsIdVwn"
      },
      "source": [
        "Since we are using the same columns to define our risk, we complete the same EDA on the 'num_eng\" column. "
      ]
    },
    {
      "cell_type": "code",
      "execution_count": null,
      "metadata": {
        "id": "4ikYhiE-dVwn"
      },
      "outputs": [],
      "source": [
        "import pandas as pd\n",
        "import numpy as np"
      ]
    },
    {
      "cell_type": "code",
      "execution_count": null,
      "metadata": {
        "id": "uIzqs7GydVwn",
        "outputId": "004834ee-a95c-431b-d858-df77e2917bdb"
      },
      "outputs": [
        {
          "data": {
            "text/plain": [
              "['ï»¿',\n",
              " 'ev_id',\n",
              " 'ntsb_no',\n",
              " 'ev_date',\n",
              " 'ev_type',\n",
              " 'Aircraft_Key',\n",
              " 'acft_category',\n",
              " 'flight purpose',\n",
              " 'acft_make',\n",
              " 'acft_model',\n",
              " 'homebuilt',\n",
              " 'num_eng',\n",
              " 'eng_no',\n",
              " 'eng_type',\n",
              " 'damage',\n",
              " 'far_part',\n",
              " 'regis_no',\n",
              " 'ev_city',\n",
              " 'ev_state',\n",
              " 'ev_country',\n",
              " 'latitude',\n",
              " 'longitude',\n",
              " 'ev_nr_apt_id',\n",
              " 'apt_name',\n",
              " 'ev_highest_injury',\n",
              " 'inj_tot_f',\n",
              " 'inj_tot_s',\n",
              " 'inj_tot_m',\n",
              " 'inj_tot_n',\n",
              " 'wx_cond_basic',\n",
              " 'Occurrence_No',\n",
              " 'broad phase of flight',\n",
              " 'specific phase of flight',\n",
              " 'Occurrence']"
            ]
          },
          "execution_count": 33,
          "metadata": {},
          "output_type": "execute_result"
        }
      ],
      "source": [
        "Engine = pd.read_csv('../data/df_post1996 (1).csv', encoding = \"ISO-8859-1\" )\n",
        "\n",
        "Engine.columns.tolist()"
      ]
    },
    {
      "cell_type": "code",
      "execution_count": null,
      "metadata": {
        "id": "i0M-yDjPdVwn",
        "outputId": "50830e81-98e1-44d7-be55-3f437da4e033"
      },
      "outputs": [
        {
          "data": {
            "text/html": [
              "<div>\n",
              "<style scoped>\n",
              "    .dataframe tbody tr th:only-of-type {\n",
              "        vertical-align: middle;\n",
              "    }\n",
              "\n",
              "    .dataframe tbody tr th {\n",
              "        vertical-align: top;\n",
              "    }\n",
              "\n",
              "    .dataframe thead th {\n",
              "        text-align: right;\n",
              "    }\n",
              "</style>\n",
              "<table border=\"1\" class=\"dataframe\">\n",
              "  <thead>\n",
              "    <tr style=\"text-align: right;\">\n",
              "      <th></th>\n",
              "      <th>ï»¿</th>\n",
              "      <th>ev_id</th>\n",
              "      <th>ntsb_no</th>\n",
              "      <th>ev_date</th>\n",
              "      <th>ev_type</th>\n",
              "      <th>Aircraft_Key</th>\n",
              "      <th>acft_category</th>\n",
              "      <th>flight purpose</th>\n",
              "      <th>acft_make</th>\n",
              "      <th>acft_model</th>\n",
              "      <th>homebuilt</th>\n",
              "      <th>num_eng</th>\n",
              "      <th>eng_no</th>\n",
              "      <th>eng_type</th>\n",
              "      <th>damage</th>\n",
              "      <th>far_part</th>\n",
              "      <th>regis_no</th>\n",
              "      <th>ev_city</th>\n",
              "      <th>ev_state</th>\n",
              "      <th>ev_country</th>\n",
              "      <th>latitude</th>\n",
              "      <th>longitude</th>\n",
              "      <th>ev_nr_apt_id</th>\n",
              "      <th>apt_name</th>\n",
              "      <th>ev_highest_injury</th>\n",
              "      <th>inj_tot_f</th>\n",
              "      <th>inj_tot_s</th>\n",
              "      <th>inj_tot_m</th>\n",
              "      <th>inj_tot_n</th>\n",
              "      <th>wx_cond_basic</th>\n",
              "      <th>Occurrence_No</th>\n",
              "      <th>broad phase of flight</th>\n",
              "      <th>specific phase of flight</th>\n",
              "      <th>Occurrence</th>\n",
              "    </tr>\n",
              "  </thead>\n",
              "  <tbody>\n",
              "    <tr>\n",
              "      <th>0</th>\n",
              "      <td>0</td>\n",
              "      <td>20001208X07301</td>\n",
              "      <td>IAD97FA038</td>\n",
              "      <td>1997-01-01</td>\n",
              "      <td>ACC</td>\n",
              "      <td>NaN</td>\n",
              "      <td>NaN</td>\n",
              "      <td>NaN</td>\n",
              "      <td>NaN</td>\n",
              "      <td>NaN</td>\n",
              "      <td>NaN</td>\n",
              "      <td>NaN</td>\n",
              "      <td>NaN</td>\n",
              "      <td>NaN</td>\n",
              "      <td>NaN</td>\n",
              "      <td>NaN</td>\n",
              "      <td>NaN</td>\n",
              "      <td>BITTINGER</td>\n",
              "      <td>MD</td>\n",
              "      <td>USA</td>\n",
              "      <td></td>\n",
              "      <td></td>\n",
              "      <td></td>\n",
              "      <td></td>\n",
              "      <td>FATL</td>\n",
              "      <td>1.0</td>\n",
              "      <td>NaN</td>\n",
              "      <td>NaN</td>\n",
              "      <td>NaN</td>\n",
              "      <td>IMC</td>\n",
              "      <td>NaN</td>\n",
              "      <td>NaN</td>\n",
              "      <td>NaN</td>\n",
              "      <td>NaN</td>\n",
              "    </tr>\n",
              "    <tr>\n",
              "      <th>1</th>\n",
              "      <td>1</td>\n",
              "      <td>20001208X07326</td>\n",
              "      <td>MIA97LA054</td>\n",
              "      <td>1997-01-01</td>\n",
              "      <td>ACC</td>\n",
              "      <td>NaN</td>\n",
              "      <td>NaN</td>\n",
              "      <td>NaN</td>\n",
              "      <td>NaN</td>\n",
              "      <td>NaN</td>\n",
              "      <td>NaN</td>\n",
              "      <td>NaN</td>\n",
              "      <td>NaN</td>\n",
              "      <td>NaN</td>\n",
              "      <td>NaN</td>\n",
              "      <td>NaN</td>\n",
              "      <td>NaN</td>\n",
              "      <td>DAYTONA BEACH</td>\n",
              "      <td>FL</td>\n",
              "      <td>USA</td>\n",
              "      <td></td>\n",
              "      <td></td>\n",
              "      <td>DAB</td>\n",
              "      <td>DAYTONA BEACH INT'L</td>\n",
              "      <td>SERS</td>\n",
              "      <td>NaN</td>\n",
              "      <td>2.0</td>\n",
              "      <td>NaN</td>\n",
              "      <td>NaN</td>\n",
              "      <td>VMC</td>\n",
              "      <td>NaN</td>\n",
              "      <td>NaN</td>\n",
              "      <td>NaN</td>\n",
              "      <td>NaN</td>\n",
              "    </tr>\n",
              "    <tr>\n",
              "      <th>2</th>\n",
              "      <td>2</td>\n",
              "      <td>20001208X07265</td>\n",
              "      <td>CHI97LA049</td>\n",
              "      <td>1997-01-01</td>\n",
              "      <td>ACC</td>\n",
              "      <td>NaN</td>\n",
              "      <td>NaN</td>\n",
              "      <td>NaN</td>\n",
              "      <td>NaN</td>\n",
              "      <td>NaN</td>\n",
              "      <td>NaN</td>\n",
              "      <td>NaN</td>\n",
              "      <td>NaN</td>\n",
              "      <td>NaN</td>\n",
              "      <td>NaN</td>\n",
              "      <td>NaN</td>\n",
              "      <td>NaN</td>\n",
              "      <td>KANSAS CITY</td>\n",
              "      <td>MO</td>\n",
              "      <td>USA</td>\n",
              "      <td></td>\n",
              "      <td></td>\n",
              "      <td>MKC</td>\n",
              "      <td>KANSAS CITY DOWNTOWN</td>\n",
              "      <td>NONE</td>\n",
              "      <td>NaN</td>\n",
              "      <td>NaN</td>\n",
              "      <td>NaN</td>\n",
              "      <td>2.0</td>\n",
              "      <td>IMC</td>\n",
              "      <td>NaN</td>\n",
              "      <td>NaN</td>\n",
              "      <td>NaN</td>\n",
              "      <td>NaN</td>\n",
              "    </tr>\n",
              "    <tr>\n",
              "      <th>3</th>\n",
              "      <td>3</td>\n",
              "      <td>20001208X07327</td>\n",
              "      <td>MIA97LA055</td>\n",
              "      <td>1997-01-01</td>\n",
              "      <td>ACC</td>\n",
              "      <td>NaN</td>\n",
              "      <td>NaN</td>\n",
              "      <td>NaN</td>\n",
              "      <td>NaN</td>\n",
              "      <td>NaN</td>\n",
              "      <td>NaN</td>\n",
              "      <td>NaN</td>\n",
              "      <td>NaN</td>\n",
              "      <td>NaN</td>\n",
              "      <td>NaN</td>\n",
              "      <td>NaN</td>\n",
              "      <td>NaN</td>\n",
              "      <td>FLORENCE</td>\n",
              "      <td>SC</td>\n",
              "      <td>USA</td>\n",
              "      <td></td>\n",
              "      <td></td>\n",
              "      <td></td>\n",
              "      <td></td>\n",
              "      <td>SERS</td>\n",
              "      <td>NaN</td>\n",
              "      <td>3.0</td>\n",
              "      <td>1.0</td>\n",
              "      <td>NaN</td>\n",
              "      <td>IMC</td>\n",
              "      <td>NaN</td>\n",
              "      <td>NaN</td>\n",
              "      <td>NaN</td>\n",
              "      <td>NaN</td>\n",
              "    </tr>\n",
              "    <tr>\n",
              "      <th>4</th>\n",
              "      <td>4</td>\n",
              "      <td>20001208X07329</td>\n",
              "      <td>MIA97LA058</td>\n",
              "      <td>1997-01-01</td>\n",
              "      <td>ACC</td>\n",
              "      <td>NaN</td>\n",
              "      <td>NaN</td>\n",
              "      <td>NaN</td>\n",
              "      <td>NaN</td>\n",
              "      <td>NaN</td>\n",
              "      <td>NaN</td>\n",
              "      <td>NaN</td>\n",
              "      <td>NaN</td>\n",
              "      <td>NaN</td>\n",
              "      <td>NaN</td>\n",
              "      <td>NaN</td>\n",
              "      <td>NaN</td>\n",
              "      <td>KISSIMMEE</td>\n",
              "      <td>FL</td>\n",
              "      <td>USA</td>\n",
              "      <td></td>\n",
              "      <td></td>\n",
              "      <td>ISM</td>\n",
              "      <td>KISSIMMEE</td>\n",
              "      <td>NONE</td>\n",
              "      <td>NaN</td>\n",
              "      <td>NaN</td>\n",
              "      <td>NaN</td>\n",
              "      <td>2.0</td>\n",
              "      <td>VMC</td>\n",
              "      <td>NaN</td>\n",
              "      <td>NaN</td>\n",
              "      <td>NaN</td>\n",
              "      <td>NaN</td>\n",
              "    </tr>\n",
              "  </tbody>\n",
              "</table>\n",
              "</div>"
            ],
            "text/plain": [
              "   ï»¿           ev_id     ntsb_no     ev_date ev_type  Aircraft_Key acft_category flight purpose acft_make acft_model homebuilt  num_eng  eng_no eng_type damage far_part regis_no          ev_city ev_state ev_country latitude longitude ev_nr_apt_id                   apt_name ev_highest_injury  inj_tot_f  inj_tot_s  inj_tot_m  inj_tot_n wx_cond_basic  Occurrence_No broad phase of flight specific phase of flight Occurrence\n",
              "0    0  20001208X07301  IAD97FA038  1997-01-01     ACC           NaN           NaN            NaN       NaN        NaN       NaN      NaN     NaN      NaN    NaN      NaN      NaN  BITTINGER             MD        USA                                                                         FATL        1.0        NaN        NaN        NaN           IMC            NaN                   NaN                      NaN        NaN\n",
              "1    1  20001208X07326  MIA97LA054  1997-01-01     ACC           NaN           NaN            NaN       NaN        NaN       NaN      NaN     NaN      NaN    NaN      NaN      NaN  DAYTONA BEACH         FL        USA                            DAB   DAYTONA BEACH INT'L                    SERS        NaN        2.0        NaN        NaN           VMC            NaN                   NaN                      NaN        NaN\n",
              "2    2  20001208X07265  CHI97LA049  1997-01-01     ACC           NaN           NaN            NaN       NaN        NaN       NaN      NaN     NaN      NaN    NaN      NaN      NaN  KANSAS CITY           MO        USA                            MKC   KANSAS CITY DOWNTOWN                   NONE        NaN        NaN        NaN        2.0           IMC            NaN                   NaN                      NaN        NaN\n",
              "3    3  20001208X07327  MIA97LA055  1997-01-01     ACC           NaN           NaN            NaN       NaN        NaN       NaN      NaN     NaN      NaN    NaN      NaN      NaN  FLORENCE              SC        USA                                                                         SERS        NaN        3.0        1.0        NaN           IMC            NaN                   NaN                      NaN        NaN\n",
              "4    4  20001208X07329  MIA97LA058  1997-01-01     ACC           NaN           NaN            NaN       NaN        NaN       NaN      NaN     NaN      NaN    NaN      NaN      NaN  KISSIMMEE             FL        USA                            ISM   KISSIMMEE                              NONE        NaN        NaN        NaN        2.0           VMC            NaN                   NaN                      NaN        NaN"
            ]
          },
          "execution_count": 34,
          "metadata": {},
          "output_type": "execute_result"
        }
      ],
      "source": [
        "# Show all columns by disabling truncation\n",
        "pd.set_option('display.max_columns', None)\n",
        "\n",
        "# Disable column-wise line wrapping\n",
        "pd.set_option('display.expand_frame_repr', False)\n",
        "\n",
        "Engine.head()"
      ]
    },
    {
      "cell_type": "code",
      "execution_count": null,
      "metadata": {
        "id": "z-2zkkRIdVwn",
        "outputId": "f1bc3464-4ca0-489a-a89b-2a7fa4ad6355"
      },
      "outputs": [
        {
          "data": {
            "text/html": [
              "<div>\n",
              "<style scoped>\n",
              "    .dataframe tbody tr th:only-of-type {\n",
              "        vertical-align: middle;\n",
              "    }\n",
              "\n",
              "    .dataframe tbody tr th {\n",
              "        vertical-align: top;\n",
              "    }\n",
              "\n",
              "    .dataframe thead th {\n",
              "        text-align: right;\n",
              "    }\n",
              "</style>\n",
              "<table border=\"1\" class=\"dataframe\">\n",
              "  <thead>\n",
              "    <tr style=\"text-align: right;\">\n",
              "      <th></th>\n",
              "      <th>ï»¿</th>\n",
              "      <th>ev_id</th>\n",
              "      <th>ntsb_no</th>\n",
              "      <th>ev_date</th>\n",
              "      <th>ev_type</th>\n",
              "      <th>Aircraft_Key</th>\n",
              "      <th>acft_category</th>\n",
              "      <th>flight purpose</th>\n",
              "      <th>acft_make</th>\n",
              "      <th>acft_model</th>\n",
              "      <th>homebuilt</th>\n",
              "      <th>num_eng</th>\n",
              "      <th>eng_no</th>\n",
              "      <th>eng_type</th>\n",
              "      <th>damage</th>\n",
              "      <th>far_part</th>\n",
              "      <th>regis_no</th>\n",
              "      <th>ev_city</th>\n",
              "      <th>ev_state</th>\n",
              "      <th>ev_country</th>\n",
              "      <th>latitude</th>\n",
              "      <th>longitude</th>\n",
              "      <th>ev_nr_apt_id</th>\n",
              "      <th>apt_name</th>\n",
              "      <th>ev_highest_injury</th>\n",
              "      <th>inj_tot_f</th>\n",
              "      <th>inj_tot_s</th>\n",
              "      <th>inj_tot_m</th>\n",
              "      <th>inj_tot_n</th>\n",
              "      <th>wx_cond_basic</th>\n",
              "      <th>Occurrence_No</th>\n",
              "      <th>broad phase of flight</th>\n",
              "      <th>specific phase of flight</th>\n",
              "      <th>Occurrence</th>\n",
              "    </tr>\n",
              "  </thead>\n",
              "  <tbody>\n",
              "    <tr>\n",
              "      <th>100748</th>\n",
              "      <td>100748</td>\n",
              "      <td>20230425107122</td>\n",
              "      <td>WPR23LA165</td>\n",
              "      <td>2023-04-24</td>\n",
              "      <td>ACC</td>\n",
              "      <td>1.0</td>\n",
              "      <td>AIR</td>\n",
              "      <td>Personal</td>\n",
              "      <td>ONEAL J R/ONEAL R C</td>\n",
              "      <td>EDI EXPRESS</td>\n",
              "      <td>Y</td>\n",
              "      <td>1.0</td>\n",
              "      <td>NaN</td>\n",
              "      <td>NaN</td>\n",
              "      <td>MINR</td>\n",
              "      <td>091</td>\n",
              "      <td>N92734</td>\n",
              "      <td>Tracy</td>\n",
              "      <td>CA</td>\n",
              "      <td>USA</td>\n",
              "      <td>374120N</td>\n",
              "      <td>1212630W</td>\n",
              "      <td>TCY</td>\n",
              "      <td>TRACY MUNI</td>\n",
              "      <td>NONE</td>\n",
              "      <td>0.0</td>\n",
              "      <td>0.0</td>\n",
              "      <td>0.0</td>\n",
              "      <td>1.0</td>\n",
              "      <td>VMC</td>\n",
              "      <td>NaN</td>\n",
              "      <td>NaN</td>\n",
              "      <td>NaN</td>\n",
              "      <td>NaN</td>\n",
              "    </tr>\n",
              "    <tr>\n",
              "      <th>100749</th>\n",
              "      <td>100749</td>\n",
              "      <td>20230430107167</td>\n",
              "      <td>WPR23FA172</td>\n",
              "      <td>2023-04-30</td>\n",
              "      <td>ACC</td>\n",
              "      <td>1.0</td>\n",
              "      <td>NaN</td>\n",
              "      <td>NaN</td>\n",
              "      <td>CESSNA</td>\n",
              "      <td>172S</td>\n",
              "      <td>N</td>\n",
              "      <td>NaN</td>\n",
              "      <td>NaN</td>\n",
              "      <td>NaN</td>\n",
              "      <td>NaN</td>\n",
              "      <td>NaN</td>\n",
              "      <td>N575ND</td>\n",
              "      <td>Los Angeles</td>\n",
              "      <td>CA</td>\n",
              "      <td>USA</td>\n",
              "      <td>NaN</td>\n",
              "      <td>NaN</td>\n",
              "      <td>NaN</td>\n",
              "      <td>NaN</td>\n",
              "      <td>FATL</td>\n",
              "      <td>1.0</td>\n",
              "      <td>0.0</td>\n",
              "      <td>0.0</td>\n",
              "      <td>0.0</td>\n",
              "      <td>NaN</td>\n",
              "      <td>NaN</td>\n",
              "      <td>NaN</td>\n",
              "      <td>NaN</td>\n",
              "      <td>NaN</td>\n",
              "    </tr>\n",
              "    <tr>\n",
              "      <th>100750</th>\n",
              "      <td>100750</td>\n",
              "      <td>20230426107154</td>\n",
              "      <td>WPR23LA168</td>\n",
              "      <td>2025-04-26</td>\n",
              "      <td>ACC</td>\n",
              "      <td>1.0</td>\n",
              "      <td>NaN</td>\n",
              "      <td>Personal</td>\n",
              "      <td>CESSNA</td>\n",
              "      <td>140</td>\n",
              "      <td>N</td>\n",
              "      <td>NaN</td>\n",
              "      <td>NaN</td>\n",
              "      <td>NaN</td>\n",
              "      <td>NaN</td>\n",
              "      <td>091</td>\n",
              "      <td>N140D</td>\n",
              "      <td>Nyssa</td>\n",
              "      <td>OR</td>\n",
              "      <td>USA</td>\n",
              "      <td>NaN</td>\n",
              "      <td>NaN</td>\n",
              "      <td>NaN</td>\n",
              "      <td>NaN</td>\n",
              "      <td>MINR</td>\n",
              "      <td>0.0</td>\n",
              "      <td>0.0</td>\n",
              "      <td>0.0</td>\n",
              "      <td>0.0</td>\n",
              "      <td>NaN</td>\n",
              "      <td>NaN</td>\n",
              "      <td>NaN</td>\n",
              "      <td>NaN</td>\n",
              "      <td>NaN</td>\n",
              "    </tr>\n",
              "    <tr>\n",
              "      <th>100751</th>\n",
              "      <td>100751</td>\n",
              "      <td>20001218X45444</td>\n",
              "      <td>SEA87LA080</td>\n",
              "      <td>2048-10-24</td>\n",
              "      <td>ACC</td>\n",
              "      <td>NaN</td>\n",
              "      <td>NaN</td>\n",
              "      <td>NaN</td>\n",
              "      <td>NaN</td>\n",
              "      <td>NaN</td>\n",
              "      <td>NaN</td>\n",
              "      <td>NaN</td>\n",
              "      <td>NaN</td>\n",
              "      <td>NaN</td>\n",
              "      <td>NaN</td>\n",
              "      <td>NaN</td>\n",
              "      <td>NaN</td>\n",
              "      <td>MOOSE CREEK</td>\n",
              "      <td>ID</td>\n",
              "      <td>USA</td>\n",
              "      <td></td>\n",
              "      <td></td>\n",
              "      <td></td>\n",
              "      <td></td>\n",
              "      <td>FATL</td>\n",
              "      <td>2.0</td>\n",
              "      <td>NaN</td>\n",
              "      <td>NaN</td>\n",
              "      <td>NaN</td>\n",
              "      <td>UNK</td>\n",
              "      <td>NaN</td>\n",
              "      <td>NaN</td>\n",
              "      <td>NaN</td>\n",
              "      <td>NaN</td>\n",
              "    </tr>\n",
              "    <tr>\n",
              "      <th>100752</th>\n",
              "      <td>100752</td>\n",
              "      <td>20001218X45447</td>\n",
              "      <td>LAX94LA336</td>\n",
              "      <td>2062-07-19</td>\n",
              "      <td>ACC</td>\n",
              "      <td>NaN</td>\n",
              "      <td>NaN</td>\n",
              "      <td>NaN</td>\n",
              "      <td>NaN</td>\n",
              "      <td>NaN</td>\n",
              "      <td>NaN</td>\n",
              "      <td>NaN</td>\n",
              "      <td>NaN</td>\n",
              "      <td>NaN</td>\n",
              "      <td>NaN</td>\n",
              "      <td>NaN</td>\n",
              "      <td>NaN</td>\n",
              "      <td>BRIDGEPORT</td>\n",
              "      <td>CA</td>\n",
              "      <td>USA</td>\n",
              "      <td></td>\n",
              "      <td></td>\n",
              "      <td></td>\n",
              "      <td></td>\n",
              "      <td>FATL</td>\n",
              "      <td>4.0</td>\n",
              "      <td>NaN</td>\n",
              "      <td>NaN</td>\n",
              "      <td>NaN</td>\n",
              "      <td>UNK</td>\n",
              "      <td>NaN</td>\n",
              "      <td>NaN</td>\n",
              "      <td>NaN</td>\n",
              "      <td>NaN</td>\n",
              "    </tr>\n",
              "  </tbody>\n",
              "</table>\n",
              "</div>"
            ],
            "text/plain": [
              "           ï»¿           ev_id     ntsb_no     ev_date ev_type  Aircraft_Key acft_category flight purpose            acft_make   acft_model homebuilt  num_eng  eng_no eng_type damage far_part regis_no          ev_city ev_state ev_country latitude longitude ev_nr_apt_id                   apt_name ev_highest_injury  inj_tot_f  inj_tot_s  inj_tot_m  inj_tot_n wx_cond_basic  Occurrence_No broad phase of flight specific phase of flight Occurrence\n",
              "100748  100748  20230425107122  WPR23LA165  2023-04-24     ACC           1.0           AIR       Personal  ONEAL J R/ONEAL R C  EDI EXPRESS         Y      1.0     NaN      NaN   MINR      091   N92734            Tracy       CA        USA  374120N  1212630W          TCY                 TRACY MUNI              NONE        0.0        0.0        0.0        1.0           VMC            NaN                   NaN                      NaN        NaN\n",
              "100749  100749  20230430107167  WPR23FA172  2023-04-30     ACC           1.0           NaN            NaN               CESSNA         172S         N      NaN     NaN      NaN    NaN      NaN   N575ND      Los Angeles       CA        USA      NaN       NaN          NaN                        NaN              FATL        1.0        0.0        0.0        0.0           NaN            NaN                   NaN                      NaN        NaN\n",
              "100750  100750  20230426107154  WPR23LA168  2025-04-26     ACC           1.0           NaN       Personal               CESSNA          140         N      NaN     NaN      NaN    NaN      091    N140D            Nyssa       OR        USA      NaN       NaN          NaN                        NaN              MINR        0.0        0.0        0.0        0.0           NaN            NaN                   NaN                      NaN        NaN\n",
              "100751  100751  20001218X45444  SEA87LA080  2048-10-24     ACC           NaN           NaN            NaN                  NaN          NaN       NaN      NaN     NaN      NaN    NaN      NaN      NaN  MOOSE CREEK           ID        USA                                                                         FATL        2.0        NaN        NaN        NaN           UNK            NaN                   NaN                      NaN        NaN\n",
              "100752  100752  20001218X45447  LAX94LA336  2062-07-19     ACC           NaN           NaN            NaN                  NaN          NaN       NaN      NaN     NaN      NaN    NaN      NaN      NaN  BRIDGEPORT            CA        USA                                                                         FATL        4.0        NaN        NaN        NaN           UNK            NaN                   NaN                      NaN        NaN"
            ]
          },
          "execution_count": 35,
          "metadata": {},
          "output_type": "execute_result"
        }
      ],
      "source": [
        "Engine.tail()"
      ]
    },
    {
      "cell_type": "code",
      "execution_count": null,
      "metadata": {
        "id": "KI7WbglPdVwn",
        "outputId": "58d2f045-dbb7-4674-991c-ebd69a9542a8"
      },
      "outputs": [
        {
          "name": "stdout",
          "output_type": "stream",
          "text": [
            "<class 'pandas.core.frame.DataFrame'>\n",
            "RangeIndex: 100753 entries, 0 to 100752\n",
            "Data columns (total 34 columns):\n",
            " #   Column                    Non-Null Count   Dtype  \n",
            "---  ------                    --------------   -----  \n",
            " 0   ï»¿                       100753 non-null  int64  \n",
            " 1   ev_id                     100753 non-null  object \n",
            " 2   ntsb_no                   100753 non-null  object \n",
            " 3   ev_date                   100753 non-null  object \n",
            " 4   ev_type                   100753 non-null  object \n",
            " 5   Aircraft_Key              91383 non-null   float64\n",
            " 6   acft_category             91027 non-null   object \n",
            " 7   flight purpose            77472 non-null   object \n",
            " 8   acft_make                 91322 non-null   object \n",
            " 9   acft_model                91298 non-null   object \n",
            " 10  homebuilt                 91383 non-null   object \n",
            " 11  num_eng                   85589 non-null   float64\n",
            " 12  eng_no                    84460 non-null   float64\n",
            " 13  eng_type                  83647 non-null   object \n",
            " 14  damage                    89251 non-null   object \n",
            " 15  far_part                  90612 non-null   object \n",
            " 16  regis_no                  90437 non-null   object \n",
            " 17  ev_city                   100697 non-null  object \n",
            " 18  ev_state                  94233 non-null   object \n",
            " 19  ev_country                100634 non-null  object \n",
            " 20  latitude                  90856 non-null   object \n",
            " 21  longitude                 90863 non-null   object \n",
            " 22  ev_nr_apt_id              68555 non-null   object \n",
            " 23  apt_name                  69488 non-null   object \n",
            " 24  ev_highest_injury         99301 non-null   object \n",
            " 25  inj_tot_f                 68711 non-null   float64\n",
            " 26  inj_tot_s                 66230 non-null   float64\n",
            " 27  inj_tot_m                 68495 non-null   float64\n",
            " 28  inj_tot_n                 83814 non-null   float64\n",
            " 29  wx_cond_basic             95806 non-null   object \n",
            " 30  Occurrence_No             88609 non-null   float64\n",
            " 31  broad phase of flight     88609 non-null   object \n",
            " 32  specific phase of flight  88609 non-null   object \n",
            " 33  Occurrence                88609 non-null   object \n",
            "dtypes: float64(8), int64(1), object(25)\n",
            "memory usage: 26.1+ MB\n"
          ]
        }
      ],
      "source": [
        "Engine.info()"
      ]
    },
    {
      "cell_type": "code",
      "execution_count": null,
      "metadata": {
        "id": "CzcXZXB7dVwn",
        "outputId": "c83c41f0-6a3a-4b84-8842-a2369d91d315"
      },
      "outputs": [
        {
          "data": {
            "text/html": [
              "<div>\n",
              "<style scoped>\n",
              "    .dataframe tbody tr th:only-of-type {\n",
              "        vertical-align: middle;\n",
              "    }\n",
              "\n",
              "    .dataframe tbody tr th {\n",
              "        vertical-align: top;\n",
              "    }\n",
              "\n",
              "    .dataframe thead th {\n",
              "        text-align: right;\n",
              "    }\n",
              "</style>\n",
              "<table border=\"1\" class=\"dataframe\">\n",
              "  <thead>\n",
              "    <tr style=\"text-align: right;\">\n",
              "      <th></th>\n",
              "      <th>ï»¿</th>\n",
              "      <th>Aircraft_Key</th>\n",
              "      <th>num_eng</th>\n",
              "      <th>eng_no</th>\n",
              "      <th>inj_tot_f</th>\n",
              "      <th>inj_tot_s</th>\n",
              "      <th>inj_tot_m</th>\n",
              "      <th>inj_tot_n</th>\n",
              "      <th>Occurrence_No</th>\n",
              "    </tr>\n",
              "  </thead>\n",
              "  <tbody>\n",
              "    <tr>\n",
              "      <th>count</th>\n",
              "      <td>100753.000000</td>\n",
              "      <td>91383.000000</td>\n",
              "      <td>85589.000000</td>\n",
              "      <td>84460.000000</td>\n",
              "      <td>68711.000000</td>\n",
              "      <td>66230.000000</td>\n",
              "      <td>68495.000000</td>\n",
              "      <td>83814.000000</td>\n",
              "      <td>88609.000000</td>\n",
              "    </tr>\n",
              "    <tr>\n",
              "      <th>mean</th>\n",
              "      <td>50376.000000</td>\n",
              "      <td>1.000131</td>\n",
              "      <td>1.190492</td>\n",
              "      <td>1.091641</td>\n",
              "      <td>0.765773</td>\n",
              "      <td>0.314782</td>\n",
              "      <td>0.398905</td>\n",
              "      <td>5.518302</td>\n",
              "      <td>1.956573</td>\n",
              "    </tr>\n",
              "    <tr>\n",
              "      <th>std</th>\n",
              "      <td>29085.030173</td>\n",
              "      <td>0.011459</td>\n",
              "      <td>0.476197</td>\n",
              "      <td>0.319928</td>\n",
              "      <td>5.659571</td>\n",
              "      <td>1.062565</td>\n",
              "      <td>2.264626</td>\n",
              "      <td>27.375771</td>\n",
              "      <td>1.087303</td>\n",
              "    </tr>\n",
              "    <tr>\n",
              "      <th>min</th>\n",
              "      <td>0.000000</td>\n",
              "      <td>1.000000</td>\n",
              "      <td>0.000000</td>\n",
              "      <td>1.000000</td>\n",
              "      <td>0.000000</td>\n",
              "      <td>0.000000</td>\n",
              "      <td>0.000000</td>\n",
              "      <td>0.000000</td>\n",
              "      <td>1.000000</td>\n",
              "    </tr>\n",
              "    <tr>\n",
              "      <th>25%</th>\n",
              "      <td>25188.000000</td>\n",
              "      <td>1.000000</td>\n",
              "      <td>1.000000</td>\n",
              "      <td>1.000000</td>\n",
              "      <td>0.000000</td>\n",
              "      <td>0.000000</td>\n",
              "      <td>0.000000</td>\n",
              "      <td>0.000000</td>\n",
              "      <td>1.000000</td>\n",
              "    </tr>\n",
              "    <tr>\n",
              "      <th>50%</th>\n",
              "      <td>50376.000000</td>\n",
              "      <td>1.000000</td>\n",
              "      <td>1.000000</td>\n",
              "      <td>1.000000</td>\n",
              "      <td>0.000000</td>\n",
              "      <td>0.000000</td>\n",
              "      <td>0.000000</td>\n",
              "      <td>1.000000</td>\n",
              "      <td>2.000000</td>\n",
              "    </tr>\n",
              "    <tr>\n",
              "      <th>75%</th>\n",
              "      <td>75564.000000</td>\n",
              "      <td>1.000000</td>\n",
              "      <td>1.000000</td>\n",
              "      <td>1.000000</td>\n",
              "      <td>1.000000</td>\n",
              "      <td>0.000000</td>\n",
              "      <td>0.000000</td>\n",
              "      <td>2.000000</td>\n",
              "      <td>3.000000</td>\n",
              "    </tr>\n",
              "    <tr>\n",
              "      <th>max</th>\n",
              "      <td>100752.000000</td>\n",
              "      <td>2.000000</td>\n",
              "      <td>8.000000</td>\n",
              "      <td>9.000000</td>\n",
              "      <td>295.000000</td>\n",
              "      <td>59.000000</td>\n",
              "      <td>380.000000</td>\n",
              "      <td>699.000000</td>\n",
              "      <td>16.000000</td>\n",
              "    </tr>\n",
              "  </tbody>\n",
              "</table>\n",
              "</div>"
            ],
            "text/plain": [
              "                 ï»¿  Aircraft_Key       num_eng        eng_no     inj_tot_f     inj_tot_s     inj_tot_m     inj_tot_n  Occurrence_No\n",
              "count  100753.000000  91383.000000  85589.000000  84460.000000  68711.000000  66230.000000  68495.000000  83814.000000   88609.000000\n",
              "mean    50376.000000      1.000131      1.190492      1.091641      0.765773      0.314782      0.398905      5.518302       1.956573\n",
              "std     29085.030173      0.011459      0.476197      0.319928      5.659571      1.062565      2.264626     27.375771       1.087303\n",
              "min         0.000000      1.000000      0.000000      1.000000      0.000000      0.000000      0.000000      0.000000       1.000000\n",
              "25%     25188.000000      1.000000      1.000000      1.000000      0.000000      0.000000      0.000000      0.000000       1.000000\n",
              "50%     50376.000000      1.000000      1.000000      1.000000      0.000000      0.000000      0.000000      1.000000       2.000000\n",
              "75%     75564.000000      1.000000      1.000000      1.000000      1.000000      0.000000      0.000000      2.000000       3.000000\n",
              "max    100752.000000      2.000000      8.000000      9.000000    295.000000     59.000000    380.000000    699.000000      16.000000"
            ]
          },
          "execution_count": 37,
          "metadata": {},
          "output_type": "execute_result"
        }
      ],
      "source": [
        "Engine.describe()"
      ]
    },
    {
      "cell_type": "markdown",
      "metadata": {
        "id": "2saB9TtjdVwo"
      },
      "source": [
        "##### Sort the dataframe to see the earliest date to make sure it's not older than 1997"
      ]
    },
    {
      "cell_type": "code",
      "execution_count": null,
      "metadata": {
        "id": "MJ9dUclOdVwo",
        "outputId": "adc5fae4-dd04-4ebc-a566-552a9d9892e4"
      },
      "outputs": [
        {
          "data": {
            "text/plain": [
              "0    1997-01-01\n",
              "1    1997-01-01\n",
              "2    1997-01-01\n",
              "3    1997-01-01\n",
              "4    1997-01-01\n",
              "Name: ev_date, dtype: object"
            ]
          },
          "execution_count": 38,
          "metadata": {},
          "output_type": "execute_result"
        }
      ],
      "source": [
        "event_date = 'ev_date'\n",
        "\n",
        "earliest_elements = Engine.sort_values(event_date)[event_date].head(5)\n",
        "\n",
        "earliest_elements"
      ]
    },
    {
      "cell_type": "markdown",
      "metadata": {
        "id": "3aL59_efdVwo"
      },
      "source": [
        "##### Define a function that makes it easier for me to check the unique elements of any column that I am interested in that particular moment."
      ]
    },
    {
      "cell_type": "code",
      "execution_count": null,
      "metadata": {
        "id": "OyrJcASddVwo"
      },
      "outputs": [],
      "source": [
        "#CODE REFACTORING so that I wouldn't have to copy and paste the same code block over and over;\n",
        "#instead I can just call on 'print_unique_inputs'\"\n",
        "\n",
        "def print_unique_inputs(Engine, column_name):\n",
        "\n",
        "    unique_inputs = Engine[column_name].unique()\n",
        "    num_unique_inputs = len(unique_inputs)\n",
        "\n",
        "    print(\"Unique inputs for the '{}' column:\".format(column_name))\n",
        "    print(unique_inputs)\n",
        "\n",
        "    print(\"Number of unique inputs for the '{}' column: {}\".format(column_name, num_unique_inputs))\n",
        "    \n",
        "    return unique_inputs"
      ]
    },
    {
      "cell_type": "markdown",
      "metadata": {
        "id": "L8hNMEq4dVwo"
      },
      "source": [
        "##### Remove all leading/trailing spaces from elements in entire DataFrame."
      ]
    },
    {
      "cell_type": "code",
      "execution_count": null,
      "metadata": {
        "id": "FkgMcSundVwo"
      },
      "outputs": [],
      "source": [
        "Engine = Engine.apply(lambda x: x.str.strip() if x.dtype == 'object' else x)"
      ]
    },
    {
      "cell_type": "markdown",
      "metadata": {
        "id": "L42MCQHpdVwo"
      },
      "source": [
        "##### Look at unique elements within 'num_eng' column (Number of Engines)"
      ]
    },
    {
      "cell_type": "code",
      "execution_count": null,
      "metadata": {
        "id": "jQ4p4YuRdVwo",
        "outputId": "656acb1a-03f6-4251-fa7f-653979240786"
      },
      "outputs": [
        {
          "name": "stdout",
          "output_type": "stream",
          "text": [
            "Unique inputs for the 'num_eng' column:\n",
            "[nan  2.  4.  1.  3.  0.  8.  6.]\n",
            "Number of unique inputs for the 'num_eng' column: 8\n"
          ]
        }
      ],
      "source": [
        "target_column = 'num_eng'\n",
        "unique_inputs = print_unique_inputs(Engine, target_column)"
      ]
    },
    {
      "cell_type": "code",
      "execution_count": null,
      "metadata": {
        "id": "8qMElaqadVwo",
        "outputId": "9d9b0601-e58a-436c-90b5-7df1cd5f08bf"
      },
      "outputs": [
        {
          "name": "stdout",
          "output_type": "stream",
          "text": [
            "damage   DEST  MINR  NONE   SUBS  UNK\n",
            "num_eng                              \n",
            "0.0        41    86    42    856    2\n",
            "1.0      7622   425    74  60101   43\n",
            "2.0      3191  1093   343   9668   12\n",
            "3.0        26    89    12    113    0\n",
            "4.0        77   131    26    155    0\n",
            "6.0         0     0     0      1    0\n",
            "8.0         0     0     0     16    0\n"
          ]
        }
      ],
      "source": [
        "num_eng_dmg_df = Engine.dropna(subset = ['num_eng', 'damage'])\n",
        "\n",
        "frequency_table = pd.crosstab(num_eng_dmg_df['num_eng'], num_eng_dmg_df['damage'])\n",
        "\n",
        "print(frequency_table)"
      ]
    },
    {
      "cell_type": "code",
      "execution_count": null,
      "metadata": {
        "id": "9bF2FdB7dVwp"
      },
      "outputs": [],
      "source": [
        "import matplotlib.pyplot as plt"
      ]
    },
    {
      "cell_type": "code",
      "execution_count": null,
      "metadata": {
        "id": "9llDIdKsdVwp",
        "outputId": "7c888974-e46f-4ebf-e1f4-bc8267314ca6"
      },
      "outputs": [
        {
          "data": {
            "text/plain": [
              "<Figure size 2000x800 with 0 Axes>"
            ]
          },
          "metadata": {},
          "output_type": "display_data"
        },
        {
          "data": {
            "image/png": "[encoded data removed]",
            "text/plain": [
              "<Figure size 640x480 with 1 Axes>"
            ]
          },
          "metadata": {},
          "output_type": "display_data"
        }
      ],
      "source": [
        "#transpose frequency table (swap x and y values in plot)\n",
        "#frequency_table = frequency_table.transpose() <-- uncomment this to swap values every time you run this cell.\n",
        "\n",
        "#create a color palette\n",
        "colors = ['red', 'yellow', 'green', 'pink']\n",
        "\n",
        "#figure size\n",
        "plt.figure(figsize=(20, 8))\n",
        "\n",
        "#plot frequency table\n",
        "frequency_table.plot(kind = 'bar', stacked = True, color = colors)\n",
        "\n",
        "#labeling \n",
        "plt.xlabel('Number of Engines')\n",
        "plt.ylabel('Frequency')\n",
        "plt.title('Frequency of Aircraft Damage by Number of Engines')\n",
        "\n",
        "#changes names of inputs on x-axis \n",
        "ax = plt.gca()\n",
        "ax.set_xticklabels(['0','1','2','3','4', '6','8', ])\n",
        "\n",
        "#changing legend labels\n",
        "labels = ['Destroyed', 'Minor', 'None', 'Substantial', 'Unknown']\n",
        "plt.legend(labels)\n",
        "\n",
        "#display plot\n",
        "plt.show()"
      ]
    },
    {
      "cell_type": "markdown",
      "metadata": {
        "id": "HzMwD9nBdVwq"
      },
      "source": [
        "We can see from the data analysis that the majority of accident/incident damage is substantial and involves aircraft with 1 engine. Of the aicraft that were completely destroyed in the accident/incident, most of these aircraft operated on 1 engine. "
      ]
    },
    {
      "cell_type": "markdown",
      "metadata": {
        "id": "AJmmIJahdVwq"
      },
      "source": [
        "## Conclusions"
      ]
    },
    {
      "cell_type": "markdown",
      "metadata": {
        "id": "pvuKYtMndVwq"
      },
      "source": [
        "Our analysis of the aviation data set provided us with three actionable insights for the head of aviation to consider:"
      ]
    },
    {
      "cell_type": "markdown",
      "metadata": {
        "id": "_SVmyHFedVwq"
      },
      "source": [
        "### Business Recommendations\n",
        " \n",
        "1.   Offer Private/Business flights only because personal and instructional flights saw a higher rate of accidents. Flying Private flights will allow Fly-Hard to minimize total number of accidents.\n",
        "\n",
        "2.   Purchase and operate on aircraft that use the turbo fan engine rather than the reciprocating engine. Turbon fan engines saw lower rates of substanital damage on aircraft as well as lower rates of completely destoryed aircraft. Our specific plane recommendations includes the Beoing 747, the Mcdonnell Douglas DC-8-71F, and the Embraer EMB-145LR.\n",
        "\n",
        "1.  Purchase and operate aircraft that either have 2 or 4 engines, dependent on need. Needs include econimical considerations, flight distance, and number of passengers.\n",
        "\n",
        "\n",
        "\n",
        "\n"
      ]
    },
    {
      "cell_type": "markdown",
      "metadata": {
        "id": "nP1pCSd2dVwq"
      },
      "source": [
        "### Next Steps"
      ]
    },
    {
      "cell_type": "markdown",
      "metadata": {
        "id": "T1E4nL6gdVwq"
      },
      "source": [
        " * Explore a complete dataset\n",
        "\n",
        " * EDA on the risks involved in international endeavors\n"
      ]
    },
    {
      "cell_type": "markdown",
      "metadata": {
        "id": "5fmKV71qdVwq"
      },
      "source": [
        "After exploring and assessing our recommendations, we wanted to lay the foundation of what future data analysis would look like as we continue to venture into the aviation industry. \n",
        "\n",
        "Because of the limitation of the data only involving aircraft in accidents, we couldn’t apply statistical measures to compare with the total volume of flights for the years 1997-2023. In order to gain better insight on accidents as they relate to total flights, we would like to complete a similar analysis using total flight data from these years in order to provide more specific actionable insights. \n",
        "\n",
        "We also discussed the possibility of venturing into the international aviation industry as our data set was limited to minimal international data. We could build off what we know about safer models, engine types, and builds in order to reduce the risk of future international endeavors. \n"
      ]
    }
  ],
  "metadata": {
    "kernelspec": {
      "display_name": "base",
      "language": "python",
      "name": "python3"
    },
    "language_info": {
      "codemirror_mode": {
        "name": "ipython",
        "version": 3
      },
      "file_extension": ".py",
      "mimetype": "text/x-python",
      "name": "python",
      "nbconvert_exporter": "python",
      "pygments_lexer": "ipython3",
      "version": "3.10.9"
    },
    "colab": {
      "provenance": []
    }
  },
  "nbformat": 4,
  "nbformat_minor": 0
}