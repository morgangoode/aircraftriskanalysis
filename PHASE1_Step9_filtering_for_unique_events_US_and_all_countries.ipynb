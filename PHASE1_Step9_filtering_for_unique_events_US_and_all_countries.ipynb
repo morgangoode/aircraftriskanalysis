{
  "nbformat": 4,
  "nbformat_minor": 0,
  "metadata": {
    "colab": {
      "provenance": []
    },
    "kernelspec": {
      "name": "python3",
      "display_name": "Python 3"
    },
    "language_info": {
      "name": "python"
    }
  },
  "cells": [
    {
      "cell_type": "markdown",
      "source": [
        "#Creating the filtered dataframes and exporting them to csv. Each will filter out the sequence of events, leaving only unique aircraft and events.\n",
        "\n",
        "\n",
        "1.   `df_unique_aircraft_event` contains events and the aircraft involved in them from 1997 - 2023\n",
        "1.   `df_unique_aircraft_event_usa` contains events which took place in the USA and the aircraft involved in them from 1997 - 2023\n",
        "2.   `df_unique_aircraft_event_airplanes` contains events and the airplanes (all other aircraft are excluded) involved in them from 1997 - 2023 \n",
        "2.   `df_unique_aircraft_event_usa_airplanes` contains contains events which took place in the USA and the airplanes (all other aircraft are excluded) involved in them from 1997 - 2023 \n",
        "\n"
      ],
      "metadata": {
        "id": "sS1JrYORHWJ7"
      }
    },
    {
      "cell_type": "markdown",
      "source": [
        "Importing and reading in our merged post1996 dataframe."
      ],
      "metadata": {
        "id": "uRdaKAFsGyym"
      }
    },
    {
      "cell_type": "code",
      "execution_count": null,
      "metadata": {
        "colab": {
          "base_uri": "https://localhost:8080/",
          "height": 74
        },
        "id": "Ol_YgVJd_PwJ",
        "outputId": "3f574b14-9f29-44ef-bb11-a0d083653045"
      },
      "outputs": [
        {
          "output_type": "display_data",
          "data": {
            "text/plain": [
              "<IPython.core.display.HTML object>"
            ],
            "text/html": [
              "\n",
              "     <input type=\"file\" id=\"files-aca60a0f-9208-4ab9-9bf9-eda2b1f3fb21\" name=\"files[]\" multiple disabled\n",
              "        style=\"border:none\" />\n",
              "     <output id=\"result-aca60a0f-9208-4ab9-9bf9-eda2b1f3fb21\">\n",
              "      Upload widget is only available when the cell has been executed in the\n",
              "      current browser session. Please rerun this cell to enable.\n",
              "      </output>\n",
              "      <script>// Copyright 2017 Google LLC\n",
              "//\n",
              "// Licensed under the Apache License, Version 2.0 (the \"License\");\n",
              "// you may not use this file except in compliance with the License.\n",
              "// You may obtain a copy of the License at\n",
              "//\n",
              "//      http://www.apache.org/licenses/LICENSE-2.0\n",
              "//\n",
              "// Unless required by applicable law or agreed to in writing, software\n",
              "// distributed under the License is distributed on an \"AS IS\" BASIS,\n",
              "// WITHOUT WARRANTIES OR CONDITIONS OF ANY KIND, either express or implied.\n",
              "// See the License for the specific language governing permissions and\n",
              "// limitations under the License.\n",
              "\n",
              "/**\n",
              " * @fileoverview Helpers for google.colab Python module.\n",
              " */\n",
              "(function(scope) {\n",
              "function span(text, styleAttributes = {}) {\n",
              "  const element = document.createElement('span');\n",
              "  element.textContent = text;\n",
              "  for (const key of Object.keys(styleAttributes)) {\n",
              "    element.style[key] = styleAttributes[key];\n",
              "  }\n",
              "  return element;\n",
              "}\n",
              "\n",
              "// Max number of bytes which will be uploaded at a time.\n",
              "const MAX_PAYLOAD_SIZE = 100 * 1024;\n",
              "\n",
              "function _uploadFiles(inputId, outputId) {\n",
              "  const steps = uploadFilesStep(inputId, outputId);\n",
              "  const outputElement = document.getElementById(outputId);\n",
              "  // Cache steps on the outputElement to make it available for the next call\n",
              "  // to uploadFilesContinue from Python.\n",
              "  outputElement.steps = steps;\n",
              "\n",
              "  return _uploadFilesContinue(outputId);\n",
              "}\n",
              "\n",
              "// This is roughly an async generator (not supported in the browser yet),\n",
              "// where there are multiple asynchronous steps and the Python side is going\n",
              "// to poll for completion of each step.\n",
              "// This uses a Promise to block the python side on completion of each step,\n",
              "// then passes the result of the previous step as the input to the next step.\n",
              "function _uploadFilesContinue(outputId) {\n",
              "  const outputElement = document.getElementById(outputId);\n",
              "  const steps = outputElement.steps;\n",
              "\n",
              "  const next = steps.next(outputElement.lastPromiseValue);\n",
              "  return Promise.resolve(next.value.promise).then((value) => {\n",
              "    // Cache the last promise value to make it available to the next\n",
              "    // step of the generator.\n",
              "    outputElement.lastPromiseValue = value;\n",
              "    return next.value.response;\n",
              "  });\n",
              "}\n",
              "\n",
              "/**\n",
              " * Generator function which is called between each async step of the upload\n",
              " * process.\n",
              " * @param {string} inputId Element ID of the input file picker element.\n",
              " * @param {string} outputId Element ID of the output display.\n",
              " * @return {!Iterable<!Object>} Iterable of next steps.\n",
              " */\n",
              "function* uploadFilesStep(inputId, outputId) {\n",
              "  const inputElement = document.getElementById(inputId);\n",
              "  inputElement.disabled = false;\n",
              "\n",
              "  const outputElement = document.getElementById(outputId);\n",
              "  outputElement.innerHTML = '';\n",
              "\n",
              "  const pickedPromise = new Promise((resolve) => {\n",
              "    inputElement.addEventListener('change', (e) => {\n",
              "      resolve(e.target.files);\n",
              "    });\n",
              "  });\n",
              "\n",
              "  const cancel = document.createElement('button');\n",
              "  inputElement.parentElement.appendChild(cancel);\n",
              "  cancel.textContent = 'Cancel upload';\n",
              "  const cancelPromise = new Promise((resolve) => {\n",
              "    cancel.onclick = () => {\n",
              "      resolve(null);\n",
              "    };\n",
              "  });\n",
              "\n",
              "  // Wait for the user to pick the files.\n",
              "  const files = yield {\n",
              "    promise: Promise.race([pickedPromise, cancelPromise]),\n",
              "    response: {\n",
              "      action: 'starting',\n",
              "    }\n",
              "  };\n",
              "\n",
              "  cancel.remove();\n",
              "\n",
              "  // Disable the input element since further picks are not allowed.\n",
              "  inputElement.disabled = true;\n",
              "\n",
              "  if (!files) {\n",
              "    return {\n",
              "      response: {\n",
              "        action: 'complete',\n",
              "      }\n",
              "    };\n",
              "  }\n",
              "\n",
              "  for (const file of files) {\n",
              "    const li = document.createElement('li');\n",
              "    li.append(span(file.name, {fontWeight: 'bold'}));\n",
              "    li.append(span(\n",
              "        `(${file.type || 'n/a'}) - ${file.size} bytes, ` +\n",
              "        `last modified: ${\n",
              "            file.lastModifiedDate ? file.lastModifiedDate.toLocaleDateString() :\n",
              "                                    'n/a'} - `));\n",
              "    const percent = span('0% done');\n",
              "    li.appendChild(percent);\n",
              "\n",
              "    outputElement.appendChild(li);\n",
              "\n",
              "    const fileDataPromise = new Promise((resolve) => {\n",
              "      const reader = new FileReader();\n",
              "      reader.onload = (e) => {\n",
              "        resolve(e.target.result);\n",
              "      };\n",
              "      reader.readAsArrayBuffer(file);\n",
              "    });\n",
              "    // Wait for the data to be ready.\n",
              "    let fileData = yield {\n",
              "      promise: fileDataPromise,\n",
              "      response: {\n",
              "        action: 'continue',\n",
              "      }\n",
              "    };\n",
              "\n",
              "    // Use a chunked sending to avoid message size limits. See b/62115660.\n",
              "    let position = 0;\n",
              "    do {\n",
              "      const length = Math.min(fileData.byteLength - position, MAX_PAYLOAD_SIZE);\n",
              "      const chunk = new Uint8Array(fileData, position, length);\n",
              "      position += length;\n",
              "\n",
              "      const base64 = btoa(String.fromCharCode.apply(null, chunk));\n",
              "      yield {\n",
              "        response: {\n",
              "          action: 'append',\n",
              "          file: file.name,\n",
              "          data: base64,\n",
              "        },\n",
              "      };\n",
              "\n",
              "      let percentDone = fileData.byteLength === 0 ?\n",
              "          100 :\n",
              "          Math.round((position / fileData.byteLength) * 100);\n",
              "      percent.textContent = `${percentDone}% done`;\n",
              "\n",
              "    } while (position < fileData.byteLength);\n",
              "  }\n",
              "\n",
              "  // All done.\n",
              "  yield {\n",
              "    response: {\n",
              "      action: 'complete',\n",
              "    }\n",
              "  };\n",
              "}\n",
              "\n",
              "scope.google = scope.google || {};\n",
              "scope.google.colab = scope.google.colab || {};\n",
              "scope.google.colab._files = {\n",
              "  _uploadFiles,\n",
              "  _uploadFilesContinue,\n",
              "};\n",
              "})(self);\n",
              "</script> "
            ]
          },
          "metadata": {}
        },
        {
          "output_type": "stream",
          "name": "stdout",
          "text": [
            "Saving df_post1996.csv to df_post1996.csv\n"
          ]
        }
      ],
      "source": [
        "from google.colab import files\n",
        "uploaded = files.upload()"
      ]
    },
    {
      "cell_type": "code",
      "source": [
        "import pandas as pd"
      ],
      "metadata": {
        "id": "71pB-LZQ_e47"
      },
      "execution_count": null,
      "outputs": []
    },
    {
      "cell_type": "code",
      "source": [
        "df_post1996 = pd.read_csv('df_post1996.csv')"
      ],
      "metadata": {
        "id": "X2ZIOzAg_g8V"
      },
      "execution_count": null,
      "outputs": []
    },
    {
      "cell_type": "markdown",
      "source": [
        "Creating a unique aircraft event dataframe based on event ID and aircraft key \n",
        "so as not to repeat records where in each record is representative of another step in the sequence of events."
      ],
      "metadata": {
        "id": "zUsJLV-RG3_P"
      }
    },
    {
      "cell_type": "code",
      "source": [
        "df_unique_aircraft_event = df_post1996.drop_duplicates(subset=['ev_id', 'Aircraft_Key'])"
      ],
      "metadata": {
        "id": "6pfoFHXx_m1m"
      },
      "execution_count": null,
      "outputs": []
    },
    {
      "cell_type": "code",
      "source": [
        "df_unique_aircraft_event['aircraft category'].nunique()"
      ],
      "metadata": {
        "colab": {
          "base_uri": "https://localhost:8080/"
        },
        "id": "j0Y9K0ogADbk",
        "outputId": "cf3931d2-1178-4305-fd51-f477ad5f4a87"
      },
      "execution_count": null,
      "outputs": [
        {
          "output_type": "execute_result",
          "data": {
            "text/plain": [
              "12"
            ]
          },
          "metadata": {},
          "execution_count": 6
        }
      ]
    },
    {
      "cell_type": "code",
      "source": [
        "df_unique_aircraft_event['aircraft category'].unique()"
      ],
      "metadata": {
        "colab": {
          "base_uri": "https://localhost:8080/"
        },
        "id": "skoyr0jyAIgE",
        "outputId": "4857b81c-3507-4274-c1c0-03cba20af27d"
      },
      "execution_count": null,
      "outputs": [
        {
          "output_type": "execute_result",
          "data": {
            "text/plain": [
              "array([nan, 'Airplane', 'Helicopter', 'Balloon', 'Glider', 'Gyrocraft',\n",
              "       'Blimp', 'Ultralight', 'Powered parachute', 'Powered-Lift',\n",
              "       'Weight shift', 'Unknown', 'Rocket'], dtype=object)"
            ]
          },
          "metadata": {},
          "execution_count": 7
        }
      ]
    },
    {
      "cell_type": "code",
      "source": [
        "len(df_unique_aircraft_event)"
      ],
      "metadata": {
        "colab": {
          "base_uri": "https://localhost:8080/"
        },
        "id": "ndDECRxMEkJ9",
        "outputId": "4de37823-c739-4bc4-a526-02595c865a79"
      },
      "execution_count": null,
      "outputs": [
        {
          "output_type": "execute_result",
          "data": {
            "text/plain": [
              "48024"
            ]
          },
          "metadata": {},
          "execution_count": 8
        }
      ]
    },
    {
      "cell_type": "code",
      "source": [
        "df_unique_aircraft_event['ev_country'].nunique()"
      ],
      "metadata": {
        "colab": {
          "base_uri": "https://localhost:8080/"
        },
        "id": "1fsb-xOXEk_n",
        "outputId": "289ef464-c24e-4884-8554-cffe6db974c7"
      },
      "execution_count": null,
      "outputs": [
        {
          "output_type": "execute_result",
          "data": {
            "text/plain": [
              "185"
            ]
          },
          "metadata": {},
          "execution_count": 9
        }
      ]
    },
    {
      "cell_type": "code",
      "source": [
        "df_unique_aircraft_event['ev_country'].value_counts()"
      ],
      "metadata": {
        "colab": {
          "base_uri": "https://localhost:8080/"
        },
        "id": "5RKr0l3CErw3",
        "outputId": "191bbfc8-b538-48f0-ffff-2762f7ba464c"
      },
      "execution_count": null,
      "outputs": [
        {
          "output_type": "execute_result",
          "data": {
            "text/plain": [
              "USA    42026\n",
              "BR       384\n",
              "AS       346\n",
              "CA       345\n",
              "UK       341\n",
              "       ...  \n",
              "MP         1\n",
              "NH         1\n",
              "BM         1\n",
              "TD         1\n",
              "PF         1\n",
              "Name: ev_country, Length: 185, dtype: int64"
            ]
          },
          "metadata": {},
          "execution_count": 19
        }
      ]
    },
    {
      "cell_type": "markdown",
      "source": [
        "Creating a unique aircraft events dataframe that is airplanes only."
      ],
      "metadata": {
        "id": "Elu_3OJ3G_tH"
      }
    },
    {
      "cell_type": "code",
      "source": [
        "df_unique_aircraft_event_airplanes = df_unique_aircraft_event[df_unique_aircraft_event['aircraft category'] == 'Airplane']"
      ],
      "metadata": {
        "id": "Fpvk5GijKspV"
      },
      "execution_count": null,
      "outputs": []
    },
    {
      "cell_type": "markdown",
      "source": [
        "Creating a unique aircraft events dataframe that is USA only (all aircraft)."
      ],
      "metadata": {
        "id": "cWic-nEFHHIF"
      }
    },
    {
      "cell_type": "code",
      "source": [
        "df_unique_aircraft_event_usa = df_unique_aircraft_event[df_unique_aircraft_event['ev_country'] == 'USA']"
      ],
      "metadata": {
        "id": "dGXdfWhTE1Su"
      },
      "execution_count": null,
      "outputs": []
    },
    {
      "cell_type": "code",
      "source": [
        "df_unique_aircraft_event_usa.info"
      ],
      "metadata": {
        "id": "wTtZKWY4FM14"
      },
      "execution_count": null,
      "outputs": []
    },
    {
      "cell_type": "code",
      "source": [
        "df_unique_aircraft_event_usa['aircraft category'].nunique()"
      ],
      "metadata": {
        "colab": {
          "base_uri": "https://localhost:8080/"
        },
        "id": "6g6CBzznFf-v",
        "outputId": "017624ce-ad9b-445d-a7f9-d574aafe062d"
      },
      "execution_count": null,
      "outputs": [
        {
          "output_type": "execute_result",
          "data": {
            "text/plain": [
              "12"
            ]
          },
          "metadata": {},
          "execution_count": 13
        }
      ]
    },
    {
      "cell_type": "code",
      "source": [
        "df_unique_aircraft_event_usa['aircraft category'].value_counts()"
      ],
      "metadata": {
        "colab": {
          "base_uri": "https://localhost:8080/"
        },
        "id": "eedCvuQKFlw3",
        "outputId": "04d3c928-c68e-490c-df72-c6ba0e01b9d2"
      },
      "execution_count": null,
      "outputs": [
        {
          "output_type": "execute_result",
          "data": {
            "text/plain": [
              "Airplane             28608\n",
              "Helicopter            3372\n",
              "Glider                 569\n",
              "Balloon                263\n",
              "Gyrocraft              212\n",
              "Weight shift           170\n",
              "Powered parachute       89\n",
              "Ultralight              31\n",
              "Blimp                    8\n",
              "Powered-Lift             5\n",
              "Unknown                  2\n",
              "Rocket                   1\n",
              "Name: aircraft category, dtype: int64"
            ]
          },
          "metadata": {},
          "execution_count": 14
        }
      ]
    },
    {
      "cell_type": "markdown",
      "source": [
        "Creating a unique aircraft event dataframe that is USA and airplanes only."
      ],
      "metadata": {
        "id": "znViRYeoHMfX"
      }
    },
    {
      "cell_type": "code",
      "source": [
        "df_unique_aircraft_event_usa_airplanes = df_unique_aircraft_event_usa[df_unique_aircraft_event_usa['aircraft category'] == 'Airplane']"
      ],
      "metadata": {
        "id": "jeirT57PFU9Q"
      },
      "execution_count": null,
      "outputs": []
    },
    {
      "cell_type": "code",
      "source": [
        "df_unique_aircraft_event_usa_airplanes.info"
      ],
      "metadata": {
        "colab": {
          "base_uri": "https://localhost:8080/"
        },
        "id": "pMzOfMfmFOwk",
        "outputId": "3522d1df-d229-4bb7-c81b-8ffdb327aa58"
      },
      "execution_count": null,
      "outputs": [
        {
          "output_type": "execute_result",
          "data": {
            "text/plain": [
              "<bound method DataFrame.info of         Unnamed: 0           ev_id     ntsb_no     ev_date ev_type  \\\n",
              "1311          1311  20001208X08606  DCA97MA058  1997-08-06     ACC   \n",
              "1899          1899  20001208X09225  MIA98LA029  1997-11-08     ACC   \n",
              "2275          2275  20001211X09555  FTW98MA126  1998-02-11     ACC   \n",
              "2371          2371  20001211X09759  NYC98FA073  1998-03-04     ACC   \n",
              "2800          2800  20001211X10051  FTW98FA216  1998-05-16     ACC   \n",
              "...            ...             ...         ...         ...     ...   \n",
              "100742      100742  20230424107106  CEN23LA163  2023-04-22     ACC   \n",
              "100743      100743  20230424107116  ANC23LA030  2023-04-22     ACC   \n",
              "100744      100744  20230425107121  WPR23LA164  2023-04-22     ACC   \n",
              "100745      100745  20230425107126  DCA23LA252  2023-04-22     ACC   \n",
              "100748      100748  20230425107122  WPR23LA165  2023-04-24     ACC   \n",
              "\n",
              "        Aircraft_Key aircraft category flight purpose            acft_make  \\\n",
              "1311             1.0          Airplane            NaN               Boeing   \n",
              "1899             1.0          Airplane       Personal               Cessna   \n",
              "2275             1.0          Airplane  Instructional              Embraer   \n",
              "2371             1.0          Airplane       Personal                Piper   \n",
              "2800             1.0          Airplane       Personal      Beagle Aircraft   \n",
              "...              ...               ...            ...                  ...   \n",
              "100742           1.0          Airplane       Personal               CESSNA   \n",
              "100743           1.0          Airplane       Personal          DEHAVILLAND   \n",
              "100744           1.0          Airplane  Instructional                PIPER   \n",
              "100745           1.0          Airplane            NaN               BOEING   \n",
              "100748           1.0          Airplane       Personal  ONEAL J R/ONEAL R C   \n",
              "\n",
              "               acft_model  ... ev_highest_injury  inj_tot_f  inj_tot_s  \\\n",
              "1311              747-300  ...              FATL      228.0       26.0   \n",
              "1899                 172P  ...              NONE        NaN        NaN   \n",
              "2275               145-ER  ...              SERS        NaN        1.0   \n",
              "2371            PA-23-160  ...              FATL        2.0        NaN   \n",
              "2800                B-206  ...              FATL        3.0        NaN   \n",
              "...                   ...  ...               ...        ...        ...   \n",
              "100742               150J  ...              MINR        0.0        0.0   \n",
              "100743  BEAVER DHC-2 MK.1  ...              NONE        0.0        0.0   \n",
              "100744          PA-28-181  ...              NONE        0.0        0.0   \n",
              "100745            777-223  ...              SERS        0.0        1.0   \n",
              "100748        EDI EXPRESS  ...              NONE        0.0        0.0   \n",
              "\n",
              "       inj_tot_m inj_tot_n wx_cond_basic Occurrence_No broad phase of flight  \\\n",
              "1311         NaN       NaN           IMC           2.0              Approach   \n",
              "1899         NaN       4.0           VMC           2.0               Landing   \n",
              "2275         1.0       2.0           VMC           2.0               Descent   \n",
              "2371         NaN       NaN           VMC           3.0               Descent   \n",
              "2800         NaN       NaN           VMC           2.0               Takeoff   \n",
              "...          ...       ...           ...           ...                   ...   \n",
              "100742       0.0       1.0           VMC           NaN                   NaN   \n",
              "100743       0.0       5.0           NaN           NaN                   NaN   \n",
              "100744       0.0       2.0           NaN           NaN                   NaN   \n",
              "100745       1.0     217.0           NaN           NaN                   NaN   \n",
              "100748       0.0       1.0           VMC           NaN                   NaN   \n",
              "\n",
              "                                 specific phase of flight  \\\n",
              "1311    Approach - final approach fix (FAF)/outer mark...   \n",
              "1899                            Emergency descent/landing   \n",
              "2275                               Descent - uncontrolled   \n",
              "2371                               Descent - uncontrolled   \n",
              "2800                              Takeoff - initial climb   \n",
              "...                                                   ...   \n",
              "100742                                                NaN   \n",
              "100743                                                NaN   \n",
              "100744                                                NaN   \n",
              "100745                                                NaN   \n",
              "100748                                                NaN   \n",
              "\n",
              "                                    Occurrence  \n",
              "1311           In flight collision with object  \n",
              "1899                            Forced landing  \n",
              "2275    In flight collision with terrain/water  \n",
              "2371           In flight collision with object  \n",
              "2800               Loss of control - in flight  \n",
              "...                                        ...  \n",
              "100742                                     NaN  \n",
              "100743                                     NaN  \n",
              "100744                                     NaN  \n",
              "100745                                     NaN  \n",
              "100748                                     NaN  \n",
              "\n",
              "[28608 rows x 34 columns]>"
            ]
          },
          "metadata": {},
          "execution_count": 16
        }
      ]
    },
    {
      "cell_type": "code",
      "source": [
        "# exporting to csv for backup purposes\n",
        "from google.colab import drive\n",
        "drive.mount('/content/drive')\n",
        "path = '/content/drive/My Drive/df_unique_aircraft_event_usa_airplanes.csv'\n",
        "with open(path, 'w', encoding = 'utf-8-sig') as f:\n",
        " df_unique_aircraft_event_usa_airplanes.to_csv(f)"
      ],
      "metadata": {
        "colab": {
          "base_uri": "https://localhost:8080/"
        },
        "id": "ij6XluBhFwIv",
        "outputId": "3fec5299-e893-4d5f-9d16-5e44e302b792"
      },
      "execution_count": null,
      "outputs": [
        {
          "output_type": "stream",
          "name": "stdout",
          "text": [
            "Mounted at /content/drive\n"
          ]
        }
      ]
    },
    {
      "cell_type": "code",
      "source": [
        "# exporting to csv for backup purposes\n",
        "#from google.colab import drive\n",
        "#drive.mount('/content/drive')\n",
        "path = '/content/drive/My Drive/df_unique_aircraft_event_usa.csv'\n",
        "with open(path, 'w', encoding = 'utf-8-sig') as f:\n",
        " df_unique_aircraft_event_usa.to_csv(f)"
      ],
      "metadata": {
        "id": "ner-Gc1XGArg"
      },
      "execution_count": null,
      "outputs": []
    },
    {
      "cell_type": "code",
      "source": [
        "# exporting to csv for backup purposes\n",
        "#from google.colab import drive\n",
        "#drive.mount('/content/drive')\n",
        "path = '/content/drive/My Drive/df_unique_aircraft_event.csv'\n",
        "with open(path, 'w', encoding = 'utf-8-sig') as f:\n",
        " df_unique_aircraft_event.to_csv(f)"
      ],
      "metadata": {
        "id": "vV-X0LZXI9V9"
      },
      "execution_count": null,
      "outputs": []
    },
    {
      "cell_type": "code",
      "source": [
        "# exporting to csv for backup purposes\n",
        "#from google.colab import drive\n",
        "#drive.mount('/content/drive')\n",
        "path = '/content/drive/My Drive/df_unique_aircraft_event_airplanes.csv'\n",
        "with open(path, 'w', encoding = 'utf-8-sig') as f:\n",
        " df_unique_aircraft_event_airplanes.to_csv(f)"
      ],
      "metadata": {
        "id": "YaQt3UNaK5OX"
      },
      "execution_count": null,
      "outputs": []
    }
  ]
}