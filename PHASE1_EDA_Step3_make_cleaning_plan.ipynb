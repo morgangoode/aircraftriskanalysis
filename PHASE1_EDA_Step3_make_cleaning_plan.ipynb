{
  "nbformat": 4,
  "nbformat_minor": 0,
  "metadata": {
    "colab": {
      "provenance": []
    },
    "kernelspec": {
      "name": "python3",
      "display_name": "Python 3"
    },
    "language_info": {
      "name": "python"
    }
  },
  "cells": [
    {
      "cell_type": "markdown",
      "source": [
        "#Questions and tasks as a result of the exploration below (in no particular order):\n",
        "\n",
        "\n",
        "* Exclude amatuer built from main dataset or just filter? = yes, (confirm the nans aren't just N/A because the manufacturer is clearly professional)\n",
        "* clean up location column \n",
        "* consolidate and compare aircraft categories\n",
        "* triple check missing values\n",
        "* quadruple check that we aren't missing any US records\n",
        "* make some charts to see:\n",
        "  * aircraft category freq\n",
        "  * city/state freq\n",
        "  * weather condition freq (if time)\n",
        "  * phase of flight (other variables such as repair or aircraft age? )\n",
        "* look at data re: flight volume to contextualize\n",
        "* look at what type of flights (purpose, aircraft) are more prevalent in an area\n",
        "* find correlations \n",
        "\n",
        "\n",
        "\n",
        "\n"
      ],
      "metadata": {
        "id": "MSSdFJoq51sY"
      }
    },
    {
      "cell_type": "markdown",
      "source": [
        "NAN VALUES OF CONCERN\n",
        "*amateur built\n",
        "*injury severity\n"
      ],
      "metadata": {
        "id": "WpaHeVZU79pY"
      }
    },
    {
      "cell_type": "code",
      "execution_count": null,
      "metadata": {
        "colab": {
          "base_uri": "https://localhost:8080/",
          "height": 73
        },
        "id": "IKp8k2Zz4U0G",
        "outputId": "2f4aec5e-01c6-4f36-8bda-95185a8fffa3"
      },
      "outputs": [
        {
          "output_type": "display_data",
          "data": {
            "text/plain": [
              "<IPython.core.display.HTML object>"
            ],
            "text/html": [
              "\n",
              "     <input type=\"file\" id=\"files-f12a712b-2ccb-4a94-8115-6bb1e5e6bd6a\" name=\"files[]\" multiple disabled\n",
              "        style=\"border:none\" />\n",
              "     <output id=\"result-f12a712b-2ccb-4a94-8115-6bb1e5e6bd6a\">\n",
              "      Upload widget is only available when the cell has been executed in the\n",
              "      current browser session. Please rerun this cell to enable.\n",
              "      </output>\n",
              "      <script>// Copyright 2017 Google LLC\n",
              "//\n",
              "// Licensed under the Apache License, Version 2.0 (the \"License\");\n",
              "// you may not use this file except in compliance with the License.\n",
              "// You may obtain a copy of the License at\n",
              "//\n",
              "//      http://www.apache.org/licenses/LICENSE-2.0\n",
              "//\n",
              "// Unless required by applicable law or agreed to in writing, software\n",
              "// distributed under the License is distributed on an \"AS IS\" BASIS,\n",
              "// WITHOUT WARRANTIES OR CONDITIONS OF ANY KIND, either express or implied.\n",
              "// See the License for the specific language governing permissions and\n",
              "// limitations under the License.\n",
              "\n",
              "/**\n",
              " * @fileoverview Helpers for google.colab Python module.\n",
              " */\n",
              "(function(scope) {\n",
              "function span(text, styleAttributes = {}) {\n",
              "  const element = document.createElement('span');\n",
              "  element.textContent = text;\n",
              "  for (const key of Object.keys(styleAttributes)) {\n",
              "    element.style[key] = styleAttributes[key];\n",
              "  }\n",
              "  return element;\n",
              "}\n",
              "\n",
              "// Max number of bytes which will be uploaded at a time.\n",
              "const MAX_PAYLOAD_SIZE = 100 * 1024;\n",
              "\n",
              "function _uploadFiles(inputId, outputId) {\n",
              "  const steps = uploadFilesStep(inputId, outputId);\n",
              "  const outputElement = document.getElementById(outputId);\n",
              "  // Cache steps on the outputElement to make it available for the next call\n",
              "  // to uploadFilesContinue from Python.\n",
              "  outputElement.steps = steps;\n",
              "\n",
              "  return _uploadFilesContinue(outputId);\n",
              "}\n",
              "\n",
              "// This is roughly an async generator (not supported in the browser yet),\n",
              "// where there are multiple asynchronous steps and the Python side is going\n",
              "// to poll for completion of each step.\n",
              "// This uses a Promise to block the python side on completion of each step,\n",
              "// then passes the result of the previous step as the input to the next step.\n",
              "function _uploadFilesContinue(outputId) {\n",
              "  const outputElement = document.getElementById(outputId);\n",
              "  const steps = outputElement.steps;\n",
              "\n",
              "  const next = steps.next(outputElement.lastPromiseValue);\n",
              "  return Promise.resolve(next.value.promise).then((value) => {\n",
              "    // Cache the last promise value to make it available to the next\n",
              "    // step of the generator.\n",
              "    outputElement.lastPromiseValue = value;\n",
              "    return next.value.response;\n",
              "  });\n",
              "}\n",
              "\n",
              "/**\n",
              " * Generator function which is called between each async step of the upload\n",
              " * process.\n",
              " * @param {string} inputId Element ID of the input file picker element.\n",
              " * @param {string} outputId Element ID of the output display.\n",
              " * @return {!Iterable<!Object>} Iterable of next steps.\n",
              " */\n",
              "function* uploadFilesStep(inputId, outputId) {\n",
              "  const inputElement = document.getElementById(inputId);\n",
              "  inputElement.disabled = false;\n",
              "\n",
              "  const outputElement = document.getElementById(outputId);\n",
              "  outputElement.innerHTML = '';\n",
              "\n",
              "  const pickedPromise = new Promise((resolve) => {\n",
              "    inputElement.addEventListener('change', (e) => {\n",
              "      resolve(e.target.files);\n",
              "    });\n",
              "  });\n",
              "\n",
              "  const cancel = document.createElement('button');\n",
              "  inputElement.parentElement.appendChild(cancel);\n",
              "  cancel.textContent = 'Cancel upload';\n",
              "  const cancelPromise = new Promise((resolve) => {\n",
              "    cancel.onclick = () => {\n",
              "      resolve(null);\n",
              "    };\n",
              "  });\n",
              "\n",
              "  // Wait for the user to pick the files.\n",
              "  const files = yield {\n",
              "    promise: Promise.race([pickedPromise, cancelPromise]),\n",
              "    response: {\n",
              "      action: 'starting',\n",
              "    }\n",
              "  };\n",
              "\n",
              "  cancel.remove();\n",
              "\n",
              "  // Disable the input element since further picks are not allowed.\n",
              "  inputElement.disabled = true;\n",
              "\n",
              "  if (!files) {\n",
              "    return {\n",
              "      response: {\n",
              "        action: 'complete',\n",
              "      }\n",
              "    };\n",
              "  }\n",
              "\n",
              "  for (const file of files) {\n",
              "    const li = document.createElement('li');\n",
              "    li.append(span(file.name, {fontWeight: 'bold'}));\n",
              "    li.append(span(\n",
              "        `(${file.type || 'n/a'}) - ${file.size} bytes, ` +\n",
              "        `last modified: ${\n",
              "            file.lastModifiedDate ? file.lastModifiedDate.toLocaleDateString() :\n",
              "                                    'n/a'} - `));\n",
              "    const percent = span('0% done');\n",
              "    li.appendChild(percent);\n",
              "\n",
              "    outputElement.appendChild(li);\n",
              "\n",
              "    const fileDataPromise = new Promise((resolve) => {\n",
              "      const reader = new FileReader();\n",
              "      reader.onload = (e) => {\n",
              "        resolve(e.target.result);\n",
              "      };\n",
              "      reader.readAsArrayBuffer(file);\n",
              "    });\n",
              "    // Wait for the data to be ready.\n",
              "    let fileData = yield {\n",
              "      promise: fileDataPromise,\n",
              "      response: {\n",
              "        action: 'continue',\n",
              "      }\n",
              "    };\n",
              "\n",
              "    // Use a chunked sending to avoid message size limits. See b/62115660.\n",
              "    let position = 0;\n",
              "    do {\n",
              "      const length = Math.min(fileData.byteLength - position, MAX_PAYLOAD_SIZE);\n",
              "      const chunk = new Uint8Array(fileData, position, length);\n",
              "      position += length;\n",
              "\n",
              "      const base64 = btoa(String.fromCharCode.apply(null, chunk));\n",
              "      yield {\n",
              "        response: {\n",
              "          action: 'append',\n",
              "          file: file.name,\n",
              "          data: base64,\n",
              "        },\n",
              "      };\n",
              "\n",
              "      let percentDone = fileData.byteLength === 0 ?\n",
              "          100 :\n",
              "          Math.round((position / fileData.byteLength) * 100);\n",
              "      percent.textContent = `${percentDone}% done`;\n",
              "\n",
              "    } while (position < fileData.byteLength);\n",
              "  }\n",
              "\n",
              "  // All done.\n",
              "  yield {\n",
              "    response: {\n",
              "      action: 'complete',\n",
              "    }\n",
              "  };\n",
              "}\n",
              "\n",
              "scope.google = scope.google || {};\n",
              "scope.google.colab = scope.google.colab || {};\n",
              "scope.google.colab._files = {\n",
              "  _uploadFiles,\n",
              "  _uploadFilesContinue,\n",
              "};\n",
              "})(self);\n",
              "</script> "
            ]
          },
          "metadata": {}
        },
        {
          "output_type": "stream",
          "name": "stdout",
          "text": [
            "Saving df_usa_from_state_concat.csv to df_usa_from_state_concat.csv\n"
          ]
        }
      ],
      "source": [
        "# uploading file for flatiron lesson\n",
        "# source: https://towardsdatascience.com/3-ways-to-load-csv-files-into-colab-7c14fcbdcb92\n",
        "from google.colab import files\n",
        "uploaded = files.upload()"
      ]
    },
    {
      "cell_type": "code",
      "source": [
        "import pandas as pd\n",
        "import csv\n",
        "import numpy as np"
      ],
      "metadata": {
        "id": "fV3CynfM5YRq"
      },
      "execution_count": null,
      "outputs": []
    },
    {
      "cell_type": "code",
      "source": [
        "df = pd.read_csv('df_usa_from_state_concat.csv')"
      ],
      "metadata": {
        "id": "k9ZQ1q0A5jkz"
      },
      "execution_count": null,
      "outputs": []
    },
    {
      "cell_type": "code",
      "source": [
        "full_nan_count = df.isna().sum().sum()\n",
        "full_nan_count "
      ],
      "metadata": {
        "colab": {
          "base_uri": "https://localhost:8080/"
        },
        "id": "YtLm-Qrc_WYq",
        "outputId": "3ddc426c-bb8f-4a6a-d27f-dcbbeec35226"
      },
      "execution_count": null,
      "outputs": [
        {
          "output_type": "execute_result",
          "data": {
            "text/plain": [
              "102412"
            ]
          },
          "metadata": {},
          "execution_count": 24
        }
      ]
    },
    {
      "cell_type": "code",
      "source": [
        "#missing injury values might not matter as long as no one was injured\n",
        "#some of these could be N/A\n",
        "#look at the city and state ones \n",
        "#cut the ones where we don't know if it was amateur built (check record to confirm it's not boeing or something lol)\n",
        "#other missing values will only matter for certain analysis, it's okay if the base table has some missing values\n",
        "nan_count = df.isna().sum()\n",
        "nan_count"
      ],
      "metadata": {
        "colab": {
          "base_uri": "https://localhost:8080/"
        },
        "id": "4Aa4x28g_hH4",
        "outputId": "f44a91ab-f0b2-4d6d-ab26-71da89786c87"
      },
      "execution_count": null,
      "outputs": [
        {
          "output_type": "execute_result",
          "data": {
            "text/plain": [
              "Unnamed: 0                    0\n",
              "Event.Id                      0\n",
              "Investigation.Type            0\n",
              "Accident.Number               0\n",
              "Event.Date                    0\n",
              "Location                      0\n",
              "Country                       0\n",
              "Latitude                   3609\n",
              "Longitude                  3619\n",
              "Airport.Code               8709\n",
              "Airport.Name               8176\n",
              "Injury.Severity              69\n",
              "Aircraft.damage             547\n",
              "Aircraft.Category             0\n",
              "Registration.Number           7\n",
              "Make                          7\n",
              "Model                        21\n",
              "Amateur.Built                 5\n",
              "Number.of.Engines           798\n",
              "Engine.Type                2494\n",
              "FAR.Description               2\n",
              "Schedule                  23937\n",
              "Purpose.of.flight          1351\n",
              "Air.carrier               15290\n",
              "Total.Fatal.Injuries       3213\n",
              "Total.Serious.Injuries     3141\n",
              "Total.Minor.Injuries       2789\n",
              "Total.Uninjured             783\n",
              "Weather.Condition           485\n",
              "Broad.phase.of.flight     19322\n",
              "Report.Status              2329\n",
              "Publication.Date           1640\n",
              "State                        50\n",
              "City                         19\n",
              "dtype: int64"
            ]
          },
          "metadata": {},
          "execution_count": 25
        }
      ]
    },
    {
      "cell_type": "code",
      "source": [
        "df.columns"
      ],
      "metadata": {
        "colab": {
          "base_uri": "https://localhost:8080/"
        },
        "id": "3jwtYGM45pfC",
        "outputId": "e895cb40-de25-4e5e-abf0-5985c42fd934"
      },
      "execution_count": null,
      "outputs": [
        {
          "output_type": "execute_result",
          "data": {
            "text/plain": [
              "Index(['Unnamed: 0', 'Event.Id', 'Investigation.Type', 'Accident.Number',\n",
              "       'Event.Date', 'Location', 'Country', 'Latitude', 'Longitude',\n",
              "       'Airport.Code', 'Airport.Name', 'Injury.Severity', 'Aircraft.damage',\n",
              "       'Aircraft.Category', 'Registration.Number', 'Make', 'Model',\n",
              "       'Amateur.Built', 'Number.of.Engines', 'Engine.Type', 'FAR.Description',\n",
              "       'Schedule', 'Purpose.of.flight', 'Air.carrier', 'Total.Fatal.Injuries',\n",
              "       'Total.Serious.Injuries', 'Total.Minor.Injuries', 'Total.Uninjured',\n",
              "       'Weather.Condition', 'Broad.phase.of.flight', 'Report.Status',\n",
              "       'Publication.Date', 'State', 'City'],\n",
              "      dtype='object')"
            ]
          },
          "metadata": {},
          "execution_count": 4
        }
      ]
    },
    {
      "cell_type": "code",
      "source": [
        "df['Aircraft.damage'].values   "
      ],
      "metadata": {
        "colab": {
          "base_uri": "https://localhost:8080/"
        },
        "id": "ux1C7J86Al5a",
        "outputId": "1916f293-4ec5-47df-dd29-7287e35f69db"
      },
      "execution_count": null,
      "outputs": [
        {
          "output_type": "execute_result",
          "data": {
            "text/plain": [
              "array(['Destroyed', 'Substantial', 'Substantial', ..., 'Substantial',\n",
              "       'Substantial', 'Substantial'], dtype=object)"
            ]
          },
          "metadata": {},
          "execution_count": 29
        }
      ]
    },
    {
      "cell_type": "code",
      "source": [
        "df['Aircraft.damage'].unique()"
      ],
      "metadata": {
        "colab": {
          "base_uri": "https://localhost:8080/"
        },
        "id": "ScmkP-zqArjZ",
        "outputId": "d690fa5b-0ea3-4f20-967c-dac61b74d474"
      },
      "execution_count": null,
      "outputs": [
        {
          "output_type": "execute_result",
          "data": {
            "text/plain": [
              "array(['Destroyed', 'Substantial', 'Minor', nan, 'Unknown'], dtype=object)"
            ]
          },
          "metadata": {},
          "execution_count": 30
        }
      ]
    },
    {
      "cell_type": "code",
      "source": [
        "#investigate the unknowns and nans here\n",
        "df['Aircraft.damage'].value_counts()"
      ],
      "metadata": {
        "colab": {
          "base_uri": "https://localhost:8080/"
        },
        "id": "LZxwZ8mJAx1c",
        "outputId": "bc078a10-4721-47be-d03a-776850c3ea12"
      },
      "execution_count": null,
      "outputs": [
        {
          "output_type": "execute_result",
          "data": {
            "text/plain": [
              "Substantial    22155\n",
              "Destroyed       2862\n",
              "Minor            575\n",
              "Unknown           43\n",
              "Name: Aircraft.damage, dtype: int64"
            ]
          },
          "metadata": {},
          "execution_count": 31
        }
      ]
    },
    {
      "cell_type": "code",
      "source": [
        "df['Amateur.Built'].values"
      ],
      "metadata": {
        "colab": {
          "base_uri": "https://localhost:8080/"
        },
        "id": "tj2vonH07Atd",
        "outputId": "1116151a-75ec-4396-87f9-1b5700c7a86d"
      },
      "execution_count": null,
      "outputs": [
        {
          "output_type": "execute_result",
          "data": {
            "text/plain": [
              "array(['No', 'No', 'No', ..., 'No', 'No', 'No'], dtype=object)"
            ]
          },
          "metadata": {},
          "execution_count": 5
        }
      ]
    },
    {
      "cell_type": "code",
      "source": [
        "#investigate the nans here, filter the yes\n",
        "df['Amateur.Built'].unique()"
      ],
      "metadata": {
        "colab": {
          "base_uri": "https://localhost:8080/"
        },
        "id": "d_TqY_nw7VXF",
        "outputId": "a59c3451-988f-466f-c835-ab6490b19c2d"
      },
      "execution_count": null,
      "outputs": [
        {
          "output_type": "execute_result",
          "data": {
            "text/plain": [
              "array(['No', 'Yes', nan], dtype=object)"
            ]
          },
          "metadata": {},
          "execution_count": 6
        }
      ]
    },
    {
      "cell_type": "code",
      "source": [
        "df['Amateur.Built'].value_counts()"
      ],
      "metadata": {
        "colab": {
          "base_uri": "https://localhost:8080/"
        },
        "id": "aiug43FOAZBe",
        "outputId": "6c3ffec1-0e81-48a2-beb9-197aa2544e95"
      },
      "execution_count": null,
      "outputs": [
        {
          "output_type": "execute_result",
          "data": {
            "text/plain": [
              "No     22989\n",
              "Yes     3188\n",
              "Name: Amateur.Built, dtype: int64"
            ]
          },
          "metadata": {},
          "execution_count": 28
        }
      ]
    },
    {
      "cell_type": "code",
      "source": [
        "#investigate the nans here\n",
        "df['Injury.Severity'].unique()"
      ],
      "metadata": {
        "colab": {
          "base_uri": "https://localhost:8080/"
        },
        "id": "vFnUDtSR71OO",
        "outputId": "8990ecf7-803c-430c-dcc9-0e2970b36468"
      },
      "execution_count": null,
      "outputs": [
        {
          "output_type": "execute_result",
          "data": {
            "text/plain": [
              "array(['Fatal(3)', 'Non-Fatal', 'Fatal(2)', 'Fatal(1)', 'Fatal(4)',\n",
              "       'Incident', 'Fatal(8)', 'Fatal(5)', 'Fatal', nan, 'Minor',\n",
              "       'Serious', 'Fatal(6)', 'Fatal(14)', 'Fatal(16)', 'Fatal(9)',\n",
              "       'Fatal(17)', 'Fatal(228)', 'Fatal(12)', 'Fatal(7)', 'Fatal(10)',\n",
              "       'Fatal(13)', 'Fatal(27)', 'Fatal(65)', 'Fatal(11)'], dtype=object)"
            ]
          },
          "metadata": {},
          "execution_count": 7
        }
      ]
    },
    {
      "cell_type": "code",
      "source": [
        "#all these ranked fatalities pose an issue\n",
        "df['Injury.Severity'].value_counts()"
      ],
      "metadata": {
        "colab": {
          "base_uri": "https://localhost:8080/"
        },
        "id": "lf-6ZKUQ_CH8",
        "outputId": "4bfc4e43-cb0a-4f40-d775-3ccb7ba2a6ff"
      },
      "execution_count": null,
      "outputs": [
        {
          "output_type": "execute_result",
          "data": {
            "text/plain": [
              "Non-Fatal     21507\n",
              "Fatal          3257\n",
              "Fatal(1)        393\n",
              "Fatal(2)        242\n",
              "Minor           181\n",
              "Incident        164\n",
              "Serious         138\n",
              "Fatal(3)         93\n",
              "Fatal(4)         73\n",
              "Fatal(5)         20\n",
              "Fatal(6)         14\n",
              "Fatal(7)         10\n",
              "Fatal(8)          5\n",
              "Fatal(10)         4\n",
              "Fatal(12)         3\n",
              "Fatal(65)         1\n",
              "Fatal(27)         1\n",
              "Fatal(13)         1\n",
              "Fatal(14)         1\n",
              "Fatal(228)        1\n",
              "Fatal(17)         1\n",
              "Fatal(9)          1\n",
              "Fatal(16)         1\n",
              "Fatal(11)         1\n",
              "Name: Injury.Severity, dtype: int64"
            ]
          },
          "metadata": {},
          "execution_count": 22
        }
      ]
    },
    {
      "cell_type": "code",
      "source": [
        "#consolidate these\n",
        "df['Aircraft.Category'].unique()"
      ],
      "metadata": {
        "colab": {
          "base_uri": "https://localhost:8080/"
        },
        "id": "OVl6B8sQ8GAQ",
        "outputId": "cc502f8e-1c69-4eb0-b6cd-eb1ade279f94"
      },
      "execution_count": null,
      "outputs": [
        {
          "output_type": "execute_result",
          "data": {
            "text/plain": [
              "array(['Airplane', 'Helicopter', 'Glider', 'Weight-Shift',\n",
              "       'Powered Parachute', 'Balloon', 'Gyrocraft', 'Powered-Lift',\n",
              "       'Ultralight', 'WSFT', 'Blimp', 'Rocket', 'ULTR'], dtype=object)"
            ]
          },
          "metadata": {},
          "execution_count": 8
        }
      ]
    },
    {
      "cell_type": "code",
      "source": [
        "df['Aircraft.Category'].value_counts()"
      ],
      "metadata": {
        "colab": {
          "base_uri": "https://localhost:8080/"
        },
        "id": "lOncImPp9F50",
        "outputId": "dbe916b7-b285-425a-e2af-02d360671a92"
      },
      "execution_count": null,
      "outputs": [
        {
          "output_type": "execute_result",
          "data": {
            "text/plain": [
              "Airplane             22550\n",
              "Helicopter            2499\n",
              "Glider                 492\n",
              "Balloon                224\n",
              "Gyrocraft              152\n",
              "Weight-Shift           135\n",
              "Powered Parachute       89\n",
              "Ultralight              24\n",
              "WSFT                     9\n",
              "Powered-Lift             3\n",
              "Blimp                    3\n",
              "Rocket                   1\n",
              "ULTR                     1\n",
              "Name: Aircraft.Category, dtype: int64"
            ]
          },
          "metadata": {},
          "execution_count": 14
        }
      ]
    },
    {
      "cell_type": "code",
      "source": [
        "#investigate the nans here\n",
        "df['Purpose.of.flight'].unique()"
      ],
      "metadata": {
        "colab": {
          "base_uri": "https://localhost:8080/"
        },
        "id": "yZ20fxAd8NO1",
        "outputId": "912d67e7-ad07-4c15-c9e2-89085fdff2d9"
      },
      "execution_count": null,
      "outputs": [
        {
          "output_type": "execute_result",
          "data": {
            "text/plain": [
              "array(['Personal', 'Unknown', 'Instructional', 'Ferry', 'Public Aircraft',\n",
              "       'Business', nan, 'Positioning', 'Other Work Use',\n",
              "       'Executive/corporate', 'External Load', 'Public Aircraft - State',\n",
              "       'Public Aircraft - Federal', 'Aerial Observation',\n",
              "       'Public Aircraft - Local', 'Skydiving', 'Flight Test',\n",
              "       'Firefighting', 'PUBS', 'Aerial Application', 'Air Race/show',\n",
              "       'Banner Tow', 'Air Race show', 'Glider Tow', 'Air Drop', 'ASHO',\n",
              "       'PUBL'], dtype=object)"
            ]
          },
          "metadata": {},
          "execution_count": 9
        }
      ]
    },
    {
      "cell_type": "code",
      "source": [
        "#investigate the nans + unknowns here\n",
        "df['Purpose.of.flight'].value_counts()"
      ],
      "metadata": {
        "colab": {
          "base_uri": "https://localhost:8080/"
        },
        "id": "cRf4C5cV-vtO",
        "outputId": "b6138582-66da-4dfd-e713-b08dcab85e4d"
      },
      "execution_count": null,
      "outputs": [
        {
          "output_type": "execute_result",
          "data": {
            "text/plain": [
              "Personal                     16322\n",
              "Instructional                 3373\n",
              "Aerial Application            1248\n",
              "Business                       830\n",
              "Unknown                        670\n",
              "Positioning                    496\n",
              "Other Work Use                 334\n",
              "Aerial Observation             272\n",
              "Flight Test                    248\n",
              "Ferry                          166\n",
              "Skydiving                      151\n",
              "Executive/corporate            149\n",
              "External Load                   96\n",
              "Air Race show                   79\n",
              "Public Aircraft - Federal       74\n",
              "Banner Tow                      65\n",
              "Public Aircraft - Local         55\n",
              "Public Aircraft - State         54\n",
              "Public Aircraft                 53\n",
              "Glider Tow                      46\n",
              "Firefighting                    24\n",
              "Air Race/show                    8\n",
              "Air Drop                         7\n",
              "ASHO                             6\n",
              "PUBS                             4\n",
              "PUBL                             1\n",
              "Name: Purpose.of.flight, dtype: int64"
            ]
          },
          "metadata": {},
          "execution_count": 21
        }
      ]
    },
    {
      "cell_type": "code",
      "source": [
        "#investigate the nans here\n",
        "df['Total.Fatal.Injuries'].unique()"
      ],
      "metadata": {
        "colab": {
          "base_uri": "https://localhost:8080/"
        },
        "id": "blop50tP8aFV",
        "outputId": "fea90ac0-e8a6-4cf5-bae2-476197d5e244"
      },
      "execution_count": null,
      "outputs": [
        {
          "output_type": "execute_result",
          "data": {
            "text/plain": [
              "array([  3.,   0.,   2.,   1.,  nan,   4.,   8.,   5.,   6.,  10.,   9.,\n",
              "         7.,  14.,  16.,  17., 228.,  12.,  11.,  13.,  27.,  65.,  49.])"
            ]
          },
          "metadata": {},
          "execution_count": 10
        }
      ]
    },
    {
      "cell_type": "code",
      "source": [
        "df['Total.Fatal.Injuries'].value_counts()"
      ],
      "metadata": {
        "colab": {
          "base_uri": "https://localhost:8080/"
        },
        "id": "Xzdp2Z1Q-b4l",
        "outputId": "cdf8f561-b19e-4bb5-9138-8a13d915e4a7"
      },
      "execution_count": null,
      "outputs": [
        {
          "output_type": "execute_result",
          "data": {
            "text/plain": [
              "0.0      18861\n",
              "1.0       2279\n",
              "2.0       1138\n",
              "3.0        330\n",
              "4.0        205\n",
              "5.0         67\n",
              "6.0         33\n",
              "7.0         18\n",
              "10.0         8\n",
              "8.0          8\n",
              "9.0          7\n",
              "12.0         3\n",
              "14.0         2\n",
              "16.0         2\n",
              "11.0         2\n",
              "17.0         1\n",
              "228.0        1\n",
              "13.0         1\n",
              "27.0         1\n",
              "65.0         1\n",
              "49.0         1\n",
              "Name: Total.Fatal.Injuries, dtype: int64"
            ]
          },
          "metadata": {},
          "execution_count": 18
        }
      ]
    },
    {
      "cell_type": "code",
      "source": [
        "df['Total.Fatal.Injuries'].median"
      ],
      "metadata": {
        "colab": {
          "base_uri": "https://localhost:8080/"
        },
        "id": "4DR_jJf9-lDD",
        "outputId": "ca58f928-8b0c-4eef-a522-2a76f9b4bc2e"
      },
      "execution_count": null,
      "outputs": [
        {
          "output_type": "execute_result",
          "data": {
            "text/plain": [
              "<bound method NDFrame._add_numeric_operations.<locals>.median of 0        3.0\n",
              "1        0.0\n",
              "2        0.0\n",
              "3        0.0\n",
              "4        0.0\n",
              "        ... \n",
              "26177    0.0\n",
              "26178    0.0\n",
              "26179    0.0\n",
              "26180    1.0\n",
              "26181    0.0\n",
              "Name: Total.Fatal.Injuries, Length: 26182, dtype: float64>"
            ]
          },
          "metadata": {},
          "execution_count": 19
        }
      ]
    },
    {
      "cell_type": "code",
      "source": [
        "df['Total.Fatal.Injuries'].mean"
      ],
      "metadata": {
        "colab": {
          "base_uri": "https://localhost:8080/"
        },
        "id": "1Pgob0My-rAo",
        "outputId": "f759a326-83be-475f-c580-2406f3ba7024"
      },
      "execution_count": null,
      "outputs": [
        {
          "output_type": "execute_result",
          "data": {
            "text/plain": [
              "<bound method NDFrame._add_numeric_operations.<locals>.mean of 0        3.0\n",
              "1        0.0\n",
              "2        0.0\n",
              "3        0.0\n",
              "4        0.0\n",
              "        ... \n",
              "26177    0.0\n",
              "26178    0.0\n",
              "26179    0.0\n",
              "26180    1.0\n",
              "26181    0.0\n",
              "Name: Total.Fatal.Injuries, Length: 26182, dtype: float64>"
            ]
          },
          "metadata": {},
          "execution_count": 20
        }
      ]
    },
    {
      "cell_type": "code",
      "source": [
        "df['Total.Uninjured'].unique()"
      ],
      "metadata": {
        "colab": {
          "base_uri": "https://localhost:8080/"
        },
        "id": "dezIGRNs8lBl",
        "outputId": "1168c327-4909-4174-c24f-0e3b80358cde"
      },
      "execution_count": null,
      "outputs": [
        {
          "output_type": "execute_result",
          "data": {
            "text/plain": [
              "array([  0.,   4.,   1.,   2.,  36.,   3.,   6.,  10.,   5.,   7.,  nan,\n",
              "         8.,   9.,  17., 236., 140.,  12.,  13.,  15.,  37., 251.,  23.,\n",
              "        53., 162.,  70., 120.,  49.,  14.,  59.,  79., 143.,  18.,  60.,\n",
              "       119.,  68., 113., 203., 588., 157.,  98., 146.,  28., 208., 112.,\n",
              "        61., 311.,  52., 129.,  47., 142.,  83.,  31., 268., 109., 124.,\n",
              "        27.,  84., 133.,  77., 122., 165., 190., 151.,  97.,  51., 117.,\n",
              "        21., 186., 174., 147.,  80.,  65., 121.,  30., 197.,  95.,  11.,\n",
              "       141., 290., 272., 220.,  20., 102., 136.,  57.,  96., 324., 138.,\n",
              "        99., 150., 192., 185., 148., 178.,  22., 239., 108., 128.,  73.,\n",
              "       132.,  67., 306., 250., 257., 194., 111., 130., 298., 175.,  81.,\n",
              "       182., 279.,  39., 278., 144., 333., 199., 169., 288., 406., 126.,\n",
              "       338.,  82.,  29., 172.,  16., 149., 100., 216., 501., 125., 263.,\n",
              "        50.,  32.,  45., 184., 139.,  63.,  85.,  24.,  56.,  41.,  64.,\n",
              "       189., 114., 214.,  74., 393., 291.,  43., 243., 378., 217., 134.,\n",
              "       183.,  25.,  92.,  44., 156., 135.,  76., 166., 155., 154., 168.,\n",
              "       145., 179.,  33., 394., 115., 193., 101., 137., 152., 104., 295.,\n",
              "       123., 107., 131.,  55.,  72., 454., 158., 159.,  71.,  48.,  34.,\n",
              "        38.,  75., 205., 235., 188., 153., 176., 170.,  58., 180., 127.,\n",
              "        69., 282., 253., 285., 576., 275., 215., 210., 228., 276., 110.,\n",
              "       163.,  66.,  46., 222.,  40., 181., 177., 314., 352.,  88., 244.,\n",
              "       118., 105.,  35., 227.,  54., 106., 261., 289., 270., 301.,  19.,\n",
              "       198.])"
            ]
          },
          "metadata": {},
          "execution_count": 11
        }
      ]
    },
    {
      "cell_type": "code",
      "source": [
        "df['Total.Uninjured'].value_counts()"
      ],
      "metadata": {
        "colab": {
          "base_uri": "https://localhost:8080/"
        },
        "id": "KcSclEqU9wu_",
        "outputId": "34f06c41-a315-4323-df59-5a7142633c1b"
      },
      "execution_count": null,
      "outputs": [
        {
          "output_type": "execute_result",
          "data": {
            "text/plain": [
              "0.0      8627\n",
              "1.0      8503\n",
              "2.0      5319\n",
              "3.0      1191\n",
              "4.0       688\n",
              "         ... \n",
              "125.0       1\n",
              "100.0       1\n",
              "16.0        1\n",
              "338.0       1\n",
              "198.0       1\n",
              "Name: Total.Uninjured, Length: 231, dtype: int64"
            ]
          },
          "metadata": {},
          "execution_count": 17
        }
      ]
    },
    {
      "cell_type": "code",
      "source": [
        "#investigate the nans here\n",
        "df['Total.Minor.Injuries'].unique()"
      ],
      "metadata": {
        "colab": {
          "base_uri": "https://localhost:8080/"
        },
        "id": "qLiN1acz8xnA",
        "outputId": "ebe69be2-0d3a-4283-d749-038de082d51e"
      },
      "execution_count": null,
      "outputs": [
        {
          "output_type": "execute_result",
          "data": {
            "text/plain": [
              "array([ 0.,  3.,  1.,  2.,  4., nan,  6.,  5.,  9., 25., 14., 42., 50.,\n",
              "       17.,  7., 24., 33., 12.,  8., 13., 19.])"
            ]
          },
          "metadata": {},
          "execution_count": 12
        }
      ]
    },
    {
      "cell_type": "code",
      "source": [
        "df['Total.Minor.Injuries'].value_counts()"
      ],
      "metadata": {
        "colab": {
          "base_uri": "https://localhost:8080/"
        },
        "id": "TujsfHSP9rCO",
        "outputId": "82cc8289-b4af-40ce-e8a4-e9eb481de2ad"
      },
      "execution_count": null,
      "outputs": [
        {
          "output_type": "execute_result",
          "data": {
            "text/plain": [
              "0.0     19509\n",
              "1.0      2878\n",
              "2.0       763\n",
              "3.0       144\n",
              "4.0        61\n",
              "5.0        11\n",
              "6.0         7\n",
              "7.0         5\n",
              "9.0         3\n",
              "8.0         2\n",
              "24.0        1\n",
              "13.0        1\n",
              "12.0        1\n",
              "33.0        1\n",
              "42.0        1\n",
              "17.0        1\n",
              "50.0        1\n",
              "14.0        1\n",
              "25.0        1\n",
              "19.0        1\n",
              "Name: Total.Minor.Injuries, dtype: int64"
            ]
          },
          "metadata": {},
          "execution_count": 16
        }
      ]
    },
    {
      "cell_type": "code",
      "source": [
        "#investigate the nans here\n",
        "df['Total.Serious.Injuries'].unique()"
      ],
      "metadata": {
        "colab": {
          "base_uri": "https://localhost:8080/"
        },
        "id": "JS3Zxzm_84RS",
        "outputId": "99ba0e25-9007-4a52-9b72-6a2cda78fc22"
      },
      "execution_count": null,
      "outputs": [
        {
          "output_type": "execute_result",
          "data": {
            "text/plain": [
              "array([  0.,   2.,   1.,  nan,   8.,   3.,   6.,   4.,  88.,   5.,  25.,\n",
              "         7., 137.,  41.,  12.,  26.,  20.,  11.,  22.,   9.,  19.,  10.,\n",
              "       125.,  27.,  13.])"
            ]
          },
          "metadata": {},
          "execution_count": 13
        }
      ]
    },
    {
      "cell_type": "code",
      "source": [
        "df['Total.Serious.Injuries'].value_counts()"
      ],
      "metadata": {
        "colab": {
          "base_uri": "https://localhost:8080/"
        },
        "id": "EPImjUc-9JCn",
        "outputId": "d02127ee-1309-41fa-a56f-a5bf9feca012"
      },
      "execution_count": null,
      "outputs": [
        {
          "output_type": "execute_result",
          "data": {
            "text/plain": [
              "0.0      18755\n",
              "1.0       2954\n",
              "2.0        994\n",
              "3.0        196\n",
              "4.0         76\n",
              "5.0         19\n",
              "6.0         13\n",
              "7.0          9\n",
              "8.0          4\n",
              "9.0          4\n",
              "10.0         3\n",
              "125.0        2\n",
              "11.0         1\n",
              "27.0         1\n",
              "19.0         1\n",
              "22.0         1\n",
              "41.0         1\n",
              "20.0         1\n",
              "26.0         1\n",
              "12.0         1\n",
              "137.0        1\n",
              "25.0         1\n",
              "88.0         1\n",
              "13.0         1\n",
              "Name: Total.Serious.Injuries, dtype: int64"
            ]
          },
          "metadata": {},
          "execution_count": 15
        }
      ]
    }
  ]
}